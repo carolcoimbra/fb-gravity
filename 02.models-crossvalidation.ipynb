{
 "cells": [
  {
   "cell_type": "markdown",
   "metadata": {},
   "source": [
    "# The Value of Cultural Similarity for Predicting Migration\n",
    "\n",
    "\n",
    "## Carolina Coimbra Vieira, Sophie Lohmann, Emilio Zagheni"
   ]
  },
  {
   "cell_type": "markdown",
   "metadata": {},
   "source": [
    "**Variables**  \n",
    "    *`iso_o, iso_d`*: ISO codes in three characters, refering to the country of origin and destination, respectively. \n",
    "    \n",
    "+ **CEPII Language**  \n",
    "    *`col`*: common official language (0 or 1); 19 languages considered.    \n",
    "    *`csl`*: p(two random people understand a common language) >= *`cnl`*.  \n",
    "    *`cnl`*: p(two random people share a native language).  \n",
    "    *`lp`*: lexical closeness of native langauges; set to 0 when *`cnl`* is 1 or 0 also set to 0 if there is no dominant native language (e.g. India).  \n",
    "    *`lp1`*: tree based. 4 possibilities, 2 languages belonging to:  \n",
    "        0: separate family trees  \n",
    "        0.25: different branches of same tree (English and French),  \n",
    "        0.50: the same branch (English and German),  \n",
    "        0.75: the same sub-branch (German and Dutch)  \n",
    "    *`lp2`*: lexical similarity of 200 words, continuous scale 0-100 normalized *`lp1`*, *`lp2`* so coefficients are comparable to each other and *`col, prox1, prox2`* are unadjusted versions of *`lp1`* and *`lp2`*?  \n",
    "    \n",
    "  \n",
    "+ **CEPII Distance**  \n",
    "    *`contig`*: dummy variable indicating whether the two countries are contiguous (share a land border).  \n",
    "    *`comlang_off, comlang_ethno`*: dummy variable indicating whether the two countries share a common language. There are two common languages dummies, the first one based on the fact that two countries share a common official language, and the other one set to one if a language is spoken by at least 9% of the population in both countries.\n",
    "    *`dist`*: Geodesic distances from lat/long of most populous cities (simple distance).   \n",
    "    *`distcap`*: geodesic distance between capital cities (simple distance).    \n",
    "    *`distw`*: population weighted distance, theta = 1 (weighted distance).   \n",
    "    *`distwces`*: population weighted distance, theta = -1, which corresponds to the usual coefficient estimated from gravity models of bilateral trade flows (weighted distance).  \n",
    "    *`shared_hist`*: dummy variable indicating whether the two countries have: *`colony, comcol, curcol, col45, smctry`*     \n",
    "    \n",
    "    \n",
    "+ **CEPII Geographic**   \n",
    "    `area_o, area_d`: Country’s area in $km^2$.   \n",
    "     \n",
    "    \n",
    "+ **UN Population 2019**   \n",
    "    `pop_o, pop_d`: Country’s population.    \n",
    "    \n",
    "            \n",
    "+ **World Bank GDP constant 2010 US dollar 2019**   \n",
    "    `GDP_o, GDP_d`: Country’s GDP in US dollar.    \n",
    "    \n",
    "    \n",
    "+ **Abel, Guy; E. Cohen, Joel (2019) Migrant Flow 2015-2020**   \n",
    "    `m_flow_` (sd_drop_neg, sd_rev_neg, mig_rate, da_min_open, da_min_closed, da_pb_closed): migrant flow between two countries (o and d). \n",
    "    \n",
    "    \n",
    "+ **UN Migrant Stock 2019**   \n",
    "    `m_stock`: migrant stock between two countries (o and d).   \n",
    "    \n",
    "    \n",
    "+ **Facebook Food Cultural Similarity**  \n",
    "    *`CD_nonsymm, CD_symm`*: cosine similarity between the vectors representing each country by the **top k dishes from origin country** and the **top (almost) w dishes** (top k dishes in all the countries), respectively.  "
   ]
  },
  {
   "cell_type": "code",
   "execution_count": 1,
   "metadata": {},
   "outputs": [
    {
     "name": "stderr",
     "output_type": "stream",
     "text": [
      "Warning message:\n",
      "“replacing previous import ‘lifecycle::last_warnings’ by ‘rlang::last_warnings’ when loading ‘pillar’”Warning message:\n",
      "“replacing previous import ‘lifecycle::last_warnings’ by ‘rlang::last_warnings’ when loading ‘tibble’”"
     ]
    }
   ],
   "source": [
    "shhh <- suppressPackageStartupMessages # It's a library, so shhh!\n",
    "\n",
    "shhh(library(tidyr))\n",
    "shhh(library(dplyr))\n",
    "shhh(library(readr))\n",
    "shhh(library(MASS))\n",
    "shhh(library(ggeffects))\n",
    "shhh(library(ggplot2))\n",
    "shhh(library(splines))\n",
    "shhh(library(repr))\n",
    "shhh(library(modelr))\n",
    "shhh(library(broom))\n",
    "shhh(library(scatterPlotMatrix))\n",
    "shhh(library(tidyverse))\n",
    "shhh(library(GGally))\n",
    "shhh(library(htmlwidgets))\n",
    "shhh(library(IRdisplay))\n",
    "shhh(library(dotwhisker))\n",
    "shhh(library(loo))\n",
    "shhh(library(blmeco))\n",
    "\n",
    "\n",
    "shhh(library(\"texreg\"))\n",
    "shhh(library(caret))"
   ]
  },
  {
   "cell_type": "code",
   "execution_count": 2,
   "metadata": {},
   "outputs": [
    {
     "data": {
      "text/html": [
       "<table>\n",
       "<thead><tr><th scope=col>destination</th><th scope=col>origin</th><th scope=col>iso_d</th><th scope=col>iso_o</th><th scope=col>col</th><th scope=col>csl</th><th scope=col>cnl</th><th scope=col>prox1</th><th scope=col>lp1</th><th scope=col>prox2</th><th scope=col>...</th><th scope=col>m_flow_mig_rate</th><th scope=col>m_flow_da_min_open</th><th scope=col>m_flow_da_min_closed</th><th scope=col>m_flow_da_pb_closed</th><th scope=col>CS_wvs</th><th scope=col>CS_foursquare</th><th scope=col>CS_symm</th><th scope=col>CS_nonsymm_food_o</th><th scope=col>CS_nonsymm_food_d</th><th scope=col>CS_FB_pca</th></tr></thead>\n",
       "<tbody>\n",
       "\t<tr><td>Argentina    </td><td>Australia    </td><td>ARG          </td><td>AUS          </td><td>0            </td><td>0.02058416   </td><td>0.00080000   </td><td>0.25         </td><td>1.945866     </td><td>0.13052547   </td><td>...          </td><td>   56        </td><td>   16        </td><td>  105        </td><td> 2224        </td><td> 0.2579213   </td><td> 0.1005334   </td><td>-0.11433611  </td><td>-0.2553475   </td><td> 0.3185665   </td><td> 0.05466153  </td></tr>\n",
       "\t<tr><td>Argentina    </td><td>Brazil       </td><td>ARG          </td><td>BRA          </td><td>0            </td><td>0.06052872   </td><td>0.00080000   </td><td>0.75         </td><td>5.837599     </td><td>0.42439765   </td><td>...          </td><td> 9997        </td><td> 2332        </td><td>    0        </td><td>10767        </td><td> 0.7688173   </td><td> 0.8402622   </td><td> 0.17691737  </td><td> 0.2172456   </td><td> 0.1077964   </td><td> 0.79585871  </td></tr>\n",
       "\t<tr><td>Argentina    </td><td>Chile        </td><td>ARG          </td><td>CHL          </td><td>1            </td><td>0.98010004   </td><td>0.85439998   </td><td>0.00         </td><td>0.000000     </td><td>0.00000000   </td><td>...          </td><td>43666        </td><td>13875        </td><td>53604        </td><td>84213        </td><td>-0.9899189   </td><td> 0.9548769   </td><td> 0.39391861  </td><td> 0.4090194   </td><td> 0.4667300   </td><td> 0.98090107  </td></tr>\n",
       "\t<tr><td>Argentina    </td><td>France       </td><td>ARG          </td><td>FRA          </td><td>0            </td><td>0.13392781   </td><td>0.01039232   </td><td>0.50         </td><td>3.891733     </td><td>0.25450581   </td><td>...          </td><td> 1672        </td><td>  467        </td><td>  156        </td><td> 3048        </td><td> 0.1697698   </td><td> 0.8741573   </td><td>-0.06134509  </td><td>-0.2192713   </td><td>-0.4108677   </td><td> 0.60105840  </td></tr>\n",
       "\t<tr><td>Argentina    </td><td>Great Britain</td><td>ARG          </td><td>GBR          </td><td>0            </td><td>0.08325152   </td><td>0.00000000   </td><td>0.25         </td><td>1.945866     </td><td>0.13052547   </td><td>...          </td><td>  193        </td><td>   45        </td><td>  126        </td><td> 1559        </td><td> 0.3229716   </td><td> 0.6263188   </td><td>-0.16915309  </td><td>-0.3668815   </td><td>-0.2072795   </td><td> 0.37417246  </td></tr>\n",
       "\t<tr><td>Argentina    </td><td>Indonesia    </td><td>ARG          </td><td>IDN          </td><td>0            </td><td>0.00000000   </td><td>0.00000000   </td><td>0.00         </td><td>0.000000     </td><td>0.07436915   </td><td>...          </td><td>    4        </td><td>    1        </td><td>    4        </td><td>    7        </td><td> 0.4656905   </td><td>-0.8793284   </td><td>-0.19920772  </td><td>-0.3175994   </td><td>-0.6779621   </td><td>-0.39869160  </td></tr>\n",
       "</tbody>\n",
       "</table>\n"
      ],
      "text/latex": [
       "\\begin{tabular}{r|llllllllllllllllllllllllllllllllllllllll}\n",
       " destination & origin & iso\\_d & iso\\_o & col & csl & cnl & prox1 & lp1 & prox2 & ... & m\\_flow\\_mig\\_rate & m\\_flow\\_da\\_min\\_open & m\\_flow\\_da\\_min\\_closed & m\\_flow\\_da\\_pb\\_closed & CS\\_wvs & CS\\_foursquare & CS\\_symm & CS\\_nonsymm\\_food\\_o & CS\\_nonsymm\\_food\\_d & CS\\_FB\\_pca\\\\\n",
       "\\hline\n",
       "\t Argentina     & Australia     & ARG           & AUS           & 0             & 0.02058416    & 0.00080000    & 0.25          & 1.945866      & 0.13052547    & ...           &    56         &    16         &   105         &  2224         &  0.2579213    &  0.1005334    & -0.11433611   & -0.2553475    &  0.3185665    &  0.05466153  \\\\\n",
       "\t Argentina     & Brazil        & ARG           & BRA           & 0             & 0.06052872    & 0.00080000    & 0.75          & 5.837599      & 0.42439765    & ...           &  9997         &  2332         &     0         & 10767         &  0.7688173    &  0.8402622    &  0.17691737   &  0.2172456    &  0.1077964    &  0.79585871  \\\\\n",
       "\t Argentina     & Chile         & ARG           & CHL           & 1             & 0.98010004    & 0.85439998    & 0.00          & 0.000000      & 0.00000000    & ...           & 43666         & 13875         & 53604         & 84213         & -0.9899189    &  0.9548769    &  0.39391861   &  0.4090194    &  0.4667300    &  0.98090107  \\\\\n",
       "\t Argentina     & France        & ARG           & FRA           & 0             & 0.13392781    & 0.01039232    & 0.50          & 3.891733      & 0.25450581    & ...           &  1672         &   467         &   156         &  3048         &  0.1697698    &  0.8741573    & -0.06134509   & -0.2192713    & -0.4108677    &  0.60105840  \\\\\n",
       "\t Argentina     & Great Britain & ARG           & GBR           & 0             & 0.08325152    & 0.00000000    & 0.25          & 1.945866      & 0.13052547    & ...           &   193         &    45         &   126         &  1559         &  0.3229716    &  0.6263188    & -0.16915309   & -0.3668815    & -0.2072795    &  0.37417246  \\\\\n",
       "\t Argentina     & Indonesia     & ARG           & IDN           & 0             & 0.00000000    & 0.00000000    & 0.00          & 0.000000      & 0.07436915    & ...           &     4         &     1         &     4         &     7         &  0.4656905    & -0.8793284    & -0.19920772   & -0.3175994    & -0.6779621    & -0.39869160  \\\\\n",
       "\\end{tabular}\n"
      ],
      "text/markdown": [
       "\n",
       "| destination | origin | iso_d | iso_o | col | csl | cnl | prox1 | lp1 | prox2 | ... | m_flow_mig_rate | m_flow_da_min_open | m_flow_da_min_closed | m_flow_da_pb_closed | CS_wvs | CS_foursquare | CS_symm | CS_nonsymm_food_o | CS_nonsymm_food_d | CS_FB_pca |\n",
       "|---|---|---|---|---|---|---|---|---|---|---|---|---|---|---|---|---|---|---|---|---|\n",
       "| Argentina     | Australia     | ARG           | AUS           | 0             | 0.02058416    | 0.00080000    | 0.25          | 1.945866      | 0.13052547    | ...           |    56         |    16         |   105         |  2224         |  0.2579213    |  0.1005334    | -0.11433611   | -0.2553475    |  0.3185665    |  0.05466153   |\n",
       "| Argentina     | Brazil        | ARG           | BRA           | 0             | 0.06052872    | 0.00080000    | 0.75          | 5.837599      | 0.42439765    | ...           |  9997         |  2332         |     0         | 10767         |  0.7688173    |  0.8402622    |  0.17691737   |  0.2172456    |  0.1077964    |  0.79585871   |\n",
       "| Argentina     | Chile         | ARG           | CHL           | 1             | 0.98010004    | 0.85439998    | 0.00          | 0.000000      | 0.00000000    | ...           | 43666         | 13875         | 53604         | 84213         | -0.9899189    |  0.9548769    |  0.39391861   |  0.4090194    |  0.4667300    |  0.98090107   |\n",
       "| Argentina     | France        | ARG           | FRA           | 0             | 0.13392781    | 0.01039232    | 0.50          | 3.891733      | 0.25450581    | ...           |  1672         |   467         |   156         |  3048         |  0.1697698    |  0.8741573    | -0.06134509   | -0.2192713    | -0.4108677    |  0.60105840   |\n",
       "| Argentina     | Great Britain | ARG           | GBR           | 0             | 0.08325152    | 0.00000000    | 0.25          | 1.945866      | 0.13052547    | ...           |   193         |    45         |   126         |  1559         |  0.3229716    |  0.6263188    | -0.16915309   | -0.3668815    | -0.2072795    |  0.37417246   |\n",
       "| Argentina     | Indonesia     | ARG           | IDN           | 0             | 0.00000000    | 0.00000000    | 0.00          | 0.000000      | 0.07436915    | ...           |     4         |     1         |     4         |     7         |  0.4656905    | -0.8793284    | -0.19920772   | -0.3175994    | -0.6779621    | -0.39869160   |\n",
       "\n"
      ],
      "text/plain": [
       "  destination origin        iso_d iso_o col csl        cnl        prox1\n",
       "1 Argentina   Australia     ARG   AUS   0   0.02058416 0.00080000 0.25 \n",
       "2 Argentina   Brazil        ARG   BRA   0   0.06052872 0.00080000 0.75 \n",
       "3 Argentina   Chile         ARG   CHL   1   0.98010004 0.85439998 0.00 \n",
       "4 Argentina   France        ARG   FRA   0   0.13392781 0.01039232 0.50 \n",
       "5 Argentina   Great Britain ARG   GBR   0   0.08325152 0.00000000 0.25 \n",
       "6 Argentina   Indonesia     ARG   IDN   0   0.00000000 0.00000000 0.00 \n",
       "  lp1      prox2      ... m_flow_mig_rate m_flow_da_min_open\n",
       "1 1.945866 0.13052547 ...    56              16             \n",
       "2 5.837599 0.42439765 ...  9997            2332             \n",
       "3 0.000000 0.00000000 ... 43666           13875             \n",
       "4 3.891733 0.25450581 ...  1672             467             \n",
       "5 1.945866 0.13052547 ...   193              45             \n",
       "6 0.000000 0.07436915 ...     4               1             \n",
       "  m_flow_da_min_closed m_flow_da_pb_closed CS_wvs     CS_foursquare CS_symm    \n",
       "1   105                 2224                0.2579213  0.1005334    -0.11433611\n",
       "2     0                10767                0.7688173  0.8402622     0.17691737\n",
       "3 53604                84213               -0.9899189  0.9548769     0.39391861\n",
       "4   156                 3048                0.1697698  0.8741573    -0.06134509\n",
       "5   126                 1559                0.3229716  0.6263188    -0.16915309\n",
       "6     4                    7                0.4656905 -0.8793284    -0.19920772\n",
       "  CS_nonsymm_food_o CS_nonsymm_food_d CS_FB_pca  \n",
       "1 -0.2553475         0.3185665         0.05466153\n",
       "2  0.2172456         0.1077964         0.79585871\n",
       "3  0.4090194         0.4667300         0.98090107\n",
       "4 -0.2192713        -0.4108677         0.60105840\n",
       "5 -0.3668815        -0.2072795         0.37417246\n",
       "6 -0.3175994        -0.6779621        -0.39869160"
      ]
     },
     "metadata": {},
     "output_type": "display_data"
    }
   ],
   "source": [
    "gmodel_data <- read_csv(\"data/subset-final-dataset-04-22.csv\", col_types = cols())\n",
    "\n",
    "head(gmodel_data)"
   ]
  },
  {
   "cell_type": "code",
   "execution_count": 3,
   "metadata": {
    "scrolled": true
   },
   "outputs": [
    {
     "data": {
      "text/html": [
       "<ol class=list-inline>\n",
       "\t<li>240</li>\n",
       "\t<li>40</li>\n",
       "</ol>\n"
      ],
      "text/latex": [
       "\\begin{enumerate*}\n",
       "\\item 240\n",
       "\\item 40\n",
       "\\end{enumerate*}\n"
      ],
      "text/markdown": [
       "1. 240\n",
       "2. 40\n",
       "\n",
       "\n"
      ],
      "text/plain": [
       "[1] 240  40"
      ]
     },
     "metadata": {},
     "output_type": "display_data"
    }
   ],
   "source": [
    "dim(gmodel_data)"
   ]
  },
  {
   "cell_type": "markdown",
   "metadata": {},
   "source": [
    "**Migration stock/flow** \n",
    "\n",
    "In order to calculate `log10()` of my dependent variable, *`m_stock`*, I will add an **offset (`offset=1`)** to all the observations in the *`m_stock`* column."
   ]
  },
  {
   "cell_type": "code",
   "execution_count": 4,
   "metadata": {},
   "outputs": [
    {
     "data": {
      "text/html": [
       "<table>\n",
       "<thead><tr><th scope=col>destination</th><th scope=col>origin</th><th scope=col>iso_d</th><th scope=col>iso_o</th><th scope=col>col</th><th scope=col>csl</th><th scope=col>cnl</th><th scope=col>prox1</th><th scope=col>lp1</th><th scope=col>prox2</th><th scope=col>...</th><th scope=col>m_flow_mig_rate</th><th scope=col>m_flow_da_min_open</th><th scope=col>m_flow_da_min_closed</th><th scope=col>m_flow_da_pb_closed</th><th scope=col>CS_wvs</th><th scope=col>CS_foursquare</th><th scope=col>CS_symm</th><th scope=col>CS_nonsymm_food_o</th><th scope=col>CS_nonsymm_food_d</th><th scope=col>CS_FB_pca</th></tr></thead>\n",
       "<tbody>\n",
       "\t<tr><td>Argentina    </td><td>Australia    </td><td>ARG          </td><td>AUS          </td><td>0            </td><td>0.02058416   </td><td>0.00080000   </td><td>0.25         </td><td>1.945866     </td><td>0.13052547   </td><td>...          </td><td>   57        </td><td>   17        </td><td>  106        </td><td> 2225        </td><td> 0.2579213   </td><td> 0.1005334   </td><td>-0.11433611  </td><td>-0.2553475   </td><td> 0.3185665   </td><td> 0.05466153  </td></tr>\n",
       "\t<tr><td>Argentina    </td><td>Brazil       </td><td>ARG          </td><td>BRA          </td><td>0            </td><td>0.06052872   </td><td>0.00080000   </td><td>0.75         </td><td>5.837599     </td><td>0.42439765   </td><td>...          </td><td> 9998        </td><td> 2333        </td><td>    1        </td><td>10768        </td><td> 0.7688173   </td><td> 0.8402622   </td><td> 0.17691737  </td><td> 0.2172456   </td><td> 0.1077964   </td><td> 0.79585871  </td></tr>\n",
       "\t<tr><td>Argentina    </td><td>Chile        </td><td>ARG          </td><td>CHL          </td><td>1            </td><td>0.98010004   </td><td>0.85439998   </td><td>0.00         </td><td>0.000000     </td><td>0.00000000   </td><td>...          </td><td>43667        </td><td>13876        </td><td>53605        </td><td>84214        </td><td>-0.9899189   </td><td> 0.9548769   </td><td> 0.39391861  </td><td> 0.4090194   </td><td> 0.4667300   </td><td> 0.98090107  </td></tr>\n",
       "\t<tr><td>Argentina    </td><td>France       </td><td>ARG          </td><td>FRA          </td><td>0            </td><td>0.13392781   </td><td>0.01039232   </td><td>0.50         </td><td>3.891733     </td><td>0.25450581   </td><td>...          </td><td> 1673        </td><td>  468        </td><td>  157        </td><td> 3049        </td><td> 0.1697698   </td><td> 0.8741573   </td><td>-0.06134509  </td><td>-0.2192713   </td><td>-0.4108677   </td><td> 0.60105840  </td></tr>\n",
       "\t<tr><td>Argentina    </td><td>Great Britain</td><td>ARG          </td><td>GBR          </td><td>0            </td><td>0.08325152   </td><td>0.00000000   </td><td>0.25         </td><td>1.945866     </td><td>0.13052547   </td><td>...          </td><td>  194        </td><td>   46        </td><td>  127        </td><td> 1560        </td><td> 0.3229716   </td><td> 0.6263188   </td><td>-0.16915309  </td><td>-0.3668815   </td><td>-0.2072795   </td><td> 0.37417246  </td></tr>\n",
       "\t<tr><td>Argentina    </td><td>Indonesia    </td><td>ARG          </td><td>IDN          </td><td>0            </td><td>0.00000000   </td><td>0.00000000   </td><td>0.00         </td><td>0.000000     </td><td>0.07436915   </td><td>...          </td><td>    5        </td><td>    2        </td><td>    5        </td><td>    8        </td><td> 0.4656905   </td><td>-0.8793284   </td><td>-0.19920772  </td><td>-0.3175994   </td><td>-0.6779621   </td><td>-0.39869160  </td></tr>\n",
       "</tbody>\n",
       "</table>\n"
      ],
      "text/latex": [
       "\\begin{tabular}{r|llllllllllllllllllllllllllllllllllllllll}\n",
       " destination & origin & iso\\_d & iso\\_o & col & csl & cnl & prox1 & lp1 & prox2 & ... & m\\_flow\\_mig\\_rate & m\\_flow\\_da\\_min\\_open & m\\_flow\\_da\\_min\\_closed & m\\_flow\\_da\\_pb\\_closed & CS\\_wvs & CS\\_foursquare & CS\\_symm & CS\\_nonsymm\\_food\\_o & CS\\_nonsymm\\_food\\_d & CS\\_FB\\_pca\\\\\n",
       "\\hline\n",
       "\t Argentina     & Australia     & ARG           & AUS           & 0             & 0.02058416    & 0.00080000    & 0.25          & 1.945866      & 0.13052547    & ...           &    57         &    17         &   106         &  2225         &  0.2579213    &  0.1005334    & -0.11433611   & -0.2553475    &  0.3185665    &  0.05466153  \\\\\n",
       "\t Argentina     & Brazil        & ARG           & BRA           & 0             & 0.06052872    & 0.00080000    & 0.75          & 5.837599      & 0.42439765    & ...           &  9998         &  2333         &     1         & 10768         &  0.7688173    &  0.8402622    &  0.17691737   &  0.2172456    &  0.1077964    &  0.79585871  \\\\\n",
       "\t Argentina     & Chile         & ARG           & CHL           & 1             & 0.98010004    & 0.85439998    & 0.00          & 0.000000      & 0.00000000    & ...           & 43667         & 13876         & 53605         & 84214         & -0.9899189    &  0.9548769    &  0.39391861   &  0.4090194    &  0.4667300    &  0.98090107  \\\\\n",
       "\t Argentina     & France        & ARG           & FRA           & 0             & 0.13392781    & 0.01039232    & 0.50          & 3.891733      & 0.25450581    & ...           &  1673         &   468         &   157         &  3049         &  0.1697698    &  0.8741573    & -0.06134509   & -0.2192713    & -0.4108677    &  0.60105840  \\\\\n",
       "\t Argentina     & Great Britain & ARG           & GBR           & 0             & 0.08325152    & 0.00000000    & 0.25          & 1.945866      & 0.13052547    & ...           &   194         &    46         &   127         &  1560         &  0.3229716    &  0.6263188    & -0.16915309   & -0.3668815    & -0.2072795    &  0.37417246  \\\\\n",
       "\t Argentina     & Indonesia     & ARG           & IDN           & 0             & 0.00000000    & 0.00000000    & 0.00          & 0.000000      & 0.07436915    & ...           &     5         &     2         &     5         &     8         &  0.4656905    & -0.8793284    & -0.19920772   & -0.3175994    & -0.6779621    & -0.39869160  \\\\\n",
       "\\end{tabular}\n"
      ],
      "text/markdown": [
       "\n",
       "| destination | origin | iso_d | iso_o | col | csl | cnl | prox1 | lp1 | prox2 | ... | m_flow_mig_rate | m_flow_da_min_open | m_flow_da_min_closed | m_flow_da_pb_closed | CS_wvs | CS_foursquare | CS_symm | CS_nonsymm_food_o | CS_nonsymm_food_d | CS_FB_pca |\n",
       "|---|---|---|---|---|---|---|---|---|---|---|---|---|---|---|---|---|---|---|---|---|\n",
       "| Argentina     | Australia     | ARG           | AUS           | 0             | 0.02058416    | 0.00080000    | 0.25          | 1.945866      | 0.13052547    | ...           |    57         |    17         |   106         |  2225         |  0.2579213    |  0.1005334    | -0.11433611   | -0.2553475    |  0.3185665    |  0.05466153   |\n",
       "| Argentina     | Brazil        | ARG           | BRA           | 0             | 0.06052872    | 0.00080000    | 0.75          | 5.837599      | 0.42439765    | ...           |  9998         |  2333         |     1         | 10768         |  0.7688173    |  0.8402622    |  0.17691737   |  0.2172456    |  0.1077964    |  0.79585871   |\n",
       "| Argentina     | Chile         | ARG           | CHL           | 1             | 0.98010004    | 0.85439998    | 0.00          | 0.000000      | 0.00000000    | ...           | 43667         | 13876         | 53605         | 84214         | -0.9899189    |  0.9548769    |  0.39391861   |  0.4090194    |  0.4667300    |  0.98090107   |\n",
       "| Argentina     | France        | ARG           | FRA           | 0             | 0.13392781    | 0.01039232    | 0.50          | 3.891733      | 0.25450581    | ...           |  1673         |   468         |   157         |  3049         |  0.1697698    |  0.8741573    | -0.06134509   | -0.2192713    | -0.4108677    |  0.60105840   |\n",
       "| Argentina     | Great Britain | ARG           | GBR           | 0             | 0.08325152    | 0.00000000    | 0.25          | 1.945866      | 0.13052547    | ...           |   194         |    46         |   127         |  1560         |  0.3229716    |  0.6263188    | -0.16915309   | -0.3668815    | -0.2072795    |  0.37417246   |\n",
       "| Argentina     | Indonesia     | ARG           | IDN           | 0             | 0.00000000    | 0.00000000    | 0.00          | 0.000000      | 0.07436915    | ...           |     5         |     2         |     5         |     8         |  0.4656905    | -0.8793284    | -0.19920772   | -0.3175994    | -0.6779621    | -0.39869160   |\n",
       "\n"
      ],
      "text/plain": [
       "  destination origin        iso_d iso_o col csl        cnl        prox1\n",
       "1 Argentina   Australia     ARG   AUS   0   0.02058416 0.00080000 0.25 \n",
       "2 Argentina   Brazil        ARG   BRA   0   0.06052872 0.00080000 0.75 \n",
       "3 Argentina   Chile         ARG   CHL   1   0.98010004 0.85439998 0.00 \n",
       "4 Argentina   France        ARG   FRA   0   0.13392781 0.01039232 0.50 \n",
       "5 Argentina   Great Britain ARG   GBR   0   0.08325152 0.00000000 0.25 \n",
       "6 Argentina   Indonesia     ARG   IDN   0   0.00000000 0.00000000 0.00 \n",
       "  lp1      prox2      ... m_flow_mig_rate m_flow_da_min_open\n",
       "1 1.945866 0.13052547 ...    57              17             \n",
       "2 5.837599 0.42439765 ...  9998            2333             \n",
       "3 0.000000 0.00000000 ... 43667           13876             \n",
       "4 3.891733 0.25450581 ...  1673             468             \n",
       "5 1.945866 0.13052547 ...   194              46             \n",
       "6 0.000000 0.07436915 ...     5               2             \n",
       "  m_flow_da_min_closed m_flow_da_pb_closed CS_wvs     CS_foursquare CS_symm    \n",
       "1   106                 2225                0.2579213  0.1005334    -0.11433611\n",
       "2     1                10768                0.7688173  0.8402622     0.17691737\n",
       "3 53605                84214               -0.9899189  0.9548769     0.39391861\n",
       "4   157                 3049                0.1697698  0.8741573    -0.06134509\n",
       "5   127                 1560                0.3229716  0.6263188    -0.16915309\n",
       "6     5                    8                0.4656905 -0.8793284    -0.19920772\n",
       "  CS_nonsymm_food_o CS_nonsymm_food_d CS_FB_pca  \n",
       "1 -0.2553475         0.3185665         0.05466153\n",
       "2  0.2172456         0.1077964         0.79585871\n",
       "3  0.4090194         0.4667300         0.98090107\n",
       "4 -0.2192713        -0.4108677         0.60105840\n",
       "5 -0.3668815        -0.2072795         0.37417246\n",
       "6 -0.3175994        -0.6779621        -0.39869160"
      ]
     },
     "metadata": {},
     "output_type": "display_data"
    }
   ],
   "source": [
    "gmodel_data$m_stock <- gmodel_data$m_stock + 1.0\n",
    "gmodel_data$m_flow_sd_drop_neg <- gmodel_data$m_flow_sd_drop_neg + 1.0\n",
    "gmodel_data$m_flow_sd_rev_neg <- gmodel_data$m_flow_sd_rev_neg + 1.0\n",
    "gmodel_data$m_flow_mig_rate <- gmodel_data$m_flow_mig_rate + 1.0\n",
    "gmodel_data$m_flow_da_min_open <- gmodel_data$m_flow_da_min_open + 1.0\n",
    "gmodel_data$m_flow_da_min_closed <- gmodel_data$m_flow_da_min_closed + 1.0\n",
    "gmodel_data$m_flow_da_pb_closed <- gmodel_data$m_flow_da_pb_closed + 1.0\n",
    "\n",
    "head(gmodel_data)"
   ]
  },
  {
   "cell_type": "markdown",
   "metadata": {},
   "source": [
    "## Model + Cross validation"
   ]
  },
  {
   "cell_type": "code",
   "execution_count": 5,
   "metadata": {},
   "outputs": [
    {
     "name": "stdout",
     "output_type": "stream",
     "text": [
      "Linear Regression \n",
      "\n",
      "240 samples\n",
      "  5 predictor\n",
      "\n",
      "No pre-processing\n",
      "Resampling: Leave-One-Out Cross-Validation \n",
      "Summary of sample sizes: 239, 239, 239, 239, 239, 239, ... \n",
      "Resampling results:\n",
      "\n",
      "  RMSE      Rsquared   MAE     \n",
      "  1.270363  0.0543643  1.000069\n",
      "\n",
      "Tuning parameter 'intercept' was held constant at a value of TRUE\n"
     ]
    }
   ],
   "source": [
    "# R program to implement\n",
    "# Leave one out cross validation\n",
    " \n",
    "# defining training control\n",
    "# as Leave One Out Cross Validation\n",
    "train_control <- trainControl(method = \"LOOCV\")\n",
    " \n",
    "# training the model by assigning m_flow_da_pb_closed column\n",
    "# as target variable and rest other column\n",
    "# as independent variable\n",
    "m1 <- train(log10(m_flow_da_pb_closed) ~ log10(pop_o) + log10(area_o) + log10(pop_d) + log10(area_d) + log10(distwces),\n",
    "               data = gmodel_data,\n",
    "               method = \"lm\",\n",
    "               trControl = train_control)\n",
    " \n",
    "# printing model performance metrics\n",
    "# along with other details\n",
    "print(m1)"
   ]
  },
  {
   "cell_type": "code",
   "execution_count": 6,
   "metadata": {},
   "outputs": [
    {
     "name": "stdout",
     "output_type": "stream",
     "text": [
      "Linear Regression \n",
      "\n",
      "240 samples\n",
      "  7 predictor\n",
      "\n",
      "No pre-processing\n",
      "Resampling: Leave-One-Out Cross-Validation \n",
      "Summary of sample sizes: 239, 239, 239, 239, 239, 239, ... \n",
      "Resampling results:\n",
      "\n",
      "  RMSE      Rsquared   MAE     \n",
      "  1.038103  0.3656457  0.786624\n",
      "\n",
      "Tuning parameter 'intercept' was held constant at a value of TRUE\n"
     ]
    }
   ],
   "source": [
    "train_control <- trainControl(method = \"LOOCV\")\n",
    " \n",
    "m2 <- train(log10(m_flow_da_pb_closed) ~ log10(pop_o) + log10(area_o) + log10(pop_d) + log10(area_d) + log10(distwces) + log10(GDP_o) + log10(GDP_d),\n",
    "               data = gmodel_data,\n",
    "               method = \"lm\",\n",
    "               trControl = train_control)\n",
    "\n",
    "print(m2)"
   ]
  },
  {
   "cell_type": "code",
   "execution_count": 7,
   "metadata": {},
   "outputs": [
    {
     "name": "stdout",
     "output_type": "stream",
     "text": [
      "Linear Regression \n",
      "\n",
      "240 samples\n",
      " 10 predictor\n",
      "\n",
      "No pre-processing\n",
      "Resampling: Leave-One-Out Cross-Validation \n",
      "Summary of sample sizes: 239, 239, 239, 239, 239, 239, ... \n",
      "Resampling results:\n",
      "\n",
      "  RMSE       Rsquared   MAE      \n",
      "  0.9316951  0.4902808  0.7112435\n",
      "\n",
      "Tuning parameter 'intercept' was held constant at a value of TRUE\n"
     ]
    }
   ],
   "source": [
    "train_control <- trainControl(method = \"LOOCV\")\n",
    " \n",
    "m3 <- train(log10(m_flow_da_pb_closed) ~ log10(pop_o) + log10(area_o) + log10(pop_d) + log10(area_d) + log10(distwces) + log10(GDP_o) + log10(GDP_d) + col + lp1 + shared_hist,\n",
    "               data = gmodel_data,\n",
    "               method = \"lm\",\n",
    "               trControl = train_control)\n",
    "\n",
    "print(m3)"
   ]
  },
  {
   "cell_type": "code",
   "execution_count": 8,
   "metadata": {},
   "outputs": [
    {
     "name": "stdout",
     "output_type": "stream",
     "text": [
      "Linear Regression \n",
      "\n",
      "240 samples\n",
      " 11 predictor\n",
      "\n",
      "No pre-processing\n",
      "Resampling: Leave-One-Out Cross-Validation \n",
      "Summary of sample sizes: 239, 239, 239, 239, 239, 239, ... \n",
      "Resampling results:\n",
      "\n",
      "  RMSE      Rsquared   MAE     \n",
      "  0.912388  0.5112673  0.693333\n",
      "\n",
      "Tuning parameter 'intercept' was held constant at a value of TRUE\n"
     ]
    }
   ],
   "source": [
    "train_control <- trainControl(method = \"LOOCV\")\n",
    " \n",
    "m4a <- train(log10(m_flow_da_pb_closed) ~ log10(pop_o) + log10(area_o) + log10(pop_d) + log10(area_d) + log10(distwces) + log10(GDP_o) + log10(GDP_d) + col + lp1 + shared_hist + CS_wvs,\n",
    "               data = gmodel_data,\n",
    "               method = \"lm\",\n",
    "               trControl = train_control)\n",
    "\n",
    "print(m4a)"
   ]
  },
  {
   "cell_type": "code",
   "execution_count": 9,
   "metadata": {},
   "outputs": [
    {
     "name": "stdout",
     "output_type": "stream",
     "text": [
      "Linear Regression \n",
      "\n",
      "240 samples\n",
      " 11 predictor\n",
      "\n",
      "No pre-processing\n",
      "Resampling: Leave-One-Out Cross-Validation \n",
      "Summary of sample sizes: 239, 239, 239, 239, 239, 239, ... \n",
      "Resampling results:\n",
      "\n",
      "  RMSE       Rsquared   MAE      \n",
      "  0.8749711  0.5500505  0.6722848\n",
      "\n",
      "Tuning parameter 'intercept' was held constant at a value of TRUE\n"
     ]
    }
   ],
   "source": [
    "train_control <- trainControl(method = \"LOOCV\")\n",
    " \n",
    "m4b <- train(log10(m_flow_da_pb_closed) ~ log10(pop_o) + log10(area_o) + log10(pop_d) + log10(area_d) + log10(distwces) + log10(GDP_o) + log10(GDP_d) + col + lp1 + shared_hist + CS_foursquare,\n",
    "               data = gmodel_data,\n",
    "               method = \"lm\",\n",
    "               trControl = train_control)\n",
    "\n",
    "print(m4b)"
   ]
  },
  {
   "cell_type": "code",
   "execution_count": 10,
   "metadata": {},
   "outputs": [
    {
     "name": "stdout",
     "output_type": "stream",
     "text": [
      "Linear Regression \n",
      "\n",
      "240 samples\n",
      " 12 predictor\n",
      "\n",
      "No pre-processing\n",
      "Resampling: Leave-One-Out Cross-Validation \n",
      "Summary of sample sizes: 239, 239, 239, 239, 239, 239, ... \n",
      "Resampling results:\n",
      "\n",
      "  RMSE       Rsquared   MAE      \n",
      "  0.8296471  0.5953347  0.6232715\n",
      "\n",
      "Tuning parameter 'intercept' was held constant at a value of TRUE\n"
     ]
    }
   ],
   "source": [
    "train_control <- trainControl(method = \"LOOCV\")\n",
    " \n",
    "m4ab <- train(log10(m_flow_da_pb_closed) ~ log10(pop_o) + log10(area_o) + log10(pop_d) + log10(area_d) + log10(distwces) + log10(GDP_o) + log10(GDP_d) + col + lp1 + shared_hist + CS_wvs + CS_foursquare,\n",
    "               data = gmodel_data,\n",
    "               method = \"lm\",\n",
    "               trControl = train_control)\n",
    "\n",
    "print(m4ab)"
   ]
  },
  {
   "cell_type": "code",
   "execution_count": 11,
   "metadata": {},
   "outputs": [
    {
     "name": "stdout",
     "output_type": "stream",
     "text": [
      "Linear Regression \n",
      "\n",
      "240 samples\n",
      " 11 predictor\n",
      "\n",
      "No pre-processing\n",
      "Resampling: Leave-One-Out Cross-Validation \n",
      "Summary of sample sizes: 239, 239, 239, 239, 239, 239, ... \n",
      "Resampling results:\n",
      "\n",
      "  RMSE       Rsquared   MAE      \n",
      "  0.9200504  0.5034536  0.6961457\n",
      "\n",
      "Tuning parameter 'intercept' was held constant at a value of TRUE\n"
     ]
    }
   ],
   "source": [
    "train_control <- trainControl(method = \"LOOCV\")\n",
    " \n",
    "m4c <- train(log10(m_flow_da_pb_closed) ~ log10(pop_o) + log10(area_o) + log10(pop_d) + log10(area_d) + log10(distwces) + log10(GDP_o) + log10(GDP_d) + col + lp1 + shared_hist + CS_symm,\n",
    "               data = gmodel_data,\n",
    "               method = \"lm\",\n",
    "               trControl = train_control)\n",
    "\n",
    "print(m4c)"
   ]
  },
  {
   "cell_type": "code",
   "execution_count": 12,
   "metadata": {},
   "outputs": [
    {
     "name": "stdout",
     "output_type": "stream",
     "text": [
      "Linear Regression \n",
      "\n",
      "240 samples\n",
      " 12 predictor\n",
      "\n",
      "No pre-processing\n",
      "Resampling: Leave-One-Out Cross-Validation \n",
      "Summary of sample sizes: 239, 239, 239, 239, 239, 239, ... \n",
      "Resampling results:\n",
      "\n",
      "  RMSE       Rsquared  MAE     \n",
      "  0.8988728  0.526134  0.680252\n",
      "\n",
      "Tuning parameter 'intercept' was held constant at a value of TRUE\n"
     ]
    }
   ],
   "source": [
    "train_control <- trainControl(method = \"LOOCV\")\n",
    " \n",
    "m4ac <- train(log10(m_flow_da_pb_closed) ~ log10(pop_o) + log10(area_o) + log10(pop_d) + log10(area_d) + log10(distwces) + log10(GDP_o) + log10(GDP_d) + col + lp1 + shared_hist + CS_wvs + CS_symm,\n",
    "               data = gmodel_data,\n",
    "               method = \"lm\",\n",
    "               trControl = train_control)\n",
    "\n",
    "print(m4ac)"
   ]
  },
  {
   "cell_type": "code",
   "execution_count": 13,
   "metadata": {},
   "outputs": [
    {
     "name": "stdout",
     "output_type": "stream",
     "text": [
      "Linear Regression \n",
      "\n",
      "240 samples\n",
      " 12 predictor\n",
      "\n",
      "No pre-processing\n",
      "Resampling: Leave-One-Out Cross-Validation \n",
      "Summary of sample sizes: 239, 239, 239, 239, 239, 239, ... \n",
      "Resampling results:\n",
      "\n",
      "  RMSE       Rsquared  MAE      \n",
      "  0.8769505  0.548554  0.6676885\n",
      "\n",
      "Tuning parameter 'intercept' was held constant at a value of TRUE\n"
     ]
    }
   ],
   "source": [
    "train_control <- trainControl(method = \"LOOCV\")\n",
    " \n",
    "m4bc <- train(log10(m_flow_da_pb_closed) ~ log10(pop_o) + log10(area_o) + log10(pop_d) + log10(area_d) + log10(distwces) + log10(GDP_o) + log10(GDP_d) + col + lp1 + shared_hist + CS_foursquare + CS_symm,\n",
    "               data = gmodel_data,\n",
    "               method = \"lm\",\n",
    "               trControl = train_control)\n",
    "\n",
    "print(m4bc)"
   ]
  },
  {
   "cell_type": "code",
   "execution_count": 14,
   "metadata": {},
   "outputs": [
    {
     "name": "stdout",
     "output_type": "stream",
     "text": [
      "Linear Regression \n",
      "\n",
      "240 samples\n",
      " 13 predictor\n",
      "\n",
      "No pre-processing\n",
      "Resampling: Leave-One-Out Cross-Validation \n",
      "Summary of sample sizes: 239, 239, 239, 239, 239, 239, ... \n",
      "Resampling results:\n",
      "\n",
      "  RMSE       Rsquared   MAE      \n",
      "  0.8324846  0.5930388  0.6201995\n",
      "\n",
      "Tuning parameter 'intercept' was held constant at a value of TRUE\n"
     ]
    }
   ],
   "source": [
    "train_control <- trainControl(method = \"LOOCV\")\n",
    " \n",
    "m4abc <- train(log10(m_flow_da_pb_closed) ~ log10(pop_o) + log10(area_o) + log10(pop_d) + log10(area_d) + log10(distwces) + log10(GDP_o) + log10(GDP_d) + col + lp1 + shared_hist + CS_wvs + CS_foursquare + CS_symm,\n",
    "               data = gmodel_data,\n",
    "               method = \"lm\",\n",
    "               trControl = train_control)\n",
    "\n",
    "print(m4abc)"
   ]
  },
  {
   "cell_type": "code",
   "execution_count": 15,
   "metadata": {},
   "outputs": [
    {
     "name": "stdout",
     "output_type": "stream",
     "text": [
      "Linear Regression \n",
      "\n",
      "240 samples\n",
      " 12 predictor\n",
      "\n",
      "No pre-processing\n",
      "Resampling: Leave-One-Out Cross-Validation \n",
      "Summary of sample sizes: 239, 239, 239, 239, 239, 239, ... \n",
      "Resampling results:\n",
      "\n",
      "  RMSE       Rsquared   MAE      \n",
      "  0.8796465  0.5456301  0.6754032\n",
      "\n",
      "Tuning parameter 'intercept' was held constant at a value of TRUE\n"
     ]
    }
   ],
   "source": [
    "train_control <- trainControl(method = \"LOOCV\")\n",
    " \n",
    "m4d <- train(log10(m_flow_da_pb_closed) ~ log10(pop_o) + log10(area_o) + log10(pop_d) + log10(area_d) + log10(distwces) + log10(GDP_o) + log10(GDP_d) + col + lp1 + shared_hist + CS_nonsymm_food_o + CS_nonsymm_food_d,\n",
    "               data = gmodel_data,\n",
    "               method = \"lm\",\n",
    "               trControl = train_control)\n",
    "\n",
    "print(m4d)"
   ]
  },
  {
   "cell_type": "code",
   "execution_count": 16,
   "metadata": {},
   "outputs": [
    {
     "name": "stdout",
     "output_type": "stream",
     "text": [
      "Linear Regression \n",
      "\n",
      "240 samples\n",
      " 13 predictor\n",
      "\n",
      "No pre-processing\n",
      "Resampling: Leave-One-Out Cross-Validation \n",
      "Summary of sample sizes: 239, 239, 239, 239, 239, 239, ... \n",
      "Resampling results:\n",
      "\n",
      "  RMSE       Rsquared   MAE      \n",
      "  0.8443108  0.5812555  0.6570101\n",
      "\n",
      "Tuning parameter 'intercept' was held constant at a value of TRUE\n"
     ]
    }
   ],
   "source": [
    "train_control <- trainControl(method = \"LOOCV\")\n",
    " \n",
    "m4ad <- train(log10(m_flow_da_pb_closed) ~ log10(pop_o) + log10(area_o) + log10(pop_d) + log10(area_d) + log10(distwces) + log10(GDP_o) + log10(GDP_d) + col + lp1 + shared_hist + CS_wvs + CS_nonsymm_food_o + CS_nonsymm_food_d,\n",
    "               data = gmodel_data,\n",
    "               method = \"lm\",\n",
    "               trControl = train_control)\n",
    "\n",
    "print(m4ad)"
   ]
  },
  {
   "cell_type": "code",
   "execution_count": 17,
   "metadata": {},
   "outputs": [
    {
     "name": "stdout",
     "output_type": "stream",
     "text": [
      "Linear Regression \n",
      "\n",
      "240 samples\n",
      " 13 predictor\n",
      "\n",
      "No pre-processing\n",
      "Resampling: Leave-One-Out Cross-Validation \n",
      "Summary of sample sizes: 239, 239, 239, 239, 239, 239, ... \n",
      "Resampling results:\n",
      "\n",
      "  RMSE       Rsquared   MAE      \n",
      "  0.8524622  0.5732017  0.6630314\n",
      "\n",
      "Tuning parameter 'intercept' was held constant at a value of TRUE\n"
     ]
    }
   ],
   "source": [
    "train_control <- trainControl(method = \"LOOCV\")\n",
    " \n",
    "m4bd <- train(log10(m_flow_da_pb_closed) ~ log10(pop_o) + log10(area_o) + log10(pop_d) + log10(area_d) + log10(distwces) + log10(GDP_o) + log10(GDP_d) + col + lp1 + shared_hist + CS_foursquare + CS_nonsymm_food_o + CS_nonsymm_food_d,\n",
    "               data = gmodel_data,\n",
    "               method = \"lm\",\n",
    "               trControl = train_control)\n",
    "\n",
    "print(m4bd)"
   ]
  },
  {
   "cell_type": "code",
   "execution_count": 18,
   "metadata": {},
   "outputs": [
    {
     "name": "stdout",
     "output_type": "stream",
     "text": [
      "Linear Regression \n",
      "\n",
      "240 samples\n",
      " 14 predictor\n",
      "\n",
      "No pre-processing\n",
      "Resampling: Leave-One-Out Cross-Validation \n",
      "Summary of sample sizes: 239, 239, 239, 239, 239, 239, ... \n",
      "Resampling results:\n",
      "\n",
      "  RMSE       Rsquared   MAE     \n",
      "  0.7982575  0.6254939  0.612497\n",
      "\n",
      "Tuning parameter 'intercept' was held constant at a value of TRUE\n"
     ]
    }
   ],
   "source": [
    "train_control <- trainControl(method = \"LOOCV\")\n",
    " \n",
    "m4abd <- train(log10(m_flow_da_pb_closed) ~ log10(pop_o) + log10(area_o) + log10(pop_d) + log10(area_d) + log10(distwces) + log10(GDP_o) + log10(GDP_d) + col + lp1 + shared_hist + CS_wvs + CS_foursquare + CS_nonsymm_food_o + CS_nonsymm_food_d,\n",
    "               data = gmodel_data,\n",
    "               method = \"lm\",\n",
    "               trControl = train_control)\n",
    "\n",
    "print(m4abd)"
   ]
  },
  {
   "cell_type": "code",
   "execution_count": 19,
   "metadata": {},
   "outputs": [
    {
     "name": "stdout",
     "output_type": "stream",
     "text": [
      "Linear Regression \n",
      "\n",
      "240 samples\n",
      " 13 predictor\n",
      "\n",
      "No pre-processing\n",
      "Resampling: Leave-One-Out Cross-Validation \n",
      "Summary of sample sizes: 239, 239, 239, 239, 239, 239, ... \n",
      "Resampling results:\n",
      "\n",
      "  RMSE       Rsquared   MAE      \n",
      "  0.8839778  0.5415788  0.6745043\n",
      "\n",
      "Tuning parameter 'intercept' was held constant at a value of TRUE\n"
     ]
    }
   ],
   "source": [
    "train_control <- trainControl(method = \"LOOCV\")\n",
    " \n",
    "m4cd <- train(log10(m_flow_da_pb_closed) ~ log10(pop_o) + log10(area_o) + log10(pop_d) + log10(area_d) + log10(distwces) + log10(GDP_o) + log10(GDP_d) + col + lp1 + shared_hist + CS_symm + CS_nonsymm_food_o + CS_nonsymm_food_d,\n",
    "               data = gmodel_data,\n",
    "               method = \"lm\",\n",
    "               trControl = train_control)\n",
    "\n",
    "print(m4cd)"
   ]
  },
  {
   "cell_type": "code",
   "execution_count": 20,
   "metadata": {},
   "outputs": [
    {
     "name": "stdout",
     "output_type": "stream",
     "text": [
      "Linear Regression \n",
      "\n",
      "240 samples\n",
      " 15 predictor\n",
      "\n",
      "No pre-processing\n",
      "Resampling: Leave-One-Out Cross-Validation \n",
      "Summary of sample sizes: 239, 239, 239, 239, 239, 239, ... \n",
      "Resampling results:\n",
      "\n",
      "  RMSE       Rsquared   MAE      \n",
      "  0.8042254  0.6202187  0.6161051\n",
      "\n",
      "Tuning parameter 'intercept' was held constant at a value of TRUE\n"
     ]
    }
   ],
   "source": [
    "train_control <- trainControl(method = \"LOOCV\")\n",
    " \n",
    "m5 <- train(log10(m_flow_da_pb_closed) ~ log10(pop_o) + log10(area_o) + log10(pop_d) + log10(area_d) + log10(distwces) + log10(GDP_o) + log10(GDP_d) + col + lp1 + shared_hist + CS_wvs + CS_foursquare + CS_symm + CS_nonsymm_food_o + CS_nonsymm_food_d,\n",
    "               data = gmodel_data,\n",
    "               method = \"lm\",\n",
    "               trControl = train_control)\n",
    "\n",
    "print(m5)"
   ]
  },
  {
   "cell_type": "code",
   "execution_count": 21,
   "metadata": {},
   "outputs": [
    {
     "name": "stdout",
     "output_type": "stream",
     "text": [
      "Linear Regression \n",
      "\n",
      "240 samples\n",
      " 14 predictor\n",
      "\n",
      "No pre-processing\n",
      "Resampling: Leave-One-Out Cross-Validation \n",
      "Summary of sample sizes: 239, 239, 239, 239, 239, 239, ... \n",
      "Resampling results:\n",
      "\n",
      "  RMSE       Rsquared   MAE      \n",
      "  0.8490508  0.5769344  0.6543551\n",
      "\n",
      "Tuning parameter 'intercept' was held constant at a value of TRUE\n"
     ]
    }
   ],
   "source": [
    "train_control <- trainControl(method = \"LOOCV\")\n",
    " \n",
    "m5aux <- train(log10(m_flow_da_pb_closed) ~ log10(pop_o) + log10(area_o) + log10(pop_d) + log10(area_d) + log10(distwces) + log10(GDP_o) + log10(GDP_d) + col + lp1 + shared_hist + CS_wvs + CS_symm + CS_nonsymm_food_o + CS_nonsymm_food_d,\n",
    "               data = gmodel_data,\n",
    "               method = \"lm\",\n",
    "               trControl = train_control)\n",
    "\n",
    "print(m5aux)"
   ]
  },
  {
   "cell_type": "markdown",
   "metadata": {},
   "source": [
    "## LATEX table\n",
    "#### The final model from the Cross-validation using the FULL input dataset "
   ]
  },
  {
   "cell_type": "code",
   "execution_count": 22,
   "metadata": {},
   "outputs": [
    {
     "name": "stdout",
     "output_type": "stream",
     "text": [
      "\n",
      "\\begin{table}[h]\n",
      "\\begin{center}\n",
      "\\begin{tabular}{l D{.}{.}{3.3} D{.}{.}{3.5} D{.}{.}{3.5} D{.}{.}{3.5} D{.}{.}{3.5} D{.}{.}{3.5} D{.}{.}{3.5} D{.}{.}{3.5} D{.}{.}{3.5} D{.}{.}{3.5} D{.}{.}{3.5}}\n",
      "\\toprule\n",
      " & \\multicolumn{1}{c}{Model 1} & \\multicolumn{1}{c}{Model 2} & \\multicolumn{1}{c}{Model 3} & \\multicolumn{1}{c}{Model 4} & \\multicolumn{1}{c}{Model 5} & \\multicolumn{1}{c}{Model 6} & \\multicolumn{1}{c}{Model 7} & \\multicolumn{1}{c}{Model 8} & \\multicolumn{1}{c}{Model 9} & \\multicolumn{1}{c}{Model 10} & \\multicolumn{1}{c}{Model 11} \\\\\n",
      "\\midrule\n",
      "(Intercept)          & -5.74^{*} & -25.51^{***} & -25.64^{***} & -26.29^{***} & -25.23^{***} & -25.31^{***} & -24.84^{***} & -25.31^{***} & -24.72^{***} & -26.08^{***} & -25.36^{***} \\\\\n",
      "                     & (2.42)    & (2.65)       & (2.38)       & (2.34)       & (2.13)       & (2.04)       & (2.13)       & (2.24)       & (2.36)       & (2.15)       & (2.30)       \\\\\n",
      "`log10(pop\\_o)`      & 0.33      & -0.96^{***}  & -0.55^{*}    & -0.61^{*}    & -0.60^{**}   & -0.23        & -0.66^{**}   & -0.09        & -0.66^{**}   & -0.13        & -0.73^{**}   \\\\\n",
      "                     & (0.26)    & (0.28)       & (0.25)       & (0.24)       & (0.22)       & (0.23)       & (0.22)       & (0.26)       & (0.25)       & (0.24)       & (0.24)       \\\\\n",
      "`log10(area\\_o)`     & 0.07      & 0.20^{*}     & 0.07         & 0.08         & 0.08         & 0.03         & 0.08         & 0.01         & 0.08         & 0.02         & 0.08         \\\\\n",
      "                     & (0.11)    & (0.09)       & (0.09)       & (0.08)       & (0.08)       & (0.07)       & (0.08)       & (0.08)       & (0.08)       & (0.08)       & (0.08)       \\\\\n",
      "`log10(pop\\_d)`      & 0.48      & -1.19^{***}  & -0.78^{**}   & -0.84^{***}  & -0.83^{***}  & -0.64^{**}   & -0.89^{***}  & -0.49        & -0.89^{***}  & -0.53^{*}    & -0.96^{***}  \\\\\n",
      "                     & (0.25)    & (0.28)       & (0.25)       & (0.24)       & (0.22)       & (0.23)       & (0.22)       & (0.26)       & (0.25)       & (0.24)       & (0.24)       \\\\\n",
      "`log10(area\\_d)`     & 0.16      & 0.32^{***}   & 0.19^{*}     & 0.20^{*}     & 0.20^{**}    & 0.16^{*}     & 0.20^{**}    & 0.14         & 0.20^{*}     & 0.15         & 0.20^{*}     \\\\\n",
      "                     & (0.11)    & (0.09)       & (0.09)       & (0.08)       & (0.08)       & (0.07)       & (0.08)       & (0.08)       & (0.08)       & (0.08)       & (0.08)       \\\\\n",
      "`log10(distwces)`    & 0.24      & 0.25^{*}     & 0.14         & 0.18         & -0.03        & -0.07        & -0.05        & 0.03         & 0.08         & 0.06         & 0.11         \\\\\n",
      "                     & (0.15)    & (0.12)       & (0.11)       & (0.11)       & (0.10)       & (0.10)       & (0.10)       & (0.11)       & (0.11)       & (0.10)       & (0.11)       \\\\\n",
      "`log10(GDP\\_o)`      &           & 1.47^{***}   & 1.29^{***}   & 1.34^{***}   & 1.35^{***}   & 1.19^{***}   & 1.38^{***}   & 1.08^{***}   & 1.34^{***}   & 1.13^{***}   & 1.40^{***}   \\\\\n",
      "                     &           & (0.21)       & (0.19)       & (0.18)       & (0.17)       & (0.16)       & (0.17)       & (0.18)       & (0.18)       & (0.17)       & (0.18)       \\\\\n",
      "`log10(GDP\\_d)`      &           & 1.91^{***}   & 1.72^{***}   & 1.78^{***}   & 1.79^{***}   & 1.69^{***}   & 1.81^{***}   & 1.58^{***}   & 1.77^{***}   & 1.63^{***}   & 1.83^{***}   \\\\\n",
      "                     &           & (0.21)       & (0.19)       & (0.18)       & (0.17)       & (0.16)       & (0.17)       & (0.18)       & (0.18)       & (0.17)       & (0.18)       \\\\\n",
      "col                  &           &              & 1.12^{***}   & 1.09^{***}   & 0.87^{***}   & 0.31         & 0.73^{***}   & 0.36         & 0.83^{***}   & 0.24         & 0.79^{***}   \\\\\n",
      "                     &           &              & (0.22)       & (0.21)       & (0.20)       & (0.22)       & (0.21)       & (0.25)       & (0.23)       & (0.24)       & (0.23)       \\\\\n",
      "lp1                  &           &              & 0.20^{***}   & 0.21^{***}   & 0.10^{*}     & 0.09^{*}     & 0.10^{*}     & 0.15^{***}   & 0.19^{***}   & 0.16^{***}   & 0.20^{***}   \\\\\n",
      "                     &           &              & (0.05)       & (0.04)       & (0.04)       & (0.04)       & (0.04)       & (0.04)       & (0.04)       & (0.04)       & (0.04)       \\\\\n",
      "shared\\_hist         &           &              & 0.63^{**}    & 0.77^{***}   & 0.61^{**}    & 0.55^{**}    & 0.58^{**}    & 0.48^{*}     & 0.55^{*}     & 0.63^{**}    & 0.68^{**}    \\\\\n",
      "                     &           &              & (0.23)       & (0.23)       & (0.21)       & (0.20)       & (0.21)       & (0.22)       & (0.23)       & (0.21)       & (0.23)       \\\\\n",
      "CS\\_wvs              &           &              &              & -0.30^{***}  & -0.42^{***}  & -0.44^{***}  & -0.42^{***}  &              &              & -0.37^{***}  & -0.30^{***}  \\\\\n",
      "                     &           &              &              & (0.09)       & (0.08)       & (0.08)       & (0.08)       &              &              & (0.08)       & (0.08)       \\\\\n",
      "CS\\_foursquare       &           &              &              &              & 0.60^{***}   & 0.47^{***}   & 0.56^{***}   &              &              &              &              \\\\\n",
      "                     &           &              &              &              & (0.09)       & (0.09)       & (0.09)       &              &              &              &              \\\\\n",
      "CS\\_nonsymm\\_food\\_o &           &              &              &              &              & 0.49^{**}    &              & 0.65^{***}   &              & 0.74^{***}   &              \\\\\n",
      "                     &           &              &              &              &              & (0.18)       &              & (0.19)       &              & (0.18)       &              \\\\\n",
      "CS\\_nonsymm\\_food\\_d &           &              &              &              &              & 0.78^{***}   &              & 0.94^{***}   &              & 1.03^{***}   &              \\\\\n",
      "                     &           &              &              &              &              & (0.18)       &              & (0.19)       &              & (0.18)       &              \\\\\n",
      "CS\\_symm             &           &              &              &              &              &              & 0.51         &              & 0.98^{**}    &              & 1.02^{***}   \\\\\n",
      "                     &           &              &              &              &              &              & (0.29)       &              & (0.31)       &              & (0.30)       \\\\\n",
      "\\midrule\n",
      "R$^2$                & 0.10      & 0.41         & 0.55         & 0.57         & 0.65         & 0.68         & 0.65         & 0.60         & 0.57         & 0.64         & 0.59         \\\\\n",
      "Adj. R$^2$           & 0.08      & 0.40         & 0.53         & 0.55         & 0.63         & 0.66         & 0.63         & 0.58         & 0.55         & 0.62         & 0.57         \\\\\n",
      "Num. obs.            & 240       & 240          & 240          & 240          & 240          & 240          & 240          & 240          & 240          & 240          & 240          \\\\\n",
      "\\bottomrule\n",
      "\\multicolumn{12}{l}{\\scriptsize{$^{***}p<0.001$; $^{**}p<0.01$; $^{*}p<0.05$}}\n",
      "\\end{tabular}\n",
      "\\caption{Linear models}\n",
      "\\label{tab:models_flow}\n",
      "\\end{center}\n",
      "\\end{table}\n"
     ]
    }
   ],
   "source": [
    "print(texreg(list(m1$finalModel, m2$finalModel, m3$finalModel, m4a$finalModel, m4ab$finalModel, m4abd$finalModel, m4abc$finalModel, m4d$finalModel, m4c$finalModel, m4ad$finalModel, m4ac$finalModel), dcolumn = TRUE, booktabs = TRUE, \n",
    "       use.packages = FALSE, label = \"tab:models_flow\", caption = \"Linear models\", \n",
    "       float.pos = \"h\"))"
   ]
  },
  {
   "cell_type": "markdown",
   "metadata": {},
   "source": [
    "## AIC and BIC"
   ]
  },
  {
   "cell_type": "code",
   "execution_count": 23,
   "metadata": {
    "scrolled": true
   },
   "outputs": [
    {
     "name": "stdout",
     "output_type": "stream",
     "text": [
      "[1] \"Model 1: Baseline\"\n",
      "\n",
      "Call:\n",
      "lm(formula = .outcome ~ ., data = dat)\n",
      "\n",
      "Coefficients:\n",
      "      (Intercept)     `log10(pop_o)`    `log10(area_o)`     `log10(pop_d)`  \n",
      "         -5.74004            0.32671            0.07367            0.47856  \n",
      "  `log10(area_d)`  `log10(distwces)`  \n",
      "          0.15616            0.23579  \n",
      "\n",
      "[1] 0.07999891\n",
      "[1] 796.5826\n",
      "[1] 820.9471\n",
      "$lppd\n",
      "[1] -391.3916\n",
      "\n",
      "$pwaic1\n",
      "[1] 7.275733\n",
      "\n",
      "$pwaic2\n",
      "[1] 7.646771\n",
      "\n",
      "$WAIC1\n",
      "[1] 797.3347\n",
      "\n",
      "$WAIC2\n",
      "[1] 798.0768\n",
      "\n",
      "[1] \"Model 2: GDP\"\n",
      "\n",
      "Call:\n",
      "lm(formula = .outcome ~ ., data = dat)\n",
      "\n",
      "Coefficients:\n",
      "      (Intercept)     `log10(pop_o)`    `log10(area_o)`     `log10(pop_d)`  \n",
      "         -25.5127            -0.9624             0.2018            -1.1904  \n",
      "  `log10(area_d)`  `log10(distwces)`     `log10(GDP_o)`     `log10(GDP_d)`  \n",
      "           0.3216             0.2524             1.4707             1.9055  \n",
      "\n",
      "[1] 0.3954991\n",
      "[1] 697.7293\n",
      "[1] 729.0551\n",
      "$lppd\n",
      "[1] -339.2842\n",
      "\n",
      "$pwaic1\n",
      "[1] 9.967353\n",
      "\n",
      "$pwaic2\n",
      "[1] 10.65782\n",
      "\n",
      "$WAIC1\n",
      "[1] 698.5031\n",
      "\n",
      "$WAIC2\n",
      "[1] 699.884\n",
      "\n",
      "[1] \"Model 3: Shared language and history\"\n",
      "\n",
      "Call:\n",
      "lm(formula = .outcome ~ ., data = dat)\n",
      "\n",
      "Coefficients:\n",
      "      (Intercept)     `log10(pop_o)`    `log10(area_o)`     `log10(pop_d)`  \n",
      "         -25.6416            -0.5461             0.0681            -0.7753  \n",
      "  `log10(area_d)`  `log10(distwces)`     `log10(GDP_o)`     `log10(GDP_d)`  \n",
      "           0.1884             0.1427             1.2876             1.7222  \n",
      "              col                lp1        shared_hist  \n",
      "           1.1201             0.1998             0.6337  \n",
      "\n",
      "[1] 0.5279884\n",
      "[1] 641.2298\n",
      "[1] 682.9974\n",
      "$lppd\n",
      "[1] -307.8268\n",
      "\n",
      "$pwaic1\n",
      "[1] 13.71585\n",
      "\n",
      "$pwaic2\n",
      "[1] 14.81666\n",
      "\n",
      "$WAIC1\n",
      "[1] 643.0854\n",
      "\n",
      "$WAIC2\n",
      "[1] 645.287\n",
      "\n",
      "[1] \"Model 4: WVS\"\n",
      "\n",
      "Call:\n",
      "lm(formula = .outcome ~ ., data = dat)\n",
      "\n",
      "Coefficients:\n",
      "      (Intercept)     `log10(pop_o)`    `log10(area_o)`     `log10(pop_d)`  \n",
      "        -26.29300           -0.61076            0.07546           -0.83957  \n",
      "  `log10(area_d)`  `log10(distwces)`     `log10(GDP_o)`     `log10(GDP_d)`  \n",
      "          0.19565            0.17728            1.34183            1.77645  \n",
      "              col                lp1        shared_hist             CS_wvs  \n",
      "          1.09199            0.21401            0.76628           -0.29593  \n",
      "\n",
      "[1] 0.549713\n",
      "[1] 630.871\n",
      "[1] 676.1193\n",
      "$lppd\n",
      "[1] -301.0524\n",
      "\n",
      "$pwaic1\n",
      "[1] 15.81107\n",
      "\n",
      "$pwaic2\n",
      "[1] 17.4612\n",
      "\n",
      "$WAIC1\n",
      "[1] 633.727\n",
      "\n",
      "$WAIC2\n",
      "[1] 637.0272\n",
      "\n",
      "[1] \"Model 5: Foursquare\"\n",
      "\n",
      "Call:\n",
      "lm(formula = .outcome ~ ., data = dat)\n",
      "\n",
      "Coefficients:\n",
      "      (Intercept)     `log10(pop_o)`    `log10(area_o)`     `log10(pop_d)`  \n",
      "        -25.22601           -0.60198            0.07675           -0.83310  \n",
      "  `log10(area_d)`  `log10(distwces)`     `log10(GDP_o)`     `log10(GDP_d)`  \n",
      "          0.19784           -0.03092            1.35282            1.78701  \n",
      "              col                lp1        shared_hist             CS_wvs  \n",
      "          0.86676            0.09956            0.60864           -0.41982  \n",
      "    CS_foursquare  \n",
      "          0.60229  \n",
      "\n",
      "[1] 0.627797\n",
      "[1] 586.1091\n",
      "[1] 634.838\n",
      "$lppd\n",
      "[1] -278.9335\n",
      "\n",
      "$pwaic1\n",
      "[1] 14.70769\n",
      "\n",
      "$pwaic2\n",
      "[1] 16.04867\n",
      "\n",
      "$WAIC1\n",
      "[1] 587.2825\n",
      "\n",
      "$WAIC2\n",
      "[1] 589.9644\n",
      "\n",
      "[1] \"Model 6: Asymmetric CS\"\n",
      "\n",
      "Call:\n",
      "lm(formula = .outcome ~ ., data = dat)\n",
      "\n",
      "Coefficients:\n",
      "      (Intercept)     `log10(pop_o)`    `log10(area_o)`     `log10(pop_d)`  \n",
      "        -25.31378           -0.23193            0.03399           -0.63918  \n",
      "  `log10(area_d)`  `log10(distwces)`     `log10(GDP_o)`     `log10(GDP_d)`  \n",
      "          0.16313           -0.07083            1.18529            1.68664  \n",
      "              col                lp1        shared_hist             CS_wvs  \n",
      "          0.30676            0.08943            0.54612           -0.44245  \n",
      "    CS_foursquare  CS_nonsymm_food_o  CS_nonsymm_food_d  \n",
      "          0.46769            0.49209            0.77840  \n",
      "\n",
      "[1] 0.6588427\n",
      "[1] 567.0822\n",
      "[1] 622.7724\n",
      "$lppd\n",
      "[1] -267.6824\n",
      "\n",
      "$pwaic1\n",
      "[1] 16.18287\n",
      "\n",
      "$pwaic2\n",
      "[1] 18.00394\n",
      "\n",
      "$WAIC1\n",
      "[1] 567.7305\n",
      "\n",
      "$WAIC2\n",
      "[1] 571.3726\n",
      "\n",
      "[1] \"Model 7: Symmetric CS\"\n",
      "\n",
      "Call:\n",
      "lm(formula = .outcome ~ ., data = dat)\n",
      "\n",
      "Coefficients:\n",
      "      (Intercept)     `log10(pop_o)`    `log10(area_o)`     `log10(pop_d)`  \n",
      "        -24.83634           -0.66107            0.08105           -0.89238  \n",
      "  `log10(area_d)`  `log10(distwces)`     `log10(GDP_o)`     `log10(GDP_d)`  \n",
      "          0.20222           -0.04800            1.37901            1.81316  \n",
      "              col                lp1        shared_hist             CS_wvs  \n",
      "          0.73265            0.10173            0.57812           -0.41541  \n",
      "    CS_foursquare            CS_symm  \n",
      "          0.55878            0.51020  \n",
      "\n",
      "[1] 0.6311564\n",
      "[1] 584.8735\n",
      "[1] 637.0831\n",
      "$lppd\n",
      "[1] -276.4466\n",
      "\n",
      "$pwaic1\n",
      "[1] 17.31\n",
      "\n",
      "$pwaic2\n",
      "[1] 19.01038\n",
      "\n",
      "$WAIC1\n",
      "[1] 587.5132\n",
      "\n",
      "$WAIC2\n",
      "[1] 590.914\n",
      "\n"
     ]
    }
   ],
   "source": [
    "print(\"Model 1: Baseline\")\n",
    "print(m1$finalModel)\n",
    "print(summary(m1)$adj.r.squared)\n",
    "print(AIC(m1$finalModel))\n",
    "print(BIC(m1$finalModel))\n",
    "print(blmeco::WAIC(m1$finalModel))\n",
    "\n",
    "print(\"Model 2: GDP\")\n",
    "print(m2$finalModel)\n",
    "print(summary(m2)$adj.r.squared)\n",
    "print(AIC(m2$finalModel))\n",
    "print(BIC(m2$finalModel))\n",
    "print(blmeco::WAIC(m2$finalModel))\n",
    "\n",
    "print(\"Model 3: Shared language and history\")\n",
    "print(m3$finalModel)\n",
    "print(summary(m3)$adj.r.squared)\n",
    "print(AIC(m3$finalModel))\n",
    "print(BIC(m3$finalModel))\n",
    "print(blmeco::WAIC(m3$finalModel))\n",
    "\n",
    "print(\"Model 4: WVS\")\n",
    "print(m4a$finalModel)\n",
    "print(summary(m4a)$adj.r.squared)\n",
    "print(AIC(m4a$finalModel))\n",
    "print(BIC(m4a$finalModel))\n",
    "print(blmeco::WAIC(m4a$finalModel))\n",
    "\n",
    "print(\"Model 5: Foursquare\")\n",
    "print(m4ab$finalModel)\n",
    "print(summary(m4ab)$adj.r.squared)\n",
    "print(AIC(m4ab$finalModel))\n",
    "print(BIC(m4ab$finalModel))\n",
    "print(blmeco::WAIC(m4ab$finalModel))\n",
    "\n",
    "print(\"Model 6: Asymmetric CS\")\n",
    "print(m4abd$finalModel)\n",
    "print(summary(m4abd)$adj.r.squared)\n",
    "print(AIC(m4abd$finalModel))\n",
    "print(BIC(m4abd$finalModel))\n",
    "print(blmeco::WAIC(m4abd$finalModel))\n",
    "\n",
    "print(\"Model 7: Symmetric CS\")\n",
    "print(m4abc$finalModel)\n",
    "print(summary(m4abc)$adj.r.squared)\n",
    "print(AIC(m4abc$finalModel))\n",
    "print(BIC(m4abc$finalModel))\n",
    "print(blmeco::WAIC(m4abc$finalModel))"
   ]
  },
  {
   "cell_type": "markdown",
   "metadata": {},
   "source": [
    "## PLOT correlations"
   ]
  },
  {
   "cell_type": "code",
   "execution_count": 24,
   "metadata": {},
   "outputs": [
    {
     "data": {
      "text/html": [
       "<table>\n",
       "<thead><tr><th scope=col>log_m_flow_da_pb_closed</th><th scope=col>CS_wvs</th><th scope=col>CS_foursquare</th><th scope=col>CS_nonsymm_food_o</th><th scope=col>CS_nonsymm_food_d</th><th scope=col>CS_symm</th></tr></thead>\n",
       "<tbody>\n",
       "\t<tr><td>3.347330    </td><td> 0.257921272</td><td> 0.1005334  </td><td>-0.25534750 </td><td> 0.31856652 </td><td>-0.11433611 </td></tr>\n",
       "\t<tr><td>4.032135    </td><td> 0.768817307</td><td> 0.8402622  </td><td> 0.21724563 </td><td> 0.10779643 </td><td> 0.17691737 </td></tr>\n",
       "\t<tr><td>4.925384    </td><td>-0.989918894</td><td> 0.9548769  </td><td> 0.40901942 </td><td> 0.46672998 </td><td> 0.39391861 </td></tr>\n",
       "\t<tr><td>3.484157    </td><td> 0.169769778</td><td> 0.8741573  </td><td>-0.21927129 </td><td>-0.41086766 </td><td>-0.06134509 </td></tr>\n",
       "\t<tr><td>3.193125    </td><td> 0.322971579</td><td> 0.6263188  </td><td>-0.36688149 </td><td>-0.20727953 </td><td>-0.16915309 </td></tr>\n",
       "\t<tr><td>0.903090    </td><td> 0.465690503</td><td>-0.8793284  </td><td>-0.31759939 </td><td>-0.67796209 </td><td>-0.19920772 </td></tr>\n",
       "\t<tr><td>3.090258    </td><td>-0.367292972</td><td>-0.9719278  </td><td>-0.51795720 </td><td>-0.81593583 </td><td>-0.22437150 </td></tr>\n",
       "\t<tr><td>0.301030    </td><td>-0.620184293</td><td>-0.7758780  </td><td>-0.82887197 </td><td>-0.26388265 </td><td>-0.28997372 </td></tr>\n",
       "\t<tr><td>3.304921    </td><td> 0.965394029</td><td> 0.8856328  </td><td> 0.30998559 </td><td> 0.34413910 </td><td> 0.27235146 </td></tr>\n",
       "\t<tr><td>2.440909    </td><td>-0.896528931</td><td>-0.8253073  </td><td>-0.15649225 </td><td>-0.69455723 </td><td>-0.08055443 </td></tr>\n",
       "\t<tr><td>0.301030    </td><td>-0.913184903</td><td>-0.6899539  </td><td>-0.65288109 </td><td> 0.14592405 </td><td>-0.20966715 </td></tr>\n",
       "\t<tr><td>3.168203    </td><td>-0.979152404</td><td>-0.8553596  </td><td>-0.49827893 </td><td>-0.52428558 </td><td>-0.20142284 </td></tr>\n",
       "\t<tr><td>4.694895    </td><td> 0.110066561</td><td> 0.7966913  </td><td> 0.16960881 </td><td> 0.03543246 </td><td> 0.16359151 </td></tr>\n",
       "\t<tr><td>2.123852    </td><td> 0.083216054</td><td>-0.5873027  </td><td>-0.19194844 </td><td>-0.72425023 </td><td>-0.09868350 </td></tr>\n",
       "\t<tr><td>4.396548    </td><td> 0.167930231</td><td> 0.8773996  </td><td>-0.28485408 </td><td>-0.03064576 </td><td>-0.12580614 </td></tr>\n",
       "\t<tr><td>3.700531    </td><td> 0.257921272</td><td> 0.1005334  </td><td> 0.31856652 </td><td>-0.25534750 </td><td>-0.11433611 </td></tr>\n",
       "\t<tr><td>4.193820    </td><td>-0.419538334</td><td>-0.4549591  </td><td> 0.20212024 </td><td>-0.50815463 </td><td>-0.18316630 </td></tr>\n",
       "\t<tr><td>4.159687    </td><td>-0.118477854</td><td>-0.1995002  </td><td> 0.09922352 </td><td>-0.40896793 </td><td>-0.21693946 </td></tr>\n",
       "\t<tr><td>4.038064    </td><td> 0.995928068</td><td> 0.5710645  </td><td> 0.34657761 </td><td>-0.23163061 </td><td>-0.18152884 </td></tr>\n",
       "\t<tr><td>5.248086    </td><td> 0.997689054</td><td> 0.8385834  </td><td> 0.59776338 </td><td> 0.27997820 </td><td> 0.32727866 </td></tr>\n",
       "\t<tr><td>4.505001    </td><td>-0.734894795</td><td>-0.5622051  </td><td> 0.34040676 </td><td>-0.74732273 </td><td>-0.42124163 </td></tr>\n",
       "\t<tr><td>4.194681    </td><td> 0.803903390</td><td> 0.1363762  </td><td> 0.27908949 </td><td>-0.50112052 </td><td>-0.36940833 </td></tr>\n",
       "\t<tr><td>4.706556    </td><td>-0.917873527</td><td>-0.7056883  </td><td> 0.40890461 </td><td> 0.19018417 </td><td> 0.18000864 </td></tr>\n",
       "\t<tr><td>3.305136    </td><td>-0.002976215</td><td>-0.3729979  </td><td> 0.03537449 </td><td>-0.56851789 </td><td>-0.19258554 </td></tr>\n",
       "\t<tr><td>3.525045    </td><td>-0.659231080</td><td> 0.4788521  </td><td>-0.16326341 </td><td>-0.63186079 </td><td>-0.48793018 </td></tr>\n",
       "\t<tr><td>4.218982    </td><td>-0.629286389</td><td>-0.7895495  </td><td> 0.31656298 </td><td> 0.36916846 </td><td> 0.23749889 </td></tr>\n",
       "\t<tr><td>4.529982    </td><td>-0.056289867</td><td> 0.4294180  </td><td> 0.14811350 </td><td>-0.43427265 </td><td>-0.24214879 </td></tr>\n",
       "\t<tr><td>3.864926    </td><td> 0.988684231</td><td> 0.6814185  </td><td> 0.12172964 </td><td>-0.32229338 </td><td>-0.21354394 </td></tr>\n",
       "\t<tr><td>3.863977    </td><td>-0.941351628</td><td> 0.7462234  </td><td> 0.27052948 </td><td>-0.85173028 </td><td>-0.27776537 </td></tr>\n",
       "\t<tr><td>4.532194    </td><td> 0.995758080</td><td>-0.3891218  </td><td> 0.64078430 </td><td> 0.62921760 </td><td> 0.45026896 </td></tr>\n",
       "\t<tr><td>...</td><td>...</td><td>...</td><td>...</td><td>...</td><td>...</td></tr>\n",
       "\t<tr><td>2.662758   </td><td> 0.08321605</td><td>-0.58730268</td><td>-0.72425023</td><td>-0.19194844</td><td>-0.09868350</td></tr>\n",
       "\t<tr><td>4.157094   </td><td>-0.94135163</td><td> 0.74622335</td><td>-0.85173028</td><td> 0.27052948</td><td>-0.27776537</td></tr>\n",
       "\t<tr><td>2.502427   </td><td> 0.70122845</td><td>-0.93231129</td><td>-0.71466299</td><td>-0.53825882</td><td>-0.03172250</td></tr>\n",
       "\t<tr><td>3.208173   </td><td>-0.22352127</td><td>-0.80118538</td><td>-0.76962078</td><td>-0.39933375</td><td>-0.07814615</td></tr>\n",
       "\t<tr><td>4.679573   </td><td>-0.96793806</td><td>-0.12033137</td><td>-0.30711422</td><td>-0.15343198</td><td> 0.13634094</td></tr>\n",
       "\t<tr><td>4.392732   </td><td>-0.91624965</td><td> 0.26311741</td><td>-0.75872854</td><td>-0.17717287</td><td>-0.16732636</td></tr>\n",
       "\t<tr><td>2.572872   </td><td> 0.92063117</td><td> 0.13099835</td><td>-0.48202091</td><td>-0.41470230</td><td> 0.20489202</td></tr>\n",
       "\t<tr><td>3.109579   </td><td>-0.95744393</td><td> 0.76124323</td><td>-0.32861369</td><td>-0.39638770</td><td> 0.20586957</td></tr>\n",
       "\t<tr><td>2.354108   </td><td> 0.73012599</td><td>-0.05494082</td><td>-0.85505990</td><td> 0.34439747</td><td>-0.21755477</td></tr>\n",
       "\t<tr><td>2.184691   </td><td> 0.34022737</td><td>-0.89599358</td><td>-0.67076529</td><td>-0.24461499</td><td>-0.12028220</td></tr>\n",
       "\t<tr><td>3.712060   </td><td> 0.36684310</td><td> 0.94174191</td><td> 0.11026812</td><td>-0.52608806</td><td> 0.37231640</td></tr>\n",
       "\t<tr><td>2.184691   </td><td> 0.33014029</td><td>-0.18065152</td><td>-0.86158102</td><td> 0.12314585</td><td>-0.29004801</td></tr>\n",
       "\t<tr><td>2.559907   </td><td>-0.28390364</td><td> 0.92163538</td><td>-0.60650869</td><td>-0.30813395</td><td>-0.02530489</td></tr>\n",
       "\t<tr><td>4.023582   </td><td>-0.98131752</td><td> 0.02127178</td><td>-0.49005912</td><td>-0.20854132</td><td> 0.06365414</td></tr>\n",
       "\t<tr><td>4.788352   </td><td>-0.96840518</td><td>-0.90360150</td><td>-0.78187131</td><td>-0.25277318</td><td>-0.28983602</td></tr>\n",
       "\t<tr><td>4.899793   </td><td> 0.16793023</td><td> 0.87739957</td><td>-0.03064576</td><td>-0.28485408</td><td>-0.12580614</td></tr>\n",
       "\t<tr><td>4.850352   </td><td> 0.99575808</td><td>-0.38912180</td><td> 0.62921760</td><td> 0.64078430</td><td> 0.45026896</td></tr>\n",
       "\t<tr><td>5.308020   </td><td>-0.50127965</td><td> 0.99736228</td><td>-0.07881449</td><td>-0.54038076</td><td>-0.19253817</td></tr>\n",
       "\t<tr><td>4.529520   </td><td>-0.02661330</td><td> 0.98029829</td><td> 0.11872234</td><td>-0.24845091</td><td>-0.14241346</td></tr>\n",
       "\t<tr><td>4.758155   </td><td> 0.99999826</td><td> 0.53399299</td><td> 0.30176935</td><td>-0.32809933</td><td>-0.14248141</td></tr>\n",
       "\t<tr><td>5.251356   </td><td> 0.98720530</td><td> 0.17552650</td><td> 0.50760365</td><td> 0.27157079</td><td> 0.23801647</td></tr>\n",
       "\t<tr><td>4.615140   </td><td>-0.79417690</td><td>-0.54305288</td><td> 0.10055429</td><td>-0.65837735</td><td>-0.31442787</td></tr>\n",
       "\t<tr><td>4.941800   </td><td> 0.85521717</td><td>-0.96564673</td><td>-0.01803185</td><td>-0.47553080</td><td>-0.29936526</td></tr>\n",
       "\t<tr><td>4.495641   </td><td>-0.87746368</td><td>-0.37808243</td><td> 0.02675936</td><td> 0.05600762</td><td> 0.03649500</td></tr>\n",
       "\t<tr><td>6.240678   </td><td>-0.09497322</td><td> 0.99984793</td><td> 0.41007285</td><td>-0.36696107</td><td>-0.01181777</td></tr>\n",
       "\t<tr><td>4.698788   </td><td>-0.58724861</td><td>-0.99503719</td><td>-0.25919492</td><td>-0.69859497</td><td>-0.33429288</td></tr>\n",
       "\t<tr><td>4.018576   </td><td>-0.55510925</td><td>-0.25808909</td><td>-0.05564503</td><td> 0.22324767</td><td> 0.05968710</td></tr>\n",
       "\t<tr><td>5.448148   </td><td> 0.03581306</td><td>-0.99902466</td><td> 0.11165970</td><td>-0.50816684</td><td>-0.17952300</td></tr>\n",
       "\t<tr><td>4.620864   </td><td> 0.99829289</td><td> 0.40905590</td><td>-0.13841523</td><td>-0.46127246</td><td>-0.22424408</td></tr>\n",
       "\t<tr><td>4.278685   </td><td>-0.96840518</td><td>-0.90360150</td><td>-0.25277318</td><td>-0.78187131</td><td>-0.28983602</td></tr>\n",
       "</tbody>\n",
       "</table>\n"
      ],
      "text/latex": [
       "\\begin{tabular}{r|llllll}\n",
       " log\\_m\\_flow\\_da\\_pb\\_closed & CS\\_wvs & CS\\_foursquare & CS\\_nonsymm\\_food\\_o & CS\\_nonsymm\\_food\\_d & CS\\_symm\\\\\n",
       "\\hline\n",
       "\t 3.347330     &  0.257921272 &  0.1005334   & -0.25534750  &  0.31856652  & -0.11433611 \\\\\n",
       "\t 4.032135     &  0.768817307 &  0.8402622   &  0.21724563  &  0.10779643  &  0.17691737 \\\\\n",
       "\t 4.925384     & -0.989918894 &  0.9548769   &  0.40901942  &  0.46672998  &  0.39391861 \\\\\n",
       "\t 3.484157     &  0.169769778 &  0.8741573   & -0.21927129  & -0.41086766  & -0.06134509 \\\\\n",
       "\t 3.193125     &  0.322971579 &  0.6263188   & -0.36688149  & -0.20727953  & -0.16915309 \\\\\n",
       "\t 0.903090     &  0.465690503 & -0.8793284   & -0.31759939  & -0.67796209  & -0.19920772 \\\\\n",
       "\t 3.090258     & -0.367292972 & -0.9719278   & -0.51795720  & -0.81593583  & -0.22437150 \\\\\n",
       "\t 0.301030     & -0.620184293 & -0.7758780   & -0.82887197  & -0.26388265  & -0.28997372 \\\\\n",
       "\t 3.304921     &  0.965394029 &  0.8856328   &  0.30998559  &  0.34413910  &  0.27235146 \\\\\n",
       "\t 2.440909     & -0.896528931 & -0.8253073   & -0.15649225  & -0.69455723  & -0.08055443 \\\\\n",
       "\t 0.301030     & -0.913184903 & -0.6899539   & -0.65288109  &  0.14592405  & -0.20966715 \\\\\n",
       "\t 3.168203     & -0.979152404 & -0.8553596   & -0.49827893  & -0.52428558  & -0.20142284 \\\\\n",
       "\t 4.694895     &  0.110066561 &  0.7966913   &  0.16960881  &  0.03543246  &  0.16359151 \\\\\n",
       "\t 2.123852     &  0.083216054 & -0.5873027   & -0.19194844  & -0.72425023  & -0.09868350 \\\\\n",
       "\t 4.396548     &  0.167930231 &  0.8773996   & -0.28485408  & -0.03064576  & -0.12580614 \\\\\n",
       "\t 3.700531     &  0.257921272 &  0.1005334   &  0.31856652  & -0.25534750  & -0.11433611 \\\\\n",
       "\t 4.193820     & -0.419538334 & -0.4549591   &  0.20212024  & -0.50815463  & -0.18316630 \\\\\n",
       "\t 4.159687     & -0.118477854 & -0.1995002   &  0.09922352  & -0.40896793  & -0.21693946 \\\\\n",
       "\t 4.038064     &  0.995928068 &  0.5710645   &  0.34657761  & -0.23163061  & -0.18152884 \\\\\n",
       "\t 5.248086     &  0.997689054 &  0.8385834   &  0.59776338  &  0.27997820  &  0.32727866 \\\\\n",
       "\t 4.505001     & -0.734894795 & -0.5622051   &  0.34040676  & -0.74732273  & -0.42124163 \\\\\n",
       "\t 4.194681     &  0.803903390 &  0.1363762   &  0.27908949  & -0.50112052  & -0.36940833 \\\\\n",
       "\t 4.706556     & -0.917873527 & -0.7056883   &  0.40890461  &  0.19018417  &  0.18000864 \\\\\n",
       "\t 3.305136     & -0.002976215 & -0.3729979   &  0.03537449  & -0.56851789  & -0.19258554 \\\\\n",
       "\t 3.525045     & -0.659231080 &  0.4788521   & -0.16326341  & -0.63186079  & -0.48793018 \\\\\n",
       "\t 4.218982     & -0.629286389 & -0.7895495   &  0.31656298  &  0.36916846  &  0.23749889 \\\\\n",
       "\t 4.529982     & -0.056289867 &  0.4294180   &  0.14811350  & -0.43427265  & -0.24214879 \\\\\n",
       "\t 3.864926     &  0.988684231 &  0.6814185   &  0.12172964  & -0.32229338  & -0.21354394 \\\\\n",
       "\t 3.863977     & -0.941351628 &  0.7462234   &  0.27052948  & -0.85173028  & -0.27776537 \\\\\n",
       "\t 4.532194     &  0.995758080 & -0.3891218   &  0.64078430  &  0.62921760  &  0.45026896 \\\\\n",
       "\t ... & ... & ... & ... & ... & ...\\\\\n",
       "\t 2.662758    &  0.08321605 & -0.58730268 & -0.72425023 & -0.19194844 & -0.09868350\\\\\n",
       "\t 4.157094    & -0.94135163 &  0.74622335 & -0.85173028 &  0.27052948 & -0.27776537\\\\\n",
       "\t 2.502427    &  0.70122845 & -0.93231129 & -0.71466299 & -0.53825882 & -0.03172250\\\\\n",
       "\t 3.208173    & -0.22352127 & -0.80118538 & -0.76962078 & -0.39933375 & -0.07814615\\\\\n",
       "\t 4.679573    & -0.96793806 & -0.12033137 & -0.30711422 & -0.15343198 &  0.13634094\\\\\n",
       "\t 4.392732    & -0.91624965 &  0.26311741 & -0.75872854 & -0.17717287 & -0.16732636\\\\\n",
       "\t 2.572872    &  0.92063117 &  0.13099835 & -0.48202091 & -0.41470230 &  0.20489202\\\\\n",
       "\t 3.109579    & -0.95744393 &  0.76124323 & -0.32861369 & -0.39638770 &  0.20586957\\\\\n",
       "\t 2.354108    &  0.73012599 & -0.05494082 & -0.85505990 &  0.34439747 & -0.21755477\\\\\n",
       "\t 2.184691    &  0.34022737 & -0.89599358 & -0.67076529 & -0.24461499 & -0.12028220\\\\\n",
       "\t 3.712060    &  0.36684310 &  0.94174191 &  0.11026812 & -0.52608806 &  0.37231640\\\\\n",
       "\t 2.184691    &  0.33014029 & -0.18065152 & -0.86158102 &  0.12314585 & -0.29004801\\\\\n",
       "\t 2.559907    & -0.28390364 &  0.92163538 & -0.60650869 & -0.30813395 & -0.02530489\\\\\n",
       "\t 4.023582    & -0.98131752 &  0.02127178 & -0.49005912 & -0.20854132 &  0.06365414\\\\\n",
       "\t 4.788352    & -0.96840518 & -0.90360150 & -0.78187131 & -0.25277318 & -0.28983602\\\\\n",
       "\t 4.899793    &  0.16793023 &  0.87739957 & -0.03064576 & -0.28485408 & -0.12580614\\\\\n",
       "\t 4.850352    &  0.99575808 & -0.38912180 &  0.62921760 &  0.64078430 &  0.45026896\\\\\n",
       "\t 5.308020    & -0.50127965 &  0.99736228 & -0.07881449 & -0.54038076 & -0.19253817\\\\\n",
       "\t 4.529520    & -0.02661330 &  0.98029829 &  0.11872234 & -0.24845091 & -0.14241346\\\\\n",
       "\t 4.758155    &  0.99999826 &  0.53399299 &  0.30176935 & -0.32809933 & -0.14248141\\\\\n",
       "\t 5.251356    &  0.98720530 &  0.17552650 &  0.50760365 &  0.27157079 &  0.23801647\\\\\n",
       "\t 4.615140    & -0.79417690 & -0.54305288 &  0.10055429 & -0.65837735 & -0.31442787\\\\\n",
       "\t 4.941800    &  0.85521717 & -0.96564673 & -0.01803185 & -0.47553080 & -0.29936526\\\\\n",
       "\t 4.495641    & -0.87746368 & -0.37808243 &  0.02675936 &  0.05600762 &  0.03649500\\\\\n",
       "\t 6.240678    & -0.09497322 &  0.99984793 &  0.41007285 & -0.36696107 & -0.01181777\\\\\n",
       "\t 4.698788    & -0.58724861 & -0.99503719 & -0.25919492 & -0.69859497 & -0.33429288\\\\\n",
       "\t 4.018576    & -0.55510925 & -0.25808909 & -0.05564503 &  0.22324767 &  0.05968710\\\\\n",
       "\t 5.448148    &  0.03581306 & -0.99902466 &  0.11165970 & -0.50816684 & -0.17952300\\\\\n",
       "\t 4.620864    &  0.99829289 &  0.40905590 & -0.13841523 & -0.46127246 & -0.22424408\\\\\n",
       "\t 4.278685    & -0.96840518 & -0.90360150 & -0.25277318 & -0.78187131 & -0.28983602\\\\\n",
       "\\end{tabular}\n"
      ],
      "text/markdown": [
       "\n",
       "| log_m_flow_da_pb_closed | CS_wvs | CS_foursquare | CS_nonsymm_food_o | CS_nonsymm_food_d | CS_symm |\n",
       "|---|---|---|---|---|---|\n",
       "| 3.347330     |  0.257921272 |  0.1005334   | -0.25534750  |  0.31856652  | -0.11433611  |\n",
       "| 4.032135     |  0.768817307 |  0.8402622   |  0.21724563  |  0.10779643  |  0.17691737  |\n",
       "| 4.925384     | -0.989918894 |  0.9548769   |  0.40901942  |  0.46672998  |  0.39391861  |\n",
       "| 3.484157     |  0.169769778 |  0.8741573   | -0.21927129  | -0.41086766  | -0.06134509  |\n",
       "| 3.193125     |  0.322971579 |  0.6263188   | -0.36688149  | -0.20727953  | -0.16915309  |\n",
       "| 0.903090     |  0.465690503 | -0.8793284   | -0.31759939  | -0.67796209  | -0.19920772  |\n",
       "| 3.090258     | -0.367292972 | -0.9719278   | -0.51795720  | -0.81593583  | -0.22437150  |\n",
       "| 0.301030     | -0.620184293 | -0.7758780   | -0.82887197  | -0.26388265  | -0.28997372  |\n",
       "| 3.304921     |  0.965394029 |  0.8856328   |  0.30998559  |  0.34413910  |  0.27235146  |\n",
       "| 2.440909     | -0.896528931 | -0.8253073   | -0.15649225  | -0.69455723  | -0.08055443  |\n",
       "| 0.301030     | -0.913184903 | -0.6899539   | -0.65288109  |  0.14592405  | -0.20966715  |\n",
       "| 3.168203     | -0.979152404 | -0.8553596   | -0.49827893  | -0.52428558  | -0.20142284  |\n",
       "| 4.694895     |  0.110066561 |  0.7966913   |  0.16960881  |  0.03543246  |  0.16359151  |\n",
       "| 2.123852     |  0.083216054 | -0.5873027   | -0.19194844  | -0.72425023  | -0.09868350  |\n",
       "| 4.396548     |  0.167930231 |  0.8773996   | -0.28485408  | -0.03064576  | -0.12580614  |\n",
       "| 3.700531     |  0.257921272 |  0.1005334   |  0.31856652  | -0.25534750  | -0.11433611  |\n",
       "| 4.193820     | -0.419538334 | -0.4549591   |  0.20212024  | -0.50815463  | -0.18316630  |\n",
       "| 4.159687     | -0.118477854 | -0.1995002   |  0.09922352  | -0.40896793  | -0.21693946  |\n",
       "| 4.038064     |  0.995928068 |  0.5710645   |  0.34657761  | -0.23163061  | -0.18152884  |\n",
       "| 5.248086     |  0.997689054 |  0.8385834   |  0.59776338  |  0.27997820  |  0.32727866  |\n",
       "| 4.505001     | -0.734894795 | -0.5622051   |  0.34040676  | -0.74732273  | -0.42124163  |\n",
       "| 4.194681     |  0.803903390 |  0.1363762   |  0.27908949  | -0.50112052  | -0.36940833  |\n",
       "| 4.706556     | -0.917873527 | -0.7056883   |  0.40890461  |  0.19018417  |  0.18000864  |\n",
       "| 3.305136     | -0.002976215 | -0.3729979   |  0.03537449  | -0.56851789  | -0.19258554  |\n",
       "| 3.525045     | -0.659231080 |  0.4788521   | -0.16326341  | -0.63186079  | -0.48793018  |\n",
       "| 4.218982     | -0.629286389 | -0.7895495   |  0.31656298  |  0.36916846  |  0.23749889  |\n",
       "| 4.529982     | -0.056289867 |  0.4294180   |  0.14811350  | -0.43427265  | -0.24214879  |\n",
       "| 3.864926     |  0.988684231 |  0.6814185   |  0.12172964  | -0.32229338  | -0.21354394  |\n",
       "| 3.863977     | -0.941351628 |  0.7462234   |  0.27052948  | -0.85173028  | -0.27776537  |\n",
       "| 4.532194     |  0.995758080 | -0.3891218   |  0.64078430  |  0.62921760  |  0.45026896  |\n",
       "| ... | ... | ... | ... | ... | ... |\n",
       "| 2.662758    |  0.08321605 | -0.58730268 | -0.72425023 | -0.19194844 | -0.09868350 |\n",
       "| 4.157094    | -0.94135163 |  0.74622335 | -0.85173028 |  0.27052948 | -0.27776537 |\n",
       "| 2.502427    |  0.70122845 | -0.93231129 | -0.71466299 | -0.53825882 | -0.03172250 |\n",
       "| 3.208173    | -0.22352127 | -0.80118538 | -0.76962078 | -0.39933375 | -0.07814615 |\n",
       "| 4.679573    | -0.96793806 | -0.12033137 | -0.30711422 | -0.15343198 |  0.13634094 |\n",
       "| 4.392732    | -0.91624965 |  0.26311741 | -0.75872854 | -0.17717287 | -0.16732636 |\n",
       "| 2.572872    |  0.92063117 |  0.13099835 | -0.48202091 | -0.41470230 |  0.20489202 |\n",
       "| 3.109579    | -0.95744393 |  0.76124323 | -0.32861369 | -0.39638770 |  0.20586957 |\n",
       "| 2.354108    |  0.73012599 | -0.05494082 | -0.85505990 |  0.34439747 | -0.21755477 |\n",
       "| 2.184691    |  0.34022737 | -0.89599358 | -0.67076529 | -0.24461499 | -0.12028220 |\n",
       "| 3.712060    |  0.36684310 |  0.94174191 |  0.11026812 | -0.52608806 |  0.37231640 |\n",
       "| 2.184691    |  0.33014029 | -0.18065152 | -0.86158102 |  0.12314585 | -0.29004801 |\n",
       "| 2.559907    | -0.28390364 |  0.92163538 | -0.60650869 | -0.30813395 | -0.02530489 |\n",
       "| 4.023582    | -0.98131752 |  0.02127178 | -0.49005912 | -0.20854132 |  0.06365414 |\n",
       "| 4.788352    | -0.96840518 | -0.90360150 | -0.78187131 | -0.25277318 | -0.28983602 |\n",
       "| 4.899793    |  0.16793023 |  0.87739957 | -0.03064576 | -0.28485408 | -0.12580614 |\n",
       "| 4.850352    |  0.99575808 | -0.38912180 |  0.62921760 |  0.64078430 |  0.45026896 |\n",
       "| 5.308020    | -0.50127965 |  0.99736228 | -0.07881449 | -0.54038076 | -0.19253817 |\n",
       "| 4.529520    | -0.02661330 |  0.98029829 |  0.11872234 | -0.24845091 | -0.14241346 |\n",
       "| 4.758155    |  0.99999826 |  0.53399299 |  0.30176935 | -0.32809933 | -0.14248141 |\n",
       "| 5.251356    |  0.98720530 |  0.17552650 |  0.50760365 |  0.27157079 |  0.23801647 |\n",
       "| 4.615140    | -0.79417690 | -0.54305288 |  0.10055429 | -0.65837735 | -0.31442787 |\n",
       "| 4.941800    |  0.85521717 | -0.96564673 | -0.01803185 | -0.47553080 | -0.29936526 |\n",
       "| 4.495641    | -0.87746368 | -0.37808243 |  0.02675936 |  0.05600762 |  0.03649500 |\n",
       "| 6.240678    | -0.09497322 |  0.99984793 |  0.41007285 | -0.36696107 | -0.01181777 |\n",
       "| 4.698788    | -0.58724861 | -0.99503719 | -0.25919492 | -0.69859497 | -0.33429288 |\n",
       "| 4.018576    | -0.55510925 | -0.25808909 | -0.05564503 |  0.22324767 |  0.05968710 |\n",
       "| 5.448148    |  0.03581306 | -0.99902466 |  0.11165970 | -0.50816684 | -0.17952300 |\n",
       "| 4.620864    |  0.99829289 |  0.40905590 | -0.13841523 | -0.46127246 | -0.22424408 |\n",
       "| 4.278685    | -0.96840518 | -0.90360150 | -0.25277318 | -0.78187131 | -0.28983602 |\n",
       "\n"
      ],
      "text/plain": [
       "    log_m_flow_da_pb_closed CS_wvs       CS_foursquare CS_nonsymm_food_o\n",
       "1   3.347330                 0.257921272  0.1005334    -0.25534750      \n",
       "2   4.032135                 0.768817307  0.8402622     0.21724563      \n",
       "3   4.925384                -0.989918894  0.9548769     0.40901942      \n",
       "4   3.484157                 0.169769778  0.8741573    -0.21927129      \n",
       "5   3.193125                 0.322971579  0.6263188    -0.36688149      \n",
       "6   0.903090                 0.465690503 -0.8793284    -0.31759939      \n",
       "7   3.090258                -0.367292972 -0.9719278    -0.51795720      \n",
       "8   0.301030                -0.620184293 -0.7758780    -0.82887197      \n",
       "9   3.304921                 0.965394029  0.8856328     0.30998559      \n",
       "10  2.440909                -0.896528931 -0.8253073    -0.15649225      \n",
       "11  0.301030                -0.913184903 -0.6899539    -0.65288109      \n",
       "12  3.168203                -0.979152404 -0.8553596    -0.49827893      \n",
       "13  4.694895                 0.110066561  0.7966913     0.16960881      \n",
       "14  2.123852                 0.083216054 -0.5873027    -0.19194844      \n",
       "15  4.396548                 0.167930231  0.8773996    -0.28485408      \n",
       "16  3.700531                 0.257921272  0.1005334     0.31856652      \n",
       "17  4.193820                -0.419538334 -0.4549591     0.20212024      \n",
       "18  4.159687                -0.118477854 -0.1995002     0.09922352      \n",
       "19  4.038064                 0.995928068  0.5710645     0.34657761      \n",
       "20  5.248086                 0.997689054  0.8385834     0.59776338      \n",
       "21  4.505001                -0.734894795 -0.5622051     0.34040676      \n",
       "22  4.194681                 0.803903390  0.1363762     0.27908949      \n",
       "23  4.706556                -0.917873527 -0.7056883     0.40890461      \n",
       "24  3.305136                -0.002976215 -0.3729979     0.03537449      \n",
       "25  3.525045                -0.659231080  0.4788521    -0.16326341      \n",
       "26  4.218982                -0.629286389 -0.7895495     0.31656298      \n",
       "27  4.529982                -0.056289867  0.4294180     0.14811350      \n",
       "28  3.864926                 0.988684231  0.6814185     0.12172964      \n",
       "29  3.863977                -0.941351628  0.7462234     0.27052948      \n",
       "30  4.532194                 0.995758080 -0.3891218     0.64078430      \n",
       "... ...                     ...          ...           ...              \n",
       "211 2.662758                 0.08321605  -0.58730268   -0.72425023      \n",
       "212 4.157094                -0.94135163   0.74622335   -0.85173028      \n",
       "213 2.502427                 0.70122845  -0.93231129   -0.71466299      \n",
       "214 3.208173                -0.22352127  -0.80118538   -0.76962078      \n",
       "215 4.679573                -0.96793806  -0.12033137   -0.30711422      \n",
       "216 4.392732                -0.91624965   0.26311741   -0.75872854      \n",
       "217 2.572872                 0.92063117   0.13099835   -0.48202091      \n",
       "218 3.109579                -0.95744393   0.76124323   -0.32861369      \n",
       "219 2.354108                 0.73012599  -0.05494082   -0.85505990      \n",
       "220 2.184691                 0.34022737  -0.89599358   -0.67076529      \n",
       "221 3.712060                 0.36684310   0.94174191    0.11026812      \n",
       "222 2.184691                 0.33014029  -0.18065152   -0.86158102      \n",
       "223 2.559907                -0.28390364   0.92163538   -0.60650869      \n",
       "224 4.023582                -0.98131752   0.02127178   -0.49005912      \n",
       "225 4.788352                -0.96840518  -0.90360150   -0.78187131      \n",
       "226 4.899793                 0.16793023   0.87739957   -0.03064576      \n",
       "227 4.850352                 0.99575808  -0.38912180    0.62921760      \n",
       "228 5.308020                -0.50127965   0.99736228   -0.07881449      \n",
       "229 4.529520                -0.02661330   0.98029829    0.11872234      \n",
       "230 4.758155                 0.99999826   0.53399299    0.30176935      \n",
       "231 5.251356                 0.98720530   0.17552650    0.50760365      \n",
       "232 4.615140                -0.79417690  -0.54305288    0.10055429      \n",
       "233 4.941800                 0.85521717  -0.96564673   -0.01803185      \n",
       "234 4.495641                -0.87746368  -0.37808243    0.02675936      \n",
       "235 6.240678                -0.09497322   0.99984793    0.41007285      \n",
       "236 4.698788                -0.58724861  -0.99503719   -0.25919492      \n",
       "237 4.018576                -0.55510925  -0.25808909   -0.05564503      \n",
       "238 5.448148                 0.03581306  -0.99902466    0.11165970      \n",
       "239 4.620864                 0.99829289   0.40905590   -0.13841523      \n",
       "240 4.278685                -0.96840518  -0.90360150   -0.25277318      \n",
       "    CS_nonsymm_food_d CS_symm    \n",
       "1    0.31856652       -0.11433611\n",
       "2    0.10779643        0.17691737\n",
       "3    0.46672998        0.39391861\n",
       "4   -0.41086766       -0.06134509\n",
       "5   -0.20727953       -0.16915309\n",
       "6   -0.67796209       -0.19920772\n",
       "7   -0.81593583       -0.22437150\n",
       "8   -0.26388265       -0.28997372\n",
       "9    0.34413910        0.27235146\n",
       "10  -0.69455723       -0.08055443\n",
       "11   0.14592405       -0.20966715\n",
       "12  -0.52428558       -0.20142284\n",
       "13   0.03543246        0.16359151\n",
       "14  -0.72425023       -0.09868350\n",
       "15  -0.03064576       -0.12580614\n",
       "16  -0.25534750       -0.11433611\n",
       "17  -0.50815463       -0.18316630\n",
       "18  -0.40896793       -0.21693946\n",
       "19  -0.23163061       -0.18152884\n",
       "20   0.27997820        0.32727866\n",
       "21  -0.74732273       -0.42124163\n",
       "22  -0.50112052       -0.36940833\n",
       "23   0.19018417        0.18000864\n",
       "24  -0.56851789       -0.19258554\n",
       "25  -0.63186079       -0.48793018\n",
       "26   0.36916846        0.23749889\n",
       "27  -0.43427265       -0.24214879\n",
       "28  -0.32229338       -0.21354394\n",
       "29  -0.85173028       -0.27776537\n",
       "30   0.62921760        0.45026896\n",
       "... ...               ...        \n",
       "211 -0.19194844       -0.09868350\n",
       "212  0.27052948       -0.27776537\n",
       "213 -0.53825882       -0.03172250\n",
       "214 -0.39933375       -0.07814615\n",
       "215 -0.15343198        0.13634094\n",
       "216 -0.17717287       -0.16732636\n",
       "217 -0.41470230        0.20489202\n",
       "218 -0.39638770        0.20586957\n",
       "219  0.34439747       -0.21755477\n",
       "220 -0.24461499       -0.12028220\n",
       "221 -0.52608806        0.37231640\n",
       "222  0.12314585       -0.29004801\n",
       "223 -0.30813395       -0.02530489\n",
       "224 -0.20854132        0.06365414\n",
       "225 -0.25277318       -0.28983602\n",
       "226 -0.28485408       -0.12580614\n",
       "227  0.64078430        0.45026896\n",
       "228 -0.54038076       -0.19253817\n",
       "229 -0.24845091       -0.14241346\n",
       "230 -0.32809933       -0.14248141\n",
       "231  0.27157079        0.23801647\n",
       "232 -0.65837735       -0.31442787\n",
       "233 -0.47553080       -0.29936526\n",
       "234  0.05600762        0.03649500\n",
       "235 -0.36696107       -0.01181777\n",
       "236 -0.69859497       -0.33429288\n",
       "237  0.22324767        0.05968710\n",
       "238 -0.50816684       -0.17952300\n",
       "239 -0.46127246       -0.22424408\n",
       "240 -0.78187131       -0.28983602"
      ]
     },
     "metadata": {},
     "output_type": "display_data"
    }
   ],
   "source": [
    "gmodel_data_plot_corr <- gmodel_data %>% mutate(log_m_flow_da_pb_closed = log10(m_flow_da_pb_closed)) %>%\n",
    "                                        dplyr::select(c(\"log_m_flow_da_pb_closed\", \"CS_wvs\", \"CS_foursquare\", \"CS_nonsymm_food_o\", \"CS_nonsymm_food_d\", \"CS_symm\"))\n",
    "                                        \n",
    "gmodel_data_plot_corr"
   ]
  },
  {
   "cell_type": "code",
   "execution_count": 25,
   "metadata": {},
   "outputs": [],
   "source": [
    "options(OutDec=\".\")"
   ]
  },
  {
   "cell_type": "code",
   "execution_count": 26,
   "metadata": {},
   "outputs": [
    {
     "data": {
      "image/png": "[encoded data removed]",
      "text/plain": [
       "plot without title"
      ]
     },
     "metadata": {},
     "output_type": "display_data"
    }
   ],
   "source": [
    "colnames <- c(\"Mig. flow (log)\", \"WVS\", \"Foursquare\", \"FB asym. (orig.)\", \"FB asym. (dest.)\", \"FB symm.\")\n",
    "\n",
    "# Scatter plot matrix with GGally\n",
    "ggpairs(gmodel_data_plot_corr, \n",
    "        columns = c(\"log_m_flow_da_pb_closed\", \"CS_wvs\", \"CS_foursquare\", \"CS_nonsymm_food_o\", \"CS_nonsymm_food_d\", \"CS_symm\"),\n",
    "        columnLabels = colnames,\n",
    "        upper = list(continuous = wrap('cor', size = 4, col=\"black\")),\n",
    "        lower = list(continuous = wrap(\"points\", size=0.8, alpha=0.4, pch=16)),\n",
    "        diag = list(continuous = wrap(\"densityDiag\", alpha = 0.1))) + \n",
    "\n",
    "theme(axis.text = element_text(size = 8)) + theme_bw()\n",
    "\n",
    "ggsave(\"figs/corr2-top50.png\", width = 7, height = 7)"
   ]
  },
  {
   "cell_type": "code",
   "execution_count": 27,
   "metadata": {},
   "outputs": [
    {
     "data": {
      "text/html": [
       "<strong>png:</strong> 2"
      ],
      "text/latex": [
       "\\textbf{png:} 2"
      ],
      "text/markdown": [
       "**png:** 2"
      ],
      "text/plain": [
       "png \n",
       "  2 "
      ]
     },
     "metadata": {},
     "output_type": "display_data"
    }
   ],
   "source": [
    "jpeg(\"figs/corr-top50.jpeg\", width = 900, height = 850, res=150, quality=100)\n",
    "\n",
    "options(repr.plot.width=10, repr.plot.height=5)\n",
    "\n",
    "# Correlation panel\n",
    "panel.cor <- function(x, y){\n",
    "    usr <- par(\"usr\"); on.exit(par(usr))\n",
    "    par(usr = c(0, 1, 0, 1))\n",
    "    r <- round(cor(x, y), digits=2)\n",
    "    txt <- paste0(\"R = \", r)\n",
    "    cex.cor <- 0.8/strwidth(txt)\n",
    "    text(0.5, 0.5, txt, 0.5)\n",
    "}\n",
    "# Customize upper panel\n",
    "upper.panel<-function(x, y){\n",
    "  points(x, y, lw=1)\n",
    "}\n",
    "# Create the plots\n",
    "pairs(~log10(m_flow_da_pb_closed) + CS_wvs + CS_foursquare + CS_nonsymm_food_o + CS_nonsymm_food_d + CS_symm,\n",
    "      data=gmodel_data,\n",
    "      lower.panel = panel.cor,\n",
    "      upper.panel = upper.panel, \n",
    "     cex.labels=0.5)\n",
    "\n",
    "dev.off()"
   ]
  },
  {
   "cell_type": "markdown",
   "metadata": {},
   "source": [
    "## PLOT coefficients"
   ]
  },
  {
   "cell_type": "code",
   "execution_count": 28,
   "metadata": {},
   "outputs": [
    {
     "name": "stderr",
     "output_type": "stream",
     "text": [
      "Saving 6,67 x 6,67 in image\n"
     ]
    },
    {
     "data": {
      "image/png": "[encoded data removed]",
      "text/plain": [
       "plot without title"
      ]
     },
     "metadata": {},
     "output_type": "display_data"
    }
   ],
   "source": [
    "options(repr.plot.width=7, repr.plot.height=5)\n",
    "\n",
    "dwplot((list(m1$finalModel, m2$finalModel, m3$finalModel, m4a$finalModel, m4ab$finalModel, m4abd$finalModel, m5$finalModel)),\n",
    "       vline = geom_vline(\n",
    "           xintercept = 0,\n",
    "           colour = \"grey60\",\n",
    "           linetype = 2\n",
    "        )) +\n",
    "# Setting `base_size` for fit the theme\n",
    "# No need to set `base_size` in most usage\n",
    "xlab(\"Coefficient Estimate\") + ylab(\"Independent Variables\") +\n",
    "geom_vline(xintercept = 0,\n",
    "           colour = \"grey60\",\n",
    "           linetype = 2) +\n",
    "ggtitle(\"Predicting Migration Flows\") +\n",
    "theme(\n",
    "        plot.title = element_text(face = \"bold\"),\n",
    "        legend.position = c(0.9, 0.2),\n",
    "        legend.background = element_rect(colour = \"grey80\"),\n",
    "        legend.title = element_blank()\n",
    "    ) + theme_bw()\n",
    "\n",
    "ggsave(\"figs/coeffs-top50.png\")"
   ]
  },
  {
   "cell_type": "markdown",
   "metadata": {},
   "source": [
    "## PLOT expected vs. predicted"
   ]
  },
  {
   "cell_type": "code",
   "execution_count": 29,
   "metadata": {},
   "outputs": [],
   "source": [
    "pm_expected <- log10(gmodel_data$m_flow_da_pb_closed)\n",
    "pm1 <- predict(m1$finalModel)\n",
    "pm2 <- predict(m2$finalModel)\n",
    "pm3 <- predict(m3$finalModel)\n",
    "pm4a <- predict(m4a$finalModel)\n",
    "pm4ab <- predict(m4ab$finalModel)\n",
    "pm4abd <- predict(m4abd$finalModel)\n",
    "pm5 <- predict(m5$finalModel)"
   ]
  },
  {
   "cell_type": "code",
   "execution_count": 30,
   "metadata": {},
   "outputs": [],
   "source": [
    "gmodel_data <- gmodel_data %>% mutate (label = paste(iso_o, iso_d, sep=\"-\"))"
   ]
  },
  {
   "cell_type": "code",
   "execution_count": 35,
   "metadata": {},
   "outputs": [
    {
     "data": {
      "text/html": [
       "<strong>png:</strong> 2"
      ],
      "text/latex": [
       "\\textbf{png:} 2"
      ],
      "text/markdown": [
       "**png:** 2"
      ],
      "text/plain": [
       "png \n",
       "  2 "
      ]
     },
     "metadata": {},
     "output_type": "display_data"
    }
   ],
   "source": [
    "svg(\"figs/models-top50.svg\", width = 1100, height = 850)\n",
    "#jpeg(\"figs/models-top50-flat.jpeg\", width = 2200, height = 425, res=150, quality=100)\n",
    "\n",
    "options(repr.plot.width=10, repr.plot.height=5)\n",
    "\n",
    "par(mfrow=c(2,3))\n",
    "\n",
    "color_mpidr = \"#ef7d00\"\n",
    "\n",
    "plot(pm_expected, pm1, main=\"Model 1:\\nArea, Population, and Distance\", xlim=c(-.5,7), ylim=c(-.5,7), xlab=\"log expected migration flow\", ylab=\"log predicted migration flow\", cex.main=1, col=rgb(red=0, green=0, blue=0, alpha=0.4), pch=19, cex=0.8)\n",
    "legend(1,1, bty=\"n\", legend=paste(\"adj-R² =\", format(summary(m1)$adj.r.squared, digits=2)))\n",
    "segments(x0=-.5,y0=-.5,x1=7,y1=7, col = color_mpidr)\n",
    "\n",
    "plot(pm_expected, pm2, main=\"Model 2:\\n+GDP\", xlim=c(-.5,7), ylim=c(-.5,7), xlab=\"\", ylab=\"\", cex.main=1, col=rgb(red=0, green=0, blue=0, alpha=0.4), pch=19, cex=0.8)\n",
    "legend(1.5,1, bty=\"n\", legend=paste(\"adj-R² =\", format(summary(m2)$adj.r.squared, digits=2)))\n",
    "segments(x0=-.5,y0=-.5,x1=7,y1=7, col = color_mpidr)\n",
    "\n",
    "plot(pm_expected, pm3, main=\"Model 3:\\n+Shared language and history\", xlim=c(-.5,7), ylim=c(-.5,7), xlab=\"\", ylab=\"\", cex.main=1, col=rgb(red=0, green=0, blue=0, alpha=0.4), pch=19, cex=0.8)\n",
    "legend(1,1, bty=\"n\", legend=paste(\"adj-R² =\", format(summary(m3)$adj.r.squared, digits=2)))\n",
    "segments(x0=-.5,y0=-.5,x1=7,y1=7, col = color_mpidr)\n",
    "\n",
    "#plot.new()\n",
    "plot(pm_expected, pm4a, main=\"Model 4:\\n+WVS Similarity\", xlim=c(-.5,7), ylim=c(-.5,7), xlab=\"\", ylab=\"\", cex.main=1, col=rgb(red=0, green=0, blue=0, alpha=0.4), pch=19, cex=0.8)\n",
    "legend(1,1, bty=\"n\", legend=paste(\"adj-R² =\", format(summary(m4a)$adj.r.squared, digits=2)))\n",
    "segments(x0=-.5,y0=-.5,x1=7,y1=7, col = color_mpidr)\n",
    "\n",
    "plot(pm_expected, pm4ab, main=\"Model 5:\\n+Foursquare Similarity\", xlim=c(-.5,7), ylim=c(-.5,7), xlab=\"\", ylab=\"\", cex.main=1, col=rgb(red=0, green=0, blue=0, alpha=0.4), pch=19, cex=0.8)\n",
    "legend(1,1, bty=\"n\", legend=paste(\"adj-R² =\", format(summary(m4ab)$adj.r.squared, digits=2)))\n",
    "segments(x0=-.5,y0=-.5,x1=7,y1=7, col = color_mpidr)\n",
    "\n",
    "plot(pm_expected, pm4abd, main=\"Model 6:\\n+Facebook Asymmetric Similarity\", xlim=c(-.5,7), ylim=c(-.5,7), xlab=\"\", ylab=\"\", cex.main=1, col=rgb(red=0, green=0, blue=0, alpha=0.4), pch=19, cex=0.8)\n",
    "legend(1,1, bty=\"n\", legend=paste(\"adj-R² =\", format(summary(m4abd)$adj.r.squared, digits=2)))\n",
    "segments(x0=-.5,y0=-.5,x1=7,y1=7, col = color_mpidr)\n",
    "\n",
    "# plot(log10(gmodel_data$m_flow_da_pb_closed),predict(m5_flow), main=\"Model 4abcd: WVS, Foursaquare, Symmetric, \\n and Asymmetric Cultural Similarity\", xlim=c(0,7), ylim=c(0,7), xlab=\"\", ylab=\"\", cex.main=1)\n",
    "# legend(1,1, bty=\"n\", legend=paste(\"adj-R² =\", format(summary(m5_flow)$adj.r.squared, digits=2)))\n",
    "# segments(x0=0,y0=0,x1=7,y1=7, col = '#de5e7b')\n",
    "\n",
    "dev.off()\n"
   ]
  },
  {
   "cell_type": "code",
   "execution_count": 32,
   "metadata": {},
   "outputs": [
    {
     "data": {
      "text/html": [
       "<strong>png:</strong> 2"
      ],
      "text/latex": [
       "\\textbf{png:} 2"
      ],
      "text/markdown": [
       "**png:** 2"
      ],
      "text/plain": [
       "png \n",
       "  2 "
      ]
     },
     "metadata": {},
     "output_type": "display_data"
    }
   ],
   "source": [
    "jpeg(\"figs/models-text-top50.jpeg\", width = 1100, height = 850, res=150, quality=100)\n",
    "\n",
    "options(repr.plot.width=10, repr.plot.height=5)\n",
    "\n",
    "par(mfrow=c(2,3))\n",
    "\n",
    "plot(pm_expected, pm1, main=\"Model 1: \\n Baseline\", xlim=c(-.5,7), ylim=c(-.5,7), xlab=\"log expected migration flow\", ylab=\"log predicted migration flow\", cex.main=1, type='n')\n",
    "legend(1,1, bty=\"n\", legend=paste(\"adj-R² =\", format(summary(m1)$adj.r.squared, digits=2)))\n",
    "segments(x0=-.5,y0=-.5,x1=7,y1=7, col = '#de5e7b')\n",
    "text(pm_expected, pm1, gmodel_data$label, cex=0.5)\n",
    "\n",
    "plot(pm_expected, pm2, main=\"Model 2: \\n GDP\", xlim=c(-.5,7), ylim=c(-.5,7), xlab=\"\", ylab=\"\", cex.main=1, type='n')\n",
    "legend(1.5,1, bty=\"n\", legend=paste(\"adj-R² =\", format(summary(m2)$adj.r.squared, digits=2)))\n",
    "segments(x0=-.5,y0=-.5,x1=7,y1=7, col = '#de5e7b')\n",
    "text(pm_expected, pm2, gmodel_data$label, cex=0.5)\n",
    "\n",
    "plot(pm_expected, pm3, main=\"Model 3: \\n Shared language and history\", xlim=c(-.5,7), ylim=c(-.5,7), xlab=\"\", ylab=\"\", cex.main=1, type='n')\n",
    "legend(1,1, bty=\"n\", legend=paste(\"adj-R² =\", format(summary(m3)$adj.r.squared, digits=2)))\n",
    "segments(x0=-.5,y0=-.5,x1=7,y1=7, col = '#de5e7b')\n",
    "text(pm_expected, pm3, gmodel_data$label, cex=0.5)\n",
    "\n",
    "#plot.new()\n",
    "plot(pm_expected, pm4a, main=\"Model 4: \\n WVS Similarity\", xlim=c(-.5,7), ylim=c(-.5,7), xlab=\"\", ylab=\"\", cex.main=1, type='n')\n",
    "legend(1,1, bty=\"n\", legend=paste(\"adj-R² =\", format(summary(m4a)$adj.r.squared, digits=2)))\n",
    "segments(x0=-.5,y0=-.5,x1=7,y1=7, col = '#de5e7b')\n",
    "text(pm_expected, pm4a, gmodel_data$label, cex=0.5)\n",
    "\n",
    "plot(pm_expected, pm4ab, main=\"Model 5: \\n Foursquare Similarity\", xlim=c(-.5,7), ylim=c(-.5,7), xlab=\"\", ylab=\"\", cex.main=1, type='n')\n",
    "legend(1,1, bty=\"n\", legend=paste(\"adj-R² =\", format(summary(m4ab)$adj.r.squared, digits=2)))\n",
    "segments(x0=-.5,y0=-.5,x1=7,y1=7, col = '#de5e7b')\n",
    "text(pm_expected, pm4ab, gmodel_data$label, cex=0.5)\n",
    "\n",
    "plot(pm_expected, pm4abd, main=\"Model 6: \\n Facebook Asymmetric Similarity\", xlim=c(-.5,7), ylim=c(-.5,7), xlab=\"\", ylab=\"\", cex.main=1, type='n')\n",
    "legend(1,1, bty=\"n\", legend=paste(\"adj-R² =\", format(summary(m4abd)$adj.r.squared, digits=2)))\n",
    "segments(x0=-.5,y0=-.5,x1=7,y1=7, col = '#de5e7b')\n",
    "text(pm_expected, pm4abd, gmodel_data$label, cex=0.5)\n",
    "\n",
    "# plot(log10(gmodel_data$m_flow_da_pb_closed),predict(m5_flow), main=\"Model 4abcd: WVS, Foursaquare, Symmetric, \\n and Asymmetric Cultural Similarity\", xlim=c(0,7), ylim=c(0,7), xlab=\"\", ylab=\"\", cex.main=1)\n",
    "# legend(1,1, bty=\"n\", legend=paste(\"adj-R² =\", format(summary(m5_flow)$adj.r.squared, digits=2)))\n",
    "# segments(x0=0,y0=0,x1=7,y1=7, col = '#de5e7b')\n",
    "\n",
    "dev.off()"
   ]
  },
  {
   "cell_type": "code",
   "execution_count": null,
   "metadata": {},
   "outputs": [],
   "source": []
  }
 ],
 "metadata": {
  "kernelspec": {
   "display_name": "R",
   "language": "R",
   "name": "ir"
  },
  "language_info": {
   "codemirror_mode": "r",
   "file_extension": ".r",
   "mimetype": "text/x-r-source",
   "name": "R",
   "pygments_lexer": "r",
   "version": "4.1.0"
  }
 },
 "nbformat": 4,
 "nbformat_minor": 2
}
