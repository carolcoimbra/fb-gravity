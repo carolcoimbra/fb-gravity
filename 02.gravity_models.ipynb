{
 "cells": [
  {
   "cell_type": "markdown",
   "metadata": {},
   "source": [
    "# The Value of Cultural Similarity for Predicting Migration\n",
    "\n",
    "\n",
    "## Carolina Coimbra Vieira, Sophie Lohmann, Emilio Zagheni"
   ]
  },
  {
   "cell_type": "markdown",
   "metadata": {},
   "source": [
    "**Variables**  \n",
    "    *`iso_o, iso_d`*: ISO codes in three characters, refering to the country of origin and destination, respectively. \n",
    "    \n",
    "+ **CEPII Language**  \n",
    "    *`col`*: common official language (0 or 1); 19 languages considered.    \n",
    "    *`csl`*: p(two random people understand a common language) >= *`cnl`*.  \n",
    "    *`cnl`*: p(two random people share a native language).  \n",
    "    *`lp`*: lexical closeness of native langauges; set to 0 when *`cnl`* is 1 or 0 also set to 0 if there is no dominant native language (e.g. India).  \n",
    "    *`lp1`*: tree based. 4 possibilities, 2 languages belonging to:  \n",
    "        0: separate family trees  \n",
    "        0.25: different branches of same tree (English and French),  \n",
    "        0.50: the same branch (English and German),  \n",
    "        0.75: the same sub-branch (German and Dutch)  \n",
    "    *`lp2`*: lexical similarity of 200 words, continuous scale 0-100 normalized *`lp1`*, *`lp2`* so coefficients are comparable to each other and *`col, prox1, prox2`* are unadjusted versions of *`lp1`* and *`lp2`*?  \n",
    "    \n",
    "  \n",
    "+ **CEPII Distance**  \n",
    "    *`contig`*: dummy variable indicating whether the two countries are contiguous (share a land border).  \n",
    "    *`comlang_off, comlang_ethno`*: dummy variable indicating whether the two countries share a common language. There are two common languages dummies, the first one based on the fact that two countries share a common official language, and the other one set to one if a language is spoken by at least 9% of the population in both countries.\n",
    "    *`dist`*: Geodesic distances from lat/long of most populous cities (simple distance).   \n",
    "    *`distcap`*: geodesic distance between capital cities (simple distance).    \n",
    "    *`distw`*: population weighted distance, theta = 1 (weighted distance).   \n",
    "    *`distwces`*: population weighted distance, theta = -1, which corresponds to the usual coefficient estimated from gravity models of bilateral trade flows (weighted distance).  \n",
    "    *`shared_hist`*: dummy variable indicating whether the two countries have: *`colony, comcol, curcol, col45, smctry`*     \n",
    "    \n",
    "    \n",
    "+ **CEPII Geographic**   \n",
    "    `area_o, area_d`: Country’s area in $km^2$.   \n",
    "     \n",
    "    \n",
    "+ **UN Population 2019**   \n",
    "    `pop_o, pop_d`: Country’s population.    \n",
    "    \n",
    "            \n",
    "+ **World Bank GDP and GDP per capita constant 2010 US dollar 2019**   \n",
    "    `GDP_o, GDP_d`: Country’s GDP in US dollar.  \n",
    "    `GDP_percapita_o, GDP_percapita_d`: GDP per capita (constant 2010) in 2019 in US$\n",
    "    \n",
    "    \n",
    "+ **Abel, Guy; E. Cohen, Joel (2019) Migrant Flow 2015-2020**   \n",
    "    `m_flow_` (sd_drop_neg, sd_rev_neg, mig_rate, da_min_open, da_min_closed, da_pb_closed): migrant flow between two countries (o and d). \n",
    "    \n",
    "    \n",
    "+ **UN Migrant Stock 2019**   \n",
    "    `m_stock`: migrant stock between two countries (o and d).   \n",
    "    \n",
    "    \n",
    "+ **Facebook Food Cultural Similarity**  \n",
    "    *`CD_nonsymm, CD_symm`*: cosine similarity between the vectors representing each country by the **top 50 dishes from origin country** and the **top (almost) 400 dishes** (top 50 dishes in all the countries), respectively.  "
   ]
  },
  {
   "cell_type": "code",
   "execution_count": 1,
   "metadata": {
    "scrolled": true
   },
   "outputs": [
    {
     "name": "stderr",
     "output_type": "stream",
     "text": [
      "Warning message:\n",
      "\"package 'tidyr' was built under R version 4.1.3\"\n",
      "Warning message:\n",
      "\"package 'dplyr' was built under R version 4.1.3\"\n",
      "Warning message:\n",
      "\"package 'readr' was built under R version 4.1.3\"\n",
      "Warning message:\n",
      "\"package 'MASS' was built under R version 4.1.3\"\n",
      "Warning message:\n",
      "\"package 'ggeffects' was built under R version 4.1.3\"\n",
      "Warning message:\n",
      "\"package 'ggplot2' was built under R version 4.1.3\"\n",
      "Warning message:\n",
      "\"package 'ggforce' was built under R version 4.1.3\"\n",
      "Warning message:\n",
      "\"package 'repr' was built under R version 4.1.3\"\n",
      "Warning message:\n",
      "\"package 'modelr' was built under R version 4.1.3\"\n",
      "Warning message:\n",
      "\"package 'broom' was built under R version 4.1.3\"\n",
      "Warning message:\n",
      "\"package 'scatterPlotMatrix' was built under R version 4.1.3\"\n",
      "Warning message:\n",
      "\"package 'tidyverse' was built under R version 4.1.3\"\n",
      "Warning message:\n",
      "\"package 'tibble' was built under R version 4.1.3\"\n",
      "Warning message:\n",
      "\"package 'purrr' was built under R version 4.1.3\"\n",
      "Warning message:\n",
      "\"package 'stringr' was built under R version 4.1.3\"\n",
      "Warning message:\n",
      "\"package 'forcats' was built under R version 4.1.3\"\n",
      "Warning message:\n",
      "\"package 'GGally' was built under R version 4.1.3\"\n",
      "Warning message:\n",
      "\"package 'htmlwidgets' was built under R version 4.1.3\"\n",
      "Warning message:\n",
      "\"package 'IRdisplay' was built under R version 4.1.3\"\n",
      "Warning message:\n",
      "\"package 'dotwhisker' was built under R version 4.1.3\"\n",
      "Warning message:\n",
      "\"package 'loo' was built under R version 4.1.3\"\n",
      "Warning message:\n",
      "\"package 'blmeco' was built under R version 4.1.3\"\n",
      "Warning message:\n",
      "\"package 'ggrepel' was built under R version 4.1.3\"\n",
      "Warning message:\n",
      "\"package 'texreg' was built under R version 4.1.3\"\n",
      "Warning message:\n",
      "\"package 'caret' was built under R version 4.1.3\"\n",
      "Warning message:\n",
      "\"package 'lattice' was built under R version 4.1.3\"\n"
     ]
    }
   ],
   "source": [
    "shhh <- suppressPackageStartupMessages # It's a library, so shhh!\n",
    "\n",
    "shhh(library(tidyr))\n",
    "shhh(library(dplyr))\n",
    "shhh(library(readr))\n",
    "shhh(library(MASS))\n",
    "shhh(library(ggeffects))\n",
    "shhh(library(ggplot2))\n",
    "shhh(library(ggforce))\n",
    "shhh(library(splines))\n",
    "shhh(library(repr))\n",
    "shhh(library(modelr))\n",
    "shhh(library(broom))\n",
    "shhh(library(scatterPlotMatrix))\n",
    "shhh(library(tidyverse))\n",
    "shhh(library(GGally))\n",
    "shhh(library(htmlwidgets))\n",
    "shhh(library(IRdisplay))\n",
    "shhh(library(dotwhisker))\n",
    "shhh(library(loo))\n",
    "shhh(library(blmeco))\n",
    "shhh(library(ggrepel))\n",
    "\n",
    "\n",
    "shhh(library(\"texreg\"))\n",
    "shhh(library(caret))"
   ]
  },
  {
   "cell_type": "markdown",
   "metadata": {},
   "source": [
    "# Data"
   ]
  },
  {
   "cell_type": "code",
   "execution_count": 2,
   "metadata": {},
   "outputs": [
    {
     "data": {
      "text/html": [
       "<table class=\"dataframe\">\n",
       "<caption>A data.frame: 6 × 87</caption>\n",
       "<thead>\n",
       "\t<tr><th></th><th scope=col>destination</th><th scope=col>origin</th><th scope=col>iso_d</th><th scope=col>iso_o</th><th scope=col>col</th><th scope=col>csl</th><th scope=col>cnl</th><th scope=col>prox1</th><th scope=col>lp1</th><th scope=col>prox2</th><th scope=col>...</th><th scope=col>log10_pop_o</th><th scope=col>log10_pop_d</th><th scope=col>log10_area_o</th><th scope=col>log10_area_d</th><th scope=col>log10_GDP_o</th><th scope=col>log10_GDP_d</th><th scope=col>log10_GDP_percapita_o</th><th scope=col>log10_GDP_percapita_d</th><th scope=col>log10_distwces</th><th scope=col>log10_distcap</th></tr>\n",
       "\t<tr><th></th><th scope=col>&lt;chr&gt;</th><th scope=col>&lt;chr&gt;</th><th scope=col>&lt;chr&gt;</th><th scope=col>&lt;chr&gt;</th><th scope=col>&lt;int&gt;</th><th scope=col>&lt;dbl&gt;</th><th scope=col>&lt;dbl&gt;</th><th scope=col>&lt;dbl&gt;</th><th scope=col>&lt;dbl&gt;</th><th scope=col>&lt;dbl&gt;</th><th scope=col>...</th><th scope=col>&lt;dbl&gt;</th><th scope=col>&lt;dbl&gt;</th><th scope=col>&lt;dbl&gt;</th><th scope=col>&lt;dbl&gt;</th><th scope=col>&lt;dbl&gt;</th><th scope=col>&lt;dbl&gt;</th><th scope=col>&lt;dbl&gt;</th><th scope=col>&lt;dbl&gt;</th><th scope=col>&lt;dbl&gt;</th><th scope=col>&lt;dbl&gt;</th></tr>\n",
       "</thead>\n",
       "<tbody>\n",
       "\t<tr><th scope=row>1</th><td>Argentina</td><td>Australia    </td><td>ARG</td><td>AUS</td><td>0</td><td>0.02058416</td><td>0.00080000</td><td>0.25</td><td>1.945866</td><td>0.13052547</td><td>...</td><td>7.401456</td><td>7.651091</td><td>6.885748</td><td>6.441992</td><td>12.16152</td><td>11.64129</td><td>4.769883</td><td>4.104358</td><td>4.079842</td><td>4.069442</td></tr>\n",
       "\t<tr><th scope=row>2</th><td>Argentina</td><td>Brazil       </td><td>ARG</td><td>BRA</td><td>0</td><td>0.06052872</td><td>0.00080000</td><td>0.75</td><td>5.837599</td><td>0.42439765</td><td>...</td><td>8.324384</td><td>7.651091</td><td>6.930028</td><td>6.441992</td><td>12.37373</td><td>11.64129</td><td>3.934105</td><td>4.104358</td><td>3.319997</td><td>3.371669</td></tr>\n",
       "\t<tr><th scope=row>3</th><td>Argentina</td><td>Chile        </td><td>ARG</td><td>CHL</td><td>1</td><td>0.98010004</td><td>0.85439998</td><td>0.00</td><td>0.000000</td><td>0.00000000</td><td>...</td><td>7.277656</td><td>7.651091</td><td>5.879064</td><td>6.441992</td><td>11.45490</td><td>11.64129</td><td>4.138662</td><td>4.104358</td><td>2.973884</td><td>3.052431</td></tr>\n",
       "\t<tr><th scope=row>4</th><td>Argentina</td><td>France       </td><td>ARG</td><td>FRA</td><td>0</td><td>0.13392781</td><td>0.01039232</td><td>0.50</td><td>3.891733</td><td>0.25450581</td><td>...</td><td>7.813779</td><td>7.651091</td><td>5.738008</td><td>6.441992</td><td>12.47304</td><td>11.64129</td><td>4.589190</td><td>4.104358</td><td>4.038297</td><td>4.044236</td></tr>\n",
       "\t<tr><th scope=row>5</th><td>Argentina</td><td>Great Britain</td><td>ARG</td><td>GBR</td><td>0</td><td>0.08325152</td><td>0.00000000</td><td>0.25</td><td>1.945866</td><td>0.13052547</td><td>...</td><td>7.829498</td><td>7.651091</td><td>5.387586</td><td>6.441992</td><td>12.46442</td><td>11.64129</td><td>4.676617</td><td>4.104358</td><td>4.046426</td><td>4.047177</td></tr>\n",
       "\t<tr><th scope=row>6</th><td>Argentina</td><td>Indonesia    </td><td>ARG</td><td>IDN</td><td>0</td><td>0.00000000</td><td>0.00000000</td><td>0.00</td><td>0.000000</td><td>0.07436915</td><td>...</td><td>8.432369</td><td>7.651091</td><td>6.286380</td><td>6.441992</td><td>12.08079</td><td>11.64129</td><td>3.590220</td><td>4.104358</td><td>4.192234</td><td>4.182865</td></tr>\n",
       "</tbody>\n",
       "</table>\n"
      ],
      "text/latex": [
       "A data.frame: 6 × 87\n",
       "\\begin{tabular}{r|lllllllllllllllllllll}\n",
       "  & destination & origin & iso\\_d & iso\\_o & col & csl & cnl & prox1 & lp1 & prox2 & ... & log10\\_pop\\_o & log10\\_pop\\_d & log10\\_area\\_o & log10\\_area\\_d & log10\\_GDP\\_o & log10\\_GDP\\_d & log10\\_GDP\\_percapita\\_o & log10\\_GDP\\_percapita\\_d & log10\\_distwces & log10\\_distcap\\\\\n",
       "  & <chr> & <chr> & <chr> & <chr> & <int> & <dbl> & <dbl> & <dbl> & <dbl> & <dbl> & ... & <dbl> & <dbl> & <dbl> & <dbl> & <dbl> & <dbl> & <dbl> & <dbl> & <dbl> & <dbl>\\\\\n",
       "\\hline\n",
       "\t1 & Argentina & Australia     & ARG & AUS & 0 & 0.02058416 & 0.00080000 & 0.25 & 1.945866 & 0.13052547 & ... & 7.401456 & 7.651091 & 6.885748 & 6.441992 & 12.16152 & 11.64129 & 4.769883 & 4.104358 & 4.079842 & 4.069442\\\\\n",
       "\t2 & Argentina & Brazil        & ARG & BRA & 0 & 0.06052872 & 0.00080000 & 0.75 & 5.837599 & 0.42439765 & ... & 8.324384 & 7.651091 & 6.930028 & 6.441992 & 12.37373 & 11.64129 & 3.934105 & 4.104358 & 3.319997 & 3.371669\\\\\n",
       "\t3 & Argentina & Chile         & ARG & CHL & 1 & 0.98010004 & 0.85439998 & 0.00 & 0.000000 & 0.00000000 & ... & 7.277656 & 7.651091 & 5.879064 & 6.441992 & 11.45490 & 11.64129 & 4.138662 & 4.104358 & 2.973884 & 3.052431\\\\\n",
       "\t4 & Argentina & France        & ARG & FRA & 0 & 0.13392781 & 0.01039232 & 0.50 & 3.891733 & 0.25450581 & ... & 7.813779 & 7.651091 & 5.738008 & 6.441992 & 12.47304 & 11.64129 & 4.589190 & 4.104358 & 4.038297 & 4.044236\\\\\n",
       "\t5 & Argentina & Great Britain & ARG & GBR & 0 & 0.08325152 & 0.00000000 & 0.25 & 1.945866 & 0.13052547 & ... & 7.829498 & 7.651091 & 5.387586 & 6.441992 & 12.46442 & 11.64129 & 4.676617 & 4.104358 & 4.046426 & 4.047177\\\\\n",
       "\t6 & Argentina & Indonesia     & ARG & IDN & 0 & 0.00000000 & 0.00000000 & 0.00 & 0.000000 & 0.07436915 & ... & 8.432369 & 7.651091 & 6.286380 & 6.441992 & 12.08079 & 11.64129 & 3.590220 & 4.104358 & 4.192234 & 4.182865\\\\\n",
       "\\end{tabular}\n"
      ],
      "text/markdown": [
       "\n",
       "A data.frame: 6 × 87\n",
       "\n",
       "| <!--/--> | destination &lt;chr&gt; | origin &lt;chr&gt; | iso_d &lt;chr&gt; | iso_o &lt;chr&gt; | col &lt;int&gt; | csl &lt;dbl&gt; | cnl &lt;dbl&gt; | prox1 &lt;dbl&gt; | lp1 &lt;dbl&gt; | prox2 &lt;dbl&gt; | ... ... | log10_pop_o &lt;dbl&gt; | log10_pop_d &lt;dbl&gt; | log10_area_o &lt;dbl&gt; | log10_area_d &lt;dbl&gt; | log10_GDP_o &lt;dbl&gt; | log10_GDP_d &lt;dbl&gt; | log10_GDP_percapita_o &lt;dbl&gt; | log10_GDP_percapita_d &lt;dbl&gt; | log10_distwces &lt;dbl&gt; | log10_distcap &lt;dbl&gt; |\n",
       "|---|---|---|---|---|---|---|---|---|---|---|---|---|---|---|---|---|---|---|---|---|---|\n",
       "| 1 | Argentina | Australia     | ARG | AUS | 0 | 0.02058416 | 0.00080000 | 0.25 | 1.945866 | 0.13052547 | ... | 7.401456 | 7.651091 | 6.885748 | 6.441992 | 12.16152 | 11.64129 | 4.769883 | 4.104358 | 4.079842 | 4.069442 |\n",
       "| 2 | Argentina | Brazil        | ARG | BRA | 0 | 0.06052872 | 0.00080000 | 0.75 | 5.837599 | 0.42439765 | ... | 8.324384 | 7.651091 | 6.930028 | 6.441992 | 12.37373 | 11.64129 | 3.934105 | 4.104358 | 3.319997 | 3.371669 |\n",
       "| 3 | Argentina | Chile         | ARG | CHL | 1 | 0.98010004 | 0.85439998 | 0.00 | 0.000000 | 0.00000000 | ... | 7.277656 | 7.651091 | 5.879064 | 6.441992 | 11.45490 | 11.64129 | 4.138662 | 4.104358 | 2.973884 | 3.052431 |\n",
       "| 4 | Argentina | France        | ARG | FRA | 0 | 0.13392781 | 0.01039232 | 0.50 | 3.891733 | 0.25450581 | ... | 7.813779 | 7.651091 | 5.738008 | 6.441992 | 12.47304 | 11.64129 | 4.589190 | 4.104358 | 4.038297 | 4.044236 |\n",
       "| 5 | Argentina | Great Britain | ARG | GBR | 0 | 0.08325152 | 0.00000000 | 0.25 | 1.945866 | 0.13052547 | ... | 7.829498 | 7.651091 | 5.387586 | 6.441992 | 12.46442 | 11.64129 | 4.676617 | 4.104358 | 4.046426 | 4.047177 |\n",
       "| 6 | Argentina | Indonesia     | ARG | IDN | 0 | 0.00000000 | 0.00000000 | 0.00 | 0.000000 | 0.07436915 | ... | 8.432369 | 7.651091 | 6.286380 | 6.441992 | 12.08079 | 11.64129 | 3.590220 | 4.104358 | 4.192234 | 4.182865 |\n",
       "\n"
      ],
      "text/plain": [
       "  destination origin        iso_d iso_o col csl        cnl        prox1\n",
       "1 Argentina   Australia     ARG   AUS   0   0.02058416 0.00080000 0.25 \n",
       "2 Argentina   Brazil        ARG   BRA   0   0.06052872 0.00080000 0.75 \n",
       "3 Argentina   Chile         ARG   CHL   1   0.98010004 0.85439998 0.00 \n",
       "4 Argentina   France        ARG   FRA   0   0.13392781 0.01039232 0.50 \n",
       "5 Argentina   Great Britain ARG   GBR   0   0.08325152 0.00000000 0.25 \n",
       "6 Argentina   Indonesia     ARG   IDN   0   0.00000000 0.00000000 0.00 \n",
       "  lp1      prox2      ... log10_pop_o log10_pop_d log10_area_o log10_area_d\n",
       "1 1.945866 0.13052547 ... 7.401456    7.651091    6.885748     6.441992    \n",
       "2 5.837599 0.42439765 ... 8.324384    7.651091    6.930028     6.441992    \n",
       "3 0.000000 0.00000000 ... 7.277656    7.651091    5.879064     6.441992    \n",
       "4 3.891733 0.25450581 ... 7.813779    7.651091    5.738008     6.441992    \n",
       "5 1.945866 0.13052547 ... 7.829498    7.651091    5.387586     6.441992    \n",
       "6 0.000000 0.07436915 ... 8.432369    7.651091    6.286380     6.441992    \n",
       "  log10_GDP_o log10_GDP_d log10_GDP_percapita_o log10_GDP_percapita_d\n",
       "1 12.16152    11.64129    4.769883              4.104358             \n",
       "2 12.37373    11.64129    3.934105              4.104358             \n",
       "3 11.45490    11.64129    4.138662              4.104358             \n",
       "4 12.47304    11.64129    4.589190              4.104358             \n",
       "5 12.46442    11.64129    4.676617              4.104358             \n",
       "6 12.08079    11.64129    3.590220              4.104358             \n",
       "  log10_distwces log10_distcap\n",
       "1 4.079842       4.069442     \n",
       "2 3.319997       3.371669     \n",
       "3 2.973884       3.052431     \n",
       "4 4.038297       4.044236     \n",
       "5 4.046426       4.047177     \n",
       "6 4.192234       4.182865     "
      ]
     },
     "metadata": {},
     "output_type": "display_data"
    }
   ],
   "source": [
    "gmodel_data <- read.csv(\"data/subset-final-dataset.csv\")\n",
    "\n",
    "head(gmodel_data)"
   ]
  },
  {
   "cell_type": "code",
   "execution_count": 3,
   "metadata": {
    "scrolled": true
   },
   "outputs": [
    {
     "data": {
      "text/html": [
       "<style>\n",
       ".list-inline {list-style: none; margin:0; padding: 0}\n",
       ".list-inline>li {display: inline-block}\n",
       ".list-inline>li:not(:last-child)::after {content: \"\\00b7\"; padding: 0 .5ex}\n",
       "</style>\n",
       "<ol class=list-inline><li>240</li><li>87</li></ol>\n"
      ],
      "text/latex": [
       "\\begin{enumerate*}\n",
       "\\item 240\n",
       "\\item 87\n",
       "\\end{enumerate*}\n"
      ],
      "text/markdown": [
       "1. 240\n",
       "2. 87\n",
       "\n",
       "\n"
      ],
      "text/plain": [
       "[1] 240  87"
      ]
     },
     "metadata": {},
     "output_type": "display_data"
    }
   ],
   "source": [
    "dim(gmodel_data)"
   ]
  },
  {
   "cell_type": "markdown",
   "metadata": {
    "deletable": false,
    "editable": false,
    "run_control": {
     "frozen": true
    }
   },
   "source": [
    "# Correlations"
   ]
  },
  {
   "cell_type": "markdown",
   "metadata": {
    "deletable": false,
    "editable": false,
    "run_control": {
     "frozen": true
    }
   },
   "source": [
    "### Correlation between migration flows and geographic distances"
   ]
  },
  {
   "cell_type": "code",
   "execution_count": 4,
   "metadata": {
    "deletable": false,
    "editable": false,
    "run_control": {
     "frozen": true
    }
   },
   "outputs": [
    {
     "name": "stderr",
     "output_type": "stream",
     "text": [
      "Warning message:\n",
      "\"ggrepel: 230 unlabeled data points (too many overlaps). Consider increasing max.overlaps\"\n",
      "\u001b[1m\u001b[22mSaving 6.67 x 6.67 in image\n",
      "Warning message:\n",
      "\"ggrepel: 228 unlabeled data points (too many overlaps). Consider increasing max.overlaps\"\n",
      "\u001b[1m\u001b[22mSaving 6.67 x 6.67 in image\n",
      "Warning message:\n",
      "\"ggrepel: 228 unlabeled data points (too many overlaps). Consider increasing max.overlaps\"\n"
     ]
    },
    {
     "data": {
      "image/png": "[encoded data removed]",
      "text/plain": [
       "plot without title"
      ]
     },
     "metadata": {
      "image/png": {
       "height": 420,
       "width": 420
      }
     },
     "output_type": "display_data"
    }
   ],
   "source": [
    "ggplot(gmodel_data, aes(x=log10_distcap, y=log10_distwces)) +\n",
    "  geom_point() +\n",
    "  geom_text_repel(label = paste0(gmodel_data$iso_o, \"-\", gmodel_data$iso_d), max.overlaps = 8) +\n",
    "  labs(title= paste0(\"Correlation between Distances: distcap vs. distwces: \", round(cor(gmodel_data$log10_distwces, gmodel_data$log10_distcap), 4)),\n",
    "       x=\"log10(distance capitals)\", y = \"log10(weighted distance)\") +\n",
    "  theme_classic()\n",
    "\n",
    "ggsave(\"figs/corr_dists.pdf\")\n",
    "ggsave(\"figs/corr_dists.png\")"
   ]
  },
  {
   "cell_type": "code",
   "execution_count": 5,
   "metadata": {
    "deletable": false,
    "editable": false,
    "run_control": {
     "frozen": true
    }
   },
   "outputs": [
    {
     "name": "stderr",
     "output_type": "stream",
     "text": [
      "Warning message:\n",
      "\"ggrepel: 202 unlabeled data points (too many overlaps). Consider increasing max.overlaps\"\n",
      "\u001b[1m\u001b[22mSaving 6.67 x 6.67 in image\n",
      "Warning message:\n",
      "\"ggrepel: 205 unlabeled data points (too many overlaps). Consider increasing max.overlaps\"\n",
      "\u001b[1m\u001b[22mSaving 6.67 x 6.67 in image\n",
      "Warning message:\n",
      "\"ggrepel: 204 unlabeled data points (too many overlaps). Consider increasing max.overlaps\"\n"
     ]
    },
    {
     "data": {
      "image/png": "[encoded data removed]",
      "text/plain": [
       "plot without title"
      ]
     },
     "metadata": {
      "image/png": {
       "height": 420,
       "width": 420
      }
     },
     "output_type": "display_data"
    }
   ],
   "source": [
    "ggplot(gmodel_data, aes(x=log10_distwces, y=log10_m_flow_da_pb_closed)) +\n",
    "  geom_point() +\n",
    "  geom_text_repel(label = paste0(gmodel_data$iso_o, \"-\", gmodel_data$iso_d), max.overlaps = 8) +\n",
    "  labs(title= paste0(\"Correlation between Distance and Migration flows: \", round(cor(gmodel_data$log10_m_flow_da_pb_closed, gmodel_data$log10_distwces), 2)),\n",
    "       x=\"log10(distance)\", y = \"log10(migration flow)\") +\n",
    "  theme_classic()\n",
    "\n",
    "ggsave(\"figs/corr_dist_mflow.pdf\")\n",
    "ggsave(\"figs/corr_dist_mflow.png\")"
   ]
  },
  {
   "cell_type": "code",
   "execution_count": 6,
   "metadata": {
    "deletable": false,
    "editable": false,
    "run_control": {
     "frozen": true
    }
   },
   "outputs": [
    {
     "name": "stderr",
     "output_type": "stream",
     "text": [
      "Warning message:\n",
      "\"ggrepel: 160 unlabeled data points (too many overlaps). Consider increasing max.overlaps\"\n",
      "\u001b[1m\u001b[22mSaving 6.67 x 6.67 in image\n",
      "Warning message:\n",
      "\"ggrepel: 163 unlabeled data points (too many overlaps). Consider increasing max.overlaps\"\n",
      "\u001b[1m\u001b[22mSaving 6.67 x 6.67 in image\n",
      "Warning message:\n",
      "\"ggrepel: 161 unlabeled data points (too many overlaps). Consider increasing max.overlaps\"\n"
     ]
    },
    {
     "data": {
      "image/png": "[encoded data removed]",
      "text/plain": [
       "plot without title"
      ]
     },
     "metadata": {
      "image/png": {
       "height": 420,
       "width": 420
      }
     },
     "output_type": "display_data"
    }
   ],
   "source": [
    "ggplot(gmodel_data, aes(x=log10_pop_o, y=log10_m_flow_da_pb_closed)) +\n",
    "  geom_point() +\n",
    "  geom_text_repel(label = paste0(gmodel_data$iso_o, \"-\", gmodel_data$iso_d), max.overlaps = 8) +\n",
    "  labs(title= paste0(\"Correlation between Population (origin) and Migration flows: \", round(cor(gmodel_data$log10_m_flow_da_pb_closed, gmodel_data$log10_pop_o), 2)),\n",
    "       x=\"log10(population origin)\", y = \"log10(migration flow)\") +\n",
    "  theme_classic()\n",
    "\n",
    "ggsave(\"figs/corr_pop_o_mflow.pdf\")\n",
    "ggsave(\"figs/corr_pop_o_mflow.png\")"
   ]
  },
  {
   "cell_type": "code",
   "execution_count": 7,
   "metadata": {
    "deletable": false,
    "editable": false,
    "run_control": {
     "frozen": true
    }
   },
   "outputs": [
    {
     "name": "stderr",
     "output_type": "stream",
     "text": [
      "Warning message:\n",
      "\"ggrepel: 171 unlabeled data points (too many overlaps). Consider increasing max.overlaps\"\n",
      "\u001b[1m\u001b[22mSaving 6.67 x 6.67 in image\n",
      "Warning message:\n",
      "\"ggrepel: 170 unlabeled data points (too many overlaps). Consider increasing max.overlaps\"\n",
      "\u001b[1m\u001b[22mSaving 6.67 x 6.67 in image\n",
      "Warning message:\n",
      "\"ggrepel: 169 unlabeled data points (too many overlaps). Consider increasing max.overlaps\"\n"
     ]
    },
    {
     "data": {
      "image/png": "[encoded data removed]",
      "text/plain": [
       "plot without title"
      ]
     },
     "metadata": {
      "image/png": {
       "height": 420,
       "width": 420
      }
     },
     "output_type": "display_data"
    }
   ],
   "source": [
    "ggplot(gmodel_data, aes(x=log10_pop_d, y=log10_m_flow_da_pb_closed)) +\n",
    "  geom_point() +\n",
    "  geom_text_repel(label = paste0(gmodel_data$iso_o, \"-\", gmodel_data$iso_d), max.overlaps = 8) +\n",
    "  labs(title= paste0(\"Correlation between Population (destination) and Migration flows: \", round(cor(gmodel_data$log10_m_flow_da_pb_closed, gmodel_data$log10_pop_d), 2)),\n",
    "       x=\"log10(population destination)\", y = \"log10(migration flow)\") +\n",
    "  theme_classic()\n",
    "\n",
    "ggsave(\"figs/corr_pop_d_mflow.pdf\")\n",
    "ggsave(\"figs/corr_pop_d_mflow.png\")"
   ]
  },
  {
   "cell_type": "code",
   "execution_count": 8,
   "metadata": {
    "deletable": false,
    "editable": false,
    "run_control": {
     "frozen": true
    }
   },
   "outputs": [
    {
     "name": "stderr",
     "output_type": "stream",
     "text": [
      "Warning message:\n",
      "\"ggrepel: 185 unlabeled data points (too many overlaps). Consider increasing max.overlaps\"\n",
      "\u001b[1m\u001b[22mSaving 6.67 x 6.67 in image\n",
      "Warning message:\n",
      "\"ggrepel: 184 unlabeled data points (too many overlaps). Consider increasing max.overlaps\"\n",
      "\u001b[1m\u001b[22mSaving 6.67 x 6.67 in image\n",
      "Warning message:\n",
      "\"ggrepel: 183 unlabeled data points (too many overlaps). Consider increasing max.overlaps\"\n"
     ]
    },
    {
     "data": {
      "image/png": "[encoded data removed]",
      "text/plain": [
       "plot without title"
      ]
     },
     "metadata": {
      "image/png": {
       "height": 420,
       "width": 420
      }
     },
     "output_type": "display_data"
    }
   ],
   "source": [
    "ggplot(gmodel_data, aes(x=CS_wvs, y=log10_m_flow_da_pb_closed)) +\n",
    "  geom_point() +\n",
    "  geom_text_repel(label = paste0(gmodel_data$iso_o, \"-\", gmodel_data$iso_d), max.overlaps = 5) +\n",
    "  labs(title= paste0(\"Correlation between WVS Cultural Similarity and Migration flows: \", round(cor(gmodel_data$log10_m_flow_da_pb_closed, gmodel_data$CS_wvs), 2)),\n",
    "       x=\"WVS cultural similarity\", y = \"log10(migration flow)\") +\n",
    "  theme_classic()\n",
    "\n",
    "ggsave(\"figs/corr_wvs_mflow.pdf\")\n",
    "ggsave(\"figs/corr_wvs_mflow.png\")"
   ]
  },
  {
   "cell_type": "markdown",
   "metadata": {
    "deletable": false,
    "editable": false,
    "run_control": {
     "frozen": true
    }
   },
   "source": [
    "### Correlations between CS cosine and CS euclidean"
   ]
  },
  {
   "cell_type": "code",
   "execution_count": 9,
   "metadata": {
    "deletable": false,
    "editable": false,
    "run_control": {
     "frozen": true
    }
   },
   "outputs": [
    {
     "name": "stderr",
     "output_type": "stream",
     "text": [
      "Warning message:\n",
      "\"ggrepel: 202 unlabeled data points (too many overlaps). Consider increasing max.overlaps\"\n",
      "\u001b[1m\u001b[22mSaving 6.67 x 6.67 in image\n",
      "Warning message:\n",
      "\"ggrepel: 203 unlabeled data points (too many overlaps). Consider increasing max.overlaps\"\n",
      "\u001b[1m\u001b[22mSaving 6.67 x 6.67 in image\n",
      "Warning message:\n",
      "\"ggrepel: 203 unlabeled data points (too many overlaps). Consider increasing max.overlaps\"\n"
     ]
    },
    {
     "data": {
      "image/png": "[encoded data removed]",
      "text/plain": [
       "plot without title"
      ]
     },
     "metadata": {
      "image/png": {
       "height": 420,
       "width": 420
      }
     },
     "output_type": "display_data"
    }
   ],
   "source": [
    "ggplot(gmodel_data, aes(x=CS_wvs, y=CS_euc_wvs)) +\n",
    "  geom_point() +\n",
    "  #geom_text(label=paste0(gmodel_data$iso_o, \"-\", gmodel_data$iso_d)) +\n",
    "  xlim(-1.5, 1.5) +\n",
    "  geom_text_repel(label = paste0(gmodel_data$iso_o, \"-\", gmodel_data$iso_d), max.overlaps = 8) +\n",
    "  labs(title= paste0(\"Correlation between CS WVS cosine and euclidean: \", round(cor(gmodel_data$CS_wvs, gmodel_data$CS_euc_wvs), 2)),\n",
    "       x=\"CS WVS cosine similarity\", y = \"CS WVS euclidean similarity\") +\n",
    "  theme_classic() +\n",
    "  stat_smooth(method = \"lm\",\n",
    "              formula = y ~ x,\n",
    "              geom = \"smooth\")\n",
    "\n",
    "ggsave(\"figs/corr_CS_wvs.pdf\")\n",
    "ggsave(\"figs/corr_CS_wvs.png\")"
   ]
  },
  {
   "cell_type": "code",
   "execution_count": 10,
   "metadata": {
    "deletable": false,
    "editable": false,
    "run_control": {
     "frozen": true
    }
   },
   "outputs": [
    {
     "name": "stderr",
     "output_type": "stream",
     "text": [
      "Warning message:\n",
      "\"ggrepel: 230 unlabeled data points (too many overlaps). Consider increasing max.overlaps\"\n",
      "\u001b[1m\u001b[22mSaving 6.67 x 6.67 in image\n",
      "Warning message:\n",
      "\"ggrepel: 230 unlabeled data points (too many overlaps). Consider increasing max.overlaps\"\n",
      "\u001b[1m\u001b[22mSaving 6.67 x 6.67 in image\n",
      "Warning message:\n",
      "\"ggrepel: 230 unlabeled data points (too many overlaps). Consider increasing max.overlaps\"\n"
     ]
    },
    {
     "data": {
      "image/png": "[encoded data removed]",
      "text/plain": [
       "plot without title"
      ]
     },
     "metadata": {
      "image/png": {
       "height": 420,
       "width": 420
      }
     },
     "output_type": "display_data"
    }
   ],
   "source": [
    "ggplot(gmodel_data, aes(x=CS_foursquare, y=CS_euc_foursquare)) +\n",
    "  geom_point() +\n",
    "  #geom_text(label=paste0(gmodel_data$iso_o, \"-\", gmodel_data$iso_d)) +\n",
    "  xlim(-1.5, 1.5) +\n",
    "  geom_text_repel(label = paste0(gmodel_data$iso_o, \"-\", gmodel_data$iso_d), max.overlaps = 5) +\n",
    "  labs(title= paste0(\"Correlation between CS Foursquare cosine and euclidean: \", round(cor(gmodel_data$CS_foursquare, gmodel_data$CS_euc_foursquare), 2)),\n",
    "       x=\"CS Foursquare cosine similarity\", y = \"CS Foursquare euclidean similarity\") +\n",
    "  theme_classic() +\n",
    "  stat_smooth(method = \"lm\",\n",
    "              formula = y ~ x,\n",
    "              geom = \"smooth\")\n",
    "\n",
    "ggsave(\"figs/corr_CS_foursquare.pdf\")\n",
    "ggsave(\"figs/corr_CS_foursquare.png\")"
   ]
  },
  {
   "cell_type": "code",
   "execution_count": 11,
   "metadata": {
    "deletable": false,
    "editable": false,
    "run_control": {
     "frozen": true
    },
    "scrolled": true
   },
   "outputs": [
    {
     "name": "stderr",
     "output_type": "stream",
     "text": [
      "\u001b[1m\u001b[22mSaving 6.67 x 6.67 in image\n",
      "\u001b[1m\u001b[22mSaving 6.67 x 6.67 in image\n"
     ]
    },
    {
     "data": {
      "image/png": "[encoded data removed]",
      "text/plain": [
       "plot without title"
      ]
     },
     "metadata": {
      "image/png": {
       "height": 420,
       "width": 420
      }
     },
     "output_type": "display_data"
    }
   ],
   "source": [
    "colnames <- c(\"log10(migration flow)\", \"CS WVS cosine\", \"CS WVS euclidean\")\n",
    "\n",
    "# Scatter plot matrix with GGally\n",
    "ggpairs(gmodel_data, \n",
    "        columns = c(\"log10_m_flow_da_pb_closed\", \"CS_wvs\", \"CS_euc_wvs\"),\n",
    "        columnLabels = colnames,\n",
    "        upper = list(continuous = wrap('cor', size = 4, col=\"black\")),\n",
    "        lower = list(continuous = wrap(\"points\", size=0.8, alpha=0.4, pch=16)),\n",
    "        diag = list(continuous = wrap(\"densityDiag\", alpha = 0.1))) + \n",
    "\n",
    "theme(axis.text = element_text(size = 8)) + theme_bw()\n",
    "\n",
    "ggsave(\"figs/corr_CS_wvs_mflow.pdf\")\n",
    "ggsave(\"figs/corr_CS_wvs_mflow.png\")"
   ]
  },
  {
   "cell_type": "code",
   "execution_count": 12,
   "metadata": {
    "deletable": false,
    "editable": false,
    "run_control": {
     "frozen": true
    },
    "scrolled": true
   },
   "outputs": [
    {
     "name": "stderr",
     "output_type": "stream",
     "text": [
      "\u001b[1m\u001b[22mSaving 6.67 x 6.67 in image\n",
      "\u001b[1m\u001b[22mSaving 6.67 x 6.67 in image\n"
     ]
    },
    {
     "data": {
      "image/png": "[encoded data removed]",
      "text/plain": [
       "plot without title"
      ]
     },
     "metadata": {
      "image/png": {
       "height": 420,
       "width": 420
      }
     },
     "output_type": "display_data"
    }
   ],
   "source": [
    "colnames <- c(\"log10(migration flow)\", \"CS Foursquare cosine\", \"CS Foursquare euclidean\")\n",
    "\n",
    "# Scatter plot matrix with GGally\n",
    "ggpairs(gmodel_data, \n",
    "        columns = c(\"log10_m_flow_da_pb_closed\", \"CS_foursquare\", \"CS_euc_foursquare\"),\n",
    "        columnLabels = colnames,\n",
    "        upper = list(continuous = wrap('cor', size = 4, col=\"black\")),\n",
    "        lower = list(continuous = wrap(\"points\", size=0.8, alpha=0.4, pch=16)),\n",
    "        diag = list(continuous = wrap(\"densityDiag\", alpha = 0.1))) + \n",
    "\n",
    "theme(axis.text = element_text(size = 8)) + theme_bw()\n",
    "\n",
    "ggsave(\"figs/corr_CS_foursquare_mflow.pdf\")\n",
    "ggsave(\"figs/corr_CS_foursquare_mflow.png\")"
   ]
  },
  {
   "cell_type": "markdown",
   "metadata": {
    "deletable": false,
    "editable": false,
    "run_control": {
     "frozen": true
    }
   },
   "source": [
    "### Correlation between Facebook CS measures and other variables..."
   ]
  },
  {
   "cell_type": "code",
   "execution_count": 66,
   "metadata": {},
   "outputs": [
    {
     "data": {
      "image/png": "[encoded data removed]",
      "text/plain": [
       "plot without title"
      ]
     },
     "metadata": {
      "image/png": {
       "height": 300,
       "width": 600
      }
     },
     "output_type": "display_data"
    }
   ],
   "source": [
    "colnames <- c(\"log10(m flow)\", \"log10(m stock)\", \"log10(pop o)\", \"log10(pop d)\",\n",
    "              \"log10(area o)\", \"log10(area d)\", \"log10(dist)\", \n",
    "              \"log10(GDP percapita o)\", \"log10(GDP percapita d)\", \n",
    "              \"col\", \"lp1\", \"history\",\n",
    "              \"CS WVS\", \"CS Foursquare\",\n",
    "              \"CS asym food o\", \"CS asym food d\",\n",
    "              \"CS symm\")\n",
    "\n",
    "\n",
    "# Scatter plot matrix with GGally\n",
    "ggpairs(gmodel_data, \n",
    "        columns = c(\"log10_m_flow_da_pb_closed\", \"log10_m_stock\", \n",
    "                    \"log10_pop_o\", \"log10_pop_d\", \n",
    "                    \"log10_area_o\", \"log10_area_d\", \n",
    "                    \"log10_distwces\",\n",
    "                    \"log10_GDP_percapita_o\", \"log10_GDP_percapita_d\",\n",
    "                    \"col\", \"lp1\", \"shared_hist\", \n",
    "                    \"CS_wvs\", \"CS_foursquare\",\n",
    "                    \"CS_nonsymm_food_o\", \"CS_nonsymm_food_d\", \n",
    "                    \"CS_symm\"),\n",
    "        columnLabels = colnames,\n",
    "        upper = list(continuous = wrap('cor', size = 5, col=\"black\")),\n",
    "        lower = list(continuous = wrap(\"points\", size=4, alpha=0.4, pch=20)),\n",
    "        diag = list(continuous = wrap(\"densityDiag\", alpha = 0.1))) + \n",
    "theme(axis.text = element_text(size = 2), \n",
    "      strip.text.x = element_text(size = 2), \n",
    "      strip.text.y = element_text(size = 2), \n",
    "      axis.title.x = element_text(angle = 45)) + theme_bw()\n",
    "\n",
    "\n",
    "\n",
    "ggsave(\"figs/corr_fb_allvar.pdf\", height = 26, width = 26)\n",
    "ggsave(\"figs/corr_fb_allvar.png\", height = 26, width = 26)"
   ]
  },
  {
   "cell_type": "markdown",
   "metadata": {},
   "source": [
    "# Model + Cross validation"
   ]
  },
  {
   "cell_type": "code",
   "execution_count": 4,
   "metadata": {},
   "outputs": [],
   "source": [
    "countries <- c(unique(gmodel_data$destination))"
   ]
  },
  {
   "cell_type": "code",
   "execution_count": 5,
   "metadata": {},
   "outputs": [],
   "source": [
    "crossval <- function(gmodel_data, cols, indicators){\n",
    "    \n",
    "    sel_col <- c(\"log10_m_flow_da_pb_closed\", \"log10_pop_o\", \"log10_area_o\", \n",
    "                 \"log10_pop_d\", \"log10_area_d\", \"log10_distwces\")\n",
    "    sel_col <- append(sel_col, cols)\n",
    "        \n",
    "    if (indicators){\n",
    "        for (c in countries) {\n",
    "            c <- str_replace(c, \" \", \".\")\n",
    "            sel_col <- append(sel_col, paste0(\"destination_\", c)) \n",
    "            sel_col <- append(sel_col, paste0(\"origin_\", c)) \n",
    "        }\n",
    "    }\n",
    "\n",
    "    print(sel_col)\n",
    "    \n",
    "    gmodel_data_subset <- subset(gmodel_data, select = sel_col)\n",
    "    \n",
    "    # R program to implement\n",
    "    # Leave one out cross validation\n",
    "\n",
    "    # defining training control\n",
    "    # as Leave One Out Cross Validation\n",
    "    train_control <- trainControl(method = \"LOOCV\")\n",
    "\n",
    "    # training the model by assigning m_flow_da_pb_closed column\n",
    "    # as target variable and rest other column\n",
    "    # as independent variable  \n",
    "\n",
    "    m <- train(log10_m_flow_da_pb_closed ~ .,\n",
    "                   data = gmodel_data_subset,\n",
    "                   method = \"lm\",\n",
    "                   trControl = train_control)\n",
    "\n",
    "    # printing model performance metrics\n",
    "    # along with other details\n",
    "    print(m)\n",
    "    \n",
    "    return (m)\n",
    "}"
   ]
  },
  {
   "cell_type": "markdown",
   "metadata": {},
   "source": [
    "### Baseline: \n",
    "\n",
    "https://www.pnas.org/doi/10.1073/pnas.0808185105#supplementary-materials\n",
    "\n",
    "The starting linear model was fitted [supporting information (SI) Table S1] with the dependent variable log(migrants) and with the six independent variables that we call “basic” [year minus 1985, log(ppnorig), log(areaorig), log(ppndest), log(areadest), log(distance)] and all indicator variables (orig.indicator, dest.indicator, orig.is.datasource, dest.is.datasource). The Multiple R2 was 0.5693 and the Adjusted R2 was 0.5689 (see Methods)."
   ]
  },
  {
   "cell_type": "code",
   "execution_count": 6,
   "metadata": {},
   "outputs": [
    {
     "name": "stdout",
     "output_type": "stream",
     "text": [
      "[1] \"log10_m_flow_da_pb_closed\" \"log10_pop_o\"              \n",
      "[3] \"log10_area_o\"              \"log10_pop_d\"              \n",
      "[5] \"log10_area_d\"              \"log10_distwces\"           \n",
      "Linear Regression \n",
      "\n",
      "240 samples\n",
      "  5 predictor\n",
      "\n",
      "No pre-processing\n",
      "Resampling: Leave-One-Out Cross-Validation \n",
      "Summary of sample sizes: 239, 239, 239, 239, 239, 239, ... \n",
      "Resampling results:\n",
      "\n",
      "  RMSE      Rsquared   MAE     \n",
      "  1.075526  0.3182449  0.864143\n",
      "\n",
      "Tuning parameter 'intercept' was held constant at a value of TRUE\n"
     ]
    }
   ],
   "source": [
    "m_baseline <- crossval(gmodel_data, cols=NULL, indicators=FALSE)"
   ]
  },
  {
   "cell_type": "code",
   "execution_count": 7,
   "metadata": {},
   "outputs": [
    {
     "data": {
      "text/plain": [
       "\n",
       "Call:\n",
       "lm(formula = .outcome ~ ., data = dat)\n",
       "\n",
       "Residuals:\n",
       "    Min      1Q  Median      3Q     Max \n",
       "-3.0244 -0.6677  0.1166  0.7533  2.5813 \n",
       "\n",
       "Coefficients:\n",
       "               Estimate Std. Error t value Pr(>|t|)    \n",
       "(Intercept)     3.64403    2.16277   1.685  0.09334 .  \n",
       "log10_pop_o     0.21376    0.21532   0.993  0.32187    \n",
       "log10_area_o    0.17936    0.09472   1.893  0.05953 .  \n",
       "log10_pop_d     0.36256    0.21532   1.684  0.09356 .  \n",
       "log10_area_d    0.26291    0.09472   2.776  0.00596 ** \n",
       "log10_distwces -1.89206    0.19477  -9.714  < 2e-16 ***\n",
       "---\n",
       "Signif. codes:  0 '***' 0.001 '**' 0.01 '*' 0.05 '.' 0.1 ' ' 1\n",
       "\n",
       "Residual standard error: 1.062 on 234 degrees of freedom\n",
       "Multiple R-squared:  0.3517,\tAdjusted R-squared:  0.3378 \n",
       "F-statistic: 25.39 on 5 and 234 DF,  p-value: < 2.2e-16\n"
      ]
     },
     "metadata": {},
     "output_type": "display_data"
    }
   ],
   "source": [
    "summary(m_baseline$finalModel)"
   ]
  },
  {
   "cell_type": "markdown",
   "metadata": {},
   "source": [
    "### Migrant stock"
   ]
  },
  {
   "cell_type": "code",
   "execution_count": 8,
   "metadata": {},
   "outputs": [
    {
     "name": "stdout",
     "output_type": "stream",
     "text": [
      "[1] \"log10_m_flow_da_pb_closed\" \"log10_pop_o\"              \n",
      "[3] \"log10_area_o\"              \"log10_pop_d\"              \n",
      "[5] \"log10_area_d\"              \"log10_distwces\"           \n",
      "[7] \"log10_m_stock\"            \n",
      "Linear Regression \n",
      "\n",
      "240 samples\n",
      "  6 predictor\n",
      "\n",
      "No pre-processing\n",
      "Resampling: Leave-One-Out Cross-Validation \n",
      "Summary of sample sizes: 239, 239, 239, 239, 239, 239, ... \n",
      "Resampling results:\n",
      "\n",
      "  RMSE       Rsquared   MAE     \n",
      "  0.7017264  0.7095327  0.512228\n",
      "\n",
      "Tuning parameter 'intercept' was held constant at a value of TRUE\n"
     ]
    }
   ],
   "source": [
    "m_baseline_stocks <- crossval(gmodel_data, cols=c(\"log10_m_stock\"), indicators=FALSE)"
   ]
  },
  {
   "cell_type": "code",
   "execution_count": 9,
   "metadata": {},
   "outputs": [
    {
     "data": {
      "text/plain": [
       "\n",
       "Call:\n",
       "lm(formula = .outcome ~ ., data = dat)\n",
       "\n",
       "Residuals:\n",
       "     Min       1Q   Median       3Q      Max \n",
       "-2.48353 -0.34642  0.05507  0.39317  2.58138 \n",
       "\n",
       "Coefficients:\n",
       "               Estimate Std. Error t value Pr(>|t|)    \n",
       "(Intercept)     0.19705    1.41754   0.139 0.889565    \n",
       "log10_pop_o    -0.02674    0.14047  -0.190 0.849178    \n",
       "log10_area_o    0.13978    0.06155   2.271 0.024063 *  \n",
       "log10_pop_d     0.54080    0.14018   3.858 0.000148 ***\n",
       "log10_area_d   -0.17378    0.06615  -2.627 0.009186 ** \n",
       "log10_distwces -0.64312    0.14437  -4.455  1.3e-05 ***\n",
       "log10_m_stock   0.55899    0.03116  17.942  < 2e-16 ***\n",
       "---\n",
       "Signif. codes:  0 '***' 0.001 '**' 0.01 '*' 0.05 '.' 0.1 ' ' 1\n",
       "\n",
       "Residual standard error: 0.6893 on 233 degrees of freedom\n",
       "Multiple R-squared:  0.7278,\tAdjusted R-squared:  0.7208 \n",
       "F-statistic: 103.8 on 6 and 233 DF,  p-value: < 2.2e-16\n"
      ]
     },
     "metadata": {},
     "output_type": "display_data"
    }
   ],
   "source": [
    "summary(m_baseline_stocks$finalModel)"
   ]
  },
  {
   "cell_type": "markdown",
   "metadata": {},
   "source": [
    "### GDP"
   ]
  },
  {
   "cell_type": "code",
   "execution_count": 10,
   "metadata": {},
   "outputs": [
    {
     "name": "stdout",
     "output_type": "stream",
     "text": [
      "[1] \"log10_m_flow_da_pb_closed\" \"log10_pop_o\"              \n",
      "[3] \"log10_area_o\"              \"log10_pop_d\"              \n",
      "[5] \"log10_area_d\"              \"log10_distwces\"           \n",
      "[7] \"log10_GDP_percapita_o\"     \"log10_GDP_percapita_d\"    \n",
      "Linear Regression \n",
      "\n",
      "240 samples\n",
      "  7 predictor\n",
      "\n",
      "No pre-processing\n",
      "Resampling: Leave-One-Out Cross-Validation \n",
      "Summary of sample sizes: 239, 239, 239, 239, 239, 239, ... \n",
      "Resampling results:\n",
      "\n",
      "  RMSE       Rsquared   MAE      \n",
      "  0.7630091  0.6566334  0.5995611\n",
      "\n",
      "Tuning parameter 'intercept' was held constant at a value of TRUE\n"
     ]
    }
   ],
   "source": [
    "m_GDP_percapita <- crossval(gmodel_data, cols=c(\"log10_GDP_percapita_o\", \"log10_GDP_percapita_d\"), indicators=FALSE)"
   ]
  },
  {
   "cell_type": "code",
   "execution_count": 11,
   "metadata": {},
   "outputs": [
    {
     "data": {
      "text/plain": [
       "\n",
       "Call:\n",
       "lm(formula = .outcome ~ ., data = dat)\n",
       "\n",
       "Residuals:\n",
       "    Min      1Q  Median      3Q     Max \n",
       "-1.6816 -0.4963 -0.0059  0.4257  1.9837 \n",
       "\n",
       "Coefficients:\n",
       "                       Estimate Std. Error t value Pr(>|t|)    \n",
       "(Intercept)           -17.11696    2.03905  -8.395 4.64e-15 ***\n",
       "log10_pop_o             0.48473    0.15426   3.142  0.00189 ** \n",
       "log10_area_o            0.29809    0.06785   4.394 1.70e-05 ***\n",
       "log10_pop_d             0.70267    0.15426   4.555 8.46e-06 ***\n",
       "log10_area_d            0.41178    0.06785   6.069 5.19e-09 ***\n",
       "log10_distwces         -1.89788    0.13733 -13.820  < 2e-16 ***\n",
       "log10_GDP_percapita_o   1.48310    0.14927   9.936  < 2e-16 ***\n",
       "log10_GDP_percapita_d   1.86080    0.14927  12.466  < 2e-16 ***\n",
       "---\n",
       "Signif. codes:  0 '***' 0.001 '**' 0.01 '*' 0.05 '.' 0.1 ' ' 1\n",
       "\n",
       "Residual standard error: 0.7485 on 232 degrees of freedom\n",
       "Multiple R-squared:  0.6804,\tAdjusted R-squared:  0.6708 \n",
       "F-statistic: 70.57 on 7 and 232 DF,  p-value: < 2.2e-16\n"
      ]
     },
     "metadata": {},
     "output_type": "display_data"
    }
   ],
   "source": [
    "summary(m_GDP_percapita$finalModel)"
   ]
  },
  {
   "cell_type": "code",
   "execution_count": 12,
   "metadata": {},
   "outputs": [
    {
     "name": "stdout",
     "output_type": "stream",
     "text": [
      "[1] \"log10_m_flow_da_pb_closed\" \"log10_pop_o\"              \n",
      "[3] \"log10_area_o\"              \"log10_pop_d\"              \n",
      "[5] \"log10_area_d\"              \"log10_distwces\"           \n",
      "[7] \"log10_GDP_percapita_o\"     \"log10_GDP_percapita_d\"    \n",
      "Linear Regression \n",
      "\n",
      "240 samples\n",
      "  7 predictor\n",
      "\n",
      "No pre-processing\n",
      "Resampling: Leave-One-Out Cross-Validation \n",
      "Summary of sample sizes: 239, 239, 239, 239, 239, 239, ... \n",
      "Resampling results:\n",
      "\n",
      "  RMSE       Rsquared   MAE      \n",
      "  0.7630091  0.6566334  0.5995611\n",
      "\n",
      "Tuning parameter 'intercept' was held constant at a value of TRUE\n"
     ]
    }
   ],
   "source": [
    "m_GDP <- crossval(gmodel_data, cols=c(\"log10_GDP_percapita_o\", \"log10_GDP_percapita_d\"), indicators=FALSE)"
   ]
  },
  {
   "cell_type": "code",
   "execution_count": 13,
   "metadata": {},
   "outputs": [
    {
     "data": {
      "text/plain": [
       "\n",
       "Call:\n",
       "lm(formula = .outcome ~ ., data = dat)\n",
       "\n",
       "Residuals:\n",
       "    Min      1Q  Median      3Q     Max \n",
       "-1.6816 -0.4963 -0.0059  0.4257  1.9837 \n",
       "\n",
       "Coefficients:\n",
       "                       Estimate Std. Error t value Pr(>|t|)    \n",
       "(Intercept)           -17.11696    2.03905  -8.395 4.64e-15 ***\n",
       "log10_pop_o             0.48473    0.15426   3.142  0.00189 ** \n",
       "log10_area_o            0.29809    0.06785   4.394 1.70e-05 ***\n",
       "log10_pop_d             0.70267    0.15426   4.555 8.46e-06 ***\n",
       "log10_area_d            0.41178    0.06785   6.069 5.19e-09 ***\n",
       "log10_distwces         -1.89788    0.13733 -13.820  < 2e-16 ***\n",
       "log10_GDP_percapita_o   1.48310    0.14927   9.936  < 2e-16 ***\n",
       "log10_GDP_percapita_d   1.86080    0.14927  12.466  < 2e-16 ***\n",
       "---\n",
       "Signif. codes:  0 '***' 0.001 '**' 0.01 '*' 0.05 '.' 0.1 ' ' 1\n",
       "\n",
       "Residual standard error: 0.7485 on 232 degrees of freedom\n",
       "Multiple R-squared:  0.6804,\tAdjusted R-squared:  0.6708 \n",
       "F-statistic: 70.57 on 7 and 232 DF,  p-value: < 2.2e-16\n"
      ]
     },
     "metadata": {},
     "output_type": "display_data"
    }
   ],
   "source": [
    "summary(m_GDP$finalModel)"
   ]
  },
  {
   "cell_type": "markdown",
   "metadata": {},
   "source": [
    "### GDP and migrant stocks"
   ]
  },
  {
   "cell_type": "code",
   "execution_count": 14,
   "metadata": {},
   "outputs": [
    {
     "name": "stdout",
     "output_type": "stream",
     "text": [
      "[1] \"log10_m_flow_da_pb_closed\" \"log10_pop_o\"              \n",
      "[3] \"log10_area_o\"              \"log10_pop_d\"              \n",
      "[5] \"log10_area_d\"              \"log10_distwces\"           \n",
      "[7] \"log10_m_stock\"             \"log10_GDP_percapita_o\"    \n",
      "[9] \"log10_GDP_percapita_d\"    \n",
      "Linear Regression \n",
      "\n",
      "240 samples\n",
      "  8 predictor\n",
      "\n",
      "No pre-processing\n",
      "Resampling: Leave-One-Out Cross-Validation \n",
      "Summary of sample sizes: 239, 239, 239, 239, 239, 239, ... \n",
      "Resampling results:\n",
      "\n",
      "  RMSE       Rsquared  MAE      \n",
      "  0.6059432  0.783418  0.4559169\n",
      "\n",
      "Tuning parameter 'intercept' was held constant at a value of TRUE\n"
     ]
    }
   ],
   "source": [
    "m_GDP_stocks <- crossval(gmodel_data, cols=c(\"log10_m_stock\", \"log10_GDP_percapita_o\", \"log10_GDP_percapita_d\"), indicators=FALSE)"
   ]
  },
  {
   "cell_type": "code",
   "execution_count": 15,
   "metadata": {},
   "outputs": [
    {
     "name": "stdout",
     "output_type": "stream",
     "text": [
      "$lppd\n",
      "[1] -209.9559\n",
      "\n",
      "$pwaic1\n",
      "[1] 10.12801\n",
      "\n",
      "$pwaic2\n",
      "[1] 10.85644\n",
      "\n",
      "$WAIC1\n",
      "[1] 440.1678\n",
      "\n",
      "$WAIC2\n",
      "[1] 441.6247\n",
      "\n"
     ]
    }
   ],
   "source": [
    "print(blmeco::WAIC(m_GDP_stocks$finalModel))"
   ]
  },
  {
   "cell_type": "code",
   "execution_count": 16,
   "metadata": {},
   "outputs": [
    {
     "data": {
      "text/plain": [
       "\n",
       "Call:\n",
       "lm(formula = .outcome ~ ., data = dat)\n",
       "\n",
       "Residuals:\n",
       "     Min       1Q   Median       3Q      Max \n",
       "-2.11362 -0.31926  0.00847  0.37626  1.93771 \n",
       "\n",
       "Coefficients:\n",
       "                       Estimate Std. Error t value Pr(>|t|)    \n",
       "(Intercept)           -10.47912    1.70710  -6.139 3.59e-09 ***\n",
       "log10_pop_o             0.23011    0.12386   1.858   0.0645 .  \n",
       "log10_area_o            0.23367    0.05392   4.333 2.19e-05 ***\n",
       "log10_pop_d             0.64440    0.12207   5.279 3.00e-07 ***\n",
       "log10_area_d            0.01688    0.06318   0.267   0.7896    \n",
       "log10_distwces         -0.99884    0.13253  -7.537 1.09e-12 ***\n",
       "log10_m_stock           0.40124    0.03390  11.834  < 2e-16 ***\n",
       "log10_GDP_percapita_o   1.03398    0.12398   8.340 6.74e-15 ***\n",
       "log10_GDP_percapita_d   0.84227    0.14608   5.766 2.59e-08 ***\n",
       "---\n",
       "Signif. codes:  0 '***' 0.001 '**' 0.01 '*' 0.05 '.' 0.1 ' ' 1\n",
       "\n",
       "Residual standard error: 0.5918 on 231 degrees of freedom\n",
       "Multiple R-squared:  0.8011,\tAdjusted R-squared:  0.7942 \n",
       "F-statistic: 116.3 on 8 and 231 DF,  p-value: < 2.2e-16\n"
      ]
     },
     "metadata": {},
     "output_type": "display_data"
    }
   ],
   "source": [
    "summary(m_GDP_stocks$finalModel)"
   ]
  },
  {
   "cell_type": "code",
   "execution_count": 17,
   "metadata": {},
   "outputs": [
    {
     "name": "stdout",
     "output_type": "stream",
     "text": [
      "[1] 742.0271\n"
     ]
    }
   ],
   "source": [
    "print(BIC(m_baseline$finalModel))"
   ]
  },
  {
   "cell_type": "code",
   "execution_count": 18,
   "metadata": {},
   "outputs": [
    {
     "name": "stdout",
     "output_type": "stream",
     "text": [
      "[1] 539.2464\n"
     ]
    }
   ],
   "source": [
    "print(BIC(m_baseline_stocks$finalModel))"
   ]
  },
  {
   "cell_type": "code",
   "execution_count": 19,
   "metadata": {},
   "outputs": [
    {
     "name": "stdout",
     "output_type": "stream",
     "text": [
      "[1] 583.2058\n"
     ]
    }
   ],
   "source": [
    "print(BIC(m_GDP$finalModel))"
   ]
  },
  {
   "cell_type": "code",
   "execution_count": 20,
   "metadata": {},
   "outputs": [
    {
     "name": "stdout",
     "output_type": "stream",
     "text": [
      "[1] 474.9431\n"
     ]
    }
   ],
   "source": [
    "print(BIC(m_GDP_stocks$finalModel))"
   ]
  },
  {
   "cell_type": "markdown",
   "metadata": {},
   "source": [
    "#### GDP + Facebook"
   ]
  },
  {
   "cell_type": "code",
   "execution_count": 21,
   "metadata": {},
   "outputs": [
    {
     "name": "stdout",
     "output_type": "stream",
     "text": [
      " [1] \"log10_m_flow_da_pb_closed\" \"log10_pop_o\"              \n",
      " [3] \"log10_area_o\"              \"log10_pop_d\"              \n",
      " [5] \"log10_area_d\"              \"log10_distwces\"           \n",
      " [7] \"log10_m_stock\"             \"log10_GDP_percapita_o\"    \n",
      " [9] \"log10_GDP_percapita_d\"     \"CS_nonsymm_food_o\"        \n",
      "[11] \"CS_nonsymm_food_d\"        \n",
      "Linear Regression \n",
      "\n",
      "240 samples\n",
      " 10 predictor\n",
      "\n",
      "No pre-processing\n",
      "Resampling: Leave-One-Out Cross-Validation \n",
      "Summary of sample sizes: 239, 239, 239, 239, 239, 239, ... \n",
      "Resampling results:\n",
      "\n",
      "  RMSE      Rsquared   MAE      \n",
      "  0.593641  0.7921813  0.4528005\n",
      "\n",
      "Tuning parameter 'intercept' was held constant at a value of TRUE\n"
     ]
    }
   ],
   "source": [
    "m_fb_asym_GDP_stocks <- crossval(gmodel_data, cols=c(\"log10_m_stock\", \"log10_GDP_percapita_o\", \"log10_GDP_percapita_d\", \n",
    "                                                     \"CS_nonsymm_food_o\", \"CS_nonsymm_food_d\"), indicators=FALSE)"
   ]
  },
  {
   "cell_type": "code",
   "execution_count": 22,
   "metadata": {},
   "outputs": [
    {
     "name": "stdout",
     "output_type": "stream",
     "text": [
      "$lppd\n",
      "[1] -202.9138\n",
      "\n",
      "$pwaic1\n",
      "[1] 12.525\n",
      "\n",
      "$pwaic2\n",
      "[1] 13.32095\n",
      "\n",
      "$WAIC1\n",
      "[1] 430.8776\n",
      "\n",
      "$WAIC2\n",
      "[1] 432.4695\n",
      "\n"
     ]
    }
   ],
   "source": [
    "print(blmeco::WAIC(m_fb_asym_GDP_stocks$finalModel))"
   ]
  },
  {
   "cell_type": "code",
   "execution_count": 23,
   "metadata": {},
   "outputs": [
    {
     "data": {
      "text/plain": [
       "\n",
       "Call:\n",
       "lm(formula = .outcome ~ ., data = dat)\n",
       "\n",
       "Residuals:\n",
       "     Min       1Q   Median       3Q      Max \n",
       "-1.92919 -0.31149  0.02542  0.37543  1.74062 \n",
       "\n",
       "Coefficients:\n",
       "                       Estimate Std. Error t value Pr(>|t|)    \n",
       "(Intercept)           -11.94879    1.70976  -6.989 3.00e-11 ***\n",
       "log10_pop_o             0.38885    0.13048   2.980 0.003192 ** \n",
       "log10_area_o            0.18548    0.05412   3.428 0.000722 ***\n",
       "log10_pop_d             0.74993    0.12736   5.888 1.38e-08 ***\n",
       "log10_area_d           -0.01128    0.06249  -0.180 0.856952    \n",
       "log10_distwces         -0.82063    0.13859  -5.921 1.16e-08 ***\n",
       "log10_m_stock           0.38162    0.03355  11.374  < 2e-16 ***\n",
       "log10_GDP_percapita_o   0.92859    0.12534   7.409 2.44e-12 ***\n",
       "log10_GDP_percapita_d   0.80193    0.14751   5.436 1.39e-07 ***\n",
       "CS_nonsymm_food_o       0.25827    0.12157   2.124 0.034702 *  \n",
       "CS_nonsymm_food_d       0.38172    0.12331   3.096 0.002208 ** \n",
       "---\n",
       "Signif. codes:  0 '***' 0.001 '**' 0.01 '*' 0.05 '.' 0.1 ' ' 1\n",
       "\n",
       "Residual standard error: 0.5769 on 229 degrees of freedom\n",
       "Multiple R-squared:  0.8126,\tAdjusted R-squared:  0.8044 \n",
       "F-statistic: 99.28 on 10 and 229 DF,  p-value: < 2.2e-16\n"
      ]
     },
     "metadata": {},
     "output_type": "display_data"
    }
   ],
   "source": [
    "summary(m_fb_asym_GDP_stocks$finalModel)"
   ]
  },
  {
   "cell_type": "code",
   "execution_count": 24,
   "metadata": {},
   "outputs": [
    {
     "name": "stdout",
     "output_type": "stream",
     "text": [
      " [1] \"log10_m_flow_da_pb_closed\" \"log10_pop_o\"              \n",
      " [3] \"log10_area_o\"              \"log10_pop_d\"              \n",
      " [5] \"log10_area_d\"              \"log10_distwces\"           \n",
      " [7] \"log10_m_stock\"             \"log10_GDP_percapita_o\"    \n",
      " [9] \"log10_GDP_percapita_d\"     \"CS_symm\"                  \n",
      "Linear Regression \n",
      "\n",
      "240 samples\n",
      "  9 predictor\n",
      "\n",
      "No pre-processing\n",
      "Resampling: Leave-One-Out Cross-Validation \n",
      "Summary of sample sizes: 239, 239, 239, 239, 239, 239, ... \n",
      "Resampling results:\n",
      "\n",
      "  RMSE      Rsquared   MAE      \n",
      "  0.604888  0.7842012  0.4563276\n",
      "\n",
      "Tuning parameter 'intercept' was held constant at a value of TRUE\n"
     ]
    }
   ],
   "source": [
    "m_fb_sym_GDP_stocks <- crossval(gmodel_data, cols=c(\"log10_m_stock\", \"log10_GDP_percapita_o\", \"log10_GDP_percapita_d\", \n",
    "                                                     \"CS_symm\"), indicators=FALSE)"
   ]
  },
  {
   "cell_type": "code",
   "execution_count": 25,
   "metadata": {},
   "outputs": [
    {
     "name": "stdout",
     "output_type": "stream",
     "text": [
      "$lppd\n",
      "[1] -208.408\n",
      "\n",
      "$pwaic1\n",
      "[1] 10.82486\n",
      "\n",
      "$pwaic2\n",
      "[1] 11.51821\n",
      "\n",
      "$WAIC1\n",
      "[1] 438.4656\n",
      "\n",
      "$WAIC2\n",
      "[1] 439.8523\n",
      "\n"
     ]
    }
   ],
   "source": [
    "print(blmeco::WAIC(m_fb_sym_GDP_stocks$finalModel))"
   ]
  },
  {
   "cell_type": "code",
   "execution_count": 26,
   "metadata": {},
   "outputs": [
    {
     "data": {
      "text/plain": [
       "\n",
       "Call:\n",
       "lm(formula = .outcome ~ ., data = dat)\n",
       "\n",
       "Residuals:\n",
       "     Min       1Q   Median       3Q      Max \n",
       "-2.09031 -0.32439  0.02965  0.34121  1.85741 \n",
       "\n",
       "Coefficients:\n",
       "                       Estimate Std. Error t value Pr(>|t|)    \n",
       "(Intercept)           -10.91862    1.71712  -6.359 1.08e-09 ***\n",
       "log10_pop_o             0.23196    0.12329   1.881   0.0612 .  \n",
       "log10_area_o            0.22900    0.05374   4.261 2.96e-05 ***\n",
       "log10_pop_d             0.64225    0.12152   5.285 2.91e-07 ***\n",
       "log10_area_d            0.01893    0.06290   0.301   0.7637    \n",
       "log10_distwces         -0.92652    0.13805  -6.711 1.49e-10 ***\n",
       "log10_m_stock           0.39308    0.03406  11.541  < 2e-16 ***\n",
       "log10_GDP_percapita_o   1.05422    0.12393   8.506 2.31e-15 ***\n",
       "log10_GDP_percapita_d   0.87409    0.14650   5.967 9.08e-09 ***\n",
       "CS_symm                 0.35342    0.19898   1.776   0.0770 .  \n",
       "---\n",
       "Signif. codes:  0 '***' 0.001 '**' 0.01 '*' 0.05 '.' 0.1 ' ' 1\n",
       "\n",
       "Residual standard error: 0.5891 on 230 degrees of freedom\n",
       "Multiple R-squared:  0.8037,\tAdjusted R-squared:  0.7961 \n",
       "F-statistic: 104.7 on 9 and 230 DF,  p-value: < 2.2e-16\n"
      ]
     },
     "metadata": {},
     "output_type": "display_data"
    }
   ],
   "source": [
    "summary(m_fb_sym_GDP_stocks$finalModel)"
   ]
  },
  {
   "cell_type": "markdown",
   "metadata": {},
   "source": [
    "### Language and History"
   ]
  },
  {
   "cell_type": "code",
   "execution_count": 27,
   "metadata": {},
   "outputs": [
    {
     "name": "stdout",
     "output_type": "stream",
     "text": [
      " [1] \"log10_m_flow_da_pb_closed\" \"log10_pop_o\"              \n",
      " [3] \"log10_area_o\"              \"log10_pop_d\"              \n",
      " [5] \"log10_area_d\"              \"log10_distwces\"           \n",
      " [7] \"log10_m_stock\"             \"log10_GDP_percapita_o\"    \n",
      " [9] \"log10_GDP_percapita_d\"     \"col\"                      \n",
      "[11] \"lp1\"                       \"shared_hist\"              \n",
      "Linear Regression \n",
      "\n",
      "240 samples\n",
      " 11 predictor\n",
      "\n",
      "No pre-processing\n",
      "Resampling: Leave-One-Out Cross-Validation \n",
      "Summary of sample sizes: 239, 239, 239, 239, 239, 239, ... \n",
      "Resampling results:\n",
      "\n",
      "  RMSE     Rsquared  MAE      \n",
      "  0.58047  0.801347  0.4461103\n",
      "\n",
      "Tuning parameter 'intercept' was held constant at a value of TRUE\n"
     ]
    }
   ],
   "source": [
    "m_history_stocks <- crossval(gmodel_data, cols=c(\"log10_m_stock\", \"log10_GDP_percapita_o\", \"log10_GDP_percapita_d\", \n",
    "                                                  \"col\", \"lp1\", \"shared_hist\"), indicators=FALSE)"
   ]
  },
  {
   "cell_type": "code",
   "execution_count": 28,
   "metadata": {},
   "outputs": [
    {
     "name": "stdout",
     "output_type": "stream",
     "text": [
      "$lppd\n",
      "[1] -197.3862\n",
      "\n",
      "$pwaic1\n",
      "[1] 12.41493\n",
      "\n",
      "$pwaic2\n",
      "[1] 13.31483\n",
      "\n",
      "$WAIC1\n",
      "[1] 419.6022\n",
      "\n",
      "$WAIC2\n",
      "[1] 421.402\n",
      "\n"
     ]
    }
   ],
   "source": [
    "print(blmeco::WAIC(m_history_stocks$finalModel))"
   ]
  },
  {
   "cell_type": "code",
   "execution_count": 29,
   "metadata": {
    "scrolled": true
   },
   "outputs": [
    {
     "data": {
      "text/plain": [
       "\n",
       "Call:\n",
       "lm(formula = .outcome ~ ., data = dat)\n",
       "\n",
       "Residuals:\n",
       "     Min       1Q   Median       3Q      Max \n",
       "-1.92247 -0.29977  0.03691  0.38343  1.64796 \n",
       "\n",
       "Coefficients:\n",
       "                       Estimate Std. Error t value Pr(>|t|)    \n",
       "(Intercept)           -12.12083    1.67341  -7.243 6.69e-12 ***\n",
       "log10_pop_o             0.35310    0.12166   2.902 0.004068 ** \n",
       "log10_area_o            0.20393    0.05409   3.770 0.000208 ***\n",
       "log10_pop_d             0.73933    0.11898   6.214 2.43e-09 ***\n",
       "log10_area_d            0.03436    0.06191   0.555 0.579455    \n",
       "log10_distwces         -1.04411    0.12862  -8.118 2.96e-14 ***\n",
       "log10_m_stock           0.34392    0.03423  10.047  < 2e-16 ***\n",
       "log10_GDP_percapita_o   1.02489    0.11879   8.628 1.08e-15 ***\n",
       "log10_GDP_percapita_d   0.91454    0.14013   6.526 4.32e-10 ***\n",
       "col                     0.59954    0.13953   4.297 2.57e-05 ***\n",
       "lp1                     0.03152    0.02978   1.058 0.291007    \n",
       "shared_hist             0.15985    0.14736   1.085 0.279189    \n",
       "---\n",
       "Signif. codes:  0 '***' 0.001 '**' 0.01 '*' 0.05 '.' 0.1 ' ' 1\n",
       "\n",
       "Residual standard error: 0.5631 on 228 degrees of freedom\n",
       "Multiple R-squared:  0.8222,\tAdjusted R-squared:  0.8137 \n",
       "F-statistic: 95.87 on 11 and 228 DF,  p-value: < 2.2e-16\n"
      ]
     },
     "metadata": {},
     "output_type": "display_data"
    }
   ],
   "source": [
    "summary(m_history_stocks$finalModel)"
   ]
  },
  {
   "cell_type": "markdown",
   "metadata": {},
   "source": [
    "#### Langage and History + Facebook"
   ]
  },
  {
   "cell_type": "code",
   "execution_count": 30,
   "metadata": {},
   "outputs": [
    {
     "name": "stdout",
     "output_type": "stream",
     "text": [
      " [1] \"log10_m_flow_da_pb_closed\" \"log10_pop_o\"              \n",
      " [3] \"log10_area_o\"              \"log10_pop_d\"              \n",
      " [5] \"log10_area_d\"              \"log10_distwces\"           \n",
      " [7] \"log10_m_stock\"             \"log10_GDP_percapita_o\"    \n",
      " [9] \"log10_GDP_percapita_d\"     \"col\"                      \n",
      "[11] \"lp1\"                       \"shared_hist\"              \n",
      "[13] \"CS_nonsymm_food_o\"         \"CS_nonsymm_food_d\"        \n",
      "Linear Regression \n",
      "\n",
      "240 samples\n",
      " 13 predictor\n",
      "\n",
      "No pre-processing\n",
      "Resampling: Leave-One-Out Cross-Validation \n",
      "Summary of sample sizes: 239, 239, 239, 239, 239, 239, ... \n",
      "Resampling results:\n",
      "\n",
      "  RMSE       Rsquared   MAE      \n",
      "  0.5845634  0.7986015  0.4498347\n",
      "\n",
      "Tuning parameter 'intercept' was held constant at a value of TRUE\n"
     ]
    }
   ],
   "source": [
    "m_fb_asym_history_stocks <- crossval(gmodel_data, cols=c(\"log10_m_stock\", \"log10_GDP_percapita_o\", \"log10_GDP_percapita_d\", \n",
    "                                                       \"col\", \"lp1\", \"shared_hist\", \"CS_nonsymm_food_o\", \"CS_nonsymm_food_d\"), indicators=FALSE)"
   ]
  },
  {
   "cell_type": "code",
   "execution_count": 31,
   "metadata": {},
   "outputs": [
    {
     "name": "stdout",
     "output_type": "stream",
     "text": [
      "$lppd\n",
      "[1] -196.5906\n",
      "\n",
      "$pwaic1\n",
      "[1] 13.21746\n",
      "\n",
      "$pwaic2\n",
      "[1] 14.22119\n",
      "\n",
      "$WAIC1\n",
      "[1] 419.616\n",
      "\n",
      "$WAIC2\n",
      "[1] 421.6235\n",
      "\n"
     ]
    }
   ],
   "source": [
    "print(blmeco::WAIC(m_fb_asym_history_stocks$finalModel))"
   ]
  },
  {
   "cell_type": "code",
   "execution_count": 32,
   "metadata": {},
   "outputs": [
    {
     "data": {
      "text/plain": [
       "\n",
       "Call:\n",
       "lm(formula = .outcome ~ ., data = dat)\n",
       "\n",
       "Residuals:\n",
       "    Min      1Q  Median      3Q     Max \n",
       "-1.9106 -0.3013  0.0524  0.3698  1.5904 \n",
       "\n",
       "Coefficients:\n",
       "                       Estimate Std. Error t value Pr(>|t|)    \n",
       "(Intercept)           -12.29745    1.69282  -7.264 6.01e-12 ***\n",
       "log10_pop_o             0.39595    0.12914   3.066 0.002432 ** \n",
       "log10_area_o            0.19515    0.05563   3.508 0.000545 ***\n",
       "log10_pop_d             0.73063    0.12603   5.797 2.25e-08 ***\n",
       "log10_area_d            0.03134    0.06403   0.489 0.625045    \n",
       "log10_distwces         -1.00972    0.14903  -6.775 1.06e-10 ***\n",
       "log10_m_stock           0.34239    0.03462   9.889  < 2e-16 ***\n",
       "log10_GDP_percapita_o   0.98887    0.12509   7.905 1.17e-13 ***\n",
       "log10_GDP_percapita_d   0.92402    0.14897   6.203 2.62e-09 ***\n",
       "col                     0.54411    0.17615   3.089 0.002260 ** \n",
       "lp1                     0.03048    0.02997   1.017 0.310249    \n",
       "shared_hist             0.15669    0.14794   1.059 0.290645    \n",
       "CS_nonsymm_food_o      -0.01079    0.14091  -0.077 0.939048    \n",
       "CS_nonsymm_food_d       0.13306    0.13969   0.952 0.341864    \n",
       "---\n",
       "Signif. codes:  0 '***' 0.001 '**' 0.01 '*' 0.05 '.' 0.1 ' ' 1\n",
       "\n",
       "Residual standard error: 0.5643 on 226 degrees of freedom\n",
       "Multiple R-squared:  0.823,\tAdjusted R-squared:  0.8129 \n",
       "F-statistic: 80.86 on 13 and 226 DF,  p-value: < 2.2e-16\n"
      ]
     },
     "metadata": {},
     "output_type": "display_data"
    }
   ],
   "source": [
    "summary(m_fb_asym_history_stocks$finalModel)"
   ]
  },
  {
   "cell_type": "code",
   "execution_count": 33,
   "metadata": {},
   "outputs": [
    {
     "name": "stdout",
     "output_type": "stream",
     "text": [
      " [1] \"log10_m_flow_da_pb_closed\" \"log10_pop_o\"              \n",
      " [3] \"log10_area_o\"              \"log10_pop_d\"              \n",
      " [5] \"log10_area_d\"              \"log10_distwces\"           \n",
      " [7] \"log10_m_stock\"             \"log10_GDP_percapita_o\"    \n",
      " [9] \"log10_GDP_percapita_d\"     \"col\"                      \n",
      "[11] \"lp1\"                       \"shared_hist\"              \n",
      "[13] \"CS_symm\"                  \n",
      "Linear Regression \n",
      "\n",
      "240 samples\n",
      " 12 predictor\n",
      "\n",
      "No pre-processing\n",
      "Resampling: Leave-One-Out Cross-Validation \n",
      "Summary of sample sizes: 239, 239, 239, 239, 239, 239, ... \n",
      "Resampling results:\n",
      "\n",
      "  RMSE       Rsquared   MAE      \n",
      "  0.5824329  0.8000229  0.4473616\n",
      "\n",
      "Tuning parameter 'intercept' was held constant at a value of TRUE\n"
     ]
    }
   ],
   "source": [
    "m_fb_sym_history_stocks <- crossval(gmodel_data, cols=c(\"log10_m_stock\", \"log10_GDP_percapita_o\", \"log10_GDP_percapita_d\", \n",
    "                                                       \"col\", \"lp1\", \"shared_hist\", \"CS_symm\"), indicators=FALSE)"
   ]
  },
  {
   "cell_type": "code",
   "execution_count": 34,
   "metadata": {},
   "outputs": [
    {
     "name": "stdout",
     "output_type": "stream",
     "text": [
      "$lppd\n",
      "[1] -196.8313\n",
      "\n",
      "$pwaic1\n",
      "[1] 13.07496\n",
      "\n",
      "$pwaic2\n",
      "[1] 14.16865\n",
      "\n",
      "$WAIC1\n",
      "[1] 419.8125\n",
      "\n",
      "$WAIC2\n",
      "[1] 421.9999\n",
      "\n"
     ]
    }
   ],
   "source": [
    "print(blmeco::WAIC(m_fb_sym_history_stocks$finalModel))"
   ]
  },
  {
   "cell_type": "code",
   "execution_count": 35,
   "metadata": {},
   "outputs": [
    {
     "data": {
      "text/plain": [
       "\n",
       "Call:\n",
       "lm(formula = .outcome ~ ., data = dat)\n",
       "\n",
       "Residuals:\n",
       "     Min       1Q   Median       3Q      Max \n",
       "-1.91979 -0.28319  0.02882  0.37008  1.67540 \n",
       "\n",
       "Coefficients:\n",
       "                       Estimate Std. Error t value Pr(>|t|)    \n",
       "(Intercept)           -12.04344    1.67903  -7.173 1.03e-11 ***\n",
       "log10_pop_o             0.36015    0.12223   2.947 0.003548 ** \n",
       "log10_area_o            0.20500    0.05418   3.784 0.000198 ***\n",
       "log10_pop_d             0.74621    0.11953   6.243 2.09e-09 ***\n",
       "log10_area_d            0.03572    0.06201   0.576 0.565160    \n",
       "log10_distwces         -1.08046    0.13902  -7.772 2.67e-13 ***\n",
       "log10_m_stock           0.34356    0.03427  10.024  < 2e-16 ***\n",
       "log10_GDP_percapita_o   1.01625    0.11958   8.499 2.57e-15 ***\n",
       "log10_GDP_percapita_d   0.90640    0.14078   6.438 7.11e-10 ***\n",
       "col                     0.64474    0.15414   4.183 4.12e-05 ***\n",
       "lp1                     0.03129    0.02982   1.049 0.295099    \n",
       "shared_hist             0.16698    0.14789   1.129 0.260056    \n",
       "CS_symm                -0.15115    0.21794  -0.694 0.488674    \n",
       "---\n",
       "Signif. codes:  0 '***' 0.001 '**' 0.01 '*' 0.05 '.' 0.1 ' ' 1\n",
       "\n",
       "Residual standard error: 0.5637 on 227 degrees of freedom\n",
       "Multiple R-squared:  0.8226,\tAdjusted R-squared:  0.8132 \n",
       "F-statistic: 87.72 on 12 and 227 DF,  p-value: < 2.2e-16\n"
      ]
     },
     "metadata": {},
     "output_type": "display_data"
    }
   ],
   "source": [
    "summary(m_fb_sym_history_stocks$finalModel)"
   ]
  },
  {
   "cell_type": "markdown",
   "metadata": {},
   "source": [
    "### WVS CS"
   ]
  },
  {
   "cell_type": "code",
   "execution_count": 36,
   "metadata": {},
   "outputs": [
    {
     "name": "stdout",
     "output_type": "stream",
     "text": [
      " [1] \"log10_m_flow_da_pb_closed\" \"log10_pop_o\"              \n",
      " [3] \"log10_area_o\"              \"log10_pop_d\"              \n",
      " [5] \"log10_area_d\"              \"log10_distwces\"           \n",
      " [7] \"log10_m_stock\"             \"log10_GDP_percapita_o\"    \n",
      " [9] \"log10_GDP_percapita_d\"     \"col\"                      \n",
      "[11] \"lp1\"                       \"shared_hist\"              \n",
      "[13] \"CS_wvs\"                   \n",
      "Linear Regression \n",
      "\n",
      "240 samples\n",
      " 12 predictor\n",
      "\n",
      "No pre-processing\n",
      "Resampling: Leave-One-Out Cross-Validation \n",
      "Summary of sample sizes: 239, 239, 239, 239, 239, 239, ... \n",
      "Resampling results:\n",
      "\n",
      "  RMSE       Rsquared   MAE      \n",
      "  0.5474182  0.8233077  0.4277293\n",
      "\n",
      "Tuning parameter 'intercept' was held constant at a value of TRUE\n"
     ]
    }
   ],
   "source": [
    "m_wvs_history_stocks <- crossval(gmodel_data, cols=c(\"log10_m_stock\", \"log10_GDP_percapita_o\", \"log10_GDP_percapita_d\", \n",
    "                                                       \"col\", \"lp1\", \"shared_hist\", \"CS_wvs\"), indicators=FALSE)"
   ]
  },
  {
   "cell_type": "code",
   "execution_count": 37,
   "metadata": {},
   "outputs": [
    {
     "name": "stdout",
     "output_type": "stream",
     "text": [
      "$lppd\n",
      "[1] -181.9675\n",
      "\n",
      "$pwaic1\n",
      "[1] 13.05428\n",
      "\n",
      "$pwaic2\n",
      "[1] 14.14913\n",
      "\n",
      "$WAIC1\n",
      "[1] 390.0435\n",
      "\n",
      "$WAIC2\n",
      "[1] 392.2332\n",
      "\n"
     ]
    }
   ],
   "source": [
    "print(blmeco::WAIC(m_wvs_history_stocks$finalModel))"
   ]
  },
  {
   "cell_type": "code",
   "execution_count": 38,
   "metadata": {},
   "outputs": [
    {
     "data": {
      "text/plain": [
       "\n",
       "Call:\n",
       "lm(formula = .outcome ~ ., data = dat)\n",
       "\n",
       "Residuals:\n",
       "     Min       1Q   Median       3Q      Max \n",
       "-1.72913 -0.31431  0.02108  0.36346  1.35814 \n",
       "\n",
       "Coefficients:\n",
       "                       Estimate Std. Error t value Pr(>|t|)    \n",
       "(Intercept)           -12.90279    1.58182  -8.157 2.34e-14 ***\n",
       "log10_pop_o             0.37021    0.11458   3.231  0.00142 ** \n",
       "log10_area_o            0.21364    0.05096   4.192 3.96e-05 ***\n",
       "log10_pop_d             0.74278    0.11202   6.631 2.41e-10 ***\n",
       "log10_area_d            0.06707    0.05859   1.145  0.25350    \n",
       "log10_distwces         -1.15341    0.12271  -9.400  < 2e-16 ***\n",
       "log10_m_stock           0.31598    0.03263   9.685  < 2e-16 ***\n",
       "log10_GDP_percapita_o   1.10363    0.11275   9.788  < 2e-16 ***\n",
       "log10_GDP_percapita_d   1.03292    0.13367   7.727 3.52e-13 ***\n",
       "col                     0.60084    0.13136   4.574 7.87e-06 ***\n",
       "lp1                     0.04663    0.02817   1.655  0.09925 .  \n",
       "shared_hist             0.28958    0.14073   2.058  0.04076 *  \n",
       "CS_wvs                 -0.28747    0.05227  -5.500 1.02e-07 ***\n",
       "---\n",
       "Signif. codes:  0 '***' 0.001 '**' 0.01 '*' 0.05 '.' 0.1 ' ' 1\n",
       "\n",
       "Residual standard error: 0.5301 on 227 degrees of freedom\n",
       "Multiple R-squared:  0.8431,\tAdjusted R-squared:  0.8348 \n",
       "F-statistic: 101.7 on 12 and 227 DF,  p-value: < 2.2e-16\n"
      ]
     },
     "metadata": {},
     "output_type": "display_data"
    }
   ],
   "source": [
    "summary(m_wvs_history_stocks$finalModel)"
   ]
  },
  {
   "cell_type": "markdown",
   "metadata": {},
   "source": [
    "### Foursquare CS"
   ]
  },
  {
   "cell_type": "code",
   "execution_count": 39,
   "metadata": {},
   "outputs": [
    {
     "name": "stdout",
     "output_type": "stream",
     "text": [
      " [1] \"log10_m_flow_da_pb_closed\" \"log10_pop_o\"              \n",
      " [3] \"log10_area_o\"              \"log10_pop_d\"              \n",
      " [5] \"log10_area_d\"              \"log10_distwces\"           \n",
      " [7] \"log10_m_stock\"             \"log10_GDP_percapita_o\"    \n",
      " [9] \"log10_GDP_percapita_d\"     \"CS_foursquare\"            \n",
      "Linear Regression \n",
      "\n",
      "240 samples\n",
      "  9 predictor\n",
      "\n",
      "No pre-processing\n",
      "Resampling: Leave-One-Out Cross-Validation \n",
      "Summary of sample sizes: 239, 239, 239, 239, 239, 239, ... \n",
      "Resampling results:\n",
      "\n",
      "  RMSE       Rsquared   MAE      \n",
      "  0.6064816  0.7830487  0.4553055\n",
      "\n",
      "Tuning parameter 'intercept' was held constant at a value of TRUE\n"
     ]
    }
   ],
   "source": [
    "m_foursquare_GDP_stocks <- crossval(gmodel_data, cols=c(\"log10_m_stock\", \"log10_GDP_percapita_o\", \"log10_GDP_percapita_d\", \n",
    "                                                       \"CS_foursquare\"), indicators=FALSE)"
   ]
  },
  {
   "cell_type": "code",
   "execution_count": 40,
   "metadata": {},
   "outputs": [
    {
     "name": "stdout",
     "output_type": "stream",
     "text": [
      "$lppd\n",
      "[1] -209.4458\n",
      "\n",
      "$pwaic1\n",
      "[1] 10.03561\n",
      "\n",
      "$pwaic2\n",
      "[1] 10.7063\n",
      "\n",
      "$WAIC1\n",
      "[1] 438.9628\n",
      "\n",
      "$WAIC2\n",
      "[1] 440.3042\n",
      "\n"
     ]
    }
   ],
   "source": [
    "print(blmeco::WAIC(m_foursquare_GDP_stocks$finalModel))"
   ]
  },
  {
   "cell_type": "code",
   "execution_count": 41,
   "metadata": {},
   "outputs": [
    {
     "data": {
      "text/plain": [
       "\n",
       "Call:\n",
       "lm(formula = .outcome ~ ., data = dat)\n",
       "\n",
       "Residuals:\n",
       "     Min       1Q   Median       3Q      Max \n",
       "-2.07162 -0.30558  0.00367  0.36254  1.97087 \n",
       "\n",
       "Coefficients:\n",
       "                       Estimate Std. Error t value Pr(>|t|)    \n",
       "(Intercept)           -10.88170    1.74106  -6.250 1.97e-09 ***\n",
       "log10_pop_o             0.24601    0.12453   1.975   0.0494 *  \n",
       "log10_area_o            0.22274    0.05471   4.072 6.43e-05 ***\n",
       "log10_pop_d             0.65816    0.12257   5.370 1.92e-07 ***\n",
       "log10_area_d            0.00953    0.06345   0.150   0.8807    \n",
       "log10_distwces         -0.91823    0.14967  -6.135 3.68e-09 ***\n",
       "log10_m_stock           0.39690    0.03409  11.643  < 2e-16 ***\n",
       "log10_GDP_percapita_o   1.02896    0.12397   8.300 8.86e-15 ***\n",
       "log10_GDP_percapita_d   0.84342    0.14597   5.778 2.44e-08 ***\n",
       "CS_foursquare           0.07639    0.06609   1.156   0.2489    \n",
       "---\n",
       "Signif. codes:  0 '***' 0.001 '**' 0.01 '*' 0.05 '.' 0.1 ' ' 1\n",
       "\n",
       "Residual standard error: 0.5914 on 230 degrees of freedom\n",
       "Multiple R-squared:  0.8022,\tAdjusted R-squared:  0.7945 \n",
       "F-statistic: 103.6 on 9 and 230 DF,  p-value: < 2.2e-16\n"
      ]
     },
     "metadata": {},
     "output_type": "display_data"
    }
   ],
   "source": [
    "summary(m_foursquare_GDP_stocks$finalModel)"
   ]
  },
  {
   "cell_type": "code",
   "execution_count": 42,
   "metadata": {},
   "outputs": [
    {
     "name": "stdout",
     "output_type": "stream",
     "text": [
      " [1] \"log10_m_flow_da_pb_closed\" \"log10_pop_o\"              \n",
      " [3] \"log10_area_o\"              \"log10_pop_d\"              \n",
      " [5] \"log10_area_d\"              \"log10_distwces\"           \n",
      " [7] \"log10_m_stock\"             \"log10_GDP_percapita_o\"    \n",
      " [9] \"log10_GDP_percapita_d\"     \"col\"                      \n",
      "[11] \"lp1\"                       \"shared_hist\"              \n",
      "[13] \"CS_foursquare\"            \n",
      "Linear Regression \n",
      "\n",
      "240 samples\n",
      " 12 predictor\n",
      "\n",
      "No pre-processing\n",
      "Resampling: Leave-One-Out Cross-Validation \n",
      "Summary of sample sizes: 239, 239, 239, 239, 239, 239, ... \n",
      "Resampling results:\n",
      "\n",
      "  RMSE       Rsquared   MAE      \n",
      "  0.5826719  0.7998632  0.4478284\n",
      "\n",
      "Tuning parameter 'intercept' was held constant at a value of TRUE\n"
     ]
    }
   ],
   "source": [
    "m_foursquare_history_stocks <- crossval(gmodel_data, cols=c(\"log10_m_stock\", \"log10_GDP_percapita_o\", \"log10_GDP_percapita_d\", \n",
    "                                                       \"col\", \"lp1\", \"shared_hist\", \"CS_foursquare\"), indicators=FALSE)"
   ]
  },
  {
   "cell_type": "code",
   "execution_count": 43,
   "metadata": {},
   "outputs": [
    {
     "name": "stdout",
     "output_type": "stream",
     "text": [
      "$lppd\n",
      "[1] -196.5578\n",
      "\n",
      "$pwaic1\n",
      "[1] 12.65955\n",
      "\n",
      "$pwaic2\n",
      "[1] 13.60154\n",
      "\n",
      "$WAIC1\n",
      "[1] 418.4347\n",
      "\n",
      "$WAIC2\n",
      "[1] 420.3186\n",
      "\n"
     ]
    }
   ],
   "source": [
    "print(blmeco::WAIC(m_foursquare_history_stocks$finalModel))"
   ]
  },
  {
   "cell_type": "code",
   "execution_count": 44,
   "metadata": {},
   "outputs": [
    {
     "data": {
      "text/plain": [
       "\n",
       "Call:\n",
       "lm(formula = .outcome ~ ., data = dat)\n",
       "\n",
       "Residuals:\n",
       "     Min       1Q   Median       3Q      Max \n",
       "-1.91785 -0.30463  0.04091  0.38176  1.64646 \n",
       "\n",
       "Coefficients:\n",
       "                       Estimate Std. Error t value Pr(>|t|)    \n",
       "(Intercept)           -12.16558    1.69467  -7.179 9.93e-12 ***\n",
       "log10_pop_o             0.35396    0.12201   2.901 0.004086 ** \n",
       "log10_area_o            0.20319    0.05436   3.738 0.000235 ***\n",
       "log10_pop_d             0.74013    0.11932   6.203 2.59e-09 ***\n",
       "log10_area_d            0.03372    0.06214   0.543 0.587948    \n",
       "log10_distwces         -1.03205    0.14476  -7.130 1.33e-11 ***\n",
       "log10_m_stock           0.34379    0.03431  10.020  < 2e-16 ***\n",
       "log10_GDP_percapita_o   1.02436    0.11908   8.602 1.30e-15 ***\n",
       "log10_GDP_percapita_d   0.91418    0.14045   6.509 4.79e-10 ***\n",
       "col                     0.59509    0.14192   4.193 3.94e-05 ***\n",
       "lp1                     0.02979    0.03130   0.952 0.342167    \n",
       "shared_hist             0.15815    0.14797   1.069 0.286287    \n",
       "CS_foursquare           0.01224    0.06682   0.183 0.854845    \n",
       "---\n",
       "Signif. codes:  0 '***' 0.001 '**' 0.01 '*' 0.05 '.' 0.1 ' ' 1\n",
       "\n",
       "Residual standard error: 0.5643 on 227 degrees of freedom\n",
       "Multiple R-squared:  0.8223,\tAdjusted R-squared:  0.8129 \n",
       "F-statistic: 87.51 on 12 and 227 DF,  p-value: < 2.2e-16\n"
      ]
     },
     "metadata": {},
     "output_type": "display_data"
    }
   ],
   "source": [
    "summary(m_foursquare_history_stocks$finalModel)"
   ]
  },
  {
   "cell_type": "markdown",
   "metadata": {},
   "source": [
    "### Multiple CS measures on the same model:"
   ]
  },
  {
   "cell_type": "code",
   "execution_count": 45,
   "metadata": {},
   "outputs": [
    {
     "name": "stdout",
     "output_type": "stream",
     "text": [
      " [1] \"log10_m_flow_da_pb_closed\" \"log10_pop_o\"              \n",
      " [3] \"log10_area_o\"              \"log10_pop_d\"              \n",
      " [5] \"log10_area_d\"              \"log10_distwces\"           \n",
      " [7] \"log10_m_stock\"             \"log10_GDP_percapita_o\"    \n",
      " [9] \"log10_GDP_percapita_d\"     \"col\"                      \n",
      "[11] \"lp1\"                       \"shared_hist\"              \n",
      "[13] \"CS_wvs\"                    \"CS_foursquare\"            \n",
      "Linear Regression \n",
      "\n",
      "240 samples\n",
      " 13 predictor\n",
      "\n",
      "No pre-processing\n",
      "Resampling: Leave-One-Out Cross-Validation \n",
      "Summary of sample sizes: 239, 239, 239, 239, 239, 239, ... \n",
      "Resampling results:\n",
      "\n",
      "  RMSE       Rsquared   MAE      \n",
      "  0.5470949  0.8235305  0.4281124\n",
      "\n",
      "Tuning parameter 'intercept' was held constant at a value of TRUE\n"
     ]
    }
   ],
   "source": [
    "m_foursquare_wvs_history_stocks <- crossval(gmodel_data, cols=c(\"log10_m_stock\", \"log10_GDP_percapita_o\", \"log10_GDP_percapita_d\", \n",
    "                                                       \"col\", \"lp1\", \"shared_hist\", \"CS_wvs\", \"CS_foursquare\"), indicators=FALSE)"
   ]
  },
  {
   "cell_type": "code",
   "execution_count": 46,
   "metadata": {},
   "outputs": [
    {
     "name": "stdout",
     "output_type": "stream",
     "text": [
      "$lppd\n",
      "[1] -181.1385\n",
      "\n",
      "$pwaic1\n",
      "[1] 13.90869\n",
      "\n",
      "$pwaic2\n",
      "[1] 15.0805\n",
      "\n",
      "$WAIC1\n",
      "[1] 390.0943\n",
      "\n",
      "$WAIC2\n",
      "[1] 392.4379\n",
      "\n"
     ]
    }
   ],
   "source": [
    "print(blmeco::WAIC(m_foursquare_wvs_history_stocks$finalModel))"
   ]
  },
  {
   "cell_type": "code",
   "execution_count": 47,
   "metadata": {},
   "outputs": [
    {
     "data": {
      "text/plain": [
       "\n",
       "Call:\n",
       "lm(formula = .outcome ~ ., data = dat)\n",
       "\n",
       "Residuals:\n",
       "    Min      1Q  Median      3Q     Max \n",
       "-1.7184 -0.3342  0.0401  0.3506  1.3274 \n",
       "\n",
       "Coefficients:\n",
       "                       Estimate Std. Error t value Pr(>|t|)    \n",
       "(Intercept)           -13.30849    1.60014  -8.317 8.49e-15 ***\n",
       "log10_pop_o             0.37815    0.11438   3.306   0.0011 ** \n",
       "log10_area_o            0.20837    0.05093   4.091 5.98e-05 ***\n",
       "log10_pop_d             0.74935    0.11179   6.703 1.61e-10 ***\n",
       "log10_area_d            0.06410    0.05846   1.097   0.2740    \n",
       "log10_distwces         -1.06478    0.13573  -7.845 1.71e-13 ***\n",
       "log10_m_stock           0.31320    0.03259   9.611  < 2e-16 ***\n",
       "log10_GDP_percapita_o   1.10447    0.11243   9.823  < 2e-16 ***\n",
       "log10_GDP_percapita_d   1.03771    0.13334   7.783 2.53e-13 ***\n",
       "col                     0.56567    0.13305   4.252 3.11e-05 ***\n",
       "lp1                     0.03392    0.02933   1.156   0.2488    \n",
       "shared_hist             0.28453    0.14037   2.027   0.0438 *  \n",
       "CS_wvs                 -0.30612    0.05357  -5.714 3.46e-08 ***\n",
       "CS_foursquare           0.09708    0.06434   1.509   0.1327    \n",
       "---\n",
       "Signif. codes:  0 '***' 0.001 '**' 0.01 '*' 0.05 '.' 0.1 ' ' 1\n",
       "\n",
       "Residual standard error: 0.5286 on 226 degrees of freedom\n",
       "Multiple R-squared:  0.8447,\tAdjusted R-squared:  0.8358 \n",
       "F-statistic: 94.56 on 13 and 226 DF,  p-value: < 2.2e-16\n"
      ]
     },
     "metadata": {},
     "output_type": "display_data"
    }
   ],
   "source": [
    "summary(m_foursquare_wvs_history_stocks$finalModel)"
   ]
  },
  {
   "cell_type": "markdown",
   "metadata": {},
   "source": [
    "#### Extra models"
   ]
  },
  {
   "cell_type": "code",
   "execution_count": 48,
   "metadata": {},
   "outputs": [
    {
     "name": "stdout",
     "output_type": "stream",
     "text": [
      " [1] \"log10_m_flow_da_pb_closed\" \"log10_pop_o\"              \n",
      " [3] \"log10_area_o\"              \"log10_pop_d\"              \n",
      " [5] \"log10_area_d\"              \"log10_distwces\"           \n",
      " [7] \"log10_m_stock\"             \"log10_GDP_percapita_o\"    \n",
      " [9] \"log10_GDP_percapita_d\"     \"col\"                      \n",
      "[11] \"lp1\"                       \"shared_hist\"              \n",
      "[13] \"CS_wvs\"                    \"CS_nonsymm_food_o\"        \n",
      "[15] \"CS_nonsymm_food_d\"        \n",
      "Linear Regression \n",
      "\n",
      "240 samples\n",
      " 14 predictor\n",
      "\n",
      "No pre-processing\n",
      "Resampling: Leave-One-Out Cross-Validation \n",
      "Summary of sample sizes: 239, 239, 239, 239, 239, 239, ... \n",
      "Resampling results:\n",
      "\n",
      "  RMSE       Rsquared   MAE      \n",
      "  0.5494793  0.8220217  0.4295649\n",
      "\n",
      "Tuning parameter 'intercept' was held constant at a value of TRUE\n"
     ]
    }
   ],
   "source": [
    "m_fb_asym_stocks_no_foursquare <- crossval(gmodel_data, cols=c(\"log10_m_stock\", \"log10_GDP_percapita_o\", \"log10_GDP_percapita_d\", \n",
    "                                                 \"col\", \"lp1\", \"shared_hist\", \"CS_wvs\",\n",
    "                                                 \"CS_nonsymm_food_o\", \"CS_nonsymm_food_d\"), indicators=FALSE)"
   ]
  },
  {
   "cell_type": "code",
   "execution_count": 49,
   "metadata": {},
   "outputs": [
    {
     "name": "stdout",
     "output_type": "stream",
     "text": [
      "$lppd\n",
      "[1] -180.9268\n",
      "\n",
      "$pwaic1\n",
      "[1] 15.13143\n",
      "\n",
      "$pwaic2\n",
      "[1] 16.69201\n",
      "\n",
      "$WAIC1\n",
      "[1] 392.1164\n",
      "\n",
      "$WAIC2\n",
      "[1] 395.2376\n",
      "\n"
     ]
    }
   ],
   "source": [
    "print(blmeco::WAIC(m_fb_asym_stocks_no_foursquare$finalModel))"
   ]
  },
  {
   "cell_type": "code",
   "execution_count": 50,
   "metadata": {},
   "outputs": [
    {
     "data": {
      "text/plain": [
       "\n",
       "Call:\n",
       "lm(formula = .outcome ~ ., data = dat)\n",
       "\n",
       "Residuals:\n",
       "     Min       1Q   Median       3Q      Max \n",
       "-1.76144 -0.29049  0.03508  0.33794  1.28305 \n",
       "\n",
       "Coefficients:\n",
       "                       Estimate Std. Error t value Pr(>|t|)    \n",
       "(Intercept)           -13.23488    1.59753  -8.285 1.06e-14 ***\n",
       "log10_pop_o             0.43215    0.12137   3.561 0.000452 ***\n",
       "log10_area_o            0.19778    0.05222   3.788 0.000195 ***\n",
       "log10_pop_d             0.74845    0.11833   6.325 1.35e-09 ***\n",
       "log10_area_d            0.05691    0.06027   0.944 0.346050    \n",
       "log10_distwces         -1.07941    0.14042  -7.687 4.63e-13 ***\n",
       "log10_m_stock           0.31507    0.03286   9.589  < 2e-16 ***\n",
       "log10_GDP_percapita_o   1.04948    0.11790   8.901  < 2e-16 ***\n",
       "log10_GDP_percapita_d   1.02768    0.14103   7.287 5.31e-12 ***\n",
       "col                     0.48365    0.16567   2.919 0.003864 ** \n",
       "lp1                     0.04451    0.02824   1.576 0.116371    \n",
       "shared_hist             0.28510    0.14071   2.026 0.043933 *  \n",
       "CS_wvs                 -0.29521    0.05254  -5.618 5.67e-08 ***\n",
       "CS_nonsymm_food_o       0.04704    0.13265   0.355 0.723199    \n",
       "CS_nonsymm_food_d       0.20509    0.13173   1.557 0.120917    \n",
       "---\n",
       "Signif. codes:  0 '***' 0.001 '**' 0.01 '*' 0.05 '.' 0.1 ' ' 1\n",
       "\n",
       "Residual standard error: 0.5296 on 225 degrees of freedom\n",
       "Multiple R-squared:  0.8448,\tAdjusted R-squared:  0.8352 \n",
       "F-statistic: 87.49 on 14 and 225 DF,  p-value: < 2.2e-16\n"
      ]
     },
     "metadata": {},
     "output_type": "display_data"
    }
   ],
   "source": [
    "summary(m_fb_asym_stocks_no_foursquare$finalModel)"
   ]
  },
  {
   "cell_type": "code",
   "execution_count": 51,
   "metadata": {},
   "outputs": [
    {
     "name": "stdout",
     "output_type": "stream",
     "text": [
      " [1] \"log10_m_flow_da_pb_closed\" \"log10_pop_o\"              \n",
      " [3] \"log10_area_o\"              \"log10_pop_d\"              \n",
      " [5] \"log10_area_d\"              \"log10_distwces\"           \n",
      " [7] \"log10_m_stock\"             \"log10_GDP_percapita_o\"    \n",
      " [9] \"log10_GDP_percapita_d\"     \"col\"                      \n",
      "[11] \"lp1\"                       \"shared_hist\"              \n",
      "[13] \"CS_wvs\"                    \"CS_symm\"                  \n",
      "Linear Regression \n",
      "\n",
      "240 samples\n",
      " 13 predictor\n",
      "\n",
      "No pre-processing\n",
      "Resampling: Leave-One-Out Cross-Validation \n",
      "Summary of sample sizes: 239, 239, 239, 239, 239, 239, ... \n",
      "Resampling results:\n",
      "\n",
      "  RMSE       Rsquared   MAE      \n",
      "  0.5495697  0.8219353  0.4297451\n",
      "\n",
      "Tuning parameter 'intercept' was held constant at a value of TRUE\n"
     ]
    }
   ],
   "source": [
    "m_fb_sym_stocks_no_foursquare <- crossval(gmodel_data, cols=c(\"log10_m_stock\", \"log10_GDP_percapita_o\", \"log10_GDP_percapita_d\", \n",
    "                                                 \"col\", \"lp1\", \"shared_hist\", \"CS_wvs\",\n",
    "                                                 \"CS_symm\"), indicators=FALSE)"
   ]
  },
  {
   "cell_type": "code",
   "execution_count": 52,
   "metadata": {},
   "outputs": [
    {
     "name": "stdout",
     "output_type": "stream",
     "text": [
      "$lppd\n",
      "[1] -181.7568\n",
      "\n",
      "$pwaic1\n",
      "[1] 14.05689\n",
      "\n",
      "$pwaic2\n",
      "[1] 15.07549\n",
      "\n",
      "$WAIC1\n",
      "[1] 391.6273\n",
      "\n",
      "$WAIC2\n",
      "[1] 393.6645\n",
      "\n"
     ]
    }
   ],
   "source": [
    "print(blmeco::WAIC(m_fb_sym_stocks_no_foursquare$finalModel))"
   ]
  },
  {
   "cell_type": "code",
   "execution_count": 53,
   "metadata": {},
   "outputs": [
    {
     "data": {
      "text/plain": [
       "\n",
       "Call:\n",
       "lm(formula = .outcome ~ ., data = dat)\n",
       "\n",
       "Residuals:\n",
       "     Min       1Q   Median       3Q      Max \n",
       "-1.73172 -0.31555  0.03083  0.35165  1.38345 \n",
       "\n",
       "Coefficients:\n",
       "                       Estimate Std. Error t value Pr(>|t|)    \n",
       "(Intercept)           -12.83145    1.58736  -8.084 3.79e-14 ***\n",
       "log10_pop_o             0.37658    0.11512   3.271  0.00124 ** \n",
       "log10_area_o            0.21459    0.05104   4.204 3.77e-05 ***\n",
       "log10_pop_d             0.74900    0.11254   6.655 2.11e-10 ***\n",
       "log10_area_d            0.06825    0.05869   1.163  0.24603    \n",
       "log10_distwces         -1.18618    0.13231  -8.965  < 2e-16 ***\n",
       "log10_m_stock           0.31570    0.03267   9.664  < 2e-16 ***\n",
       "log10_GDP_percapita_o   1.09567    0.11351   9.652  < 2e-16 ***\n",
       "log10_GDP_percapita_d   1.02536    0.13431   7.634 6.35e-13 ***\n",
       "col                     0.64181    0.14513   4.422 1.52e-05 ***\n",
       "lp1                     0.04640    0.02821   1.645  0.10137    \n",
       "shared_hist             0.29584    0.14121   2.095  0.03728 *  \n",
       "CS_wvs                 -0.28703    0.05234  -5.484 1.11e-07 ***\n",
       "CS_symm                -0.13699    0.20521  -0.668  0.50510    \n",
       "---\n",
       "Signif. codes:  0 '***' 0.001 '**' 0.01 '*' 0.05 '.' 0.1 ' ' 1\n",
       "\n",
       "Residual standard error: 0.5308 on 226 degrees of freedom\n",
       "Multiple R-squared:  0.8434,\tAdjusted R-squared:  0.8344 \n",
       "F-statistic: 93.66 on 13 and 226 DF,  p-value: < 2.2e-16\n"
      ]
     },
     "metadata": {},
     "output_type": "display_data"
    }
   ],
   "source": [
    "summary(m_fb_sym_stocks_no_foursquare$finalModel)"
   ]
  },
  {
   "cell_type": "markdown",
   "metadata": {},
   "source": [
    "## LATEX table\n",
    "#### The final model from the Cross-validation using the FULL input dataset "
   ]
  },
  {
   "cell_type": "code",
   "execution_count": 54,
   "metadata": {},
   "outputs": [
    {
     "name": "stdout",
     "output_type": "stream",
     "text": [
      "\n",
      "\\begin{table}[h]\n",
      "\\begin{center}\n",
      "\\begin{tabular}{l D{.}{.}{3.5} D{.}{.}{3.5} D{.}{.}{3.5} D{.}{.}{3.5} D{.}{.}{3.5} D{.}{.}{3.5} D{.}{.}{3.5} D{.}{.}{3.5} D{.}{.}{3.5} D{.}{.}{3.5} D{.}{.}{3.5} D{.}{.}{3.5}}\n",
      "\\toprule\n",
      " & \\multicolumn{1}{c}{Model 1} & \\multicolumn{1}{c}{Model 2} & \\multicolumn{1}{c}{Model 3} & \\multicolumn{1}{c}{Model 4} & \\multicolumn{1}{c}{Model 5} & \\multicolumn{1}{c}{Model 6} & \\multicolumn{1}{c}{Model 7} & \\multicolumn{1}{c}{Model 8} & \\multicolumn{1}{c}{Model 9} & \\multicolumn{1}{c}{Model 10} & \\multicolumn{1}{c}{Model 11} & \\multicolumn{1}{c}{Model 12} \\\\\n",
      "\\midrule\n",
      "(Intercept)              & -10.48^{***} & -11.95^{***} & -10.92^{***} & -10.88^{***} & -12.12^{***} & -12.30^{***} & -12.04^{***} & -12.17^{***} & -12.90^{***} & -13.23^{***} & -12.83^{***} & -13.31^{***} \\\\\n",
      "                         & (1.71)       & (1.71)       & (1.72)       & (1.74)       & (1.67)       & (1.69)       & (1.68)       & (1.69)       & (1.58)       & (1.60)       & (1.59)       & (1.60)       \\\\\n",
      "log10\\_pop\\_o            & 0.23         & 0.39^{**}    & 0.23         & 0.25^{*}     & 0.35^{**}    & 0.40^{**}    & 0.36^{**}    & 0.35^{**}    & 0.37^{**}    & 0.43^{***}   & 0.38^{**}    & 0.38^{**}    \\\\\n",
      "                         & (0.12)       & (0.13)       & (0.12)       & (0.12)       & (0.12)       & (0.13)       & (0.12)       & (0.12)       & (0.11)       & (0.12)       & (0.12)       & (0.11)       \\\\\n",
      "log10\\_area\\_o           & 0.23^{***}   & 0.19^{***}   & 0.23^{***}   & 0.22^{***}   & 0.20^{***}   & 0.20^{***}   & 0.21^{***}   & 0.20^{***}   & 0.21^{***}   & 0.20^{***}   & 0.21^{***}   & 0.21^{***}   \\\\\n",
      "                         & (0.05)       & (0.05)       & (0.05)       & (0.05)       & (0.05)       & (0.06)       & (0.05)       & (0.05)       & (0.05)       & (0.05)       & (0.05)       & (0.05)       \\\\\n",
      "log10\\_pop\\_d            & 0.64^{***}   & 0.75^{***}   & 0.64^{***}   & 0.66^{***}   & 0.74^{***}   & 0.73^{***}   & 0.75^{***}   & 0.74^{***}   & 0.74^{***}   & 0.75^{***}   & 0.75^{***}   & 0.75^{***}   \\\\\n",
      "                         & (0.12)       & (0.13)       & (0.12)       & (0.12)       & (0.12)       & (0.13)       & (0.12)       & (0.12)       & (0.11)       & (0.12)       & (0.11)       & (0.11)       \\\\\n",
      "log10\\_area\\_d           & 0.02         & -0.01        & 0.02         & 0.01         & 0.03         & 0.03         & 0.04         & 0.03         & 0.07         & 0.06         & 0.07         & 0.06         \\\\\n",
      "                         & (0.06)       & (0.06)       & (0.06)       & (0.06)       & (0.06)       & (0.06)       & (0.06)       & (0.06)       & (0.06)       & (0.06)       & (0.06)       & (0.06)       \\\\\n",
      "log10\\_distwces          & -1.00^{***}  & -0.82^{***}  & -0.93^{***}  & -0.92^{***}  & -1.04^{***}  & -1.01^{***}  & -1.08^{***}  & -1.03^{***}  & -1.15^{***}  & -1.08^{***}  & -1.19^{***}  & -1.06^{***}  \\\\\n",
      "                         & (0.13)       & (0.14)       & (0.14)       & (0.15)       & (0.13)       & (0.15)       & (0.14)       & (0.14)       & (0.12)       & (0.14)       & (0.13)       & (0.14)       \\\\\n",
      "log10\\_m\\_stock          & 0.40^{***}   & 0.38^{***}   & 0.39^{***}   & 0.40^{***}   & 0.34^{***}   & 0.34^{***}   & 0.34^{***}   & 0.34^{***}   & 0.32^{***}   & 0.32^{***}   & 0.32^{***}   & 0.31^{***}   \\\\\n",
      "                         & (0.03)       & (0.03)       & (0.03)       & (0.03)       & (0.03)       & (0.03)       & (0.03)       & (0.03)       & (0.03)       & (0.03)       & (0.03)       & (0.03)       \\\\\n",
      "log10\\_GDP\\_percapita\\_o & 1.03^{***}   & 0.93^{***}   & 1.05^{***}   & 1.03^{***}   & 1.02^{***}   & 0.99^{***}   & 1.02^{***}   & 1.02^{***}   & 1.10^{***}   & 1.05^{***}   & 1.10^{***}   & 1.10^{***}   \\\\\n",
      "                         & (0.12)       & (0.13)       & (0.12)       & (0.12)       & (0.12)       & (0.13)       & (0.12)       & (0.12)       & (0.11)       & (0.12)       & (0.11)       & (0.11)       \\\\\n",
      "log10\\_GDP\\_percapita\\_d & 0.84^{***}   & 0.80^{***}   & 0.87^{***}   & 0.84^{***}   & 0.91^{***}   & 0.92^{***}   & 0.91^{***}   & 0.91^{***}   & 1.03^{***}   & 1.03^{***}   & 1.03^{***}   & 1.04^{***}   \\\\\n",
      "                         & (0.15)       & (0.15)       & (0.15)       & (0.15)       & (0.14)       & (0.15)       & (0.14)       & (0.14)       & (0.13)       & (0.14)       & (0.13)       & (0.13)       \\\\\n",
      "CS\\_nonsymm\\_food\\_o     &              & 0.26^{*}     &              &              &              & -0.01        &              &              &              & 0.05         &              &              \\\\\n",
      "                         &              & (0.12)       &              &              &              & (0.14)       &              &              &              & (0.13)       &              &              \\\\\n",
      "CS\\_nonsymm\\_food\\_d     &              & 0.38^{**}    &              &              &              & 0.13         &              &              &              & 0.21         &              &              \\\\\n",
      "                         &              & (0.12)       &              &              &              & (0.14)       &              &              &              & (0.13)       &              &              \\\\\n",
      "CS\\_symm                 &              &              & 0.35         &              &              &              & -0.15        &              &              &              & -0.14        &              \\\\\n",
      "                         &              &              & (0.20)       &              &              &              & (0.22)       &              &              &              & (0.21)       &              \\\\\n",
      "CS\\_foursquare           &              &              &              & 0.08         &              &              &              & 0.01         &              &              &              & 0.10         \\\\\n",
      "                         &              &              &              & (0.07)       &              &              &              & (0.07)       &              &              &              & (0.06)       \\\\\n",
      "col                      &              &              &              &              & 0.60^{***}   & 0.54^{**}    & 0.64^{***}   & 0.60^{***}   & 0.60^{***}   & 0.48^{**}    & 0.64^{***}   & 0.57^{***}   \\\\\n",
      "                         &              &              &              &              & (0.14)       & (0.18)       & (0.15)       & (0.14)       & (0.13)       & (0.17)       & (0.15)       & (0.13)       \\\\\n",
      "lp1                      &              &              &              &              & 0.03         & 0.03         & 0.03         & 0.03         & 0.05         & 0.04         & 0.05         & 0.03         \\\\\n",
      "                         &              &              &              &              & (0.03)       & (0.03)       & (0.03)       & (0.03)       & (0.03)       & (0.03)       & (0.03)       & (0.03)       \\\\\n",
      "shared\\_hist             &              &              &              &              & 0.16         & 0.16         & 0.17         & 0.16         & 0.29^{*}     & 0.29^{*}     & 0.30^{*}     & 0.28^{*}     \\\\\n",
      "                         &              &              &              &              & (0.15)       & (0.15)       & (0.15)       & (0.15)       & (0.14)       & (0.14)       & (0.14)       & (0.14)       \\\\\n",
      "CS\\_wvs                  &              &              &              &              &              &              &              &              & -0.29^{***}  & -0.30^{***}  & -0.29^{***}  & -0.31^{***}  \\\\\n",
      "                         &              &              &              &              &              &              &              &              & (0.05)       & (0.05)       & (0.05)       & (0.05)       \\\\\n",
      "\\midrule\n",
      "R$^2$                    & 0.80         & 0.81         & 0.80         & 0.80         & 0.82         & 0.82         & 0.82         & 0.82         & 0.84         & 0.84         & 0.84         & 0.84         \\\\\n",
      "Adj. R$^2$               & 0.79         & 0.80         & 0.80         & 0.79         & 0.81         & 0.81         & 0.81         & 0.81         & 0.83         & 0.84         & 0.83         & 0.84         \\\\\n",
      "Num. obs.                & 240          & 240          & 240          & 240          & 240          & 240          & 240          & 240          & 240          & 240          & 240          & 240          \\\\\n",
      "\\bottomrule\n",
      "\\multicolumn{13}{l}{\\scriptsize{$^{***}p<0.001$; $^{**}p<0.01$; $^{*}p<0.05$}}\n",
      "\\end{tabular}\n",
      "\\caption{Linear models}\n",
      "\\label{tab:models_flow}\n",
      "\\end{center}\n",
      "\\end{table}\n"
     ]
    }
   ],
   "source": [
    "print(texreg(list(m_GDP_stocks$finalModel,\n",
    "                  m_fb_asym_GDP_stocks$finalModel,\n",
    "                  m_fb_sym_GDP_stocks$finalModel,\n",
    "                  m_foursquare_GDP_stocks$finalModel,\n",
    "                  m_history_stocks$finalModel, \n",
    "                  m_fb_asym_history_stocks$finalModel,\n",
    "                  m_fb_sym_history_stocks$finalModel,\n",
    "                  m_foursquare_history_stocks$finalModel,\n",
    "                  m_wvs_history_stocks$finalModel, \n",
    "                  m_fb_asym_stocks_no_foursquare$finalModel, \n",
    "                  m_fb_sym_stocks_no_foursquare$finalModel, \n",
    "                  m_foursquare_wvs_history_stocks$finalModel), dcolumn = TRUE, booktabs = TRUE, \n",
    "       use.packages = FALSE, label = \"tab:models_flow\", caption = \"Linear models\", \n",
    "       float.pos = \"h\"))"
   ]
  },
  {
   "cell_type": "markdown",
   "metadata": {},
   "source": [
    "## AIC and BIC"
   ]
  },
  {
   "cell_type": "code",
   "execution_count": 67,
   "metadata": {},
   "outputs": [
    {
     "name": "stdout",
     "output_type": "stream",
     "text": [
      "[1] \"Model 1: Baseline\"\n",
      "\n",
      "Call:\n",
      "lm(formula = .outcome ~ ., data = dat)\n",
      "\n",
      "Coefficients:\n",
      "          (Intercept)            log10_pop_o           log10_area_o  \n",
      "            -10.47912                0.23011                0.23367  \n",
      "          log10_pop_d           log10_area_d         log10_distwces  \n",
      "              0.64440                0.01688               -0.99884  \n",
      "        log10_m_stock  log10_GDP_percapita_o  log10_GDP_percapita_d  \n",
      "              0.40124                1.03398                0.84227  \n",
      "\n",
      "[1] 0.7941625\n",
      "[1] 440.1368\n",
      "[1] 474.9431\n",
      "$lppd\n",
      "[1] -209.5777\n",
      "\n",
      "$pwaic1\n",
      "[1] 11.61544\n",
      "\n",
      "$pwaic2\n",
      "[1] 12.55978\n",
      "\n",
      "$WAIC1\n",
      "[1] 442.3863\n",
      "\n",
      "$WAIC2\n",
      "[1] 444.275\n",
      "\n",
      "[1] \"Model 1 + Asymmetric CS\"\n",
      "\n",
      "Call:\n",
      "lm(formula = .outcome ~ ., data = dat)\n",
      "\n",
      "Coefficients:\n",
      "          (Intercept)            log10_pop_o           log10_area_o  \n",
      "            -11.94879                0.38885                0.18548  \n",
      "          log10_pop_d           log10_area_d         log10_distwces  \n",
      "              0.74993               -0.01128               -0.82063  \n",
      "        log10_m_stock  log10_GDP_percapita_o  log10_GDP_percapita_d  \n",
      "              0.38162                0.92859                0.80193  \n",
      "    CS_nonsymm_food_o      CS_nonsymm_food_d  \n",
      "              0.25827                0.38172  \n",
      "\n",
      "[1] 0.8043814\n",
      "[1] 429.8289\n",
      "[1] 471.5966\n",
      "$lppd\n",
      "[1] -202.926\n",
      "\n",
      "$pwaic1\n",
      "[1] 12.71834\n",
      "\n",
      "$pwaic2\n",
      "[1] 13.59841\n",
      "\n",
      "$WAIC1\n",
      "[1] 431.2886\n",
      "\n",
      "$WAIC2\n",
      "[1] 433.0488\n",
      "\n",
      "[1] \"Model 1 + Symmetric CS\"\n",
      "\n",
      "Call:\n",
      "lm(formula = .outcome ~ ., data = dat)\n",
      "\n",
      "Coefficients:\n",
      "          (Intercept)            log10_pop_o           log10_area_o  \n",
      "            -10.91862                0.23196                0.22900  \n",
      "          log10_pop_d           log10_area_d         log10_distwces  \n",
      "              0.64225                0.01893               -0.92652  \n",
      "        log10_m_stock  log10_GDP_percapita_o  log10_GDP_percapita_d  \n",
      "              0.39308                1.05422                0.87409  \n",
      "              CS_symm  \n",
      "              0.35342  \n",
      "\n",
      "[1] 0.7960647\n",
      "[1] 438.8673\n",
      "[1] 477.1543\n",
      "$lppd\n",
      "[1] -208.1709\n",
      "\n",
      "$pwaic1\n",
      "[1] 11.33282\n",
      "\n",
      "$pwaic2\n",
      "[1] 12.13587\n",
      "\n",
      "$WAIC1\n",
      "[1] 439.0075\n",
      "\n",
      "$WAIC2\n",
      "[1] 440.6136\n",
      "\n",
      "[1] \"Model 1 + Foursquare\"\n",
      "\n",
      "Call:\n",
      "lm(formula = .outcome ~ ., data = dat)\n",
      "\n",
      "Coefficients:\n",
      "          (Intercept)            log10_pop_o           log10_area_o  \n",
      "            -10.88170                0.24601                0.22274  \n",
      "          log10_pop_d           log10_area_d         log10_distwces  \n",
      "              0.65816                0.00953               -0.91823  \n",
      "        log10_m_stock  log10_GDP_percapita_o  log10_GDP_percapita_d  \n",
      "              0.39690                1.02896                0.84342  \n",
      "        CS_foursquare  \n",
      "              0.07639  \n",
      "\n",
      "[1] 0.7944615\n",
      "[1] 440.7467\n",
      "[1] 479.0337\n",
      "$lppd\n",
      "[1] -209.0399\n",
      "\n",
      "$pwaic1\n",
      "[1] 11.76879\n",
      "\n",
      "$pwaic2\n",
      "[1] 12.7824\n",
      "\n",
      "$WAIC1\n",
      "[1] 441.6175\n",
      "\n",
      "$WAIC2\n",
      "[1] 443.6447\n",
      "\n"
     ]
    }
   ],
   "source": [
    "print(\"Model 1: Baseline\")\n",
    "print(m_GDP_stocks$finalModel)\n",
    "print(summary(m_GDP_stocks)$adj.r.squared)\n",
    "print(AIC(m_GDP_stocks$finalModel))\n",
    "print(BIC(m_GDP_stocks$finalModel))\n",
    "print(blmeco::WAIC(m_GDP_stocks$finalModel))\n",
    "\n",
    "print(\"Model 1 + Asymmetric CS\")\n",
    "print(m_fb_asym_GDP_stocks$finalModel)\n",
    "print(summary(m_fb_asym_GDP_stocks)$adj.r.squared)\n",
    "print(AIC(m_fb_asym_GDP_stocks$finalModel))\n",
    "print(BIC(m_fb_asym_GDP_stocks$finalModel))\n",
    "print(blmeco::WAIC(m_fb_asym_GDP_stocks$finalModel))\n",
    "\n",
    "print(\"Model 1 + Symmetric CS\")\n",
    "print(m_fb_sym_GDP_stocks$finalModel)\n",
    "print(summary(m_fb_sym_GDP_stocks)$adj.r.squared)\n",
    "print(AIC(m_fb_sym_GDP_stocks$finalModel))\n",
    "print(BIC(m_fb_sym_GDP_stocks$finalModel))\n",
    "print(blmeco::WAIC(m_fb_sym_GDP_stocks$finalModel))\n",
    "\n",
    "\n",
    "print(\"Model 1 + Foursquare\")\n",
    "print(m_foursquare_GDP_stocks$finalModel)\n",
    "print(summary(m_foursquare_GDP_stocks)$adj.r.squared)\n",
    "print(AIC(m_foursquare_GDP_stocks$finalModel))\n",
    "print(BIC(m_foursquare_GDP_stocks$finalModel))\n",
    "print(blmeco::WAIC(m_foursquare_GDP_stocks$finalModel))\n"
   ]
  },
  {
   "cell_type": "code",
   "execution_count": 56,
   "metadata": {},
   "outputs": [
    {
     "name": "stdout",
     "output_type": "stream",
     "text": [
      "[1] \"Model 2: Model 1 + Shared language and history\"\n",
      "\n",
      "Call:\n",
      "lm(formula = .outcome ~ ., data = dat)\n",
      "\n",
      "Coefficients:\n",
      "          (Intercept)            log10_pop_o           log10_area_o  \n",
      "            -12.12083                0.35310                0.20393  \n",
      "          log10_pop_d           log10_area_d         log10_distwces  \n",
      "              0.73933                0.03436               -1.04411  \n",
      "        log10_m_stock  log10_GDP_percapita_o  log10_GDP_percapita_d  \n",
      "              0.34392                1.02489                0.91454  \n",
      "                  col                    lp1            shared_hist  \n",
      "              0.59954                0.03152                0.15985  \n",
      "\n",
      "[1] 0.8136577\n",
      "[1] 419.1191\n",
      "[1] 464.3674\n",
      "$lppd\n",
      "[1] -196.6113\n",
      "\n",
      "$pwaic1\n",
      "[1] 12.84747\n",
      "\n",
      "$pwaic2\n",
      "[1] 14.08585\n",
      "\n",
      "$WAIC1\n",
      "[1] 418.9175\n",
      "\n",
      "$WAIC2\n",
      "[1] 421.3943\n",
      "\n",
      "[1] \"Model 2 + Asymmetric CS\"\n",
      "\n",
      "Call:\n",
      "lm(formula = .outcome ~ ., data = dat)\n",
      "\n",
      "Coefficients:\n",
      "          (Intercept)            log10_pop_o           log10_area_o  \n",
      "            -12.29745                0.39595                0.19515  \n",
      "          log10_pop_d           log10_area_d         log10_distwces  \n",
      "              0.73063                0.03134               -1.00972  \n",
      "        log10_m_stock  log10_GDP_percapita_o  log10_GDP_percapita_d  \n",
      "              0.34239                0.98887                0.92402  \n",
      "                  col                    lp1            shared_hist  \n",
      "              0.54411                0.03048                0.15669  \n",
      "    CS_nonsymm_food_o      CS_nonsymm_food_d  \n",
      "             -0.01079                0.13306  \n",
      "\n",
      "[1] 0.8128607\n",
      "[1] 422.0287\n",
      "[1] 474.2383\n",
      "$lppd\n",
      "[1] -196.4933\n",
      "\n",
      "$pwaic1\n",
      "[1] 14.89175\n",
      "\n",
      "$pwaic2\n",
      "[1] 16.33343\n",
      "\n",
      "$WAIC1\n",
      "[1] 422.77\n",
      "\n",
      "$WAIC2\n",
      "[1] 425.6534\n",
      "\n",
      "[1] \"Model 2 + Symmetric CS\"\n",
      "\n",
      "Call:\n",
      "lm(formula = .outcome ~ ., data = dat)\n",
      "\n",
      "Coefficients:\n",
      "          (Intercept)            log10_pop_o           log10_area_o  \n",
      "            -12.04344                0.36015                0.20500  \n",
      "          log10_pop_d           log10_area_d         log10_distwces  \n",
      "              0.74621                0.03572               -1.08046  \n",
      "        log10_m_stock  log10_GDP_percapita_o  log10_GDP_percapita_d  \n",
      "              0.34356                1.01625                0.90640  \n",
      "                  col                    lp1            shared_hist  \n",
      "              0.64474                0.03129                0.16698  \n",
      "              CS_symm  \n",
      "             -0.15115  \n",
      "\n",
      "[1] 0.8132325\n",
      "[1] 420.6111\n",
      "[1] 469.34\n",
      "$lppd\n",
      "[1] -196.4685\n",
      "\n",
      "$pwaic1\n",
      "[1] 12.91495\n",
      "\n",
      "$pwaic2\n",
      "[1] 13.86132\n",
      "\n",
      "$WAIC1\n",
      "[1] 418.767\n",
      "\n",
      "$WAIC2\n",
      "[1] 420.6597\n",
      "\n",
      "[1] \"Model 2 + Foursquare\"\n",
      "\n",
      "Call:\n",
      "lm(formula = .outcome ~ ., data = dat)\n",
      "\n",
      "Coefficients:\n",
      "          (Intercept)            log10_pop_o           log10_area_o  \n",
      "            -12.16558                0.35396                0.20319  \n",
      "          log10_pop_d           log10_area_d         log10_distwces  \n",
      "              0.74013                0.03372               -1.03205  \n",
      "        log10_m_stock  log10_GDP_percapita_o  log10_GDP_percapita_d  \n",
      "              0.34379                1.02436                0.91418  \n",
      "                  col                    lp1            shared_hist  \n",
      "              0.59509                0.02979                0.15815  \n",
      "        CS_foursquare  \n",
      "              0.01224  \n",
      "\n",
      "[1] 0.8128644\n",
      "[1] 421.0836\n",
      "[1] 469.8126\n",
      "$lppd\n",
      "[1] -197.0462\n",
      "\n",
      "$pwaic1\n",
      "[1] 13.72835\n",
      "\n",
      "$pwaic2\n",
      "[1] 14.80322\n",
      "\n",
      "$WAIC1\n",
      "[1] 421.5492\n",
      "\n",
      "$WAIC2\n",
      "[1] 423.6989\n",
      "\n"
     ]
    }
   ],
   "source": [
    "print(\"Model 2: Model 1 + Shared language and history\")\n",
    "print(m_history_stocks$finalModel)\n",
    "print(summary(m_history_stocks)$adj.r.squared)\n",
    "print(AIC(m_history_stocks$finalModel))\n",
    "print(BIC(m_history_stocks$finalModel))\n",
    "print(blmeco::WAIC(m_history_stocks$finalModel))\n",
    "\n",
    "print(\"Model 2 + Asymmetric CS\")\n",
    "print(m_fb_asym_history_stocks$finalModel)\n",
    "print(summary(m_fb_asym_history_stocks)$adj.r.squared)\n",
    "print(AIC(m_fb_asym_history_stocks$finalModel))\n",
    "print(BIC(m_fb_asym_history_stocks$finalModel))\n",
    "print(blmeco::WAIC(m_fb_asym_history_stocks$finalModel))\n",
    "\n",
    "print(\"Model 2 + Symmetric CS\")\n",
    "print(m_fb_sym_history_stocks$finalModel)\n",
    "print(summary(m_fb_sym_history_stocks)$adj.r.squared)\n",
    "print(AIC(m_fb_sym_history_stocks$finalModel))\n",
    "print(BIC(m_fb_sym_history_stocks$finalModel))\n",
    "print(blmeco::WAIC(m_fb_sym_history_stocks$finalModel))\n",
    "\n",
    "print(\"Model 2 + Foursquare\")\n",
    "print(m_foursquare_history_stocks$finalModel)\n",
    "print(summary(m_foursquare_history_stocks)$adj.r.squared)\n",
    "print(AIC(m_foursquare_history_stocks$finalModel))\n",
    "print(BIC(m_foursquare_history_stocks$finalModel))\n",
    "print(blmeco::WAIC(m_foursquare_history_stocks$finalModel))"
   ]
  },
  {
   "cell_type": "code",
   "execution_count": 57,
   "metadata": {
    "scrolled": true
   },
   "outputs": [
    {
     "name": "stdout",
     "output_type": "stream",
     "text": [
      "[1] \"Model 3: Model 2 + WVS\"\n",
      "\n",
      "Call:\n",
      "lm(formula = .outcome ~ ., data = dat)\n",
      "\n",
      "Coefficients:\n",
      "          (Intercept)            log10_pop_o           log10_area_o  \n",
      "            -12.90279                0.37021                0.21364  \n",
      "          log10_pop_d           log10_area_d         log10_distwces  \n",
      "              0.74278                0.06707               -1.15341  \n",
      "        log10_m_stock  log10_GDP_percapita_o  log10_GDP_percapita_d  \n",
      "              0.31598                1.10363                1.03292  \n",
      "                  col                    lp1            shared_hist  \n",
      "              0.60084                0.04663                0.28958  \n",
      "               CS_wvs  \n",
      "             -0.28747  \n",
      "\n",
      "[1] 0.8348419\n",
      "[1] 391.1004\n",
      "[1] 439.8293\n",
      "$lppd\n",
      "[1] -182.3353\n",
      "\n",
      "$pwaic1\n",
      "[1] 12.9841\n",
      "\n",
      "$pwaic2\n",
      "[1] 14.09342\n",
      "\n",
      "$WAIC1\n",
      "[1] 390.6389\n",
      "\n",
      "$WAIC2\n",
      "[1] 392.8575\n",
      "\n",
      "[1] \"Model 3 + Asymmetric CS\"\n",
      "\n",
      "Call:\n",
      "lm(formula = .outcome ~ ., data = dat)\n",
      "\n",
      "Coefficients:\n",
      "          (Intercept)            log10_pop_o           log10_area_o  \n",
      "            -13.23488                0.43215                0.19778  \n",
      "          log10_pop_d           log10_area_d         log10_distwces  \n",
      "              0.74845                0.05691               -1.07941  \n",
      "        log10_m_stock  log10_GDP_percapita_o  log10_GDP_percapita_d  \n",
      "              0.31507                1.04948                1.02768  \n",
      "                  col                    lp1            shared_hist  \n",
      "              0.48365                0.04451                0.28510  \n",
      "               CS_wvs      CS_nonsymm_food_o      CS_nonsymm_food_d  \n",
      "             -0.29521                0.04704                0.20509  \n",
      "\n",
      "[1] 0.8351544\n",
      "[1] 392.522\n",
      "[1] 448.2122\n",
      "$lppd\n",
      "[1] -181.3395\n",
      "\n",
      "$pwaic1\n",
      "[1] 14.77399\n",
      "\n",
      "$pwaic2\n",
      "[1] 16.10293\n",
      "\n",
      "$WAIC1\n",
      "[1] 392.227\n",
      "\n",
      "$WAIC2\n",
      "[1] 394.8849\n",
      "\n",
      "[1] \"Model 3 + Symmetric CS\"\n",
      "\n",
      "Call:\n",
      "lm(formula = .outcome ~ ., data = dat)\n",
      "\n",
      "Coefficients:\n",
      "          (Intercept)            log10_pop_o           log10_area_o  \n",
      "            -12.83145                0.37658                0.21459  \n",
      "          log10_pop_d           log10_area_d         log10_distwces  \n",
      "              0.74900                0.06825               -1.18618  \n",
      "        log10_m_stock  log10_GDP_percapita_o  log10_GDP_percapita_d  \n",
      "              0.31570                1.09567                1.02536  \n",
      "                  col                    lp1            shared_hist  \n",
      "              0.64181                0.04640                0.29584  \n",
      "               CS_wvs                CS_symm  \n",
      "             -0.28703               -0.13699  \n",
      "\n",
      "[1] 0.8344376\n",
      "[1] 392.6276\n",
      "[1] 444.8372\n",
      "$lppd\n",
      "[1] -181.992\n",
      "\n",
      "$pwaic1\n",
      "[1] 14.30696\n",
      "\n",
      "$pwaic2\n",
      "[1] 15.67529\n",
      "\n",
      "$WAIC1\n",
      "[1] 392.598\n",
      "\n",
      "$WAIC2\n",
      "[1] 395.3346\n",
      "\n",
      "[1] \"Model 3 + Foursquare\"\n",
      "\n",
      "Call:\n",
      "lm(formula = .outcome ~ ., data = dat)\n",
      "\n",
      "Coefficients:\n",
      "          (Intercept)            log10_pop_o           log10_area_o  \n",
      "            -13.30849                0.37815                0.20837  \n",
      "          log10_pop_d           log10_area_d         log10_distwces  \n",
      "              0.74935                0.06410               -1.06478  \n",
      "        log10_m_stock  log10_GDP_percapita_o  log10_GDP_percapita_d  \n",
      "              0.31320                1.10447                1.03771  \n",
      "                  col                    lp1            shared_hist  \n",
      "              0.56567                0.03392                0.28453  \n",
      "               CS_wvs          CS_foursquare  \n",
      "             -0.30612                0.09708  \n",
      "\n",
      "[1] 0.8357656\n",
      "[1] 390.6947\n",
      "[1] 442.9043\n",
      "$lppd\n",
      "[1] -180.9244\n",
      "\n",
      "$pwaic1\n",
      "[1] 14.27924\n",
      "\n",
      "$pwaic2\n",
      "[1] 15.46644\n",
      "\n",
      "$WAIC1\n",
      "[1] 390.4072\n",
      "\n",
      "$WAIC2\n",
      "[1] 392.7816\n",
      "\n"
     ]
    }
   ],
   "source": [
    "print(\"Model 3: Model 2 + WVS\")\n",
    "print(m_wvs_history_stocks$finalModel)\n",
    "print(summary(m_wvs_history_stocks)$adj.r.squared)\n",
    "print(AIC(m_wvs_history_stocks$finalModel))\n",
    "print(BIC(m_wvs_history_stocks$finalModel))\n",
    "print(blmeco::WAIC(m_wvs_history_stocks$finalModel))\n",
    "\n",
    "print(\"Model 3 + Asymmetric CS\")\n",
    "print(m_fb_asym_stocks_no_foursquare$finalModel)\n",
    "print(summary(m_fb_asym_stocks_no_foursquare)$adj.r.squared)\n",
    "print(AIC(m_fb_asym_stocks_no_foursquare$finalModel))\n",
    "print(BIC(m_fb_asym_stocks_no_foursquare$finalModel))\n",
    "print(blmeco::WAIC(m_fb_asym_stocks_no_foursquare$finalModel))\n",
    "\n",
    "print(\"Model 3 + Symmetric CS\")\n",
    "print(m_fb_sym_stocks_no_foursquare$finalModel)\n",
    "print(summary(m_fb_sym_stocks_no_foursquare)$adj.r.squared)\n",
    "print(AIC(m_fb_sym_stocks_no_foursquare$finalModel))\n",
    "print(BIC(m_fb_sym_stocks_no_foursquare$finalModel))\n",
    "print(blmeco::WAIC(m_fb_sym_stocks_no_foursquare$finalModel))\n",
    "\n",
    "print(\"Model 3 + Foursquare\")\n",
    "print(m_foursquare_wvs_history_stocks$finalModel)\n",
    "print(summary(m_foursquare_wvs_history_stocks)$adj.r.squared)\n",
    "print(AIC(m_foursquare_wvs_history_stocks$finalModel))\n",
    "print(BIC(m_foursquare_wvs_history_stocks$finalModel))\n",
    "print(blmeco::WAIC(m_foursquare_wvs_history_stocks$finalModel))"
   ]
  },
  {
   "cell_type": "markdown",
   "metadata": {},
   "source": [
    "## PLOT correlations"
   ]
  },
  {
   "cell_type": "code",
   "execution_count": 58,
   "metadata": {},
   "outputs": [],
   "source": [
    "gmodel_data_plot_corr <- gmodel_data %>% dplyr::select(c(\"log10_m_stock\", \"log10_m_flow_da_pb_closed\", \"CS_wvs\", \"CS_foursquare\", \"CS_nonsymm_food_o\", \"CS_nonsymm_food_d\", \"CS_symm\"))\n",
    "                                        \n",
    "#gmodel_data_plot_corr"
   ]
  },
  {
   "cell_type": "code",
   "execution_count": 59,
   "metadata": {},
   "outputs": [],
   "source": [
    "#options(OutDec=\".\")"
   ]
  },
  {
   "cell_type": "code",
   "execution_count": 60,
   "metadata": {},
   "outputs": [
    {
     "data": {
      "image/png": "[encoded data removed]",
      "text/plain": [
       "plot without title"
      ]
     },
     "metadata": {
      "image/png": {
       "height": 420,
       "width": 420
      }
     },
     "output_type": "display_data"
    }
   ],
   "source": [
    "colnames <- c(\"Mig. stocks (log)\", \"Mig. flow (log)\", \"WVS\", \"Foursquare\", \"FB asym. (orig.)\", \"FB asym. (dest.)\", \"FB symm.\")\n",
    "\n",
    "# Scatter plot matrix with GGally\n",
    "ggpairs(gmodel_data_plot_corr, \n",
    "        columns = c(\"log10_m_stock\", \"log10_m_flow_da_pb_closed\", \"CS_wvs\", \"CS_foursquare\", \"CS_nonsymm_food_o\", \"CS_nonsymm_food_d\", \"CS_symm\"),\n",
    "        columnLabels = colnames,\n",
    "        upper = list(continuous = wrap('cor', size = 4, col=\"black\")),\n",
    "        lower = list(continuous = wrap(\"points\", size=0.8, alpha=0.4, pch=16)),\n",
    "        diag = list(continuous = wrap(\"densityDiag\", alpha = 0.1))) + \n",
    "\n",
    "theme(axis.text = element_text(size = 8)) + theme_bw()\n",
    "\n",
    "ggsave(\"figs/corr2-top50.png\", width = 8, height = 8)"
   ]
  },
  {
   "cell_type": "code",
   "execution_count": 61,
   "metadata": {},
   "outputs": [
    {
     "data": {
      "text/html": [
       "<strong>png:</strong> 2"
      ],
      "text/latex": [
       "\\textbf{png:} 2"
      ],
      "text/markdown": [
       "**png:** 2"
      ],
      "text/plain": [
       "png \n",
       "  2 "
      ]
     },
     "metadata": {},
     "output_type": "display_data"
    }
   ],
   "source": [
    "jpeg(\"figs/corr-top50.jpeg\", width = 900, height = 850, res=150, quality=100)\n",
    "\n",
    "options(repr.plot.width=10, repr.plot.height=5)\n",
    "\n",
    "# Correlation panel\n",
    "panel.cor <- function(x, y){\n",
    "    usr <- par(\"usr\"); on.exit(par(usr))\n",
    "    par(usr = c(0, 1, 0, 1))\n",
    "    r <- round(cor(x, y), digits=2)\n",
    "    txt <- paste0(\"R = \", r)\n",
    "    cex.cor <- 0.8/strwidth(txt)\n",
    "    text(0.5, 0.5, txt, 0.5)\n",
    "}\n",
    "# Customize upper panel\n",
    "upper.panel<-function(x, y){\n",
    "  points(x, y, lw=1)\n",
    "}\n",
    "# Create the plots\n",
    "pairs(~log10_m_flow_da_pb_closed + CS_wvs + CS_foursquare + CS_nonsymm_food_o + CS_nonsymm_food_d + CS_symm,\n",
    "      data=gmodel_data,\n",
    "      lower.panel = panel.cor,\n",
    "      upper.panel = upper.panel, \n",
    "     cex.labels=0.5)\n",
    "\n",
    "dev.off()"
   ]
  },
  {
   "cell_type": "markdown",
   "metadata": {},
   "source": [
    "## PLOT coefficients"
   ]
  },
  {
   "cell_type": "code",
   "execution_count": 62,
   "metadata": {},
   "outputs": [
    {
     "name": "stderr",
     "output_type": "stream",
     "text": [
      "\u001b[1m\u001b[22mSaving 6.67 x 6.67 in image\n"
     ]
    },
    {
     "data": {
      "image/png": "[encoded data removed]",
      "text/plain": [
       "plot without title"
      ]
     },
     "metadata": {
      "image/png": {
       "height": 300,
       "width": 420
      }
     },
     "output_type": "display_data"
    }
   ],
   "source": [
    "options(repr.plot.width=7, repr.plot.height=5)\n",
    "\n",
    "dwplot((list(m_GDP_stocks$finalModel, m_history_stocks$finalModel, \n",
    "             m_fb_asym_history_stocks$finalModel, m_fb_sym_history_stocks$finalModel)),\n",
    "       vline = geom_vline(\n",
    "           xintercept = 0,\n",
    "           colour = \"grey60\",\n",
    "           linetype = 2\n",
    "        )) +\n",
    "# Setting `base_size` for fit the theme\n",
    "# No need to set `base_size` in most usage\n",
    "xlab(\"Coefficient Estimate\") + ylab(\"Independent Variables\") +\n",
    "geom_vline(xintercept = 0,\n",
    "           colour = \"grey60\",\n",
    "           linetype = 2) +\n",
    "ggtitle(\"Predicting Migration Flows\") +\n",
    "theme(\n",
    "        plot.title = element_text(face = \"bold\"),\n",
    "        legend.position = c(0.9, 0.2),\n",
    "        legend.background = element_rect(colour = \"grey80\"),\n",
    "        legend.title = element_blank()\n",
    "    ) + theme_bw()\n",
    "\n",
    "ggsave(\"figs/coeffs-stock-top50.png\")"
   ]
  },
  {
   "cell_type": "markdown",
   "metadata": {},
   "source": [
    "## PLOT expected vs. predicted"
   ]
  },
  {
   "cell_type": "code",
   "execution_count": 63,
   "metadata": {},
   "outputs": [],
   "source": [
    "pm_expected <- gmodel_data$log10_m_flow_da_pb_closed\n",
    "#pm_baseline_stocks <- predict(m_baseline_stocks$finalModel)\n",
    "pm_GDP_stocks <- predict(m_GDP_stocks$finalModel)\n",
    "pm_fb_asym_GDP_stocks <- predict(m_fb_asym_GDP_stocks$finalModel)\n",
    "pm_fb_sym_GDP_stocks <- predict(m_fb_sym_GDP_stocks$finalModel)\n",
    "\n",
    "pm_history_stocks <- predict(m_history_stocks$finalModel)\n",
    "pm_fb_asym_history_stocks <- predict(m_fb_asym_history_stocks$finalModel)\n",
    "pm_fb_sym_history_stocks <- predict(m_fb_sym_history_stocks$finalModel)\n",
    "\n",
    "pm_wvs_history_stocks <- predict(m_wvs_history_stocks$finalModel)\n",
    "pm_fb_asym_stocks_no_foursquare <- predict(m_fb_asym_stocks_no_foursquare$finalModel)\n",
    "pm_fb_sym_stocks_no_foursquare <- predict(m_fb_sym_stocks_no_foursquare$finalModel)\n"
   ]
  },
  {
   "cell_type": "code",
   "execution_count": 64,
   "metadata": {},
   "outputs": [],
   "source": [
    "gmodel_data <- gmodel_data %>% mutate (label = paste(iso_o, iso_d, sep=\"-\"))"
   ]
  },
  {
   "cell_type": "code",
   "execution_count": 65,
   "metadata": {},
   "outputs": [
    {
     "data": {
      "text/html": [
       "<strong>png:</strong> 2"
      ],
      "text/latex": [
       "\\textbf{png:} 2"
      ],
      "text/markdown": [
       "**png:** 2"
      ],
      "text/plain": [
       "png \n",
       "  2 "
      ]
     },
     "metadata": {},
     "output_type": "display_data"
    }
   ],
   "source": [
    "#jpeg(\"figs/models-top50.jpeg\", width = 1100, height = 850)\n",
    "#jpeg(\"figs/models-top50-flat.jpeg\", width = 2200, height = 425, res=150, quality=100)\n",
    "png(\"figs/models-top50.png\", width=3, height=2.5, units=\"in\", res=1000, pointsize=4)\n",
    "\n",
    "options(repr.plot.width=10, repr.plot.height=5)\n",
    "\n",
    "par(mfrow=c(3,3))\n",
    "\n",
    "color_mpidr = \"#ef7d00\"\n",
    "\n",
    "par(mar = c(4,4,4,4))\n",
    "plot(pm_expected, pm_GDP_stocks, main=\"Model 1:\\nArea, Population, Distance, GDP, and Migrant stocks\", \n",
    "     xlim=c(-.5,7), ylim=c(-.5,7), xlab=\"\", ylab=\"log predicted migration flow\", cex.main=1, \n",
    "     col=rgb(red=0, green=0, blue=0, alpha=0.4), pch=19, cex=0.8)\n",
    "legend(1,1, bty=\"n\", legend=paste(\"adj-R² =\", format(summary(m_GDP_stocks)$adj.r.squared, digits=2)))\n",
    "segments(x0=-.5,y0=-.5,x1=7,y1=7, col = color_mpidr)\n",
    "\n",
    "plot(pm_expected, pm_fb_asym_GDP_stocks, main=\"Model 1 + Facebook Asymmetric\", \n",
    "     xlim=c(-.5,7), ylim=c(-.5,7), xlab=\"\", ylab=\"\", cex.main=1, col=rgb(red=0, green=0, blue=0, alpha=0.4), pch=19, cex=0.8)\n",
    "legend(1.5,1, bty=\"n\", legend=paste(\"adj-R² =\", format(summary(m_fb_asym_GDP_stocks)$adj.r.squared, digits=2)))\n",
    "segments(x0=-.5,y0=-.5,x1=7,y1=7, col = color_mpidr)\n",
    "\n",
    "par(mar = c(4,4,4,4))\n",
    "plot(pm_expected, pm_fb_sym_GDP_stocks, main=\"Model 1 + Facebook Symmetric\", \n",
    "     xlim=c(-.5,7), ylim=c(-.5,7), xlab=\"\", ylab=\"\", cex.main=1, col=rgb(red=0, green=0, blue=0, alpha=0.4), pch=19, cex=0.8)\n",
    "legend(1,1, bty=\"n\", legend=paste(\"adj-R² =\", format(summary(m_fb_sym_GDP_stocks)$adj.r.squared, digits=2)))\n",
    "segments(x0=-.5,y0=-.5,x1=7,y1=7, col = color_mpidr)\n",
    "\n",
    "#plot.new()\n",
    "par(mar = c(4,4,4,4))\n",
    "plot(pm_expected, pm_history_stocks, main=\"Model 2: Model 1\\n+Shared language and history\", \n",
    "     xlim=c(-.5,7), ylim=c(-.5,7), xlab=\"\", ylab=\"log predicted migration flow\", cex.main=1, col=rgb(red=0, green=0, blue=0, alpha=0.4), pch=19, cex=0.8)\n",
    "legend(1,1, bty=\"n\", legend=paste(\"adj-R² =\", format(summary(m_history_stocks)$adj.r.squared, digits=2)))\n",
    "segments(x0=-.5,y0=-.5,x1=7,y1=7, col = color_mpidr)\n",
    "\n",
    "par(mar = c(4,4,4,4))\n",
    "plot(pm_expected, pm_fb_asym_history_stocks, main=\"Model 2 + Facebook Asymmetric\", \n",
    "     xlim=c(-.5,7), ylim=c(-.5,7), xlab=\"\", ylab=\"\", cex.main=1, col=rgb(red=0, green=0, blue=0, alpha=0.4), pch=19, cex=0.8)\n",
    "legend(1,1, bty=\"n\", legend=paste(\"adj-R² =\", format(summary(m_fb_asym_history_stocks)$adj.r.squared, digits=2)))\n",
    "segments(x0=-.5,y0=-.5,x1=7,y1=7, col = color_mpidr)\n",
    "\n",
    "par(mar = c(4,4,4,4))\n",
    "plot(pm_expected, pm_fb_sym_history_stocks, main=\"Model 2 + Facebook Symmetric\", \n",
    "     xlim=c(-.5,7), ylim=c(-.5,7), xlab=\"\", ylab=\"\", cex.main=1, col=rgb(red=0, green=0, blue=0, alpha=0.4), pch=19, cex=0.8)\n",
    "legend(1,1, bty=\"n\", legend=paste(\"adj-R² =\", format(summary(m_fb_sym_history_stocks)$adj.r.squared, digits=2)))\n",
    "segments(x0=-.5,y0=-.5,x1=7,y1=7, col = color_mpidr)\n",
    "\n",
    "par(mar = c(4,4,4,4))\n",
    "plot(pm_expected, pm_wvs_history_stocks, main=\"Model 3: Model 2\\n+WVS cultural similarity\", \n",
    "     xlim=c(-.5,7), ylim=c(-.5,7), xlab=\"log expected migration flow\", ylab=\"log predicted migration flow\", cex.main=1, col=rgb(red=0, green=0, blue=0, alpha=0.4), pch=19, cex=0.8)\n",
    "legend(1,1, bty=\"n\", legend=paste(\"adj-R² =\", format(summary(m_wvs_history_stocks)$adj.r.squared, digits=2)))\n",
    "segments(x0=-.5,y0=-.5,x1=7,y1=7, col = color_mpidr)\n",
    "\n",
    "par(mar = c(4,4,4,4))\n",
    "plot(pm_expected, pm_fb_asym_stocks_no_foursquare, main=\"Model 3 + Facebook Asymmetric\", \n",
    "     xlim=c(-.5,7), ylim=c(-.5,7), xlab=\"log expected migration flow\", ylab=\"\", cex.main=1, col=rgb(red=0, green=0, blue=0, alpha=0.4), pch=19, cex=0.8)\n",
    "legend(1,1, bty=\"n\", legend=paste(\"adj-R² =\", format(summary(m_fb_asym_stocks_no_foursquare)$adj.r.squared, digits=2)))\n",
    "segments(x0=-.5,y0=-.5,x1=7,y1=7, col = color_mpidr)\n",
    "\n",
    "par(mar = c(4,4,4,4))\n",
    "plot(pm_expected, pm_fb_sym_stocks_no_foursquare, main=\"Model 3 + Facebook Symmetric\", \n",
    "     xlim=c(-.5,7), ylim=c(-.5,7), xlab=\"log expected migration flow\", ylab=\"\", cex.main=1, col=rgb(red=0, green=0, blue=0, alpha=0.4), pch=19, cex=0.8)\n",
    "legend(1,1, bty=\"n\", legend=paste(\"adj-R² =\", format(summary(m_fb_sym_stocks_no_foursquare)$adj.r.squared, digits=2)))\n",
    "segments(x0=-.5,y0=-.5,x1=7,y1=7, col = color_mpidr)\n",
    "\n",
    "dev.off()\n"
   ]
  },
  {
   "cell_type": "code",
   "execution_count": null,
   "metadata": {},
   "outputs": [],
   "source": []
  },
  {
   "cell_type": "code",
   "execution_count": null,
   "metadata": {},
   "outputs": [],
   "source": []
  }
 ],
 "metadata": {
  "kernelspec": {
   "display_name": "R",
   "language": "R",
   "name": "ir"
  },
  "language_info": {
   "codemirror_mode": "r",
   "file_extension": ".r",
   "mimetype": "text/x-r-source",
   "name": "R",
   "pygments_lexer": "r",
   "version": "4.1.0"
  }
 },
 "nbformat": 4,
 "nbformat_minor": 2
}
