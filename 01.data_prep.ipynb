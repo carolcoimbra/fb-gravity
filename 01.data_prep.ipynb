{
 "cells": [
  {
   "cell_type": "markdown",
   "metadata": {},
   "source": [
    "# The Value of Cultural Similarity for Predicting Migration\n",
    "\n",
    "\n",
    "## Carolina Coimbra Vieira, Sophie Lohmann, Emilio Zagheni"
   ]
  },
  {
   "cell_type": "code",
   "execution_count": 1,
   "metadata": {},
   "outputs": [
    {
     "name": "stderr",
     "output_type": "stream",
     "text": [
      "Warning message:\n",
      "“replacing previous import ‘lifecycle::last_warnings’ by ‘rlang::last_warnings’ when loading ‘pillar’”Warning message:\n",
      "“replacing previous import ‘lifecycle::last_warnings’ by ‘rlang::last_warnings’ when loading ‘tibble’”"
     ]
    }
   ],
   "source": [
    "shhh <- suppressPackageStartupMessages # It's a library, so shhh!\n",
    "\n",
    "shhh(library(tidyr))\n",
    "shhh(library(dplyr))\n",
    "shhh(library(readr))\n",
    "shhh(library(lsa))"
   ]
  },
  {
   "cell_type": "markdown",
   "metadata": {},
   "source": [
    "## Population 2019\n",
    "### Datasource: [UN](https://population.un.org/wpp/Download/Standard/Population/)"
   ]
  },
  {
   "cell_type": "code",
   "execution_count": 2,
   "metadata": {},
   "outputs": [
    {
     "data": {
      "text/html": [
       "<table>\n",
       "<thead><tr><th scope=col>country</th><th scope=col>population</th></tr></thead>\n",
       "<tbody>\n",
       "\t<tr><td>Argentina    </td><td> 44780675    </td></tr>\n",
       "\t<tr><td>Australia    </td><td> 25203200    </td></tr>\n",
       "\t<tr><td>Brazil       </td><td>211049519    </td></tr>\n",
       "\t<tr><td>Chile        </td><td> 18952035    </td></tr>\n",
       "\t<tr><td>France       </td><td> 65129731    </td></tr>\n",
       "\t<tr><td>Great Britain</td><td> 67530161    </td></tr>\n",
       "</tbody>\n",
       "</table>\n"
      ],
      "text/latex": [
       "\\begin{tabular}{r|ll}\n",
       " country & population\\\\\n",
       "\\hline\n",
       "\t Argentina     &  44780675    \\\\\n",
       "\t Australia     &  25203200    \\\\\n",
       "\t Brazil        & 211049519    \\\\\n",
       "\t Chile         &  18952035    \\\\\n",
       "\t France        &  65129731    \\\\\n",
       "\t Great Britain &  67530161    \\\\\n",
       "\\end{tabular}\n"
      ],
      "text/markdown": [
       "\n",
       "| country | population |\n",
       "|---|---|\n",
       "| Argentina     |  44780675     |\n",
       "| Australia     |  25203200     |\n",
       "| Brazil        | 211049519     |\n",
       "| Chile         |  18952035     |\n",
       "| France        |  65129731     |\n",
       "| Great Britain |  67530161     |\n",
       "\n"
      ],
      "text/plain": [
       "  country       population\n",
       "1 Argentina      44780675 \n",
       "2 Australia      25203200 \n",
       "3 Brazil        211049519 \n",
       "4 Chile          18952035 \n",
       "5 France         65129731 \n",
       "6 Great Britain  67530161 "
      ]
     },
     "metadata": {},
     "output_type": "display_data"
    }
   ],
   "source": [
    "pop_2019 <- read_csv(\"data/subset-pop-un2019.csv\", col_types = cols())\n",
    "\n",
    "head(pop_2019)"
   ]
  },
  {
   "cell_type": "code",
   "execution_count": 3,
   "metadata": {},
   "outputs": [
    {
     "data": {
      "text/html": [
       "<ol class=list-inline>\n",
       "\t<li>'Argentina'</li>\n",
       "\t<li>'Australia'</li>\n",
       "\t<li>'Brazil'</li>\n",
       "\t<li>'Chile'</li>\n",
       "\t<li>'France'</li>\n",
       "\t<li>'Great Britain'</li>\n",
       "\t<li>'Indonesia'</li>\n",
       "\t<li>'Japan'</li>\n",
       "\t<li>'Malaysia'</li>\n",
       "\t<li>'Mexico'</li>\n",
       "\t<li>'Russia'</li>\n",
       "\t<li>'Singapore'</li>\n",
       "\t<li>'South Korea'</li>\n",
       "\t<li>'Spain'</li>\n",
       "\t<li>'Turkey'</li>\n",
       "\t<li>'United States'</li>\n",
       "</ol>\n"
      ],
      "text/latex": [
       "\\begin{enumerate*}\n",
       "\\item 'Argentina'\n",
       "\\item 'Australia'\n",
       "\\item 'Brazil'\n",
       "\\item 'Chile'\n",
       "\\item 'France'\n",
       "\\item 'Great Britain'\n",
       "\\item 'Indonesia'\n",
       "\\item 'Japan'\n",
       "\\item 'Malaysia'\n",
       "\\item 'Mexico'\n",
       "\\item 'Russia'\n",
       "\\item 'Singapore'\n",
       "\\item 'South Korea'\n",
       "\\item 'Spain'\n",
       "\\item 'Turkey'\n",
       "\\item 'United States'\n",
       "\\end{enumerate*}\n"
      ],
      "text/markdown": [
       "1. 'Argentina'\n",
       "2. 'Australia'\n",
       "3. 'Brazil'\n",
       "4. 'Chile'\n",
       "5. 'France'\n",
       "6. 'Great Britain'\n",
       "7. 'Indonesia'\n",
       "8. 'Japan'\n",
       "9. 'Malaysia'\n",
       "10. 'Mexico'\n",
       "11. 'Russia'\n",
       "12. 'Singapore'\n",
       "13. 'South Korea'\n",
       "14. 'Spain'\n",
       "15. 'Turkey'\n",
       "16. 'United States'\n",
       "\n",
       "\n"
      ],
      "text/plain": [
       " [1] \"Argentina\"     \"Australia\"     \"Brazil\"        \"Chile\"        \n",
       " [5] \"France\"        \"Great Britain\" \"Indonesia\"     \"Japan\"        \n",
       " [9] \"Malaysia\"      \"Mexico\"        \"Russia\"        \"Singapore\"    \n",
       "[13] \"South Korea\"   \"Spain\"         \"Turkey\"        \"United States\""
      ]
     },
     "metadata": {},
     "output_type": "display_data"
    }
   ],
   "source": [
    "countries <- c(pop_2019$country)\n",
    "\n",
    "countries"
   ]
  },
  {
   "cell_type": "markdown",
   "metadata": {},
   "source": [
    "## Geographic info: area  \n",
    "### Datasource: [CEPII](http://www.cepii.fr/CEPII/en/bdd_modele/presentation.asp?id=6)\n",
    "\n",
    "<b>Country-level variables</b>   \n",
    "    *`iso2, iso3, cnum`*: ISO codes in two and three characters, and in three numbers respectively.  \n",
    "    *`country, pays`*: Name of country in English and French respectively.   \n",
    "    **`area`: Country’s area in $km^2$.**   \n",
    "    *`dis_int`*: Internal distance of country i, $d_{ii} = .67 \\sqrt{area/\\pi}$ (an often used measure of average distance between producers and consumers in a country, see Head and Mayer, 2002 for more on this topic).  \n",
    "    *`landlocked`*: Dummy variable set equal to 1 for landlocked countries.    \n",
    "    *`continent`*: Continent to which the country is belonging.   \n",
    "    *`langoff_i`*: Official or national languages and languages spoken by at least 20% of the population of the country (and spoken in another country of the world) following the same logic than the \"open-circuit languages\" in Mélitz (2002).  \n",
    "    *`lang20_i`*: Languages (mother tongue, lingua francas or second languages) spoken by at least 20% of the population of the country.  \n",
    "    *`lang9_i`*: Languages (mother tongue, lingua francas or second languages) spoken by between 9% and 20% of the population of the country.  \n",
    "    *`colonizeri`*: Colonizers of the country for a relatively long period of time and with a substantial participation in the governance of the colonized country.  \n",
    "    *`short_colonizeri`*: Colonizers of the country for a relatively short period of time or with only low involvement in the governance of the colonized country.\n",
    "    \n",
    "<b>Cities variables used in the computation of distances</b>  \n",
    "    *`city_en, city_fr`*: Names of capitals or main cities of the country in English and French.   \n",
    "    *`lat, lon`*: Latitude and longitude of the city.  \n",
    "    *`cap`*: Variable equals to 1 if the city is the capital of the country, to 0 if the city is the most populated city (maincity equals to 1) but not the capital, and to 2 in the cases of two capitals, if the city is the most populated but the “second” capital or the previous capital.  \n",
    "    *`maincity`*: Variable coded as 1 when the city is the most populated of the country and as 2 otherwise.  \n",
    "    *`citynum`*: Number of cities for each country used to calculate our weighted distances described in the next section.  "
   ]
  },
  {
   "cell_type": "code",
   "execution_count": 4,
   "metadata": {},
   "outputs": [
    {
     "data": {
      "text/html": [
       "<table>\n",
       "<thead><tr><th scope=col>iso2</th><th scope=col>iso3</th><th scope=col>cnum</th><th scope=col>country</th><th scope=col>pays</th><th scope=col>area</th><th scope=col>dis_int</th><th scope=col>landlocked</th><th scope=col>continent</th><th scope=col>city_en</th><th scope=col>...</th><th scope=col>lang9_2</th><th scope=col>lang9_3</th><th scope=col>lang9_4</th><th scope=col>colonizer1</th><th scope=col>colonizer2</th><th scope=col>colonizer3</th><th scope=col>colonizer4</th><th scope=col>short_colonizer1</th><th scope=col>short_colonizer2</th><th scope=col>short_colonizer3</th></tr></thead>\n",
       "<tbody>\n",
       "\t<tr><td>AW              </td><td>ABW             </td><td>533             </td><td>Aruba           </td><td>Aruba           </td><td>    193         </td><td>5,225315        </td><td>0               </td><td>America         </td><td>Oranjestad      </td><td>...             </td><td>.               </td><td>.               </td><td>.               </td><td>NLD             </td><td>.               </td><td>.               </td><td>.               </td><td>.               </td><td>.               </td><td>.               </td></tr>\n",
       "\t<tr><td>AF              </td><td>AFG             </td><td>  4             </td><td>Afghanistan     </td><td>Afghanistan     </td><td> 652225         </td><td>303,7614        </td><td>1               </td><td>Asia            </td><td>Kabul           </td><td>...             </td><td>Uzbek           </td><td>.               </td><td>.               </td><td>.               </td><td>.               </td><td>.               </td><td>.               </td><td>GBR             </td><td>.               </td><td>.               </td></tr>\n",
       "\t<tr><td>AO              </td><td>AGO             </td><td> 24             </td><td>Angola          </td><td>Angola          </td><td>1246700         </td><td>419,9666        </td><td>0               </td><td>Africa          </td><td>Luanda          </td><td>...             </td><td>.               </td><td>.               </td><td>.               </td><td>PRT             </td><td>.               </td><td>.               </td><td>.               </td><td>.               </td><td>.               </td><td>.               </td></tr>\n",
       "\t<tr><td>AI              </td><td>AIA             </td><td>660             </td><td>Anguilla        </td><td>Anguilla        </td><td>    102         </td><td>3,79869         </td><td>0               </td><td>America         </td><td>The Valley      </td><td>...             </td><td>.               </td><td>.               </td><td>.               </td><td>GBR             </td><td>.               </td><td>.               </td><td>.               </td><td>.               </td><td>.               </td><td>.               </td></tr>\n",
       "\t<tr><td>AL              </td><td>ALB             </td><td>  8             </td><td>Albania         </td><td>Albanie         </td><td>  28748         </td><td>63,77311        </td><td>0               </td><td>Europe          </td><td>Tirana          </td><td>...             </td><td>.               </td><td>.               </td><td>.               </td><td>TUR             </td><td>.               </td><td>.               </td><td>.               </td><td>.               </td><td>.               </td><td>.               </td></tr>\n",
       "\t<tr><td>AD              </td><td>AND             </td><td> 20             </td><td>Andorra         </td><td>Andorre         </td><td>    453         </td><td>8,005398        </td><td>0               </td><td>Europe          </td><td>Andorra la Vella</td><td>...             </td><td>.               </td><td>.               </td><td>.               </td><td>.               </td><td>.               </td><td>.               </td><td>.               </td><td>.               </td><td>.               </td><td>.               </td></tr>\n",
       "</tbody>\n",
       "</table>\n"
      ],
      "text/latex": [
       "\\begin{tabular}{r|llllllllllllllllllllllllllllllllll}\n",
       " iso2 & iso3 & cnum & country & pays & area & dis\\_int & landlocked & continent & city\\_en & ... & lang9\\_2 & lang9\\_3 & lang9\\_4 & colonizer1 & colonizer2 & colonizer3 & colonizer4 & short\\_colonizer1 & short\\_colonizer2 & short\\_colonizer3\\\\\n",
       "\\hline\n",
       "\t AW               & ABW              & 533              & Aruba            & Aruba            &     193          & 5,225315         & 0                & America          & Oranjestad       & ...              & .                & .                & .                & NLD              & .                & .                & .                & .                & .                & .               \\\\\n",
       "\t AF               & AFG              &   4              & Afghanistan      & Afghanistan      &  652225          & 303,7614         & 1                & Asia             & Kabul            & ...              & Uzbek            & .                & .                & .                & .                & .                & .                & GBR              & .                & .               \\\\\n",
       "\t AO               & AGO              &  24              & Angola           & Angola           & 1246700          & 419,9666         & 0                & Africa           & Luanda           & ...              & .                & .                & .                & PRT              & .                & .                & .                & .                & .                & .               \\\\\n",
       "\t AI               & AIA              & 660              & Anguilla         & Anguilla         &     102          & 3,79869          & 0                & America          & The Valley       & ...              & .                & .                & .                & GBR              & .                & .                & .                & .                & .                & .               \\\\\n",
       "\t AL               & ALB              &   8              & Albania          & Albanie          &   28748          & 63,77311         & 0                & Europe           & Tirana           & ...              & .                & .                & .                & TUR              & .                & .                & .                & .                & .                & .               \\\\\n",
       "\t AD               & AND              &  20              & Andorra          & Andorre          &     453          & 8,005398         & 0                & Europe           & Andorra la Vella & ...              & .                & .                & .                & .                & .                & .                & .                & .                & .                & .               \\\\\n",
       "\\end{tabular}\n"
      ],
      "text/markdown": [
       "\n",
       "| iso2 | iso3 | cnum | country | pays | area | dis_int | landlocked | continent | city_en | ... | lang9_2 | lang9_3 | lang9_4 | colonizer1 | colonizer2 | colonizer3 | colonizer4 | short_colonizer1 | short_colonizer2 | short_colonizer3 |\n",
       "|---|---|---|---|---|---|---|---|---|---|---|---|---|---|---|---|---|---|---|---|---|\n",
       "| AW               | ABW              | 533              | Aruba            | Aruba            |     193          | 5,225315         | 0                | America          | Oranjestad       | ...              | .                | .                | .                | NLD              | .                | .                | .                | .                | .                | .                |\n",
       "| AF               | AFG              |   4              | Afghanistan      | Afghanistan      |  652225          | 303,7614         | 1                | Asia             | Kabul            | ...              | Uzbek            | .                | .                | .                | .                | .                | .                | GBR              | .                | .                |\n",
       "| AO               | AGO              |  24              | Angola           | Angola           | 1246700          | 419,9666         | 0                | Africa           | Luanda           | ...              | .                | .                | .                | PRT              | .                | .                | .                | .                | .                | .                |\n",
       "| AI               | AIA              | 660              | Anguilla         | Anguilla         |     102          | 3,79869          | 0                | America          | The Valley       | ...              | .                | .                | .                | GBR              | .                | .                | .                | .                | .                | .                |\n",
       "| AL               | ALB              |   8              | Albania          | Albanie          |   28748          | 63,77311         | 0                | Europe           | Tirana           | ...              | .                | .                | .                | TUR              | .                | .                | .                | .                | .                | .                |\n",
       "| AD               | AND              |  20              | Andorra          | Andorre          |     453          | 8,005398         | 0                | Europe           | Andorra la Vella | ...              | .                | .                | .                | .                | .                | .                | .                | .                | .                | .                |\n",
       "\n"
      ],
      "text/plain": [
       "  iso2 iso3 cnum country     pays        area    dis_int  landlocked continent\n",
       "1 AW   ABW  533  Aruba       Aruba           193 5,225315 0          America  \n",
       "2 AF   AFG    4  Afghanistan Afghanistan  652225 303,7614 1          Asia     \n",
       "3 AO   AGO   24  Angola      Angola      1246700 419,9666 0          Africa   \n",
       "4 AI   AIA  660  Anguilla    Anguilla        102 3,79869  0          America  \n",
       "5 AL   ALB    8  Albania     Albanie       28748 63,77311 0          Europe   \n",
       "6 AD   AND   20  Andorra     Andorre         453 8,005398 0          Europe   \n",
       "  city_en          ... lang9_2 lang9_3 lang9_4 colonizer1 colonizer2 colonizer3\n",
       "1 Oranjestad       ... .       .       .       NLD        .          .         \n",
       "2 Kabul            ... Uzbek   .       .       .          .          .         \n",
       "3 Luanda           ... .       .       .       PRT        .          .         \n",
       "4 The Valley       ... .       .       .       GBR        .          .         \n",
       "5 Tirana           ... .       .       .       TUR        .          .         \n",
       "6 Andorra la Vella ... .       .       .       .          .          .         \n",
       "  colonizer4 short_colonizer1 short_colonizer2 short_colonizer3\n",
       "1 .          .                .                .               \n",
       "2 .          GBR              .                .               \n",
       "3 .          .                .                .               \n",
       "4 .          .                .                .               \n",
       "5 .          .                .                .               \n",
       "6 .          .                .                .               "
      ]
     },
     "metadata": {},
     "output_type": "display_data"
    }
   ],
   "source": [
    "geo <- read.csv(\"data/cepii_geo.csv\")\n",
    "\n",
    "head(geo)"
   ]
  },
  {
   "cell_type": "code",
   "execution_count": 5,
   "metadata": {},
   "outputs": [
    {
     "data": {
      "text/html": [
       "<ol class=list-inline>\n",
       "\t<li>'iso2'</li>\n",
       "\t<li>'iso3'</li>\n",
       "\t<li>'cnum'</li>\n",
       "\t<li>'country'</li>\n",
       "\t<li>'pays'</li>\n",
       "\t<li>'area'</li>\n",
       "\t<li>'dis_int'</li>\n",
       "\t<li>'landlocked'</li>\n",
       "\t<li>'continent'</li>\n",
       "\t<li>'city_en'</li>\n",
       "\t<li>'city_fr'</li>\n",
       "\t<li>'lat'</li>\n",
       "\t<li>'lon'</li>\n",
       "\t<li>'cap'</li>\n",
       "\t<li>'maincity'</li>\n",
       "\t<li>'citynum'</li>\n",
       "\t<li>'langoff_1'</li>\n",
       "\t<li>'langoff_2'</li>\n",
       "\t<li>'langoff_3'</li>\n",
       "\t<li>'lang20_1'</li>\n",
       "\t<li>'lang20_2'</li>\n",
       "\t<li>'lang20_3'</li>\n",
       "\t<li>'lang20_4'</li>\n",
       "\t<li>'lang9_1'</li>\n",
       "\t<li>'lang9_2'</li>\n",
       "\t<li>'lang9_3'</li>\n",
       "\t<li>'lang9_4'</li>\n",
       "\t<li>'colonizer1'</li>\n",
       "\t<li>'colonizer2'</li>\n",
       "\t<li>'colonizer3'</li>\n",
       "\t<li>'colonizer4'</li>\n",
       "\t<li>'short_colonizer1'</li>\n",
       "\t<li>'short_colonizer2'</li>\n",
       "\t<li>'short_colonizer3'</li>\n",
       "</ol>\n"
      ],
      "text/latex": [
       "\\begin{enumerate*}\n",
       "\\item 'iso2'\n",
       "\\item 'iso3'\n",
       "\\item 'cnum'\n",
       "\\item 'country'\n",
       "\\item 'pays'\n",
       "\\item 'area'\n",
       "\\item 'dis\\_int'\n",
       "\\item 'landlocked'\n",
       "\\item 'continent'\n",
       "\\item 'city\\_en'\n",
       "\\item 'city\\_fr'\n",
       "\\item 'lat'\n",
       "\\item 'lon'\n",
       "\\item 'cap'\n",
       "\\item 'maincity'\n",
       "\\item 'citynum'\n",
       "\\item 'langoff\\_1'\n",
       "\\item 'langoff\\_2'\n",
       "\\item 'langoff\\_3'\n",
       "\\item 'lang20\\_1'\n",
       "\\item 'lang20\\_2'\n",
       "\\item 'lang20\\_3'\n",
       "\\item 'lang20\\_4'\n",
       "\\item 'lang9\\_1'\n",
       "\\item 'lang9\\_2'\n",
       "\\item 'lang9\\_3'\n",
       "\\item 'lang9\\_4'\n",
       "\\item 'colonizer1'\n",
       "\\item 'colonizer2'\n",
       "\\item 'colonizer3'\n",
       "\\item 'colonizer4'\n",
       "\\item 'short\\_colonizer1'\n",
       "\\item 'short\\_colonizer2'\n",
       "\\item 'short\\_colonizer3'\n",
       "\\end{enumerate*}\n"
      ],
      "text/markdown": [
       "1. 'iso2'\n",
       "2. 'iso3'\n",
       "3. 'cnum'\n",
       "4. 'country'\n",
       "5. 'pays'\n",
       "6. 'area'\n",
       "7. 'dis_int'\n",
       "8. 'landlocked'\n",
       "9. 'continent'\n",
       "10. 'city_en'\n",
       "11. 'city_fr'\n",
       "12. 'lat'\n",
       "13. 'lon'\n",
       "14. 'cap'\n",
       "15. 'maincity'\n",
       "16. 'citynum'\n",
       "17. 'langoff_1'\n",
       "18. 'langoff_2'\n",
       "19. 'langoff_3'\n",
       "20. 'lang20_1'\n",
       "21. 'lang20_2'\n",
       "22. 'lang20_3'\n",
       "23. 'lang20_4'\n",
       "24. 'lang9_1'\n",
       "25. 'lang9_2'\n",
       "26. 'lang9_3'\n",
       "27. 'lang9_4'\n",
       "28. 'colonizer1'\n",
       "29. 'colonizer2'\n",
       "30. 'colonizer3'\n",
       "31. 'colonizer4'\n",
       "32. 'short_colonizer1'\n",
       "33. 'short_colonizer2'\n",
       "34. 'short_colonizer3'\n",
       "\n",
       "\n"
      ],
      "text/plain": [
       " [1] \"iso2\"             \"iso3\"             \"cnum\"             \"country\"         \n",
       " [5] \"pays\"             \"area\"             \"dis_int\"          \"landlocked\"      \n",
       " [9] \"continent\"        \"city_en\"          \"city_fr\"          \"lat\"             \n",
       "[13] \"lon\"              \"cap\"              \"maincity\"         \"citynum\"         \n",
       "[17] \"langoff_1\"        \"langoff_2\"        \"langoff_3\"        \"lang20_1\"        \n",
       "[21] \"lang20_2\"         \"lang20_3\"         \"lang20_4\"         \"lang9_1\"         \n",
       "[25] \"lang9_2\"          \"lang9_3\"          \"lang9_4\"          \"colonizer1\"      \n",
       "[29] \"colonizer2\"       \"colonizer3\"       \"colonizer4\"       \"short_colonizer1\"\n",
       "[33] \"short_colonizer2\" \"short_colonizer3\""
      ]
     },
     "metadata": {},
     "output_type": "display_data"
    }
   ],
   "source": [
    "colnames(geo)"
   ]
  },
  {
   "cell_type": "code",
   "execution_count": 6,
   "metadata": {},
   "outputs": [
    {
     "data": {
      "text/html": [
       "<table>\n",
       "<thead><tr><th></th><th scope=col>iso2</th><th scope=col>iso3</th><th scope=col>country</th><th scope=col>area</th></tr></thead>\n",
       "<tbody>\n",
       "\t<tr><th scope=row>1</th><td>AR       </td><td>ARG      </td><td>Argentina</td><td>2766889  </td></tr>\n",
       "\t<tr><th scope=row>2</th><td>AU       </td><td>AUS      </td><td>Australia</td><td>7686848  </td></tr>\n",
       "\t<tr><th scope=row>4</th><td>BR       </td><td>BRA      </td><td>Brazil   </td><td>8511920  </td></tr>\n",
       "\t<tr><th scope=row>6</th><td>CL       </td><td>CHL      </td><td>Chile    </td><td> 756945  </td></tr>\n",
       "\t<tr><th scope=row>7</th><td>ES       </td><td>ESP      </td><td>Spain    </td><td> 505954  </td></tr>\n",
       "\t<tr><th scope=row>8</th><td>FR       </td><td>FRA      </td><td>France   </td><td> 547026  </td></tr>\n",
       "</tbody>\n",
       "</table>\n"
      ],
      "text/latex": [
       "\\begin{tabular}{r|llll}\n",
       "  & iso2 & iso3 & country & area\\\\\n",
       "\\hline\n",
       "\t1 & AR        & ARG       & Argentina & 2766889  \\\\\n",
       "\t2 & AU        & AUS       & Australia & 7686848  \\\\\n",
       "\t4 & BR        & BRA       & Brazil    & 8511920  \\\\\n",
       "\t6 & CL        & CHL       & Chile     &  756945  \\\\\n",
       "\t7 & ES        & ESP       & Spain     &  505954  \\\\\n",
       "\t8 & FR        & FRA       & France    &  547026  \\\\\n",
       "\\end{tabular}\n"
      ],
      "text/markdown": [
       "\n",
       "| <!--/--> | iso2 | iso3 | country | area |\n",
       "|---|---|---|---|---|\n",
       "| 1 | AR        | ARG       | Argentina | 2766889   |\n",
       "| 2 | AU        | AUS       | Australia | 7686848   |\n",
       "| 4 | BR        | BRA       | Brazil    | 8511920   |\n",
       "| 6 | CL        | CHL       | Chile     |  756945   |\n",
       "| 7 | ES        | ESP       | Spain     |  505954   |\n",
       "| 8 | FR        | FRA       | France    |  547026   |\n",
       "\n"
      ],
      "text/plain": [
       "  iso2 iso3 country   area   \n",
       "1 AR   ARG  Argentina 2766889\n",
       "2 AU   AUS  Australia 7686848\n",
       "4 BR   BRA  Brazil    8511920\n",
       "6 CL   CHL  Chile      756945\n",
       "7 ES   ESP  Spain      505954\n",
       "8 FR   FRA  France     547026"
      ]
     },
     "metadata": {},
     "output_type": "display_data"
    }
   ],
   "source": [
    "area <- geo %>% filter (country %in% countries) %>%\n",
    "                select(iso2, iso3, country, area) %>% \n",
    "                unique()\n",
    "\n",
    "head(area)"
   ]
  },
  {
   "cell_type": "markdown",
   "metadata": {},
   "source": [
    "#### Population + Area"
   ]
  },
  {
   "cell_type": "code",
   "execution_count": 7,
   "metadata": {},
   "outputs": [
    {
     "data": {
      "text/html": [
       "<table>\n",
       "<thead><tr><th scope=col>country</th><th scope=col>iso2</th><th scope=col>iso3</th><th scope=col>area</th><th scope=col>population</th></tr></thead>\n",
       "<tbody>\n",
       "\t<tr><td>Argentina    </td><td>AR           </td><td>ARG          </td><td> 2766889     </td><td> 44780675    </td></tr>\n",
       "\t<tr><td>Australia    </td><td>AU           </td><td>AUS          </td><td> 7686848     </td><td> 25203200    </td></tr>\n",
       "\t<tr><td>Brazil       </td><td>BR           </td><td>BRA          </td><td> 8511920     </td><td>211049519    </td></tr>\n",
       "\t<tr><td>Chile        </td><td>CL           </td><td>CHL          </td><td>  756945     </td><td> 18952035    </td></tr>\n",
       "\t<tr><td>France       </td><td>FR           </td><td>FRA          </td><td>  547026     </td><td> 65129731    </td></tr>\n",
       "\t<tr><td>Great Britain</td><td>GB           </td><td>GBR          </td><td>  244110     </td><td> 67530161    </td></tr>\n",
       "\t<tr><td>Indonesia    </td><td>ID           </td><td>IDN          </td><td> 1933658     </td><td>270625567    </td></tr>\n",
       "\t<tr><td>Japan        </td><td>JP           </td><td>JPN          </td><td>  377801     </td><td>126860299    </td></tr>\n",
       "\t<tr><td>Malaysia     </td><td>MY           </td><td>MYS          </td><td>  329758     </td><td> 31949789    </td></tr>\n",
       "\t<tr><td>Mexico       </td><td>MX           </td><td>MEX          </td><td> 1967210     </td><td>127575529    </td></tr>\n",
       "\t<tr><td>Russia       </td><td>RU           </td><td>RUS          </td><td>17075400     </td><td>145872260    </td></tr>\n",
       "\t<tr><td>Singapore    </td><td>SG           </td><td>SGP          </td><td>     646     </td><td>  5804343    </td></tr>\n",
       "\t<tr><td>South Korea  </td><td>KR           </td><td>KOR          </td><td>   99484     </td><td> 51225321    </td></tr>\n",
       "\t<tr><td>Spain        </td><td>ES           </td><td>ESP          </td><td>  505954     </td><td> 46736782    </td></tr>\n",
       "\t<tr><td>Turkey       </td><td>TR           </td><td>TUR          </td><td>  780576     </td><td> 83429607    </td></tr>\n",
       "\t<tr><td>United States</td><td>US           </td><td>USA          </td><td> 9529106     </td><td>329064917    </td></tr>\n",
       "</tbody>\n",
       "</table>\n"
      ],
      "text/latex": [
       "\\begin{tabular}{r|lllll}\n",
       " country & iso2 & iso3 & area & population\\\\\n",
       "\\hline\n",
       "\t Argentina     & AR            & ARG           &  2766889      &  44780675    \\\\\n",
       "\t Australia     & AU            & AUS           &  7686848      &  25203200    \\\\\n",
       "\t Brazil        & BR            & BRA           &  8511920      & 211049519    \\\\\n",
       "\t Chile         & CL            & CHL           &   756945      &  18952035    \\\\\n",
       "\t France        & FR            & FRA           &   547026      &  65129731    \\\\\n",
       "\t Great Britain & GB            & GBR           &   244110      &  67530161    \\\\\n",
       "\t Indonesia     & ID            & IDN           &  1933658      & 270625567    \\\\\n",
       "\t Japan         & JP            & JPN           &   377801      & 126860299    \\\\\n",
       "\t Malaysia      & MY            & MYS           &   329758      &  31949789    \\\\\n",
       "\t Mexico        & MX            & MEX           &  1967210      & 127575529    \\\\\n",
       "\t Russia        & RU            & RUS           & 17075400      & 145872260    \\\\\n",
       "\t Singapore     & SG            & SGP           &      646      &   5804343    \\\\\n",
       "\t South Korea   & KR            & KOR           &    99484      &  51225321    \\\\\n",
       "\t Spain         & ES            & ESP           &   505954      &  46736782    \\\\\n",
       "\t Turkey        & TR            & TUR           &   780576      &  83429607    \\\\\n",
       "\t United States & US            & USA           &  9529106      & 329064917    \\\\\n",
       "\\end{tabular}\n"
      ],
      "text/markdown": [
       "\n",
       "| country | iso2 | iso3 | area | population |\n",
       "|---|---|---|---|---|\n",
       "| Argentina     | AR            | ARG           |  2766889      |  44780675     |\n",
       "| Australia     | AU            | AUS           |  7686848      |  25203200     |\n",
       "| Brazil        | BR            | BRA           |  8511920      | 211049519     |\n",
       "| Chile         | CL            | CHL           |   756945      |  18952035     |\n",
       "| France        | FR            | FRA           |   547026      |  65129731     |\n",
       "| Great Britain | GB            | GBR           |   244110      |  67530161     |\n",
       "| Indonesia     | ID            | IDN           |  1933658      | 270625567     |\n",
       "| Japan         | JP            | JPN           |   377801      | 126860299     |\n",
       "| Malaysia      | MY            | MYS           |   329758      |  31949789     |\n",
       "| Mexico        | MX            | MEX           |  1967210      | 127575529     |\n",
       "| Russia        | RU            | RUS           | 17075400      | 145872260     |\n",
       "| Singapore     | SG            | SGP           |      646      |   5804343     |\n",
       "| South Korea   | KR            | KOR           |    99484      |  51225321     |\n",
       "| Spain         | ES            | ESP           |   505954      |  46736782     |\n",
       "| Turkey        | TR            | TUR           |   780576      |  83429607     |\n",
       "| United States | US            | USA           |  9529106      | 329064917     |\n",
       "\n"
      ],
      "text/plain": [
       "   country       iso2 iso3 area     population\n",
       "1  Argentina     AR   ARG   2766889  44780675 \n",
       "2  Australia     AU   AUS   7686848  25203200 \n",
       "3  Brazil        BR   BRA   8511920 211049519 \n",
       "4  Chile         CL   CHL    756945  18952035 \n",
       "5  France        FR   FRA    547026  65129731 \n",
       "6  Great Britain GB   GBR    244110  67530161 \n",
       "7  Indonesia     ID   IDN   1933658 270625567 \n",
       "8  Japan         JP   JPN    377801 126860299 \n",
       "9  Malaysia      MY   MYS    329758  31949789 \n",
       "10 Mexico        MX   MEX   1967210 127575529 \n",
       "11 Russia        RU   RUS  17075400 145872260 \n",
       "12 Singapore     SG   SGP       646   5804343 \n",
       "13 South Korea   KR   KOR     99484  51225321 \n",
       "14 Spain         ES   ESP    505954  46736782 \n",
       "15 Turkey        TR   TUR    780576  83429607 \n",
       "16 United States US   USA   9529106 329064917 "
      ]
     },
     "metadata": {},
     "output_type": "display_data"
    }
   ],
   "source": [
    "area_pop <- merge(area, pop_2019)\n",
    "\n",
    "area_pop"
   ]
  },
  {
   "cell_type": "code",
   "execution_count": 8,
   "metadata": {},
   "outputs": [
    {
     "data": {
      "text/html": [
       "<ol class=list-inline>\n",
       "\t<li>ARG</li>\n",
       "\t<li>AUS</li>\n",
       "\t<li>BRA</li>\n",
       "\t<li>CHL</li>\n",
       "\t<li>ESP</li>\n",
       "\t<li>FRA</li>\n",
       "\t<li>GBR</li>\n",
       "\t<li>IDN</li>\n",
       "\t<li>JPN</li>\n",
       "\t<li>KOR</li>\n",
       "\t<li>MEX</li>\n",
       "\t<li>MYS</li>\n",
       "\t<li>RUS</li>\n",
       "\t<li>SGP</li>\n",
       "\t<li>TUR</li>\n",
       "\t<li>USA</li>\n",
       "</ol>\n",
       "\n",
       "<details>\n",
       "\t<summary style=display:list-item;cursor:pointer>\n",
       "\t\t<strong>Levels</strong>:\n",
       "\t</summary>\n",
       "\t<ol class=list-inline>\n",
       "\t\t<li>'ABW'</li>\n",
       "\t\t<li>'AFG'</li>\n",
       "\t\t<li>'AGO'</li>\n",
       "\t\t<li>'AIA'</li>\n",
       "\t\t<li>'ALB'</li>\n",
       "\t\t<li>'AND'</li>\n",
       "\t\t<li>'ANT'</li>\n",
       "\t\t<li>'ARE'</li>\n",
       "\t\t<li>'ARG'</li>\n",
       "\t\t<li>'ARM'</li>\n",
       "\t\t<li>'ATF'</li>\n",
       "\t\t<li>'ATG'</li>\n",
       "\t\t<li>'AUS'</li>\n",
       "\t\t<li>'AUT'</li>\n",
       "\t\t<li>'AZE'</li>\n",
       "\t\t<li>'BDI'</li>\n",
       "\t\t<li>'BEL'</li>\n",
       "\t\t<li>'BEN'</li>\n",
       "\t\t<li>'BFA'</li>\n",
       "\t\t<li>'BGD'</li>\n",
       "\t\t<li>'BGR'</li>\n",
       "\t\t<li>'BHR'</li>\n",
       "\t\t<li>'BHS'</li>\n",
       "\t\t<li>'BIH'</li>\n",
       "\t\t<li>'BLR'</li>\n",
       "\t\t<li>'BLZ'</li>\n",
       "\t\t<li>'BMU'</li>\n",
       "\t\t<li>'BOL'</li>\n",
       "\t\t<li>'BRA'</li>\n",
       "\t\t<li>'BRB'</li>\n",
       "\t\t<li>'BRN'</li>\n",
       "\t\t<li>'BTN'</li>\n",
       "\t\t<li>'BWA'</li>\n",
       "\t\t<li>'CAF'</li>\n",
       "\t\t<li>'CAN'</li>\n",
       "\t\t<li>'CCK'</li>\n",
       "\t\t<li>'CHE'</li>\n",
       "\t\t<li>'CHL'</li>\n",
       "\t\t<li>'CHN'</li>\n",
       "\t\t<li>'CIV'</li>\n",
       "\t\t<li>'CMR'</li>\n",
       "\t\t<li>'COG'</li>\n",
       "\t\t<li>'COK'</li>\n",
       "\t\t<li>'COL'</li>\n",
       "\t\t<li>'COM'</li>\n",
       "\t\t<li>'CPV'</li>\n",
       "\t\t<li>'CRI'</li>\n",
       "\t\t<li>'CUB'</li>\n",
       "\t\t<li>'CXR'</li>\n",
       "\t\t<li>'CYM'</li>\n",
       "\t\t<li>'CYP'</li>\n",
       "\t\t<li>'CZE'</li>\n",
       "\t\t<li>'DEU'</li>\n",
       "\t\t<li>'DJI'</li>\n",
       "\t\t<li>'DMA'</li>\n",
       "\t\t<li>'DNK'</li>\n",
       "\t\t<li>'DOM'</li>\n",
       "\t\t<li>'DZA'</li>\n",
       "\t\t<li>'ECU'</li>\n",
       "\t\t<li>'EGY'</li>\n",
       "\t\t<li>'ERI'</li>\n",
       "\t\t<li>'ESH'</li>\n",
       "\t\t<li>'ESP'</li>\n",
       "\t\t<li>'EST'</li>\n",
       "\t\t<li>'ETH'</li>\n",
       "\t\t<li>'FIN'</li>\n",
       "\t\t<li>'FJI'</li>\n",
       "\t\t<li>'FLK'</li>\n",
       "\t\t<li>'FRA'</li>\n",
       "\t\t<li>'FRO'</li>\n",
       "\t\t<li>'FSM'</li>\n",
       "\t\t<li>'GAB'</li>\n",
       "\t\t<li>'GBR'</li>\n",
       "\t\t<li>'GEO'</li>\n",
       "\t\t<li>'GHA'</li>\n",
       "\t\t<li>'GIB'</li>\n",
       "\t\t<li>'GIN'</li>\n",
       "\t\t<li>'GLP'</li>\n",
       "\t\t<li>'GMB'</li>\n",
       "\t\t<li>'GNB'</li>\n",
       "\t\t<li>'GNQ'</li>\n",
       "\t\t<li>'GRC'</li>\n",
       "\t\t<li>'GRD'</li>\n",
       "\t\t<li>'GRL'</li>\n",
       "\t\t<li>'GTM'</li>\n",
       "\t\t<li>'GUF'</li>\n",
       "\t\t<li>'GUY'</li>\n",
       "\t\t<li>'HKG'</li>\n",
       "\t\t<li>'HND'</li>\n",
       "\t\t<li>'HRV'</li>\n",
       "\t\t<li>'HTI'</li>\n",
       "\t\t<li>'HUN'</li>\n",
       "\t\t<li>'IDN'</li>\n",
       "\t\t<li>'IND'</li>\n",
       "\t\t<li>'IRL'</li>\n",
       "\t\t<li>'IRN'</li>\n",
       "\t\t<li>'IRQ'</li>\n",
       "\t\t<li>'ISL'</li>\n",
       "\t\t<li>'ISR'</li>\n",
       "\t\t<li>'ITA'</li>\n",
       "\t\t<li>'JAM'</li>\n",
       "\t\t<li>'JOR'</li>\n",
       "\t\t<li>'JPN'</li>\n",
       "\t\t<li>'KAZ'</li>\n",
       "\t\t<li>'KEN'</li>\n",
       "\t\t<li>'KGZ'</li>\n",
       "\t\t<li>'KHM'</li>\n",
       "\t\t<li>'KIR'</li>\n",
       "\t\t<li>'KNA'</li>\n",
       "\t\t<li>'KOR'</li>\n",
       "\t\t<li>'KWT'</li>\n",
       "\t\t<li>'LAO'</li>\n",
       "\t\t<li>'LBN'</li>\n",
       "\t\t<li>'LBR'</li>\n",
       "\t\t<li>'LBY'</li>\n",
       "\t\t<li>'LCA'</li>\n",
       "\t\t<li>'LKA'</li>\n",
       "\t\t<li>'LSO'</li>\n",
       "\t\t<li>'LTU'</li>\n",
       "\t\t<li>'LUX'</li>\n",
       "\t\t<li>'LVA'</li>\n",
       "\t\t<li>'MAC'</li>\n",
       "\t\t<li>'MAR'</li>\n",
       "\t\t<li>'MDA'</li>\n",
       "\t\t<li>'MDG'</li>\n",
       "\t\t<li>'MDV'</li>\n",
       "\t\t<li>'MEX'</li>\n",
       "\t\t<li>'MHL'</li>\n",
       "\t\t<li>'MKD'</li>\n",
       "\t\t<li>'MLI'</li>\n",
       "\t\t<li>'MLT'</li>\n",
       "\t\t<li>'MMR'</li>\n",
       "\t\t<li>'MNG'</li>\n",
       "\t\t<li>'MNP'</li>\n",
       "\t\t<li>'MOZ'</li>\n",
       "\t\t<li>'MRT'</li>\n",
       "\t\t<li>'MSR'</li>\n",
       "\t\t<li>'MTQ'</li>\n",
       "\t\t<li>'MUS'</li>\n",
       "\t\t<li>'MWI'</li>\n",
       "\t\t<li>'MYS'</li>\n",
       "\t\t<li>'NAM'</li>\n",
       "\t\t<li>'NCL'</li>\n",
       "\t\t<li>'NER'</li>\n",
       "\t\t<li>'NFK'</li>\n",
       "\t\t<li>'NGA'</li>\n",
       "\t\t<li>'NIC'</li>\n",
       "\t\t<li>'NIU'</li>\n",
       "\t\t<li>'NLD'</li>\n",
       "\t\t<li>'NOR'</li>\n",
       "\t\t<li>'NPL'</li>\n",
       "\t\t<li>'NRU'</li>\n",
       "\t\t<li>'NZL'</li>\n",
       "\t\t<li>'OMN'</li>\n",
       "\t\t<li>'PAK'</li>\n",
       "\t\t<li>'PAL'</li>\n",
       "\t\t<li>'PAN'</li>\n",
       "\t\t<li>'PCN'</li>\n",
       "\t\t<li>'PER'</li>\n",
       "\t\t<li>'PHL'</li>\n",
       "\t\t<li>'PLW'</li>\n",
       "\t\t<li>'PNG'</li>\n",
       "\t\t<li>'POL'</li>\n",
       "\t\t<li>'PRI'</li>\n",
       "\t\t<li>'PRK'</li>\n",
       "\t\t<li>'PRT'</li>\n",
       "\t\t<li>'PRY'</li>\n",
       "\t\t<li>'PYF'</li>\n",
       "\t\t<li>'QAT'</li>\n",
       "\t\t<li>'REU'</li>\n",
       "\t\t<li>'ROM'</li>\n",
       "\t\t<li>'RUS'</li>\n",
       "\t\t<li>'RWA'</li>\n",
       "\t\t<li>'SAU'</li>\n",
       "\t\t<li>'SDN'</li>\n",
       "\t\t<li>'SEN'</li>\n",
       "\t\t<li>'SGP'</li>\n",
       "\t\t<li>'SHN'</li>\n",
       "\t\t<li>'SLB'</li>\n",
       "\t\t<li>'SLE'</li>\n",
       "\t\t<li>'SLV'</li>\n",
       "\t\t<li>'SMR'</li>\n",
       "\t\t<li>'SOM'</li>\n",
       "\t\t<li>'SPM'</li>\n",
       "\t\t<li>'STP'</li>\n",
       "\t\t<li>'SUR'</li>\n",
       "\t\t<li>'SVK'</li>\n",
       "\t\t<li>'SVN'</li>\n",
       "\t\t<li>'SWE'</li>\n",
       "\t\t<li>'SWZ'</li>\n",
       "\t\t<li>'SYC'</li>\n",
       "\t\t<li>'SYR'</li>\n",
       "\t\t<li>'TCA'</li>\n",
       "\t\t<li>'TCD'</li>\n",
       "\t\t<li>'TGO'</li>\n",
       "\t\t<li>'THA'</li>\n",
       "\t\t<li>'TJK'</li>\n",
       "\t\t<li>'TKL'</li>\n",
       "\t\t<li>'TKM'</li>\n",
       "\t\t<li>'TMP'</li>\n",
       "\t\t<li>'TON'</li>\n",
       "\t\t<li>'TTO'</li>\n",
       "\t\t<li>'TUN'</li>\n",
       "\t\t<li>'TUR'</li>\n",
       "\t\t<li>'TUV'</li>\n",
       "\t\t<li>'TWN'</li>\n",
       "\t\t<li>'TZA'</li>\n",
       "\t\t<li>'UGA'</li>\n",
       "\t\t<li>'UKR'</li>\n",
       "\t\t<li>'URY'</li>\n",
       "\t\t<li>'USA'</li>\n",
       "\t\t<li>'UZB'</li>\n",
       "\t\t<li>'VCT'</li>\n",
       "\t\t<li>'VEN'</li>\n",
       "\t\t<li>'VGB'</li>\n",
       "\t\t<li>'VNM'</li>\n",
       "\t\t<li>'VUT'</li>\n",
       "\t\t<li>'WLF'</li>\n",
       "\t\t<li>'WSM'</li>\n",
       "\t\t<li>'YEM'</li>\n",
       "\t\t<li>'YUG'</li>\n",
       "\t\t<li>'ZAF'</li>\n",
       "\t\t<li>'ZAR'</li>\n",
       "\t\t<li>'ZMB'</li>\n",
       "\t\t<li>'ZWE'</li>\n",
       "\t</ol>\n",
       "</details>"
      ],
      "text/latex": [
       "\\begin{enumerate*}\n",
       "\\item ARG\n",
       "\\item AUS\n",
       "\\item BRA\n",
       "\\item CHL\n",
       "\\item ESP\n",
       "\\item FRA\n",
       "\\item GBR\n",
       "\\item IDN\n",
       "\\item JPN\n",
       "\\item KOR\n",
       "\\item MEX\n",
       "\\item MYS\n",
       "\\item RUS\n",
       "\\item SGP\n",
       "\\item TUR\n",
       "\\item USA\n",
       "\\end{enumerate*}\n",
       "\n",
       "\\emph{Levels}: \\begin{enumerate*}\n",
       "\\item 'ABW'\n",
       "\\item 'AFG'\n",
       "\\item 'AGO'\n",
       "\\item 'AIA'\n",
       "\\item 'ALB'\n",
       "\\item 'AND'\n",
       "\\item 'ANT'\n",
       "\\item 'ARE'\n",
       "\\item 'ARG'\n",
       "\\item 'ARM'\n",
       "\\item 'ATF'\n",
       "\\item 'ATG'\n",
       "\\item 'AUS'\n",
       "\\item 'AUT'\n",
       "\\item 'AZE'\n",
       "\\item 'BDI'\n",
       "\\item 'BEL'\n",
       "\\item 'BEN'\n",
       "\\item 'BFA'\n",
       "\\item 'BGD'\n",
       "\\item 'BGR'\n",
       "\\item 'BHR'\n",
       "\\item 'BHS'\n",
       "\\item 'BIH'\n",
       "\\item 'BLR'\n",
       "\\item 'BLZ'\n",
       "\\item 'BMU'\n",
       "\\item 'BOL'\n",
       "\\item 'BRA'\n",
       "\\item 'BRB'\n",
       "\\item 'BRN'\n",
       "\\item 'BTN'\n",
       "\\item 'BWA'\n",
       "\\item 'CAF'\n",
       "\\item 'CAN'\n",
       "\\item 'CCK'\n",
       "\\item 'CHE'\n",
       "\\item 'CHL'\n",
       "\\item 'CHN'\n",
       "\\item 'CIV'\n",
       "\\item 'CMR'\n",
       "\\item 'COG'\n",
       "\\item 'COK'\n",
       "\\item 'COL'\n",
       "\\item 'COM'\n",
       "\\item 'CPV'\n",
       "\\item 'CRI'\n",
       "\\item 'CUB'\n",
       "\\item 'CXR'\n",
       "\\item 'CYM'\n",
       "\\item 'CYP'\n",
       "\\item 'CZE'\n",
       "\\item 'DEU'\n",
       "\\item 'DJI'\n",
       "\\item 'DMA'\n",
       "\\item 'DNK'\n",
       "\\item 'DOM'\n",
       "\\item 'DZA'\n",
       "\\item 'ECU'\n",
       "\\item 'EGY'\n",
       "\\item 'ERI'\n",
       "\\item 'ESH'\n",
       "\\item 'ESP'\n",
       "\\item 'EST'\n",
       "\\item 'ETH'\n",
       "\\item 'FIN'\n",
       "\\item 'FJI'\n",
       "\\item 'FLK'\n",
       "\\item 'FRA'\n",
       "\\item 'FRO'\n",
       "\\item 'FSM'\n",
       "\\item 'GAB'\n",
       "\\item 'GBR'\n",
       "\\item 'GEO'\n",
       "\\item 'GHA'\n",
       "\\item 'GIB'\n",
       "\\item 'GIN'\n",
       "\\item 'GLP'\n",
       "\\item 'GMB'\n",
       "\\item 'GNB'\n",
       "\\item 'GNQ'\n",
       "\\item 'GRC'\n",
       "\\item 'GRD'\n",
       "\\item 'GRL'\n",
       "\\item 'GTM'\n",
       "\\item 'GUF'\n",
       "\\item 'GUY'\n",
       "\\item 'HKG'\n",
       "\\item 'HND'\n",
       "\\item 'HRV'\n",
       "\\item 'HTI'\n",
       "\\item 'HUN'\n",
       "\\item 'IDN'\n",
       "\\item 'IND'\n",
       "\\item 'IRL'\n",
       "\\item 'IRN'\n",
       "\\item 'IRQ'\n",
       "\\item 'ISL'\n",
       "\\item 'ISR'\n",
       "\\item 'ITA'\n",
       "\\item 'JAM'\n",
       "\\item 'JOR'\n",
       "\\item 'JPN'\n",
       "\\item 'KAZ'\n",
       "\\item 'KEN'\n",
       "\\item 'KGZ'\n",
       "\\item 'KHM'\n",
       "\\item 'KIR'\n",
       "\\item 'KNA'\n",
       "\\item 'KOR'\n",
       "\\item 'KWT'\n",
       "\\item 'LAO'\n",
       "\\item 'LBN'\n",
       "\\item 'LBR'\n",
       "\\item 'LBY'\n",
       "\\item 'LCA'\n",
       "\\item 'LKA'\n",
       "\\item 'LSO'\n",
       "\\item 'LTU'\n",
       "\\item 'LUX'\n",
       "\\item 'LVA'\n",
       "\\item 'MAC'\n",
       "\\item 'MAR'\n",
       "\\item 'MDA'\n",
       "\\item 'MDG'\n",
       "\\item 'MDV'\n",
       "\\item 'MEX'\n",
       "\\item 'MHL'\n",
       "\\item 'MKD'\n",
       "\\item 'MLI'\n",
       "\\item 'MLT'\n",
       "\\item 'MMR'\n",
       "\\item 'MNG'\n",
       "\\item 'MNP'\n",
       "\\item 'MOZ'\n",
       "\\item 'MRT'\n",
       "\\item 'MSR'\n",
       "\\item 'MTQ'\n",
       "\\item 'MUS'\n",
       "\\item 'MWI'\n",
       "\\item 'MYS'\n",
       "\\item 'NAM'\n",
       "\\item 'NCL'\n",
       "\\item 'NER'\n",
       "\\item 'NFK'\n",
       "\\item 'NGA'\n",
       "\\item 'NIC'\n",
       "\\item 'NIU'\n",
       "\\item 'NLD'\n",
       "\\item 'NOR'\n",
       "\\item 'NPL'\n",
       "\\item 'NRU'\n",
       "\\item 'NZL'\n",
       "\\item 'OMN'\n",
       "\\item 'PAK'\n",
       "\\item 'PAL'\n",
       "\\item 'PAN'\n",
       "\\item 'PCN'\n",
       "\\item 'PER'\n",
       "\\item 'PHL'\n",
       "\\item 'PLW'\n",
       "\\item 'PNG'\n",
       "\\item 'POL'\n",
       "\\item 'PRI'\n",
       "\\item 'PRK'\n",
       "\\item 'PRT'\n",
       "\\item 'PRY'\n",
       "\\item 'PYF'\n",
       "\\item 'QAT'\n",
       "\\item 'REU'\n",
       "\\item 'ROM'\n",
       "\\item 'RUS'\n",
       "\\item 'RWA'\n",
       "\\item 'SAU'\n",
       "\\item 'SDN'\n",
       "\\item 'SEN'\n",
       "\\item 'SGP'\n",
       "\\item 'SHN'\n",
       "\\item 'SLB'\n",
       "\\item 'SLE'\n",
       "\\item 'SLV'\n",
       "\\item 'SMR'\n",
       "\\item 'SOM'\n",
       "\\item 'SPM'\n",
       "\\item 'STP'\n",
       "\\item 'SUR'\n",
       "\\item 'SVK'\n",
       "\\item 'SVN'\n",
       "\\item 'SWE'\n",
       "\\item 'SWZ'\n",
       "\\item 'SYC'\n",
       "\\item 'SYR'\n",
       "\\item 'TCA'\n",
       "\\item 'TCD'\n",
       "\\item 'TGO'\n",
       "\\item 'THA'\n",
       "\\item 'TJK'\n",
       "\\item 'TKL'\n",
       "\\item 'TKM'\n",
       "\\item 'TMP'\n",
       "\\item 'TON'\n",
       "\\item 'TTO'\n",
       "\\item 'TUN'\n",
       "\\item 'TUR'\n",
       "\\item 'TUV'\n",
       "\\item 'TWN'\n",
       "\\item 'TZA'\n",
       "\\item 'UGA'\n",
       "\\item 'UKR'\n",
       "\\item 'URY'\n",
       "\\item 'USA'\n",
       "\\item 'UZB'\n",
       "\\item 'VCT'\n",
       "\\item 'VEN'\n",
       "\\item 'VGB'\n",
       "\\item 'VNM'\n",
       "\\item 'VUT'\n",
       "\\item 'WLF'\n",
       "\\item 'WSM'\n",
       "\\item 'YEM'\n",
       "\\item 'YUG'\n",
       "\\item 'ZAF'\n",
       "\\item 'ZAR'\n",
       "\\item 'ZMB'\n",
       "\\item 'ZWE'\n",
       "\\end{enumerate*}\n"
      ],
      "text/markdown": [
       "1. ARG\n",
       "2. AUS\n",
       "3. BRA\n",
       "4. CHL\n",
       "5. ESP\n",
       "6. FRA\n",
       "7. GBR\n",
       "8. IDN\n",
       "9. JPN\n",
       "10. KOR\n",
       "11. MEX\n",
       "12. MYS\n",
       "13. RUS\n",
       "14. SGP\n",
       "15. TUR\n",
       "16. USA\n",
       "\n",
       "\n",
       "\n",
       "**Levels**: 1. 'ABW'\n",
       "2. 'AFG'\n",
       "3. 'AGO'\n",
       "4. 'AIA'\n",
       "5. 'ALB'\n",
       "6. 'AND'\n",
       "7. 'ANT'\n",
       "8. 'ARE'\n",
       "9. 'ARG'\n",
       "10. 'ARM'\n",
       "11. 'ATF'\n",
       "12. 'ATG'\n",
       "13. 'AUS'\n",
       "14. 'AUT'\n",
       "15. 'AZE'\n",
       "16. 'BDI'\n",
       "17. 'BEL'\n",
       "18. 'BEN'\n",
       "19. 'BFA'\n",
       "20. 'BGD'\n",
       "21. 'BGR'\n",
       "22. 'BHR'\n",
       "23. 'BHS'\n",
       "24. 'BIH'\n",
       "25. 'BLR'\n",
       "26. 'BLZ'\n",
       "27. 'BMU'\n",
       "28. 'BOL'\n",
       "29. 'BRA'\n",
       "30. 'BRB'\n",
       "31. 'BRN'\n",
       "32. 'BTN'\n",
       "33. 'BWA'\n",
       "34. 'CAF'\n",
       "35. 'CAN'\n",
       "36. 'CCK'\n",
       "37. 'CHE'\n",
       "38. 'CHL'\n",
       "39. 'CHN'\n",
       "40. 'CIV'\n",
       "41. 'CMR'\n",
       "42. 'COG'\n",
       "43. 'COK'\n",
       "44. 'COL'\n",
       "45. 'COM'\n",
       "46. 'CPV'\n",
       "47. 'CRI'\n",
       "48. 'CUB'\n",
       "49. 'CXR'\n",
       "50. 'CYM'\n",
       "51. 'CYP'\n",
       "52. 'CZE'\n",
       "53. 'DEU'\n",
       "54. 'DJI'\n",
       "55. 'DMA'\n",
       "56. 'DNK'\n",
       "57. 'DOM'\n",
       "58. 'DZA'\n",
       "59. 'ECU'\n",
       "60. 'EGY'\n",
       "61. 'ERI'\n",
       "62. 'ESH'\n",
       "63. 'ESP'\n",
       "64. 'EST'\n",
       "65. 'ETH'\n",
       "66. 'FIN'\n",
       "67. 'FJI'\n",
       "68. 'FLK'\n",
       "69. 'FRA'\n",
       "70. 'FRO'\n",
       "71. 'FSM'\n",
       "72. 'GAB'\n",
       "73. 'GBR'\n",
       "74. 'GEO'\n",
       "75. 'GHA'\n",
       "76. 'GIB'\n",
       "77. 'GIN'\n",
       "78. 'GLP'\n",
       "79. 'GMB'\n",
       "80. 'GNB'\n",
       "81. 'GNQ'\n",
       "82. 'GRC'\n",
       "83. 'GRD'\n",
       "84. 'GRL'\n",
       "85. 'GTM'\n",
       "86. 'GUF'\n",
       "87. 'GUY'\n",
       "88. 'HKG'\n",
       "89. 'HND'\n",
       "90. 'HRV'\n",
       "91. 'HTI'\n",
       "92. 'HUN'\n",
       "93. 'IDN'\n",
       "94. 'IND'\n",
       "95. 'IRL'\n",
       "96. 'IRN'\n",
       "97. 'IRQ'\n",
       "98. 'ISL'\n",
       "99. 'ISR'\n",
       "100. 'ITA'\n",
       "101. 'JAM'\n",
       "102. 'JOR'\n",
       "103. 'JPN'\n",
       "104. 'KAZ'\n",
       "105. 'KEN'\n",
       "106. 'KGZ'\n",
       "107. 'KHM'\n",
       "108. 'KIR'\n",
       "109. 'KNA'\n",
       "110. 'KOR'\n",
       "111. 'KWT'\n",
       "112. 'LAO'\n",
       "113. 'LBN'\n",
       "114. 'LBR'\n",
       "115. 'LBY'\n",
       "116. 'LCA'\n",
       "117. 'LKA'\n",
       "118. 'LSO'\n",
       "119. 'LTU'\n",
       "120. 'LUX'\n",
       "121. 'LVA'\n",
       "122. 'MAC'\n",
       "123. 'MAR'\n",
       "124. 'MDA'\n",
       "125. 'MDG'\n",
       "126. 'MDV'\n",
       "127. 'MEX'\n",
       "128. 'MHL'\n",
       "129. 'MKD'\n",
       "130. 'MLI'\n",
       "131. 'MLT'\n",
       "132. 'MMR'\n",
       "133. 'MNG'\n",
       "134. 'MNP'\n",
       "135. 'MOZ'\n",
       "136. 'MRT'\n",
       "137. 'MSR'\n",
       "138. 'MTQ'\n",
       "139. 'MUS'\n",
       "140. 'MWI'\n",
       "141. 'MYS'\n",
       "142. 'NAM'\n",
       "143. 'NCL'\n",
       "144. 'NER'\n",
       "145. 'NFK'\n",
       "146. 'NGA'\n",
       "147. 'NIC'\n",
       "148. 'NIU'\n",
       "149. 'NLD'\n",
       "150. 'NOR'\n",
       "151. 'NPL'\n",
       "152. 'NRU'\n",
       "153. 'NZL'\n",
       "154. 'OMN'\n",
       "155. 'PAK'\n",
       "156. 'PAL'\n",
       "157. 'PAN'\n",
       "158. 'PCN'\n",
       "159. 'PER'\n",
       "160. 'PHL'\n",
       "161. 'PLW'\n",
       "162. 'PNG'\n",
       "163. 'POL'\n",
       "164. 'PRI'\n",
       "165. 'PRK'\n",
       "166. 'PRT'\n",
       "167. 'PRY'\n",
       "168. 'PYF'\n",
       "169. 'QAT'\n",
       "170. 'REU'\n",
       "171. 'ROM'\n",
       "172. 'RUS'\n",
       "173. 'RWA'\n",
       "174. 'SAU'\n",
       "175. 'SDN'\n",
       "176. 'SEN'\n",
       "177. 'SGP'\n",
       "178. 'SHN'\n",
       "179. 'SLB'\n",
       "180. 'SLE'\n",
       "181. 'SLV'\n",
       "182. 'SMR'\n",
       "183. 'SOM'\n",
       "184. 'SPM'\n",
       "185. 'STP'\n",
       "186. 'SUR'\n",
       "187. 'SVK'\n",
       "188. 'SVN'\n",
       "189. 'SWE'\n",
       "190. 'SWZ'\n",
       "191. 'SYC'\n",
       "192. 'SYR'\n",
       "193. 'TCA'\n",
       "194. 'TCD'\n",
       "195. 'TGO'\n",
       "196. 'THA'\n",
       "197. 'TJK'\n",
       "198. 'TKL'\n",
       "199. 'TKM'\n",
       "200. 'TMP'\n",
       "201. 'TON'\n",
       "202. 'TTO'\n",
       "203. 'TUN'\n",
       "204. 'TUR'\n",
       "205. 'TUV'\n",
       "206. 'TWN'\n",
       "207. 'TZA'\n",
       "208. 'UGA'\n",
       "209. 'UKR'\n",
       "210. 'URY'\n",
       "211. 'USA'\n",
       "212. 'UZB'\n",
       "213. 'VCT'\n",
       "214. 'VEN'\n",
       "215. 'VGB'\n",
       "216. 'VNM'\n",
       "217. 'VUT'\n",
       "218. 'WLF'\n",
       "219. 'WSM'\n",
       "220. 'YEM'\n",
       "221. 'YUG'\n",
       "222. 'ZAF'\n",
       "223. 'ZAR'\n",
       "224. 'ZMB'\n",
       "225. 'ZWE'\n",
       "\n",
       "\n"
      ],
      "text/plain": [
       " [1] ARG AUS BRA CHL ESP FRA GBR IDN JPN KOR MEX MYS RUS SGP TUR USA\n",
       "225 Levels: ABW AFG AGO AIA ALB AND ANT ARE ARG ARM ATF ATG AUS AUT AZE ... ZWE"
      ]
     },
     "metadata": {},
     "output_type": "display_data"
    }
   ],
   "source": [
    "isos3 <- area$iso3\n",
    "\n",
    "isos3"
   ]
  },
  {
   "cell_type": "markdown",
   "metadata": {},
   "source": [
    "## Geographic distance\n",
    "### Datasource: [CEPII](http://www.cepii.fr/CEPII/en/bdd_modele/presentation.asp?id=6)  \n",
    "\n",
    "<b>Variables</b>  \n",
    "    *`iso_o, iso_d`*: ISO codes in three characters, refering to the country of origin and destination, respectively.  \n",
    "    *`dist`*: Geodesic distances from lat/long of most populous cities (simple distance).   \n",
    "    *`distcap`*: geodesic distance between capital cities (simple distance).    \n",
    "    *`distw`*: population weighted distance, theta = 1 (weighted distance).   \n",
    "    *`distwces`*: population weighted distance, theta = -1, which corresponds to the usual coefficient estimated from gravity models of bilateral trade flows (weighted distance).  \n",
    "    *`contig`*: dummy variable indicating whether the two countries are contiguous (share a land border).  \n",
    "    *`comlang_off, comlang_ethno`*: dummy variable indicating whether the two countries share a common language. There are two common languages dummies, the first one based on the fact that two countries share a common official language, and the other one set to one if a language is spoken by at least 9% of the population in both countries.     \n",
    "    *`colony`*: dummy variable indicating whether the two countries have ever had a colonial link.  \n",
    "    *`comcol`*: dummy variable indicating whether the two countries have had a common colonizer after 1945.  \n",
    "    *`curcol`*: dummy variable indicating whether the two countries are currently in a colonial relationship.  \n",
    "    *`col45`*: dummy variable indicating whether the two countries have had a colonial relationship -a-f-t-e-r- 1945 (share common colonizer pre 1945).  \n",
    "    *`smctry`*: dummy variable indicating whether the two countries were/are the same country.  \n",
    "\n",
    "**[TO DO]: check Maciej distance**   \n",
    "<b>Maciej</b>  \n",
    "    *`dist_pop_weighted`*: population-weighted average distance between biggest cities  \n",
    "    *`dist_biggest_cities`*: average distance between biggest cities  \n",
    "^ most similar to distwces  \n",
    "    *`dist_unweighted`*: average distance between (?) (not population weighted)  "
   ]
  },
  {
   "cell_type": "code",
   "execution_count": 9,
   "metadata": {},
   "outputs": [
    {
     "data": {
      "text/html": [
       "<table>\n",
       "<thead><tr><th scope=col>iso_o</th><th scope=col>iso_d</th><th scope=col>contig</th><th scope=col>comlang_off</th><th scope=col>comlang_ethno</th><th scope=col>colony</th><th scope=col>comcol</th><th scope=col>curcol</th><th scope=col>col45</th><th scope=col>smctry</th><th scope=col>dist</th><th scope=col>distcap</th><th scope=col>distw</th><th scope=col>distwces</th></tr></thead>\n",
       "<tbody>\n",
       "\t<tr><td>ABW     </td><td>ABW     </td><td>0       </td><td>0       </td><td>0       </td><td>0       </td><td>0       </td><td>0       </td><td>0       </td><td>0       </td><td>5,225315</td><td>5,225315</td><td>25,09354</td><td>23,04723</td></tr>\n",
       "\t<tr><td>ABW     </td><td>AFG     </td><td>0       </td><td>0       </td><td>0       </td><td>0       </td><td>0       </td><td>0       </td><td>0       </td><td>0       </td><td>13257,81</td><td>13257,81</td><td>13168,22</td><td>13166,37</td></tr>\n",
       "\t<tr><td>ABW     </td><td>AGO     </td><td>0       </td><td>0       </td><td>0       </td><td>0       </td><td>0       </td><td>0       </td><td>0       </td><td>0       </td><td>9516,913</td><td>9516,913</td><td>9587,316</td><td>9584,193</td></tr>\n",
       "\t<tr><td>ABW     </td><td>AIA     </td><td>0       </td><td>0       </td><td>1       </td><td>0       </td><td>0       </td><td>0       </td><td>0       </td><td>0       </td><td>983,2682</td><td>983,2682</td><td>976,8974</td><td>976,8916</td></tr>\n",
       "\t<tr><td>ABW     </td><td>ALB     </td><td>0       </td><td>0       </td><td>0       </td><td>0       </td><td>0       </td><td>0       </td><td>0       </td><td>0       </td><td>9091,742</td><td>9091,742</td><td>9091,576</td><td>9091,466</td></tr>\n",
       "\t<tr><td>ABW     </td><td>AND     </td><td>0       </td><td>1       </td><td>0       </td><td>0       </td><td>0       </td><td>0       </td><td>0       </td><td>0       </td><td>7572,788</td><td>7572,788</td><td>7570,084</td><td>7570,083</td></tr>\n",
       "</tbody>\n",
       "</table>\n"
      ],
      "text/latex": [
       "\\begin{tabular}{r|llllllllllllll}\n",
       " iso\\_o & iso\\_d & contig & comlang\\_off & comlang\\_ethno & colony & comcol & curcol & col45 & smctry & dist & distcap & distw & distwces\\\\\n",
       "\\hline\n",
       "\t ABW      & ABW      & 0        & 0        & 0        & 0        & 0        & 0        & 0        & 0        & 5,225315 & 5,225315 & 25,09354 & 23,04723\\\\\n",
       "\t ABW      & AFG      & 0        & 0        & 0        & 0        & 0        & 0        & 0        & 0        & 13257,81 & 13257,81 & 13168,22 & 13166,37\\\\\n",
       "\t ABW      & AGO      & 0        & 0        & 0        & 0        & 0        & 0        & 0        & 0        & 9516,913 & 9516,913 & 9587,316 & 9584,193\\\\\n",
       "\t ABW      & AIA      & 0        & 0        & 1        & 0        & 0        & 0        & 0        & 0        & 983,2682 & 983,2682 & 976,8974 & 976,8916\\\\\n",
       "\t ABW      & ALB      & 0        & 0        & 0        & 0        & 0        & 0        & 0        & 0        & 9091,742 & 9091,742 & 9091,576 & 9091,466\\\\\n",
       "\t ABW      & AND      & 0        & 1        & 0        & 0        & 0        & 0        & 0        & 0        & 7572,788 & 7572,788 & 7570,084 & 7570,083\\\\\n",
       "\\end{tabular}\n"
      ],
      "text/markdown": [
       "\n",
       "| iso_o | iso_d | contig | comlang_off | comlang_ethno | colony | comcol | curcol | col45 | smctry | dist | distcap | distw | distwces |\n",
       "|---|---|---|---|---|---|---|---|---|---|---|---|---|---|\n",
       "| ABW      | ABW      | 0        | 0        | 0        | 0        | 0        | 0        | 0        | 0        | 5,225315 | 5,225315 | 25,09354 | 23,04723 |\n",
       "| ABW      | AFG      | 0        | 0        | 0        | 0        | 0        | 0        | 0        | 0        | 13257,81 | 13257,81 | 13168,22 | 13166,37 |\n",
       "| ABW      | AGO      | 0        | 0        | 0        | 0        | 0        | 0        | 0        | 0        | 9516,913 | 9516,913 | 9587,316 | 9584,193 |\n",
       "| ABW      | AIA      | 0        | 0        | 1        | 0        | 0        | 0        | 0        | 0        | 983,2682 | 983,2682 | 976,8974 | 976,8916 |\n",
       "| ABW      | ALB      | 0        | 0        | 0        | 0        | 0        | 0        | 0        | 0        | 9091,742 | 9091,742 | 9091,576 | 9091,466 |\n",
       "| ABW      | AND      | 0        | 1        | 0        | 0        | 0        | 0        | 0        | 0        | 7572,788 | 7572,788 | 7570,084 | 7570,083 |\n",
       "\n"
      ],
      "text/plain": [
       "  iso_o iso_d contig comlang_off comlang_ethno colony comcol curcol col45\n",
       "1 ABW   ABW   0      0           0             0      0      0      0    \n",
       "2 ABW   AFG   0      0           0             0      0      0      0    \n",
       "3 ABW   AGO   0      0           0             0      0      0      0    \n",
       "4 ABW   AIA   0      0           1             0      0      0      0    \n",
       "5 ABW   ALB   0      0           0             0      0      0      0    \n",
       "6 ABW   AND   0      1           0             0      0      0      0    \n",
       "  smctry dist     distcap  distw    distwces\n",
       "1 0      5,225315 5,225315 25,09354 23,04723\n",
       "2 0      13257,81 13257,81 13168,22 13166,37\n",
       "3 0      9516,913 9516,913 9587,316 9584,193\n",
       "4 0      983,2682 983,2682 976,8974 976,8916\n",
       "5 0      9091,742 9091,742 9091,576 9091,466\n",
       "6 0      7572,788 7572,788 7570,084 7570,083"
      ]
     },
     "metadata": {},
     "output_type": "display_data"
    }
   ],
   "source": [
    "dists <- read.csv(\"data/cepii_dist.csv\")\n",
    "\n",
    "head(dists)"
   ]
  },
  {
   "cell_type": "code",
   "execution_count": 10,
   "metadata": {},
   "outputs": [
    {
     "data": {
      "text/html": [
       "<table>\n",
       "<thead><tr><th scope=col>iso_o</th><th scope=col>iso_d</th><th scope=col>contig</th><th scope=col>comlang_off</th><th scope=col>comlang_ethno</th><th scope=col>colony</th><th scope=col>comcol</th><th scope=col>curcol</th><th scope=col>col45</th><th scope=col>smctry</th><th scope=col>dist</th><th scope=col>distcap</th><th scope=col>distw</th><th scope=col>distwces</th></tr></thead>\n",
       "<tbody>\n",
       "\t<tr><td>ARG     </td><td>ARG     </td><td>0       </td><td>0       </td><td>0       </td><td>0       </td><td>0       </td><td>0       </td><td>0       </td><td>0       </td><td>625,6475</td><td>625,6475</td><td>533,9082</td><td>96,14934</td></tr>\n",
       "\t<tr><td>ARG     </td><td>AUS     </td><td>0       </td><td>0       </td><td>0       </td><td>0       </td><td>0       </td><td>0       </td><td>0       </td><td>0       </td><td>11801,36</td><td>11733,88</td><td>12044,57</td><td>12018,27</td></tr>\n",
       "\t<tr><td>ARG     </td><td>BRA     </td><td>1       </td><td>0       </td><td>0       </td><td>0       </td><td>0       </td><td>0       </td><td>0       </td><td>0       </td><td>1691,067</td><td>2353,257</td><td>2391,846</td><td>2089,281</td></tr>\n",
       "\t<tr><td>ARG     </td><td>CHL     </td><td>1       </td><td>1       </td><td>1       </td><td>0       </td><td>0       </td><td>0       </td><td>0       </td><td>0       </td><td>1128,317</td><td>1128,317</td><td>1156,726</td><td>941,6383</td></tr>\n",
       "\t<tr><td>ARG     </td><td>ESP     </td><td>0       </td><td>1       </td><td>1       </td><td>1       </td><td>0       </td><td>0       </td><td>0       </td><td>0       </td><td>10065,85</td><td>10065,85</td><td>10079,66</td><td>10055,9 </td></tr>\n",
       "\t<tr><td>ARG     </td><td>FRA     </td><td>0       </td><td>0       </td><td>0       </td><td>0       </td><td>0       </td><td>0       </td><td>0       </td><td>0       </td><td>11072,25</td><td>11072,25</td><td>10932,34</td><td>10921,86</td></tr>\n",
       "</tbody>\n",
       "</table>\n"
      ],
      "text/latex": [
       "\\begin{tabular}{r|llllllllllllll}\n",
       " iso\\_o & iso\\_d & contig & comlang\\_off & comlang\\_ethno & colony & comcol & curcol & col45 & smctry & dist & distcap & distw & distwces\\\\\n",
       "\\hline\n",
       "\t ARG      & ARG      & 0        & 0        & 0        & 0        & 0        & 0        & 0        & 0        & 625,6475 & 625,6475 & 533,9082 & 96,14934\\\\\n",
       "\t ARG      & AUS      & 0        & 0        & 0        & 0        & 0        & 0        & 0        & 0        & 11801,36 & 11733,88 & 12044,57 & 12018,27\\\\\n",
       "\t ARG      & BRA      & 1        & 0        & 0        & 0        & 0        & 0        & 0        & 0        & 1691,067 & 2353,257 & 2391,846 & 2089,281\\\\\n",
       "\t ARG      & CHL      & 1        & 1        & 1        & 0        & 0        & 0        & 0        & 0        & 1128,317 & 1128,317 & 1156,726 & 941,6383\\\\\n",
       "\t ARG      & ESP      & 0        & 1        & 1        & 1        & 0        & 0        & 0        & 0        & 10065,85 & 10065,85 & 10079,66 & 10055,9 \\\\\n",
       "\t ARG      & FRA      & 0        & 0        & 0        & 0        & 0        & 0        & 0        & 0        & 11072,25 & 11072,25 & 10932,34 & 10921,86\\\\\n",
       "\\end{tabular}\n"
      ],
      "text/markdown": [
       "\n",
       "| iso_o | iso_d | contig | comlang_off | comlang_ethno | colony | comcol | curcol | col45 | smctry | dist | distcap | distw | distwces |\n",
       "|---|---|---|---|---|---|---|---|---|---|---|---|---|---|\n",
       "| ARG      | ARG      | 0        | 0        | 0        | 0        | 0        | 0        | 0        | 0        | 625,6475 | 625,6475 | 533,9082 | 96,14934 |\n",
       "| ARG      | AUS      | 0        | 0        | 0        | 0        | 0        | 0        | 0        | 0        | 11801,36 | 11733,88 | 12044,57 | 12018,27 |\n",
       "| ARG      | BRA      | 1        | 0        | 0        | 0        | 0        | 0        | 0        | 0        | 1691,067 | 2353,257 | 2391,846 | 2089,281 |\n",
       "| ARG      | CHL      | 1        | 1        | 1        | 0        | 0        | 0        | 0        | 0        | 1128,317 | 1128,317 | 1156,726 | 941,6383 |\n",
       "| ARG      | ESP      | 0        | 1        | 1        | 1        | 0        | 0        | 0        | 0        | 10065,85 | 10065,85 | 10079,66 | 10055,9  |\n",
       "| ARG      | FRA      | 0        | 0        | 0        | 0        | 0        | 0        | 0        | 0        | 11072,25 | 11072,25 | 10932,34 | 10921,86 |\n",
       "\n"
      ],
      "text/plain": [
       "  iso_o iso_d contig comlang_off comlang_ethno colony comcol curcol col45\n",
       "1 ARG   ARG   0      0           0             0      0      0      0    \n",
       "2 ARG   AUS   0      0           0             0      0      0      0    \n",
       "3 ARG   BRA   1      0           0             0      0      0      0    \n",
       "4 ARG   CHL   1      1           1             0      0      0      0    \n",
       "5 ARG   ESP   0      1           1             1      0      0      0    \n",
       "6 ARG   FRA   0      0           0             0      0      0      0    \n",
       "  smctry dist     distcap  distw    distwces\n",
       "1 0      625,6475 625,6475 533,9082 96,14934\n",
       "2 0      11801,36 11733,88 12044,57 12018,27\n",
       "3 0      1691,067 2353,257 2391,846 2089,281\n",
       "4 0      1128,317 1128,317 1156,726 941,6383\n",
       "5 0      10065,85 10065,85 10079,66 10055,9 \n",
       "6 0      11072,25 11072,25 10932,34 10921,86"
      ]
     },
     "metadata": {},
     "output_type": "display_data"
    }
   ],
   "source": [
    "dists <- dists %>% filter (iso_o %in% isos3 & iso_d %in% isos3)\n",
    "\n",
    "head(dists)"
   ]
  },
  {
   "cell_type": "markdown",
   "metadata": {},
   "source": [
    "**New variable:**  \n",
    "    *`shared_hist`*: dummy variable indicating whether the two countries have: *`colony, comcol, curcol, col45, smctry`*"
   ]
  },
  {
   "cell_type": "code",
   "execution_count": 11,
   "metadata": {},
   "outputs": [
    {
     "data": {
      "text/html": [
       "<table>\n",
       "<thead><tr><th scope=col>iso_o</th><th scope=col>iso_d</th><th scope=col>contig</th><th scope=col>comlang_off</th><th scope=col>comlang_ethno</th><th scope=col>dist</th><th scope=col>distcap</th><th scope=col>distw</th><th scope=col>distwces</th><th scope=col>shared_hist</th></tr></thead>\n",
       "<tbody>\n",
       "\t<tr><td>ARG     </td><td>ARG     </td><td>0       </td><td>0       </td><td>0       </td><td>625,6475</td><td>625,6475</td><td>533,9082</td><td>96,14934</td><td>0       </td></tr>\n",
       "\t<tr><td>ARG     </td><td>AUS     </td><td>0       </td><td>0       </td><td>0       </td><td>11801,36</td><td>11733,88</td><td>12044,57</td><td>12018,27</td><td>0       </td></tr>\n",
       "\t<tr><td>ARG     </td><td>BRA     </td><td>1       </td><td>0       </td><td>0       </td><td>1691,067</td><td>2353,257</td><td>2391,846</td><td>2089,281</td><td>0       </td></tr>\n",
       "\t<tr><td>ARG     </td><td>CHL     </td><td>1       </td><td>1       </td><td>1       </td><td>1128,317</td><td>1128,317</td><td>1156,726</td><td>941,6383</td><td>0       </td></tr>\n",
       "\t<tr><td>ARG     </td><td>ESP     </td><td>0       </td><td>1       </td><td>1       </td><td>10065,85</td><td>10065,85</td><td>10079,66</td><td>10055,9 </td><td>1       </td></tr>\n",
       "\t<tr><td>ARG     </td><td>FRA     </td><td>0       </td><td>0       </td><td>0       </td><td>11072,25</td><td>11072,25</td><td>10932,34</td><td>10921,86</td><td>0       </td></tr>\n",
       "</tbody>\n",
       "</table>\n"
      ],
      "text/latex": [
       "\\begin{tabular}{r|llllllllll}\n",
       " iso\\_o & iso\\_d & contig & comlang\\_off & comlang\\_ethno & dist & distcap & distw & distwces & shared\\_hist\\\\\n",
       "\\hline\n",
       "\t ARG      & ARG      & 0        & 0        & 0        & 625,6475 & 625,6475 & 533,9082 & 96,14934 & 0       \\\\\n",
       "\t ARG      & AUS      & 0        & 0        & 0        & 11801,36 & 11733,88 & 12044,57 & 12018,27 & 0       \\\\\n",
       "\t ARG      & BRA      & 1        & 0        & 0        & 1691,067 & 2353,257 & 2391,846 & 2089,281 & 0       \\\\\n",
       "\t ARG      & CHL      & 1        & 1        & 1        & 1128,317 & 1128,317 & 1156,726 & 941,6383 & 0       \\\\\n",
       "\t ARG      & ESP      & 0        & 1        & 1        & 10065,85 & 10065,85 & 10079,66 & 10055,9  & 1       \\\\\n",
       "\t ARG      & FRA      & 0        & 0        & 0        & 11072,25 & 11072,25 & 10932,34 & 10921,86 & 0       \\\\\n",
       "\\end{tabular}\n"
      ],
      "text/markdown": [
       "\n",
       "| iso_o | iso_d | contig | comlang_off | comlang_ethno | dist | distcap | distw | distwces | shared_hist |\n",
       "|---|---|---|---|---|---|---|---|---|---|\n",
       "| ARG      | ARG      | 0        | 0        | 0        | 625,6475 | 625,6475 | 533,9082 | 96,14934 | 0        |\n",
       "| ARG      | AUS      | 0        | 0        | 0        | 11801,36 | 11733,88 | 12044,57 | 12018,27 | 0        |\n",
       "| ARG      | BRA      | 1        | 0        | 0        | 1691,067 | 2353,257 | 2391,846 | 2089,281 | 0        |\n",
       "| ARG      | CHL      | 1        | 1        | 1        | 1128,317 | 1128,317 | 1156,726 | 941,6383 | 0        |\n",
       "| ARG      | ESP      | 0        | 1        | 1        | 10065,85 | 10065,85 | 10079,66 | 10055,9  | 1        |\n",
       "| ARG      | FRA      | 0        | 0        | 0        | 11072,25 | 11072,25 | 10932,34 | 10921,86 | 0        |\n",
       "\n"
      ],
      "text/plain": [
       "  iso_o iso_d contig comlang_off comlang_ethno dist     distcap  distw   \n",
       "1 ARG   ARG   0      0           0             625,6475 625,6475 533,9082\n",
       "2 ARG   AUS   0      0           0             11801,36 11733,88 12044,57\n",
       "3 ARG   BRA   1      0           0             1691,067 2353,257 2391,846\n",
       "4 ARG   CHL   1      1           1             1128,317 1128,317 1156,726\n",
       "5 ARG   ESP   0      1           1             10065,85 10065,85 10079,66\n",
       "6 ARG   FRA   0      0           0             11072,25 11072,25 10932,34\n",
       "  distwces shared_hist\n",
       "1 96,14934 0          \n",
       "2 12018,27 0          \n",
       "3 2089,281 0          \n",
       "4 941,6383 0          \n",
       "5 10055,9  1          \n",
       "6 10921,86 0          "
      ]
     },
     "metadata": {},
     "output_type": "display_data"
    }
   ],
   "source": [
    "dists <- dists %>% mutate(shared_hist = ifelse(colony + comcol + curcol + col45 + smctry, 1, 0), .keep = \"unused\")\n",
    "\n",
    "head(dists)"
   ]
  },
  {
   "cell_type": "markdown",
   "metadata": {},
   "source": [
    "#### Population + Area + Geographic distance  + Shared history"
   ]
  },
  {
   "cell_type": "code",
   "execution_count": 12,
   "metadata": {},
   "outputs": [
    {
     "data": {
      "text/html": [
       "<table>\n",
       "<thead><tr><th scope=col>iso_d</th><th scope=col>iso_o</th><th scope=col>contig</th><th scope=col>comlang_off</th><th scope=col>comlang_ethno</th><th scope=col>dist</th><th scope=col>distcap</th><th scope=col>distw</th><th scope=col>distwces</th><th scope=col>shared_hist</th><th scope=col>destination</th><th scope=col>area_d</th><th scope=col>pop_d</th><th scope=col>origin</th><th scope=col>area_o</th><th scope=col>pop_o</th></tr></thead>\n",
       "<tbody>\n",
       "\t<tr><td>ARG      </td><td>ARG      </td><td>0        </td><td>0        </td><td>0        </td><td>625,6475 </td><td>625,6475 </td><td>533,9082 </td><td>96,14934 </td><td>0        </td><td>Argentina</td><td>2766889  </td><td>44780675 </td><td>Argentina</td><td>2766889  </td><td> 44780675</td></tr>\n",
       "\t<tr><td>ARG      </td><td>AUS      </td><td>0        </td><td>0        </td><td>0        </td><td>11801,36 </td><td>11733,88 </td><td>12044,57 </td><td>12018,27 </td><td>0        </td><td>Argentina</td><td>2766889  </td><td>44780675 </td><td>Australia</td><td>7686848  </td><td> 25203200</td></tr>\n",
       "\t<tr><td>ARG      </td><td>BRA      </td><td>1        </td><td>0        </td><td>0        </td><td>1691,067 </td><td>2353,257 </td><td>2391,846 </td><td>2089,281 </td><td>0        </td><td>Argentina</td><td>2766889  </td><td>44780675 </td><td>Brazil   </td><td>8511920  </td><td>211049519</td></tr>\n",
       "\t<tr><td>ARG      </td><td>CHL      </td><td>1        </td><td>1        </td><td>1        </td><td>1128,317 </td><td>1128,317 </td><td>1156,726 </td><td>941,6383 </td><td>0        </td><td>Argentina</td><td>2766889  </td><td>44780675 </td><td>Chile    </td><td> 756945  </td><td> 18952035</td></tr>\n",
       "\t<tr><td>ARG      </td><td>ESP      </td><td>0        </td><td>1        </td><td>1        </td><td>10065,85 </td><td>10065,85 </td><td>10079,66 </td><td>10055,9  </td><td>1        </td><td>Argentina</td><td>2766889  </td><td>44780675 </td><td>Spain    </td><td> 505954  </td><td> 46736782</td></tr>\n",
       "\t<tr><td>ARG      </td><td>FRA      </td><td>0        </td><td>0        </td><td>0        </td><td>11072,25 </td><td>11072,25 </td><td>10932,34 </td><td>10921,86 </td><td>0        </td><td>Argentina</td><td>2766889  </td><td>44780675 </td><td>France   </td><td> 547026  </td><td> 65129731</td></tr>\n",
       "</tbody>\n",
       "</table>\n"
      ],
      "text/latex": [
       "\\begin{tabular}{r|llllllllllllllll}\n",
       " iso\\_d & iso\\_o & contig & comlang\\_off & comlang\\_ethno & dist & distcap & distw & distwces & shared\\_hist & destination & area\\_d & pop\\_d & origin & area\\_o & pop\\_o\\\\\n",
       "\\hline\n",
       "\t ARG       & ARG       & 0         & 0         & 0         & 625,6475  & 625,6475  & 533,9082  & 96,14934  & 0         & Argentina & 2766889   & 44780675  & Argentina & 2766889   &  44780675\\\\\n",
       "\t ARG       & AUS       & 0         & 0         & 0         & 11801,36  & 11733,88  & 12044,57  & 12018,27  & 0         & Argentina & 2766889   & 44780675  & Australia & 7686848   &  25203200\\\\\n",
       "\t ARG       & BRA       & 1         & 0         & 0         & 1691,067  & 2353,257  & 2391,846  & 2089,281  & 0         & Argentina & 2766889   & 44780675  & Brazil    & 8511920   & 211049519\\\\\n",
       "\t ARG       & CHL       & 1         & 1         & 1         & 1128,317  & 1128,317  & 1156,726  & 941,6383  & 0         & Argentina & 2766889   & 44780675  & Chile     &  756945   &  18952035\\\\\n",
       "\t ARG       & ESP       & 0         & 1         & 1         & 10065,85  & 10065,85  & 10079,66  & 10055,9   & 1         & Argentina & 2766889   & 44780675  & Spain     &  505954   &  46736782\\\\\n",
       "\t ARG       & FRA       & 0         & 0         & 0         & 11072,25  & 11072,25  & 10932,34  & 10921,86  & 0         & Argentina & 2766889   & 44780675  & France    &  547026   &  65129731\\\\\n",
       "\\end{tabular}\n"
      ],
      "text/markdown": [
       "\n",
       "| iso_d | iso_o | contig | comlang_off | comlang_ethno | dist | distcap | distw | distwces | shared_hist | destination | area_d | pop_d | origin | area_o | pop_o |\n",
       "|---|---|---|---|---|---|---|---|---|---|---|---|---|---|---|---|\n",
       "| ARG       | ARG       | 0         | 0         | 0         | 625,6475  | 625,6475  | 533,9082  | 96,14934  | 0         | Argentina | 2766889   | 44780675  | Argentina | 2766889   |  44780675 |\n",
       "| ARG       | AUS       | 0         | 0         | 0         | 11801,36  | 11733,88  | 12044,57  | 12018,27  | 0         | Argentina | 2766889   | 44780675  | Australia | 7686848   |  25203200 |\n",
       "| ARG       | BRA       | 1         | 0         | 0         | 1691,067  | 2353,257  | 2391,846  | 2089,281  | 0         | Argentina | 2766889   | 44780675  | Brazil    | 8511920   | 211049519 |\n",
       "| ARG       | CHL       | 1         | 1         | 1         | 1128,317  | 1128,317  | 1156,726  | 941,6383  | 0         | Argentina | 2766889   | 44780675  | Chile     |  756945   |  18952035 |\n",
       "| ARG       | ESP       | 0         | 1         | 1         | 10065,85  | 10065,85  | 10079,66  | 10055,9   | 1         | Argentina | 2766889   | 44780675  | Spain     |  505954   |  46736782 |\n",
       "| ARG       | FRA       | 0         | 0         | 0         | 11072,25  | 11072,25  | 10932,34  | 10921,86  | 0         | Argentina | 2766889   | 44780675  | France    |  547026   |  65129731 |\n",
       "\n"
      ],
      "text/plain": [
       "  iso_d iso_o contig comlang_off comlang_ethno dist     distcap  distw   \n",
       "1 ARG   ARG   0      0           0             625,6475 625,6475 533,9082\n",
       "2 ARG   AUS   0      0           0             11801,36 11733,88 12044,57\n",
       "3 ARG   BRA   1      0           0             1691,067 2353,257 2391,846\n",
       "4 ARG   CHL   1      1           1             1128,317 1128,317 1156,726\n",
       "5 ARG   ESP   0      1           1             10065,85 10065,85 10079,66\n",
       "6 ARG   FRA   0      0           0             11072,25 11072,25 10932,34\n",
       "  distwces shared_hist destination area_d  pop_d    origin    area_o  pop_o    \n",
       "1 96,14934 0           Argentina   2766889 44780675 Argentina 2766889  44780675\n",
       "2 12018,27 0           Argentina   2766889 44780675 Australia 7686848  25203200\n",
       "3 2089,281 0           Argentina   2766889 44780675 Brazil    8511920 211049519\n",
       "4 941,6383 0           Argentina   2766889 44780675 Chile      756945  18952035\n",
       "5 10055,9  1           Argentina   2766889 44780675 Spain      505954  46736782\n",
       "6 10921,86 0           Argentina   2766889 44780675 France     547026  65129731"
      ]
     },
     "metadata": {},
     "output_type": "display_data"
    }
   ],
   "source": [
    "area_pop_gd_d <- area_pop %>% select(!iso2) %>%\n",
    "                               merge(dists, by.x=c(\"iso3\"), by.y=c(\"iso_d\")) %>%\n",
    "                               rename(iso_d = iso3, destination = country, area_d = area, pop_d = population) \n",
    "\n",
    "area_pop_gd_o <- area_pop %>% select(!iso2) %>% \n",
    "                               merge(dists, by.x=c(\"iso3\"), by.y=c(\"iso_o\")) %>%\n",
    "                               rename(iso_o = iso3, origin = country, area_o = area, pop_o = population) \n",
    "\n",
    "area_pop_gdist <- merge(area_pop_gd_d, area_pop_gd_o)\n",
    "\n",
    "head(area_pop_gdist)"
   ]
  },
  {
   "cell_type": "markdown",
   "metadata": {},
   "source": [
    "## Language  \n",
    "### Datasource: [CEPII](http://www.cepii.fr/CEPII/en/bdd_modele/presentation.asp?id=19)   \n",
    "\n",
    "<b>Variables [Sarah's notes]</b>  \n",
    "    *`col`*: common official language (0 or 1); 19 languages considered.    \n",
    "    *`csl`*: p(two random people understand a common language) >= *`cnl`*.  \n",
    "    *`cnl`*: p(two random people share a native language).  \n",
    "    *`lp`*: lexical closeness of native langauges; set to 0 when *`cnl`* is 1 or 0 also set to 0 if there is no dominant native language (e.g. India).  \n",
    "    *`lp1`*: tree based. 4 possibilities, 2 languages belonging to:  \n",
    "        0: separate family trees  \n",
    "        0.25: different branches of same tree (English and French),  \n",
    "        0.50: the same branch (English and German),  \n",
    "        0.75: the same sub-branch (German and Dutch)  \n",
    "    *`lp2`*: lexical similarity of 200 words, continuous scale 0-100 normalized *`lp1`*, *`lp2`* so coefficients are comparable to each other and *`col, prox1, prox2`* are unadjusted versions of *`lp1`* and *`lp2`*?  \n",
    "  "
   ]
  },
  {
   "cell_type": "code",
   "execution_count": 13,
   "metadata": {
    "scrolled": true
   },
   "outputs": [
    {
     "data": {
      "text/html": [
       "<table>\n",
       "<thead><tr><th scope=col>X</th><th scope=col>iso_o</th><th scope=col>country_o</th><th scope=col>iso_d</th><th scope=col>country_d</th><th scope=col>col</th><th scope=col>csl</th><th scope=col>cnl</th><th scope=col>prox1</th><th scope=col>lp1</th><th scope=col>prox2</th><th scope=col>lp2</th><th scope=col>cl</th><th scope=col>cle</th></tr></thead>\n",
       "<tbody>\n",
       "\t<tr><td>1                  </td><td>AFG                </td><td>Afghanistan        </td><td>ALB                </td><td>Albania            </td><td>0                  </td><td>0                  </td><td>0                  </td><td>0.25               </td><td>      NA           </td><td>0.07342058         </td><td>       NA          </td><td>        NA         </td><td>0.08662836         </td></tr>\n",
       "\t<tr><td>2                  </td><td>AFG                </td><td>Afghanistan        </td><td>DZA                </td><td>Algeria            </td><td>0                  </td><td>0                  </td><td>0                  </td><td>0.00               </td><td>0.000000           </td><td>0.08527792         </td><td>0.7640970          </td><td>0.09992715         </td><td>0.10061873         </td></tr>\n",
       "\t<tr><td>3                  </td><td>AFG                </td><td>Afghanistan        </td><td>AND                </td><td>Andorra            </td><td>0                  </td><td>0                  </td><td>0                  </td><td>0.25               </td><td>1.945866           </td><td>0.12025990         </td><td>1.0775385          </td><td>0.14091842         </td><td>0.14189370         </td></tr>\n",
       "\t<tr><td>4                  </td><td>AFG                </td><td>Afghanistan        </td><td>AGO                </td><td>Angola             </td><td>0                  </td><td>0                  </td><td>0                  </td><td>0.25               </td><td>      NA           </td><td>0.11890529         </td><td>       NA          </td><td>        NA         </td><td>0.14029542         </td></tr>\n",
       "\t<tr><td>5                  </td><td>AFG                </td><td>Afghanistan        </td><td>AIA                </td><td>Anguilla           </td><td>0                  </td><td>0                  </td><td>0                  </td><td>0.25               </td><td>      NA           </td><td>0.09291404         </td><td>       NA          </td><td>        NA         </td><td>0.10962854         </td></tr>\n",
       "\t<tr><td>6                  </td><td>AFG                </td><td>Afghanistan        </td><td>ATG                </td><td>Antigua and Barbuda</td><td>0                  </td><td>0                  </td><td>0                  </td><td>0.25               </td><td>1.945866           </td><td>0.09291404         </td><td>0.8325174          </td><td>0.10887503         </td><td>0.10962854         </td></tr>\n",
       "</tbody>\n",
       "</table>\n"
      ],
      "text/latex": [
       "\\begin{tabular}{r|llllllllllllll}\n",
       " X & iso\\_o & country\\_o & iso\\_d & country\\_d & col & csl & cnl & prox1 & lp1 & prox2 & lp2 & cl & cle\\\\\n",
       "\\hline\n",
       "\t 1                   & AFG                 & Afghanistan         & ALB                 & Albania             & 0                   & 0                   & 0                   & 0.25                &       NA            & 0.07342058          &        NA           &         NA          & 0.08662836         \\\\\n",
       "\t 2                   & AFG                 & Afghanistan         & DZA                 & Algeria             & 0                   & 0                   & 0                   & 0.00                & 0.000000            & 0.08527792          & 0.7640970           & 0.09992715          & 0.10061873         \\\\\n",
       "\t 3                   & AFG                 & Afghanistan         & AND                 & Andorra             & 0                   & 0                   & 0                   & 0.25                & 1.945866            & 0.12025990          & 1.0775385           & 0.14091842          & 0.14189370         \\\\\n",
       "\t 4                   & AFG                 & Afghanistan         & AGO                 & Angola              & 0                   & 0                   & 0                   & 0.25                &       NA            & 0.11890529          &        NA           &         NA          & 0.14029542         \\\\\n",
       "\t 5                   & AFG                 & Afghanistan         & AIA                 & Anguilla            & 0                   & 0                   & 0                   & 0.25                &       NA            & 0.09291404          &        NA           &         NA          & 0.10962854         \\\\\n",
       "\t 6                   & AFG                 & Afghanistan         & ATG                 & Antigua and Barbuda & 0                   & 0                   & 0                   & 0.25                & 1.945866            & 0.09291404          & 0.8325174           & 0.10887503          & 0.10962854         \\\\\n",
       "\\end{tabular}\n"
      ],
      "text/markdown": [
       "\n",
       "| X | iso_o | country_o | iso_d | country_d | col | csl | cnl | prox1 | lp1 | prox2 | lp2 | cl | cle |\n",
       "|---|---|---|---|---|---|---|---|---|---|---|---|---|---|\n",
       "| 1                   | AFG                 | Afghanistan         | ALB                 | Albania             | 0                   | 0                   | 0                   | 0.25                |       NA            | 0.07342058          |        NA           |         NA          | 0.08662836          |\n",
       "| 2                   | AFG                 | Afghanistan         | DZA                 | Algeria             | 0                   | 0                   | 0                   | 0.00                | 0.000000            | 0.08527792          | 0.7640970           | 0.09992715          | 0.10061873          |\n",
       "| 3                   | AFG                 | Afghanistan         | AND                 | Andorra             | 0                   | 0                   | 0                   | 0.25                | 1.945866            | 0.12025990          | 1.0775385           | 0.14091842          | 0.14189370          |\n",
       "| 4                   | AFG                 | Afghanistan         | AGO                 | Angola              | 0                   | 0                   | 0                   | 0.25                |       NA            | 0.11890529          |        NA           |         NA          | 0.14029542          |\n",
       "| 5                   | AFG                 | Afghanistan         | AIA                 | Anguilla            | 0                   | 0                   | 0                   | 0.25                |       NA            | 0.09291404          |        NA           |         NA          | 0.10962854          |\n",
       "| 6                   | AFG                 | Afghanistan         | ATG                 | Antigua and Barbuda | 0                   | 0                   | 0                   | 0.25                | 1.945866            | 0.09291404          | 0.8325174           | 0.10887503          | 0.10962854          |\n",
       "\n"
      ],
      "text/plain": [
       "  X iso_o country_o   iso_d country_d           col csl cnl prox1 lp1     \n",
       "1 1 AFG   Afghanistan ALB   Albania             0   0   0   0.25        NA\n",
       "2 2 AFG   Afghanistan DZA   Algeria             0   0   0   0.00  0.000000\n",
       "3 3 AFG   Afghanistan AND   Andorra             0   0   0   0.25  1.945866\n",
       "4 4 AFG   Afghanistan AGO   Angola              0   0   0   0.25        NA\n",
       "5 5 AFG   Afghanistan AIA   Anguilla            0   0   0   0.25        NA\n",
       "6 6 AFG   Afghanistan ATG   Antigua and Barbuda 0   0   0   0.25  1.945866\n",
       "  prox2      lp2       cl         cle       \n",
       "1 0.07342058        NA         NA 0.08662836\n",
       "2 0.08527792 0.7640970 0.09992715 0.10061873\n",
       "3 0.12025990 1.0775385 0.14091842 0.14189370\n",
       "4 0.11890529        NA         NA 0.14029542\n",
       "5 0.09291404        NA         NA 0.10962854\n",
       "6 0.09291404 0.8325174 0.10887503 0.10962854"
      ]
     },
     "metadata": {},
     "output_type": "display_data"
    }
   ],
   "source": [
    "langs <- read.csv(\"data/cepii_language.csv\")\n",
    "\n",
    "head(langs)"
   ]
  },
  {
   "cell_type": "code",
   "execution_count": 14,
   "metadata": {},
   "outputs": [
    {
     "data": {
      "text/html": [
       "<table>\n",
       "<thead><tr><th scope=col>X</th><th scope=col>iso_o</th><th scope=col>country_o</th><th scope=col>iso_d</th><th scope=col>country_d</th><th scope=col>col</th><th scope=col>csl</th><th scope=col>cnl</th><th scope=col>prox1</th><th scope=col>lp1</th><th scope=col>prox2</th><th scope=col>lp2</th><th scope=col>cl</th><th scope=col>cle</th></tr></thead>\n",
       "<tbody>\n",
       "\t<tr><td>1368      </td><td>ARG       </td><td>Argentina </td><td>AUS       </td><td>Australia </td><td>0         </td><td>0.02058416</td><td>0.00080000</td><td>0.25      </td><td>1.945866  </td><td>0.13052547</td><td>1.1695188 </td><td>0.15362507</td><td>0.15468276</td></tr>\n",
       "\t<tr><td>1383      </td><td>ARG       </td><td>Argentina </td><td>BRA       </td><td>Brazil    </td><td>0         </td><td>0.06052872</td><td>0.00080000</td><td>0.75      </td><td>5.837599  </td><td>0.42439765</td><td>3.8026376 </td><td>0.49770382</td><td>0.50114280</td></tr>\n",
       "\t<tr><td>1396      </td><td>ARG       </td><td>Argentina </td><td>CHL       </td><td>Chile     </td><td>1         </td><td>0.98010004</td><td>0.85439998</td><td>0.00      </td><td>0.000000  </td><td>0.00000000</td><td>0.0000000 </td><td>0.87344128</td><td>0.87256539</td></tr>\n",
       "\t<tr><td>1422      </td><td>ARG       </td><td>Argentina </td><td>FRA       </td><td>France    </td><td>0         </td><td>0.13392781</td><td>0.01039232</td><td>0.50      </td><td>3.891733  </td><td>0.25450581</td><td>2.2803929 </td><td>0.30551848</td><td>0.30756098</td></tr>\n",
       "\t<tr><td>1441      </td><td>ARG       </td><td>Argentina </td><td>IDN       </td><td>Indonesia </td><td>0         </td><td>0.00000000</td><td>0.00000000</td><td>0.00      </td><td>0.000000  </td><td>0.07436915</td><td>0.6663537 </td><td>0.08714446</td><td>0.08774757</td></tr>\n",
       "\t<tr><td>1448      </td><td>ARG       </td><td>Argentina </td><td>JPN       </td><td>Japan     </td><td>0         </td><td>0.00000000</td><td>0.00000000</td><td>0.00      </td><td>0.000000  </td><td>0.06896222</td><td>0.6179070 </td><td>0.08080870</td><td>0.08136797</td></tr>\n",
       "</tbody>\n",
       "</table>\n"
      ],
      "text/latex": [
       "\\begin{tabular}{r|llllllllllllll}\n",
       " X & iso\\_o & country\\_o & iso\\_d & country\\_d & col & csl & cnl & prox1 & lp1 & prox2 & lp2 & cl & cle\\\\\n",
       "\\hline\n",
       "\t 1368       & ARG        & Argentina  & AUS        & Australia  & 0          & 0.02058416 & 0.00080000 & 0.25       & 1.945866   & 0.13052547 & 1.1695188  & 0.15362507 & 0.15468276\\\\\n",
       "\t 1383       & ARG        & Argentina  & BRA        & Brazil     & 0          & 0.06052872 & 0.00080000 & 0.75       & 5.837599   & 0.42439765 & 3.8026376  & 0.49770382 & 0.50114280\\\\\n",
       "\t 1396       & ARG        & Argentina  & CHL        & Chile      & 1          & 0.98010004 & 0.85439998 & 0.00       & 0.000000   & 0.00000000 & 0.0000000  & 0.87344128 & 0.87256539\\\\\n",
       "\t 1422       & ARG        & Argentina  & FRA        & France     & 0          & 0.13392781 & 0.01039232 & 0.50       & 3.891733   & 0.25450581 & 2.2803929  & 0.30551848 & 0.30756098\\\\\n",
       "\t 1441       & ARG        & Argentina  & IDN        & Indonesia  & 0          & 0.00000000 & 0.00000000 & 0.00       & 0.000000   & 0.07436915 & 0.6663537  & 0.08714446 & 0.08774757\\\\\n",
       "\t 1448       & ARG        & Argentina  & JPN        & Japan      & 0          & 0.00000000 & 0.00000000 & 0.00       & 0.000000   & 0.06896222 & 0.6179070  & 0.08080870 & 0.08136797\\\\\n",
       "\\end{tabular}\n"
      ],
      "text/markdown": [
       "\n",
       "| X | iso_o | country_o | iso_d | country_d | col | csl | cnl | prox1 | lp1 | prox2 | lp2 | cl | cle |\n",
       "|---|---|---|---|---|---|---|---|---|---|---|---|---|---|\n",
       "| 1368       | ARG        | Argentina  | AUS        | Australia  | 0          | 0.02058416 | 0.00080000 | 0.25       | 1.945866   | 0.13052547 | 1.1695188  | 0.15362507 | 0.15468276 |\n",
       "| 1383       | ARG        | Argentina  | BRA        | Brazil     | 0          | 0.06052872 | 0.00080000 | 0.75       | 5.837599   | 0.42439765 | 3.8026376  | 0.49770382 | 0.50114280 |\n",
       "| 1396       | ARG        | Argentina  | CHL        | Chile      | 1          | 0.98010004 | 0.85439998 | 0.00       | 0.000000   | 0.00000000 | 0.0000000  | 0.87344128 | 0.87256539 |\n",
       "| 1422       | ARG        | Argentina  | FRA        | France     | 0          | 0.13392781 | 0.01039232 | 0.50       | 3.891733   | 0.25450581 | 2.2803929  | 0.30551848 | 0.30756098 |\n",
       "| 1441       | ARG        | Argentina  | IDN        | Indonesia  | 0          | 0.00000000 | 0.00000000 | 0.00       | 0.000000   | 0.07436915 | 0.6663537  | 0.08714446 | 0.08774757 |\n",
       "| 1448       | ARG        | Argentina  | JPN        | Japan      | 0          | 0.00000000 | 0.00000000 | 0.00       | 0.000000   | 0.06896222 | 0.6179070  | 0.08080870 | 0.08136797 |\n",
       "\n"
      ],
      "text/plain": [
       "  X    iso_o country_o iso_d country_d col csl        cnl        prox1 lp1     \n",
       "1 1368 ARG   Argentina AUS   Australia 0   0.02058416 0.00080000 0.25  1.945866\n",
       "2 1383 ARG   Argentina BRA   Brazil    0   0.06052872 0.00080000 0.75  5.837599\n",
       "3 1396 ARG   Argentina CHL   Chile     1   0.98010004 0.85439998 0.00  0.000000\n",
       "4 1422 ARG   Argentina FRA   France    0   0.13392781 0.01039232 0.50  3.891733\n",
       "5 1441 ARG   Argentina IDN   Indonesia 0   0.00000000 0.00000000 0.00  0.000000\n",
       "6 1448 ARG   Argentina JPN   Japan     0   0.00000000 0.00000000 0.00  0.000000\n",
       "  prox2      lp2       cl         cle       \n",
       "1 0.13052547 1.1695188 0.15362507 0.15468276\n",
       "2 0.42439765 3.8026376 0.49770382 0.50114280\n",
       "3 0.00000000 0.0000000 0.87344128 0.87256539\n",
       "4 0.25450581 2.2803929 0.30551848 0.30756098\n",
       "5 0.07436915 0.6663537 0.08714446 0.08774757\n",
       "6 0.06896222 0.6179070 0.08080870 0.08136797"
      ]
     },
     "metadata": {},
     "output_type": "display_data"
    }
   ],
   "source": [
    "langs <- langs %>% filter (iso_o %in% isos3 & iso_d %in% isos3)\n",
    "\n",
    "head(langs)"
   ]
  },
  {
   "cell_type": "markdown",
   "metadata": {},
   "source": [
    "#### Population + Area + Geographic distance + Shared history +  Language"
   ]
  },
  {
   "cell_type": "code",
   "execution_count": 15,
   "metadata": {},
   "outputs": [
    {
     "data": {
      "text/html": [
       "<table>\n",
       "<thead><tr><th scope=col>iso_o</th><th scope=col>iso_d</th><th scope=col>col</th><th scope=col>csl</th><th scope=col>cnl</th><th scope=col>prox1</th><th scope=col>lp1</th><th scope=col>prox2</th><th scope=col>lp2</th><th scope=col>cl</th><th scope=col>...</th><th scope=col>distcap</th><th scope=col>distw</th><th scope=col>distwces</th><th scope=col>shared_hist</th><th scope=col>destination</th><th scope=col>area_d</th><th scope=col>pop_d</th><th scope=col>origin</th><th scope=col>area_o</th><th scope=col>pop_o</th></tr></thead>\n",
       "<tbody>\n",
       "\t<tr><td>ARG          </td><td>AUS          </td><td>0            </td><td>0.02058416   </td><td>0.00080000   </td><td>0.25         </td><td>1.945866     </td><td>0.1305255    </td><td>1.169519     </td><td>0.1536251    </td><td>...          </td><td>11733,88     </td><td>12044,57     </td><td>12018,27     </td><td>0            </td><td>Australia    </td><td>7686848      </td><td> 25203200    </td><td>Argentina    </td><td>2766889      </td><td>44780675     </td></tr>\n",
       "\t<tr><td>ARG          </td><td>BRA          </td><td>0            </td><td>0.06052872   </td><td>0.00080000   </td><td>0.75         </td><td>5.837599     </td><td>0.4243976    </td><td>3.802638     </td><td>0.4977038    </td><td>...          </td><td>2353,257     </td><td>2391,846     </td><td>2089,281     </td><td>0            </td><td>Brazil       </td><td>8511920      </td><td>211049519    </td><td>Argentina    </td><td>2766889      </td><td>44780675     </td></tr>\n",
       "\t<tr><td>ARG          </td><td>CHL          </td><td>1            </td><td>0.98010004   </td><td>0.85439998   </td><td>0.00         </td><td>0.000000     </td><td>0.0000000    </td><td>0.000000     </td><td>0.8734413    </td><td>...          </td><td>1128,317     </td><td>1156,726     </td><td>941,6383     </td><td>0            </td><td>Chile        </td><td> 756945      </td><td> 18952035    </td><td>Argentina    </td><td>2766889      </td><td>44780675     </td></tr>\n",
       "\t<tr><td>ARG          </td><td>ESP          </td><td>1            </td><td>0.98013985   </td><td>0.85445821   </td><td>0.00         </td><td>0.000000     </td><td>0.0000000    </td><td>0.000000     </td><td>0.8734919    </td><td>...          </td><td>10065,85     </td><td>10079,66     </td><td>10055,9      </td><td>1            </td><td>Spain        </td><td> 505954      </td><td> 46736782    </td><td>Argentina    </td><td>2766889      </td><td>44780675     </td></tr>\n",
       "\t<tr><td>ARG          </td><td>FRA          </td><td>0            </td><td>0.13392781   </td><td>0.01039232   </td><td>0.50         </td><td>3.891733     </td><td>0.2545058    </td><td>2.280393     </td><td>0.3055185    </td><td>...          </td><td>11072,25     </td><td>10932,34     </td><td>10921,86     </td><td>0            </td><td>France       </td><td> 547026      </td><td> 65129731    </td><td>Argentina    </td><td>2766889      </td><td>44780675     </td></tr>\n",
       "\t<tr><td>ARG          </td><td>GBR          </td><td>0            </td><td>0.08325152   </td><td>0.00000000   </td><td>0.25         </td><td>1.945866     </td><td>0.1305255    </td><td>1.169519     </td><td>0.1529474    </td><td>...          </td><td>11147,48     </td><td>11136,96     </td><td>11128,22     </td><td>0            </td><td>Great Britain</td><td> 244110      </td><td> 67530161    </td><td>Argentina    </td><td>2766889      </td><td>44780675     </td></tr>\n",
       "</tbody>\n",
       "</table>\n"
      ],
      "text/latex": [
       "\\begin{tabular}{r|lllllllllllllllllllllllll}\n",
       " iso\\_o & iso\\_d & col & csl & cnl & prox1 & lp1 & prox2 & lp2 & cl & ... & distcap & distw & distwces & shared\\_hist & destination & area\\_d & pop\\_d & origin & area\\_o & pop\\_o\\\\\n",
       "\\hline\n",
       "\t ARG           & AUS           & 0             & 0.02058416    & 0.00080000    & 0.25          & 1.945866      & 0.1305255     & 1.169519      & 0.1536251     & ...           & 11733,88      & 12044,57      & 12018,27      & 0             & Australia     & 7686848       &  25203200     & Argentina     & 2766889       & 44780675     \\\\\n",
       "\t ARG           & BRA           & 0             & 0.06052872    & 0.00080000    & 0.75          & 5.837599      & 0.4243976     & 3.802638      & 0.4977038     & ...           & 2353,257      & 2391,846      & 2089,281      & 0             & Brazil        & 8511920       & 211049519     & Argentina     & 2766889       & 44780675     \\\\\n",
       "\t ARG           & CHL           & 1             & 0.98010004    & 0.85439998    & 0.00          & 0.000000      & 0.0000000     & 0.000000      & 0.8734413     & ...           & 1128,317      & 1156,726      & 941,6383      & 0             & Chile         &  756945       &  18952035     & Argentina     & 2766889       & 44780675     \\\\\n",
       "\t ARG           & ESP           & 1             & 0.98013985    & 0.85445821    & 0.00          & 0.000000      & 0.0000000     & 0.000000      & 0.8734919     & ...           & 10065,85      & 10079,66      & 10055,9       & 1             & Spain         &  505954       &  46736782     & Argentina     & 2766889       & 44780675     \\\\\n",
       "\t ARG           & FRA           & 0             & 0.13392781    & 0.01039232    & 0.50          & 3.891733      & 0.2545058     & 2.280393      & 0.3055185     & ...           & 11072,25      & 10932,34      & 10921,86      & 0             & France        &  547026       &  65129731     & Argentina     & 2766889       & 44780675     \\\\\n",
       "\t ARG           & GBR           & 0             & 0.08325152    & 0.00000000    & 0.25          & 1.945866      & 0.1305255     & 1.169519      & 0.1529474     & ...           & 11147,48      & 11136,96      & 11128,22      & 0             & Great Britain &  244110       &  67530161     & Argentina     & 2766889       & 44780675     \\\\\n",
       "\\end{tabular}\n"
      ],
      "text/markdown": [
       "\n",
       "| iso_o | iso_d | col | csl | cnl | prox1 | lp1 | prox2 | lp2 | cl | ... | distcap | distw | distwces | shared_hist | destination | area_d | pop_d | origin | area_o | pop_o |\n",
       "|---|---|---|---|---|---|---|---|---|---|---|---|---|---|---|---|---|---|---|---|---|\n",
       "| ARG           | AUS           | 0             | 0.02058416    | 0.00080000    | 0.25          | 1.945866      | 0.1305255     | 1.169519      | 0.1536251     | ...           | 11733,88      | 12044,57      | 12018,27      | 0             | Australia     | 7686848       |  25203200     | Argentina     | 2766889       | 44780675      |\n",
       "| ARG           | BRA           | 0             | 0.06052872    | 0.00080000    | 0.75          | 5.837599      | 0.4243976     | 3.802638      | 0.4977038     | ...           | 2353,257      | 2391,846      | 2089,281      | 0             | Brazil        | 8511920       | 211049519     | Argentina     | 2766889       | 44780675      |\n",
       "| ARG           | CHL           | 1             | 0.98010004    | 0.85439998    | 0.00          | 0.000000      | 0.0000000     | 0.000000      | 0.8734413     | ...           | 1128,317      | 1156,726      | 941,6383      | 0             | Chile         |  756945       |  18952035     | Argentina     | 2766889       | 44780675      |\n",
       "| ARG           | ESP           | 1             | 0.98013985    | 0.85445821    | 0.00          | 0.000000      | 0.0000000     | 0.000000      | 0.8734919     | ...           | 10065,85      | 10079,66      | 10055,9       | 1             | Spain         |  505954       |  46736782     | Argentina     | 2766889       | 44780675      |\n",
       "| ARG           | FRA           | 0             | 0.13392781    | 0.01039232    | 0.50          | 3.891733      | 0.2545058     | 2.280393      | 0.3055185     | ...           | 11072,25      | 10932,34      | 10921,86      | 0             | France        |  547026       |  65129731     | Argentina     | 2766889       | 44780675      |\n",
       "| ARG           | GBR           | 0             | 0.08325152    | 0.00000000    | 0.25          | 1.945866      | 0.1305255     | 1.169519      | 0.1529474     | ...           | 11147,48      | 11136,96      | 11128,22      | 0             | Great Britain |  244110       |  67530161     | Argentina     | 2766889       | 44780675      |\n",
       "\n"
      ],
      "text/plain": [
       "  iso_o iso_d col csl        cnl        prox1 lp1      prox2     lp2     \n",
       "1 ARG   AUS   0   0.02058416 0.00080000 0.25  1.945866 0.1305255 1.169519\n",
       "2 ARG   BRA   0   0.06052872 0.00080000 0.75  5.837599 0.4243976 3.802638\n",
       "3 ARG   CHL   1   0.98010004 0.85439998 0.00  0.000000 0.0000000 0.000000\n",
       "4 ARG   ESP   1   0.98013985 0.85445821 0.00  0.000000 0.0000000 0.000000\n",
       "5 ARG   FRA   0   0.13392781 0.01039232 0.50  3.891733 0.2545058 2.280393\n",
       "6 ARG   GBR   0   0.08325152 0.00000000 0.25  1.945866 0.1305255 1.169519\n",
       "  cl        ... distcap  distw    distwces shared_hist destination   area_d \n",
       "1 0.1536251 ... 11733,88 12044,57 12018,27 0           Australia     7686848\n",
       "2 0.4977038 ... 2353,257 2391,846 2089,281 0           Brazil        8511920\n",
       "3 0.8734413 ... 1128,317 1156,726 941,6383 0           Chile          756945\n",
       "4 0.8734919 ... 10065,85 10079,66 10055,9  1           Spain          505954\n",
       "5 0.3055185 ... 11072,25 10932,34 10921,86 0           France         547026\n",
       "6 0.1529474 ... 11147,48 11136,96 11128,22 0           Great Britain  244110\n",
       "  pop_d     origin    area_o  pop_o   \n",
       "1  25203200 Argentina 2766889 44780675\n",
       "2 211049519 Argentina 2766889 44780675\n",
       "3  18952035 Argentina 2766889 44780675\n",
       "4  46736782 Argentina 2766889 44780675\n",
       "5  65129731 Argentina 2766889 44780675\n",
       "6  67530161 Argentina 2766889 44780675"
      ]
     },
     "metadata": {},
     "output_type": "display_data"
    }
   ],
   "source": [
    "area_pop_gdist_lang <- langs %>% select(!c(X, country_o, country_d)) %>%\n",
    "                                merge(area_pop_gdist)\n",
    "\n",
    "head(area_pop_gdist_lang)"
   ]
  },
  {
   "cell_type": "markdown",
   "metadata": {},
   "source": [
    "## GDP (constant 2010) 2019  \n",
    "### Datasource: [World Bank](https://databank.worldbank.org/source/world-development-indicators)\n",
    "\n",
    "*`GDP`*: GDP (constant 2010) in 2019 in US$\n",
    "\n",
    "GDP at purchaser's prices is the sum of gross value added by all resident producers in the economy plus any product taxes and minus any subsidies not included in the value of the products. It is calculated without making deductions for depreciation of fabricated assets or for depletion and degradation of natural resources. Data are in constant 2010 U.S. dollars. Dollar figures for GDP are converted from domestic currencies using 2010 official exchange rates. For a few countries where the official exchange rate does not reflect the rate effectively applied to actual foreign exchange transactions, an alternative conversion factor is used."
   ]
  },
  {
   "cell_type": "code",
   "execution_count": 16,
   "metadata": {},
   "outputs": [
    {
     "data": {
      "text/html": [
       "<table>\n",
       "<thead><tr><th scope=col>iso_country</th><th scope=col>GDP</th></tr></thead>\n",
       "<tbody>\n",
       "\t<tr><td>AUS         </td><td>1.450499e+12</td></tr>\n",
       "\t<tr><td>ARG         </td><td>4.378134e+11</td></tr>\n",
       "\t<tr><td>BRA         </td><td>2.364446e+12</td></tr>\n",
       "\t<tr><td>CHL         </td><td>2.850370e+11</td></tr>\n",
       "\t<tr><td>FRA         </td><td>2.971919e+12</td></tr>\n",
       "\t<tr><td>IDN         </td><td>1.204457e+12</td></tr>\n",
       "</tbody>\n",
       "</table>\n"
      ],
      "text/latex": [
       "\\begin{tabular}{r|ll}\n",
       " iso\\_country & GDP\\\\\n",
       "\\hline\n",
       "\t AUS          & 1.450499e+12\\\\\n",
       "\t ARG          & 4.378134e+11\\\\\n",
       "\t BRA          & 2.364446e+12\\\\\n",
       "\t CHL          & 2.850370e+11\\\\\n",
       "\t FRA          & 2.971919e+12\\\\\n",
       "\t IDN          & 1.204457e+12\\\\\n",
       "\\end{tabular}\n"
      ],
      "text/markdown": [
       "\n",
       "| iso_country | GDP |\n",
       "|---|---|\n",
       "| AUS          | 1.450499e+12 |\n",
       "| ARG          | 4.378134e+11 |\n",
       "| BRA          | 2.364446e+12 |\n",
       "| CHL          | 2.850370e+11 |\n",
       "| FRA          | 2.971919e+12 |\n",
       "| IDN          | 1.204457e+12 |\n",
       "\n"
      ],
      "text/plain": [
       "  iso_country GDP         \n",
       "1 AUS         1.450499e+12\n",
       "2 ARG         4.378134e+11\n",
       "3 BRA         2.364446e+12\n",
       "4 CHL         2.850370e+11\n",
       "5 FRA         2.971919e+12\n",
       "6 IDN         1.204457e+12"
      ]
     },
     "metadata": {},
     "output_type": "display_data"
    }
   ],
   "source": [
    "gdp <- read_csv(\"data/subset-GDP_constant2010-wb2019.csv\", col_types = cols())\n",
    "\n",
    "head(gdp)"
   ]
  },
  {
   "cell_type": "code",
   "execution_count": 17,
   "metadata": {},
   "outputs": [
    {
     "data": {
      "text/html": [
       "<table>\n",
       "<thead><tr><th scope=col>iso_d</th><th scope=col>iso_o</th><th scope=col>col</th><th scope=col>csl</th><th scope=col>cnl</th><th scope=col>prox1</th><th scope=col>lp1</th><th scope=col>prox2</th><th scope=col>lp2</th><th scope=col>cl</th><th scope=col>...</th><th scope=col>distwces</th><th scope=col>shared_hist</th><th scope=col>destination</th><th scope=col>area_d</th><th scope=col>pop_d</th><th scope=col>origin</th><th scope=col>area_o</th><th scope=col>pop_o</th><th scope=col>GDP_o</th><th scope=col>GDP_d</th></tr></thead>\n",
       "<tbody>\n",
       "\t<tr><td>ARG          </td><td>CHL          </td><td>1            </td><td>0.98010004   </td><td>0.8544       </td><td>0.00         </td><td>0.000000     </td><td>0.0000000    </td><td>0.000000     </td><td>0.8734413    </td><td>...          </td><td>941,6383     </td><td>0            </td><td>Argentina    </td><td>2766889      </td><td>44780675     </td><td>Chile        </td><td> 756945      </td><td> 18952035    </td><td>2.850370e+11 </td><td>437813398163 </td></tr>\n",
       "\t<tr><td>ARG          </td><td>GBR          </td><td>0            </td><td>0.08325152   </td><td>0.0000       </td><td>0.25         </td><td>1.945866     </td><td>0.1305255    </td><td>1.169519     </td><td>0.1529474    </td><td>...          </td><td>11128,22     </td><td>0            </td><td>Argentina    </td><td>2766889      </td><td>44780675     </td><td>Great Britain</td><td> 244110      </td><td> 67530161    </td><td>2.913557e+12 </td><td>437813398163 </td></tr>\n",
       "\t<tr><td>ARG          </td><td>AUS          </td><td>0            </td><td>0.02058416   </td><td>0.0008       </td><td>0.25         </td><td>1.945866     </td><td>0.1305255    </td><td>1.169519     </td><td>0.1536251    </td><td>...          </td><td>12018,27     </td><td>0            </td><td>Argentina    </td><td>2766889      </td><td>44780675     </td><td>Australia    </td><td>7686848      </td><td> 25203200    </td><td>1.450499e+12 </td><td>437813398163 </td></tr>\n",
       "\t<tr><td>ARG          </td><td>KOR          </td><td>0            </td><td>0.00000000   </td><td>0.0000       </td><td>0.00         </td><td>0.000000     </td><td>0.0000000    </td><td>0.000000     </td><td>0.0000000    </td><td>...          </td><td>19137,75     </td><td>0            </td><td>Argentina    </td><td>2766889      </td><td>44780675     </td><td>South Korea  </td><td>  99484      </td><td> 51225321    </td><td>1.482760e+12 </td><td>437813398163 </td></tr>\n",
       "\t<tr><td>ARG          </td><td>BRA          </td><td>0            </td><td>0.06052872   </td><td>0.0008       </td><td>0.75         </td><td>5.837599     </td><td>0.4243976    </td><td>3.802638     </td><td>0.4977038    </td><td>...          </td><td>2089,281     </td><td>0            </td><td>Argentina    </td><td>2766889      </td><td>44780675     </td><td>Brazil       </td><td>8511920      </td><td>211049519    </td><td>2.364446e+12 </td><td>437813398163 </td></tr>\n",
       "\t<tr><td>ARG          </td><td>MEX          </td><td>1            </td><td>0.98010004   </td><td>0.8832       </td><td>0.00         </td><td>0.000000     </td><td>0.0000000    </td><td>0.000000     </td><td>0.8984749    </td><td>...          </td><td>7460,572     </td><td>0            </td><td>Argentina    </td><td>2766889      </td><td>44780675     </td><td>Mexico       </td><td>1967210      </td><td>127575529    </td><td>1.309882e+12 </td><td>437813398163 </td></tr>\n",
       "</tbody>\n",
       "</table>\n"
      ],
      "text/latex": [
       "\\begin{tabular}{r|lllllllllllllllllllllllllll}\n",
       " iso\\_d & iso\\_o & col & csl & cnl & prox1 & lp1 & prox2 & lp2 & cl & ... & distwces & shared\\_hist & destination & area\\_d & pop\\_d & origin & area\\_o & pop\\_o & GDP\\_o & GDP\\_d\\\\\n",
       "\\hline\n",
       "\t ARG           & CHL           & 1             & 0.98010004    & 0.8544        & 0.00          & 0.000000      & 0.0000000     & 0.000000      & 0.8734413     & ...           & 941,6383      & 0             & Argentina     & 2766889       & 44780675      & Chile         &  756945       &  18952035     & 2.850370e+11  & 437813398163 \\\\\n",
       "\t ARG           & GBR           & 0             & 0.08325152    & 0.0000        & 0.25          & 1.945866      & 0.1305255     & 1.169519      & 0.1529474     & ...           & 11128,22      & 0             & Argentina     & 2766889       & 44780675      & Great Britain &  244110       &  67530161     & 2.913557e+12  & 437813398163 \\\\\n",
       "\t ARG           & AUS           & 0             & 0.02058416    & 0.0008        & 0.25          & 1.945866      & 0.1305255     & 1.169519      & 0.1536251     & ...           & 12018,27      & 0             & Argentina     & 2766889       & 44780675      & Australia     & 7686848       &  25203200     & 1.450499e+12  & 437813398163 \\\\\n",
       "\t ARG           & KOR           & 0             & 0.00000000    & 0.0000        & 0.00          & 0.000000      & 0.0000000     & 0.000000      & 0.0000000     & ...           & 19137,75      & 0             & Argentina     & 2766889       & 44780675      & South Korea   &   99484       &  51225321     & 1.482760e+12  & 437813398163 \\\\\n",
       "\t ARG           & BRA           & 0             & 0.06052872    & 0.0008        & 0.75          & 5.837599      & 0.4243976     & 3.802638      & 0.4977038     & ...           & 2089,281      & 0             & Argentina     & 2766889       & 44780675      & Brazil        & 8511920       & 211049519     & 2.364446e+12  & 437813398163 \\\\\n",
       "\t ARG           & MEX           & 1             & 0.98010004    & 0.8832        & 0.00          & 0.000000      & 0.0000000     & 0.000000      & 0.8984749     & ...           & 7460,572      & 0             & Argentina     & 2766889       & 44780675      & Mexico        & 1967210       & 127575529     & 1.309882e+12  & 437813398163 \\\\\n",
       "\\end{tabular}\n"
      ],
      "text/markdown": [
       "\n",
       "| iso_d | iso_o | col | csl | cnl | prox1 | lp1 | prox2 | lp2 | cl | ... | distwces | shared_hist | destination | area_d | pop_d | origin | area_o | pop_o | GDP_o | GDP_d |\n",
       "|---|---|---|---|---|---|---|---|---|---|---|---|---|---|---|---|---|---|---|---|---|\n",
       "| ARG           | CHL           | 1             | 0.98010004    | 0.8544        | 0.00          | 0.000000      | 0.0000000     | 0.000000      | 0.8734413     | ...           | 941,6383      | 0             | Argentina     | 2766889       | 44780675      | Chile         |  756945       |  18952035     | 2.850370e+11  | 437813398163  |\n",
       "| ARG           | GBR           | 0             | 0.08325152    | 0.0000        | 0.25          | 1.945866      | 0.1305255     | 1.169519      | 0.1529474     | ...           | 11128,22      | 0             | Argentina     | 2766889       | 44780675      | Great Britain |  244110       |  67530161     | 2.913557e+12  | 437813398163  |\n",
       "| ARG           | AUS           | 0             | 0.02058416    | 0.0008        | 0.25          | 1.945866      | 0.1305255     | 1.169519      | 0.1536251     | ...           | 12018,27      | 0             | Argentina     | 2766889       | 44780675      | Australia     | 7686848       |  25203200     | 1.450499e+12  | 437813398163  |\n",
       "| ARG           | KOR           | 0             | 0.00000000    | 0.0000        | 0.00          | 0.000000      | 0.0000000     | 0.000000      | 0.0000000     | ...           | 19137,75      | 0             | Argentina     | 2766889       | 44780675      | South Korea   |   99484       |  51225321     | 1.482760e+12  | 437813398163  |\n",
       "| ARG           | BRA           | 0             | 0.06052872    | 0.0008        | 0.75          | 5.837599      | 0.4243976     | 3.802638      | 0.4977038     | ...           | 2089,281      | 0             | Argentina     | 2766889       | 44780675      | Brazil        | 8511920       | 211049519     | 2.364446e+12  | 437813398163  |\n",
       "| ARG           | MEX           | 1             | 0.98010004    | 0.8832        | 0.00          | 0.000000      | 0.0000000     | 0.000000      | 0.8984749     | ...           | 7460,572      | 0             | Argentina     | 2766889       | 44780675      | Mexico        | 1967210       | 127575529     | 1.309882e+12  | 437813398163  |\n",
       "\n"
      ],
      "text/plain": [
       "  iso_d iso_o col csl        cnl    prox1 lp1      prox2     lp2      cl       \n",
       "1 ARG   CHL   1   0.98010004 0.8544 0.00  0.000000 0.0000000 0.000000 0.8734413\n",
       "2 ARG   GBR   0   0.08325152 0.0000 0.25  1.945866 0.1305255 1.169519 0.1529474\n",
       "3 ARG   AUS   0   0.02058416 0.0008 0.25  1.945866 0.1305255 1.169519 0.1536251\n",
       "4 ARG   KOR   0   0.00000000 0.0000 0.00  0.000000 0.0000000 0.000000 0.0000000\n",
       "5 ARG   BRA   0   0.06052872 0.0008 0.75  5.837599 0.4243976 3.802638 0.4977038\n",
       "6 ARG   MEX   1   0.98010004 0.8832 0.00  0.000000 0.0000000 0.000000 0.8984749\n",
       "  ... distwces shared_hist destination area_d  pop_d    origin        area_o \n",
       "1 ... 941,6383 0           Argentina   2766889 44780675 Chile          756945\n",
       "2 ... 11128,22 0           Argentina   2766889 44780675 Great Britain  244110\n",
       "3 ... 12018,27 0           Argentina   2766889 44780675 Australia     7686848\n",
       "4 ... 19137,75 0           Argentina   2766889 44780675 South Korea     99484\n",
       "5 ... 2089,281 0           Argentina   2766889 44780675 Brazil        8511920\n",
       "6 ... 7460,572 0           Argentina   2766889 44780675 Mexico        1967210\n",
       "  pop_o     GDP_o        GDP_d       \n",
       "1  18952035 2.850370e+11 437813398163\n",
       "2  67530161 2.913557e+12 437813398163\n",
       "3  25203200 1.450499e+12 437813398163\n",
       "4  51225321 1.482760e+12 437813398163\n",
       "5 211049519 2.364446e+12 437813398163\n",
       "6 127575529 1.309882e+12 437813398163"
      ]
     },
     "metadata": {},
     "output_type": "display_data"
    }
   ],
   "source": [
    "area_pop_gdist_lang_gdp <- area_pop_gdist_lang %>% \n",
    "                               merge(gdp, by.x=c(\"iso_o\"), by.y=c(\"iso_country\")) %>% \n",
    "                               rename(GDP_o = GDP) %>%\n",
    "                               merge(gdp, by.x=c(\"iso_d\"), by.y=c(\"iso_country\")) %>%\n",
    "                               rename(GDP_d = GDP)\n",
    "                               \n",
    "head(area_pop_gdist_lang_gdp)"
   ]
  },
  {
   "cell_type": "markdown",
   "metadata": {},
   "source": [
    "## Migration (stock) 2019  \n",
    "### Datasource: [UN](https://www.un.org/en/development/desa/population/migration/data/estimates2/estimates19.asp)\n",
    "\n",
    "The dataset presents estimates of international migrant by age, sex and origin. Estimates are presented for 1990, 1995, 2000, 2005, 2010, 2015 and 2019 and are available for all countries and areas of the world. The estimates are based on official statistics on the foreign-born or the foreign population.   \n",
    "International migrant stock - Total international migrant stock   "
   ]
  },
  {
   "cell_type": "code",
   "execution_count": 18,
   "metadata": {
    "scrolled": true
   },
   "outputs": [
    {
     "data": {
      "text/html": [
       "<table>\n",
       "<thead><tr><th scope=col>destination</th><th scope=col>Total</th><th scope=col>Total16</th><th scope=col>Argentina</th><th scope=col>Australia</th><th scope=col>Brazil</th><th scope=col>Chile</th><th scope=col>France</th><th scope=col>Great.Britain</th><th scope=col>Indonesia</th><th scope=col>Japan</th><th scope=col>Malaysia</th><th scope=col>Mexico</th><th scope=col>Russia</th><th scope=col>Singapore</th><th scope=col>South.Korea</th><th scope=col>Spain</th><th scope=col>Turkey</th><th scope=col>United.States</th></tr></thead>\n",
       "<tbody>\n",
       "\t<tr><td>Argentina    </td><td>2212879      </td><td> 397927      </td><td>    0        </td><td>   279       </td><td>49647        </td><td>216855       </td><td>  8303       </td><td>    959      </td><td>   21        </td><td> 4531        </td><td>     2       </td><td> 1475        </td><td> 1917        </td><td>    2        </td><td>  8296       </td><td> 99769       </td><td>   646       </td><td>  5225       </td></tr>\n",
       "\t<tr><td>Australia    </td><td>7549270      </td><td>2109825      </td><td>17583        </td><td>     0       </td><td>42552        </td><td> 33707       </td><td> 40733       </td><td>1262204      </td><td>87274        </td><td>53175        </td><td>174136       </td><td> 6760        </td><td>28735        </td><td>64739        </td><td>121204       </td><td> 19594       </td><td> 42880       </td><td>114549       </td></tr>\n",
       "\t<tr><td>Brazil       </td><td> 807006      </td><td> 229897      </td><td>39078        </td><td>   791       </td><td>    0        </td><td> 20747       </td><td> 12851       </td><td>   6650      </td><td>  978        </td><td>65955        </td><td>   163       </td><td> 3601        </td><td> 1865        </td><td>  154        </td><td> 11531       </td><td> 41321       </td><td>   486       </td><td> 23726       </td></tr>\n",
       "\t<tr><td>Chile        </td><td> 939992      </td><td> 177893      </td><td>72813        </td><td>  3952       </td><td>20370        </td><td>     0       </td><td> 12562       </td><td>   6668      </td><td>  343        </td><td> 3231        </td><td>   100       </td><td> 6887        </td><td> 2344        </td><td>  237        </td><td>  4247       </td><td> 22842       </td><td>  1019       </td><td> 20278       </td></tr>\n",
       "\t<tr><td>France       </td><td>8334875      </td><td>1110686      </td><td>14253        </td><td>  9192       </td><td>63208        </td><td> 15857       </td><td>     0       </td><td> 176672      </td><td> 5446        </td><td>23536        </td><td>  2793       </td><td>13851        </td><td>70463        </td><td> 2512        </td><td> 22794       </td><td>303245       </td><td>327508       </td><td> 59356       </td></tr>\n",
       "\t<tr><td>Great Britain</td><td>9552110      </td><td>1073094      </td><td>12239        </td><td>145692       </td><td>47487        </td><td>  8668       </td><td>170142       </td><td>      0      </td><td>11543        </td><td>52930        </td><td> 84638       </td><td>10457        </td><td>38917        </td><td>58432        </td><td> 13171       </td><td> 98372       </td><td>104491       </td><td>215915       </td></tr>\n",
       "</tbody>\n",
       "</table>\n"
      ],
      "text/latex": [
       "\\begin{tabular}{r|lllllllllllllllllll}\n",
       " destination & Total & Total16 & Argentina & Australia & Brazil & Chile & France & Great.Britain & Indonesia & Japan & Malaysia & Mexico & Russia & Singapore & South.Korea & Spain & Turkey & United.States\\\\\n",
       "\\hline\n",
       "\t Argentina     & 2212879       &  397927       &     0         &    279        & 49647         & 216855        &   8303        &     959       &    21         &  4531         &      2        &  1475         &  1917         &     2         &   8296        &  99769        &    646        &   5225       \\\\\n",
       "\t Australia     & 7549270       & 2109825       & 17583         &      0        & 42552         &  33707        &  40733        & 1262204       & 87274         & 53175         & 174136        &  6760         & 28735         & 64739         & 121204        &  19594        &  42880        & 114549       \\\\\n",
       "\t Brazil        &  807006       &  229897       & 39078         &    791        &     0         &  20747        &  12851        &    6650       &   978         & 65955         &    163        &  3601         &  1865         &   154         &  11531        &  41321        &    486        &  23726       \\\\\n",
       "\t Chile         &  939992       &  177893       & 72813         &   3952        & 20370         &      0        &  12562        &    6668       &   343         &  3231         &    100        &  6887         &  2344         &   237         &   4247        &  22842        &   1019        &  20278       \\\\\n",
       "\t France        & 8334875       & 1110686       & 14253         &   9192        & 63208         &  15857        &      0        &  176672       &  5446         & 23536         &   2793        & 13851         & 70463         &  2512         &  22794        & 303245        & 327508        &  59356       \\\\\n",
       "\t Great Britain & 9552110       & 1073094       & 12239         & 145692        & 47487         &   8668        & 170142        &       0       & 11543         & 52930         &  84638        & 10457         & 38917         & 58432         &  13171        &  98372        & 104491        & 215915       \\\\\n",
       "\\end{tabular}\n"
      ],
      "text/markdown": [
       "\n",
       "| destination | Total | Total16 | Argentina | Australia | Brazil | Chile | France | Great.Britain | Indonesia | Japan | Malaysia | Mexico | Russia | Singapore | South.Korea | Spain | Turkey | United.States |\n",
       "|---|---|---|---|---|---|---|---|---|---|---|---|---|---|---|---|---|---|---|\n",
       "| Argentina     | 2212879       |  397927       |     0         |    279        | 49647         | 216855        |   8303        |     959       |    21         |  4531         |      2        |  1475         |  1917         |     2         |   8296        |  99769        |    646        |   5225        |\n",
       "| Australia     | 7549270       | 2109825       | 17583         |      0        | 42552         |  33707        |  40733        | 1262204       | 87274         | 53175         | 174136        |  6760         | 28735         | 64739         | 121204        |  19594        |  42880        | 114549        |\n",
       "| Brazil        |  807006       |  229897       | 39078         |    791        |     0         |  20747        |  12851        |    6650       |   978         | 65955         |    163        |  3601         |  1865         |   154         |  11531        |  41321        |    486        |  23726        |\n",
       "| Chile         |  939992       |  177893       | 72813         |   3952        | 20370         |      0        |  12562        |    6668       |   343         |  3231         |    100        |  6887         |  2344         |   237         |   4247        |  22842        |   1019        |  20278        |\n",
       "| France        | 8334875       | 1110686       | 14253         |   9192        | 63208         |  15857        |      0        |  176672       |  5446         | 23536         |   2793        | 13851         | 70463         |  2512         |  22794        | 303245        | 327508        |  59356        |\n",
       "| Great Britain | 9552110       | 1073094       | 12239         | 145692        | 47487         |   8668        | 170142        |       0       | 11543         | 52930         |  84638        | 10457         | 38917         | 58432         |  13171        |  98372        | 104491        | 215915        |\n",
       "\n"
      ],
      "text/plain": [
       "  destination   Total   Total16 Argentina Australia Brazil Chile  France\n",
       "1 Argentina     2212879  397927     0        279    49647  216855   8303\n",
       "2 Australia     7549270 2109825 17583          0    42552   33707  40733\n",
       "3 Brazil         807006  229897 39078        791        0   20747  12851\n",
       "4 Chile          939992  177893 72813       3952    20370       0  12562\n",
       "5 France        8334875 1110686 14253       9192    63208   15857      0\n",
       "6 Great Britain 9552110 1073094 12239     145692    47487    8668 170142\n",
       "  Great.Britain Indonesia Japan Malaysia Mexico Russia Singapore South.Korea\n",
       "1     959          21      4531      2    1475   1917      2       8296     \n",
       "2 1262204       87274     53175 174136    6760  28735  64739     121204     \n",
       "3    6650         978     65955    163    3601   1865    154      11531     \n",
       "4    6668         343      3231    100    6887   2344    237       4247     \n",
       "5  176672        5446     23536   2793   13851  70463   2512      22794     \n",
       "6       0       11543     52930  84638   10457  38917  58432      13171     \n",
       "  Spain  Turkey United.States\n",
       "1  99769    646   5225       \n",
       "2  19594  42880 114549       \n",
       "3  41321    486  23726       \n",
       "4  22842   1019  20278       \n",
       "5 303245 327508  59356       \n",
       "6  98372 104491 215915       "
      ]
     },
     "metadata": {},
     "output_type": "display_data"
    }
   ],
   "source": [
    "migration_stock_wide <- read.csv(\"data/subset-stocks-migration-un2019.csv\")\n",
    "migration_stock_wide[is.na(migration_stock_wide)] <- 0\n",
    "\n",
    "head(migration_stock_wide)"
   ]
  },
  {
   "cell_type": "code",
   "execution_count": 19,
   "metadata": {},
   "outputs": [
    {
     "data": {
      "text/html": [
       "<table>\n",
       "<thead><tr><th scope=col>destination</th><th scope=col>total_imm_in_d</th><th scope=col>origin</th><th scope=col>m_stock</th></tr></thead>\n",
       "<tbody>\n",
       "\t<tr><td>Argentina    </td><td>2212879      </td><td>Argentina    </td><td>     0       </td></tr>\n",
       "\t<tr><td>Argentina    </td><td>2212879      </td><td>Australia    </td><td>   279       </td></tr>\n",
       "\t<tr><td>Argentina    </td><td>2212879      </td><td>Brazil       </td><td> 49647       </td></tr>\n",
       "\t<tr><td>Argentina    </td><td>2212879      </td><td>Chile        </td><td>216855       </td></tr>\n",
       "\t<tr><td>Argentina    </td><td>2212879      </td><td>France       </td><td>  8303       </td></tr>\n",
       "\t<tr><td>Argentina    </td><td>2212879      </td><td>Great Britain</td><td>   959       </td></tr>\n",
       "</tbody>\n",
       "</table>\n"
      ],
      "text/latex": [
       "\\begin{tabular}{r|llll}\n",
       " destination & total\\_imm\\_in\\_d & origin & m\\_stock\\\\\n",
       "\\hline\n",
       "\t Argentina     & 2212879       & Argentina     &      0       \\\\\n",
       "\t Argentina     & 2212879       & Australia     &    279       \\\\\n",
       "\t Argentina     & 2212879       & Brazil        &  49647       \\\\\n",
       "\t Argentina     & 2212879       & Chile         & 216855       \\\\\n",
       "\t Argentina     & 2212879       & France        &   8303       \\\\\n",
       "\t Argentina     & 2212879       & Great Britain &    959       \\\\\n",
       "\\end{tabular}\n"
      ],
      "text/markdown": [
       "\n",
       "| destination | total_imm_in_d | origin | m_stock |\n",
       "|---|---|---|---|\n",
       "| Argentina     | 2212879       | Argentina     |      0        |\n",
       "| Argentina     | 2212879       | Australia     |    279        |\n",
       "| Argentina     | 2212879       | Brazil        |  49647        |\n",
       "| Argentina     | 2212879       | Chile         | 216855        |\n",
       "| Argentina     | 2212879       | France        |   8303        |\n",
       "| Argentina     | 2212879       | Great Britain |    959        |\n",
       "\n"
      ],
      "text/plain": [
       "  destination total_imm_in_d origin        m_stock\n",
       "1 Argentina   2212879        Argentina          0 \n",
       "2 Argentina   2212879        Australia        279 \n",
       "3 Argentina   2212879        Brazil         49647 \n",
       "4 Argentina   2212879        Chile         216855 \n",
       "5 Argentina   2212879        France          8303 \n",
       "6 Argentina   2212879        Great Britain    959 "
      ]
     },
     "metadata": {},
     "output_type": "display_data"
    }
   ],
   "source": [
    "migration_stock <- migration_stock_wide %>% \n",
    "                pivot_longer(!c(destination, Total, Total16), names_to = \"origin\", values_to = \"m_stock\") %>%\n",
    "                select(destination, Total, origin, m_stock) %>%\n",
    "                rename(total_imm_in_d = Total)\n",
    "migration_stock$origin <- chartr(\".\", \" \", migration_stock$origin)\n",
    "\n",
    "head(migration_stock)"
   ]
  },
  {
   "cell_type": "code",
   "execution_count": 20,
   "metadata": {},
   "outputs": [
    {
     "data": {
      "text/html": [
       "<table>\n",
       "<thead><tr><th scope=col>destination</th><th scope=col>total_imm_in_d</th><th scope=col>origin</th><th scope=col>m_stock</th><th scope=col>iso_d</th><th scope=col>iso_o</th></tr></thead>\n",
       "<tbody>\n",
       "\t<tr><td>Argentina    </td><td>2212879      </td><td>Argentina    </td><td>     0       </td><td>ARG          </td><td>ARG          </td></tr>\n",
       "\t<tr><td>Argentina    </td><td>2212879      </td><td>Australia    </td><td>   279       </td><td>ARG          </td><td>AUS          </td></tr>\n",
       "\t<tr><td>Argentina    </td><td>2212879      </td><td>Brazil       </td><td> 49647       </td><td>ARG          </td><td>BRA          </td></tr>\n",
       "\t<tr><td>Argentina    </td><td>2212879      </td><td>Chile        </td><td>216855       </td><td>ARG          </td><td>CHL          </td></tr>\n",
       "\t<tr><td>Argentina    </td><td>2212879      </td><td>France       </td><td>  8303       </td><td>ARG          </td><td>FRA          </td></tr>\n",
       "\t<tr><td>Argentina    </td><td>2212879      </td><td>Great Britain</td><td>   959       </td><td>ARG          </td><td>GBR          </td></tr>\n",
       "</tbody>\n",
       "</table>\n"
      ],
      "text/latex": [
       "\\begin{tabular}{r|llllll}\n",
       " destination & total\\_imm\\_in\\_d & origin & m\\_stock & iso\\_d & iso\\_o\\\\\n",
       "\\hline\n",
       "\t Argentina     & 2212879       & Argentina     &      0        & ARG           & ARG          \\\\\n",
       "\t Argentina     & 2212879       & Australia     &    279        & ARG           & AUS          \\\\\n",
       "\t Argentina     & 2212879       & Brazil        &  49647        & ARG           & BRA          \\\\\n",
       "\t Argentina     & 2212879       & Chile         & 216855        & ARG           & CHL          \\\\\n",
       "\t Argentina     & 2212879       & France        &   8303        & ARG           & FRA          \\\\\n",
       "\t Argentina     & 2212879       & Great Britain &    959        & ARG           & GBR          \\\\\n",
       "\\end{tabular}\n"
      ],
      "text/markdown": [
       "\n",
       "| destination | total_imm_in_d | origin | m_stock | iso_d | iso_o |\n",
       "|---|---|---|---|---|---|\n",
       "| Argentina     | 2212879       | Argentina     |      0        | ARG           | ARG           |\n",
       "| Argentina     | 2212879       | Australia     |    279        | ARG           | AUS           |\n",
       "| Argentina     | 2212879       | Brazil        |  49647        | ARG           | BRA           |\n",
       "| Argentina     | 2212879       | Chile         | 216855        | ARG           | CHL           |\n",
       "| Argentina     | 2212879       | France        |   8303        | ARG           | FRA           |\n",
       "| Argentina     | 2212879       | Great Britain |    959        | ARG           | GBR           |\n",
       "\n"
      ],
      "text/plain": [
       "  destination total_imm_in_d origin        m_stock iso_d iso_o\n",
       "1 Argentina   2212879        Argentina          0  ARG   ARG  \n",
       "2 Argentina   2212879        Australia        279  ARG   AUS  \n",
       "3 Argentina   2212879        Brazil         49647  ARG   BRA  \n",
       "4 Argentina   2212879        Chile         216855  ARG   CHL  \n",
       "5 Argentina   2212879        France          8303  ARG   FRA  \n",
       "6 Argentina   2212879        Great Britain    959  ARG   GBR  "
      ]
     },
     "metadata": {},
     "output_type": "display_data"
    }
   ],
   "source": [
    "area_pop_mig_d <- area_pop %>% select(country, iso3) %>% \n",
    "                               merge(migration_stock, by.x=c(\"country\"), by.y=c(\"destination\")) %>%\n",
    "                               rename(iso_d = iso3, destination = country) \n",
    "\n",
    "area_pop_mig_o <- area_pop %>% select(country, iso3) %>% \n",
    "                               merge(migration_stock, by.x=c(\"country\"), by.y=c(\"origin\")) %>%\n",
    "                               rename(iso_o = iso3, origin = country) \n",
    "\n",
    "migration_stock <- merge(area_pop_mig_d, area_pop_mig_o)\n",
    "\n",
    "head(migration_stock)"
   ]
  },
  {
   "cell_type": "code",
   "execution_count": 21,
   "metadata": {},
   "outputs": [
    {
     "data": {
      "text/html": [
       "<table>\n",
       "<thead><tr><th scope=col>iso_d</th><th scope=col>iso_o</th><th scope=col>destination</th><th scope=col>origin</th><th scope=col>col</th><th scope=col>csl</th><th scope=col>cnl</th><th scope=col>prox1</th><th scope=col>lp1</th><th scope=col>prox2</th><th scope=col>...</th><th scope=col>distw</th><th scope=col>distwces</th><th scope=col>shared_hist</th><th scope=col>area_d</th><th scope=col>pop_d</th><th scope=col>area_o</th><th scope=col>pop_o</th><th scope=col>GDP_o</th><th scope=col>GDP_d</th><th scope=col>m_stock</th></tr></thead>\n",
       "<tbody>\n",
       "\t<tr><td>ARG          </td><td>AUS          </td><td>Argentina    </td><td>Australia    </td><td>0            </td><td>0.02058416   </td><td>0.00080000   </td><td>0.25         </td><td>1.945866     </td><td>0.1305255    </td><td>...          </td><td>12044,57     </td><td>12018,27     </td><td>0            </td><td>2766889      </td><td>44780675     </td><td>7686848      </td><td> 25203200    </td><td>1.450499e+12 </td><td>437813398163 </td><td>   279       </td></tr>\n",
       "\t<tr><td>ARG          </td><td>BRA          </td><td>Argentina    </td><td>Brazil       </td><td>0            </td><td>0.06052872   </td><td>0.00080000   </td><td>0.75         </td><td>5.837599     </td><td>0.4243976    </td><td>...          </td><td>2391,846     </td><td>2089,281     </td><td>0            </td><td>2766889      </td><td>44780675     </td><td>8511920      </td><td>211049519    </td><td>2.364446e+12 </td><td>437813398163 </td><td> 49647       </td></tr>\n",
       "\t<tr><td>ARG          </td><td>CHL          </td><td>Argentina    </td><td>Chile        </td><td>1            </td><td>0.98010004   </td><td>0.85439998   </td><td>0.00         </td><td>0.000000     </td><td>0.0000000    </td><td>...          </td><td>1156,726     </td><td>941,6383     </td><td>0            </td><td>2766889      </td><td>44780675     </td><td> 756945      </td><td> 18952035    </td><td>2.850370e+11 </td><td>437813398163 </td><td>216855       </td></tr>\n",
       "\t<tr><td>ARG          </td><td>ESP          </td><td>Argentina    </td><td>Spain        </td><td>1            </td><td>0.98013985   </td><td>0.85445821   </td><td>0.00         </td><td>0.000000     </td><td>0.0000000    </td><td>...          </td><td>10079,66     </td><td>10055,9      </td><td>1            </td><td>2766889      </td><td>44780675     </td><td> 505954      </td><td> 46736782    </td><td>1.572013e+12 </td><td>437813398163 </td><td> 99769       </td></tr>\n",
       "\t<tr><td>ARG          </td><td>FRA          </td><td>Argentina    </td><td>France       </td><td>0            </td><td>0.13392781   </td><td>0.01039232   </td><td>0.50         </td><td>3.891733     </td><td>0.2545058    </td><td>...          </td><td>10932,34     </td><td>10921,86     </td><td>0            </td><td>2766889      </td><td>44780675     </td><td> 547026      </td><td> 65129731    </td><td>2.971919e+12 </td><td>437813398163 </td><td>  8303       </td></tr>\n",
       "\t<tr><td>ARG          </td><td>GBR          </td><td>Argentina    </td><td>Great Britain</td><td>0            </td><td>0.08325152   </td><td>0.00000000   </td><td>0.25         </td><td>1.945866     </td><td>0.1305255    </td><td>...          </td><td>11136,96     </td><td>11128,22     </td><td>0            </td><td>2766889      </td><td>44780675     </td><td> 244110      </td><td> 67530161    </td><td>2.913557e+12 </td><td>437813398163 </td><td>   959       </td></tr>\n",
       "</tbody>\n",
       "</table>\n"
      ],
      "text/latex": [
       "\\begin{tabular}{r|llllllllllllllllllllllllllll}\n",
       " iso\\_d & iso\\_o & destination & origin & col & csl & cnl & prox1 & lp1 & prox2 & ... & distw & distwces & shared\\_hist & area\\_d & pop\\_d & area\\_o & pop\\_o & GDP\\_o & GDP\\_d & m\\_stock\\\\\n",
       "\\hline\n",
       "\t ARG           & AUS           & Argentina     & Australia     & 0             & 0.02058416    & 0.00080000    & 0.25          & 1.945866      & 0.1305255     & ...           & 12044,57      & 12018,27      & 0             & 2766889       & 44780675      & 7686848       &  25203200     & 1.450499e+12  & 437813398163  &    279       \\\\\n",
       "\t ARG           & BRA           & Argentina     & Brazil        & 0             & 0.06052872    & 0.00080000    & 0.75          & 5.837599      & 0.4243976     & ...           & 2391,846      & 2089,281      & 0             & 2766889       & 44780675      & 8511920       & 211049519     & 2.364446e+12  & 437813398163  &  49647       \\\\\n",
       "\t ARG           & CHL           & Argentina     & Chile         & 1             & 0.98010004    & 0.85439998    & 0.00          & 0.000000      & 0.0000000     & ...           & 1156,726      & 941,6383      & 0             & 2766889       & 44780675      &  756945       &  18952035     & 2.850370e+11  & 437813398163  & 216855       \\\\\n",
       "\t ARG           & ESP           & Argentina     & Spain         & 1             & 0.98013985    & 0.85445821    & 0.00          & 0.000000      & 0.0000000     & ...           & 10079,66      & 10055,9       & 1             & 2766889       & 44780675      &  505954       &  46736782     & 1.572013e+12  & 437813398163  &  99769       \\\\\n",
       "\t ARG           & FRA           & Argentina     & France        & 0             & 0.13392781    & 0.01039232    & 0.50          & 3.891733      & 0.2545058     & ...           & 10932,34      & 10921,86      & 0             & 2766889       & 44780675      &  547026       &  65129731     & 2.971919e+12  & 437813398163  &   8303       \\\\\n",
       "\t ARG           & GBR           & Argentina     & Great Britain & 0             & 0.08325152    & 0.00000000    & 0.25          & 1.945866      & 0.1305255     & ...           & 11136,96      & 11128,22      & 0             & 2766889       & 44780675      &  244110       &  67530161     & 2.913557e+12  & 437813398163  &    959       \\\\\n",
       "\\end{tabular}\n"
      ],
      "text/markdown": [
       "\n",
       "| iso_d | iso_o | destination | origin | col | csl | cnl | prox1 | lp1 | prox2 | ... | distw | distwces | shared_hist | area_d | pop_d | area_o | pop_o | GDP_o | GDP_d | m_stock |\n",
       "|---|---|---|---|---|---|---|---|---|---|---|---|---|---|---|---|---|---|---|---|---|\n",
       "| ARG           | AUS           | Argentina     | Australia     | 0             | 0.02058416    | 0.00080000    | 0.25          | 1.945866      | 0.1305255     | ...           | 12044,57      | 12018,27      | 0             | 2766889       | 44780675      | 7686848       |  25203200     | 1.450499e+12  | 437813398163  |    279        |\n",
       "| ARG           | BRA           | Argentina     | Brazil        | 0             | 0.06052872    | 0.00080000    | 0.75          | 5.837599      | 0.4243976     | ...           | 2391,846      | 2089,281      | 0             | 2766889       | 44780675      | 8511920       | 211049519     | 2.364446e+12  | 437813398163  |  49647        |\n",
       "| ARG           | CHL           | Argentina     | Chile         | 1             | 0.98010004    | 0.85439998    | 0.00          | 0.000000      | 0.0000000     | ...           | 1156,726      | 941,6383      | 0             | 2766889       | 44780675      |  756945       |  18952035     | 2.850370e+11  | 437813398163  | 216855        |\n",
       "| ARG           | ESP           | Argentina     | Spain         | 1             | 0.98013985    | 0.85445821    | 0.00          | 0.000000      | 0.0000000     | ...           | 10079,66      | 10055,9       | 1             | 2766889       | 44780675      |  505954       |  46736782     | 1.572013e+12  | 437813398163  |  99769        |\n",
       "| ARG           | FRA           | Argentina     | France        | 0             | 0.13392781    | 0.01039232    | 0.50          | 3.891733      | 0.2545058     | ...           | 10932,34      | 10921,86      | 0             | 2766889       | 44780675      |  547026       |  65129731     | 2.971919e+12  | 437813398163  |   8303        |\n",
       "| ARG           | GBR           | Argentina     | Great Britain | 0             | 0.08325152    | 0.00000000    | 0.25          | 1.945866      | 0.1305255     | ...           | 11136,96      | 11128,22      | 0             | 2766889       | 44780675      |  244110       |  67530161     | 2.913557e+12  | 437813398163  |    959        |\n",
       "\n"
      ],
      "text/plain": [
       "  iso_d iso_o destination origin        col csl        cnl        prox1\n",
       "1 ARG   AUS   Argentina   Australia     0   0.02058416 0.00080000 0.25 \n",
       "2 ARG   BRA   Argentina   Brazil        0   0.06052872 0.00080000 0.75 \n",
       "3 ARG   CHL   Argentina   Chile         1   0.98010004 0.85439998 0.00 \n",
       "4 ARG   ESP   Argentina   Spain         1   0.98013985 0.85445821 0.00 \n",
       "5 ARG   FRA   Argentina   France        0   0.13392781 0.01039232 0.50 \n",
       "6 ARG   GBR   Argentina   Great Britain 0   0.08325152 0.00000000 0.25 \n",
       "  lp1      prox2     ... distw    distwces shared_hist area_d  pop_d    area_o \n",
       "1 1.945866 0.1305255 ... 12044,57 12018,27 0           2766889 44780675 7686848\n",
       "2 5.837599 0.4243976 ... 2391,846 2089,281 0           2766889 44780675 8511920\n",
       "3 0.000000 0.0000000 ... 1156,726 941,6383 0           2766889 44780675  756945\n",
       "4 0.000000 0.0000000 ... 10079,66 10055,9  1           2766889 44780675  505954\n",
       "5 3.891733 0.2545058 ... 10932,34 10921,86 0           2766889 44780675  547026\n",
       "6 1.945866 0.1305255 ... 11136,96 11128,22 0           2766889 44780675  244110\n",
       "  pop_o     GDP_o        GDP_d        m_stock\n",
       "1  25203200 1.450499e+12 437813398163    279 \n",
       "2 211049519 2.364446e+12 437813398163  49647 \n",
       "3  18952035 2.850370e+11 437813398163 216855 \n",
       "4  46736782 1.572013e+12 437813398163  99769 \n",
       "5  65129731 2.971919e+12 437813398163   8303 \n",
       "6  67530161 2.913557e+12 437813398163    959 "
      ]
     },
     "metadata": {},
     "output_type": "display_data"
    }
   ],
   "source": [
    "official_dataset <- merge(area_pop_gdist_lang_gdp, migration_stock) %>% select(!total_imm_in_d)\n",
    "\n",
    "head(official_dataset)"
   ]
  },
  {
   "cell_type": "code",
   "execution_count": 22,
   "metadata": {},
   "outputs": [
    {
     "data": {
      "text/html": [
       "<ol class=list-inline>\n",
       "\t<li>240</li>\n",
       "\t<li>28</li>\n",
       "</ol>\n"
      ],
      "text/latex": [
       "\\begin{enumerate*}\n",
       "\\item 240\n",
       "\\item 28\n",
       "\\end{enumerate*}\n"
      ],
      "text/markdown": [
       "1. 240\n",
       "2. 28\n",
       "\n",
       "\n"
      ],
      "text/plain": [
       "[1] 240  28"
      ]
     },
     "metadata": {},
     "output_type": "display_data"
    }
   ],
   "source": [
    "dim(official_dataset)"
   ]
  },
  {
   "cell_type": "markdown",
   "metadata": {},
   "source": [
    "## Migration (flow) 2015-2020  \n",
    "### Datasource: [Abel, Guy; E. Cohen, Joel (2019)](https://figshare.com/collections/Bilateral_international_migration_flow_estimates_for_200_countries/4470464)\n",
    "\n",
    "This collection contains bilateral international migration flow estimates for 200 countries for five-year periods between 1990 and 2020. "
   ]
  },
  {
   "cell_type": "code",
   "execution_count": 23,
   "metadata": {
    "scrolled": true
   },
   "outputs": [
    {
     "data": {
      "text/html": [
       "<table>\n",
       "<thead><tr><th scope=col>year0</th><th scope=col>orig</th><th scope=col>dest</th><th scope=col>sd_drop_neg</th><th scope=col>sd_rev_neg</th><th scope=col>mig_rate</th><th scope=col>da_min_open</th><th scope=col>da_min_closed</th><th scope=col>da_pb_closed</th></tr></thead>\n",
       "<tbody>\n",
       "\t<tr><td>1990</td><td>BDI </td><td>BDI </td><td> 0  </td><td> 0  </td><td> 0  </td><td> 0  </td><td> 0  </td><td> 0  </td></tr>\n",
       "\t<tr><td>1990</td><td>COM </td><td>BDI </td><td> 0  </td><td> 0  </td><td> 0  </td><td> 0  </td><td> 0  </td><td> 0  </td></tr>\n",
       "\t<tr><td>1990</td><td>DJI </td><td>BDI </td><td> 0  </td><td> 0  </td><td> 0  </td><td> 0  </td><td> 0  </td><td> 0  </td></tr>\n",
       "\t<tr><td>1990</td><td>ERI </td><td>BDI </td><td> 0  </td><td> 0  </td><td> 0  </td><td> 0  </td><td> 0  </td><td>90  </td></tr>\n",
       "\t<tr><td>1990</td><td>ETH </td><td>BDI </td><td> 0  </td><td> 0  </td><td> 0  </td><td> 0  </td><td> 0  </td><td> 2  </td></tr>\n",
       "\t<tr><td>1990</td><td>KEN </td><td>BDI </td><td>30  </td><td>30  </td><td>69  </td><td>45  </td><td>29  </td><td>87  </td></tr>\n",
       "</tbody>\n",
       "</table>\n"
      ],
      "text/latex": [
       "\\begin{tabular}{r|lllllllll}\n",
       " year0 & orig & dest & sd\\_drop\\_neg & sd\\_rev\\_neg & mig\\_rate & da\\_min\\_open & da\\_min\\_closed & da\\_pb\\_closed\\\\\n",
       "\\hline\n",
       "\t 1990 & BDI  & BDI  &  0   &  0   &  0   &  0   &  0   &  0  \\\\\n",
       "\t 1990 & COM  & BDI  &  0   &  0   &  0   &  0   &  0   &  0  \\\\\n",
       "\t 1990 & DJI  & BDI  &  0   &  0   &  0   &  0   &  0   &  0  \\\\\n",
       "\t 1990 & ERI  & BDI  &  0   &  0   &  0   &  0   &  0   & 90  \\\\\n",
       "\t 1990 & ETH  & BDI  &  0   &  0   &  0   &  0   &  0   &  2  \\\\\n",
       "\t 1990 & KEN  & BDI  & 30   & 30   & 69   & 45   & 29   & 87  \\\\\n",
       "\\end{tabular}\n"
      ],
      "text/markdown": [
       "\n",
       "| year0 | orig | dest | sd_drop_neg | sd_rev_neg | mig_rate | da_min_open | da_min_closed | da_pb_closed |\n",
       "|---|---|---|---|---|---|---|---|---|\n",
       "| 1990 | BDI  | BDI  |  0   |  0   |  0   |  0   |  0   |  0   |\n",
       "| 1990 | COM  | BDI  |  0   |  0   |  0   |  0   |  0   |  0   |\n",
       "| 1990 | DJI  | BDI  |  0   |  0   |  0   |  0   |  0   |  0   |\n",
       "| 1990 | ERI  | BDI  |  0   |  0   |  0   |  0   |  0   | 90   |\n",
       "| 1990 | ETH  | BDI  |  0   |  0   |  0   |  0   |  0   |  2   |\n",
       "| 1990 | KEN  | BDI  | 30   | 30   | 69   | 45   | 29   | 87   |\n",
       "\n"
      ],
      "text/plain": [
       "  year0 orig dest sd_drop_neg sd_rev_neg mig_rate da_min_open da_min_closed\n",
       "1 1990  BDI  BDI   0           0          0        0           0           \n",
       "2 1990  COM  BDI   0           0          0        0           0           \n",
       "3 1990  DJI  BDI   0           0          0        0           0           \n",
       "4 1990  ERI  BDI   0           0          0        0           0           \n",
       "5 1990  ETH  BDI   0           0          0        0           0           \n",
       "6 1990  KEN  BDI  30          30         69       45          29           \n",
       "  da_pb_closed\n",
       "1  0          \n",
       "2  0          \n",
       "3  0          \n",
       "4 90          \n",
       "5  2          \n",
       "6 87          "
      ]
     },
     "metadata": {},
     "output_type": "display_data"
    }
   ],
   "source": [
    "migration_flow <- read.csv(\"data/abel_cohen_migration_flow.csv\")\n",
    "migration_flow[is.na(migration_flow)] <- 0\n",
    "\n",
    "head(migration_flow)"
   ]
  },
  {
   "cell_type": "code",
   "execution_count": 24,
   "metadata": {},
   "outputs": [
    {
     "data": {
      "text/html": [
       "<table>\n",
       "<thead><tr><th scope=col>iso_o</th><th scope=col>iso_d</th><th scope=col>m_flow_sd_drop_neg</th><th scope=col>m_flow_sd_rev_neg</th><th scope=col>m_flow_mig_rate</th><th scope=col>m_flow_da_min_open</th><th scope=col>m_flow_da_min_closed</th><th scope=col>m_flow_da_pb_closed</th></tr></thead>\n",
       "<tbody>\n",
       "\t<tr><td>BDI </td><td>BDI </td><td>  0 </td><td>  0 </td><td>  0 </td><td>   0</td><td>  0 </td><td>   0</td></tr>\n",
       "\t<tr><td>COM </td><td>BDI </td><td>  0 </td><td>  0 </td><td>  0 </td><td>   0</td><td>  0 </td><td>   0</td></tr>\n",
       "\t<tr><td>DJI </td><td>BDI </td><td>  0 </td><td>  0 </td><td>  0 </td><td>   0</td><td>  0 </td><td>   0</td></tr>\n",
       "\t<tr><td>ERI </td><td>BDI </td><td>  0 </td><td>131 </td><td>  0 </td><td>  43</td><td> 60 </td><td> 183</td></tr>\n",
       "\t<tr><td>ETH </td><td>BDI </td><td>  0 </td><td> 14 </td><td>  0 </td><td>   9</td><td>  3 </td><td>  24</td></tr>\n",
       "\t<tr><td>KEN </td><td>BDI </td><td>194 </td><td>194 </td><td>211 </td><td>1168</td><td>447 </td><td>1554</td></tr>\n",
       "</tbody>\n",
       "</table>\n"
      ],
      "text/latex": [
       "\\begin{tabular}{r|llllllll}\n",
       " iso\\_o & iso\\_d & m\\_flow\\_sd\\_drop\\_neg & m\\_flow\\_sd\\_rev\\_neg & m\\_flow\\_mig\\_rate & m\\_flow\\_da\\_min\\_open & m\\_flow\\_da\\_min\\_closed & m\\_flow\\_da\\_pb\\_closed\\\\\n",
       "\\hline\n",
       "\t BDI  & BDI  &   0  &   0  &   0  &    0 &   0  &    0\\\\\n",
       "\t COM  & BDI  &   0  &   0  &   0  &    0 &   0  &    0\\\\\n",
       "\t DJI  & BDI  &   0  &   0  &   0  &    0 &   0  &    0\\\\\n",
       "\t ERI  & BDI  &   0  & 131  &   0  &   43 &  60  &  183\\\\\n",
       "\t ETH  & BDI  &   0  &  14  &   0  &    9 &   3  &   24\\\\\n",
       "\t KEN  & BDI  & 194  & 194  & 211  & 1168 & 447  & 1554\\\\\n",
       "\\end{tabular}\n"
      ],
      "text/markdown": [
       "\n",
       "| iso_o | iso_d | m_flow_sd_drop_neg | m_flow_sd_rev_neg | m_flow_mig_rate | m_flow_da_min_open | m_flow_da_min_closed | m_flow_da_pb_closed |\n",
       "|---|---|---|---|---|---|---|---|\n",
       "| BDI  | BDI  |   0  |   0  |   0  |    0 |   0  |    0 |\n",
       "| COM  | BDI  |   0  |   0  |   0  |    0 |   0  |    0 |\n",
       "| DJI  | BDI  |   0  |   0  |   0  |    0 |   0  |    0 |\n",
       "| ERI  | BDI  |   0  | 131  |   0  |   43 |  60  |  183 |\n",
       "| ETH  | BDI  |   0  |  14  |   0  |    9 |   3  |   24 |\n",
       "| KEN  | BDI  | 194  | 194  | 211  | 1168 | 447  | 1554 |\n",
       "\n"
      ],
      "text/plain": [
       "  iso_o iso_d m_flow_sd_drop_neg m_flow_sd_rev_neg m_flow_mig_rate\n",
       "1 BDI   BDI     0                  0                 0            \n",
       "2 COM   BDI     0                  0                 0            \n",
       "3 DJI   BDI     0                  0                 0            \n",
       "4 ERI   BDI     0                131                 0            \n",
       "5 ETH   BDI     0                 14                 0            \n",
       "6 KEN   BDI   194                194               211            \n",
       "  m_flow_da_min_open m_flow_da_min_closed m_flow_da_pb_closed\n",
       "1    0                 0                     0               \n",
       "2    0                 0                     0               \n",
       "3    0                 0                     0               \n",
       "4   43                60                   183               \n",
       "5    9                 3                    24               \n",
       "6 1168               447                  1554               "
      ]
     },
     "metadata": {},
     "output_type": "display_data"
    }
   ],
   "source": [
    "migration_flow <- migration_flow %>% \n",
    "                filter(year0 == 2015) %>%\n",
    "                select(!year0) %>%\n",
    "                rename(iso_d = dest, iso_o = orig, \n",
    "                       m_flow_sd_drop_neg = sd_drop_neg, \n",
    "                       m_flow_sd_rev_neg = sd_rev_neg, \n",
    "                       m_flow_mig_rate = mig_rate, \n",
    "                       m_flow_da_min_open = da_min_open, \n",
    "                       m_flow_da_min_closed = da_min_closed, \n",
    "                       m_flow_da_pb_closed = da_pb_closed)\n",
    "\n",
    "head(migration_flow)"
   ]
  },
  {
   "cell_type": "code",
   "execution_count": 25,
   "metadata": {},
   "outputs": [
    {
     "data": {
      "text/html": [
       "<table>\n",
       "<thead><tr><th scope=col>iso_d</th><th scope=col>iso_o</th><th scope=col>destination</th><th scope=col>origin</th><th scope=col>col</th><th scope=col>csl</th><th scope=col>cnl</th><th scope=col>prox1</th><th scope=col>lp1</th><th scope=col>prox2</th><th scope=col>...</th><th scope=col>pop_o</th><th scope=col>GDP_o</th><th scope=col>GDP_d</th><th scope=col>m_stock</th><th scope=col>m_flow_sd_drop_neg</th><th scope=col>m_flow_sd_rev_neg</th><th scope=col>m_flow_mig_rate</th><th scope=col>m_flow_da_min_open</th><th scope=col>m_flow_da_min_closed</th><th scope=col>m_flow_da_pb_closed</th></tr></thead>\n",
       "<tbody>\n",
       "\t<tr><td>ARG          </td><td>AUS          </td><td>Argentina    </td><td>Australia    </td><td>0            </td><td>0.02058416   </td><td>0.00080000   </td><td>0.25         </td><td>1.945866     </td><td>0.1305255    </td><td>...          </td><td> 25203200    </td><td>1.450499e+12 </td><td>437813398163 </td><td>   279       </td><td>   1         </td><td>   1         </td><td>   56        </td><td>   16        </td><td>  105        </td><td> 2224        </td></tr>\n",
       "\t<tr><td>ARG          </td><td>BRA          </td><td>Argentina    </td><td>Brazil       </td><td>0            </td><td>0.06052872   </td><td>0.00080000   </td><td>0.75         </td><td>5.837599     </td><td>0.4243976    </td><td>...          </td><td>211049519    </td><td>2.364446e+12 </td><td>437813398163 </td><td> 49647       </td><td> 475         </td><td> 475         </td><td> 9997        </td><td> 2332        </td><td>    0        </td><td>10767        </td></tr>\n",
       "\t<tr><td>ARG          </td><td>CHL          </td><td>Argentina    </td><td>Chile        </td><td>1            </td><td>0.98010004   </td><td>0.85439998   </td><td>0.00         </td><td>0.000000     </td><td>0.0000000    </td><td>...          </td><td> 18952035    </td><td>2.850370e+11 </td><td>437813398163 </td><td>216855       </td><td>2079         </td><td>2079         </td><td>43666        </td><td>13875        </td><td>53604        </td><td>84213        </td></tr>\n",
       "\t<tr><td>ARG          </td><td>ESP          </td><td>Argentina    </td><td>Spain        </td><td>1            </td><td>0.98013985   </td><td>0.85445821   </td><td>0.00         </td><td>0.000000     </td><td>0.0000000    </td><td>...          </td><td> 46736782    </td><td>1.572013e+12 </td><td>437813398163 </td><td> 99769       </td><td> 956         </td><td> 956         </td><td>20090        </td><td> 6434        </td><td> 5516        </td><td>49532        </td></tr>\n",
       "\t<tr><td>ARG          </td><td>FRA          </td><td>Argentina    </td><td>France       </td><td>0            </td><td>0.13392781   </td><td>0.01039232   </td><td>0.50         </td><td>3.891733     </td><td>0.2545058    </td><td>...          </td><td> 65129731    </td><td>2.971919e+12 </td><td>437813398163 </td><td>  8303       </td><td>  79         </td><td>  79         </td><td> 1672        </td><td>  467        </td><td>  156        </td><td> 3048        </td></tr>\n",
       "\t<tr><td>ARG          </td><td>GBR          </td><td>Argentina    </td><td>Great Britain</td><td>0            </td><td>0.08325152   </td><td>0.00000000   </td><td>0.25         </td><td>1.945866     </td><td>0.1305255    </td><td>...          </td><td> 67530161    </td><td>2.913557e+12 </td><td>437813398163 </td><td>   959       </td><td>   8         </td><td>   8         </td><td>  193        </td><td>   45        </td><td>  126        </td><td> 1559        </td></tr>\n",
       "</tbody>\n",
       "</table>\n"
      ],
      "text/latex": [
       "\\begin{tabular}{r|llllllllllllllllllllllllllllllllll}\n",
       " iso\\_d & iso\\_o & destination & origin & col & csl & cnl & prox1 & lp1 & prox2 & ... & pop\\_o & GDP\\_o & GDP\\_d & m\\_stock & m\\_flow\\_sd\\_drop\\_neg & m\\_flow\\_sd\\_rev\\_neg & m\\_flow\\_mig\\_rate & m\\_flow\\_da\\_min\\_open & m\\_flow\\_da\\_min\\_closed & m\\_flow\\_da\\_pb\\_closed\\\\\n",
       "\\hline\n",
       "\t ARG           & AUS           & Argentina     & Australia     & 0             & 0.02058416    & 0.00080000    & 0.25          & 1.945866      & 0.1305255     & ...           &  25203200     & 1.450499e+12  & 437813398163  &    279        &    1          &    1          &    56         &    16         &   105         &  2224        \\\\\n",
       "\t ARG           & BRA           & Argentina     & Brazil        & 0             & 0.06052872    & 0.00080000    & 0.75          & 5.837599      & 0.4243976     & ...           & 211049519     & 2.364446e+12  & 437813398163  &  49647        &  475          &  475          &  9997         &  2332         &     0         & 10767        \\\\\n",
       "\t ARG           & CHL           & Argentina     & Chile         & 1             & 0.98010004    & 0.85439998    & 0.00          & 0.000000      & 0.0000000     & ...           &  18952035     & 2.850370e+11  & 437813398163  & 216855        & 2079          & 2079          & 43666         & 13875         & 53604         & 84213        \\\\\n",
       "\t ARG           & ESP           & Argentina     & Spain         & 1             & 0.98013985    & 0.85445821    & 0.00          & 0.000000      & 0.0000000     & ...           &  46736782     & 1.572013e+12  & 437813398163  &  99769        &  956          &  956          & 20090         &  6434         &  5516         & 49532        \\\\\n",
       "\t ARG           & FRA           & Argentina     & France        & 0             & 0.13392781    & 0.01039232    & 0.50          & 3.891733      & 0.2545058     & ...           &  65129731     & 2.971919e+12  & 437813398163  &   8303        &   79          &   79          &  1672         &   467         &   156         &  3048        \\\\\n",
       "\t ARG           & GBR           & Argentina     & Great Britain & 0             & 0.08325152    & 0.00000000    & 0.25          & 1.945866      & 0.1305255     & ...           &  67530161     & 2.913557e+12  & 437813398163  &    959        &    8          &    8          &   193         &    45         &   126         &  1559        \\\\\n",
       "\\end{tabular}\n"
      ],
      "text/markdown": [
       "\n",
       "| iso_d | iso_o | destination | origin | col | csl | cnl | prox1 | lp1 | prox2 | ... | pop_o | GDP_o | GDP_d | m_stock | m_flow_sd_drop_neg | m_flow_sd_rev_neg | m_flow_mig_rate | m_flow_da_min_open | m_flow_da_min_closed | m_flow_da_pb_closed |\n",
       "|---|---|---|---|---|---|---|---|---|---|---|---|---|---|---|---|---|---|---|---|---|\n",
       "| ARG           | AUS           | Argentina     | Australia     | 0             | 0.02058416    | 0.00080000    | 0.25          | 1.945866      | 0.1305255     | ...           |  25203200     | 1.450499e+12  | 437813398163  |    279        |    1          |    1          |    56         |    16         |   105         |  2224         |\n",
       "| ARG           | BRA           | Argentina     | Brazil        | 0             | 0.06052872    | 0.00080000    | 0.75          | 5.837599      | 0.4243976     | ...           | 211049519     | 2.364446e+12  | 437813398163  |  49647        |  475          |  475          |  9997         |  2332         |     0         | 10767         |\n",
       "| ARG           | CHL           | Argentina     | Chile         | 1             | 0.98010004    | 0.85439998    | 0.00          | 0.000000      | 0.0000000     | ...           |  18952035     | 2.850370e+11  | 437813398163  | 216855        | 2079          | 2079          | 43666         | 13875         | 53604         | 84213         |\n",
       "| ARG           | ESP           | Argentina     | Spain         | 1             | 0.98013985    | 0.85445821    | 0.00          | 0.000000      | 0.0000000     | ...           |  46736782     | 1.572013e+12  | 437813398163  |  99769        |  956          |  956          | 20090         |  6434         |  5516         | 49532         |\n",
       "| ARG           | FRA           | Argentina     | France        | 0             | 0.13392781    | 0.01039232    | 0.50          | 3.891733      | 0.2545058     | ...           |  65129731     | 2.971919e+12  | 437813398163  |   8303        |   79          |   79          |  1672         |   467         |   156         |  3048         |\n",
       "| ARG           | GBR           | Argentina     | Great Britain | 0             | 0.08325152    | 0.00000000    | 0.25          | 1.945866      | 0.1305255     | ...           |  67530161     | 2.913557e+12  | 437813398163  |    959        |    8          |    8          |   193         |    45         |   126         |  1559         |\n",
       "\n"
      ],
      "text/plain": [
       "  iso_d iso_o destination origin        col csl        cnl        prox1\n",
       "1 ARG   AUS   Argentina   Australia     0   0.02058416 0.00080000 0.25 \n",
       "2 ARG   BRA   Argentina   Brazil        0   0.06052872 0.00080000 0.75 \n",
       "3 ARG   CHL   Argentina   Chile         1   0.98010004 0.85439998 0.00 \n",
       "4 ARG   ESP   Argentina   Spain         1   0.98013985 0.85445821 0.00 \n",
       "5 ARG   FRA   Argentina   France        0   0.13392781 0.01039232 0.50 \n",
       "6 ARG   GBR   Argentina   Great Britain 0   0.08325152 0.00000000 0.25 \n",
       "  lp1      prox2     ... pop_o     GDP_o        GDP_d        m_stock\n",
       "1 1.945866 0.1305255 ...  25203200 1.450499e+12 437813398163    279 \n",
       "2 5.837599 0.4243976 ... 211049519 2.364446e+12 437813398163  49647 \n",
       "3 0.000000 0.0000000 ...  18952035 2.850370e+11 437813398163 216855 \n",
       "4 0.000000 0.0000000 ...  46736782 1.572013e+12 437813398163  99769 \n",
       "5 3.891733 0.2545058 ...  65129731 2.971919e+12 437813398163   8303 \n",
       "6 1.945866 0.1305255 ...  67530161 2.913557e+12 437813398163    959 \n",
       "  m_flow_sd_drop_neg m_flow_sd_rev_neg m_flow_mig_rate m_flow_da_min_open\n",
       "1    1                  1                 56              16             \n",
       "2  475                475               9997            2332             \n",
       "3 2079               2079              43666           13875             \n",
       "4  956                956              20090            6434             \n",
       "5   79                 79               1672             467             \n",
       "6    8                  8                193              45             \n",
       "  m_flow_da_min_closed m_flow_da_pb_closed\n",
       "1   105                 2224              \n",
       "2     0                10767              \n",
       "3 53604                84213              \n",
       "4  5516                49532              \n",
       "5   156                 3048              \n",
       "6   126                 1559              "
      ]
     },
     "metadata": {},
     "output_type": "display_data"
    }
   ],
   "source": [
    "official_dataset <- merge(official_dataset, migration_flow)\n",
    "\n",
    "head(official_dataset)"
   ]
  },
  {
   "cell_type": "code",
   "execution_count": 26,
   "metadata": {},
   "outputs": [
    {
     "data": {
      "text/html": [
       "<ol class=list-inline>\n",
       "\t<li>240</li>\n",
       "\t<li>34</li>\n",
       "</ol>\n"
      ],
      "text/latex": [
       "\\begin{enumerate*}\n",
       "\\item 240\n",
       "\\item 34\n",
       "\\end{enumerate*}\n"
      ],
      "text/markdown": [
       "1. 240\n",
       "2. 34\n",
       "\n",
       "\n"
      ],
      "text/plain": [
       "[1] 240  34"
      ]
     },
     "metadata": {},
     "output_type": "display_data"
    }
   ],
   "source": [
    "dim(official_dataset)"
   ]
  },
  {
   "cell_type": "markdown",
   "metadata": {},
   "source": [
    "## WVS\n",
    "### Datasource: [WVS (2020)](https://www.worldvaluessurvey.org/wvs.jsp)\n",
    "\n"
   ]
  },
  {
   "cell_type": "code",
   "execution_count": 27,
   "metadata": {},
   "outputs": [
    {
     "data": {
      "text/html": [
       "<table>\n",
       "<thead><tr><th scope=col>origin</th><th scope=col>destination</th><th scope=col>CS_wvs</th></tr></thead>\n",
       "<tbody>\n",
       "\t<tr><td>Argentina    </td><td>Argentina    </td><td> 1.0000000   </td></tr>\n",
       "\t<tr><td>Argentina    </td><td>Australia    </td><td> 0.2579213   </td></tr>\n",
       "\t<tr><td>Argentina    </td><td>Brazil       </td><td> 0.7688173   </td></tr>\n",
       "\t<tr><td>Argentina    </td><td>Chile        </td><td>-0.9899189   </td></tr>\n",
       "\t<tr><td>Argentina    </td><td>France       </td><td> 0.1697698   </td></tr>\n",
       "\t<tr><td>Argentina    </td><td>Great Britain</td><td> 0.3229716   </td></tr>\n",
       "</tbody>\n",
       "</table>\n"
      ],
      "text/latex": [
       "\\begin{tabular}{r|lll}\n",
       " origin & destination & CS\\_wvs\\\\\n",
       "\\hline\n",
       "\t Argentina     & Argentina     &  1.0000000   \\\\\n",
       "\t Argentina     & Australia     &  0.2579213   \\\\\n",
       "\t Argentina     & Brazil        &  0.7688173   \\\\\n",
       "\t Argentina     & Chile         & -0.9899189   \\\\\n",
       "\t Argentina     & France        &  0.1697698   \\\\\n",
       "\t Argentina     & Great Britain &  0.3229716   \\\\\n",
       "\\end{tabular}\n"
      ],
      "text/markdown": [
       "\n",
       "| origin | destination | CS_wvs |\n",
       "|---|---|---|\n",
       "| Argentina     | Argentina     |  1.0000000    |\n",
       "| Argentina     | Australia     |  0.2579213    |\n",
       "| Argentina     | Brazil        |  0.7688173    |\n",
       "| Argentina     | Chile         | -0.9899189    |\n",
       "| Argentina     | France        |  0.1697698    |\n",
       "| Argentina     | Great Britain |  0.3229716    |\n",
       "\n"
      ],
      "text/plain": [
       "  origin    destination   CS_wvs    \n",
       "1 Argentina Argentina      1.0000000\n",
       "2 Argentina Australia      0.2579213\n",
       "3 Argentina Brazil         0.7688173\n",
       "4 Argentina Chile         -0.9899189\n",
       "5 Argentina France         0.1697698\n",
       "6 Argentina Great Britain  0.3229716"
      ]
     },
     "metadata": {},
     "output_type": "display_data"
    }
   ],
   "source": [
    "wvs <- read.csv(\"data/subset-wvs-wave7-2020.csv\")\n",
    "\n",
    "wvs_cosine <- as.data.frame(cosine(t(as.matrix(wvs[,2:3]))))\n",
    "colnames(wvs_cosine) <- wvs$country\n",
    "wvs_cosine[\"origin\"] <- wvs$country\n",
    "\n",
    "\n",
    "wvs_cosine_longer <- pivot_longer(wvs_cosine, -c(\"origin\"), values_to = \"CS_wvs\", names_to = \"destination\")\n",
    "head(wvs_cosine_longer)"
   ]
  },
  {
   "cell_type": "markdown",
   "metadata": {},
   "source": [
    "## Foursquare\n",
    "### Datasource: [You Are What You Eat (and Drink): Identifying Cultural Boundaries by Analyzing Food and Drink Habits in Foursquare. Thiago H. Silva, Pedro O. S. Vaz de Melo, Jussara M. Almeida, Mirco Musolesi, Antonio A. F. Loureiro (2014)](https://www.aaai.org/ocs/index.php/ICWSM/ICWSM14/paper/viewPaper/8113)\n",
    "\n"
   ]
  },
  {
   "cell_type": "code",
   "execution_count": 28,
   "metadata": {},
   "outputs": [
    {
     "data": {
      "text/html": [
       "<table>\n",
       "<thead><tr><th scope=col>origin</th><th scope=col>destination</th><th scope=col>CS_foursquare</th></tr></thead>\n",
       "<tbody>\n",
       "\t<tr><td>Argentina    </td><td>Argentina    </td><td>1.0000000    </td></tr>\n",
       "\t<tr><td>Argentina    </td><td>Australia    </td><td>0.1005334    </td></tr>\n",
       "\t<tr><td>Argentina    </td><td>Brazil       </td><td>0.8402622    </td></tr>\n",
       "\t<tr><td>Argentina    </td><td>Chile        </td><td>0.9548769    </td></tr>\n",
       "\t<tr><td>Argentina    </td><td>France       </td><td>0.8741573    </td></tr>\n",
       "\t<tr><td>Argentina    </td><td>Great Britain</td><td>0.6263188    </td></tr>\n",
       "</tbody>\n",
       "</table>\n"
      ],
      "text/latex": [
       "\\begin{tabular}{r|lll}\n",
       " origin & destination & CS\\_foursquare\\\\\n",
       "\\hline\n",
       "\t Argentina     & Argentina     & 1.0000000    \\\\\n",
       "\t Argentina     & Australia     & 0.1005334    \\\\\n",
       "\t Argentina     & Brazil        & 0.8402622    \\\\\n",
       "\t Argentina     & Chile         & 0.9548769    \\\\\n",
       "\t Argentina     & France        & 0.8741573    \\\\\n",
       "\t Argentina     & Great Britain & 0.6263188    \\\\\n",
       "\\end{tabular}\n"
      ],
      "text/markdown": [
       "\n",
       "| origin | destination | CS_foursquare |\n",
       "|---|---|---|\n",
       "| Argentina     | Argentina     | 1.0000000     |\n",
       "| Argentina     | Australia     | 0.1005334     |\n",
       "| Argentina     | Brazil        | 0.8402622     |\n",
       "| Argentina     | Chile         | 0.9548769     |\n",
       "| Argentina     | France        | 0.8741573     |\n",
       "| Argentina     | Great Britain | 0.6263188     |\n",
       "\n"
      ],
      "text/plain": [
       "  origin    destination   CS_foursquare\n",
       "1 Argentina Argentina     1.0000000    \n",
       "2 Argentina Australia     0.1005334    \n",
       "3 Argentina Brazil        0.8402622    \n",
       "4 Argentina Chile         0.9548769    \n",
       "5 Argentina France        0.8741573    \n",
       "6 Argentina Great Britain 0.6263188    "
      ]
     },
     "metadata": {},
     "output_type": "display_data"
    }
   ],
   "source": [
    "foursquare <- read.csv(\"data/foursquare.csv\")\n",
    "\n",
    "foursquare_cosine <- as.data.frame(cosine(t(as.matrix(foursquare[,2:3]))))\n",
    "colnames(foursquare_cosine) <- foursquare$country\n",
    "foursquare_cosine[\"origin\"] <- foursquare$country\n",
    "\n",
    "\n",
    "foursquare_cosine_longer <- pivot_longer(foursquare_cosine, -c(\"origin\"), values_to = \"CS_foursquare\", names_to = \"destination\")\n",
    "head(foursquare_cosine_longer)"
   ]
  },
  {
   "cell_type": "code",
   "execution_count": 29,
   "metadata": {},
   "outputs": [
    {
     "data": {
      "text/html": [
       "<table>\n",
       "<thead><tr><th scope=col>destination</th><th scope=col>origin</th><th scope=col>iso_d</th><th scope=col>iso_o</th><th scope=col>col</th><th scope=col>csl</th><th scope=col>cnl</th><th scope=col>prox1</th><th scope=col>lp1</th><th scope=col>prox2</th><th scope=col>...</th><th scope=col>GDP_d</th><th scope=col>m_stock</th><th scope=col>m_flow_sd_drop_neg</th><th scope=col>m_flow_sd_rev_neg</th><th scope=col>m_flow_mig_rate</th><th scope=col>m_flow_da_min_open</th><th scope=col>m_flow_da_min_closed</th><th scope=col>m_flow_da_pb_closed</th><th scope=col>CS_wvs</th><th scope=col>CS_foursquare</th></tr></thead>\n",
       "<tbody>\n",
       "\t<tr><td>Argentina    </td><td>Australia    </td><td>ARG          </td><td>AUS          </td><td>0            </td><td>0.02058416   </td><td>0.00080000   </td><td>0.25         </td><td>1.945866     </td><td>0.13052547   </td><td>...          </td><td>437813398163 </td><td>   279       </td><td>   1         </td><td>   1         </td><td>   56        </td><td>   16        </td><td>  105        </td><td> 2224        </td><td> 0.2579213   </td><td> 0.1005334   </td></tr>\n",
       "\t<tr><td>Argentina    </td><td>Brazil       </td><td>ARG          </td><td>BRA          </td><td>0            </td><td>0.06052872   </td><td>0.00080000   </td><td>0.75         </td><td>5.837599     </td><td>0.42439765   </td><td>...          </td><td>437813398163 </td><td> 49647       </td><td> 475         </td><td> 475         </td><td> 9997        </td><td> 2332        </td><td>    0        </td><td>10767        </td><td> 0.7688173   </td><td> 0.8402622   </td></tr>\n",
       "\t<tr><td>Argentina    </td><td>Chile        </td><td>ARG          </td><td>CHL          </td><td>1            </td><td>0.98010004   </td><td>0.85439998   </td><td>0.00         </td><td>0.000000     </td><td>0.00000000   </td><td>...          </td><td>437813398163 </td><td>216855       </td><td>2079         </td><td>2079         </td><td>43666        </td><td>13875        </td><td>53604        </td><td>84213        </td><td>-0.9899189   </td><td> 0.9548769   </td></tr>\n",
       "\t<tr><td>Argentina    </td><td>France       </td><td>ARG          </td><td>FRA          </td><td>0            </td><td>0.13392781   </td><td>0.01039232   </td><td>0.50         </td><td>3.891733     </td><td>0.25450581   </td><td>...          </td><td>437813398163 </td><td>  8303       </td><td>  79         </td><td>  79         </td><td> 1672        </td><td>  467        </td><td>  156        </td><td> 3048        </td><td> 0.1697698   </td><td> 0.8741573   </td></tr>\n",
       "\t<tr><td>Argentina    </td><td>Great Britain</td><td>ARG          </td><td>GBR          </td><td>0            </td><td>0.08325152   </td><td>0.00000000   </td><td>0.25         </td><td>1.945866     </td><td>0.13052547   </td><td>...          </td><td>437813398163 </td><td>   959       </td><td>   8         </td><td>   8         </td><td>  193        </td><td>   45        </td><td>  126        </td><td> 1559        </td><td> 0.3229716   </td><td> 0.6263188   </td></tr>\n",
       "\t<tr><td>Argentina    </td><td>Indonesia    </td><td>ARG          </td><td>IDN          </td><td>0            </td><td>0.00000000   </td><td>0.00000000   </td><td>0.00         </td><td>0.000000     </td><td>0.07436915   </td><td>...          </td><td>437813398163 </td><td>    21       </td><td>   0         </td><td>   0         </td><td>    4        </td><td>    1        </td><td>    4        </td><td>    7        </td><td> 0.4656905   </td><td>-0.8793284   </td></tr>\n",
       "</tbody>\n",
       "</table>\n"
      ],
      "text/latex": [
       "\\begin{tabular}{r|llllllllllllllllllllllllllllllllllll}\n",
       " destination & origin & iso\\_d & iso\\_o & col & csl & cnl & prox1 & lp1 & prox2 & ... & GDP\\_d & m\\_stock & m\\_flow\\_sd\\_drop\\_neg & m\\_flow\\_sd\\_rev\\_neg & m\\_flow\\_mig\\_rate & m\\_flow\\_da\\_min\\_open & m\\_flow\\_da\\_min\\_closed & m\\_flow\\_da\\_pb\\_closed & CS\\_wvs & CS\\_foursquare\\\\\n",
       "\\hline\n",
       "\t Argentina     & Australia     & ARG           & AUS           & 0             & 0.02058416    & 0.00080000    & 0.25          & 1.945866      & 0.13052547    & ...           & 437813398163  &    279        &    1          &    1          &    56         &    16         &   105         &  2224         &  0.2579213    &  0.1005334   \\\\\n",
       "\t Argentina     & Brazil        & ARG           & BRA           & 0             & 0.06052872    & 0.00080000    & 0.75          & 5.837599      & 0.42439765    & ...           & 437813398163  &  49647        &  475          &  475          &  9997         &  2332         &     0         & 10767         &  0.7688173    &  0.8402622   \\\\\n",
       "\t Argentina     & Chile         & ARG           & CHL           & 1             & 0.98010004    & 0.85439998    & 0.00          & 0.000000      & 0.00000000    & ...           & 437813398163  & 216855        & 2079          & 2079          & 43666         & 13875         & 53604         & 84213         & -0.9899189    &  0.9548769   \\\\\n",
       "\t Argentina     & France        & ARG           & FRA           & 0             & 0.13392781    & 0.01039232    & 0.50          & 3.891733      & 0.25450581    & ...           & 437813398163  &   8303        &   79          &   79          &  1672         &   467         &   156         &  3048         &  0.1697698    &  0.8741573   \\\\\n",
       "\t Argentina     & Great Britain & ARG           & GBR           & 0             & 0.08325152    & 0.00000000    & 0.25          & 1.945866      & 0.13052547    & ...           & 437813398163  &    959        &    8          &    8          &   193         &    45         &   126         &  1559         &  0.3229716    &  0.6263188   \\\\\n",
       "\t Argentina     & Indonesia     & ARG           & IDN           & 0             & 0.00000000    & 0.00000000    & 0.00          & 0.000000      & 0.07436915    & ...           & 437813398163  &     21        &    0          &    0          &     4         &     1         &     4         &     7         &  0.4656905    & -0.8793284   \\\\\n",
       "\\end{tabular}\n"
      ],
      "text/markdown": [
       "\n",
       "| destination | origin | iso_d | iso_o | col | csl | cnl | prox1 | lp1 | prox2 | ... | GDP_d | m_stock | m_flow_sd_drop_neg | m_flow_sd_rev_neg | m_flow_mig_rate | m_flow_da_min_open | m_flow_da_min_closed | m_flow_da_pb_closed | CS_wvs | CS_foursquare |\n",
       "|---|---|---|---|---|---|---|---|---|---|---|---|---|---|---|---|---|---|---|---|---|\n",
       "| Argentina     | Australia     | ARG           | AUS           | 0             | 0.02058416    | 0.00080000    | 0.25          | 1.945866      | 0.13052547    | ...           | 437813398163  |    279        |    1          |    1          |    56         |    16         |   105         |  2224         |  0.2579213    |  0.1005334    |\n",
       "| Argentina     | Brazil        | ARG           | BRA           | 0             | 0.06052872    | 0.00080000    | 0.75          | 5.837599      | 0.42439765    | ...           | 437813398163  |  49647        |  475          |  475          |  9997         |  2332         |     0         | 10767         |  0.7688173    |  0.8402622    |\n",
       "| Argentina     | Chile         | ARG           | CHL           | 1             | 0.98010004    | 0.85439998    | 0.00          | 0.000000      | 0.00000000    | ...           | 437813398163  | 216855        | 2079          | 2079          | 43666         | 13875         | 53604         | 84213         | -0.9899189    |  0.9548769    |\n",
       "| Argentina     | France        | ARG           | FRA           | 0             | 0.13392781    | 0.01039232    | 0.50          | 3.891733      | 0.25450581    | ...           | 437813398163  |   8303        |   79          |   79          |  1672         |   467         |   156         |  3048         |  0.1697698    |  0.8741573    |\n",
       "| Argentina     | Great Britain | ARG           | GBR           | 0             | 0.08325152    | 0.00000000    | 0.25          | 1.945866      | 0.13052547    | ...           | 437813398163  |    959        |    8          |    8          |   193         |    45         |   126         |  1559         |  0.3229716    |  0.6263188    |\n",
       "| Argentina     | Indonesia     | ARG           | IDN           | 0             | 0.00000000    | 0.00000000    | 0.00          | 0.000000      | 0.07436915    | ...           | 437813398163  |     21        |    0          |    0          |     4         |     1         |     4         |     7         |  0.4656905    | -0.8793284    |\n",
       "\n"
      ],
      "text/plain": [
       "  destination origin        iso_d iso_o col csl        cnl        prox1\n",
       "1 Argentina   Australia     ARG   AUS   0   0.02058416 0.00080000 0.25 \n",
       "2 Argentina   Brazil        ARG   BRA   0   0.06052872 0.00080000 0.75 \n",
       "3 Argentina   Chile         ARG   CHL   1   0.98010004 0.85439998 0.00 \n",
       "4 Argentina   France        ARG   FRA   0   0.13392781 0.01039232 0.50 \n",
       "5 Argentina   Great Britain ARG   GBR   0   0.08325152 0.00000000 0.25 \n",
       "6 Argentina   Indonesia     ARG   IDN   0   0.00000000 0.00000000 0.00 \n",
       "  lp1      prox2      ... GDP_d        m_stock m_flow_sd_drop_neg\n",
       "1 1.945866 0.13052547 ... 437813398163    279     1              \n",
       "2 5.837599 0.42439765 ... 437813398163  49647   475              \n",
       "3 0.000000 0.00000000 ... 437813398163 216855  2079              \n",
       "4 3.891733 0.25450581 ... 437813398163   8303    79              \n",
       "5 1.945866 0.13052547 ... 437813398163    959     8              \n",
       "6 0.000000 0.07436915 ... 437813398163     21     0              \n",
       "  m_flow_sd_rev_neg m_flow_mig_rate m_flow_da_min_open m_flow_da_min_closed\n",
       "1    1                 56              16                105               \n",
       "2  475               9997            2332                  0               \n",
       "3 2079              43666           13875              53604               \n",
       "4   79               1672             467                156               \n",
       "5    8                193              45                126               \n",
       "6    0                  4               1                  4               \n",
       "  m_flow_da_pb_closed CS_wvs     CS_foursquare\n",
       "1  2224                0.2579213  0.1005334   \n",
       "2 10767                0.7688173  0.8402622   \n",
       "3 84213               -0.9899189  0.9548769   \n",
       "4  3048                0.1697698  0.8741573   \n",
       "5  1559                0.3229716  0.6263188   \n",
       "6     7                0.4656905 -0.8793284   "
      ]
     },
     "metadata": {},
     "output_type": "display_data"
    }
   ],
   "source": [
    "official_dataset <- merge(official_dataset, wvs_cosine_longer)\n",
    "official_dataset <- merge(official_dataset, foursquare_cosine_longer)\n",
    "\n",
    "head(official_dataset)"
   ]
  },
  {
   "cell_type": "code",
   "execution_count": 30,
   "metadata": {},
   "outputs": [
    {
     "data": {
      "text/html": [
       "<ol class=list-inline>\n",
       "\t<li>240</li>\n",
       "\t<li>36</li>\n",
       "</ol>\n"
      ],
      "text/latex": [
       "\\begin{enumerate*}\n",
       "\\item 240\n",
       "\\item 36\n",
       "\\end{enumerate*}\n"
      ],
      "text/markdown": [
       "1. 240\n",
       "2. 36\n",
       "\n",
       "\n"
      ],
      "text/plain": [
       "[1] 240  36"
      ]
     },
     "metadata": {},
     "output_type": "display_data"
    }
   ],
   "source": [
    "dim(official_dataset)"
   ]
  },
  {
   "cell_type": "code",
   "execution_count": 31,
   "metadata": {},
   "outputs": [],
   "source": [
    "write_csv(official_dataset, \"data/subset-official-dataset-05-22.csv\")"
   ]
  },
  {
   "cell_type": "markdown",
   "metadata": {},
   "source": [
    "## Cultural Similarity "
   ]
  },
  {
   "cell_type": "markdown",
   "metadata": {},
   "source": [
    "#### symmetric:   \n",
    "\n",
    "each country is represented by a vector corresponding to the top (almost) <b>400 dishes</b> (top 50 dishes in all the countries)"
   ]
  },
  {
   "cell_type": "markdown",
   "metadata": {},
   "source": [
    "![CD](figs/heatmap-similarity-symmetric-tops-topK-cosine-reds.png)"
   ]
  },
  {
   "cell_type": "code",
   "execution_count": 32,
   "metadata": {},
   "outputs": [
    {
     "name": "stderr",
     "output_type": "stream",
     "text": [
      "Warning message:\n",
      "“Missing column names filled in: 'X1' [1]”"
     ]
    }
   ],
   "source": [
    "cd_sym <- read_csv(\"data/FB-food-cultural_similarity-symmetric-top-163.csv\", col_types = cols())\n",
    "colnames(cd_sym)[1] <- \"interests_from\""
   ]
  },
  {
   "cell_type": "code",
   "execution_count": 33,
   "metadata": {},
   "outputs": [
    {
     "data": {
      "text/html": [
       "<table>\n",
       "<thead><tr><th scope=col>interests_from</th><th scope=col>Argentina</th><th scope=col>Australia</th><th scope=col>Brazil</th><th scope=col>Chile</th><th scope=col>France</th><th scope=col>Great Britain</th><th scope=col>Indonesia</th><th scope=col>Japan</th><th scope=col>Malaysia</th><th scope=col>Mexico</th><th scope=col>Russia</th><th scope=col>Singapore</th><th scope=col>South Korea</th><th scope=col>Spain</th><th scope=col>Turkey</th><th scope=col>United States</th></tr></thead>\n",
       "<tbody>\n",
       "\t<tr><td>Argentina    </td><td> 1.000000000 </td><td>-0.1626831   </td><td> 0.19485541  </td><td> 0.41201274  </td><td>-0.003257801 </td><td>-0.17993609  </td><td>-0.13704314  </td><td>-0.13214747  </td><td>-0.26977055  </td><td> 0.29775594  </td><td>-0.04100249  </td><td>-0.2566822   </td><td>-0.16094402  </td><td> 0.20017383  </td><td>-0.06210403  </td><td>-0.15866855  </td></tr>\n",
       "\t<tr><td>Australia    </td><td>-0.162683113 </td><td> 1.0000000   </td><td>-0.23317915  </td><td>-0.29450338  </td><td>-0.287144698 </td><td> 0.42500589  </td><td>-0.51754757  </td><td>-0.54966290  </td><td> 0.34170015  </td><td>-0.13035142  </td><td>-0.61086630  </td><td> 0.3371980   </td><td>-0.32945662  </td><td>-0.34235562  </td><td>-0.42960443  </td><td> 0.54298889  </td></tr>\n",
       "\t<tr><td>Brazil       </td><td> 0.194855413 </td><td>-0.2331792   </td><td> 1.00000000  </td><td> 0.17574451  </td><td> 0.060125106 </td><td>-0.10884516  </td><td> 0.01269456  </td><td> 0.12001132  </td><td>-0.32225425  </td><td> 0.02640051  </td><td> 0.13359658  </td><td>-0.3050608   </td><td>-0.05114448  </td><td> 0.12168753  </td><td> 0.03903992  </td><td>-0.21211853  </td></tr>\n",
       "\t<tr><td>Chile        </td><td> 0.412012736 </td><td>-0.2945034   </td><td> 0.17574451  </td><td> 1.00000000  </td><td> 0.031023883 </td><td>-0.21033239  </td><td>-0.04680964  </td><td> 0.04865095  </td><td>-0.36937776  </td><td> 0.33912740  </td><td> 0.10013607  </td><td>-0.3215099   </td><td>-0.12849570  </td><td> 0.25108751  </td><td> 0.03050597  </td><td>-0.20420369  </td></tr>\n",
       "\t<tr><td>France       </td><td>-0.003257801 </td><td>-0.2871447   </td><td> 0.06012511  </td><td> 0.03102388  </td><td> 1.000000000 </td><td>-0.09859411  </td><td> 0.13017437  </td><td> 0.23963749  </td><td>-0.37828174  </td><td>-0.08554674  </td><td> 0.33588439  </td><td>-0.3263162   </td><td>-0.01526477  </td><td> 0.28827142  </td><td> 0.24460159  </td><td>-0.26236131  </td></tr>\n",
       "\t<tr><td>Great Britain</td><td>-0.179936091 </td><td> 0.4250059   </td><td>-0.10884516  </td><td>-0.21033239  </td><td>-0.098594107 </td><td> 1.00000000  </td><td>-0.32891798  </td><td>-0.33241603  </td><td> 0.04248583  </td><td>-0.16590704  </td><td>-0.28508737  </td><td> 0.0630232   </td><td>-0.20098791  </td><td>-0.13337226  </td><td>-0.25089195  </td><td> 0.33371640  </td></tr>\n",
       "\t<tr><td>Indonesia    </td><td>-0.137043141 </td><td>-0.5175476   </td><td> 0.01269456  </td><td>-0.04680964  </td><td> 0.130174371 </td><td>-0.32891798  </td><td> 1.00000000  </td><td> 0.51106403  </td><td>-0.17818432  </td><td>-0.21861798  </td><td> 0.64013863  </td><td>-0.2983747   </td><td> 0.24842487  </td><td> 0.08638535  </td><td> 0.35610248  </td><td>-0.44745331  </td></tr>\n",
       "\t<tr><td>Japan        </td><td>-0.132147465 </td><td>-0.5496629   </td><td> 0.12001132  </td><td> 0.04865095  </td><td> 0.239637490 </td><td>-0.33241603  </td><td> 0.51106403  </td><td> 1.00000000  </td><td>-0.46057871  </td><td>-0.17906811  </td><td> 0.67726220  </td><td>-0.2998676   </td><td> 0.31269595  </td><td> 0.20131655  </td><td> 0.41898381  </td><td>-0.47102984  </td></tr>\n",
       "\t<tr><td>Malaysia     </td><td>-0.269770549 </td><td> 0.3417002   </td><td>-0.32225425  </td><td>-0.36937776  </td><td>-0.378281741 </td><td> 0.04248583  </td><td>-0.17818432  </td><td>-0.46057871  </td><td> 1.00000000  </td><td>-0.16917057  </td><td>-0.56450152  </td><td> 0.5649573   </td><td>-0.10799744  </td><td>-0.45819149  </td><td>-0.37749945  </td><td> 0.19810814  </td></tr>\n",
       "\t<tr><td>Mexico       </td><td> 0.297755939 </td><td>-0.1303514   </td><td> 0.02640051  </td><td> 0.33912740  </td><td>-0.085546739 </td><td>-0.16590704  </td><td>-0.21861798  </td><td>-0.17906811  </td><td>-0.16917057  </td><td> 1.00000000  </td><td>-0.16602945  </td><td>-0.1811993   </td><td>-0.13117037  </td><td> 0.05460400  </td><td>-0.14463016  </td><td> 0.01854265  </td></tr>\n",
       "\t<tr><td>Russia       </td><td>-0.041002488 </td><td>-0.6108663   </td><td> 0.13359658  </td><td> 0.10013607  </td><td> 0.335884391 </td><td>-0.28508737  </td><td> 0.64013863  </td><td> 0.67726220  </td><td>-0.56450152  </td><td>-0.16602945  </td><td> 1.00000000  </td><td>-0.4745670   </td><td> 0.23998696  </td><td> 0.29510019  </td><td> 0.53246777  </td><td>-0.49572793  </td></tr>\n",
       "\t<tr><td>Singapore    </td><td>-0.256682207 </td><td> 0.3371980   </td><td>-0.30506082  </td><td>-0.32150987  </td><td>-0.326316239 </td><td> 0.06302320  </td><td>-0.29837465  </td><td>-0.29986759  </td><td> 0.56495730  </td><td>-0.18119932  </td><td>-0.47456698  </td><td> 1.0000000   </td><td>-0.11561244  </td><td>-0.37258449  </td><td>-0.37854594  </td><td> 0.18010933  </td></tr>\n",
       "\t<tr><td>South Korea  </td><td>-0.160944017 </td><td>-0.3294566   </td><td>-0.05114448  </td><td>-0.12849570  </td><td>-0.015264766 </td><td>-0.20098791  </td><td> 0.24842487  </td><td> 0.31269595  </td><td>-0.10799744  </td><td>-0.13117037  </td><td> 0.23998696  </td><td>-0.1156124   </td><td> 1.00000000  </td><td>-0.03497492  </td><td> 0.09111482  </td><td>-0.27597509  </td></tr>\n",
       "\t<tr><td>Spain        </td><td> 0.200173825 </td><td>-0.3423556   </td><td> 0.12168753  </td><td> 0.25108751  </td><td> 0.288271424 </td><td>-0.13337226  </td><td> 0.08638535  </td><td> 0.20131655  </td><td>-0.45819149  </td><td> 0.05460400  </td><td> 0.29510019  </td><td>-0.3725845   </td><td>-0.03497492  </td><td> 1.00000000  </td><td> 0.20982354  </td><td>-0.32364884  </td></tr>\n",
       "\t<tr><td>Turkey       </td><td>-0.062104034 </td><td>-0.4296044   </td><td> 0.03903992  </td><td> 0.03050597  </td><td> 0.244601587 </td><td>-0.25089195  </td><td> 0.35610248  </td><td> 0.41898381  </td><td>-0.37749945  </td><td>-0.14463016  </td><td> 0.53246777  </td><td>-0.3785459   </td><td> 0.09111482  </td><td> 0.20982354  </td><td> 1.00000000  </td><td>-0.41777741  </td></tr>\n",
       "\t<tr><td>United States</td><td>-0.158668553 </td><td> 0.5429889   </td><td>-0.21211853  </td><td>-0.20420369  </td><td>-0.262361307 </td><td> 0.33371640  </td><td>-0.44745331  </td><td>-0.47102984  </td><td> 0.19810814  </td><td> 0.01854265  </td><td>-0.49572793  </td><td> 0.1801093   </td><td>-0.27597509  </td><td>-0.32364884  </td><td>-0.41777741  </td><td> 1.00000000  </td></tr>\n",
       "</tbody>\n",
       "</table>\n"
      ],
      "text/latex": [
       "\\begin{tabular}{r|lllllllllllllllll}\n",
       " interests\\_from & Argentina & Australia & Brazil & Chile & France & Great Britain & Indonesia & Japan & Malaysia & Mexico & Russia & Singapore & South Korea & Spain & Turkey & United States\\\\\n",
       "\\hline\n",
       "\t Argentina     &  1.000000000  & -0.1626831    &  0.19485541   &  0.41201274   & -0.003257801  & -0.17993609   & -0.13704314   & -0.13214747   & -0.26977055   &  0.29775594   & -0.04100249   & -0.2566822    & -0.16094402   &  0.20017383   & -0.06210403   & -0.15866855  \\\\\n",
       "\t Australia     & -0.162683113  &  1.0000000    & -0.23317915   & -0.29450338   & -0.287144698  &  0.42500589   & -0.51754757   & -0.54966290   &  0.34170015   & -0.13035142   & -0.61086630   &  0.3371980    & -0.32945662   & -0.34235562   & -0.42960443   &  0.54298889  \\\\\n",
       "\t Brazil        &  0.194855413  & -0.2331792    &  1.00000000   &  0.17574451   &  0.060125106  & -0.10884516   &  0.01269456   &  0.12001132   & -0.32225425   &  0.02640051   &  0.13359658   & -0.3050608    & -0.05114448   &  0.12168753   &  0.03903992   & -0.21211853  \\\\\n",
       "\t Chile         &  0.412012736  & -0.2945034    &  0.17574451   &  1.00000000   &  0.031023883  & -0.21033239   & -0.04680964   &  0.04865095   & -0.36937776   &  0.33912740   &  0.10013607   & -0.3215099    & -0.12849570   &  0.25108751   &  0.03050597   & -0.20420369  \\\\\n",
       "\t France        & -0.003257801  & -0.2871447    &  0.06012511   &  0.03102388   &  1.000000000  & -0.09859411   &  0.13017437   &  0.23963749   & -0.37828174   & -0.08554674   &  0.33588439   & -0.3263162    & -0.01526477   &  0.28827142   &  0.24460159   & -0.26236131  \\\\\n",
       "\t Great Britain & -0.179936091  &  0.4250059    & -0.10884516   & -0.21033239   & -0.098594107  &  1.00000000   & -0.32891798   & -0.33241603   &  0.04248583   & -0.16590704   & -0.28508737   &  0.0630232    & -0.20098791   & -0.13337226   & -0.25089195   &  0.33371640  \\\\\n",
       "\t Indonesia     & -0.137043141  & -0.5175476    &  0.01269456   & -0.04680964   &  0.130174371  & -0.32891798   &  1.00000000   &  0.51106403   & -0.17818432   & -0.21861798   &  0.64013863   & -0.2983747    &  0.24842487   &  0.08638535   &  0.35610248   & -0.44745331  \\\\\n",
       "\t Japan         & -0.132147465  & -0.5496629    &  0.12001132   &  0.04865095   &  0.239637490  & -0.33241603   &  0.51106403   &  1.00000000   & -0.46057871   & -0.17906811   &  0.67726220   & -0.2998676    &  0.31269595   &  0.20131655   &  0.41898381   & -0.47102984  \\\\\n",
       "\t Malaysia      & -0.269770549  &  0.3417002    & -0.32225425   & -0.36937776   & -0.378281741  &  0.04248583   & -0.17818432   & -0.46057871   &  1.00000000   & -0.16917057   & -0.56450152   &  0.5649573    & -0.10799744   & -0.45819149   & -0.37749945   &  0.19810814  \\\\\n",
       "\t Mexico        &  0.297755939  & -0.1303514    &  0.02640051   &  0.33912740   & -0.085546739  & -0.16590704   & -0.21861798   & -0.17906811   & -0.16917057   &  1.00000000   & -0.16602945   & -0.1811993    & -0.13117037   &  0.05460400   & -0.14463016   &  0.01854265  \\\\\n",
       "\t Russia        & -0.041002488  & -0.6108663    &  0.13359658   &  0.10013607   &  0.335884391  & -0.28508737   &  0.64013863   &  0.67726220   & -0.56450152   & -0.16602945   &  1.00000000   & -0.4745670    &  0.23998696   &  0.29510019   &  0.53246777   & -0.49572793  \\\\\n",
       "\t Singapore     & -0.256682207  &  0.3371980    & -0.30506082   & -0.32150987   & -0.326316239  &  0.06302320   & -0.29837465   & -0.29986759   &  0.56495730   & -0.18119932   & -0.47456698   &  1.0000000    & -0.11561244   & -0.37258449   & -0.37854594   &  0.18010933  \\\\\n",
       "\t South Korea   & -0.160944017  & -0.3294566    & -0.05114448   & -0.12849570   & -0.015264766  & -0.20098791   &  0.24842487   &  0.31269595   & -0.10799744   & -0.13117037   &  0.23998696   & -0.1156124    &  1.00000000   & -0.03497492   &  0.09111482   & -0.27597509  \\\\\n",
       "\t Spain         &  0.200173825  & -0.3423556    &  0.12168753   &  0.25108751   &  0.288271424  & -0.13337226   &  0.08638535   &  0.20131655   & -0.45819149   &  0.05460400   &  0.29510019   & -0.3725845    & -0.03497492   &  1.00000000   &  0.20982354   & -0.32364884  \\\\\n",
       "\t Turkey        & -0.062104034  & -0.4296044    &  0.03903992   &  0.03050597   &  0.244601587  & -0.25089195   &  0.35610248   &  0.41898381   & -0.37749945   & -0.14463016   &  0.53246777   & -0.3785459    &  0.09111482   &  0.20982354   &  1.00000000   & -0.41777741  \\\\\n",
       "\t United States & -0.158668553  &  0.5429889    & -0.21211853   & -0.20420369   & -0.262361307  &  0.33371640   & -0.44745331   & -0.47102984   &  0.19810814   &  0.01854265   & -0.49572793   &  0.1801093    & -0.27597509   & -0.32364884   & -0.41777741   &  1.00000000  \\\\\n",
       "\\end{tabular}\n"
      ],
      "text/markdown": [
       "\n",
       "| interests_from | Argentina | Australia | Brazil | Chile | France | Great Britain | Indonesia | Japan | Malaysia | Mexico | Russia | Singapore | South Korea | Spain | Turkey | United States |\n",
       "|---|---|---|---|---|---|---|---|---|---|---|---|---|---|---|---|---|\n",
       "| Argentina     |  1.000000000  | -0.1626831    |  0.19485541   |  0.41201274   | -0.003257801  | -0.17993609   | -0.13704314   | -0.13214747   | -0.26977055   |  0.29775594   | -0.04100249   | -0.2566822    | -0.16094402   |  0.20017383   | -0.06210403   | -0.15866855   |\n",
       "| Australia     | -0.162683113  |  1.0000000    | -0.23317915   | -0.29450338   | -0.287144698  |  0.42500589   | -0.51754757   | -0.54966290   |  0.34170015   | -0.13035142   | -0.61086630   |  0.3371980    | -0.32945662   | -0.34235562   | -0.42960443   |  0.54298889   |\n",
       "| Brazil        |  0.194855413  | -0.2331792    |  1.00000000   |  0.17574451   |  0.060125106  | -0.10884516   |  0.01269456   |  0.12001132   | -0.32225425   |  0.02640051   |  0.13359658   | -0.3050608    | -0.05114448   |  0.12168753   |  0.03903992   | -0.21211853   |\n",
       "| Chile         |  0.412012736  | -0.2945034    |  0.17574451   |  1.00000000   |  0.031023883  | -0.21033239   | -0.04680964   |  0.04865095   | -0.36937776   |  0.33912740   |  0.10013607   | -0.3215099    | -0.12849570   |  0.25108751   |  0.03050597   | -0.20420369   |\n",
       "| France        | -0.003257801  | -0.2871447    |  0.06012511   |  0.03102388   |  1.000000000  | -0.09859411   |  0.13017437   |  0.23963749   | -0.37828174   | -0.08554674   |  0.33588439   | -0.3263162    | -0.01526477   |  0.28827142   |  0.24460159   | -0.26236131   |\n",
       "| Great Britain | -0.179936091  |  0.4250059    | -0.10884516   | -0.21033239   | -0.098594107  |  1.00000000   | -0.32891798   | -0.33241603   |  0.04248583   | -0.16590704   | -0.28508737   |  0.0630232    | -0.20098791   | -0.13337226   | -0.25089195   |  0.33371640   |\n",
       "| Indonesia     | -0.137043141  | -0.5175476    |  0.01269456   | -0.04680964   |  0.130174371  | -0.32891798   |  1.00000000   |  0.51106403   | -0.17818432   | -0.21861798   |  0.64013863   | -0.2983747    |  0.24842487   |  0.08638535   |  0.35610248   | -0.44745331   |\n",
       "| Japan         | -0.132147465  | -0.5496629    |  0.12001132   |  0.04865095   |  0.239637490  | -0.33241603   |  0.51106403   |  1.00000000   | -0.46057871   | -0.17906811   |  0.67726220   | -0.2998676    |  0.31269595   |  0.20131655   |  0.41898381   | -0.47102984   |\n",
       "| Malaysia      | -0.269770549  |  0.3417002    | -0.32225425   | -0.36937776   | -0.378281741  |  0.04248583   | -0.17818432   | -0.46057871   |  1.00000000   | -0.16917057   | -0.56450152   |  0.5649573    | -0.10799744   | -0.45819149   | -0.37749945   |  0.19810814   |\n",
       "| Mexico        |  0.297755939  | -0.1303514    |  0.02640051   |  0.33912740   | -0.085546739  | -0.16590704   | -0.21861798   | -0.17906811   | -0.16917057   |  1.00000000   | -0.16602945   | -0.1811993    | -0.13117037   |  0.05460400   | -0.14463016   |  0.01854265   |\n",
       "| Russia        | -0.041002488  | -0.6108663    |  0.13359658   |  0.10013607   |  0.335884391  | -0.28508737   |  0.64013863   |  0.67726220   | -0.56450152   | -0.16602945   |  1.00000000   | -0.4745670    |  0.23998696   |  0.29510019   |  0.53246777   | -0.49572793   |\n",
       "| Singapore     | -0.256682207  |  0.3371980    | -0.30506082   | -0.32150987   | -0.326316239  |  0.06302320   | -0.29837465   | -0.29986759   |  0.56495730   | -0.18119932   | -0.47456698   |  1.0000000    | -0.11561244   | -0.37258449   | -0.37854594   |  0.18010933   |\n",
       "| South Korea   | -0.160944017  | -0.3294566    | -0.05114448   | -0.12849570   | -0.015264766  | -0.20098791   |  0.24842487   |  0.31269595   | -0.10799744   | -0.13117037   |  0.23998696   | -0.1156124    |  1.00000000   | -0.03497492   |  0.09111482   | -0.27597509   |\n",
       "| Spain         |  0.200173825  | -0.3423556    |  0.12168753   |  0.25108751   |  0.288271424  | -0.13337226   |  0.08638535   |  0.20131655   | -0.45819149   |  0.05460400   |  0.29510019   | -0.3725845    | -0.03497492   |  1.00000000   |  0.20982354   | -0.32364884   |\n",
       "| Turkey        | -0.062104034  | -0.4296044    |  0.03903992   |  0.03050597   |  0.244601587  | -0.25089195   |  0.35610248   |  0.41898381   | -0.37749945   | -0.14463016   |  0.53246777   | -0.3785459    |  0.09111482   |  0.20982354   |  1.00000000   | -0.41777741   |\n",
       "| United States | -0.158668553  |  0.5429889    | -0.21211853   | -0.20420369   | -0.262361307  |  0.33371640   | -0.44745331   | -0.47102984   |  0.19810814   |  0.01854265   | -0.49572793   |  0.1801093    | -0.27597509   | -0.32364884   | -0.41777741   |  1.00000000   |\n",
       "\n"
      ],
      "text/plain": [
       "   interests_from Argentina    Australia  Brazil      Chile       France      \n",
       "1  Argentina       1.000000000 -0.1626831  0.19485541  0.41201274 -0.003257801\n",
       "2  Australia      -0.162683113  1.0000000 -0.23317915 -0.29450338 -0.287144698\n",
       "3  Brazil          0.194855413 -0.2331792  1.00000000  0.17574451  0.060125106\n",
       "4  Chile           0.412012736 -0.2945034  0.17574451  1.00000000  0.031023883\n",
       "5  France         -0.003257801 -0.2871447  0.06012511  0.03102388  1.000000000\n",
       "6  Great Britain  -0.179936091  0.4250059 -0.10884516 -0.21033239 -0.098594107\n",
       "7  Indonesia      -0.137043141 -0.5175476  0.01269456 -0.04680964  0.130174371\n",
       "8  Japan          -0.132147465 -0.5496629  0.12001132  0.04865095  0.239637490\n",
       "9  Malaysia       -0.269770549  0.3417002 -0.32225425 -0.36937776 -0.378281741\n",
       "10 Mexico          0.297755939 -0.1303514  0.02640051  0.33912740 -0.085546739\n",
       "11 Russia         -0.041002488 -0.6108663  0.13359658  0.10013607  0.335884391\n",
       "12 Singapore      -0.256682207  0.3371980 -0.30506082 -0.32150987 -0.326316239\n",
       "13 South Korea    -0.160944017 -0.3294566 -0.05114448 -0.12849570 -0.015264766\n",
       "14 Spain           0.200173825 -0.3423556  0.12168753  0.25108751  0.288271424\n",
       "15 Turkey         -0.062104034 -0.4296044  0.03903992  0.03050597  0.244601587\n",
       "16 United States  -0.158668553  0.5429889 -0.21211853 -0.20420369 -0.262361307\n",
       "   Great Britain Indonesia   Japan       Malaysia    Mexico      Russia     \n",
       "1  -0.17993609   -0.13704314 -0.13214747 -0.26977055  0.29775594 -0.04100249\n",
       "2   0.42500589   -0.51754757 -0.54966290  0.34170015 -0.13035142 -0.61086630\n",
       "3  -0.10884516    0.01269456  0.12001132 -0.32225425  0.02640051  0.13359658\n",
       "4  -0.21033239   -0.04680964  0.04865095 -0.36937776  0.33912740  0.10013607\n",
       "5  -0.09859411    0.13017437  0.23963749 -0.37828174 -0.08554674  0.33588439\n",
       "6   1.00000000   -0.32891798 -0.33241603  0.04248583 -0.16590704 -0.28508737\n",
       "7  -0.32891798    1.00000000  0.51106403 -0.17818432 -0.21861798  0.64013863\n",
       "8  -0.33241603    0.51106403  1.00000000 -0.46057871 -0.17906811  0.67726220\n",
       "9   0.04248583   -0.17818432 -0.46057871  1.00000000 -0.16917057 -0.56450152\n",
       "10 -0.16590704   -0.21861798 -0.17906811 -0.16917057  1.00000000 -0.16602945\n",
       "11 -0.28508737    0.64013863  0.67726220 -0.56450152 -0.16602945  1.00000000\n",
       "12  0.06302320   -0.29837465 -0.29986759  0.56495730 -0.18119932 -0.47456698\n",
       "13 -0.20098791    0.24842487  0.31269595 -0.10799744 -0.13117037  0.23998696\n",
       "14 -0.13337226    0.08638535  0.20131655 -0.45819149  0.05460400  0.29510019\n",
       "15 -0.25089195    0.35610248  0.41898381 -0.37749945 -0.14463016  0.53246777\n",
       "16  0.33371640   -0.44745331 -0.47102984  0.19810814  0.01854265 -0.49572793\n",
       "   Singapore  South Korea Spain       Turkey      United States\n",
       "1  -0.2566822 -0.16094402  0.20017383 -0.06210403 -0.15866855  \n",
       "2   0.3371980 -0.32945662 -0.34235562 -0.42960443  0.54298889  \n",
       "3  -0.3050608 -0.05114448  0.12168753  0.03903992 -0.21211853  \n",
       "4  -0.3215099 -0.12849570  0.25108751  0.03050597 -0.20420369  \n",
       "5  -0.3263162 -0.01526477  0.28827142  0.24460159 -0.26236131  \n",
       "6   0.0630232 -0.20098791 -0.13337226 -0.25089195  0.33371640  \n",
       "7  -0.2983747  0.24842487  0.08638535  0.35610248 -0.44745331  \n",
       "8  -0.2998676  0.31269595  0.20131655  0.41898381 -0.47102984  \n",
       "9   0.5649573 -0.10799744 -0.45819149 -0.37749945  0.19810814  \n",
       "10 -0.1811993 -0.13117037  0.05460400 -0.14463016  0.01854265  \n",
       "11 -0.4745670  0.23998696  0.29510019  0.53246777 -0.49572793  \n",
       "12  1.0000000 -0.11561244 -0.37258449 -0.37854594  0.18010933  \n",
       "13 -0.1156124  1.00000000 -0.03497492  0.09111482 -0.27597509  \n",
       "14 -0.3725845 -0.03497492  1.00000000  0.20982354 -0.32364884  \n",
       "15 -0.3785459  0.09111482  0.20982354  1.00000000 -0.41777741  \n",
       "16  0.1801093 -0.27597509 -0.32364884 -0.41777741  1.00000000  "
      ]
     },
     "metadata": {},
     "output_type": "display_data"
    }
   ],
   "source": [
    "cd_sym"
   ]
  },
  {
   "cell_type": "code",
   "execution_count": 34,
   "metadata": {},
   "outputs": [
    {
     "data": {
      "text/html": [
       "<table>\n",
       "<thead><tr><th scope=col>destination</th><th scope=col>origin</th><th scope=col>CS_symm</th></tr></thead>\n",
       "<tbody>\n",
       "\t<tr><td>Argentina    </td><td>Argentina    </td><td> 1.000000000 </td></tr>\n",
       "\t<tr><td>Argentina    </td><td>Australia    </td><td>-0.162683113 </td></tr>\n",
       "\t<tr><td>Argentina    </td><td>Brazil       </td><td> 0.194855413 </td></tr>\n",
       "\t<tr><td>Argentina    </td><td>Chile        </td><td> 0.412012736 </td></tr>\n",
       "\t<tr><td>Argentina    </td><td>France       </td><td>-0.003257801 </td></tr>\n",
       "\t<tr><td>Argentina    </td><td>Great Britain</td><td>-0.179936091 </td></tr>\n",
       "</tbody>\n",
       "</table>\n"
      ],
      "text/latex": [
       "\\begin{tabular}{r|lll}\n",
       " destination & origin & CS\\_symm\\\\\n",
       "\\hline\n",
       "\t Argentina     & Argentina     &  1.000000000 \\\\\n",
       "\t Argentina     & Australia     & -0.162683113 \\\\\n",
       "\t Argentina     & Brazil        &  0.194855413 \\\\\n",
       "\t Argentina     & Chile         &  0.412012736 \\\\\n",
       "\t Argentina     & France        & -0.003257801 \\\\\n",
       "\t Argentina     & Great Britain & -0.179936091 \\\\\n",
       "\\end{tabular}\n"
      ],
      "text/markdown": [
       "\n",
       "| destination | origin | CS_symm |\n",
       "|---|---|---|\n",
       "| Argentina     | Argentina     |  1.000000000  |\n",
       "| Argentina     | Australia     | -0.162683113  |\n",
       "| Argentina     | Brazil        |  0.194855413  |\n",
       "| Argentina     | Chile         |  0.412012736  |\n",
       "| Argentina     | France        | -0.003257801  |\n",
       "| Argentina     | Great Britain | -0.179936091  |\n",
       "\n"
      ],
      "text/plain": [
       "  destination origin        CS_symm     \n",
       "1 Argentina   Argentina      1.000000000\n",
       "2 Argentina   Australia     -0.162683113\n",
       "3 Argentina   Brazil         0.194855413\n",
       "4 Argentina   Chile          0.412012736\n",
       "5 Argentina   France        -0.003257801\n",
       "6 Argentina   Great Britain -0.179936091"
      ]
     },
     "metadata": {},
     "output_type": "display_data"
    }
   ],
   "source": [
    "cd_sym <- cd_sym %>% pivot_longer(!interests_from, names_to = \"origin\", values_to = \"CS_symm\") %>%\n",
    "                        rename(destination = interests_from)\n",
    "\n",
    "head(cd_sym)"
   ]
  },
  {
   "cell_type": "markdown",
   "metadata": {},
   "source": [
    "#### nonsymmetric:   \n",
    "each country is represented by a vector corresponding to the <b>top 50 dishes from origin country</b>"
   ]
  },
  {
   "cell_type": "markdown",
   "metadata": {},
   "source": [
    "![CDiv](figs/heatmap-similarity-topK-cosine-reds.png)"
   ]
  },
  {
   "cell_type": "markdown",
   "metadata": {},
   "source": [
    "The **(non-symmetric)** Cultural Similarity between **origin (rows) and destination (columns)** represent how similar origin and destination are in terms of popular dishes from the country of **origin**.   \n",
    "\n",
    "**Hypothesis:** Immigrants prefer to move to (host) countries culturally similar to their (home/previous) country."
   ]
  },
  {
   "cell_type": "code",
   "execution_count": 35,
   "metadata": {},
   "outputs": [
    {
     "name": "stderr",
     "output_type": "stream",
     "text": [
      "Warning message:\n",
      "“Missing column names filled in: 'X1' [1]”"
     ]
    }
   ],
   "source": [
    "cd_nonsym <- read_csv(\"data/FB-food-cultural_similarity-nonsymmetric-top-163.csv\", col_types = cols())\n",
    "colnames(cd_nonsym)[1] <- \"interests_from\""
   ]
  },
  {
   "cell_type": "code",
   "execution_count": 36,
   "metadata": {},
   "outputs": [
    {
     "data": {
      "text/html": [
       "<table>\n",
       "<thead><tr><th scope=col>origin</th><th scope=col>destination</th><th scope=col>CS_nonsymm_food_o</th><th scope=col>CS_symm</th></tr></thead>\n",
       "<tbody>\n",
       "\t<tr><td>Argentina    </td><td>Argentina    </td><td> 1.00000000  </td><td> 1.000000000 </td></tr>\n",
       "\t<tr><td>Argentina    </td><td>Australia    </td><td> 0.30243891  </td><td>-0.162683113 </td></tr>\n",
       "\t<tr><td>Argentina    </td><td>Brazil       </td><td> 0.03255659  </td><td> 0.194855413 </td></tr>\n",
       "\t<tr><td>Argentina    </td><td>Chile        </td><td> 0.38357214  </td><td> 0.412012736 </td></tr>\n",
       "\t<tr><td>Argentina    </td><td>France       </td><td>-0.36567789  </td><td>-0.003257801 </td></tr>\n",
       "\t<tr><td>Argentina    </td><td>Great Britain</td><td>-0.08462522  </td><td>-0.179936091 </td></tr>\n",
       "</tbody>\n",
       "</table>\n"
      ],
      "text/latex": [
       "\\begin{tabular}{r|llll}\n",
       " origin & destination & CS\\_nonsymm\\_food\\_o & CS\\_symm\\\\\n",
       "\\hline\n",
       "\t Argentina     & Argentina     &  1.00000000   &  1.000000000 \\\\\n",
       "\t Argentina     & Australia     &  0.30243891   & -0.162683113 \\\\\n",
       "\t Argentina     & Brazil        &  0.03255659   &  0.194855413 \\\\\n",
       "\t Argentina     & Chile         &  0.38357214   &  0.412012736 \\\\\n",
       "\t Argentina     & France        & -0.36567789   & -0.003257801 \\\\\n",
       "\t Argentina     & Great Britain & -0.08462522   & -0.179936091 \\\\\n",
       "\\end{tabular}\n"
      ],
      "text/markdown": [
       "\n",
       "| origin | destination | CS_nonsymm_food_o | CS_symm |\n",
       "|---|---|---|---|\n",
       "| Argentina     | Argentina     |  1.00000000   |  1.000000000  |\n",
       "| Argentina     | Australia     |  0.30243891   | -0.162683113  |\n",
       "| Argentina     | Brazil        |  0.03255659   |  0.194855413  |\n",
       "| Argentina     | Chile         |  0.38357214   |  0.412012736  |\n",
       "| Argentina     | France        | -0.36567789   | -0.003257801  |\n",
       "| Argentina     | Great Britain | -0.08462522   | -0.179936091  |\n",
       "\n"
      ],
      "text/plain": [
       "  origin    destination   CS_nonsymm_food_o CS_symm     \n",
       "1 Argentina Argentina      1.00000000        1.000000000\n",
       "2 Argentina Australia      0.30243891       -0.162683113\n",
       "3 Argentina Brazil         0.03255659        0.194855413\n",
       "4 Argentina Chile          0.38357214        0.412012736\n",
       "5 Argentina France        -0.36567789       -0.003257801\n",
       "6 Argentina Great Britain -0.08462522       -0.179936091"
      ]
     },
     "metadata": {},
     "output_type": "display_data"
    }
   ],
   "source": [
    "cd_food_o <- cd_nonsym %>% pivot_longer(!interests_from, names_to = \"destination\", values_to = \"CS_nonsymm_food_o\") %>%\n",
    "                           rename(origin = interests_from) %>%\n",
    "                            merge(cd_sym)\n",
    "\n",
    "head(cd_food_o)"
   ]
  },
  {
   "cell_type": "markdown",
   "metadata": {},
   "source": [
    "The **(non-symmetric)** Cultural Similarity between **origin (rows) and destination (columns)** representing how similar origin and destination are in terms of popular dishes from the country of **destination**. "
   ]
  },
  {
   "cell_type": "code",
   "execution_count": 37,
   "metadata": {},
   "outputs": [
    {
     "data": {
      "text/html": [
       "<table>\n",
       "<thead><tr><th scope=col>destination</th><th scope=col>origin</th><th scope=col>CS_nonsymm_food_d</th><th scope=col>CS_symm</th></tr></thead>\n",
       "<tbody>\n",
       "\t<tr><td>Argentina    </td><td>Argentina    </td><td> 1.00000000  </td><td> 1.000000000 </td></tr>\n",
       "\t<tr><td>Argentina    </td><td>Australia    </td><td> 0.30243891  </td><td>-0.162683113 </td></tr>\n",
       "\t<tr><td>Argentina    </td><td>Brazil       </td><td> 0.03255659  </td><td> 0.194855413 </td></tr>\n",
       "\t<tr><td>Argentina    </td><td>Chile        </td><td> 0.38357214  </td><td> 0.412012736 </td></tr>\n",
       "\t<tr><td>Argentina    </td><td>France       </td><td>-0.36567789  </td><td>-0.003257801 </td></tr>\n",
       "\t<tr><td>Argentina    </td><td>Great Britain</td><td>-0.08462522  </td><td>-0.179936091 </td></tr>\n",
       "</tbody>\n",
       "</table>\n"
      ],
      "text/latex": [
       "\\begin{tabular}{r|llll}\n",
       " destination & origin & CS\\_nonsymm\\_food\\_d & CS\\_symm\\\\\n",
       "\\hline\n",
       "\t Argentina     & Argentina     &  1.00000000   &  1.000000000 \\\\\n",
       "\t Argentina     & Australia     &  0.30243891   & -0.162683113 \\\\\n",
       "\t Argentina     & Brazil        &  0.03255659   &  0.194855413 \\\\\n",
       "\t Argentina     & Chile         &  0.38357214   &  0.412012736 \\\\\n",
       "\t Argentina     & France        & -0.36567789   & -0.003257801 \\\\\n",
       "\t Argentina     & Great Britain & -0.08462522   & -0.179936091 \\\\\n",
       "\\end{tabular}\n"
      ],
      "text/markdown": [
       "\n",
       "| destination | origin | CS_nonsymm_food_d | CS_symm |\n",
       "|---|---|---|---|\n",
       "| Argentina     | Argentina     |  1.00000000   |  1.000000000  |\n",
       "| Argentina     | Australia     |  0.30243891   | -0.162683113  |\n",
       "| Argentina     | Brazil        |  0.03255659   |  0.194855413  |\n",
       "| Argentina     | Chile         |  0.38357214   |  0.412012736  |\n",
       "| Argentina     | France        | -0.36567789   | -0.003257801  |\n",
       "| Argentina     | Great Britain | -0.08462522   | -0.179936091  |\n",
       "\n"
      ],
      "text/plain": [
       "  destination origin        CS_nonsymm_food_d CS_symm     \n",
       "1 Argentina   Argentina      1.00000000        1.000000000\n",
       "2 Argentina   Australia      0.30243891       -0.162683113\n",
       "3 Argentina   Brazil         0.03255659        0.194855413\n",
       "4 Argentina   Chile          0.38357214        0.412012736\n",
       "5 Argentina   France        -0.36567789       -0.003257801\n",
       "6 Argentina   Great Britain -0.08462522       -0.179936091"
      ]
     },
     "metadata": {},
     "output_type": "display_data"
    }
   ],
   "source": [
    "cd_food_d <- cd_nonsym %>% pivot_longer(!interests_from, names_to = \"origin\", values_to = \"CS_nonsymm_food_d\") %>%\n",
    "                            rename(destination = interests_from) %>%\n",
    "                            merge(cd_sym)\n",
    "\n",
    "head(cd_food_d)"
   ]
  },
  {
   "cell_type": "code",
   "execution_count": 38,
   "metadata": {},
   "outputs": [
    {
     "data": {
      "text/html": [
       "<table>\n",
       "<thead><tr><th scope=col>origin</th><th scope=col>destination</th><th scope=col>CS_symm</th><th scope=col>CS_nonsymm_food_o</th><th scope=col>CS_nonsymm_food_d</th></tr></thead>\n",
       "<tbody>\n",
       "\t<tr><td>Argentina    </td><td>Argentina    </td><td> 1.000000000 </td><td> 1.00000000  </td><td> 1.00000000  </td></tr>\n",
       "\t<tr><td>Argentina    </td><td>Australia    </td><td>-0.162683113 </td><td> 0.30243891  </td><td>-0.36172046  </td></tr>\n",
       "\t<tr><td>Argentina    </td><td>Brazil       </td><td> 0.194855413 </td><td> 0.03255659  </td><td> 0.21087156  </td></tr>\n",
       "\t<tr><td>Argentina    </td><td>Chile        </td><td> 0.412012736 </td><td> 0.38357214  </td><td> 0.42896829  </td></tr>\n",
       "\t<tr><td>Argentina    </td><td>France       </td><td>-0.003257801 </td><td>-0.36567789  </td><td>-0.08601682  </td></tr>\n",
       "\t<tr><td>Argentina    </td><td>Great Britain</td><td>-0.179936091 </td><td>-0.08462522  </td><td>-0.28911818  </td></tr>\n",
       "</tbody>\n",
       "</table>\n"
      ],
      "text/latex": [
       "\\begin{tabular}{r|lllll}\n",
       " origin & destination & CS\\_symm & CS\\_nonsymm\\_food\\_o & CS\\_nonsymm\\_food\\_d\\\\\n",
       "\\hline\n",
       "\t Argentina     & Argentina     &  1.000000000  &  1.00000000   &  1.00000000  \\\\\n",
       "\t Argentina     & Australia     & -0.162683113  &  0.30243891   & -0.36172046  \\\\\n",
       "\t Argentina     & Brazil        &  0.194855413  &  0.03255659   &  0.21087156  \\\\\n",
       "\t Argentina     & Chile         &  0.412012736  &  0.38357214   &  0.42896829  \\\\\n",
       "\t Argentina     & France        & -0.003257801  & -0.36567789   & -0.08601682  \\\\\n",
       "\t Argentina     & Great Britain & -0.179936091  & -0.08462522   & -0.28911818  \\\\\n",
       "\\end{tabular}\n"
      ],
      "text/markdown": [
       "\n",
       "| origin | destination | CS_symm | CS_nonsymm_food_o | CS_nonsymm_food_d |\n",
       "|---|---|---|---|---|\n",
       "| Argentina     | Argentina     |  1.000000000  |  1.00000000   |  1.00000000   |\n",
       "| Argentina     | Australia     | -0.162683113  |  0.30243891   | -0.36172046   |\n",
       "| Argentina     | Brazil        |  0.194855413  |  0.03255659   |  0.21087156   |\n",
       "| Argentina     | Chile         |  0.412012736  |  0.38357214   |  0.42896829   |\n",
       "| Argentina     | France        | -0.003257801  | -0.36567789   | -0.08601682   |\n",
       "| Argentina     | Great Britain | -0.179936091  | -0.08462522   | -0.28911818   |\n",
       "\n"
      ],
      "text/plain": [
       "  origin    destination   CS_symm      CS_nonsymm_food_o CS_nonsymm_food_d\n",
       "1 Argentina Argentina      1.000000000  1.00000000        1.00000000      \n",
       "2 Argentina Australia     -0.162683113  0.30243891       -0.36172046      \n",
       "3 Argentina Brazil         0.194855413  0.03255659        0.21087156      \n",
       "4 Argentina Chile          0.412012736  0.38357214        0.42896829      \n",
       "5 Argentina France        -0.003257801 -0.36567789       -0.08601682      \n",
       "6 Argentina Great Britain -0.179936091 -0.08462522       -0.28911818      "
      ]
     },
     "metadata": {},
     "output_type": "display_data"
    }
   ],
   "source": [
    "cd <- merge(cd_food_o, cd_food_d)\n",
    "\n",
    "head(cd)"
   ]
  },
  {
   "cell_type": "code",
   "execution_count": 39,
   "metadata": {},
   "outputs": [
    {
     "data": {
      "text/html": [
       "<table>\n",
       "<thead><tr><th scope=col>origin</th><th scope=col>destination</th><th scope=col>CS_FB_top50_pca</th></tr></thead>\n",
       "<tbody>\n",
       "\t<tr><td>Argentina    </td><td>Argentina    </td><td>1.00000000   </td></tr>\n",
       "\t<tr><td>Argentina    </td><td>Australia    </td><td>0.05466153   </td></tr>\n",
       "\t<tr><td>Argentina    </td><td>Brazil       </td><td>0.79585871   </td></tr>\n",
       "\t<tr><td>Argentina    </td><td>Chile        </td><td>0.98090107   </td></tr>\n",
       "\t<tr><td>Argentina    </td><td>France       </td><td>0.60105840   </td></tr>\n",
       "\t<tr><td>Argentina    </td><td>Great Britain</td><td>0.37417246   </td></tr>\n",
       "</tbody>\n",
       "</table>\n"
      ],
      "text/latex": [
       "\\begin{tabular}{r|lll}\n",
       " origin & destination & CS\\_FB\\_top50\\_pca\\\\\n",
       "\\hline\n",
       "\t Argentina     & Argentina     & 1.00000000   \\\\\n",
       "\t Argentina     & Australia     & 0.05466153   \\\\\n",
       "\t Argentina     & Brazil        & 0.79585871   \\\\\n",
       "\t Argentina     & Chile         & 0.98090107   \\\\\n",
       "\t Argentina     & France        & 0.60105840   \\\\\n",
       "\t Argentina     & Great Britain & 0.37417246   \\\\\n",
       "\\end{tabular}\n"
      ],
      "text/markdown": [
       "\n",
       "| origin | destination | CS_FB_top50_pca |\n",
       "|---|---|---|\n",
       "| Argentina     | Argentina     | 1.00000000    |\n",
       "| Argentina     | Australia     | 0.05466153    |\n",
       "| Argentina     | Brazil        | 0.79585871    |\n",
       "| Argentina     | Chile         | 0.98090107    |\n",
       "| Argentina     | France        | 0.60105840    |\n",
       "| Argentina     | Great Britain | 0.37417246    |\n",
       "\n"
      ],
      "text/plain": [
       "  origin    destination   CS_FB_top50_pca\n",
       "1 Argentina Argentina     1.00000000     \n",
       "2 Argentina Australia     0.05466153     \n",
       "3 Argentina Brazil        0.79585871     \n",
       "4 Argentina Chile         0.98090107     \n",
       "5 Argentina France        0.60105840     \n",
       "6 Argentina Great Britain 0.37417246     "
      ]
     },
     "metadata": {},
     "output_type": "display_data"
    }
   ],
   "source": [
    "pca <- read.csv(\"data/fb-cultural-similarity-pca.csv\")\n",
    "\n",
    "pca_cosine <- as.data.frame(cosine(t(as.matrix(pca[,2:3]))))\n",
    "colnames(pca_cosine) <- pca$country\n",
    "pca_cosine[\"origin\"] <- pca$country\n",
    "\n",
    "\n",
    "pca_cosine_longer <- pivot_longer(pca_cosine, -c(\"origin\"), values_to = \"CS_FB_top50_pca\", names_to = \"destination\")\n",
    "head(pca_cosine_longer)"
   ]
  },
  {
   "cell_type": "markdown",
   "metadata": {},
   "source": [
    "#### Dataset: official statistics + FB cultural distance"
   ]
  },
  {
   "cell_type": "code",
   "execution_count": 40,
   "metadata": {},
   "outputs": [
    {
     "data": {
      "text/html": [
       "<table>\n",
       "<thead><tr><th scope=col>destination</th><th scope=col>origin</th><th scope=col>iso_d</th><th scope=col>iso_o</th><th scope=col>col</th><th scope=col>csl</th><th scope=col>cnl</th><th scope=col>prox1</th><th scope=col>lp1</th><th scope=col>prox2</th><th scope=col>...</th><th scope=col>m_flow_mig_rate</th><th scope=col>m_flow_da_min_open</th><th scope=col>m_flow_da_min_closed</th><th scope=col>m_flow_da_pb_closed</th><th scope=col>CS_wvs</th><th scope=col>CS_foursquare</th><th scope=col>CS_symm</th><th scope=col>CS_nonsymm_food_o</th><th scope=col>CS_nonsymm_food_d</th><th scope=col>CS_FB_top50_pca</th></tr></thead>\n",
       "<tbody>\n",
       "\t<tr><td>Argentina    </td><td>Australia    </td><td>ARG          </td><td>AUS          </td><td>0            </td><td>0.02058416   </td><td>0.00080000   </td><td>0.25         </td><td>1.945866     </td><td>0.13052547   </td><td>...          </td><td>   56        </td><td>   16        </td><td>  105        </td><td> 2224        </td><td> 0.2579213   </td><td> 0.1005334   </td><td>-0.162683113 </td><td>-0.36172046  </td><td> 0.30243891  </td><td> 0.05466153  </td></tr>\n",
       "\t<tr><td>Argentina    </td><td>Brazil       </td><td>ARG          </td><td>BRA          </td><td>0            </td><td>0.06052872   </td><td>0.00080000   </td><td>0.75         </td><td>5.837599     </td><td>0.42439765   </td><td>...          </td><td> 9997        </td><td> 2332        </td><td>    0        </td><td>10767        </td><td> 0.7688173   </td><td> 0.8402622   </td><td> 0.194855413 </td><td> 0.21087156  </td><td> 0.03255659  </td><td> 0.79585871  </td></tr>\n",
       "\t<tr><td>Argentina    </td><td>Chile        </td><td>ARG          </td><td>CHL          </td><td>1            </td><td>0.98010004   </td><td>0.85439998   </td><td>0.00         </td><td>0.000000     </td><td>0.00000000   </td><td>...          </td><td>43666        </td><td>13875        </td><td>53604        </td><td>84213        </td><td>-0.9899189   </td><td> 0.9548769   </td><td> 0.412012736 </td><td> 0.42896829  </td><td> 0.38357214  </td><td> 0.98090107  </td></tr>\n",
       "\t<tr><td>Argentina    </td><td>France       </td><td>ARG          </td><td>FRA          </td><td>0            </td><td>0.13392781   </td><td>0.01039232   </td><td>0.50         </td><td>3.891733     </td><td>0.25450581   </td><td>...          </td><td> 1672        </td><td>  467        </td><td>  156        </td><td> 3048        </td><td> 0.1697698   </td><td> 0.8741573   </td><td>-0.003257801 </td><td>-0.08601682  </td><td>-0.36567789  </td><td> 0.60105840  </td></tr>\n",
       "\t<tr><td>Argentina    </td><td>Great Britain</td><td>ARG          </td><td>GBR          </td><td>0            </td><td>0.08325152   </td><td>0.00000000   </td><td>0.25         </td><td>1.945866     </td><td>0.13052547   </td><td>...          </td><td>  193        </td><td>   45        </td><td>  126        </td><td> 1559        </td><td> 0.3229716   </td><td> 0.6263188   </td><td>-0.179936091 </td><td>-0.28911818  </td><td>-0.08462522  </td><td> 0.37417246  </td></tr>\n",
       "\t<tr><td>Argentina    </td><td>Indonesia    </td><td>ARG          </td><td>IDN          </td><td>0            </td><td>0.00000000   </td><td>0.00000000   </td><td>0.00         </td><td>0.000000     </td><td>0.07436915   </td><td>...          </td><td>    4        </td><td>    1        </td><td>    4        </td><td>    7        </td><td> 0.4656905   </td><td>-0.8793284   </td><td>-0.137043141 </td><td>-0.21942599  </td><td>-0.54688918  </td><td>-0.39869160  </td></tr>\n",
       "</tbody>\n",
       "</table>\n"
      ],
      "text/latex": [
       "\\begin{tabular}{r|llllllllllllllllllllllllllllllllllllllll}\n",
       " destination & origin & iso\\_d & iso\\_o & col & csl & cnl & prox1 & lp1 & prox2 & ... & m\\_flow\\_mig\\_rate & m\\_flow\\_da\\_min\\_open & m\\_flow\\_da\\_min\\_closed & m\\_flow\\_da\\_pb\\_closed & CS\\_wvs & CS\\_foursquare & CS\\_symm & CS\\_nonsymm\\_food\\_o & CS\\_nonsymm\\_food\\_d & CS\\_FB\\_top50\\_pca\\\\\n",
       "\\hline\n",
       "\t Argentina     & Australia     & ARG           & AUS           & 0             & 0.02058416    & 0.00080000    & 0.25          & 1.945866      & 0.13052547    & ...           &    56         &    16         &   105         &  2224         &  0.2579213    &  0.1005334    & -0.162683113  & -0.36172046   &  0.30243891   &  0.05466153  \\\\\n",
       "\t Argentina     & Brazil        & ARG           & BRA           & 0             & 0.06052872    & 0.00080000    & 0.75          & 5.837599      & 0.42439765    & ...           &  9997         &  2332         &     0         & 10767         &  0.7688173    &  0.8402622    &  0.194855413  &  0.21087156   &  0.03255659   &  0.79585871  \\\\\n",
       "\t Argentina     & Chile         & ARG           & CHL           & 1             & 0.98010004    & 0.85439998    & 0.00          & 0.000000      & 0.00000000    & ...           & 43666         & 13875         & 53604         & 84213         & -0.9899189    &  0.9548769    &  0.412012736  &  0.42896829   &  0.38357214   &  0.98090107  \\\\\n",
       "\t Argentina     & France        & ARG           & FRA           & 0             & 0.13392781    & 0.01039232    & 0.50          & 3.891733      & 0.25450581    & ...           &  1672         &   467         &   156         &  3048         &  0.1697698    &  0.8741573    & -0.003257801  & -0.08601682   & -0.36567789   &  0.60105840  \\\\\n",
       "\t Argentina     & Great Britain & ARG           & GBR           & 0             & 0.08325152    & 0.00000000    & 0.25          & 1.945866      & 0.13052547    & ...           &   193         &    45         &   126         &  1559         &  0.3229716    &  0.6263188    & -0.179936091  & -0.28911818   & -0.08462522   &  0.37417246  \\\\\n",
       "\t Argentina     & Indonesia     & ARG           & IDN           & 0             & 0.00000000    & 0.00000000    & 0.00          & 0.000000      & 0.07436915    & ...           &     4         &     1         &     4         &     7         &  0.4656905    & -0.8793284    & -0.137043141  & -0.21942599   & -0.54688918   & -0.39869160  \\\\\n",
       "\\end{tabular}\n"
      ],
      "text/markdown": [
       "\n",
       "| destination | origin | iso_d | iso_o | col | csl | cnl | prox1 | lp1 | prox2 | ... | m_flow_mig_rate | m_flow_da_min_open | m_flow_da_min_closed | m_flow_da_pb_closed | CS_wvs | CS_foursquare | CS_symm | CS_nonsymm_food_o | CS_nonsymm_food_d | CS_FB_top50_pca |\n",
       "|---|---|---|---|---|---|---|---|---|---|---|---|---|---|---|---|---|---|---|---|---|\n",
       "| Argentina     | Australia     | ARG           | AUS           | 0             | 0.02058416    | 0.00080000    | 0.25          | 1.945866      | 0.13052547    | ...           |    56         |    16         |   105         |  2224         |  0.2579213    |  0.1005334    | -0.162683113  | -0.36172046   |  0.30243891   |  0.05466153   |\n",
       "| Argentina     | Brazil        | ARG           | BRA           | 0             | 0.06052872    | 0.00080000    | 0.75          | 5.837599      | 0.42439765    | ...           |  9997         |  2332         |     0         | 10767         |  0.7688173    |  0.8402622    |  0.194855413  |  0.21087156   |  0.03255659   |  0.79585871   |\n",
       "| Argentina     | Chile         | ARG           | CHL           | 1             | 0.98010004    | 0.85439998    | 0.00          | 0.000000      | 0.00000000    | ...           | 43666         | 13875         | 53604         | 84213         | -0.9899189    |  0.9548769    |  0.412012736  |  0.42896829   |  0.38357214   |  0.98090107   |\n",
       "| Argentina     | France        | ARG           | FRA           | 0             | 0.13392781    | 0.01039232    | 0.50          | 3.891733      | 0.25450581    | ...           |  1672         |   467         |   156         |  3048         |  0.1697698    |  0.8741573    | -0.003257801  | -0.08601682   | -0.36567789   |  0.60105840   |\n",
       "| Argentina     | Great Britain | ARG           | GBR           | 0             | 0.08325152    | 0.00000000    | 0.25          | 1.945866      | 0.13052547    | ...           |   193         |    45         |   126         |  1559         |  0.3229716    |  0.6263188    | -0.179936091  | -0.28911818   | -0.08462522   |  0.37417246   |\n",
       "| Argentina     | Indonesia     | ARG           | IDN           | 0             | 0.00000000    | 0.00000000    | 0.00          | 0.000000      | 0.07436915    | ...           |     4         |     1         |     4         |     7         |  0.4656905    | -0.8793284    | -0.137043141  | -0.21942599   | -0.54688918   | -0.39869160   |\n",
       "\n"
      ],
      "text/plain": [
       "  destination origin        iso_d iso_o col csl        cnl        prox1\n",
       "1 Argentina   Australia     ARG   AUS   0   0.02058416 0.00080000 0.25 \n",
       "2 Argentina   Brazil        ARG   BRA   0   0.06052872 0.00080000 0.75 \n",
       "3 Argentina   Chile         ARG   CHL   1   0.98010004 0.85439998 0.00 \n",
       "4 Argentina   France        ARG   FRA   0   0.13392781 0.01039232 0.50 \n",
       "5 Argentina   Great Britain ARG   GBR   0   0.08325152 0.00000000 0.25 \n",
       "6 Argentina   Indonesia     ARG   IDN   0   0.00000000 0.00000000 0.00 \n",
       "  lp1      prox2      ... m_flow_mig_rate m_flow_da_min_open\n",
       "1 1.945866 0.13052547 ...    56              16             \n",
       "2 5.837599 0.42439765 ...  9997            2332             \n",
       "3 0.000000 0.00000000 ... 43666           13875             \n",
       "4 3.891733 0.25450581 ...  1672             467             \n",
       "5 1.945866 0.13052547 ...   193              45             \n",
       "6 0.000000 0.07436915 ...     4               1             \n",
       "  m_flow_da_min_closed m_flow_da_pb_closed CS_wvs     CS_foursquare\n",
       "1   105                 2224                0.2579213  0.1005334   \n",
       "2     0                10767                0.7688173  0.8402622   \n",
       "3 53604                84213               -0.9899189  0.9548769   \n",
       "4   156                 3048                0.1697698  0.8741573   \n",
       "5   126                 1559                0.3229716  0.6263188   \n",
       "6     4                    7                0.4656905 -0.8793284   \n",
       "  CS_symm      CS_nonsymm_food_o CS_nonsymm_food_d CS_FB_top50_pca\n",
       "1 -0.162683113 -0.36172046        0.30243891        0.05466153    \n",
       "2  0.194855413  0.21087156        0.03255659        0.79585871    \n",
       "3  0.412012736  0.42896829        0.38357214        0.98090107    \n",
       "4 -0.003257801 -0.08601682       -0.36567789        0.60105840    \n",
       "5 -0.179936091 -0.28911818       -0.08462522        0.37417246    \n",
       "6 -0.137043141 -0.21942599       -0.54688918       -0.39869160    "
      ]
     },
     "metadata": {},
     "output_type": "display_data"
    }
   ],
   "source": [
    "official_dataset <- merge(official_dataset, cd)#, mutate(official_dataset, destination = tolower(destination), origin = tolower(origin)))\n",
    "dataset <- merge(official_dataset, pca_cosine_longer)\n",
    "\n",
    "head(dataset)"
   ]
  },
  {
   "cell_type": "code",
   "execution_count": 41,
   "metadata": {},
   "outputs": [
    {
     "data": {
      "text/html": [
       "<ol class=list-inline>\n",
       "\t<li>240</li>\n",
       "\t<li>40</li>\n",
       "</ol>\n"
      ],
      "text/latex": [
       "\\begin{enumerate*}\n",
       "\\item 240\n",
       "\\item 40\n",
       "\\end{enumerate*}\n"
      ],
      "text/markdown": [
       "1. 240\n",
       "2. 40\n",
       "\n",
       "\n"
      ],
      "text/plain": [
       "[1] 240  40"
      ]
     },
     "metadata": {},
     "output_type": "display_data"
    }
   ],
   "source": [
    "dim(dataset)"
   ]
  },
  {
   "cell_type": "code",
   "execution_count": 41,
   "metadata": {
    "deletable": false,
    "editable": false,
    "run_control": {
     "frozen": true
    }
   },
   "outputs": [],
   "source": [
    "write_csv(dataset, \"data/subset-final-dataset-04-22.csv\")"
   ]
  },
  {
   "cell_type": "code",
   "execution_count": null,
   "metadata": {},
   "outputs": [],
   "source": []
  }
 ],
 "metadata": {
  "kernelspec": {
   "display_name": "R",
   "language": "R",
   "name": "ir"
  },
  "language_info": {
   "codemirror_mode": "r",
   "file_extension": ".r",
   "mimetype": "text/x-r-source",
   "name": "R",
   "pygments_lexer": "r",
   "version": "4.1.0"
  }
 },
 "nbformat": 4,
 "nbformat_minor": 2
}
