{
 "cells": [
  {
   "cell_type": "markdown",
   "metadata": {},
   "source": [
    "# The Value of Cultural Similarity for Predicting Migration\n",
    "\n",
    "\n",
    "## Carolina Coimbra Vieira, Sophie Lohmann, Emilio Zagheni"
   ]
  },
  {
   "cell_type": "code",
   "execution_count": null,
   "metadata": {},
   "outputs": [],
   "source": [
    "shhh <- suppressPackageStartupMessages # It's a library, so shhh!\n",
    "\n",
    "shhh(library(tidyr))\n",
    "shhh(library(dplyr))\n",
    "shhh(library(readr))\n",
    "shhh(library(lsa))\n",
    "shhh(library(philentropy))\n",
    "shhh(library('fastDummies'))"
   ]
  },
  {
   "cell_type": "markdown",
   "metadata": {},
   "source": [
    "## Population 2019\n",
    "### Datasource: [UN](https://population.un.org/wpp/Download/Standard/Population/)"
   ]
  },
  {
   "cell_type": "code",
   "execution_count": null,
   "metadata": {},
   "outputs": [],
   "source": [
    "pop_2019 <- read.csv(\"data/subset-pop-un2019.csv\")\n",
    "\n",
    "head(pop_2019)"
   ]
  },
  {
   "cell_type": "code",
   "execution_count": null,
   "metadata": {},
   "outputs": [],
   "source": [
    "countries <- c(pop_2019$country)\n",
    "\n",
    "countries"
   ]
  },
  {
   "cell_type": "markdown",
   "metadata": {},
   "source": [
    "## Geographic info: area  \n",
    "### Datasource: [CEPII](http://www.cepii.fr/CEPII/en/bdd_modele/presentation.asp?id=6)\n",
    "\n",
    "<b>Country-level variables</b>   \n",
    "    *`iso2, iso3, cnum`*: ISO codes in two and three characters, and in three numbers respectively.  \n",
    "    *`country, pays`*: Name of country in English and French respectively.   \n",
    "    **`area`: Country’s area in $km^2$.**   \n",
    "    *`dis_int`*: Internal distance of country i, $d_{ii} = .67 \\sqrt{area/\\pi}$ (an often used measure of average distance between producers and consumers in a country, see Head and Mayer, 2002 for more on this topic).  \n",
    "    *`landlocked`*: Dummy variable set equal to 1 for landlocked countries.    \n",
    "    *`continent`*: Continent to which the country is belonging.   \n",
    "    *`langoff_i`*: Official or national languages and languages spoken by at least 20% of the population of the country (and spoken in another country of the world) following the same logic than the \"open-circuit languages\" in Mélitz (2002).  \n",
    "    *`lang20_i`*: Languages (mother tongue, lingua francas or second languages) spoken by at least 20% of the population of the country.  \n",
    "    *`lang9_i`*: Languages (mother tongue, lingua francas or second languages) spoken by between 9% and 20% of the population of the country.  \n",
    "    *`colonizeri`*: Colonizers of the country for a relatively long period of time and with a substantial participation in the governance of the colonized country.  \n",
    "    *`short_colonizeri`*: Colonizers of the country for a relatively short period of time or with only low involvement in the governance of the colonized country.\n",
    "    \n",
    "<b>Cities variables used in the computation of distances</b>  \n",
    "    *`city_en, city_fr`*: Names of capitals or main cities of the country in English and French.   \n",
    "    *`lat, lon`*: Latitude and longitude of the city.  \n",
    "    *`cap`*: Variable equals to 1 if the city is the capital of the country, to 0 if the city is the most populated city (maincity equals to 1) but not the capital, and to 2 in the cases of two capitals, if the city is the most populated but the “second” capital or the previous capital.  \n",
    "    *`maincity`*: Variable coded as 1 when the city is the most populated of the country and as 2 otherwise.  \n",
    "    *`citynum`*: Number of cities for each country used to calculate our weighted distances described in the next section.  "
   ]
  },
  {
   "cell_type": "code",
   "execution_count": null,
   "metadata": {},
   "outputs": [],
   "source": [
    "geo <- read.csv(\"data/cepii_geo2.csv\")\n",
    "\n",
    "head(geo)"
   ]
  },
  {
   "cell_type": "code",
   "execution_count": null,
   "metadata": {},
   "outputs": [],
   "source": [
    "colnames(geo)"
   ]
  },
  {
   "cell_type": "code",
   "execution_count": null,
   "metadata": {},
   "outputs": [],
   "source": [
    "area <- geo %>% filter (country %in% countries) %>%\n",
    "                select(iso2, iso3, country, area) %>% \n",
    "                unique()\n",
    "\n",
    "area"
   ]
  },
  {
   "cell_type": "markdown",
   "metadata": {},
   "source": [
    "#### Population + Area"
   ]
  },
  {
   "cell_type": "code",
   "execution_count": null,
   "metadata": {},
   "outputs": [],
   "source": [
    "area_pop <- merge(area, pop_2019)\n",
    "\n",
    "area_pop"
   ]
  },
  {
   "cell_type": "code",
   "execution_count": null,
   "metadata": {},
   "outputs": [],
   "source": [
    "isos3 <- area$iso3\n",
    "\n",
    "isos3"
   ]
  },
  {
   "cell_type": "markdown",
   "metadata": {},
   "source": [
    "## Geographic distance\n",
    "### Datasource: [CEPII](http://www.cepii.fr/CEPII/en/bdd_modele/presentation.asp?id=6)  \n",
    "\n",
    "<b>Variables</b>  \n",
    "    *`iso_o, iso_d`*: ISO codes in three characters, refering to the country of origin and destination, respectively.  \n",
    "    *`dist`*: Geodesic distances from lat/long of most populous cities (simple distance).   \n",
    "    *`distcap`*: geodesic distance between capital cities (simple distance).    \n",
    "    *`distw`*: population weighted distance, theta = 1 (weighted distance).   \n",
    "    *`distwces`*: population weighted distance, theta = -1, which corresponds to the usual coefficient estimated from gravity models of bilateral trade flows (weighted distance).  \n",
    "    *`contig`*: dummy variable indicating whether the two countries are contiguous (share a land border).  \n",
    "    *`comlang_off, comlang_ethno`*: dummy variable indicating whether the two countries share a common language. There are two common languages dummies, the first one based on the fact that two countries share a common official language, and the other one set to one if a language is spoken by at least 9% of the population in both countries.     \n",
    "    *`colony`*: dummy variable indicating whether the two countries have ever had a colonial link.  \n",
    "    *`comcol`*: dummy variable indicating whether the two countries have had a common colonizer after 1945.  \n",
    "    *`curcol`*: dummy variable indicating whether the two countries are currently in a colonial relationship.  \n",
    "    *`col45`*: dummy variable indicating whether the two countries have had a colonial relationship -a-f-t-e-r- 1945 (share common colonizer pre 1945).  \n",
    "    *`smctry`*: dummy variable indicating whether the two countries were/are the same country.  \n",
    "\n",
    "**[TO DO]: check Maciej distance**   \n",
    "<b>Maciej</b>  \n",
    "    *`dist_pop_weighted`*: population-weighted average distance between biggest cities  \n",
    "    *`dist_biggest_cities`*: average distance between biggest cities  \n",
    "^ most similar to distwces  \n",
    "    *`dist_unweighted`*: average distance between (?) (not population weighted)  "
   ]
  },
  {
   "cell_type": "code",
   "execution_count": null,
   "metadata": {},
   "outputs": [],
   "source": [
    "dists <- read.csv(\"data/cepii_dist2.csv\")\n",
    "\n",
    "head(dists)"
   ]
  },
  {
   "cell_type": "markdown",
   "metadata": {},
   "source": [
    "**New variable:**  \n",
    "    *`shared_hist`*: dummy variable indicating whether the two countries have: *`colony, comcol, curcol, col45, smctry`*"
   ]
  },
  {
   "cell_type": "code",
   "execution_count": null,
   "metadata": {},
   "outputs": [],
   "source": [
    "dists <- dists %>% mutate(shared_hist = ifelse(colony + comcol + curcol + col45 + smctry, 1, 0), .keep = \"unused\")\n",
    "\n",
    "head(dists)"
   ]
  },
  {
   "cell_type": "markdown",
   "metadata": {},
   "source": [
    "#### Population + Area + Geographic distance  + Shared history"
   ]
  },
  {
   "cell_type": "code",
   "execution_count": null,
   "metadata": {},
   "outputs": [],
   "source": [
    "area_pop_gd_d <- area_pop %>% select(!iso2) %>%\n",
    "                               merge(dists, by.x=c(\"iso3\"), by.y=c(\"iso_d\")) %>%\n",
    "                               rename(iso_d = iso3, destination = country, area_d = area, pop_d = population) \n",
    "\n",
    "area_pop_gd_o <- area_pop %>% select(!iso2) %>% \n",
    "                               merge(dists, by.x=c(\"iso3\"), by.y=c(\"iso_o\")) %>%\n",
    "                               rename(iso_o = iso3, origin = country, area_o = area, pop_o = population) \n",
    "\n",
    "area_pop_gdist <- merge(area_pop_gd_d, area_pop_gd_o)\n",
    "\n",
    "head(area_pop_gdist)"
   ]
  },
  {
   "cell_type": "markdown",
   "metadata": {},
   "source": [
    "## Language  \n",
    "### Datasource: [CEPII](http://www.cepii.fr/CEPII/en/bdd_modele/presentation.asp?id=19)   \n",
    "\n",
    "<b>Variables [Sarah's notes]</b>  \n",
    "    *`col`*: common official language (0 or 1); 19 languages considered.    \n",
    "    *`csl`*: p(two random people understand a common language) >= *`cnl`*.  \n",
    "    *`cnl`*: p(two random people share a native language).  \n",
    "    *`lp`*: lexical closeness of native langauges; set to 0 when *`cnl`* is 1 or 0 also set to 0 if there is no dominant native language (e.g. India).  \n",
    "    *`lp1`*: tree based. 4 possibilities, 2 languages belonging to:  \n",
    "        0: separate family trees  \n",
    "        0.25: different branches of same tree (English and French),  \n",
    "        0.50: the same branch (English and German),  \n",
    "        0.75: the same sub-branch (German and Dutch)  \n",
    "    *`lp2`*: lexical similarity of 200 words, continuous scale 0-100 normalized *`lp1`*, *`lp2`* so coefficients are comparable to each other and *`col, prox1, prox2`* are unadjusted versions of *`lp1`* and *`lp2`*?  \n",
    "  "
   ]
  },
  {
   "cell_type": "code",
   "execution_count": null,
   "metadata": {
    "scrolled": true
   },
   "outputs": [],
   "source": [
    "langs <- read.csv(\"data/cepii_language.csv\")\n",
    "\n",
    "head(langs)"
   ]
  },
  {
   "cell_type": "code",
   "execution_count": null,
   "metadata": {},
   "outputs": [],
   "source": [
    "langs <- langs %>% filter (iso_o %in% isos3 & iso_d %in% isos3)\n",
    "\n",
    "head(langs)"
   ]
  },
  {
   "cell_type": "markdown",
   "metadata": {},
   "source": [
    "#### Population + Area + Geographic distance + Shared history +  Language"
   ]
  },
  {
   "cell_type": "code",
   "execution_count": null,
   "metadata": {},
   "outputs": [],
   "source": [
    "area_pop_gdist_lang <- langs %>% select(!c(X, country_o, country_d)) %>%\n",
    "                                merge(area_pop_gdist)\n",
    "\n",
    "head(area_pop_gdist_lang)"
   ]
  },
  {
   "cell_type": "code",
   "execution_count": null,
   "metadata": {},
   "outputs": [],
   "source": [
    "dim(area_pop_gdist_lang)"
   ]
  },
  {
   "cell_type": "markdown",
   "metadata": {},
   "source": [
    "## GDP (constant 2010) 2019  \n",
    "### Datasource: [World Bank](https://databank.worldbank.org/source/world-development-indicators)\n",
    "\n",
    "*`GDP`*: GDP (constant 2010) in 2019 in US$\n",
    "\n",
    "GDP at purchaser's prices is the sum of gross value added by all resident producers in the economy plus any product taxes and minus any subsidies not included in the value of the products. It is calculated without making deductions for depreciation of fabricated assets or for depletion and degradation of natural resources. Data are in constant 2010 U.S. dollars. Dollar figures for GDP are converted from domestic currencies using 2010 official exchange rates. For a few countries where the official exchange rate does not reflect the rate effectively applied to actual foreign exchange transactions, an alternative conversion factor is used."
   ]
  },
  {
   "cell_type": "code",
   "execution_count": null,
   "metadata": {},
   "outputs": [],
   "source": [
    "gdp <- read.csv(\"data/subset-GDP_constant2010-wb2019.csv\")\n",
    "\n",
    "head(gdp)"
   ]
  },
  {
   "cell_type": "code",
   "execution_count": null,
   "metadata": {},
   "outputs": [],
   "source": [
    "area_pop_gdist_lang_gdp <- area_pop_gdist_lang %>% \n",
    "                               merge(gdp, by.x=c(\"iso_o\"), by.y=c(\"iso_country\")) %>% \n",
    "                               rename(GDP_o = GDP) %>%\n",
    "                               merge(gdp, by.x=c(\"iso_d\"), by.y=c(\"iso_country\")) %>%\n",
    "                               rename(GDP_d = GDP)\n",
    "                               \n",
    "head(area_pop_gdist_lang_gdp)"
   ]
  },
  {
   "cell_type": "code",
   "execution_count": null,
   "metadata": {},
   "outputs": [],
   "source": [
    "dim(area_pop_gdist_lang_gdp)"
   ]
  },
  {
   "cell_type": "code",
   "execution_count": null,
   "metadata": {},
   "outputs": [],
   "source": [
    "gdp <- read.csv(\"data/subset-GDPpercapita_constant2010-wb2019.csv\")\n",
    "\n",
    "head(gdp)"
   ]
  },
  {
   "cell_type": "code",
   "execution_count": null,
   "metadata": {},
   "outputs": [],
   "source": [
    "area_pop_gdist_lang_gdp <- area_pop_gdist_lang_gdp %>% \n",
    "                               merge(gdp, by.x=c(\"iso_o\"), by.y=c(\"iso_country\")) %>% \n",
    "                               rename(GDP_percapita_o = GDP) %>%\n",
    "                               merge(gdp, by.x=c(\"iso_d\"), by.y=c(\"iso_country\")) %>%\n",
    "                               rename(GDP_percapita_d = GDP)\n",
    "                               \n",
    "head(area_pop_gdist_lang_gdp)"
   ]
  },
  {
   "cell_type": "code",
   "execution_count": null,
   "metadata": {},
   "outputs": [],
   "source": [
    "dim(area_pop_gdist_lang_gdp)"
   ]
  },
  {
   "cell_type": "markdown",
   "metadata": {},
   "source": [
    "## Migration (stock) 2019  \n",
    "### Datasource: [UN](https://www.un.org/en/development/desa/population/migration/data/estimates2/estimates19.asp)\n",
    "\n",
    "The dataset presents estimates of international migrant by age, sex and origin. Estimates are presented for 1990, 1995, 2000, 2005, 2010, 2015 and 2019 and are available for all countries and areas of the world. The estimates are based on official statistics on the foreign-born or the foreign population.   \n",
    "International migrant stock - Total international migrant stock   "
   ]
  },
  {
   "cell_type": "code",
   "execution_count": null,
   "metadata": {
    "scrolled": true
   },
   "outputs": [],
   "source": [
    "migration_stock_wide <- read.csv(\"data/subset-stocks-migration-un2019.csv\")\n",
    "migration_stock_wide[is.na(migration_stock_wide)] <- 0\n",
    "\n",
    "head(migration_stock_wide)"
   ]
  },
  {
   "cell_type": "code",
   "execution_count": null,
   "metadata": {},
   "outputs": [],
   "source": [
    "migration_stock <- migration_stock_wide %>% \n",
    "                pivot_longer(!c(destination, Total, Total16), names_to = \"origin\", values_to = \"m_stock\") %>%\n",
    "                select(destination, Total, origin, m_stock) %>%\n",
    "                rename(total_imm_in_d = Total)\n",
    "migration_stock$origin <- chartr(\".\", \" \", migration_stock$origin)\n",
    "\n",
    "head(migration_stock)"
   ]
  },
  {
   "cell_type": "code",
   "execution_count": null,
   "metadata": {},
   "outputs": [],
   "source": [
    "area_pop_mig_d <- area_pop %>% select(country, iso3) %>% \n",
    "                               merge(migration_stock, by.x=c(\"country\"), by.y=c(\"destination\")) %>%\n",
    "                               rename(iso_d = iso3, destination = country) \n",
    "\n",
    "area_pop_mig_o <- area_pop %>% select(country, iso3) %>% \n",
    "                               merge(migration_stock, by.x=c(\"country\"), by.y=c(\"origin\")) %>%\n",
    "                               rename(iso_o = iso3, origin = country) \n",
    "\n",
    "migration_stock <- merge(area_pop_mig_d, area_pop_mig_o)\n",
    "\n",
    "head(migration_stock)"
   ]
  },
  {
   "cell_type": "code",
   "execution_count": null,
   "metadata": {},
   "outputs": [],
   "source": [
    "official_dataset <- merge(area_pop_gdist_lang_gdp, migration_stock) %>% select(!total_imm_in_d)\n",
    "\n",
    "head(official_dataset)"
   ]
  },
  {
   "cell_type": "code",
   "execution_count": null,
   "metadata": {},
   "outputs": [],
   "source": [
    "dim(official_dataset)"
   ]
  },
  {
   "cell_type": "markdown",
   "metadata": {},
   "source": [
    "## Migration (flow) 2015-2020  \n",
    "### Datasource: [Abel, Guy; E. Cohen, Joel (2019)](https://figshare.com/collections/Bilateral_international_migration_flow_estimates_for_200_countries/4470464)\n",
    "\n",
    "This collection contains bilateral international migration flow estimates for 200 countries for five-year periods between 1990 and 2020. "
   ]
  },
  {
   "cell_type": "code",
   "execution_count": null,
   "metadata": {
    "scrolled": true
   },
   "outputs": [],
   "source": [
    "migration_flow <- read.csv(\"data/abel_cohen_migration_flow.csv\")\n",
    "migration_flow[is.na(migration_flow)] <- 0\n",
    "\n",
    "head(migration_flow)"
   ]
  },
  {
   "cell_type": "code",
   "execution_count": null,
   "metadata": {},
   "outputs": [],
   "source": [
    "migration_flow <- migration_flow %>% \n",
    "                filter(year0 == 2015) %>%\n",
    "                select(!year0) %>%\n",
    "                rename(iso_d = dest, iso_o = orig, \n",
    "                       m_flow_sd_drop_neg = sd_drop_neg, \n",
    "                       m_flow_sd_rev_neg = sd_rev_neg, \n",
    "                       m_flow_mig_rate = mig_rate, \n",
    "                       m_flow_da_min_open = da_min_open, \n",
    "                       m_flow_da_min_closed = da_min_closed, \n",
    "                       m_flow_da_pb_closed = da_pb_closed)\n",
    "\n",
    "head(migration_flow)"
   ]
  },
  {
   "cell_type": "code",
   "execution_count": null,
   "metadata": {},
   "outputs": [],
   "source": [
    "official_dataset <- merge(official_dataset, migration_flow)\n",
    "\n",
    "head(official_dataset)"
   ]
  },
  {
   "cell_type": "code",
   "execution_count": null,
   "metadata": {},
   "outputs": [],
   "source": [
    "dim(official_dataset)"
   ]
  },
  {
   "cell_type": "markdown",
   "metadata": {},
   "source": [
    "## WVS\n",
    "### Datasource: [WVS (2020)](https://www.worldvaluessurvey.org/wvs.jsp)\n",
    "\n"
   ]
  },
  {
   "cell_type": "code",
   "execution_count": null,
   "metadata": {},
   "outputs": [],
   "source": [
    "wvs <- read.csv(\"data/subset-wvs-wave7-2020.csv\")\n",
    "wvs"
   ]
  },
  {
   "cell_type": "code",
   "execution_count": null,
   "metadata": {},
   "outputs": [],
   "source": [
    "#Cosine SIMILARITY\n",
    "wvs_cosine <- as.data.frame(cosine(t(as.matrix(wvs[,2:3]))))\n",
    "colnames(wvs_cosine) <- wvs$country\n",
    "wvs_cosine[\"origin\"] <- wvs$country\n",
    "\n",
    "\n",
    "wvs_cosine_longer <- pivot_longer(wvs_cosine, -c(\"origin\"), values_to = \"CS_wvs\", names_to = \"destination\")\n",
    "head(wvs_cosine_longer)"
   ]
  },
  {
   "cell_type": "code",
   "execution_count": null,
   "metadata": {},
   "outputs": [],
   "source": [
    "wvs <- read.csv(\"data/subset-wvs-wave7-2020.csv\")\n",
    "\n",
    "#euclidean SIMILARITY\n",
    "wvs_euc <- as.data.frame(1 - distance(as.matrix(wvs[,2:3]), method=\"euclidean\")/max(distance(as.matrix(wvs[,2:3]), method=\"euclidean\")))\n",
    "colnames(wvs_euc) <- wvs$country\n",
    "wvs_euc[\"origin\"] <- wvs$country\n",
    "\n",
    "\n",
    "wvs_euc_longer <- pivot_longer(wvs_euc, -c(\"origin\"), values_to = \"CS_euc_wvs\", names_to = \"destination\")\n",
    "head(wvs_euc_longer)"
   ]
  },
  {
   "cell_type": "markdown",
   "metadata": {},
   "source": [
    "## Foursquare\n",
    "### Datasource: [You Are What You Eat (and Drink): Identifying Cultural Boundaries by Analyzing Food and Drink Habits in Foursquare. Thiago H. Silva, Pedro O. S. Vaz de Melo, Jussara M. Almeida, Mirco Musolesi, Antonio A. F. Loureiro (2014)](https://www.aaai.org/ocs/index.php/ICWSM/ICWSM14/paper/viewPaper/8113)\n",
    "\n"
   ]
  },
  {
   "cell_type": "code",
   "execution_count": null,
   "metadata": {},
   "outputs": [],
   "source": [
    "foursquare <- read.csv(\"data/foursquare.csv\")\n",
    "foursquare"
   ]
  },
  {
   "cell_type": "code",
   "execution_count": null,
   "metadata": {},
   "outputs": [],
   "source": [
    "#cosine SIMILARITY\n",
    "foursquare_cosine <- as.data.frame(cosine(t(as.matrix(foursquare[,2:3]))))\n",
    "colnames(foursquare_cosine) <- foursquare$country\n",
    "foursquare_cosine[\"origin\"] <- foursquare$country\n",
    "\n",
    "\n",
    "foursquare_cosine_longer <- pivot_longer(foursquare_cosine, -c(\"origin\"), values_to = \"CS_foursquare\", names_to = \"destination\")\n",
    "head(foursquare_cosine_longer)"
   ]
  },
  {
   "cell_type": "code",
   "execution_count": null,
   "metadata": {},
   "outputs": [],
   "source": [
    "foursquare <- read.csv(\"data/foursquare.csv\")\n",
    "\n",
    "#euclidean SIMILARITY\n",
    "foursquare_euc <- as.data.frame(1 - distance(as.matrix(foursquare[,2:3]), method=\"euclidean\")/max(distance(as.matrix(foursquare[,2:3]), method=\"euclidean\")))\n",
    "colnames(foursquare_euc) <- foursquare$country\n",
    "foursquare_euc[\"origin\"] <- foursquare$country\n",
    "\n",
    "\n",
    "foursquare_euc_longer <- pivot_longer(foursquare_euc, -c(\"origin\"), values_to = \"CS_euc_foursquare\", names_to = \"destination\")\n",
    "head(foursquare_euc_longer)"
   ]
  },
  {
   "cell_type": "code",
   "execution_count": null,
   "metadata": {},
   "outputs": [],
   "source": [
    "official_dataset <- merge(official_dataset, wvs_cosine_longer)\n",
    "official_dataset <- merge(official_dataset, wvs_euc_longer)\n",
    "official_dataset <- merge(official_dataset, foursquare_cosine_longer)\n",
    "official_dataset <- merge(official_dataset, foursquare_euc_longer)\n",
    "\n",
    "head(official_dataset)"
   ]
  },
  {
   "cell_type": "code",
   "execution_count": null,
   "metadata": {},
   "outputs": [],
   "source": [
    "dim(official_dataset)"
   ]
  },
  {
   "cell_type": "code",
   "execution_count": null,
   "metadata": {},
   "outputs": [],
   "source": [
    "write.csv(official_dataset, \"data/subset-official-dataset.csv\", row.names = FALSE)"
   ]
  },
  {
   "cell_type": "markdown",
   "metadata": {},
   "source": [
    "## Cultural Similarity "
   ]
  },
  {
   "cell_type": "markdown",
   "metadata": {},
   "source": [
    "#### symmetric:   \n",
    "\n",
    "each country is represented by a vector corresponding to the top (almost) <b>400 dishes</b> (top 50 dishes in all the countries)"
   ]
  },
  {
   "cell_type": "markdown",
   "metadata": {},
   "source": [
    "![CD](figs/heatmap-similarity-symmetric-tops-topK-cosine-reds.png)"
   ]
  },
  {
   "cell_type": "code",
   "execution_count": null,
   "metadata": {},
   "outputs": [],
   "source": [
    "cd_sym <- read.csv(\"data/FB-food-cultural_similarity-symmetric.csv\", check.names=FALSE)\n",
    "colnames(cd_sym)[1] <- \"interests_from\""
   ]
  },
  {
   "cell_type": "code",
   "execution_count": null,
   "metadata": {},
   "outputs": [],
   "source": [
    "cd_sym"
   ]
  },
  {
   "cell_type": "code",
   "execution_count": null,
   "metadata": {},
   "outputs": [],
   "source": [
    "cd_sym <- cd_sym %>% pivot_longer(!interests_from, names_to = \"origin\", values_to = \"CS_symm\") %>%\n",
    "                        rename(destination = interests_from)\n",
    "\n",
    "head(cd_sym)"
   ]
  },
  {
   "cell_type": "code",
   "execution_count": null,
   "metadata": {},
   "outputs": [],
   "source": [
    "dim(cd_sym)"
   ]
  },
  {
   "cell_type": "markdown",
   "metadata": {},
   "source": [
    "#### nonsymmetric:   \n",
    "each country is represented by a vector corresponding to the <b>top 50 dishes from origin country</b>"
   ]
  },
  {
   "cell_type": "markdown",
   "metadata": {},
   "source": [
    "![CDiv](figs/heatmap-similarity-topK-cosine-reds.png)"
   ]
  },
  {
   "cell_type": "markdown",
   "metadata": {},
   "source": [
    "The **(non-symmetric)** Cultural Similarity between **origin (rows) and destination (columns)** represent how similar origin and destination are in terms of popular dishes from the country of **origin**.   \n",
    "\n",
    "**Hypothesis:** Immigrants prefer to move to (host) countries culturally similar to their (home/previous) country."
   ]
  },
  {
   "cell_type": "code",
   "execution_count": null,
   "metadata": {},
   "outputs": [],
   "source": [
    "cd_nonsym <- read.csv(\"data/FB-food-cultural_similarity-nonsymmetric.csv\", check.names=FALSE)\n",
    "colnames(cd_nonsym)[1] <- \"interests_from\""
   ]
  },
  {
   "cell_type": "code",
   "execution_count": null,
   "metadata": {},
   "outputs": [],
   "source": [
    "cd_food_o <- cd_nonsym %>% pivot_longer(!interests_from, names_to = \"destination\", values_to = \"CS_nonsymm_food_o\") %>%\n",
    "                           rename(origin = interests_from)\n",
    "                           \n",
    "head(cd_food_o)"
   ]
  },
  {
   "cell_type": "code",
   "execution_count": null,
   "metadata": {},
   "outputs": [],
   "source": [
    "dim(cd_food_o)"
   ]
  },
  {
   "cell_type": "markdown",
   "metadata": {},
   "source": [
    "The **(non-symmetric)** Cultural Similarity between **origin (rows) and destination (columns)** representing how similar origin and destination are in terms of popular dishes from the country of **destination**. "
   ]
  },
  {
   "cell_type": "code",
   "execution_count": null,
   "metadata": {},
   "outputs": [],
   "source": [
    "cd_food_d <- cd_nonsym %>% pivot_longer(!interests_from, names_to = \"origin\", values_to = \"CS_nonsymm_food_d\") %>%\n",
    "                            rename(destination = interests_from)\n",
    "\n",
    "head(cd_food_d)"
   ]
  },
  {
   "cell_type": "code",
   "execution_count": null,
   "metadata": {},
   "outputs": [],
   "source": [
    "dim(cd_food_d)"
   ]
  },
  {
   "cell_type": "code",
   "execution_count": null,
   "metadata": {},
   "outputs": [],
   "source": [
    "cd <- merge(cd_food_o, cd_food_d)\n",
    "cd <- merge(cd_sym, cd)\n",
    "\n",
    "cd"
   ]
  },
  {
   "cell_type": "code",
   "execution_count": null,
   "metadata": {},
   "outputs": [],
   "source": [
    "dim(cd)"
   ]
  },
  {
   "cell_type": "markdown",
   "metadata": {},
   "source": [
    "#### Dataset: official statistics + FB cultural distance"
   ]
  },
  {
   "cell_type": "code",
   "execution_count": null,
   "metadata": {},
   "outputs": [],
   "source": [
    "dataset <- merge(official_dataset, cd)#, mutate(official_dataset, destination = tolower(destination), origin = tolower(origin)))\n",
    "\n",
    "head(dataset)"
   ]
  },
  {
   "cell_type": "code",
   "execution_count": null,
   "metadata": {},
   "outputs": [],
   "source": [
    "dim(dataset)"
   ]
  },
  {
   "cell_type": "code",
   "execution_count": null,
   "metadata": {},
   "outputs": [],
   "source": [
    "dataset <- dummy_cols(dataset, select_columns = 'origin')\n",
    "dataset <- dummy_cols(dataset, select_columns = 'destination')"
   ]
  },
  {
   "cell_type": "code",
   "execution_count": null,
   "metadata": {},
   "outputs": [],
   "source": [
    "dim(dataset)"
   ]
  },
  {
   "cell_type": "code",
   "execution_count": null,
   "metadata": {},
   "outputs": [],
   "source": [
    "write.csv(dataset, \"data/subset-final-dataset.csv\", row.names = FALSE)"
   ]
  },
  {
   "cell_type": "code",
   "execution_count": null,
   "metadata": {},
   "outputs": [],
   "source": [
    "dataset <- read.csv(\"data/subset-final-dataset.csv\")\n",
    "\n",
    "dataset"
   ]
  },
  {
   "cell_type": "markdown",
   "metadata": {},
   "source": [
    "### LOG 10 some variables\n",
    "\n",
    "**Migration stock/flow** \n",
    "\n",
    "In order to calculate `log10()` of my dependent variable, *`m_stock`*, I will add an **offset (`offset=1`)** to all the observations in the *`m_stock`* column."
   ]
  },
  {
   "cell_type": "code",
   "execution_count": null,
   "metadata": {},
   "outputs": [],
   "source": [
    "dataset$m_stock <- dataset$m_stock + 1.0\n",
    "dataset$m_flow_sd_drop_neg <- dataset$m_flow_sd_drop_neg + 1.0\n",
    "dataset$m_flow_sd_rev_neg <- dataset$m_flow_sd_rev_neg + 1.0\n",
    "dataset$m_flow_mig_rate <- dataset$m_flow_mig_rate + 1.0\n",
    "dataset$m_flow_da_min_open <- dataset$m_flow_da_min_open + 1.0\n",
    "dataset$m_flow_da_min_closed <- dataset$m_flow_da_min_closed + 1.0\n",
    "dataset$m_flow_da_pb_closed <- dataset$m_flow_da_pb_closed + 1.0\n",
    "\n",
    "head(dataset)"
   ]
  },
  {
   "cell_type": "code",
   "execution_count": null,
   "metadata": {},
   "outputs": [],
   "source": [
    "dataset$log10_m_flow_da_pb_closed <- log10(dataset$m_flow_da_pb_closed)\n",
    "dataset$log10_m_stock <- log10(dataset$m_stock)\n",
    "dataset$log10_pop_o <- log10(dataset$pop_o)\n",
    "dataset$log10_pop_d <- log10(dataset$pop_d)\n",
    "dataset$log10_area_o <- log10(dataset$area_o)\n",
    "dataset$log10_area_d <- log10(dataset$area_d)\n",
    "dataset$log10_GDP_o <- log10(dataset$GDP_o)\n",
    "dataset$log10_GDP_d <- log10(dataset$GDP_d)\n",
    "dataset$log10_GDP_percapita_o <- log10(dataset$GDP_percapita_o)\n",
    "dataset$log10_GDP_percapita_d <- log10(dataset$GDP_percapita_d)\n",
    "dataset$log10_distwces <- log10(dataset$distwces)\n",
    "dataset$log10_distcap <- log10(dataset$distcap)\n",
    "\n",
    "head(dataset)"
   ]
  },
  {
   "cell_type": "code",
   "execution_count": null,
   "metadata": {},
   "outputs": [],
   "source": [
    "countries"
   ]
  },
  {
   "cell_type": "code",
   "execution_count": null,
   "metadata": {},
   "outputs": [],
   "source": [
    "write.csv(dataset, \"data/subset-final-dataset.csv\", row.names = FALSE)"
   ]
  }
 ],
 "metadata": {
  "kernelspec": {
   "display_name": "R",
   "language": "R",
   "name": "ir"
  },
  "language_info": {
   "codemirror_mode": "r",
   "file_extension": ".r",
   "mimetype": "text/x-r-source",
   "name": "R",
   "pygments_lexer": "r",
   "version": "4.1.0"
  }
 },
 "nbformat": 4,
 "nbformat_minor": 2
}
