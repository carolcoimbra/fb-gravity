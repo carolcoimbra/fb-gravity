{
 "cells": [
  {
   "cell_type": "markdown",
   "metadata": {},
   "source": [
    "# The Value of Cultural Similarity for Predicting Migration\n",
    "\n",
    "\n",
    "## Carolina Coimbra Vieira, Sophie Lohmann, Emilio Zagheni"
   ]
  },
  {
   "cell_type": "code",
   "execution_count": 1,
   "metadata": {},
   "outputs": [
    {
     "name": "stderr",
     "output_type": "stream",
     "text": [
      "Warning message:\n",
      "\"package 'tidyr' was built under R version 4.1.3\"\n",
      "Warning message:\n",
      "\"package 'dplyr' was built under R version 4.1.3\"\n",
      "Warning message:\n",
      "\"package 'readr' was built under R version 4.1.3\"\n",
      "Warning message:\n",
      "\"package 'lsa' was built under R version 4.1.3\"\n",
      "Warning message:\n",
      "\"package 'SnowballC' was built under R version 4.1.1\"\n"
     ]
    }
   ],
   "source": [
    "shhh <- suppressPackageStartupMessages # It's a library, so shhh!\n",
    "\n",
    "shhh(library(tidyr))\n",
    "shhh(library(dplyr))\n",
    "shhh(library(readr))\n",
    "shhh(library(lsa))"
   ]
  },
  {
   "cell_type": "markdown",
   "metadata": {},
   "source": [
    "## Population 2019\n",
    "### Datasource: [UN](https://population.un.org/wpp/Download/Standard/Population/)"
   ]
  },
  {
   "cell_type": "code",
   "execution_count": 2,
   "metadata": {},
   "outputs": [
    {
     "data": {
      "text/html": [
       "<table class=\"dataframe\">\n",
       "<caption>A tibble: 6 × 2</caption>\n",
       "<thead>\n",
       "\t<tr><th scope=col>country</th><th scope=col>population</th></tr>\n",
       "\t<tr><th scope=col>&lt;chr&gt;</th><th scope=col>&lt;dbl&gt;</th></tr>\n",
       "</thead>\n",
       "<tbody>\n",
       "\t<tr><td>Argentina    </td><td> 44780675</td></tr>\n",
       "\t<tr><td>Australia    </td><td> 25203200</td></tr>\n",
       "\t<tr><td>Brazil       </td><td>211049519</td></tr>\n",
       "\t<tr><td>Chile        </td><td> 18952035</td></tr>\n",
       "\t<tr><td>France       </td><td> 65129731</td></tr>\n",
       "\t<tr><td>Great Britain</td><td> 67530161</td></tr>\n",
       "</tbody>\n",
       "</table>\n"
      ],
      "text/latex": [
       "A tibble: 6 × 2\n",
       "\\begin{tabular}{ll}\n",
       " country & population\\\\\n",
       " <chr> & <dbl>\\\\\n",
       "\\hline\n",
       "\t Argentina     &  44780675\\\\\n",
       "\t Australia     &  25203200\\\\\n",
       "\t Brazil        & 211049519\\\\\n",
       "\t Chile         &  18952035\\\\\n",
       "\t France        &  65129731\\\\\n",
       "\t Great Britain &  67530161\\\\\n",
       "\\end{tabular}\n"
      ],
      "text/markdown": [
       "\n",
       "A tibble: 6 × 2\n",
       "\n",
       "| country &lt;chr&gt; | population &lt;dbl&gt; |\n",
       "|---|---|\n",
       "| Argentina     |  44780675 |\n",
       "| Australia     |  25203200 |\n",
       "| Brazil        | 211049519 |\n",
       "| Chile         |  18952035 |\n",
       "| France        |  65129731 |\n",
       "| Great Britain |  67530161 |\n",
       "\n"
      ],
      "text/plain": [
       "  country       population\n",
       "1 Argentina      44780675 \n",
       "2 Australia      25203200 \n",
       "3 Brazil        211049519 \n",
       "4 Chile          18952035 \n",
       "5 France         65129731 \n",
       "6 Great Britain  67530161 "
      ]
     },
     "metadata": {},
     "output_type": "display_data"
    }
   ],
   "source": [
    "pop_2019 <- read_csv(\"data/subset-pop-un2019.csv\", col_types = cols())\n",
    "\n",
    "head(pop_2019)"
   ]
  },
  {
   "cell_type": "code",
   "execution_count": 3,
   "metadata": {},
   "outputs": [
    {
     "data": {
      "text/html": [
       "<style>\n",
       ".list-inline {list-style: none; margin:0; padding: 0}\n",
       ".list-inline>li {display: inline-block}\n",
       ".list-inline>li:not(:last-child)::after {content: \"\\00b7\"; padding: 0 .5ex}\n",
       "</style>\n",
       "<ol class=list-inline><li>'Argentina'</li><li>'Australia'</li><li>'Brazil'</li><li>'Chile'</li><li>'France'</li><li>'Great Britain'</li><li>'Indonesia'</li><li>'Japan'</li><li>'Malaysia'</li><li>'Mexico'</li><li>'Russia'</li><li>'Singapore'</li><li>'South Korea'</li><li>'Spain'</li><li>'Turkey'</li><li>'United States'</li></ol>\n"
      ],
      "text/latex": [
       "\\begin{enumerate*}\n",
       "\\item 'Argentina'\n",
       "\\item 'Australia'\n",
       "\\item 'Brazil'\n",
       "\\item 'Chile'\n",
       "\\item 'France'\n",
       "\\item 'Great Britain'\n",
       "\\item 'Indonesia'\n",
       "\\item 'Japan'\n",
       "\\item 'Malaysia'\n",
       "\\item 'Mexico'\n",
       "\\item 'Russia'\n",
       "\\item 'Singapore'\n",
       "\\item 'South Korea'\n",
       "\\item 'Spain'\n",
       "\\item 'Turkey'\n",
       "\\item 'United States'\n",
       "\\end{enumerate*}\n"
      ],
      "text/markdown": [
       "1. 'Argentina'\n",
       "2. 'Australia'\n",
       "3. 'Brazil'\n",
       "4. 'Chile'\n",
       "5. 'France'\n",
       "6. 'Great Britain'\n",
       "7. 'Indonesia'\n",
       "8. 'Japan'\n",
       "9. 'Malaysia'\n",
       "10. 'Mexico'\n",
       "11. 'Russia'\n",
       "12. 'Singapore'\n",
       "13. 'South Korea'\n",
       "14. 'Spain'\n",
       "15. 'Turkey'\n",
       "16. 'United States'\n",
       "\n",
       "\n"
      ],
      "text/plain": [
       " [1] \"Argentina\"     \"Australia\"     \"Brazil\"        \"Chile\"        \n",
       " [5] \"France\"        \"Great Britain\" \"Indonesia\"     \"Japan\"        \n",
       " [9] \"Malaysia\"      \"Mexico\"        \"Russia\"        \"Singapore\"    \n",
       "[13] \"South Korea\"   \"Spain\"         \"Turkey\"        \"United States\""
      ]
     },
     "metadata": {},
     "output_type": "display_data"
    }
   ],
   "source": [
    "countries <- c(pop_2019$country)\n",
    "\n",
    "countries"
   ]
  },
  {
   "cell_type": "markdown",
   "metadata": {},
   "source": [
    "## Geographic info: area  \n",
    "### Datasource: [CEPII](http://www.cepii.fr/CEPII/en/bdd_modele/presentation.asp?id=6)\n",
    "\n",
    "<b>Country-level variables</b>   \n",
    "    *`iso2, iso3, cnum`*: ISO codes in two and three characters, and in three numbers respectively.  \n",
    "    *`country, pays`*: Name of country in English and French respectively.   \n",
    "    **`area`: Country’s area in $km^2$.**   \n",
    "    *`dis_int`*: Internal distance of country i, $d_{ii} = .67 \\sqrt{area/\\pi}$ (an often used measure of average distance between producers and consumers in a country, see Head and Mayer, 2002 for more on this topic).  \n",
    "    *`landlocked`*: Dummy variable set equal to 1 for landlocked countries.    \n",
    "    *`continent`*: Continent to which the country is belonging.   \n",
    "    *`langoff_i`*: Official or national languages and languages spoken by at least 20% of the population of the country (and spoken in another country of the world) following the same logic than the \"open-circuit languages\" in Mélitz (2002).  \n",
    "    *`lang20_i`*: Languages (mother tongue, lingua francas or second languages) spoken by at least 20% of the population of the country.  \n",
    "    *`lang9_i`*: Languages (mother tongue, lingua francas or second languages) spoken by between 9% and 20% of the population of the country.  \n",
    "    *`colonizeri`*: Colonizers of the country for a relatively long period of time and with a substantial participation in the governance of the colonized country.  \n",
    "    *`short_colonizeri`*: Colonizers of the country for a relatively short period of time or with only low involvement in the governance of the colonized country.\n",
    "    \n",
    "<b>Cities variables used in the computation of distances</b>  \n",
    "    *`city_en, city_fr`*: Names of capitals or main cities of the country in English and French.   \n",
    "    *`lat, lon`*: Latitude and longitude of the city.  \n",
    "    *`cap`*: Variable equals to 1 if the city is the capital of the country, to 0 if the city is the most populated city (maincity equals to 1) but not the capital, and to 2 in the cases of two capitals, if the city is the most populated but the “second” capital or the previous capital.  \n",
    "    *`maincity`*: Variable coded as 1 when the city is the most populated of the country and as 2 otherwise.  \n",
    "    *`citynum`*: Number of cities for each country used to calculate our weighted distances described in the next section.  "
   ]
  },
  {
   "cell_type": "code",
   "execution_count": 4,
   "metadata": {},
   "outputs": [
    {
     "data": {
      "text/html": [
       "<table class=\"dataframe\">\n",
       "<caption>A data.frame: 6 × 34</caption>\n",
       "<thead>\n",
       "\t<tr><th></th><th scope=col>iso2</th><th scope=col>iso3</th><th scope=col>cnum</th><th scope=col>country</th><th scope=col>pays</th><th scope=col>area</th><th scope=col>dis_int</th><th scope=col>landlocked</th><th scope=col>continent</th><th scope=col>city_en</th><th scope=col>...</th><th scope=col>lang9_2</th><th scope=col>lang9_3</th><th scope=col>lang9_4</th><th scope=col>colonizer1</th><th scope=col>colonizer2</th><th scope=col>colonizer3</th><th scope=col>colonizer4</th><th scope=col>short_colonizer1</th><th scope=col>short_colonizer2</th><th scope=col>short_colonizer3</th></tr>\n",
       "\t<tr><th></th><th scope=col>&lt;chr&gt;</th><th scope=col>&lt;chr&gt;</th><th scope=col>&lt;int&gt;</th><th scope=col>&lt;chr&gt;</th><th scope=col>&lt;chr&gt;</th><th scope=col>&lt;int&gt;</th><th scope=col>&lt;chr&gt;</th><th scope=col>&lt;int&gt;</th><th scope=col>&lt;chr&gt;</th><th scope=col>&lt;chr&gt;</th><th scope=col>...</th><th scope=col>&lt;chr&gt;</th><th scope=col>&lt;chr&gt;</th><th scope=col>&lt;chr&gt;</th><th scope=col>&lt;chr&gt;</th><th scope=col>&lt;chr&gt;</th><th scope=col>&lt;chr&gt;</th><th scope=col>&lt;chr&gt;</th><th scope=col>&lt;chr&gt;</th><th scope=col>&lt;chr&gt;</th><th scope=col>&lt;chr&gt;</th></tr>\n",
       "</thead>\n",
       "<tbody>\n",
       "\t<tr><th scope=row>1</th><td>AW</td><td>ABW</td><td>533</td><td>Aruba      </td><td>Aruba      </td><td>    193</td><td>5,225315</td><td>0</td><td>America</td><td>Oranjestad      </td><td>...</td><td>.    </td><td>.</td><td>.</td><td>NLD</td><td>.</td><td>.</td><td>.</td><td>.  </td><td>.</td><td>.</td></tr>\n",
       "\t<tr><th scope=row>2</th><td>AF</td><td>AFG</td><td>  4</td><td>Afghanistan</td><td>Afghanistan</td><td> 652225</td><td>303,7614</td><td>1</td><td>Asia   </td><td>Kabul           </td><td>...</td><td>Uzbek</td><td>.</td><td>.</td><td>.  </td><td>.</td><td>.</td><td>.</td><td>GBR</td><td>.</td><td>.</td></tr>\n",
       "\t<tr><th scope=row>3</th><td>AO</td><td>AGO</td><td> 24</td><td>Angola     </td><td>Angola     </td><td>1246700</td><td>419,9666</td><td>0</td><td>Africa </td><td>Luanda          </td><td>...</td><td>.    </td><td>.</td><td>.</td><td>PRT</td><td>.</td><td>.</td><td>.</td><td>.  </td><td>.</td><td>.</td></tr>\n",
       "\t<tr><th scope=row>4</th><td>AI</td><td>AIA</td><td>660</td><td>Anguilla   </td><td>Anguilla   </td><td>    102</td><td>3,79869 </td><td>0</td><td>America</td><td>The Valley      </td><td>...</td><td>.    </td><td>.</td><td>.</td><td>GBR</td><td>.</td><td>.</td><td>.</td><td>.  </td><td>.</td><td>.</td></tr>\n",
       "\t<tr><th scope=row>5</th><td>AL</td><td>ALB</td><td>  8</td><td>Albania    </td><td>Albanie    </td><td>  28748</td><td>63,77311</td><td>0</td><td>Europe </td><td>Tirana          </td><td>...</td><td>.    </td><td>.</td><td>.</td><td>TUR</td><td>.</td><td>.</td><td>.</td><td>.  </td><td>.</td><td>.</td></tr>\n",
       "\t<tr><th scope=row>6</th><td>AD</td><td>AND</td><td> 20</td><td>Andorra    </td><td>Andorre    </td><td>    453</td><td>8,005398</td><td>0</td><td>Europe </td><td>Andorra la Vella</td><td>...</td><td>.    </td><td>.</td><td>.</td><td>.  </td><td>.</td><td>.</td><td>.</td><td>.  </td><td>.</td><td>.</td></tr>\n",
       "</tbody>\n",
       "</table>\n"
      ],
      "text/latex": [
       "A data.frame: 6 × 34\n",
       "\\begin{tabular}{r|lllllllllllllllllllll}\n",
       "  & iso2 & iso3 & cnum & country & pays & area & dis\\_int & landlocked & continent & city\\_en & ... & lang9\\_2 & lang9\\_3 & lang9\\_4 & colonizer1 & colonizer2 & colonizer3 & colonizer4 & short\\_colonizer1 & short\\_colonizer2 & short\\_colonizer3\\\\\n",
       "  & <chr> & <chr> & <int> & <chr> & <chr> & <int> & <chr> & <int> & <chr> & <chr> & ... & <chr> & <chr> & <chr> & <chr> & <chr> & <chr> & <chr> & <chr> & <chr> & <chr>\\\\\n",
       "\\hline\n",
       "\t1 & AW & ABW & 533 & Aruba       & Aruba       &     193 & 5,225315 & 0 & America & Oranjestad       & ... & .     & . & . & NLD & . & . & . & .   & . & .\\\\\n",
       "\t2 & AF & AFG &   4 & Afghanistan & Afghanistan &  652225 & 303,7614 & 1 & Asia    & Kabul            & ... & Uzbek & . & . & .   & . & . & . & GBR & . & .\\\\\n",
       "\t3 & AO & AGO &  24 & Angola      & Angola      & 1246700 & 419,9666 & 0 & Africa  & Luanda           & ... & .     & . & . & PRT & . & . & . & .   & . & .\\\\\n",
       "\t4 & AI & AIA & 660 & Anguilla    & Anguilla    &     102 & 3,79869  & 0 & America & The Valley       & ... & .     & . & . & GBR & . & . & . & .   & . & .\\\\\n",
       "\t5 & AL & ALB &   8 & Albania     & Albanie     &   28748 & 63,77311 & 0 & Europe  & Tirana           & ... & .     & . & . & TUR & . & . & . & .   & . & .\\\\\n",
       "\t6 & AD & AND &  20 & Andorra     & Andorre     &     453 & 8,005398 & 0 & Europe  & Andorra la Vella & ... & .     & . & . & .   & . & . & . & .   & . & .\\\\\n",
       "\\end{tabular}\n"
      ],
      "text/markdown": [
       "\n",
       "A data.frame: 6 × 34\n",
       "\n",
       "| <!--/--> | iso2 &lt;chr&gt; | iso3 &lt;chr&gt; | cnum &lt;int&gt; | country &lt;chr&gt; | pays &lt;chr&gt; | area &lt;int&gt; | dis_int &lt;chr&gt; | landlocked &lt;int&gt; | continent &lt;chr&gt; | city_en &lt;chr&gt; | ... ... | lang9_2 &lt;chr&gt; | lang9_3 &lt;chr&gt; | lang9_4 &lt;chr&gt; | colonizer1 &lt;chr&gt; | colonizer2 &lt;chr&gt; | colonizer3 &lt;chr&gt; | colonizer4 &lt;chr&gt; | short_colonizer1 &lt;chr&gt; | short_colonizer2 &lt;chr&gt; | short_colonizer3 &lt;chr&gt; |\n",
       "|---|---|---|---|---|---|---|---|---|---|---|---|---|---|---|---|---|---|---|---|---|---|\n",
       "| 1 | AW | ABW | 533 | Aruba       | Aruba       |     193 | 5,225315 | 0 | America | Oranjestad       | ... | .     | . | . | NLD | . | . | . | .   | . | . |\n",
       "| 2 | AF | AFG |   4 | Afghanistan | Afghanistan |  652225 | 303,7614 | 1 | Asia    | Kabul            | ... | Uzbek | . | . | .   | . | . | . | GBR | . | . |\n",
       "| 3 | AO | AGO |  24 | Angola      | Angola      | 1246700 | 419,9666 | 0 | Africa  | Luanda           | ... | .     | . | . | PRT | . | . | . | .   | . | . |\n",
       "| 4 | AI | AIA | 660 | Anguilla    | Anguilla    |     102 | 3,79869  | 0 | America | The Valley       | ... | .     | . | . | GBR | . | . | . | .   | . | . |\n",
       "| 5 | AL | ALB |   8 | Albania     | Albanie     |   28748 | 63,77311 | 0 | Europe  | Tirana           | ... | .     | . | . | TUR | . | . | . | .   | . | . |\n",
       "| 6 | AD | AND |  20 | Andorra     | Andorre     |     453 | 8,005398 | 0 | Europe  | Andorra la Vella | ... | .     | . | . | .   | . | . | . | .   | . | . |\n",
       "\n"
      ],
      "text/plain": [
       "  iso2 iso3 cnum country     pays        area    dis_int  landlocked continent\n",
       "1 AW   ABW  533  Aruba       Aruba           193 5,225315 0          America  \n",
       "2 AF   AFG    4  Afghanistan Afghanistan  652225 303,7614 1          Asia     \n",
       "3 AO   AGO   24  Angola      Angola      1246700 419,9666 0          Africa   \n",
       "4 AI   AIA  660  Anguilla    Anguilla        102 3,79869  0          America  \n",
       "5 AL   ALB    8  Albania     Albanie       28748 63,77311 0          Europe   \n",
       "6 AD   AND   20  Andorra     Andorre         453 8,005398 0          Europe   \n",
       "  city_en          ... lang9_2 lang9_3 lang9_4 colonizer1 colonizer2 colonizer3\n",
       "1 Oranjestad       ... .       .       .       NLD        .          .         \n",
       "2 Kabul            ... Uzbek   .       .       .          .          .         \n",
       "3 Luanda           ... .       .       .       PRT        .          .         \n",
       "4 The Valley       ... .       .       .       GBR        .          .         \n",
       "5 Tirana           ... .       .       .       TUR        .          .         \n",
       "6 Andorra la Vella ... .       .       .       .          .          .         \n",
       "  colonizer4 short_colonizer1 short_colonizer2 short_colonizer3\n",
       "1 .          .                .                .               \n",
       "2 .          GBR              .                .               \n",
       "3 .          .                .                .               \n",
       "4 .          .                .                .               \n",
       "5 .          .                .                .               \n",
       "6 .          .                .                .               "
      ]
     },
     "metadata": {},
     "output_type": "display_data"
    }
   ],
   "source": [
    "geo <- read.csv(\"data/cepii_geo.csv\")\n",
    "\n",
    "head(geo)"
   ]
  },
  {
   "cell_type": "code",
   "execution_count": 5,
   "metadata": {},
   "outputs": [
    {
     "data": {
      "text/html": [
       "<style>\n",
       ".list-inline {list-style: none; margin:0; padding: 0}\n",
       ".list-inline>li {display: inline-block}\n",
       ".list-inline>li:not(:last-child)::after {content: \"\\00b7\"; padding: 0 .5ex}\n",
       "</style>\n",
       "<ol class=list-inline><li>'iso2'</li><li>'iso3'</li><li>'cnum'</li><li>'country'</li><li>'pays'</li><li>'area'</li><li>'dis_int'</li><li>'landlocked'</li><li>'continent'</li><li>'city_en'</li><li>'city_fr'</li><li>'lat'</li><li>'lon'</li><li>'cap'</li><li>'maincity'</li><li>'citynum'</li><li>'langoff_1'</li><li>'langoff_2'</li><li>'langoff_3'</li><li>'lang20_1'</li><li>'lang20_2'</li><li>'lang20_3'</li><li>'lang20_4'</li><li>'lang9_1'</li><li>'lang9_2'</li><li>'lang9_3'</li><li>'lang9_4'</li><li>'colonizer1'</li><li>'colonizer2'</li><li>'colonizer3'</li><li>'colonizer4'</li><li>'short_colonizer1'</li><li>'short_colonizer2'</li><li>'short_colonizer3'</li></ol>\n"
      ],
      "text/latex": [
       "\\begin{enumerate*}\n",
       "\\item 'iso2'\n",
       "\\item 'iso3'\n",
       "\\item 'cnum'\n",
       "\\item 'country'\n",
       "\\item 'pays'\n",
       "\\item 'area'\n",
       "\\item 'dis\\_int'\n",
       "\\item 'landlocked'\n",
       "\\item 'continent'\n",
       "\\item 'city\\_en'\n",
       "\\item 'city\\_fr'\n",
       "\\item 'lat'\n",
       "\\item 'lon'\n",
       "\\item 'cap'\n",
       "\\item 'maincity'\n",
       "\\item 'citynum'\n",
       "\\item 'langoff\\_1'\n",
       "\\item 'langoff\\_2'\n",
       "\\item 'langoff\\_3'\n",
       "\\item 'lang20\\_1'\n",
       "\\item 'lang20\\_2'\n",
       "\\item 'lang20\\_3'\n",
       "\\item 'lang20\\_4'\n",
       "\\item 'lang9\\_1'\n",
       "\\item 'lang9\\_2'\n",
       "\\item 'lang9\\_3'\n",
       "\\item 'lang9\\_4'\n",
       "\\item 'colonizer1'\n",
       "\\item 'colonizer2'\n",
       "\\item 'colonizer3'\n",
       "\\item 'colonizer4'\n",
       "\\item 'short\\_colonizer1'\n",
       "\\item 'short\\_colonizer2'\n",
       "\\item 'short\\_colonizer3'\n",
       "\\end{enumerate*}\n"
      ],
      "text/markdown": [
       "1. 'iso2'\n",
       "2. 'iso3'\n",
       "3. 'cnum'\n",
       "4. 'country'\n",
       "5. 'pays'\n",
       "6. 'area'\n",
       "7. 'dis_int'\n",
       "8. 'landlocked'\n",
       "9. 'continent'\n",
       "10. 'city_en'\n",
       "11. 'city_fr'\n",
       "12. 'lat'\n",
       "13. 'lon'\n",
       "14. 'cap'\n",
       "15. 'maincity'\n",
       "16. 'citynum'\n",
       "17. 'langoff_1'\n",
       "18. 'langoff_2'\n",
       "19. 'langoff_3'\n",
       "20. 'lang20_1'\n",
       "21. 'lang20_2'\n",
       "22. 'lang20_3'\n",
       "23. 'lang20_4'\n",
       "24. 'lang9_1'\n",
       "25. 'lang9_2'\n",
       "26. 'lang9_3'\n",
       "27. 'lang9_4'\n",
       "28. 'colonizer1'\n",
       "29. 'colonizer2'\n",
       "30. 'colonizer3'\n",
       "31. 'colonizer4'\n",
       "32. 'short_colonizer1'\n",
       "33. 'short_colonizer2'\n",
       "34. 'short_colonizer3'\n",
       "\n",
       "\n"
      ],
      "text/plain": [
       " [1] \"iso2\"             \"iso3\"             \"cnum\"             \"country\"         \n",
       " [5] \"pays\"             \"area\"             \"dis_int\"          \"landlocked\"      \n",
       " [9] \"continent\"        \"city_en\"          \"city_fr\"          \"lat\"             \n",
       "[13] \"lon\"              \"cap\"              \"maincity\"         \"citynum\"         \n",
       "[17] \"langoff_1\"        \"langoff_2\"        \"langoff_3\"        \"lang20_1\"        \n",
       "[21] \"lang20_2\"         \"lang20_3\"         \"lang20_4\"         \"lang9_1\"         \n",
       "[25] \"lang9_2\"          \"lang9_3\"          \"lang9_4\"          \"colonizer1\"      \n",
       "[29] \"colonizer2\"       \"colonizer3\"       \"colonizer4\"       \"short_colonizer1\"\n",
       "[33] \"short_colonizer2\" \"short_colonizer3\""
      ]
     },
     "metadata": {},
     "output_type": "display_data"
    }
   ],
   "source": [
    "colnames(geo)"
   ]
  },
  {
   "cell_type": "code",
   "execution_count": 6,
   "metadata": {},
   "outputs": [
    {
     "data": {
      "text/html": [
       "<table class=\"dataframe\">\n",
       "<caption>A data.frame: 6 × 4</caption>\n",
       "<thead>\n",
       "\t<tr><th></th><th scope=col>iso2</th><th scope=col>iso3</th><th scope=col>country</th><th scope=col>area</th></tr>\n",
       "\t<tr><th></th><th scope=col>&lt;chr&gt;</th><th scope=col>&lt;chr&gt;</th><th scope=col>&lt;chr&gt;</th><th scope=col>&lt;int&gt;</th></tr>\n",
       "</thead>\n",
       "<tbody>\n",
       "\t<tr><th scope=row>1</th><td>AR</td><td>ARG</td><td>Argentina</td><td>2766889</td></tr>\n",
       "\t<tr><th scope=row>2</th><td>AU</td><td>AUS</td><td>Australia</td><td>7686848</td></tr>\n",
       "\t<tr><th scope=row>4</th><td>BR</td><td>BRA</td><td>Brazil   </td><td>8511920</td></tr>\n",
       "\t<tr><th scope=row>6</th><td>CL</td><td>CHL</td><td>Chile    </td><td> 756945</td></tr>\n",
       "\t<tr><th scope=row>7</th><td>ES</td><td>ESP</td><td>Spain    </td><td> 505954</td></tr>\n",
       "\t<tr><th scope=row>8</th><td>FR</td><td>FRA</td><td>France   </td><td> 547026</td></tr>\n",
       "</tbody>\n",
       "</table>\n"
      ],
      "text/latex": [
       "A data.frame: 6 × 4\n",
       "\\begin{tabular}{r|llll}\n",
       "  & iso2 & iso3 & country & area\\\\\n",
       "  & <chr> & <chr> & <chr> & <int>\\\\\n",
       "\\hline\n",
       "\t1 & AR & ARG & Argentina & 2766889\\\\\n",
       "\t2 & AU & AUS & Australia & 7686848\\\\\n",
       "\t4 & BR & BRA & Brazil    & 8511920\\\\\n",
       "\t6 & CL & CHL & Chile     &  756945\\\\\n",
       "\t7 & ES & ESP & Spain     &  505954\\\\\n",
       "\t8 & FR & FRA & France    &  547026\\\\\n",
       "\\end{tabular}\n"
      ],
      "text/markdown": [
       "\n",
       "A data.frame: 6 × 4\n",
       "\n",
       "| <!--/--> | iso2 &lt;chr&gt; | iso3 &lt;chr&gt; | country &lt;chr&gt; | area &lt;int&gt; |\n",
       "|---|---|---|---|---|\n",
       "| 1 | AR | ARG | Argentina | 2766889 |\n",
       "| 2 | AU | AUS | Australia | 7686848 |\n",
       "| 4 | BR | BRA | Brazil    | 8511920 |\n",
       "| 6 | CL | CHL | Chile     |  756945 |\n",
       "| 7 | ES | ESP | Spain     |  505954 |\n",
       "| 8 | FR | FRA | France    |  547026 |\n",
       "\n"
      ],
      "text/plain": [
       "  iso2 iso3 country   area   \n",
       "1 AR   ARG  Argentina 2766889\n",
       "2 AU   AUS  Australia 7686848\n",
       "4 BR   BRA  Brazil    8511920\n",
       "6 CL   CHL  Chile      756945\n",
       "7 ES   ESP  Spain      505954\n",
       "8 FR   FRA  France     547026"
      ]
     },
     "metadata": {},
     "output_type": "display_data"
    }
   ],
   "source": [
    "area <- geo %>% filter (country %in% countries) %>%\n",
    "                select(iso2, iso3, country, area) %>% \n",
    "                unique()\n",
    "\n",
    "head(area)"
   ]
  },
  {
   "cell_type": "markdown",
   "metadata": {},
   "source": [
    "#### Population + Area"
   ]
  },
  {
   "cell_type": "code",
   "execution_count": 7,
   "metadata": {},
   "outputs": [
    {
     "data": {
      "text/html": [
       "<table class=\"dataframe\">\n",
       "<caption>A data.frame: 16 × 5</caption>\n",
       "<thead>\n",
       "\t<tr><th scope=col>country</th><th scope=col>iso2</th><th scope=col>iso3</th><th scope=col>area</th><th scope=col>population</th></tr>\n",
       "\t<tr><th scope=col>&lt;chr&gt;</th><th scope=col>&lt;chr&gt;</th><th scope=col>&lt;chr&gt;</th><th scope=col>&lt;int&gt;</th><th scope=col>&lt;dbl&gt;</th></tr>\n",
       "</thead>\n",
       "<tbody>\n",
       "\t<tr><td>Argentina    </td><td>AR</td><td>ARG</td><td> 2766889</td><td> 44780675</td></tr>\n",
       "\t<tr><td>Australia    </td><td>AU</td><td>AUS</td><td> 7686848</td><td> 25203200</td></tr>\n",
       "\t<tr><td>Brazil       </td><td>BR</td><td>BRA</td><td> 8511920</td><td>211049519</td></tr>\n",
       "\t<tr><td>Chile        </td><td>CL</td><td>CHL</td><td>  756945</td><td> 18952035</td></tr>\n",
       "\t<tr><td>France       </td><td>FR</td><td>FRA</td><td>  547026</td><td> 65129731</td></tr>\n",
       "\t<tr><td>Great Britain</td><td>GB</td><td>GBR</td><td>  244110</td><td> 67530161</td></tr>\n",
       "\t<tr><td>Indonesia    </td><td>ID</td><td>IDN</td><td> 1933658</td><td>270625567</td></tr>\n",
       "\t<tr><td>Japan        </td><td>JP</td><td>JPN</td><td>  377801</td><td>126860299</td></tr>\n",
       "\t<tr><td>Malaysia     </td><td>MY</td><td>MYS</td><td>  329758</td><td> 31949789</td></tr>\n",
       "\t<tr><td>Mexico       </td><td>MX</td><td>MEX</td><td> 1967210</td><td>127575529</td></tr>\n",
       "\t<tr><td>Russia       </td><td>RU</td><td>RUS</td><td>17075400</td><td>145872260</td></tr>\n",
       "\t<tr><td>Singapore    </td><td>SG</td><td>SGP</td><td>     646</td><td>  5804343</td></tr>\n",
       "\t<tr><td>South Korea  </td><td>KR</td><td>KOR</td><td>   99484</td><td> 51225321</td></tr>\n",
       "\t<tr><td>Spain        </td><td>ES</td><td>ESP</td><td>  505954</td><td> 46736782</td></tr>\n",
       "\t<tr><td>Turkey       </td><td>TR</td><td>TUR</td><td>  780576</td><td> 83429607</td></tr>\n",
       "\t<tr><td>United States</td><td>US</td><td>USA</td><td> 9529106</td><td>329064917</td></tr>\n",
       "</tbody>\n",
       "</table>\n"
      ],
      "text/latex": [
       "A data.frame: 16 × 5\n",
       "\\begin{tabular}{lllll}\n",
       " country & iso2 & iso3 & area & population\\\\\n",
       " <chr> & <chr> & <chr> & <int> & <dbl>\\\\\n",
       "\\hline\n",
       "\t Argentina     & AR & ARG &  2766889 &  44780675\\\\\n",
       "\t Australia     & AU & AUS &  7686848 &  25203200\\\\\n",
       "\t Brazil        & BR & BRA &  8511920 & 211049519\\\\\n",
       "\t Chile         & CL & CHL &   756945 &  18952035\\\\\n",
       "\t France        & FR & FRA &   547026 &  65129731\\\\\n",
       "\t Great Britain & GB & GBR &   244110 &  67530161\\\\\n",
       "\t Indonesia     & ID & IDN &  1933658 & 270625567\\\\\n",
       "\t Japan         & JP & JPN &   377801 & 126860299\\\\\n",
       "\t Malaysia      & MY & MYS &   329758 &  31949789\\\\\n",
       "\t Mexico        & MX & MEX &  1967210 & 127575529\\\\\n",
       "\t Russia        & RU & RUS & 17075400 & 145872260\\\\\n",
       "\t Singapore     & SG & SGP &      646 &   5804343\\\\\n",
       "\t South Korea   & KR & KOR &    99484 &  51225321\\\\\n",
       "\t Spain         & ES & ESP &   505954 &  46736782\\\\\n",
       "\t Turkey        & TR & TUR &   780576 &  83429607\\\\\n",
       "\t United States & US & USA &  9529106 & 329064917\\\\\n",
       "\\end{tabular}\n"
      ],
      "text/markdown": [
       "\n",
       "A data.frame: 16 × 5\n",
       "\n",
       "| country &lt;chr&gt; | iso2 &lt;chr&gt; | iso3 &lt;chr&gt; | area &lt;int&gt; | population &lt;dbl&gt; |\n",
       "|---|---|---|---|---|\n",
       "| Argentina     | AR | ARG |  2766889 |  44780675 |\n",
       "| Australia     | AU | AUS |  7686848 |  25203200 |\n",
       "| Brazil        | BR | BRA |  8511920 | 211049519 |\n",
       "| Chile         | CL | CHL |   756945 |  18952035 |\n",
       "| France        | FR | FRA |   547026 |  65129731 |\n",
       "| Great Britain | GB | GBR |   244110 |  67530161 |\n",
       "| Indonesia     | ID | IDN |  1933658 | 270625567 |\n",
       "| Japan         | JP | JPN |   377801 | 126860299 |\n",
       "| Malaysia      | MY | MYS |   329758 |  31949789 |\n",
       "| Mexico        | MX | MEX |  1967210 | 127575529 |\n",
       "| Russia        | RU | RUS | 17075400 | 145872260 |\n",
       "| Singapore     | SG | SGP |      646 |   5804343 |\n",
       "| South Korea   | KR | KOR |    99484 |  51225321 |\n",
       "| Spain         | ES | ESP |   505954 |  46736782 |\n",
       "| Turkey        | TR | TUR |   780576 |  83429607 |\n",
       "| United States | US | USA |  9529106 | 329064917 |\n",
       "\n"
      ],
      "text/plain": [
       "   country       iso2 iso3 area     population\n",
       "1  Argentina     AR   ARG   2766889  44780675 \n",
       "2  Australia     AU   AUS   7686848  25203200 \n",
       "3  Brazil        BR   BRA   8511920 211049519 \n",
       "4  Chile         CL   CHL    756945  18952035 \n",
       "5  France        FR   FRA    547026  65129731 \n",
       "6  Great Britain GB   GBR    244110  67530161 \n",
       "7  Indonesia     ID   IDN   1933658 270625567 \n",
       "8  Japan         JP   JPN    377801 126860299 \n",
       "9  Malaysia      MY   MYS    329758  31949789 \n",
       "10 Mexico        MX   MEX   1967210 127575529 \n",
       "11 Russia        RU   RUS  17075400 145872260 \n",
       "12 Singapore     SG   SGP       646   5804343 \n",
       "13 South Korea   KR   KOR     99484  51225321 \n",
       "14 Spain         ES   ESP    505954  46736782 \n",
       "15 Turkey        TR   TUR    780576  83429607 \n",
       "16 United States US   USA   9529106 329064917 "
      ]
     },
     "metadata": {},
     "output_type": "display_data"
    }
   ],
   "source": [
    "area_pop <- merge(area, pop_2019)\n",
    "\n",
    "area_pop"
   ]
  },
  {
   "cell_type": "code",
   "execution_count": 8,
   "metadata": {},
   "outputs": [
    {
     "data": {
      "text/html": [
       "<style>\n",
       ".list-inline {list-style: none; margin:0; padding: 0}\n",
       ".list-inline>li {display: inline-block}\n",
       ".list-inline>li:not(:last-child)::after {content: \"\\00b7\"; padding: 0 .5ex}\n",
       "</style>\n",
       "<ol class=list-inline><li>'ARG'</li><li>'AUS'</li><li>'BRA'</li><li>'CHL'</li><li>'ESP'</li><li>'FRA'</li><li>'GBR'</li><li>'IDN'</li><li>'JPN'</li><li>'KOR'</li><li>'MEX'</li><li>'MYS'</li><li>'RUS'</li><li>'SGP'</li><li>'TUR'</li><li>'USA'</li></ol>\n"
      ],
      "text/latex": [
       "\\begin{enumerate*}\n",
       "\\item 'ARG'\n",
       "\\item 'AUS'\n",
       "\\item 'BRA'\n",
       "\\item 'CHL'\n",
       "\\item 'ESP'\n",
       "\\item 'FRA'\n",
       "\\item 'GBR'\n",
       "\\item 'IDN'\n",
       "\\item 'JPN'\n",
       "\\item 'KOR'\n",
       "\\item 'MEX'\n",
       "\\item 'MYS'\n",
       "\\item 'RUS'\n",
       "\\item 'SGP'\n",
       "\\item 'TUR'\n",
       "\\item 'USA'\n",
       "\\end{enumerate*}\n"
      ],
      "text/markdown": [
       "1. 'ARG'\n",
       "2. 'AUS'\n",
       "3. 'BRA'\n",
       "4. 'CHL'\n",
       "5. 'ESP'\n",
       "6. 'FRA'\n",
       "7. 'GBR'\n",
       "8. 'IDN'\n",
       "9. 'JPN'\n",
       "10. 'KOR'\n",
       "11. 'MEX'\n",
       "12. 'MYS'\n",
       "13. 'RUS'\n",
       "14. 'SGP'\n",
       "15. 'TUR'\n",
       "16. 'USA'\n",
       "\n",
       "\n"
      ],
      "text/plain": [
       " [1] \"ARG\" \"AUS\" \"BRA\" \"CHL\" \"ESP\" \"FRA\" \"GBR\" \"IDN\" \"JPN\" \"KOR\" \"MEX\" \"MYS\"\n",
       "[13] \"RUS\" \"SGP\" \"TUR\" \"USA\""
      ]
     },
     "metadata": {},
     "output_type": "display_data"
    }
   ],
   "source": [
    "isos3 <- area$iso3\n",
    "\n",
    "isos3"
   ]
  },
  {
   "cell_type": "markdown",
   "metadata": {},
   "source": [
    "## Geographic distance\n",
    "### Datasource: [CEPII](http://www.cepii.fr/CEPII/en/bdd_modele/presentation.asp?id=6)  \n",
    "\n",
    "<b>Variables</b>  \n",
    "    *`iso_o, iso_d`*: ISO codes in three characters, refering to the country of origin and destination, respectively.  \n",
    "    *`dist`*: Geodesic distances from lat/long of most populous cities (simple distance).   \n",
    "    *`distcap`*: geodesic distance between capital cities (simple distance).    \n",
    "    *`distw`*: population weighted distance, theta = 1 (weighted distance).   \n",
    "    *`distwces`*: population weighted distance, theta = -1, which corresponds to the usual coefficient estimated from gravity models of bilateral trade flows (weighted distance).  \n",
    "    *`contig`*: dummy variable indicating whether the two countries are contiguous (share a land border).  \n",
    "    *`comlang_off, comlang_ethno`*: dummy variable indicating whether the two countries share a common language. There are two common languages dummies, the first one based on the fact that two countries share a common official language, and the other one set to one if a language is spoken by at least 9% of the population in both countries.     \n",
    "    *`colony`*: dummy variable indicating whether the two countries have ever had a colonial link.  \n",
    "    *`comcol`*: dummy variable indicating whether the two countries have had a common colonizer after 1945.  \n",
    "    *`curcol`*: dummy variable indicating whether the two countries are currently in a colonial relationship.  \n",
    "    *`col45`*: dummy variable indicating whether the two countries have had a colonial relationship -a-f-t-e-r- 1945 (share common colonizer pre 1945).  \n",
    "    *`smctry`*: dummy variable indicating whether the two countries were/are the same country.  \n",
    "\n",
    "**[TO DO]: check Maciej distance**   \n",
    "<b>Maciej</b>  \n",
    "    *`dist_pop_weighted`*: population-weighted average distance between biggest cities  \n",
    "    *`dist_biggest_cities`*: average distance between biggest cities  \n",
    "^ most similar to distwces  \n",
    "    *`dist_unweighted`*: average distance between (?) (not population weighted)  "
   ]
  },
  {
   "cell_type": "code",
   "execution_count": 9,
   "metadata": {},
   "outputs": [
    {
     "data": {
      "text/html": [
       "<table class=\"dataframe\">\n",
       "<caption>A data.frame: 6 × 14</caption>\n",
       "<thead>\n",
       "\t<tr><th></th><th scope=col>iso_o</th><th scope=col>iso_d</th><th scope=col>contig</th><th scope=col>comlang_off</th><th scope=col>comlang_ethno</th><th scope=col>colony</th><th scope=col>comcol</th><th scope=col>curcol</th><th scope=col>col45</th><th scope=col>smctry</th><th scope=col>dist</th><th scope=col>distcap</th><th scope=col>distw</th><th scope=col>distwces</th></tr>\n",
       "\t<tr><th></th><th scope=col>&lt;chr&gt;</th><th scope=col>&lt;chr&gt;</th><th scope=col>&lt;int&gt;</th><th scope=col>&lt;int&gt;</th><th scope=col>&lt;int&gt;</th><th scope=col>&lt;int&gt;</th><th scope=col>&lt;int&gt;</th><th scope=col>&lt;int&gt;</th><th scope=col>&lt;int&gt;</th><th scope=col>&lt;int&gt;</th><th scope=col>&lt;chr&gt;</th><th scope=col>&lt;chr&gt;</th><th scope=col>&lt;chr&gt;</th><th scope=col>&lt;chr&gt;</th></tr>\n",
       "</thead>\n",
       "<tbody>\n",
       "\t<tr><th scope=row>1</th><td>ABW</td><td>ABW</td><td>0</td><td>0</td><td>0</td><td>0</td><td>0</td><td>0</td><td>0</td><td>0</td><td>5,225315</td><td>5,225315</td><td>25,09354</td><td>23,04723</td></tr>\n",
       "\t<tr><th scope=row>2</th><td>ABW</td><td>AFG</td><td>0</td><td>0</td><td>0</td><td>0</td><td>0</td><td>0</td><td>0</td><td>0</td><td>13257,81</td><td>13257,81</td><td>13168,22</td><td>13166,37</td></tr>\n",
       "\t<tr><th scope=row>3</th><td>ABW</td><td>AGO</td><td>0</td><td>0</td><td>0</td><td>0</td><td>0</td><td>0</td><td>0</td><td>0</td><td>9516,913</td><td>9516,913</td><td>9587,316</td><td>9584,193</td></tr>\n",
       "\t<tr><th scope=row>4</th><td>ABW</td><td>AIA</td><td>0</td><td>0</td><td>1</td><td>0</td><td>0</td><td>0</td><td>0</td><td>0</td><td>983,2682</td><td>983,2682</td><td>976,8974</td><td>976,8916</td></tr>\n",
       "\t<tr><th scope=row>5</th><td>ABW</td><td>ALB</td><td>0</td><td>0</td><td>0</td><td>0</td><td>0</td><td>0</td><td>0</td><td>0</td><td>9091,742</td><td>9091,742</td><td>9091,576</td><td>9091,466</td></tr>\n",
       "\t<tr><th scope=row>6</th><td>ABW</td><td>AND</td><td>0</td><td>1</td><td>0</td><td>0</td><td>0</td><td>0</td><td>0</td><td>0</td><td>7572,788</td><td>7572,788</td><td>7570,084</td><td>7570,083</td></tr>\n",
       "</tbody>\n",
       "</table>\n"
      ],
      "text/latex": [
       "A data.frame: 6 × 14\n",
       "\\begin{tabular}{r|llllllllllllll}\n",
       "  & iso\\_o & iso\\_d & contig & comlang\\_off & comlang\\_ethno & colony & comcol & curcol & col45 & smctry & dist & distcap & distw & distwces\\\\\n",
       "  & <chr> & <chr> & <int> & <int> & <int> & <int> & <int> & <int> & <int> & <int> & <chr> & <chr> & <chr> & <chr>\\\\\n",
       "\\hline\n",
       "\t1 & ABW & ABW & 0 & 0 & 0 & 0 & 0 & 0 & 0 & 0 & 5,225315 & 5,225315 & 25,09354 & 23,04723\\\\\n",
       "\t2 & ABW & AFG & 0 & 0 & 0 & 0 & 0 & 0 & 0 & 0 & 13257,81 & 13257,81 & 13168,22 & 13166,37\\\\\n",
       "\t3 & ABW & AGO & 0 & 0 & 0 & 0 & 0 & 0 & 0 & 0 & 9516,913 & 9516,913 & 9587,316 & 9584,193\\\\\n",
       "\t4 & ABW & AIA & 0 & 0 & 1 & 0 & 0 & 0 & 0 & 0 & 983,2682 & 983,2682 & 976,8974 & 976,8916\\\\\n",
       "\t5 & ABW & ALB & 0 & 0 & 0 & 0 & 0 & 0 & 0 & 0 & 9091,742 & 9091,742 & 9091,576 & 9091,466\\\\\n",
       "\t6 & ABW & AND & 0 & 1 & 0 & 0 & 0 & 0 & 0 & 0 & 7572,788 & 7572,788 & 7570,084 & 7570,083\\\\\n",
       "\\end{tabular}\n"
      ],
      "text/markdown": [
       "\n",
       "A data.frame: 6 × 14\n",
       "\n",
       "| <!--/--> | iso_o &lt;chr&gt; | iso_d &lt;chr&gt; | contig &lt;int&gt; | comlang_off &lt;int&gt; | comlang_ethno &lt;int&gt; | colony &lt;int&gt; | comcol &lt;int&gt; | curcol &lt;int&gt; | col45 &lt;int&gt; | smctry &lt;int&gt; | dist &lt;chr&gt; | distcap &lt;chr&gt; | distw &lt;chr&gt; | distwces &lt;chr&gt; |\n",
       "|---|---|---|---|---|---|---|---|---|---|---|---|---|---|---|\n",
       "| 1 | ABW | ABW | 0 | 0 | 0 | 0 | 0 | 0 | 0 | 0 | 5,225315 | 5,225315 | 25,09354 | 23,04723 |\n",
       "| 2 | ABW | AFG | 0 | 0 | 0 | 0 | 0 | 0 | 0 | 0 | 13257,81 | 13257,81 | 13168,22 | 13166,37 |\n",
       "| 3 | ABW | AGO | 0 | 0 | 0 | 0 | 0 | 0 | 0 | 0 | 9516,913 | 9516,913 | 9587,316 | 9584,193 |\n",
       "| 4 | ABW | AIA | 0 | 0 | 1 | 0 | 0 | 0 | 0 | 0 | 983,2682 | 983,2682 | 976,8974 | 976,8916 |\n",
       "| 5 | ABW | ALB | 0 | 0 | 0 | 0 | 0 | 0 | 0 | 0 | 9091,742 | 9091,742 | 9091,576 | 9091,466 |\n",
       "| 6 | ABW | AND | 0 | 1 | 0 | 0 | 0 | 0 | 0 | 0 | 7572,788 | 7572,788 | 7570,084 | 7570,083 |\n",
       "\n"
      ],
      "text/plain": [
       "  iso_o iso_d contig comlang_off comlang_ethno colony comcol curcol col45\n",
       "1 ABW   ABW   0      0           0             0      0      0      0    \n",
       "2 ABW   AFG   0      0           0             0      0      0      0    \n",
       "3 ABW   AGO   0      0           0             0      0      0      0    \n",
       "4 ABW   AIA   0      0           1             0      0      0      0    \n",
       "5 ABW   ALB   0      0           0             0      0      0      0    \n",
       "6 ABW   AND   0      1           0             0      0      0      0    \n",
       "  smctry dist     distcap  distw    distwces\n",
       "1 0      5,225315 5,225315 25,09354 23,04723\n",
       "2 0      13257,81 13257,81 13168,22 13166,37\n",
       "3 0      9516,913 9516,913 9587,316 9584,193\n",
       "4 0      983,2682 983,2682 976,8974 976,8916\n",
       "5 0      9091,742 9091,742 9091,576 9091,466\n",
       "6 0      7572,788 7572,788 7570,084 7570,083"
      ]
     },
     "metadata": {},
     "output_type": "display_data"
    }
   ],
   "source": [
    "dists <- read.csv(\"data/cepii_dist.csv\")\n",
    "\n",
    "head(dists)"
   ]
  },
  {
   "cell_type": "code",
   "execution_count": 10,
   "metadata": {},
   "outputs": [
    {
     "data": {
      "text/html": [
       "<table class=\"dataframe\">\n",
       "<caption>A data.frame: 6 × 14</caption>\n",
       "<thead>\n",
       "\t<tr><th></th><th scope=col>iso_o</th><th scope=col>iso_d</th><th scope=col>contig</th><th scope=col>comlang_off</th><th scope=col>comlang_ethno</th><th scope=col>colony</th><th scope=col>comcol</th><th scope=col>curcol</th><th scope=col>col45</th><th scope=col>smctry</th><th scope=col>dist</th><th scope=col>distcap</th><th scope=col>distw</th><th scope=col>distwces</th></tr>\n",
       "\t<tr><th></th><th scope=col>&lt;chr&gt;</th><th scope=col>&lt;chr&gt;</th><th scope=col>&lt;int&gt;</th><th scope=col>&lt;int&gt;</th><th scope=col>&lt;int&gt;</th><th scope=col>&lt;int&gt;</th><th scope=col>&lt;int&gt;</th><th scope=col>&lt;int&gt;</th><th scope=col>&lt;int&gt;</th><th scope=col>&lt;int&gt;</th><th scope=col>&lt;chr&gt;</th><th scope=col>&lt;chr&gt;</th><th scope=col>&lt;chr&gt;</th><th scope=col>&lt;chr&gt;</th></tr>\n",
       "</thead>\n",
       "<tbody>\n",
       "\t<tr><th scope=row>1</th><td>ARG</td><td>ARG</td><td>0</td><td>0</td><td>0</td><td>0</td><td>0</td><td>0</td><td>0</td><td>0</td><td>625,6475</td><td>625,6475</td><td>533,9082</td><td>96,14934</td></tr>\n",
       "\t<tr><th scope=row>2</th><td>ARG</td><td>AUS</td><td>0</td><td>0</td><td>0</td><td>0</td><td>0</td><td>0</td><td>0</td><td>0</td><td>11801,36</td><td>11733,88</td><td>12044,57</td><td>12018,27</td></tr>\n",
       "\t<tr><th scope=row>3</th><td>ARG</td><td>BRA</td><td>1</td><td>0</td><td>0</td><td>0</td><td>0</td><td>0</td><td>0</td><td>0</td><td>1691,067</td><td>2353,257</td><td>2391,846</td><td>2089,281</td></tr>\n",
       "\t<tr><th scope=row>4</th><td>ARG</td><td>CHL</td><td>1</td><td>1</td><td>1</td><td>0</td><td>0</td><td>0</td><td>0</td><td>0</td><td>1128,317</td><td>1128,317</td><td>1156,726</td><td>941,6383</td></tr>\n",
       "\t<tr><th scope=row>5</th><td>ARG</td><td>ESP</td><td>0</td><td>1</td><td>1</td><td>1</td><td>0</td><td>0</td><td>0</td><td>0</td><td>10065,85</td><td>10065,85</td><td>10079,66</td><td>10055,9 </td></tr>\n",
       "\t<tr><th scope=row>6</th><td>ARG</td><td>FRA</td><td>0</td><td>0</td><td>0</td><td>0</td><td>0</td><td>0</td><td>0</td><td>0</td><td>11072,25</td><td>11072,25</td><td>10932,34</td><td>10921,86</td></tr>\n",
       "</tbody>\n",
       "</table>\n"
      ],
      "text/latex": [
       "A data.frame: 6 × 14\n",
       "\\begin{tabular}{r|llllllllllllll}\n",
       "  & iso\\_o & iso\\_d & contig & comlang\\_off & comlang\\_ethno & colony & comcol & curcol & col45 & smctry & dist & distcap & distw & distwces\\\\\n",
       "  & <chr> & <chr> & <int> & <int> & <int> & <int> & <int> & <int> & <int> & <int> & <chr> & <chr> & <chr> & <chr>\\\\\n",
       "\\hline\n",
       "\t1 & ARG & ARG & 0 & 0 & 0 & 0 & 0 & 0 & 0 & 0 & 625,6475 & 625,6475 & 533,9082 & 96,14934\\\\\n",
       "\t2 & ARG & AUS & 0 & 0 & 0 & 0 & 0 & 0 & 0 & 0 & 11801,36 & 11733,88 & 12044,57 & 12018,27\\\\\n",
       "\t3 & ARG & BRA & 1 & 0 & 0 & 0 & 0 & 0 & 0 & 0 & 1691,067 & 2353,257 & 2391,846 & 2089,281\\\\\n",
       "\t4 & ARG & CHL & 1 & 1 & 1 & 0 & 0 & 0 & 0 & 0 & 1128,317 & 1128,317 & 1156,726 & 941,6383\\\\\n",
       "\t5 & ARG & ESP & 0 & 1 & 1 & 1 & 0 & 0 & 0 & 0 & 10065,85 & 10065,85 & 10079,66 & 10055,9 \\\\\n",
       "\t6 & ARG & FRA & 0 & 0 & 0 & 0 & 0 & 0 & 0 & 0 & 11072,25 & 11072,25 & 10932,34 & 10921,86\\\\\n",
       "\\end{tabular}\n"
      ],
      "text/markdown": [
       "\n",
       "A data.frame: 6 × 14\n",
       "\n",
       "| <!--/--> | iso_o &lt;chr&gt; | iso_d &lt;chr&gt; | contig &lt;int&gt; | comlang_off &lt;int&gt; | comlang_ethno &lt;int&gt; | colony &lt;int&gt; | comcol &lt;int&gt; | curcol &lt;int&gt; | col45 &lt;int&gt; | smctry &lt;int&gt; | dist &lt;chr&gt; | distcap &lt;chr&gt; | distw &lt;chr&gt; | distwces &lt;chr&gt; |\n",
       "|---|---|---|---|---|---|---|---|---|---|---|---|---|---|---|\n",
       "| 1 | ARG | ARG | 0 | 0 | 0 | 0 | 0 | 0 | 0 | 0 | 625,6475 | 625,6475 | 533,9082 | 96,14934 |\n",
       "| 2 | ARG | AUS | 0 | 0 | 0 | 0 | 0 | 0 | 0 | 0 | 11801,36 | 11733,88 | 12044,57 | 12018,27 |\n",
       "| 3 | ARG | BRA | 1 | 0 | 0 | 0 | 0 | 0 | 0 | 0 | 1691,067 | 2353,257 | 2391,846 | 2089,281 |\n",
       "| 4 | ARG | CHL | 1 | 1 | 1 | 0 | 0 | 0 | 0 | 0 | 1128,317 | 1128,317 | 1156,726 | 941,6383 |\n",
       "| 5 | ARG | ESP | 0 | 1 | 1 | 1 | 0 | 0 | 0 | 0 | 10065,85 | 10065,85 | 10079,66 | 10055,9  |\n",
       "| 6 | ARG | FRA | 0 | 0 | 0 | 0 | 0 | 0 | 0 | 0 | 11072,25 | 11072,25 | 10932,34 | 10921,86 |\n",
       "\n"
      ],
      "text/plain": [
       "  iso_o iso_d contig comlang_off comlang_ethno colony comcol curcol col45\n",
       "1 ARG   ARG   0      0           0             0      0      0      0    \n",
       "2 ARG   AUS   0      0           0             0      0      0      0    \n",
       "3 ARG   BRA   1      0           0             0      0      0      0    \n",
       "4 ARG   CHL   1      1           1             0      0      0      0    \n",
       "5 ARG   ESP   0      1           1             1      0      0      0    \n",
       "6 ARG   FRA   0      0           0             0      0      0      0    \n",
       "  smctry dist     distcap  distw    distwces\n",
       "1 0      625,6475 625,6475 533,9082 96,14934\n",
       "2 0      11801,36 11733,88 12044,57 12018,27\n",
       "3 0      1691,067 2353,257 2391,846 2089,281\n",
       "4 0      1128,317 1128,317 1156,726 941,6383\n",
       "5 0      10065,85 10065,85 10079,66 10055,9 \n",
       "6 0      11072,25 11072,25 10932,34 10921,86"
      ]
     },
     "metadata": {},
     "output_type": "display_data"
    }
   ],
   "source": [
    "dists <- dists %>% filter (iso_o %in% isos3 & iso_d %in% isos3)\n",
    "\n",
    "head(dists)"
   ]
  },
  {
   "cell_type": "markdown",
   "metadata": {},
   "source": [
    "**New variable:**  \n",
    "    *`shared_hist`*: dummy variable indicating whether the two countries have: *`colony, comcol, curcol, col45, smctry`*"
   ]
  },
  {
   "cell_type": "code",
   "execution_count": 11,
   "metadata": {},
   "outputs": [
    {
     "data": {
      "text/html": [
       "<table class=\"dataframe\">\n",
       "<caption>A data.frame: 6 × 10</caption>\n",
       "<thead>\n",
       "\t<tr><th></th><th scope=col>iso_o</th><th scope=col>iso_d</th><th scope=col>contig</th><th scope=col>comlang_off</th><th scope=col>comlang_ethno</th><th scope=col>dist</th><th scope=col>distcap</th><th scope=col>distw</th><th scope=col>distwces</th><th scope=col>shared_hist</th></tr>\n",
       "\t<tr><th></th><th scope=col>&lt;chr&gt;</th><th scope=col>&lt;chr&gt;</th><th scope=col>&lt;int&gt;</th><th scope=col>&lt;int&gt;</th><th scope=col>&lt;int&gt;</th><th scope=col>&lt;chr&gt;</th><th scope=col>&lt;chr&gt;</th><th scope=col>&lt;chr&gt;</th><th scope=col>&lt;chr&gt;</th><th scope=col>&lt;dbl&gt;</th></tr>\n",
       "</thead>\n",
       "<tbody>\n",
       "\t<tr><th scope=row>1</th><td>ARG</td><td>ARG</td><td>0</td><td>0</td><td>0</td><td>625,6475</td><td>625,6475</td><td>533,9082</td><td>96,14934</td><td>0</td></tr>\n",
       "\t<tr><th scope=row>2</th><td>ARG</td><td>AUS</td><td>0</td><td>0</td><td>0</td><td>11801,36</td><td>11733,88</td><td>12044,57</td><td>12018,27</td><td>0</td></tr>\n",
       "\t<tr><th scope=row>3</th><td>ARG</td><td>BRA</td><td>1</td><td>0</td><td>0</td><td>1691,067</td><td>2353,257</td><td>2391,846</td><td>2089,281</td><td>0</td></tr>\n",
       "\t<tr><th scope=row>4</th><td>ARG</td><td>CHL</td><td>1</td><td>1</td><td>1</td><td>1128,317</td><td>1128,317</td><td>1156,726</td><td>941,6383</td><td>0</td></tr>\n",
       "\t<tr><th scope=row>5</th><td>ARG</td><td>ESP</td><td>0</td><td>1</td><td>1</td><td>10065,85</td><td>10065,85</td><td>10079,66</td><td>10055,9 </td><td>1</td></tr>\n",
       "\t<tr><th scope=row>6</th><td>ARG</td><td>FRA</td><td>0</td><td>0</td><td>0</td><td>11072,25</td><td>11072,25</td><td>10932,34</td><td>10921,86</td><td>0</td></tr>\n",
       "</tbody>\n",
       "</table>\n"
      ],
      "text/latex": [
       "A data.frame: 6 × 10\n",
       "\\begin{tabular}{r|llllllllll}\n",
       "  & iso\\_o & iso\\_d & contig & comlang\\_off & comlang\\_ethno & dist & distcap & distw & distwces & shared\\_hist\\\\\n",
       "  & <chr> & <chr> & <int> & <int> & <int> & <chr> & <chr> & <chr> & <chr> & <dbl>\\\\\n",
       "\\hline\n",
       "\t1 & ARG & ARG & 0 & 0 & 0 & 625,6475 & 625,6475 & 533,9082 & 96,14934 & 0\\\\\n",
       "\t2 & ARG & AUS & 0 & 0 & 0 & 11801,36 & 11733,88 & 12044,57 & 12018,27 & 0\\\\\n",
       "\t3 & ARG & BRA & 1 & 0 & 0 & 1691,067 & 2353,257 & 2391,846 & 2089,281 & 0\\\\\n",
       "\t4 & ARG & CHL & 1 & 1 & 1 & 1128,317 & 1128,317 & 1156,726 & 941,6383 & 0\\\\\n",
       "\t5 & ARG & ESP & 0 & 1 & 1 & 10065,85 & 10065,85 & 10079,66 & 10055,9  & 1\\\\\n",
       "\t6 & ARG & FRA & 0 & 0 & 0 & 11072,25 & 11072,25 & 10932,34 & 10921,86 & 0\\\\\n",
       "\\end{tabular}\n"
      ],
      "text/markdown": [
       "\n",
       "A data.frame: 6 × 10\n",
       "\n",
       "| <!--/--> | iso_o &lt;chr&gt; | iso_d &lt;chr&gt; | contig &lt;int&gt; | comlang_off &lt;int&gt; | comlang_ethno &lt;int&gt; | dist &lt;chr&gt; | distcap &lt;chr&gt; | distw &lt;chr&gt; | distwces &lt;chr&gt; | shared_hist &lt;dbl&gt; |\n",
       "|---|---|---|---|---|---|---|---|---|---|---|\n",
       "| 1 | ARG | ARG | 0 | 0 | 0 | 625,6475 | 625,6475 | 533,9082 | 96,14934 | 0 |\n",
       "| 2 | ARG | AUS | 0 | 0 | 0 | 11801,36 | 11733,88 | 12044,57 | 12018,27 | 0 |\n",
       "| 3 | ARG | BRA | 1 | 0 | 0 | 1691,067 | 2353,257 | 2391,846 | 2089,281 | 0 |\n",
       "| 4 | ARG | CHL | 1 | 1 | 1 | 1128,317 | 1128,317 | 1156,726 | 941,6383 | 0 |\n",
       "| 5 | ARG | ESP | 0 | 1 | 1 | 10065,85 | 10065,85 | 10079,66 | 10055,9  | 1 |\n",
       "| 6 | ARG | FRA | 0 | 0 | 0 | 11072,25 | 11072,25 | 10932,34 | 10921,86 | 0 |\n",
       "\n"
      ],
      "text/plain": [
       "  iso_o iso_d contig comlang_off comlang_ethno dist     distcap  distw   \n",
       "1 ARG   ARG   0      0           0             625,6475 625,6475 533,9082\n",
       "2 ARG   AUS   0      0           0             11801,36 11733,88 12044,57\n",
       "3 ARG   BRA   1      0           0             1691,067 2353,257 2391,846\n",
       "4 ARG   CHL   1      1           1             1128,317 1128,317 1156,726\n",
       "5 ARG   ESP   0      1           1             10065,85 10065,85 10079,66\n",
       "6 ARG   FRA   0      0           0             11072,25 11072,25 10932,34\n",
       "  distwces shared_hist\n",
       "1 96,14934 0          \n",
       "2 12018,27 0          \n",
       "3 2089,281 0          \n",
       "4 941,6383 0          \n",
       "5 10055,9  1          \n",
       "6 10921,86 0          "
      ]
     },
     "metadata": {},
     "output_type": "display_data"
    }
   ],
   "source": [
    "dists <- dists %>% mutate(shared_hist = ifelse(colony + comcol + curcol + col45 + smctry, 1, 0), .keep = \"unused\")\n",
    "\n",
    "head(dists)"
   ]
  },
  {
   "cell_type": "markdown",
   "metadata": {},
   "source": [
    "#### Population + Area + Geographic distance  + Shared history"
   ]
  },
  {
   "cell_type": "code",
   "execution_count": 12,
   "metadata": {},
   "outputs": [
    {
     "data": {
      "text/html": [
       "<table class=\"dataframe\">\n",
       "<caption>A data.frame: 6 × 16</caption>\n",
       "<thead>\n",
       "\t<tr><th></th><th scope=col>iso_d</th><th scope=col>iso_o</th><th scope=col>contig</th><th scope=col>comlang_off</th><th scope=col>comlang_ethno</th><th scope=col>dist</th><th scope=col>distcap</th><th scope=col>distw</th><th scope=col>distwces</th><th scope=col>shared_hist</th><th scope=col>destination</th><th scope=col>area_d</th><th scope=col>pop_d</th><th scope=col>origin</th><th scope=col>area_o</th><th scope=col>pop_o</th></tr>\n",
       "\t<tr><th></th><th scope=col>&lt;chr&gt;</th><th scope=col>&lt;chr&gt;</th><th scope=col>&lt;int&gt;</th><th scope=col>&lt;int&gt;</th><th scope=col>&lt;int&gt;</th><th scope=col>&lt;chr&gt;</th><th scope=col>&lt;chr&gt;</th><th scope=col>&lt;chr&gt;</th><th scope=col>&lt;chr&gt;</th><th scope=col>&lt;dbl&gt;</th><th scope=col>&lt;chr&gt;</th><th scope=col>&lt;int&gt;</th><th scope=col>&lt;dbl&gt;</th><th scope=col>&lt;chr&gt;</th><th scope=col>&lt;int&gt;</th><th scope=col>&lt;dbl&gt;</th></tr>\n",
       "</thead>\n",
       "<tbody>\n",
       "\t<tr><th scope=row>1</th><td>ARG</td><td>ARG</td><td>0</td><td>0</td><td>0</td><td>625,6475</td><td>625,6475</td><td>533,9082</td><td>96,14934</td><td>0</td><td>Argentina</td><td>2766889</td><td>44780675</td><td>Argentina</td><td>2766889</td><td> 44780675</td></tr>\n",
       "\t<tr><th scope=row>2</th><td>ARG</td><td>AUS</td><td>0</td><td>0</td><td>0</td><td>11801,36</td><td>11733,88</td><td>12044,57</td><td>12018,27</td><td>0</td><td>Argentina</td><td>2766889</td><td>44780675</td><td>Australia</td><td>7686848</td><td> 25203200</td></tr>\n",
       "\t<tr><th scope=row>3</th><td>ARG</td><td>BRA</td><td>1</td><td>0</td><td>0</td><td>1691,067</td><td>2353,257</td><td>2391,846</td><td>2089,281</td><td>0</td><td>Argentina</td><td>2766889</td><td>44780675</td><td>Brazil   </td><td>8511920</td><td>211049519</td></tr>\n",
       "\t<tr><th scope=row>4</th><td>ARG</td><td>CHL</td><td>1</td><td>1</td><td>1</td><td>1128,317</td><td>1128,317</td><td>1156,726</td><td>941,6383</td><td>0</td><td>Argentina</td><td>2766889</td><td>44780675</td><td>Chile    </td><td> 756945</td><td> 18952035</td></tr>\n",
       "\t<tr><th scope=row>5</th><td>ARG</td><td>ESP</td><td>0</td><td>1</td><td>1</td><td>10065,85</td><td>10065,85</td><td>10079,66</td><td>10055,9 </td><td>1</td><td>Argentina</td><td>2766889</td><td>44780675</td><td>Spain    </td><td> 505954</td><td> 46736782</td></tr>\n",
       "\t<tr><th scope=row>6</th><td>ARG</td><td>FRA</td><td>0</td><td>0</td><td>0</td><td>11072,25</td><td>11072,25</td><td>10932,34</td><td>10921,86</td><td>0</td><td>Argentina</td><td>2766889</td><td>44780675</td><td>France   </td><td> 547026</td><td> 65129731</td></tr>\n",
       "</tbody>\n",
       "</table>\n"
      ],
      "text/latex": [
       "A data.frame: 6 × 16\n",
       "\\begin{tabular}{r|llllllllllllllll}\n",
       "  & iso\\_d & iso\\_o & contig & comlang\\_off & comlang\\_ethno & dist & distcap & distw & distwces & shared\\_hist & destination & area\\_d & pop\\_d & origin & area\\_o & pop\\_o\\\\\n",
       "  & <chr> & <chr> & <int> & <int> & <int> & <chr> & <chr> & <chr> & <chr> & <dbl> & <chr> & <int> & <dbl> & <chr> & <int> & <dbl>\\\\\n",
       "\\hline\n",
       "\t1 & ARG & ARG & 0 & 0 & 0 & 625,6475 & 625,6475 & 533,9082 & 96,14934 & 0 & Argentina & 2766889 & 44780675 & Argentina & 2766889 &  44780675\\\\\n",
       "\t2 & ARG & AUS & 0 & 0 & 0 & 11801,36 & 11733,88 & 12044,57 & 12018,27 & 0 & Argentina & 2766889 & 44780675 & Australia & 7686848 &  25203200\\\\\n",
       "\t3 & ARG & BRA & 1 & 0 & 0 & 1691,067 & 2353,257 & 2391,846 & 2089,281 & 0 & Argentina & 2766889 & 44780675 & Brazil    & 8511920 & 211049519\\\\\n",
       "\t4 & ARG & CHL & 1 & 1 & 1 & 1128,317 & 1128,317 & 1156,726 & 941,6383 & 0 & Argentina & 2766889 & 44780675 & Chile     &  756945 &  18952035\\\\\n",
       "\t5 & ARG & ESP & 0 & 1 & 1 & 10065,85 & 10065,85 & 10079,66 & 10055,9  & 1 & Argentina & 2766889 & 44780675 & Spain     &  505954 &  46736782\\\\\n",
       "\t6 & ARG & FRA & 0 & 0 & 0 & 11072,25 & 11072,25 & 10932,34 & 10921,86 & 0 & Argentina & 2766889 & 44780675 & France    &  547026 &  65129731\\\\\n",
       "\\end{tabular}\n"
      ],
      "text/markdown": [
       "\n",
       "A data.frame: 6 × 16\n",
       "\n",
       "| <!--/--> | iso_d &lt;chr&gt; | iso_o &lt;chr&gt; | contig &lt;int&gt; | comlang_off &lt;int&gt; | comlang_ethno &lt;int&gt; | dist &lt;chr&gt; | distcap &lt;chr&gt; | distw &lt;chr&gt; | distwces &lt;chr&gt; | shared_hist &lt;dbl&gt; | destination &lt;chr&gt; | area_d &lt;int&gt; | pop_d &lt;dbl&gt; | origin &lt;chr&gt; | area_o &lt;int&gt; | pop_o &lt;dbl&gt; |\n",
       "|---|---|---|---|---|---|---|---|---|---|---|---|---|---|---|---|---|\n",
       "| 1 | ARG | ARG | 0 | 0 | 0 | 625,6475 | 625,6475 | 533,9082 | 96,14934 | 0 | Argentina | 2766889 | 44780675 | Argentina | 2766889 |  44780675 |\n",
       "| 2 | ARG | AUS | 0 | 0 | 0 | 11801,36 | 11733,88 | 12044,57 | 12018,27 | 0 | Argentina | 2766889 | 44780675 | Australia | 7686848 |  25203200 |\n",
       "| 3 | ARG | BRA | 1 | 0 | 0 | 1691,067 | 2353,257 | 2391,846 | 2089,281 | 0 | Argentina | 2766889 | 44780675 | Brazil    | 8511920 | 211049519 |\n",
       "| 4 | ARG | CHL | 1 | 1 | 1 | 1128,317 | 1128,317 | 1156,726 | 941,6383 | 0 | Argentina | 2766889 | 44780675 | Chile     |  756945 |  18952035 |\n",
       "| 5 | ARG | ESP | 0 | 1 | 1 | 10065,85 | 10065,85 | 10079,66 | 10055,9  | 1 | Argentina | 2766889 | 44780675 | Spain     |  505954 |  46736782 |\n",
       "| 6 | ARG | FRA | 0 | 0 | 0 | 11072,25 | 11072,25 | 10932,34 | 10921,86 | 0 | Argentina | 2766889 | 44780675 | France    |  547026 |  65129731 |\n",
       "\n"
      ],
      "text/plain": [
       "  iso_d iso_o contig comlang_off comlang_ethno dist     distcap  distw   \n",
       "1 ARG   ARG   0      0           0             625,6475 625,6475 533,9082\n",
       "2 ARG   AUS   0      0           0             11801,36 11733,88 12044,57\n",
       "3 ARG   BRA   1      0           0             1691,067 2353,257 2391,846\n",
       "4 ARG   CHL   1      1           1             1128,317 1128,317 1156,726\n",
       "5 ARG   ESP   0      1           1             10065,85 10065,85 10079,66\n",
       "6 ARG   FRA   0      0           0             11072,25 11072,25 10932,34\n",
       "  distwces shared_hist destination area_d  pop_d    origin    area_o  pop_o    \n",
       "1 96,14934 0           Argentina   2766889 44780675 Argentina 2766889  44780675\n",
       "2 12018,27 0           Argentina   2766889 44780675 Australia 7686848  25203200\n",
       "3 2089,281 0           Argentina   2766889 44780675 Brazil    8511920 211049519\n",
       "4 941,6383 0           Argentina   2766889 44780675 Chile      756945  18952035\n",
       "5 10055,9  1           Argentina   2766889 44780675 Spain      505954  46736782\n",
       "6 10921,86 0           Argentina   2766889 44780675 France     547026  65129731"
      ]
     },
     "metadata": {},
     "output_type": "display_data"
    }
   ],
   "source": [
    "area_pop_gd_d <- area_pop %>% select(!iso2) %>%\n",
    "                               merge(dists, by.x=c(\"iso3\"), by.y=c(\"iso_d\")) %>%\n",
    "                               rename(iso_d = iso3, destination = country, area_d = area, pop_d = population) \n",
    "\n",
    "area_pop_gd_o <- area_pop %>% select(!iso2) %>% \n",
    "                               merge(dists, by.x=c(\"iso3\"), by.y=c(\"iso_o\")) %>%\n",
    "                               rename(iso_o = iso3, origin = country, area_o = area, pop_o = population) \n",
    "\n",
    "area_pop_gdist <- merge(area_pop_gd_d, area_pop_gd_o)\n",
    "\n",
    "head(area_pop_gdist)"
   ]
  },
  {
   "cell_type": "markdown",
   "metadata": {},
   "source": [
    "## Language  \n",
    "### Datasource: [CEPII](http://www.cepii.fr/CEPII/en/bdd_modele/presentation.asp?id=19)   \n",
    "\n",
    "<b>Variables [Sarah's notes]</b>  \n",
    "    *`col`*: common official language (0 or 1); 19 languages considered.    \n",
    "    *`csl`*: p(two random people understand a common language) >= *`cnl`*.  \n",
    "    *`cnl`*: p(two random people share a native language).  \n",
    "    *`lp`*: lexical closeness of native langauges; set to 0 when *`cnl`* is 1 or 0 also set to 0 if there is no dominant native language (e.g. India).  \n",
    "    *`lp1`*: tree based. 4 possibilities, 2 languages belonging to:  \n",
    "        0: separate family trees  \n",
    "        0.25: different branches of same tree (English and French),  \n",
    "        0.50: the same branch (English and German),  \n",
    "        0.75: the same sub-branch (German and Dutch)  \n",
    "    *`lp2`*: lexical similarity of 200 words, continuous scale 0-100 normalized *`lp1`*, *`lp2`* so coefficients are comparable to each other and *`col, prox1, prox2`* are unadjusted versions of *`lp1`* and *`lp2`*?  \n",
    "  "
   ]
  },
  {
   "cell_type": "code",
   "execution_count": 13,
   "metadata": {
    "scrolled": true
   },
   "outputs": [
    {
     "data": {
      "text/html": [
       "<table class=\"dataframe\">\n",
       "<caption>A data.frame: 6 × 14</caption>\n",
       "<thead>\n",
       "\t<tr><th></th><th scope=col>X</th><th scope=col>iso_o</th><th scope=col>country_o</th><th scope=col>iso_d</th><th scope=col>country_d</th><th scope=col>col</th><th scope=col>csl</th><th scope=col>cnl</th><th scope=col>prox1</th><th scope=col>lp1</th><th scope=col>prox2</th><th scope=col>lp2</th><th scope=col>cl</th><th scope=col>cle</th></tr>\n",
       "\t<tr><th></th><th scope=col>&lt;int&gt;</th><th scope=col>&lt;chr&gt;</th><th scope=col>&lt;chr&gt;</th><th scope=col>&lt;chr&gt;</th><th scope=col>&lt;chr&gt;</th><th scope=col>&lt;int&gt;</th><th scope=col>&lt;dbl&gt;</th><th scope=col>&lt;dbl&gt;</th><th scope=col>&lt;dbl&gt;</th><th scope=col>&lt;dbl&gt;</th><th scope=col>&lt;dbl&gt;</th><th scope=col>&lt;dbl&gt;</th><th scope=col>&lt;dbl&gt;</th><th scope=col>&lt;dbl&gt;</th></tr>\n",
       "</thead>\n",
       "<tbody>\n",
       "\t<tr><th scope=row>1</th><td>1</td><td>AFG</td><td>Afghanistan</td><td>ALB</td><td>Albania            </td><td>0</td><td>0</td><td>0</td><td>0.25</td><td>      NA</td><td>0.07342058</td><td>       NA</td><td>        NA</td><td>0.08662836</td></tr>\n",
       "\t<tr><th scope=row>2</th><td>2</td><td>AFG</td><td>Afghanistan</td><td>DZA</td><td>Algeria            </td><td>0</td><td>0</td><td>0</td><td>0.00</td><td>0.000000</td><td>0.08527792</td><td>0.7640970</td><td>0.09992715</td><td>0.10061873</td></tr>\n",
       "\t<tr><th scope=row>3</th><td>3</td><td>AFG</td><td>Afghanistan</td><td>AND</td><td>Andorra            </td><td>0</td><td>0</td><td>0</td><td>0.25</td><td>1.945866</td><td>0.12025990</td><td>1.0775385</td><td>0.14091842</td><td>0.14189370</td></tr>\n",
       "\t<tr><th scope=row>4</th><td>4</td><td>AFG</td><td>Afghanistan</td><td>AGO</td><td>Angola             </td><td>0</td><td>0</td><td>0</td><td>0.25</td><td>      NA</td><td>0.11890529</td><td>       NA</td><td>        NA</td><td>0.14029542</td></tr>\n",
       "\t<tr><th scope=row>5</th><td>5</td><td>AFG</td><td>Afghanistan</td><td>AIA</td><td>Anguilla           </td><td>0</td><td>0</td><td>0</td><td>0.25</td><td>      NA</td><td>0.09291404</td><td>       NA</td><td>        NA</td><td>0.10962854</td></tr>\n",
       "\t<tr><th scope=row>6</th><td>6</td><td>AFG</td><td>Afghanistan</td><td>ATG</td><td>Antigua and Barbuda</td><td>0</td><td>0</td><td>0</td><td>0.25</td><td>1.945866</td><td>0.09291404</td><td>0.8325174</td><td>0.10887503</td><td>0.10962854</td></tr>\n",
       "</tbody>\n",
       "</table>\n"
      ],
      "text/latex": [
       "A data.frame: 6 × 14\n",
       "\\begin{tabular}{r|llllllllllllll}\n",
       "  & X & iso\\_o & country\\_o & iso\\_d & country\\_d & col & csl & cnl & prox1 & lp1 & prox2 & lp2 & cl & cle\\\\\n",
       "  & <int> & <chr> & <chr> & <chr> & <chr> & <int> & <dbl> & <dbl> & <dbl> & <dbl> & <dbl> & <dbl> & <dbl> & <dbl>\\\\\n",
       "\\hline\n",
       "\t1 & 1 & AFG & Afghanistan & ALB & Albania             & 0 & 0 & 0 & 0.25 &       NA & 0.07342058 &        NA &         NA & 0.08662836\\\\\n",
       "\t2 & 2 & AFG & Afghanistan & DZA & Algeria             & 0 & 0 & 0 & 0.00 & 0.000000 & 0.08527792 & 0.7640970 & 0.09992715 & 0.10061873\\\\\n",
       "\t3 & 3 & AFG & Afghanistan & AND & Andorra             & 0 & 0 & 0 & 0.25 & 1.945866 & 0.12025990 & 1.0775385 & 0.14091842 & 0.14189370\\\\\n",
       "\t4 & 4 & AFG & Afghanistan & AGO & Angola              & 0 & 0 & 0 & 0.25 &       NA & 0.11890529 &        NA &         NA & 0.14029542\\\\\n",
       "\t5 & 5 & AFG & Afghanistan & AIA & Anguilla            & 0 & 0 & 0 & 0.25 &       NA & 0.09291404 &        NA &         NA & 0.10962854\\\\\n",
       "\t6 & 6 & AFG & Afghanistan & ATG & Antigua and Barbuda & 0 & 0 & 0 & 0.25 & 1.945866 & 0.09291404 & 0.8325174 & 0.10887503 & 0.10962854\\\\\n",
       "\\end{tabular}\n"
      ],
      "text/markdown": [
       "\n",
       "A data.frame: 6 × 14\n",
       "\n",
       "| <!--/--> | X &lt;int&gt; | iso_o &lt;chr&gt; | country_o &lt;chr&gt; | iso_d &lt;chr&gt; | country_d &lt;chr&gt; | col &lt;int&gt; | csl &lt;dbl&gt; | cnl &lt;dbl&gt; | prox1 &lt;dbl&gt; | lp1 &lt;dbl&gt; | prox2 &lt;dbl&gt; | lp2 &lt;dbl&gt; | cl &lt;dbl&gt; | cle &lt;dbl&gt; |\n",
       "|---|---|---|---|---|---|---|---|---|---|---|---|---|---|---|\n",
       "| 1 | 1 | AFG | Afghanistan | ALB | Albania             | 0 | 0 | 0 | 0.25 |       NA | 0.07342058 |        NA |         NA | 0.08662836 |\n",
       "| 2 | 2 | AFG | Afghanistan | DZA | Algeria             | 0 | 0 | 0 | 0.00 | 0.000000 | 0.08527792 | 0.7640970 | 0.09992715 | 0.10061873 |\n",
       "| 3 | 3 | AFG | Afghanistan | AND | Andorra             | 0 | 0 | 0 | 0.25 | 1.945866 | 0.12025990 | 1.0775385 | 0.14091842 | 0.14189370 |\n",
       "| 4 | 4 | AFG | Afghanistan | AGO | Angola              | 0 | 0 | 0 | 0.25 |       NA | 0.11890529 |        NA |         NA | 0.14029542 |\n",
       "| 5 | 5 | AFG | Afghanistan | AIA | Anguilla            | 0 | 0 | 0 | 0.25 |       NA | 0.09291404 |        NA |         NA | 0.10962854 |\n",
       "| 6 | 6 | AFG | Afghanistan | ATG | Antigua and Barbuda | 0 | 0 | 0 | 0.25 | 1.945866 | 0.09291404 | 0.8325174 | 0.10887503 | 0.10962854 |\n",
       "\n"
      ],
      "text/plain": [
       "  X iso_o country_o   iso_d country_d           col csl cnl prox1 lp1     \n",
       "1 1 AFG   Afghanistan ALB   Albania             0   0   0   0.25        NA\n",
       "2 2 AFG   Afghanistan DZA   Algeria             0   0   0   0.00  0.000000\n",
       "3 3 AFG   Afghanistan AND   Andorra             0   0   0   0.25  1.945866\n",
       "4 4 AFG   Afghanistan AGO   Angola              0   0   0   0.25        NA\n",
       "5 5 AFG   Afghanistan AIA   Anguilla            0   0   0   0.25        NA\n",
       "6 6 AFG   Afghanistan ATG   Antigua and Barbuda 0   0   0   0.25  1.945866\n",
       "  prox2      lp2       cl         cle       \n",
       "1 0.07342058        NA         NA 0.08662836\n",
       "2 0.08527792 0.7640970 0.09992715 0.10061873\n",
       "3 0.12025990 1.0775385 0.14091842 0.14189370\n",
       "4 0.11890529        NA         NA 0.14029542\n",
       "5 0.09291404        NA         NA 0.10962854\n",
       "6 0.09291404 0.8325174 0.10887503 0.10962854"
      ]
     },
     "metadata": {},
     "output_type": "display_data"
    }
   ],
   "source": [
    "langs <- read.csv(\"data/cepii_language.csv\")\n",
    "\n",
    "head(langs)"
   ]
  },
  {
   "cell_type": "code",
   "execution_count": 14,
   "metadata": {},
   "outputs": [
    {
     "data": {
      "text/html": [
       "<table class=\"dataframe\">\n",
       "<caption>A data.frame: 6 × 14</caption>\n",
       "<thead>\n",
       "\t<tr><th></th><th scope=col>X</th><th scope=col>iso_o</th><th scope=col>country_o</th><th scope=col>iso_d</th><th scope=col>country_d</th><th scope=col>col</th><th scope=col>csl</th><th scope=col>cnl</th><th scope=col>prox1</th><th scope=col>lp1</th><th scope=col>prox2</th><th scope=col>lp2</th><th scope=col>cl</th><th scope=col>cle</th></tr>\n",
       "\t<tr><th></th><th scope=col>&lt;int&gt;</th><th scope=col>&lt;chr&gt;</th><th scope=col>&lt;chr&gt;</th><th scope=col>&lt;chr&gt;</th><th scope=col>&lt;chr&gt;</th><th scope=col>&lt;int&gt;</th><th scope=col>&lt;dbl&gt;</th><th scope=col>&lt;dbl&gt;</th><th scope=col>&lt;dbl&gt;</th><th scope=col>&lt;dbl&gt;</th><th scope=col>&lt;dbl&gt;</th><th scope=col>&lt;dbl&gt;</th><th scope=col>&lt;dbl&gt;</th><th scope=col>&lt;dbl&gt;</th></tr>\n",
       "</thead>\n",
       "<tbody>\n",
       "\t<tr><th scope=row>1</th><td>1368</td><td>ARG</td><td>Argentina</td><td>AUS</td><td>Australia</td><td>0</td><td>0.02058416</td><td>0.00080000</td><td>0.25</td><td>1.945866</td><td>0.13052547</td><td>1.1695188</td><td>0.15362507</td><td>0.15468276</td></tr>\n",
       "\t<tr><th scope=row>2</th><td>1383</td><td>ARG</td><td>Argentina</td><td>BRA</td><td>Brazil   </td><td>0</td><td>0.06052872</td><td>0.00080000</td><td>0.75</td><td>5.837599</td><td>0.42439765</td><td>3.8026376</td><td>0.49770382</td><td>0.50114280</td></tr>\n",
       "\t<tr><th scope=row>3</th><td>1396</td><td>ARG</td><td>Argentina</td><td>CHL</td><td>Chile    </td><td>1</td><td>0.98010004</td><td>0.85439998</td><td>0.00</td><td>0.000000</td><td>0.00000000</td><td>0.0000000</td><td>0.87344128</td><td>0.87256539</td></tr>\n",
       "\t<tr><th scope=row>4</th><td>1422</td><td>ARG</td><td>Argentina</td><td>FRA</td><td>France   </td><td>0</td><td>0.13392781</td><td>0.01039232</td><td>0.50</td><td>3.891733</td><td>0.25450581</td><td>2.2803929</td><td>0.30551848</td><td>0.30756098</td></tr>\n",
       "\t<tr><th scope=row>5</th><td>1441</td><td>ARG</td><td>Argentina</td><td>IDN</td><td>Indonesia</td><td>0</td><td>0.00000000</td><td>0.00000000</td><td>0.00</td><td>0.000000</td><td>0.07436915</td><td>0.6663537</td><td>0.08714446</td><td>0.08774757</td></tr>\n",
       "\t<tr><th scope=row>6</th><td>1448</td><td>ARG</td><td>Argentina</td><td>JPN</td><td>Japan    </td><td>0</td><td>0.00000000</td><td>0.00000000</td><td>0.00</td><td>0.000000</td><td>0.06896222</td><td>0.6179070</td><td>0.08080870</td><td>0.08136797</td></tr>\n",
       "</tbody>\n",
       "</table>\n"
      ],
      "text/latex": [
       "A data.frame: 6 × 14\n",
       "\\begin{tabular}{r|llllllllllllll}\n",
       "  & X & iso\\_o & country\\_o & iso\\_d & country\\_d & col & csl & cnl & prox1 & lp1 & prox2 & lp2 & cl & cle\\\\\n",
       "  & <int> & <chr> & <chr> & <chr> & <chr> & <int> & <dbl> & <dbl> & <dbl> & <dbl> & <dbl> & <dbl> & <dbl> & <dbl>\\\\\n",
       "\\hline\n",
       "\t1 & 1368 & ARG & Argentina & AUS & Australia & 0 & 0.02058416 & 0.00080000 & 0.25 & 1.945866 & 0.13052547 & 1.1695188 & 0.15362507 & 0.15468276\\\\\n",
       "\t2 & 1383 & ARG & Argentina & BRA & Brazil    & 0 & 0.06052872 & 0.00080000 & 0.75 & 5.837599 & 0.42439765 & 3.8026376 & 0.49770382 & 0.50114280\\\\\n",
       "\t3 & 1396 & ARG & Argentina & CHL & Chile     & 1 & 0.98010004 & 0.85439998 & 0.00 & 0.000000 & 0.00000000 & 0.0000000 & 0.87344128 & 0.87256539\\\\\n",
       "\t4 & 1422 & ARG & Argentina & FRA & France    & 0 & 0.13392781 & 0.01039232 & 0.50 & 3.891733 & 0.25450581 & 2.2803929 & 0.30551848 & 0.30756098\\\\\n",
       "\t5 & 1441 & ARG & Argentina & IDN & Indonesia & 0 & 0.00000000 & 0.00000000 & 0.00 & 0.000000 & 0.07436915 & 0.6663537 & 0.08714446 & 0.08774757\\\\\n",
       "\t6 & 1448 & ARG & Argentina & JPN & Japan     & 0 & 0.00000000 & 0.00000000 & 0.00 & 0.000000 & 0.06896222 & 0.6179070 & 0.08080870 & 0.08136797\\\\\n",
       "\\end{tabular}\n"
      ],
      "text/markdown": [
       "\n",
       "A data.frame: 6 × 14\n",
       "\n",
       "| <!--/--> | X &lt;int&gt; | iso_o &lt;chr&gt; | country_o &lt;chr&gt; | iso_d &lt;chr&gt; | country_d &lt;chr&gt; | col &lt;int&gt; | csl &lt;dbl&gt; | cnl &lt;dbl&gt; | prox1 &lt;dbl&gt; | lp1 &lt;dbl&gt; | prox2 &lt;dbl&gt; | lp2 &lt;dbl&gt; | cl &lt;dbl&gt; | cle &lt;dbl&gt; |\n",
       "|---|---|---|---|---|---|---|---|---|---|---|---|---|---|---|\n",
       "| 1 | 1368 | ARG | Argentina | AUS | Australia | 0 | 0.02058416 | 0.00080000 | 0.25 | 1.945866 | 0.13052547 | 1.1695188 | 0.15362507 | 0.15468276 |\n",
       "| 2 | 1383 | ARG | Argentina | BRA | Brazil    | 0 | 0.06052872 | 0.00080000 | 0.75 | 5.837599 | 0.42439765 | 3.8026376 | 0.49770382 | 0.50114280 |\n",
       "| 3 | 1396 | ARG | Argentina | CHL | Chile     | 1 | 0.98010004 | 0.85439998 | 0.00 | 0.000000 | 0.00000000 | 0.0000000 | 0.87344128 | 0.87256539 |\n",
       "| 4 | 1422 | ARG | Argentina | FRA | France    | 0 | 0.13392781 | 0.01039232 | 0.50 | 3.891733 | 0.25450581 | 2.2803929 | 0.30551848 | 0.30756098 |\n",
       "| 5 | 1441 | ARG | Argentina | IDN | Indonesia | 0 | 0.00000000 | 0.00000000 | 0.00 | 0.000000 | 0.07436915 | 0.6663537 | 0.08714446 | 0.08774757 |\n",
       "| 6 | 1448 | ARG | Argentina | JPN | Japan     | 0 | 0.00000000 | 0.00000000 | 0.00 | 0.000000 | 0.06896222 | 0.6179070 | 0.08080870 | 0.08136797 |\n",
       "\n"
      ],
      "text/plain": [
       "  X    iso_o country_o iso_d country_d col csl        cnl        prox1 lp1     \n",
       "1 1368 ARG   Argentina AUS   Australia 0   0.02058416 0.00080000 0.25  1.945866\n",
       "2 1383 ARG   Argentina BRA   Brazil    0   0.06052872 0.00080000 0.75  5.837599\n",
       "3 1396 ARG   Argentina CHL   Chile     1   0.98010004 0.85439998 0.00  0.000000\n",
       "4 1422 ARG   Argentina FRA   France    0   0.13392781 0.01039232 0.50  3.891733\n",
       "5 1441 ARG   Argentina IDN   Indonesia 0   0.00000000 0.00000000 0.00  0.000000\n",
       "6 1448 ARG   Argentina JPN   Japan     0   0.00000000 0.00000000 0.00  0.000000\n",
       "  prox2      lp2       cl         cle       \n",
       "1 0.13052547 1.1695188 0.15362507 0.15468276\n",
       "2 0.42439765 3.8026376 0.49770382 0.50114280\n",
       "3 0.00000000 0.0000000 0.87344128 0.87256539\n",
       "4 0.25450581 2.2803929 0.30551848 0.30756098\n",
       "5 0.07436915 0.6663537 0.08714446 0.08774757\n",
       "6 0.06896222 0.6179070 0.08080870 0.08136797"
      ]
     },
     "metadata": {},
     "output_type": "display_data"
    }
   ],
   "source": [
    "langs <- langs %>% filter (iso_o %in% isos3 & iso_d %in% isos3)\n",
    "\n",
    "head(langs)"
   ]
  },
  {
   "cell_type": "markdown",
   "metadata": {},
   "source": [
    "#### Population + Area + Geographic distance + Shared history +  Language"
   ]
  },
  {
   "cell_type": "code",
   "execution_count": 15,
   "metadata": {},
   "outputs": [
    {
     "data": {
      "text/html": [
       "<table class=\"dataframe\">\n",
       "<caption>A data.frame: 6 × 25</caption>\n",
       "<thead>\n",
       "\t<tr><th></th><th scope=col>iso_o</th><th scope=col>iso_d</th><th scope=col>col</th><th scope=col>csl</th><th scope=col>cnl</th><th scope=col>prox1</th><th scope=col>lp1</th><th scope=col>prox2</th><th scope=col>lp2</th><th scope=col>cl</th><th scope=col>...</th><th scope=col>distcap</th><th scope=col>distw</th><th scope=col>distwces</th><th scope=col>shared_hist</th><th scope=col>destination</th><th scope=col>area_d</th><th scope=col>pop_d</th><th scope=col>origin</th><th scope=col>area_o</th><th scope=col>pop_o</th></tr>\n",
       "\t<tr><th></th><th scope=col>&lt;chr&gt;</th><th scope=col>&lt;chr&gt;</th><th scope=col>&lt;int&gt;</th><th scope=col>&lt;dbl&gt;</th><th scope=col>&lt;dbl&gt;</th><th scope=col>&lt;dbl&gt;</th><th scope=col>&lt;dbl&gt;</th><th scope=col>&lt;dbl&gt;</th><th scope=col>&lt;dbl&gt;</th><th scope=col>&lt;dbl&gt;</th><th scope=col>...</th><th scope=col>&lt;chr&gt;</th><th scope=col>&lt;chr&gt;</th><th scope=col>&lt;chr&gt;</th><th scope=col>&lt;dbl&gt;</th><th scope=col>&lt;chr&gt;</th><th scope=col>&lt;int&gt;</th><th scope=col>&lt;dbl&gt;</th><th scope=col>&lt;chr&gt;</th><th scope=col>&lt;int&gt;</th><th scope=col>&lt;dbl&gt;</th></tr>\n",
       "</thead>\n",
       "<tbody>\n",
       "\t<tr><th scope=row>1</th><td>ARG</td><td>AUS</td><td>0</td><td>0.02058416</td><td>0.00080000</td><td>0.25</td><td>1.945866</td><td>0.1305255</td><td>1.169519</td><td>0.1536251</td><td>...</td><td>11733,88</td><td>12044,57</td><td>12018,27</td><td>0</td><td>Australia    </td><td>7686848</td><td> 25203200</td><td>Argentina</td><td>2766889</td><td>44780675</td></tr>\n",
       "\t<tr><th scope=row>2</th><td>ARG</td><td>BRA</td><td>0</td><td>0.06052872</td><td>0.00080000</td><td>0.75</td><td>5.837599</td><td>0.4243976</td><td>3.802638</td><td>0.4977038</td><td>...</td><td>2353,257</td><td>2391,846</td><td>2089,281</td><td>0</td><td>Brazil       </td><td>8511920</td><td>211049519</td><td>Argentina</td><td>2766889</td><td>44780675</td></tr>\n",
       "\t<tr><th scope=row>3</th><td>ARG</td><td>CHL</td><td>1</td><td>0.98010004</td><td>0.85439998</td><td>0.00</td><td>0.000000</td><td>0.0000000</td><td>0.000000</td><td>0.8734413</td><td>...</td><td>1128,317</td><td>1156,726</td><td>941,6383</td><td>0</td><td>Chile        </td><td> 756945</td><td> 18952035</td><td>Argentina</td><td>2766889</td><td>44780675</td></tr>\n",
       "\t<tr><th scope=row>4</th><td>ARG</td><td>ESP</td><td>1</td><td>0.98013985</td><td>0.85445821</td><td>0.00</td><td>0.000000</td><td>0.0000000</td><td>0.000000</td><td>0.8734919</td><td>...</td><td>10065,85</td><td>10079,66</td><td>10055,9 </td><td>1</td><td>Spain        </td><td> 505954</td><td> 46736782</td><td>Argentina</td><td>2766889</td><td>44780675</td></tr>\n",
       "\t<tr><th scope=row>5</th><td>ARG</td><td>FRA</td><td>0</td><td>0.13392781</td><td>0.01039232</td><td>0.50</td><td>3.891733</td><td>0.2545058</td><td>2.280393</td><td>0.3055185</td><td>...</td><td>11072,25</td><td>10932,34</td><td>10921,86</td><td>0</td><td>France       </td><td> 547026</td><td> 65129731</td><td>Argentina</td><td>2766889</td><td>44780675</td></tr>\n",
       "\t<tr><th scope=row>6</th><td>ARG</td><td>GBR</td><td>0</td><td>0.08325152</td><td>0.00000000</td><td>0.25</td><td>1.945866</td><td>0.1305255</td><td>1.169519</td><td>0.1529474</td><td>...</td><td>11147,48</td><td>11136,96</td><td>11128,22</td><td>0</td><td>Great Britain</td><td> 244110</td><td> 67530161</td><td>Argentina</td><td>2766889</td><td>44780675</td></tr>\n",
       "</tbody>\n",
       "</table>\n"
      ],
      "text/latex": [
       "A data.frame: 6 × 25\n",
       "\\begin{tabular}{r|lllllllllllllllllllll}\n",
       "  & iso\\_o & iso\\_d & col & csl & cnl & prox1 & lp1 & prox2 & lp2 & cl & ... & distcap & distw & distwces & shared\\_hist & destination & area\\_d & pop\\_d & origin & area\\_o & pop\\_o\\\\\n",
       "  & <chr> & <chr> & <int> & <dbl> & <dbl> & <dbl> & <dbl> & <dbl> & <dbl> & <dbl> & ... & <chr> & <chr> & <chr> & <dbl> & <chr> & <int> & <dbl> & <chr> & <int> & <dbl>\\\\\n",
       "\\hline\n",
       "\t1 & ARG & AUS & 0 & 0.02058416 & 0.00080000 & 0.25 & 1.945866 & 0.1305255 & 1.169519 & 0.1536251 & ... & 11733,88 & 12044,57 & 12018,27 & 0 & Australia     & 7686848 &  25203200 & Argentina & 2766889 & 44780675\\\\\n",
       "\t2 & ARG & BRA & 0 & 0.06052872 & 0.00080000 & 0.75 & 5.837599 & 0.4243976 & 3.802638 & 0.4977038 & ... & 2353,257 & 2391,846 & 2089,281 & 0 & Brazil        & 8511920 & 211049519 & Argentina & 2766889 & 44780675\\\\\n",
       "\t3 & ARG & CHL & 1 & 0.98010004 & 0.85439998 & 0.00 & 0.000000 & 0.0000000 & 0.000000 & 0.8734413 & ... & 1128,317 & 1156,726 & 941,6383 & 0 & Chile         &  756945 &  18952035 & Argentina & 2766889 & 44780675\\\\\n",
       "\t4 & ARG & ESP & 1 & 0.98013985 & 0.85445821 & 0.00 & 0.000000 & 0.0000000 & 0.000000 & 0.8734919 & ... & 10065,85 & 10079,66 & 10055,9  & 1 & Spain         &  505954 &  46736782 & Argentina & 2766889 & 44780675\\\\\n",
       "\t5 & ARG & FRA & 0 & 0.13392781 & 0.01039232 & 0.50 & 3.891733 & 0.2545058 & 2.280393 & 0.3055185 & ... & 11072,25 & 10932,34 & 10921,86 & 0 & France        &  547026 &  65129731 & Argentina & 2766889 & 44780675\\\\\n",
       "\t6 & ARG & GBR & 0 & 0.08325152 & 0.00000000 & 0.25 & 1.945866 & 0.1305255 & 1.169519 & 0.1529474 & ... & 11147,48 & 11136,96 & 11128,22 & 0 & Great Britain &  244110 &  67530161 & Argentina & 2766889 & 44780675\\\\\n",
       "\\end{tabular}\n"
      ],
      "text/markdown": [
       "\n",
       "A data.frame: 6 × 25\n",
       "\n",
       "| <!--/--> | iso_o &lt;chr&gt; | iso_d &lt;chr&gt; | col &lt;int&gt; | csl &lt;dbl&gt; | cnl &lt;dbl&gt; | prox1 &lt;dbl&gt; | lp1 &lt;dbl&gt; | prox2 &lt;dbl&gt; | lp2 &lt;dbl&gt; | cl &lt;dbl&gt; | ... ... | distcap &lt;chr&gt; | distw &lt;chr&gt; | distwces &lt;chr&gt; | shared_hist &lt;dbl&gt; | destination &lt;chr&gt; | area_d &lt;int&gt; | pop_d &lt;dbl&gt; | origin &lt;chr&gt; | area_o &lt;int&gt; | pop_o &lt;dbl&gt; |\n",
       "|---|---|---|---|---|---|---|---|---|---|---|---|---|---|---|---|---|---|---|---|---|---|\n",
       "| 1 | ARG | AUS | 0 | 0.02058416 | 0.00080000 | 0.25 | 1.945866 | 0.1305255 | 1.169519 | 0.1536251 | ... | 11733,88 | 12044,57 | 12018,27 | 0 | Australia     | 7686848 |  25203200 | Argentina | 2766889 | 44780675 |\n",
       "| 2 | ARG | BRA | 0 | 0.06052872 | 0.00080000 | 0.75 | 5.837599 | 0.4243976 | 3.802638 | 0.4977038 | ... | 2353,257 | 2391,846 | 2089,281 | 0 | Brazil        | 8511920 | 211049519 | Argentina | 2766889 | 44780675 |\n",
       "| 3 | ARG | CHL | 1 | 0.98010004 | 0.85439998 | 0.00 | 0.000000 | 0.0000000 | 0.000000 | 0.8734413 | ... | 1128,317 | 1156,726 | 941,6383 | 0 | Chile         |  756945 |  18952035 | Argentina | 2766889 | 44780675 |\n",
       "| 4 | ARG | ESP | 1 | 0.98013985 | 0.85445821 | 0.00 | 0.000000 | 0.0000000 | 0.000000 | 0.8734919 | ... | 10065,85 | 10079,66 | 10055,9  | 1 | Spain         |  505954 |  46736782 | Argentina | 2766889 | 44780675 |\n",
       "| 5 | ARG | FRA | 0 | 0.13392781 | 0.01039232 | 0.50 | 3.891733 | 0.2545058 | 2.280393 | 0.3055185 | ... | 11072,25 | 10932,34 | 10921,86 | 0 | France        |  547026 |  65129731 | Argentina | 2766889 | 44780675 |\n",
       "| 6 | ARG | GBR | 0 | 0.08325152 | 0.00000000 | 0.25 | 1.945866 | 0.1305255 | 1.169519 | 0.1529474 | ... | 11147,48 | 11136,96 | 11128,22 | 0 | Great Britain |  244110 |  67530161 | Argentina | 2766889 | 44780675 |\n",
       "\n"
      ],
      "text/plain": [
       "  iso_o iso_d col csl        cnl        prox1 lp1      prox2     lp2     \n",
       "1 ARG   AUS   0   0.02058416 0.00080000 0.25  1.945866 0.1305255 1.169519\n",
       "2 ARG   BRA   0   0.06052872 0.00080000 0.75  5.837599 0.4243976 3.802638\n",
       "3 ARG   CHL   1   0.98010004 0.85439998 0.00  0.000000 0.0000000 0.000000\n",
       "4 ARG   ESP   1   0.98013985 0.85445821 0.00  0.000000 0.0000000 0.000000\n",
       "5 ARG   FRA   0   0.13392781 0.01039232 0.50  3.891733 0.2545058 2.280393\n",
       "6 ARG   GBR   0   0.08325152 0.00000000 0.25  1.945866 0.1305255 1.169519\n",
       "  cl        ... distcap  distw    distwces shared_hist destination   area_d \n",
       "1 0.1536251 ... 11733,88 12044,57 12018,27 0           Australia     7686848\n",
       "2 0.4977038 ... 2353,257 2391,846 2089,281 0           Brazil        8511920\n",
       "3 0.8734413 ... 1128,317 1156,726 941,6383 0           Chile          756945\n",
       "4 0.8734919 ... 10065,85 10079,66 10055,9  1           Spain          505954\n",
       "5 0.3055185 ... 11072,25 10932,34 10921,86 0           France         547026\n",
       "6 0.1529474 ... 11147,48 11136,96 11128,22 0           Great Britain  244110\n",
       "  pop_d     origin    area_o  pop_o   \n",
       "1  25203200 Argentina 2766889 44780675\n",
       "2 211049519 Argentina 2766889 44780675\n",
       "3  18952035 Argentina 2766889 44780675\n",
       "4  46736782 Argentina 2766889 44780675\n",
       "5  65129731 Argentina 2766889 44780675\n",
       "6  67530161 Argentina 2766889 44780675"
      ]
     },
     "metadata": {},
     "output_type": "display_data"
    }
   ],
   "source": [
    "area_pop_gdist_lang <- langs %>% select(!c(X, country_o, country_d)) %>%\n",
    "                                merge(area_pop_gdist)\n",
    "\n",
    "head(area_pop_gdist_lang)"
   ]
  },
  {
   "cell_type": "markdown",
   "metadata": {},
   "source": [
    "## GDP (constant 2010) 2019  \n",
    "### Datasource: [World Bank](https://databank.worldbank.org/source/world-development-indicators)\n",
    "\n",
    "*`GDP`*: GDP (constant 2010) in 2019 in US$\n",
    "\n",
    "GDP at purchaser's prices is the sum of gross value added by all resident producers in the economy plus any product taxes and minus any subsidies not included in the value of the products. It is calculated without making deductions for depreciation of fabricated assets or for depletion and degradation of natural resources. Data are in constant 2010 U.S. dollars. Dollar figures for GDP are converted from domestic currencies using 2010 official exchange rates. For a few countries where the official exchange rate does not reflect the rate effectively applied to actual foreign exchange transactions, an alternative conversion factor is used."
   ]
  },
  {
   "cell_type": "code",
   "execution_count": 16,
   "metadata": {},
   "outputs": [
    {
     "data": {
      "text/html": [
       "<table class=\"dataframe\">\n",
       "<caption>A tibble: 6 × 2</caption>\n",
       "<thead>\n",
       "\t<tr><th scope=col>iso_country</th><th scope=col>GDP</th></tr>\n",
       "\t<tr><th scope=col>&lt;chr&gt;</th><th scope=col>&lt;dbl&gt;</th></tr>\n",
       "</thead>\n",
       "<tbody>\n",
       "\t<tr><td>AUS</td><td>1.450499e+12</td></tr>\n",
       "\t<tr><td>ARG</td><td>4.378134e+11</td></tr>\n",
       "\t<tr><td>BRA</td><td>2.364446e+12</td></tr>\n",
       "\t<tr><td>CHL</td><td>2.850370e+11</td></tr>\n",
       "\t<tr><td>FRA</td><td>2.971919e+12</td></tr>\n",
       "\t<tr><td>IDN</td><td>1.204457e+12</td></tr>\n",
       "</tbody>\n",
       "</table>\n"
      ],
      "text/latex": [
       "A tibble: 6 × 2\n",
       "\\begin{tabular}{ll}\n",
       " iso\\_country & GDP\\\\\n",
       " <chr> & <dbl>\\\\\n",
       "\\hline\n",
       "\t AUS & 1.450499e+12\\\\\n",
       "\t ARG & 4.378134e+11\\\\\n",
       "\t BRA & 2.364446e+12\\\\\n",
       "\t CHL & 2.850370e+11\\\\\n",
       "\t FRA & 2.971919e+12\\\\\n",
       "\t IDN & 1.204457e+12\\\\\n",
       "\\end{tabular}\n"
      ],
      "text/markdown": [
       "\n",
       "A tibble: 6 × 2\n",
       "\n",
       "| iso_country &lt;chr&gt; | GDP &lt;dbl&gt; |\n",
       "|---|---|\n",
       "| AUS | 1.450499e+12 |\n",
       "| ARG | 4.378134e+11 |\n",
       "| BRA | 2.364446e+12 |\n",
       "| CHL | 2.850370e+11 |\n",
       "| FRA | 2.971919e+12 |\n",
       "| IDN | 1.204457e+12 |\n",
       "\n"
      ],
      "text/plain": [
       "  iso_country GDP         \n",
       "1 AUS         1.450499e+12\n",
       "2 ARG         4.378134e+11\n",
       "3 BRA         2.364446e+12\n",
       "4 CHL         2.850370e+11\n",
       "5 FRA         2.971919e+12\n",
       "6 IDN         1.204457e+12"
      ]
     },
     "metadata": {},
     "output_type": "display_data"
    }
   ],
   "source": [
    "gdp <- read_csv(\"data/subset-GDP_constant2010-wb2019.csv\", col_types = cols())\n",
    "\n",
    "head(gdp)"
   ]
  },
  {
   "cell_type": "code",
   "execution_count": 17,
   "metadata": {},
   "outputs": [
    {
     "data": {
      "text/html": [
       "<table class=\"dataframe\">\n",
       "<caption>A data.frame: 6 × 27</caption>\n",
       "<thead>\n",
       "\t<tr><th></th><th scope=col>iso_d</th><th scope=col>iso_o</th><th scope=col>col</th><th scope=col>csl</th><th scope=col>cnl</th><th scope=col>prox1</th><th scope=col>lp1</th><th scope=col>prox2</th><th scope=col>lp2</th><th scope=col>cl</th><th scope=col>...</th><th scope=col>distwces</th><th scope=col>shared_hist</th><th scope=col>destination</th><th scope=col>area_d</th><th scope=col>pop_d</th><th scope=col>origin</th><th scope=col>area_o</th><th scope=col>pop_o</th><th scope=col>GDP_o</th><th scope=col>GDP_d</th></tr>\n",
       "\t<tr><th></th><th scope=col>&lt;chr&gt;</th><th scope=col>&lt;chr&gt;</th><th scope=col>&lt;int&gt;</th><th scope=col>&lt;dbl&gt;</th><th scope=col>&lt;dbl&gt;</th><th scope=col>&lt;dbl&gt;</th><th scope=col>&lt;dbl&gt;</th><th scope=col>&lt;dbl&gt;</th><th scope=col>&lt;dbl&gt;</th><th scope=col>&lt;dbl&gt;</th><th scope=col>...</th><th scope=col>&lt;chr&gt;</th><th scope=col>&lt;dbl&gt;</th><th scope=col>&lt;chr&gt;</th><th scope=col>&lt;int&gt;</th><th scope=col>&lt;dbl&gt;</th><th scope=col>&lt;chr&gt;</th><th scope=col>&lt;int&gt;</th><th scope=col>&lt;dbl&gt;</th><th scope=col>&lt;dbl&gt;</th><th scope=col>&lt;dbl&gt;</th></tr>\n",
       "</thead>\n",
       "<tbody>\n",
       "\t<tr><th scope=row>1</th><td>ARG</td><td>CHL</td><td>1</td><td>0.98010004</td><td>0.8544</td><td>0.00</td><td>0.000000</td><td>0.0000000</td><td>0.000000</td><td>0.8734413</td><td>...</td><td>941,6383</td><td>0</td><td>Argentina</td><td>2766889</td><td>44780675</td><td>Chile        </td><td> 756945</td><td> 18952035</td><td>2.850370e+11</td><td>437813398163</td></tr>\n",
       "\t<tr><th scope=row>2</th><td>ARG</td><td>GBR</td><td>0</td><td>0.08325152</td><td>0.0000</td><td>0.25</td><td>1.945866</td><td>0.1305255</td><td>1.169519</td><td>0.1529474</td><td>...</td><td>11128,22</td><td>0</td><td>Argentina</td><td>2766889</td><td>44780675</td><td>Great Britain</td><td> 244110</td><td> 67530161</td><td>2.913557e+12</td><td>437813398163</td></tr>\n",
       "\t<tr><th scope=row>3</th><td>ARG</td><td>AUS</td><td>0</td><td>0.02058416</td><td>0.0008</td><td>0.25</td><td>1.945866</td><td>0.1305255</td><td>1.169519</td><td>0.1536251</td><td>...</td><td>12018,27</td><td>0</td><td>Argentina</td><td>2766889</td><td>44780675</td><td>Australia    </td><td>7686848</td><td> 25203200</td><td>1.450499e+12</td><td>437813398163</td></tr>\n",
       "\t<tr><th scope=row>4</th><td>ARG</td><td>KOR</td><td>0</td><td>0.00000000</td><td>0.0000</td><td>0.00</td><td>0.000000</td><td>0.0000000</td><td>0.000000</td><td>0.0000000</td><td>...</td><td>19137,75</td><td>0</td><td>Argentina</td><td>2766889</td><td>44780675</td><td>South Korea  </td><td>  99484</td><td> 51225321</td><td>1.482760e+12</td><td>437813398163</td></tr>\n",
       "\t<tr><th scope=row>5</th><td>ARG</td><td>BRA</td><td>0</td><td>0.06052872</td><td>0.0008</td><td>0.75</td><td>5.837599</td><td>0.4243976</td><td>3.802638</td><td>0.4977038</td><td>...</td><td>2089,281</td><td>0</td><td>Argentina</td><td>2766889</td><td>44780675</td><td>Brazil       </td><td>8511920</td><td>211049519</td><td>2.364446e+12</td><td>437813398163</td></tr>\n",
       "\t<tr><th scope=row>6</th><td>ARG</td><td>MEX</td><td>1</td><td>0.98010004</td><td>0.8832</td><td>0.00</td><td>0.000000</td><td>0.0000000</td><td>0.000000</td><td>0.8984749</td><td>...</td><td>7460,572</td><td>0</td><td>Argentina</td><td>2766889</td><td>44780675</td><td>Mexico       </td><td>1967210</td><td>127575529</td><td>1.309882e+12</td><td>437813398163</td></tr>\n",
       "</tbody>\n",
       "</table>\n"
      ],
      "text/latex": [
       "A data.frame: 6 × 27\n",
       "\\begin{tabular}{r|lllllllllllllllllllll}\n",
       "  & iso\\_d & iso\\_o & col & csl & cnl & prox1 & lp1 & prox2 & lp2 & cl & ... & distwces & shared\\_hist & destination & area\\_d & pop\\_d & origin & area\\_o & pop\\_o & GDP\\_o & GDP\\_d\\\\\n",
       "  & <chr> & <chr> & <int> & <dbl> & <dbl> & <dbl> & <dbl> & <dbl> & <dbl> & <dbl> & ... & <chr> & <dbl> & <chr> & <int> & <dbl> & <chr> & <int> & <dbl> & <dbl> & <dbl>\\\\\n",
       "\\hline\n",
       "\t1 & ARG & CHL & 1 & 0.98010004 & 0.8544 & 0.00 & 0.000000 & 0.0000000 & 0.000000 & 0.8734413 & ... & 941,6383 & 0 & Argentina & 2766889 & 44780675 & Chile         &  756945 &  18952035 & 2.850370e+11 & 437813398163\\\\\n",
       "\t2 & ARG & GBR & 0 & 0.08325152 & 0.0000 & 0.25 & 1.945866 & 0.1305255 & 1.169519 & 0.1529474 & ... & 11128,22 & 0 & Argentina & 2766889 & 44780675 & Great Britain &  244110 &  67530161 & 2.913557e+12 & 437813398163\\\\\n",
       "\t3 & ARG & AUS & 0 & 0.02058416 & 0.0008 & 0.25 & 1.945866 & 0.1305255 & 1.169519 & 0.1536251 & ... & 12018,27 & 0 & Argentina & 2766889 & 44780675 & Australia     & 7686848 &  25203200 & 1.450499e+12 & 437813398163\\\\\n",
       "\t4 & ARG & KOR & 0 & 0.00000000 & 0.0000 & 0.00 & 0.000000 & 0.0000000 & 0.000000 & 0.0000000 & ... & 19137,75 & 0 & Argentina & 2766889 & 44780675 & South Korea   &   99484 &  51225321 & 1.482760e+12 & 437813398163\\\\\n",
       "\t5 & ARG & BRA & 0 & 0.06052872 & 0.0008 & 0.75 & 5.837599 & 0.4243976 & 3.802638 & 0.4977038 & ... & 2089,281 & 0 & Argentina & 2766889 & 44780675 & Brazil        & 8511920 & 211049519 & 2.364446e+12 & 437813398163\\\\\n",
       "\t6 & ARG & MEX & 1 & 0.98010004 & 0.8832 & 0.00 & 0.000000 & 0.0000000 & 0.000000 & 0.8984749 & ... & 7460,572 & 0 & Argentina & 2766889 & 44780675 & Mexico        & 1967210 & 127575529 & 1.309882e+12 & 437813398163\\\\\n",
       "\\end{tabular}\n"
      ],
      "text/markdown": [
       "\n",
       "A data.frame: 6 × 27\n",
       "\n",
       "| <!--/--> | iso_d &lt;chr&gt; | iso_o &lt;chr&gt; | col &lt;int&gt; | csl &lt;dbl&gt; | cnl &lt;dbl&gt; | prox1 &lt;dbl&gt; | lp1 &lt;dbl&gt; | prox2 &lt;dbl&gt; | lp2 &lt;dbl&gt; | cl &lt;dbl&gt; | ... ... | distwces &lt;chr&gt; | shared_hist &lt;dbl&gt; | destination &lt;chr&gt; | area_d &lt;int&gt; | pop_d &lt;dbl&gt; | origin &lt;chr&gt; | area_o &lt;int&gt; | pop_o &lt;dbl&gt; | GDP_o &lt;dbl&gt; | GDP_d &lt;dbl&gt; |\n",
       "|---|---|---|---|---|---|---|---|---|---|---|---|---|---|---|---|---|---|---|---|---|---|\n",
       "| 1 | ARG | CHL | 1 | 0.98010004 | 0.8544 | 0.00 | 0.000000 | 0.0000000 | 0.000000 | 0.8734413 | ... | 941,6383 | 0 | Argentina | 2766889 | 44780675 | Chile         |  756945 |  18952035 | 2.850370e+11 | 437813398163 |\n",
       "| 2 | ARG | GBR | 0 | 0.08325152 | 0.0000 | 0.25 | 1.945866 | 0.1305255 | 1.169519 | 0.1529474 | ... | 11128,22 | 0 | Argentina | 2766889 | 44780675 | Great Britain |  244110 |  67530161 | 2.913557e+12 | 437813398163 |\n",
       "| 3 | ARG | AUS | 0 | 0.02058416 | 0.0008 | 0.25 | 1.945866 | 0.1305255 | 1.169519 | 0.1536251 | ... | 12018,27 | 0 | Argentina | 2766889 | 44780675 | Australia     | 7686848 |  25203200 | 1.450499e+12 | 437813398163 |\n",
       "| 4 | ARG | KOR | 0 | 0.00000000 | 0.0000 | 0.00 | 0.000000 | 0.0000000 | 0.000000 | 0.0000000 | ... | 19137,75 | 0 | Argentina | 2766889 | 44780675 | South Korea   |   99484 |  51225321 | 1.482760e+12 | 437813398163 |\n",
       "| 5 | ARG | BRA | 0 | 0.06052872 | 0.0008 | 0.75 | 5.837599 | 0.4243976 | 3.802638 | 0.4977038 | ... | 2089,281 | 0 | Argentina | 2766889 | 44780675 | Brazil        | 8511920 | 211049519 | 2.364446e+12 | 437813398163 |\n",
       "| 6 | ARG | MEX | 1 | 0.98010004 | 0.8832 | 0.00 | 0.000000 | 0.0000000 | 0.000000 | 0.8984749 | ... | 7460,572 | 0 | Argentina | 2766889 | 44780675 | Mexico        | 1967210 | 127575529 | 1.309882e+12 | 437813398163 |\n",
       "\n"
      ],
      "text/plain": [
       "  iso_d iso_o col csl        cnl    prox1 lp1      prox2     lp2      cl       \n",
       "1 ARG   CHL   1   0.98010004 0.8544 0.00  0.000000 0.0000000 0.000000 0.8734413\n",
       "2 ARG   GBR   0   0.08325152 0.0000 0.25  1.945866 0.1305255 1.169519 0.1529474\n",
       "3 ARG   AUS   0   0.02058416 0.0008 0.25  1.945866 0.1305255 1.169519 0.1536251\n",
       "4 ARG   KOR   0   0.00000000 0.0000 0.00  0.000000 0.0000000 0.000000 0.0000000\n",
       "5 ARG   BRA   0   0.06052872 0.0008 0.75  5.837599 0.4243976 3.802638 0.4977038\n",
       "6 ARG   MEX   1   0.98010004 0.8832 0.00  0.000000 0.0000000 0.000000 0.8984749\n",
       "  ... distwces shared_hist destination area_d  pop_d    origin        area_o \n",
       "1 ... 941,6383 0           Argentina   2766889 44780675 Chile          756945\n",
       "2 ... 11128,22 0           Argentina   2766889 44780675 Great Britain  244110\n",
       "3 ... 12018,27 0           Argentina   2766889 44780675 Australia     7686848\n",
       "4 ... 19137,75 0           Argentina   2766889 44780675 South Korea     99484\n",
       "5 ... 2089,281 0           Argentina   2766889 44780675 Brazil        8511920\n",
       "6 ... 7460,572 0           Argentina   2766889 44780675 Mexico        1967210\n",
       "  pop_o     GDP_o        GDP_d       \n",
       "1  18952035 2.850370e+11 437813398163\n",
       "2  67530161 2.913557e+12 437813398163\n",
       "3  25203200 1.450499e+12 437813398163\n",
       "4  51225321 1.482760e+12 437813398163\n",
       "5 211049519 2.364446e+12 437813398163\n",
       "6 127575529 1.309882e+12 437813398163"
      ]
     },
     "metadata": {},
     "output_type": "display_data"
    }
   ],
   "source": [
    "area_pop_gdist_lang_gdp <- area_pop_gdist_lang %>% \n",
    "                               merge(gdp, by.x=c(\"iso_o\"), by.y=c(\"iso_country\")) %>% \n",
    "                               rename(GDP_o = GDP) %>%\n",
    "                               merge(gdp, by.x=c(\"iso_d\"), by.y=c(\"iso_country\")) %>%\n",
    "                               rename(GDP_d = GDP)\n",
    "                               \n",
    "head(area_pop_gdist_lang_gdp)"
   ]
  },
  {
   "cell_type": "markdown",
   "metadata": {},
   "source": [
    "## Migration (stock) 2019  \n",
    "### Datasource: [UN](https://www.un.org/en/development/desa/population/migration/data/estimates2/estimates19.asp)\n",
    "\n",
    "The dataset presents estimates of international migrant by age, sex and origin. Estimates are presented for 1990, 1995, 2000, 2005, 2010, 2015 and 2019 and are available for all countries and areas of the world. The estimates are based on official statistics on the foreign-born or the foreign population.   \n",
    "International migrant stock - Total international migrant stock   "
   ]
  },
  {
   "cell_type": "code",
   "execution_count": 18,
   "metadata": {
    "scrolled": true
   },
   "outputs": [
    {
     "data": {
      "text/html": [
       "<table class=\"dataframe\">\n",
       "<caption>A data.frame: 6 × 19</caption>\n",
       "<thead>\n",
       "\t<tr><th></th><th scope=col>destination</th><th scope=col>Total</th><th scope=col>Total16</th><th scope=col>Argentina</th><th scope=col>Australia</th><th scope=col>Brazil</th><th scope=col>Chile</th><th scope=col>France</th><th scope=col>Great.Britain</th><th scope=col>Indonesia</th><th scope=col>Japan</th><th scope=col>Malaysia</th><th scope=col>Mexico</th><th scope=col>Russia</th><th scope=col>Singapore</th><th scope=col>South.Korea</th><th scope=col>Spain</th><th scope=col>Turkey</th><th scope=col>United.States</th></tr>\n",
       "\t<tr><th></th><th scope=col>&lt;chr&gt;</th><th scope=col>&lt;int&gt;</th><th scope=col>&lt;int&gt;</th><th scope=col>&lt;int&gt;</th><th scope=col>&lt;int&gt;</th><th scope=col>&lt;int&gt;</th><th scope=col>&lt;int&gt;</th><th scope=col>&lt;int&gt;</th><th scope=col>&lt;int&gt;</th><th scope=col>&lt;int&gt;</th><th scope=col>&lt;int&gt;</th><th scope=col>&lt;int&gt;</th><th scope=col>&lt;int&gt;</th><th scope=col>&lt;int&gt;</th><th scope=col>&lt;int&gt;</th><th scope=col>&lt;int&gt;</th><th scope=col>&lt;int&gt;</th><th scope=col>&lt;int&gt;</th><th scope=col>&lt;int&gt;</th></tr>\n",
       "</thead>\n",
       "<tbody>\n",
       "\t<tr><th scope=row>1</th><td>Argentina    </td><td>2212879</td><td> 397927</td><td>    0</td><td>   279</td><td>49647</td><td>216855</td><td>  8303</td><td>    959</td><td>   21</td><td> 4531</td><td>     2</td><td> 1475</td><td> 1917</td><td>    2</td><td>  8296</td><td> 99769</td><td>   646</td><td>  5225</td></tr>\n",
       "\t<tr><th scope=row>2</th><td>Australia    </td><td>7549270</td><td>2109825</td><td>17583</td><td>     0</td><td>42552</td><td> 33707</td><td> 40733</td><td>1262204</td><td>87274</td><td>53175</td><td>174136</td><td> 6760</td><td>28735</td><td>64739</td><td>121204</td><td> 19594</td><td> 42880</td><td>114549</td></tr>\n",
       "\t<tr><th scope=row>3</th><td>Brazil       </td><td> 807006</td><td> 229897</td><td>39078</td><td>   791</td><td>    0</td><td> 20747</td><td> 12851</td><td>   6650</td><td>  978</td><td>65955</td><td>   163</td><td> 3601</td><td> 1865</td><td>  154</td><td> 11531</td><td> 41321</td><td>   486</td><td> 23726</td></tr>\n",
       "\t<tr><th scope=row>4</th><td>Chile        </td><td> 939992</td><td> 177893</td><td>72813</td><td>  3952</td><td>20370</td><td>     0</td><td> 12562</td><td>   6668</td><td>  343</td><td> 3231</td><td>   100</td><td> 6887</td><td> 2344</td><td>  237</td><td>  4247</td><td> 22842</td><td>  1019</td><td> 20278</td></tr>\n",
       "\t<tr><th scope=row>5</th><td>France       </td><td>8334875</td><td>1110686</td><td>14253</td><td>  9192</td><td>63208</td><td> 15857</td><td>     0</td><td> 176672</td><td> 5446</td><td>23536</td><td>  2793</td><td>13851</td><td>70463</td><td> 2512</td><td> 22794</td><td>303245</td><td>327508</td><td> 59356</td></tr>\n",
       "\t<tr><th scope=row>6</th><td>Great Britain</td><td>9552110</td><td>1073094</td><td>12239</td><td>145692</td><td>47487</td><td>  8668</td><td>170142</td><td>      0</td><td>11543</td><td>52930</td><td> 84638</td><td>10457</td><td>38917</td><td>58432</td><td> 13171</td><td> 98372</td><td>104491</td><td>215915</td></tr>\n",
       "</tbody>\n",
       "</table>\n"
      ],
      "text/latex": [
       "A data.frame: 6 × 19\n",
       "\\begin{tabular}{r|lllllllllllllllllll}\n",
       "  & destination & Total & Total16 & Argentina & Australia & Brazil & Chile & France & Great.Britain & Indonesia & Japan & Malaysia & Mexico & Russia & Singapore & South.Korea & Spain & Turkey & United.States\\\\\n",
       "  & <chr> & <int> & <int> & <int> & <int> & <int> & <int> & <int> & <int> & <int> & <int> & <int> & <int> & <int> & <int> & <int> & <int> & <int> & <int>\\\\\n",
       "\\hline\n",
       "\t1 & Argentina     & 2212879 &  397927 &     0 &    279 & 49647 & 216855 &   8303 &     959 &    21 &  4531 &      2 &  1475 &  1917 &     2 &   8296 &  99769 &    646 &   5225\\\\\n",
       "\t2 & Australia     & 7549270 & 2109825 & 17583 &      0 & 42552 &  33707 &  40733 & 1262204 & 87274 & 53175 & 174136 &  6760 & 28735 & 64739 & 121204 &  19594 &  42880 & 114549\\\\\n",
       "\t3 & Brazil        &  807006 &  229897 & 39078 &    791 &     0 &  20747 &  12851 &    6650 &   978 & 65955 &    163 &  3601 &  1865 &   154 &  11531 &  41321 &    486 &  23726\\\\\n",
       "\t4 & Chile         &  939992 &  177893 & 72813 &   3952 & 20370 &      0 &  12562 &    6668 &   343 &  3231 &    100 &  6887 &  2344 &   237 &   4247 &  22842 &   1019 &  20278\\\\\n",
       "\t5 & France        & 8334875 & 1110686 & 14253 &   9192 & 63208 &  15857 &      0 &  176672 &  5446 & 23536 &   2793 & 13851 & 70463 &  2512 &  22794 & 303245 & 327508 &  59356\\\\\n",
       "\t6 & Great Britain & 9552110 & 1073094 & 12239 & 145692 & 47487 &   8668 & 170142 &       0 & 11543 & 52930 &  84638 & 10457 & 38917 & 58432 &  13171 &  98372 & 104491 & 215915\\\\\n",
       "\\end{tabular}\n"
      ],
      "text/markdown": [
       "\n",
       "A data.frame: 6 × 19\n",
       "\n",
       "| <!--/--> | destination &lt;chr&gt; | Total &lt;int&gt; | Total16 &lt;int&gt; | Argentina &lt;int&gt; | Australia &lt;int&gt; | Brazil &lt;int&gt; | Chile &lt;int&gt; | France &lt;int&gt; | Great.Britain &lt;int&gt; | Indonesia &lt;int&gt; | Japan &lt;int&gt; | Malaysia &lt;int&gt; | Mexico &lt;int&gt; | Russia &lt;int&gt; | Singapore &lt;int&gt; | South.Korea &lt;int&gt; | Spain &lt;int&gt; | Turkey &lt;int&gt; | United.States &lt;int&gt; |\n",
       "|---|---|---|---|---|---|---|---|---|---|---|---|---|---|---|---|---|---|---|---|\n",
       "| 1 | Argentina     | 2212879 |  397927 |     0 |    279 | 49647 | 216855 |   8303 |     959 |    21 |  4531 |      2 |  1475 |  1917 |     2 |   8296 |  99769 |    646 |   5225 |\n",
       "| 2 | Australia     | 7549270 | 2109825 | 17583 |      0 | 42552 |  33707 |  40733 | 1262204 | 87274 | 53175 | 174136 |  6760 | 28735 | 64739 | 121204 |  19594 |  42880 | 114549 |\n",
       "| 3 | Brazil        |  807006 |  229897 | 39078 |    791 |     0 |  20747 |  12851 |    6650 |   978 | 65955 |    163 |  3601 |  1865 |   154 |  11531 |  41321 |    486 |  23726 |\n",
       "| 4 | Chile         |  939992 |  177893 | 72813 |   3952 | 20370 |      0 |  12562 |    6668 |   343 |  3231 |    100 |  6887 |  2344 |   237 |   4247 |  22842 |   1019 |  20278 |\n",
       "| 5 | France        | 8334875 | 1110686 | 14253 |   9192 | 63208 |  15857 |      0 |  176672 |  5446 | 23536 |   2793 | 13851 | 70463 |  2512 |  22794 | 303245 | 327508 |  59356 |\n",
       "| 6 | Great Britain | 9552110 | 1073094 | 12239 | 145692 | 47487 |   8668 | 170142 |       0 | 11543 | 52930 |  84638 | 10457 | 38917 | 58432 |  13171 |  98372 | 104491 | 215915 |\n",
       "\n"
      ],
      "text/plain": [
       "  destination   Total   Total16 Argentina Australia Brazil Chile  France\n",
       "1 Argentina     2212879  397927     0        279    49647  216855   8303\n",
       "2 Australia     7549270 2109825 17583          0    42552   33707  40733\n",
       "3 Brazil         807006  229897 39078        791        0   20747  12851\n",
       "4 Chile          939992  177893 72813       3952    20370       0  12562\n",
       "5 France        8334875 1110686 14253       9192    63208   15857      0\n",
       "6 Great Britain 9552110 1073094 12239     145692    47487    8668 170142\n",
       "  Great.Britain Indonesia Japan Malaysia Mexico Russia Singapore South.Korea\n",
       "1     959          21      4531      2    1475   1917      2       8296     \n",
       "2 1262204       87274     53175 174136    6760  28735  64739     121204     \n",
       "3    6650         978     65955    163    3601   1865    154      11531     \n",
       "4    6668         343      3231    100    6887   2344    237       4247     \n",
       "5  176672        5446     23536   2793   13851  70463   2512      22794     \n",
       "6       0       11543     52930  84638   10457  38917  58432      13171     \n",
       "  Spain  Turkey United.States\n",
       "1  99769    646   5225       \n",
       "2  19594  42880 114549       \n",
       "3  41321    486  23726       \n",
       "4  22842   1019  20278       \n",
       "5 303245 327508  59356       \n",
       "6  98372 104491 215915       "
      ]
     },
     "metadata": {},
     "output_type": "display_data"
    }
   ],
   "source": [
    "migration_stock_wide <- read.csv(\"data/subset-stocks-migration-un2019.csv\")\n",
    "migration_stock_wide[is.na(migration_stock_wide)] <- 0\n",
    "\n",
    "head(migration_stock_wide)"
   ]
  },
  {
   "cell_type": "code",
   "execution_count": 19,
   "metadata": {},
   "outputs": [
    {
     "data": {
      "text/html": [
       "<table class=\"dataframe\">\n",
       "<caption>A tibble: 6 × 4</caption>\n",
       "<thead>\n",
       "\t<tr><th scope=col>destination</th><th scope=col>total_imm_in_d</th><th scope=col>origin</th><th scope=col>m_stock</th></tr>\n",
       "\t<tr><th scope=col>&lt;chr&gt;</th><th scope=col>&lt;int&gt;</th><th scope=col>&lt;chr&gt;</th><th scope=col>&lt;int&gt;</th></tr>\n",
       "</thead>\n",
       "<tbody>\n",
       "\t<tr><td>Argentina</td><td>2212879</td><td>Argentina    </td><td>     0</td></tr>\n",
       "\t<tr><td>Argentina</td><td>2212879</td><td>Australia    </td><td>   279</td></tr>\n",
       "\t<tr><td>Argentina</td><td>2212879</td><td>Brazil       </td><td> 49647</td></tr>\n",
       "\t<tr><td>Argentina</td><td>2212879</td><td>Chile        </td><td>216855</td></tr>\n",
       "\t<tr><td>Argentina</td><td>2212879</td><td>France       </td><td>  8303</td></tr>\n",
       "\t<tr><td>Argentina</td><td>2212879</td><td>Great Britain</td><td>   959</td></tr>\n",
       "</tbody>\n",
       "</table>\n"
      ],
      "text/latex": [
       "A tibble: 6 × 4\n",
       "\\begin{tabular}{llll}\n",
       " destination & total\\_imm\\_in\\_d & origin & m\\_stock\\\\\n",
       " <chr> & <int> & <chr> & <int>\\\\\n",
       "\\hline\n",
       "\t Argentina & 2212879 & Argentina     &      0\\\\\n",
       "\t Argentina & 2212879 & Australia     &    279\\\\\n",
       "\t Argentina & 2212879 & Brazil        &  49647\\\\\n",
       "\t Argentina & 2212879 & Chile         & 216855\\\\\n",
       "\t Argentina & 2212879 & France        &   8303\\\\\n",
       "\t Argentina & 2212879 & Great Britain &    959\\\\\n",
       "\\end{tabular}\n"
      ],
      "text/markdown": [
       "\n",
       "A tibble: 6 × 4\n",
       "\n",
       "| destination &lt;chr&gt; | total_imm_in_d &lt;int&gt; | origin &lt;chr&gt; | m_stock &lt;int&gt; |\n",
       "|---|---|---|---|\n",
       "| Argentina | 2212879 | Argentina     |      0 |\n",
       "| Argentina | 2212879 | Australia     |    279 |\n",
       "| Argentina | 2212879 | Brazil        |  49647 |\n",
       "| Argentina | 2212879 | Chile         | 216855 |\n",
       "| Argentina | 2212879 | France        |   8303 |\n",
       "| Argentina | 2212879 | Great Britain |    959 |\n",
       "\n"
      ],
      "text/plain": [
       "  destination total_imm_in_d origin        m_stock\n",
       "1 Argentina   2212879        Argentina          0 \n",
       "2 Argentina   2212879        Australia        279 \n",
       "3 Argentina   2212879        Brazil         49647 \n",
       "4 Argentina   2212879        Chile         216855 \n",
       "5 Argentina   2212879        France          8303 \n",
       "6 Argentina   2212879        Great Britain    959 "
      ]
     },
     "metadata": {},
     "output_type": "display_data"
    }
   ],
   "source": [
    "migration_stock <- migration_stock_wide %>% \n",
    "                pivot_longer(!c(destination, Total, Total16), names_to = \"origin\", values_to = \"m_stock\") %>%\n",
    "                select(destination, Total, origin, m_stock) %>%\n",
    "                rename(total_imm_in_d = Total)\n",
    "migration_stock$origin <- chartr(\".\", \" \", migration_stock$origin)\n",
    "\n",
    "head(migration_stock)"
   ]
  },
  {
   "cell_type": "code",
   "execution_count": 20,
   "metadata": {},
   "outputs": [
    {
     "data": {
      "text/html": [
       "<table class=\"dataframe\">\n",
       "<caption>A data.frame: 6 × 6</caption>\n",
       "<thead>\n",
       "\t<tr><th></th><th scope=col>destination</th><th scope=col>total_imm_in_d</th><th scope=col>origin</th><th scope=col>m_stock</th><th scope=col>iso_d</th><th scope=col>iso_o</th></tr>\n",
       "\t<tr><th></th><th scope=col>&lt;chr&gt;</th><th scope=col>&lt;int&gt;</th><th scope=col>&lt;chr&gt;</th><th scope=col>&lt;int&gt;</th><th scope=col>&lt;chr&gt;</th><th scope=col>&lt;chr&gt;</th></tr>\n",
       "</thead>\n",
       "<tbody>\n",
       "\t<tr><th scope=row>1</th><td>Argentina</td><td>2212879</td><td>Argentina    </td><td>     0</td><td>ARG</td><td>ARG</td></tr>\n",
       "\t<tr><th scope=row>2</th><td>Argentina</td><td>2212879</td><td>Australia    </td><td>   279</td><td>ARG</td><td>AUS</td></tr>\n",
       "\t<tr><th scope=row>3</th><td>Argentina</td><td>2212879</td><td>Brazil       </td><td> 49647</td><td>ARG</td><td>BRA</td></tr>\n",
       "\t<tr><th scope=row>4</th><td>Argentina</td><td>2212879</td><td>Chile        </td><td>216855</td><td>ARG</td><td>CHL</td></tr>\n",
       "\t<tr><th scope=row>5</th><td>Argentina</td><td>2212879</td><td>France       </td><td>  8303</td><td>ARG</td><td>FRA</td></tr>\n",
       "\t<tr><th scope=row>6</th><td>Argentina</td><td>2212879</td><td>Great Britain</td><td>   959</td><td>ARG</td><td>GBR</td></tr>\n",
       "</tbody>\n",
       "</table>\n"
      ],
      "text/latex": [
       "A data.frame: 6 × 6\n",
       "\\begin{tabular}{r|llllll}\n",
       "  & destination & total\\_imm\\_in\\_d & origin & m\\_stock & iso\\_d & iso\\_o\\\\\n",
       "  & <chr> & <int> & <chr> & <int> & <chr> & <chr>\\\\\n",
       "\\hline\n",
       "\t1 & Argentina & 2212879 & Argentina     &      0 & ARG & ARG\\\\\n",
       "\t2 & Argentina & 2212879 & Australia     &    279 & ARG & AUS\\\\\n",
       "\t3 & Argentina & 2212879 & Brazil        &  49647 & ARG & BRA\\\\\n",
       "\t4 & Argentina & 2212879 & Chile         & 216855 & ARG & CHL\\\\\n",
       "\t5 & Argentina & 2212879 & France        &   8303 & ARG & FRA\\\\\n",
       "\t6 & Argentina & 2212879 & Great Britain &    959 & ARG & GBR\\\\\n",
       "\\end{tabular}\n"
      ],
      "text/markdown": [
       "\n",
       "A data.frame: 6 × 6\n",
       "\n",
       "| <!--/--> | destination &lt;chr&gt; | total_imm_in_d &lt;int&gt; | origin &lt;chr&gt; | m_stock &lt;int&gt; | iso_d &lt;chr&gt; | iso_o &lt;chr&gt; |\n",
       "|---|---|---|---|---|---|---|\n",
       "| 1 | Argentina | 2212879 | Argentina     |      0 | ARG | ARG |\n",
       "| 2 | Argentina | 2212879 | Australia     |    279 | ARG | AUS |\n",
       "| 3 | Argentina | 2212879 | Brazil        |  49647 | ARG | BRA |\n",
       "| 4 | Argentina | 2212879 | Chile         | 216855 | ARG | CHL |\n",
       "| 5 | Argentina | 2212879 | France        |   8303 | ARG | FRA |\n",
       "| 6 | Argentina | 2212879 | Great Britain |    959 | ARG | GBR |\n",
       "\n"
      ],
      "text/plain": [
       "  destination total_imm_in_d origin        m_stock iso_d iso_o\n",
       "1 Argentina   2212879        Argentina          0  ARG   ARG  \n",
       "2 Argentina   2212879        Australia        279  ARG   AUS  \n",
       "3 Argentina   2212879        Brazil         49647  ARG   BRA  \n",
       "4 Argentina   2212879        Chile         216855  ARG   CHL  \n",
       "5 Argentina   2212879        France          8303  ARG   FRA  \n",
       "6 Argentina   2212879        Great Britain    959  ARG   GBR  "
      ]
     },
     "metadata": {},
     "output_type": "display_data"
    }
   ],
   "source": [
    "area_pop_mig_d <- area_pop %>% select(country, iso3) %>% \n",
    "                               merge(migration_stock, by.x=c(\"country\"), by.y=c(\"destination\")) %>%\n",
    "                               rename(iso_d = iso3, destination = country) \n",
    "\n",
    "area_pop_mig_o <- area_pop %>% select(country, iso3) %>% \n",
    "                               merge(migration_stock, by.x=c(\"country\"), by.y=c(\"origin\")) %>%\n",
    "                               rename(iso_o = iso3, origin = country) \n",
    "\n",
    "migration_stock <- merge(area_pop_mig_d, area_pop_mig_o)\n",
    "\n",
    "head(migration_stock)"
   ]
  },
  {
   "cell_type": "code",
   "execution_count": 21,
   "metadata": {},
   "outputs": [
    {
     "data": {
      "text/html": [
       "<table class=\"dataframe\">\n",
       "<caption>A data.frame: 6 × 28</caption>\n",
       "<thead>\n",
       "\t<tr><th></th><th scope=col>iso_d</th><th scope=col>iso_o</th><th scope=col>destination</th><th scope=col>origin</th><th scope=col>col</th><th scope=col>csl</th><th scope=col>cnl</th><th scope=col>prox1</th><th scope=col>lp1</th><th scope=col>prox2</th><th scope=col>...</th><th scope=col>distw</th><th scope=col>distwces</th><th scope=col>shared_hist</th><th scope=col>area_d</th><th scope=col>pop_d</th><th scope=col>area_o</th><th scope=col>pop_o</th><th scope=col>GDP_o</th><th scope=col>GDP_d</th><th scope=col>m_stock</th></tr>\n",
       "\t<tr><th></th><th scope=col>&lt;chr&gt;</th><th scope=col>&lt;chr&gt;</th><th scope=col>&lt;chr&gt;</th><th scope=col>&lt;chr&gt;</th><th scope=col>&lt;int&gt;</th><th scope=col>&lt;dbl&gt;</th><th scope=col>&lt;dbl&gt;</th><th scope=col>&lt;dbl&gt;</th><th scope=col>&lt;dbl&gt;</th><th scope=col>&lt;dbl&gt;</th><th scope=col>...</th><th scope=col>&lt;chr&gt;</th><th scope=col>&lt;chr&gt;</th><th scope=col>&lt;dbl&gt;</th><th scope=col>&lt;int&gt;</th><th scope=col>&lt;dbl&gt;</th><th scope=col>&lt;int&gt;</th><th scope=col>&lt;dbl&gt;</th><th scope=col>&lt;dbl&gt;</th><th scope=col>&lt;dbl&gt;</th><th scope=col>&lt;int&gt;</th></tr>\n",
       "</thead>\n",
       "<tbody>\n",
       "\t<tr><th scope=row>1</th><td>ARG</td><td>AUS</td><td>Argentina</td><td>Australia    </td><td>0</td><td>0.02058416</td><td>0.00080000</td><td>0.25</td><td>1.945866</td><td>0.1305255</td><td>...</td><td>12044,57</td><td>12018,27</td><td>0</td><td>2766889</td><td>44780675</td><td>7686848</td><td> 25203200</td><td>1.450499e+12</td><td>437813398163</td><td>   279</td></tr>\n",
       "\t<tr><th scope=row>2</th><td>ARG</td><td>BRA</td><td>Argentina</td><td>Brazil       </td><td>0</td><td>0.06052872</td><td>0.00080000</td><td>0.75</td><td>5.837599</td><td>0.4243976</td><td>...</td><td>2391,846</td><td>2089,281</td><td>0</td><td>2766889</td><td>44780675</td><td>8511920</td><td>211049519</td><td>2.364446e+12</td><td>437813398163</td><td> 49647</td></tr>\n",
       "\t<tr><th scope=row>3</th><td>ARG</td><td>CHL</td><td>Argentina</td><td>Chile        </td><td>1</td><td>0.98010004</td><td>0.85439998</td><td>0.00</td><td>0.000000</td><td>0.0000000</td><td>...</td><td>1156,726</td><td>941,6383</td><td>0</td><td>2766889</td><td>44780675</td><td> 756945</td><td> 18952035</td><td>2.850370e+11</td><td>437813398163</td><td>216855</td></tr>\n",
       "\t<tr><th scope=row>4</th><td>ARG</td><td>ESP</td><td>Argentina</td><td>Spain        </td><td>1</td><td>0.98013985</td><td>0.85445821</td><td>0.00</td><td>0.000000</td><td>0.0000000</td><td>...</td><td>10079,66</td><td>10055,9 </td><td>1</td><td>2766889</td><td>44780675</td><td> 505954</td><td> 46736782</td><td>1.572013e+12</td><td>437813398163</td><td> 99769</td></tr>\n",
       "\t<tr><th scope=row>5</th><td>ARG</td><td>FRA</td><td>Argentina</td><td>France       </td><td>0</td><td>0.13392781</td><td>0.01039232</td><td>0.50</td><td>3.891733</td><td>0.2545058</td><td>...</td><td>10932,34</td><td>10921,86</td><td>0</td><td>2766889</td><td>44780675</td><td> 547026</td><td> 65129731</td><td>2.971919e+12</td><td>437813398163</td><td>  8303</td></tr>\n",
       "\t<tr><th scope=row>6</th><td>ARG</td><td>GBR</td><td>Argentina</td><td>Great Britain</td><td>0</td><td>0.08325152</td><td>0.00000000</td><td>0.25</td><td>1.945866</td><td>0.1305255</td><td>...</td><td>11136,96</td><td>11128,22</td><td>0</td><td>2766889</td><td>44780675</td><td> 244110</td><td> 67530161</td><td>2.913557e+12</td><td>437813398163</td><td>   959</td></tr>\n",
       "</tbody>\n",
       "</table>\n"
      ],
      "text/latex": [
       "A data.frame: 6 × 28\n",
       "\\begin{tabular}{r|lllllllllllllllllllll}\n",
       "  & iso\\_d & iso\\_o & destination & origin & col & csl & cnl & prox1 & lp1 & prox2 & ... & distw & distwces & shared\\_hist & area\\_d & pop\\_d & area\\_o & pop\\_o & GDP\\_o & GDP\\_d & m\\_stock\\\\\n",
       "  & <chr> & <chr> & <chr> & <chr> & <int> & <dbl> & <dbl> & <dbl> & <dbl> & <dbl> & ... & <chr> & <chr> & <dbl> & <int> & <dbl> & <int> & <dbl> & <dbl> & <dbl> & <int>\\\\\n",
       "\\hline\n",
       "\t1 & ARG & AUS & Argentina & Australia     & 0 & 0.02058416 & 0.00080000 & 0.25 & 1.945866 & 0.1305255 & ... & 12044,57 & 12018,27 & 0 & 2766889 & 44780675 & 7686848 &  25203200 & 1.450499e+12 & 437813398163 &    279\\\\\n",
       "\t2 & ARG & BRA & Argentina & Brazil        & 0 & 0.06052872 & 0.00080000 & 0.75 & 5.837599 & 0.4243976 & ... & 2391,846 & 2089,281 & 0 & 2766889 & 44780675 & 8511920 & 211049519 & 2.364446e+12 & 437813398163 &  49647\\\\\n",
       "\t3 & ARG & CHL & Argentina & Chile         & 1 & 0.98010004 & 0.85439998 & 0.00 & 0.000000 & 0.0000000 & ... & 1156,726 & 941,6383 & 0 & 2766889 & 44780675 &  756945 &  18952035 & 2.850370e+11 & 437813398163 & 216855\\\\\n",
       "\t4 & ARG & ESP & Argentina & Spain         & 1 & 0.98013985 & 0.85445821 & 0.00 & 0.000000 & 0.0000000 & ... & 10079,66 & 10055,9  & 1 & 2766889 & 44780675 &  505954 &  46736782 & 1.572013e+12 & 437813398163 &  99769\\\\\n",
       "\t5 & ARG & FRA & Argentina & France        & 0 & 0.13392781 & 0.01039232 & 0.50 & 3.891733 & 0.2545058 & ... & 10932,34 & 10921,86 & 0 & 2766889 & 44780675 &  547026 &  65129731 & 2.971919e+12 & 437813398163 &   8303\\\\\n",
       "\t6 & ARG & GBR & Argentina & Great Britain & 0 & 0.08325152 & 0.00000000 & 0.25 & 1.945866 & 0.1305255 & ... & 11136,96 & 11128,22 & 0 & 2766889 & 44780675 &  244110 &  67530161 & 2.913557e+12 & 437813398163 &    959\\\\\n",
       "\\end{tabular}\n"
      ],
      "text/markdown": [
       "\n",
       "A data.frame: 6 × 28\n",
       "\n",
       "| <!--/--> | iso_d &lt;chr&gt; | iso_o &lt;chr&gt; | destination &lt;chr&gt; | origin &lt;chr&gt; | col &lt;int&gt; | csl &lt;dbl&gt; | cnl &lt;dbl&gt; | prox1 &lt;dbl&gt; | lp1 &lt;dbl&gt; | prox2 &lt;dbl&gt; | ... ... | distw &lt;chr&gt; | distwces &lt;chr&gt; | shared_hist &lt;dbl&gt; | area_d &lt;int&gt; | pop_d &lt;dbl&gt; | area_o &lt;int&gt; | pop_o &lt;dbl&gt; | GDP_o &lt;dbl&gt; | GDP_d &lt;dbl&gt; | m_stock &lt;int&gt; |\n",
       "|---|---|---|---|---|---|---|---|---|---|---|---|---|---|---|---|---|---|---|---|---|---|\n",
       "| 1 | ARG | AUS | Argentina | Australia     | 0 | 0.02058416 | 0.00080000 | 0.25 | 1.945866 | 0.1305255 | ... | 12044,57 | 12018,27 | 0 | 2766889 | 44780675 | 7686848 |  25203200 | 1.450499e+12 | 437813398163 |    279 |\n",
       "| 2 | ARG | BRA | Argentina | Brazil        | 0 | 0.06052872 | 0.00080000 | 0.75 | 5.837599 | 0.4243976 | ... | 2391,846 | 2089,281 | 0 | 2766889 | 44780675 | 8511920 | 211049519 | 2.364446e+12 | 437813398163 |  49647 |\n",
       "| 3 | ARG | CHL | Argentina | Chile         | 1 | 0.98010004 | 0.85439998 | 0.00 | 0.000000 | 0.0000000 | ... | 1156,726 | 941,6383 | 0 | 2766889 | 44780675 |  756945 |  18952035 | 2.850370e+11 | 437813398163 | 216855 |\n",
       "| 4 | ARG | ESP | Argentina | Spain         | 1 | 0.98013985 | 0.85445821 | 0.00 | 0.000000 | 0.0000000 | ... | 10079,66 | 10055,9  | 1 | 2766889 | 44780675 |  505954 |  46736782 | 1.572013e+12 | 437813398163 |  99769 |\n",
       "| 5 | ARG | FRA | Argentina | France        | 0 | 0.13392781 | 0.01039232 | 0.50 | 3.891733 | 0.2545058 | ... | 10932,34 | 10921,86 | 0 | 2766889 | 44780675 |  547026 |  65129731 | 2.971919e+12 | 437813398163 |   8303 |\n",
       "| 6 | ARG | GBR | Argentina | Great Britain | 0 | 0.08325152 | 0.00000000 | 0.25 | 1.945866 | 0.1305255 | ... | 11136,96 | 11128,22 | 0 | 2766889 | 44780675 |  244110 |  67530161 | 2.913557e+12 | 437813398163 |    959 |\n",
       "\n"
      ],
      "text/plain": [
       "  iso_d iso_o destination origin        col csl        cnl        prox1\n",
       "1 ARG   AUS   Argentina   Australia     0   0.02058416 0.00080000 0.25 \n",
       "2 ARG   BRA   Argentina   Brazil        0   0.06052872 0.00080000 0.75 \n",
       "3 ARG   CHL   Argentina   Chile         1   0.98010004 0.85439998 0.00 \n",
       "4 ARG   ESP   Argentina   Spain         1   0.98013985 0.85445821 0.00 \n",
       "5 ARG   FRA   Argentina   France        0   0.13392781 0.01039232 0.50 \n",
       "6 ARG   GBR   Argentina   Great Britain 0   0.08325152 0.00000000 0.25 \n",
       "  lp1      prox2     ... distw    distwces shared_hist area_d  pop_d    area_o \n",
       "1 1.945866 0.1305255 ... 12044,57 12018,27 0           2766889 44780675 7686848\n",
       "2 5.837599 0.4243976 ... 2391,846 2089,281 0           2766889 44780675 8511920\n",
       "3 0.000000 0.0000000 ... 1156,726 941,6383 0           2766889 44780675  756945\n",
       "4 0.000000 0.0000000 ... 10079,66 10055,9  1           2766889 44780675  505954\n",
       "5 3.891733 0.2545058 ... 10932,34 10921,86 0           2766889 44780675  547026\n",
       "6 1.945866 0.1305255 ... 11136,96 11128,22 0           2766889 44780675  244110\n",
       "  pop_o     GDP_o        GDP_d        m_stock\n",
       "1  25203200 1.450499e+12 437813398163    279 \n",
       "2 211049519 2.364446e+12 437813398163  49647 \n",
       "3  18952035 2.850370e+11 437813398163 216855 \n",
       "4  46736782 1.572013e+12 437813398163  99769 \n",
       "5  65129731 2.971919e+12 437813398163   8303 \n",
       "6  67530161 2.913557e+12 437813398163    959 "
      ]
     },
     "metadata": {},
     "output_type": "display_data"
    }
   ],
   "source": [
    "official_dataset <- merge(area_pop_gdist_lang_gdp, migration_stock) %>% select(!total_imm_in_d)\n",
    "\n",
    "head(official_dataset)"
   ]
  },
  {
   "cell_type": "code",
   "execution_count": 22,
   "metadata": {},
   "outputs": [
    {
     "data": {
      "text/html": [
       "<style>\n",
       ".list-inline {list-style: none; margin:0; padding: 0}\n",
       ".list-inline>li {display: inline-block}\n",
       ".list-inline>li:not(:last-child)::after {content: \"\\00b7\"; padding: 0 .5ex}\n",
       "</style>\n",
       "<ol class=list-inline><li>240</li><li>28</li></ol>\n"
      ],
      "text/latex": [
       "\\begin{enumerate*}\n",
       "\\item 240\n",
       "\\item 28\n",
       "\\end{enumerate*}\n"
      ],
      "text/markdown": [
       "1. 240\n",
       "2. 28\n",
       "\n",
       "\n"
      ],
      "text/plain": [
       "[1] 240  28"
      ]
     },
     "metadata": {},
     "output_type": "display_data"
    }
   ],
   "source": [
    "dim(official_dataset)"
   ]
  },
  {
   "cell_type": "markdown",
   "metadata": {},
   "source": [
    "## Migration (flow) 2015-2020  \n",
    "### Datasource: [Abel, Guy; E. Cohen, Joel (2019)](https://figshare.com/collections/Bilateral_international_migration_flow_estimates_for_200_countries/4470464)\n",
    "\n",
    "This collection contains bilateral international migration flow estimates for 200 countries for five-year periods between 1990 and 2020. "
   ]
  },
  {
   "cell_type": "code",
   "execution_count": 23,
   "metadata": {
    "scrolled": true
   },
   "outputs": [
    {
     "data": {
      "text/html": [
       "<table class=\"dataframe\">\n",
       "<caption>A data.frame: 6 × 9</caption>\n",
       "<thead>\n",
       "\t<tr><th></th><th scope=col>year0</th><th scope=col>orig</th><th scope=col>dest</th><th scope=col>sd_drop_neg</th><th scope=col>sd_rev_neg</th><th scope=col>mig_rate</th><th scope=col>da_min_open</th><th scope=col>da_min_closed</th><th scope=col>da_pb_closed</th></tr>\n",
       "\t<tr><th></th><th scope=col>&lt;int&gt;</th><th scope=col>&lt;chr&gt;</th><th scope=col>&lt;chr&gt;</th><th scope=col>&lt;int&gt;</th><th scope=col>&lt;int&gt;</th><th scope=col>&lt;int&gt;</th><th scope=col>&lt;int&gt;</th><th scope=col>&lt;int&gt;</th><th scope=col>&lt;int&gt;</th></tr>\n",
       "</thead>\n",
       "<tbody>\n",
       "\t<tr><th scope=row>1</th><td>1990</td><td>BDI</td><td>BDI</td><td> 0</td><td> 0</td><td> 0</td><td> 0</td><td> 0</td><td> 0</td></tr>\n",
       "\t<tr><th scope=row>2</th><td>1990</td><td>COM</td><td>BDI</td><td> 0</td><td> 0</td><td> 0</td><td> 0</td><td> 0</td><td> 0</td></tr>\n",
       "\t<tr><th scope=row>3</th><td>1990</td><td>DJI</td><td>BDI</td><td> 0</td><td> 0</td><td> 0</td><td> 0</td><td> 0</td><td> 0</td></tr>\n",
       "\t<tr><th scope=row>4</th><td>1990</td><td>ERI</td><td>BDI</td><td> 0</td><td> 0</td><td> 0</td><td> 0</td><td> 0</td><td>90</td></tr>\n",
       "\t<tr><th scope=row>5</th><td>1990</td><td>ETH</td><td>BDI</td><td> 0</td><td> 0</td><td> 0</td><td> 0</td><td> 0</td><td> 2</td></tr>\n",
       "\t<tr><th scope=row>6</th><td>1990</td><td>KEN</td><td>BDI</td><td>30</td><td>30</td><td>69</td><td>45</td><td>29</td><td>87</td></tr>\n",
       "</tbody>\n",
       "</table>\n"
      ],
      "text/latex": [
       "A data.frame: 6 × 9\n",
       "\\begin{tabular}{r|lllllllll}\n",
       "  & year0 & orig & dest & sd\\_drop\\_neg & sd\\_rev\\_neg & mig\\_rate & da\\_min\\_open & da\\_min\\_closed & da\\_pb\\_closed\\\\\n",
       "  & <int> & <chr> & <chr> & <int> & <int> & <int> & <int> & <int> & <int>\\\\\n",
       "\\hline\n",
       "\t1 & 1990 & BDI & BDI &  0 &  0 &  0 &  0 &  0 &  0\\\\\n",
       "\t2 & 1990 & COM & BDI &  0 &  0 &  0 &  0 &  0 &  0\\\\\n",
       "\t3 & 1990 & DJI & BDI &  0 &  0 &  0 &  0 &  0 &  0\\\\\n",
       "\t4 & 1990 & ERI & BDI &  0 &  0 &  0 &  0 &  0 & 90\\\\\n",
       "\t5 & 1990 & ETH & BDI &  0 &  0 &  0 &  0 &  0 &  2\\\\\n",
       "\t6 & 1990 & KEN & BDI & 30 & 30 & 69 & 45 & 29 & 87\\\\\n",
       "\\end{tabular}\n"
      ],
      "text/markdown": [
       "\n",
       "A data.frame: 6 × 9\n",
       "\n",
       "| <!--/--> | year0 &lt;int&gt; | orig &lt;chr&gt; | dest &lt;chr&gt; | sd_drop_neg &lt;int&gt; | sd_rev_neg &lt;int&gt; | mig_rate &lt;int&gt; | da_min_open &lt;int&gt; | da_min_closed &lt;int&gt; | da_pb_closed &lt;int&gt; |\n",
       "|---|---|---|---|---|---|---|---|---|---|\n",
       "| 1 | 1990 | BDI | BDI |  0 |  0 |  0 |  0 |  0 |  0 |\n",
       "| 2 | 1990 | COM | BDI |  0 |  0 |  0 |  0 |  0 |  0 |\n",
       "| 3 | 1990 | DJI | BDI |  0 |  0 |  0 |  0 |  0 |  0 |\n",
       "| 4 | 1990 | ERI | BDI |  0 |  0 |  0 |  0 |  0 | 90 |\n",
       "| 5 | 1990 | ETH | BDI |  0 |  0 |  0 |  0 |  0 |  2 |\n",
       "| 6 | 1990 | KEN | BDI | 30 | 30 | 69 | 45 | 29 | 87 |\n",
       "\n"
      ],
      "text/plain": [
       "  year0 orig dest sd_drop_neg sd_rev_neg mig_rate da_min_open da_min_closed\n",
       "1 1990  BDI  BDI   0           0          0        0           0           \n",
       "2 1990  COM  BDI   0           0          0        0           0           \n",
       "3 1990  DJI  BDI   0           0          0        0           0           \n",
       "4 1990  ERI  BDI   0           0          0        0           0           \n",
       "5 1990  ETH  BDI   0           0          0        0           0           \n",
       "6 1990  KEN  BDI  30          30         69       45          29           \n",
       "  da_pb_closed\n",
       "1  0          \n",
       "2  0          \n",
       "3  0          \n",
       "4 90          \n",
       "5  2          \n",
       "6 87          "
      ]
     },
     "metadata": {},
     "output_type": "display_data"
    }
   ],
   "source": [
    "migration_flow <- read.csv(\"data/abel_cohen_migration_flow.csv\")\n",
    "migration_flow[is.na(migration_flow)] <- 0\n",
    "\n",
    "head(migration_flow)"
   ]
  },
  {
   "cell_type": "code",
   "execution_count": 24,
   "metadata": {},
   "outputs": [
    {
     "data": {
      "text/html": [
       "<table class=\"dataframe\">\n",
       "<caption>A data.frame: 6 × 8</caption>\n",
       "<thead>\n",
       "\t<tr><th></th><th scope=col>iso_o</th><th scope=col>iso_d</th><th scope=col>m_flow_sd_drop_neg</th><th scope=col>m_flow_sd_rev_neg</th><th scope=col>m_flow_mig_rate</th><th scope=col>m_flow_da_min_open</th><th scope=col>m_flow_da_min_closed</th><th scope=col>m_flow_da_pb_closed</th></tr>\n",
       "\t<tr><th></th><th scope=col>&lt;chr&gt;</th><th scope=col>&lt;chr&gt;</th><th scope=col>&lt;int&gt;</th><th scope=col>&lt;int&gt;</th><th scope=col>&lt;int&gt;</th><th scope=col>&lt;int&gt;</th><th scope=col>&lt;int&gt;</th><th scope=col>&lt;int&gt;</th></tr>\n",
       "</thead>\n",
       "<tbody>\n",
       "\t<tr><th scope=row>1</th><td>BDI</td><td>BDI</td><td>  0</td><td>  0</td><td>  0</td><td>   0</td><td>  0</td><td>   0</td></tr>\n",
       "\t<tr><th scope=row>2</th><td>COM</td><td>BDI</td><td>  0</td><td>  0</td><td>  0</td><td>   0</td><td>  0</td><td>   0</td></tr>\n",
       "\t<tr><th scope=row>3</th><td>DJI</td><td>BDI</td><td>  0</td><td>  0</td><td>  0</td><td>   0</td><td>  0</td><td>   0</td></tr>\n",
       "\t<tr><th scope=row>4</th><td>ERI</td><td>BDI</td><td>  0</td><td>131</td><td>  0</td><td>  43</td><td> 60</td><td> 183</td></tr>\n",
       "\t<tr><th scope=row>5</th><td>ETH</td><td>BDI</td><td>  0</td><td> 14</td><td>  0</td><td>   9</td><td>  3</td><td>  24</td></tr>\n",
       "\t<tr><th scope=row>6</th><td>KEN</td><td>BDI</td><td>194</td><td>194</td><td>211</td><td>1168</td><td>447</td><td>1554</td></tr>\n",
       "</tbody>\n",
       "</table>\n"
      ],
      "text/latex": [
       "A data.frame: 6 × 8\n",
       "\\begin{tabular}{r|llllllll}\n",
       "  & iso\\_o & iso\\_d & m\\_flow\\_sd\\_drop\\_neg & m\\_flow\\_sd\\_rev\\_neg & m\\_flow\\_mig\\_rate & m\\_flow\\_da\\_min\\_open & m\\_flow\\_da\\_min\\_closed & m\\_flow\\_da\\_pb\\_closed\\\\\n",
       "  & <chr> & <chr> & <int> & <int> & <int> & <int> & <int> & <int>\\\\\n",
       "\\hline\n",
       "\t1 & BDI & BDI &   0 &   0 &   0 &    0 &   0 &    0\\\\\n",
       "\t2 & COM & BDI &   0 &   0 &   0 &    0 &   0 &    0\\\\\n",
       "\t3 & DJI & BDI &   0 &   0 &   0 &    0 &   0 &    0\\\\\n",
       "\t4 & ERI & BDI &   0 & 131 &   0 &   43 &  60 &  183\\\\\n",
       "\t5 & ETH & BDI &   0 &  14 &   0 &    9 &   3 &   24\\\\\n",
       "\t6 & KEN & BDI & 194 & 194 & 211 & 1168 & 447 & 1554\\\\\n",
       "\\end{tabular}\n"
      ],
      "text/markdown": [
       "\n",
       "A data.frame: 6 × 8\n",
       "\n",
       "| <!--/--> | iso_o &lt;chr&gt; | iso_d &lt;chr&gt; | m_flow_sd_drop_neg &lt;int&gt; | m_flow_sd_rev_neg &lt;int&gt; | m_flow_mig_rate &lt;int&gt; | m_flow_da_min_open &lt;int&gt; | m_flow_da_min_closed &lt;int&gt; | m_flow_da_pb_closed &lt;int&gt; |\n",
       "|---|---|---|---|---|---|---|---|---|\n",
       "| 1 | BDI | BDI |   0 |   0 |   0 |    0 |   0 |    0 |\n",
       "| 2 | COM | BDI |   0 |   0 |   0 |    0 |   0 |    0 |\n",
       "| 3 | DJI | BDI |   0 |   0 |   0 |    0 |   0 |    0 |\n",
       "| 4 | ERI | BDI |   0 | 131 |   0 |   43 |  60 |  183 |\n",
       "| 5 | ETH | BDI |   0 |  14 |   0 |    9 |   3 |   24 |\n",
       "| 6 | KEN | BDI | 194 | 194 | 211 | 1168 | 447 | 1554 |\n",
       "\n"
      ],
      "text/plain": [
       "  iso_o iso_d m_flow_sd_drop_neg m_flow_sd_rev_neg m_flow_mig_rate\n",
       "1 BDI   BDI     0                  0                 0            \n",
       "2 COM   BDI     0                  0                 0            \n",
       "3 DJI   BDI     0                  0                 0            \n",
       "4 ERI   BDI     0                131                 0            \n",
       "5 ETH   BDI     0                 14                 0            \n",
       "6 KEN   BDI   194                194               211            \n",
       "  m_flow_da_min_open m_flow_da_min_closed m_flow_da_pb_closed\n",
       "1    0                 0                     0               \n",
       "2    0                 0                     0               \n",
       "3    0                 0                     0               \n",
       "4   43                60                   183               \n",
       "5    9                 3                    24               \n",
       "6 1168               447                  1554               "
      ]
     },
     "metadata": {},
     "output_type": "display_data"
    }
   ],
   "source": [
    "migration_flow <- migration_flow %>% \n",
    "                filter(year0 == 2015) %>%\n",
    "                select(!year0) %>%\n",
    "                rename(iso_d = dest, iso_o = orig, \n",
    "                       m_flow_sd_drop_neg = sd_drop_neg, \n",
    "                       m_flow_sd_rev_neg = sd_rev_neg, \n",
    "                       m_flow_mig_rate = mig_rate, \n",
    "                       m_flow_da_min_open = da_min_open, \n",
    "                       m_flow_da_min_closed = da_min_closed, \n",
    "                       m_flow_da_pb_closed = da_pb_closed)\n",
    "\n",
    "head(migration_flow)"
   ]
  },
  {
   "cell_type": "code",
   "execution_count": 25,
   "metadata": {},
   "outputs": [
    {
     "data": {
      "text/html": [
       "<table class=\"dataframe\">\n",
       "<caption>A data.frame: 6 × 34</caption>\n",
       "<thead>\n",
       "\t<tr><th></th><th scope=col>iso_d</th><th scope=col>iso_o</th><th scope=col>destination</th><th scope=col>origin</th><th scope=col>col</th><th scope=col>csl</th><th scope=col>cnl</th><th scope=col>prox1</th><th scope=col>lp1</th><th scope=col>prox2</th><th scope=col>...</th><th scope=col>pop_o</th><th scope=col>GDP_o</th><th scope=col>GDP_d</th><th scope=col>m_stock</th><th scope=col>m_flow_sd_drop_neg</th><th scope=col>m_flow_sd_rev_neg</th><th scope=col>m_flow_mig_rate</th><th scope=col>m_flow_da_min_open</th><th scope=col>m_flow_da_min_closed</th><th scope=col>m_flow_da_pb_closed</th></tr>\n",
       "\t<tr><th></th><th scope=col>&lt;chr&gt;</th><th scope=col>&lt;chr&gt;</th><th scope=col>&lt;chr&gt;</th><th scope=col>&lt;chr&gt;</th><th scope=col>&lt;int&gt;</th><th scope=col>&lt;dbl&gt;</th><th scope=col>&lt;dbl&gt;</th><th scope=col>&lt;dbl&gt;</th><th scope=col>&lt;dbl&gt;</th><th scope=col>&lt;dbl&gt;</th><th scope=col>...</th><th scope=col>&lt;dbl&gt;</th><th scope=col>&lt;dbl&gt;</th><th scope=col>&lt;dbl&gt;</th><th scope=col>&lt;int&gt;</th><th scope=col>&lt;int&gt;</th><th scope=col>&lt;int&gt;</th><th scope=col>&lt;int&gt;</th><th scope=col>&lt;int&gt;</th><th scope=col>&lt;int&gt;</th><th scope=col>&lt;int&gt;</th></tr>\n",
       "</thead>\n",
       "<tbody>\n",
       "\t<tr><th scope=row>1</th><td>ARG</td><td>AUS</td><td>Argentina</td><td>Australia    </td><td>0</td><td>0.02058416</td><td>0.00080000</td><td>0.25</td><td>1.945866</td><td>0.1305255</td><td>...</td><td> 25203200</td><td>1.450499e+12</td><td>437813398163</td><td>   279</td><td>   1</td><td>   1</td><td>   56</td><td>   16</td><td>  105</td><td> 2224</td></tr>\n",
       "\t<tr><th scope=row>2</th><td>ARG</td><td>BRA</td><td>Argentina</td><td>Brazil       </td><td>0</td><td>0.06052872</td><td>0.00080000</td><td>0.75</td><td>5.837599</td><td>0.4243976</td><td>...</td><td>211049519</td><td>2.364446e+12</td><td>437813398163</td><td> 49647</td><td> 475</td><td> 475</td><td> 9997</td><td> 2332</td><td>    0</td><td>10767</td></tr>\n",
       "\t<tr><th scope=row>3</th><td>ARG</td><td>CHL</td><td>Argentina</td><td>Chile        </td><td>1</td><td>0.98010004</td><td>0.85439998</td><td>0.00</td><td>0.000000</td><td>0.0000000</td><td>...</td><td> 18952035</td><td>2.850370e+11</td><td>437813398163</td><td>216855</td><td>2079</td><td>2079</td><td>43666</td><td>13875</td><td>53604</td><td>84213</td></tr>\n",
       "\t<tr><th scope=row>4</th><td>ARG</td><td>ESP</td><td>Argentina</td><td>Spain        </td><td>1</td><td>0.98013985</td><td>0.85445821</td><td>0.00</td><td>0.000000</td><td>0.0000000</td><td>...</td><td> 46736782</td><td>1.572013e+12</td><td>437813398163</td><td> 99769</td><td> 956</td><td> 956</td><td>20090</td><td> 6434</td><td> 5516</td><td>49532</td></tr>\n",
       "\t<tr><th scope=row>5</th><td>ARG</td><td>FRA</td><td>Argentina</td><td>France       </td><td>0</td><td>0.13392781</td><td>0.01039232</td><td>0.50</td><td>3.891733</td><td>0.2545058</td><td>...</td><td> 65129731</td><td>2.971919e+12</td><td>437813398163</td><td>  8303</td><td>  79</td><td>  79</td><td> 1672</td><td>  467</td><td>  156</td><td> 3048</td></tr>\n",
       "\t<tr><th scope=row>6</th><td>ARG</td><td>GBR</td><td>Argentina</td><td>Great Britain</td><td>0</td><td>0.08325152</td><td>0.00000000</td><td>0.25</td><td>1.945866</td><td>0.1305255</td><td>...</td><td> 67530161</td><td>2.913557e+12</td><td>437813398163</td><td>   959</td><td>   8</td><td>   8</td><td>  193</td><td>   45</td><td>  126</td><td> 1559</td></tr>\n",
       "</tbody>\n",
       "</table>\n"
      ],
      "text/latex": [
       "A data.frame: 6 × 34\n",
       "\\begin{tabular}{r|lllllllllllllllllllll}\n",
       "  & iso\\_d & iso\\_o & destination & origin & col & csl & cnl & prox1 & lp1 & prox2 & ... & pop\\_o & GDP\\_o & GDP\\_d & m\\_stock & m\\_flow\\_sd\\_drop\\_neg & m\\_flow\\_sd\\_rev\\_neg & m\\_flow\\_mig\\_rate & m\\_flow\\_da\\_min\\_open & m\\_flow\\_da\\_min\\_closed & m\\_flow\\_da\\_pb\\_closed\\\\\n",
       "  & <chr> & <chr> & <chr> & <chr> & <int> & <dbl> & <dbl> & <dbl> & <dbl> & <dbl> & ... & <dbl> & <dbl> & <dbl> & <int> & <int> & <int> & <int> & <int> & <int> & <int>\\\\\n",
       "\\hline\n",
       "\t1 & ARG & AUS & Argentina & Australia     & 0 & 0.02058416 & 0.00080000 & 0.25 & 1.945866 & 0.1305255 & ... &  25203200 & 1.450499e+12 & 437813398163 &    279 &    1 &    1 &    56 &    16 &   105 &  2224\\\\\n",
       "\t2 & ARG & BRA & Argentina & Brazil        & 0 & 0.06052872 & 0.00080000 & 0.75 & 5.837599 & 0.4243976 & ... & 211049519 & 2.364446e+12 & 437813398163 &  49647 &  475 &  475 &  9997 &  2332 &     0 & 10767\\\\\n",
       "\t3 & ARG & CHL & Argentina & Chile         & 1 & 0.98010004 & 0.85439998 & 0.00 & 0.000000 & 0.0000000 & ... &  18952035 & 2.850370e+11 & 437813398163 & 216855 & 2079 & 2079 & 43666 & 13875 & 53604 & 84213\\\\\n",
       "\t4 & ARG & ESP & Argentina & Spain         & 1 & 0.98013985 & 0.85445821 & 0.00 & 0.000000 & 0.0000000 & ... &  46736782 & 1.572013e+12 & 437813398163 &  99769 &  956 &  956 & 20090 &  6434 &  5516 & 49532\\\\\n",
       "\t5 & ARG & FRA & Argentina & France        & 0 & 0.13392781 & 0.01039232 & 0.50 & 3.891733 & 0.2545058 & ... &  65129731 & 2.971919e+12 & 437813398163 &   8303 &   79 &   79 &  1672 &   467 &   156 &  3048\\\\\n",
       "\t6 & ARG & GBR & Argentina & Great Britain & 0 & 0.08325152 & 0.00000000 & 0.25 & 1.945866 & 0.1305255 & ... &  67530161 & 2.913557e+12 & 437813398163 &    959 &    8 &    8 &   193 &    45 &   126 &  1559\\\\\n",
       "\\end{tabular}\n"
      ],
      "text/markdown": [
       "\n",
       "A data.frame: 6 × 34\n",
       "\n",
       "| <!--/--> | iso_d &lt;chr&gt; | iso_o &lt;chr&gt; | destination &lt;chr&gt; | origin &lt;chr&gt; | col &lt;int&gt; | csl &lt;dbl&gt; | cnl &lt;dbl&gt; | prox1 &lt;dbl&gt; | lp1 &lt;dbl&gt; | prox2 &lt;dbl&gt; | ... ... | pop_o &lt;dbl&gt; | GDP_o &lt;dbl&gt; | GDP_d &lt;dbl&gt; | m_stock &lt;int&gt; | m_flow_sd_drop_neg &lt;int&gt; | m_flow_sd_rev_neg &lt;int&gt; | m_flow_mig_rate &lt;int&gt; | m_flow_da_min_open &lt;int&gt; | m_flow_da_min_closed &lt;int&gt; | m_flow_da_pb_closed &lt;int&gt; |\n",
       "|---|---|---|---|---|---|---|---|---|---|---|---|---|---|---|---|---|---|---|---|---|---|\n",
       "| 1 | ARG | AUS | Argentina | Australia     | 0 | 0.02058416 | 0.00080000 | 0.25 | 1.945866 | 0.1305255 | ... |  25203200 | 1.450499e+12 | 437813398163 |    279 |    1 |    1 |    56 |    16 |   105 |  2224 |\n",
       "| 2 | ARG | BRA | Argentina | Brazil        | 0 | 0.06052872 | 0.00080000 | 0.75 | 5.837599 | 0.4243976 | ... | 211049519 | 2.364446e+12 | 437813398163 |  49647 |  475 |  475 |  9997 |  2332 |     0 | 10767 |\n",
       "| 3 | ARG | CHL | Argentina | Chile         | 1 | 0.98010004 | 0.85439998 | 0.00 | 0.000000 | 0.0000000 | ... |  18952035 | 2.850370e+11 | 437813398163 | 216855 | 2079 | 2079 | 43666 | 13875 | 53604 | 84213 |\n",
       "| 4 | ARG | ESP | Argentina | Spain         | 1 | 0.98013985 | 0.85445821 | 0.00 | 0.000000 | 0.0000000 | ... |  46736782 | 1.572013e+12 | 437813398163 |  99769 |  956 |  956 | 20090 |  6434 |  5516 | 49532 |\n",
       "| 5 | ARG | FRA | Argentina | France        | 0 | 0.13392781 | 0.01039232 | 0.50 | 3.891733 | 0.2545058 | ... |  65129731 | 2.971919e+12 | 437813398163 |   8303 |   79 |   79 |  1672 |   467 |   156 |  3048 |\n",
       "| 6 | ARG | GBR | Argentina | Great Britain | 0 | 0.08325152 | 0.00000000 | 0.25 | 1.945866 | 0.1305255 | ... |  67530161 | 2.913557e+12 | 437813398163 |    959 |    8 |    8 |   193 |    45 |   126 |  1559 |\n",
       "\n"
      ],
      "text/plain": [
       "  iso_d iso_o destination origin        col csl        cnl        prox1\n",
       "1 ARG   AUS   Argentina   Australia     0   0.02058416 0.00080000 0.25 \n",
       "2 ARG   BRA   Argentina   Brazil        0   0.06052872 0.00080000 0.75 \n",
       "3 ARG   CHL   Argentina   Chile         1   0.98010004 0.85439998 0.00 \n",
       "4 ARG   ESP   Argentina   Spain         1   0.98013985 0.85445821 0.00 \n",
       "5 ARG   FRA   Argentina   France        0   0.13392781 0.01039232 0.50 \n",
       "6 ARG   GBR   Argentina   Great Britain 0   0.08325152 0.00000000 0.25 \n",
       "  lp1      prox2     ... pop_o     GDP_o        GDP_d        m_stock\n",
       "1 1.945866 0.1305255 ...  25203200 1.450499e+12 437813398163    279 \n",
       "2 5.837599 0.4243976 ... 211049519 2.364446e+12 437813398163  49647 \n",
       "3 0.000000 0.0000000 ...  18952035 2.850370e+11 437813398163 216855 \n",
       "4 0.000000 0.0000000 ...  46736782 1.572013e+12 437813398163  99769 \n",
       "5 3.891733 0.2545058 ...  65129731 2.971919e+12 437813398163   8303 \n",
       "6 1.945866 0.1305255 ...  67530161 2.913557e+12 437813398163    959 \n",
       "  m_flow_sd_drop_neg m_flow_sd_rev_neg m_flow_mig_rate m_flow_da_min_open\n",
       "1    1                  1                 56              16             \n",
       "2  475                475               9997            2332             \n",
       "3 2079               2079              43666           13875             \n",
       "4  956                956              20090            6434             \n",
       "5   79                 79               1672             467             \n",
       "6    8                  8                193              45             \n",
       "  m_flow_da_min_closed m_flow_da_pb_closed\n",
       "1   105                 2224              \n",
       "2     0                10767              \n",
       "3 53604                84213              \n",
       "4  5516                49532              \n",
       "5   156                 3048              \n",
       "6   126                 1559              "
      ]
     },
     "metadata": {},
     "output_type": "display_data"
    }
   ],
   "source": [
    "official_dataset <- merge(official_dataset, migration_flow)\n",
    "\n",
    "head(official_dataset)"
   ]
  },
  {
   "cell_type": "code",
   "execution_count": 26,
   "metadata": {},
   "outputs": [
    {
     "data": {
      "text/html": [
       "<style>\n",
       ".list-inline {list-style: none; margin:0; padding: 0}\n",
       ".list-inline>li {display: inline-block}\n",
       ".list-inline>li:not(:last-child)::after {content: \"\\00b7\"; padding: 0 .5ex}\n",
       "</style>\n",
       "<ol class=list-inline><li>240</li><li>34</li></ol>\n"
      ],
      "text/latex": [
       "\\begin{enumerate*}\n",
       "\\item 240\n",
       "\\item 34\n",
       "\\end{enumerate*}\n"
      ],
      "text/markdown": [
       "1. 240\n",
       "2. 34\n",
       "\n",
       "\n"
      ],
      "text/plain": [
       "[1] 240  34"
      ]
     },
     "metadata": {},
     "output_type": "display_data"
    }
   ],
   "source": [
    "dim(official_dataset)"
   ]
  },
  {
   "cell_type": "markdown",
   "metadata": {},
   "source": [
    "## WVS\n",
    "### Datasource: [WVS (2020)](https://www.worldvaluessurvey.org/wvs.jsp)\n",
    "\n"
   ]
  },
  {
   "cell_type": "code",
   "execution_count": 27,
   "metadata": {},
   "outputs": [
    {
     "data": {
      "text/html": [
       "<table class=\"dataframe\">\n",
       "<caption>A tibble: 6 × 3</caption>\n",
       "<thead>\n",
       "\t<tr><th scope=col>origin</th><th scope=col>destination</th><th scope=col>CS_wvs</th></tr>\n",
       "\t<tr><th scope=col>&lt;chr&gt;</th><th scope=col>&lt;chr&gt;</th><th scope=col>&lt;dbl&gt;</th></tr>\n",
       "</thead>\n",
       "<tbody>\n",
       "\t<tr><td>Argentina</td><td>Argentina    </td><td> 1.0000000</td></tr>\n",
       "\t<tr><td>Argentina</td><td>Australia    </td><td> 0.2579213</td></tr>\n",
       "\t<tr><td>Argentina</td><td>Brazil       </td><td> 0.7688173</td></tr>\n",
       "\t<tr><td>Argentina</td><td>Chile        </td><td>-0.9899189</td></tr>\n",
       "\t<tr><td>Argentina</td><td>France       </td><td> 0.1697698</td></tr>\n",
       "\t<tr><td>Argentina</td><td>Great Britain</td><td> 0.3229716</td></tr>\n",
       "</tbody>\n",
       "</table>\n"
      ],
      "text/latex": [
       "A tibble: 6 × 3\n",
       "\\begin{tabular}{lll}\n",
       " origin & destination & CS\\_wvs\\\\\n",
       " <chr> & <chr> & <dbl>\\\\\n",
       "\\hline\n",
       "\t Argentina & Argentina     &  1.0000000\\\\\n",
       "\t Argentina & Australia     &  0.2579213\\\\\n",
       "\t Argentina & Brazil        &  0.7688173\\\\\n",
       "\t Argentina & Chile         & -0.9899189\\\\\n",
       "\t Argentina & France        &  0.1697698\\\\\n",
       "\t Argentina & Great Britain &  0.3229716\\\\\n",
       "\\end{tabular}\n"
      ],
      "text/markdown": [
       "\n",
       "A tibble: 6 × 3\n",
       "\n",
       "| origin &lt;chr&gt; | destination &lt;chr&gt; | CS_wvs &lt;dbl&gt; |\n",
       "|---|---|---|\n",
       "| Argentina | Argentina     |  1.0000000 |\n",
       "| Argentina | Australia     |  0.2579213 |\n",
       "| Argentina | Brazil        |  0.7688173 |\n",
       "| Argentina | Chile         | -0.9899189 |\n",
       "| Argentina | France        |  0.1697698 |\n",
       "| Argentina | Great Britain |  0.3229716 |\n",
       "\n"
      ],
      "text/plain": [
       "  origin    destination   CS_wvs    \n",
       "1 Argentina Argentina      1.0000000\n",
       "2 Argentina Australia      0.2579213\n",
       "3 Argentina Brazil         0.7688173\n",
       "4 Argentina Chile         -0.9899189\n",
       "5 Argentina France         0.1697698\n",
       "6 Argentina Great Britain  0.3229716"
      ]
     },
     "metadata": {},
     "output_type": "display_data"
    }
   ],
   "source": [
    "wvs <- read.csv(\"data/subset-wvs-wave7-2020.csv\")\n",
    "\n",
    "wvs_cosine <- as.data.frame(cosine(t(as.matrix(wvs[,2:3]))))\n",
    "colnames(wvs_cosine) <- wvs$country\n",
    "wvs_cosine[\"origin\"] <- wvs$country\n",
    "\n",
    "\n",
    "wvs_cosine_longer <- pivot_longer(wvs_cosine, -c(\"origin\"), values_to = \"CS_wvs\", names_to = \"destination\")\n",
    "head(wvs_cosine_longer)"
   ]
  },
  {
   "cell_type": "markdown",
   "metadata": {},
   "source": [
    "## Foursquare\n",
    "### Datasource: [You Are What You Eat (and Drink): Identifying Cultural Boundaries by Analyzing Food and Drink Habits in Foursquare. Thiago H. Silva, Pedro O. S. Vaz de Melo, Jussara M. Almeida, Mirco Musolesi, Antonio A. F. Loureiro (2014)](https://www.aaai.org/ocs/index.php/ICWSM/ICWSM14/paper/viewPaper/8113)\n",
    "\n"
   ]
  },
  {
   "cell_type": "code",
   "execution_count": 28,
   "metadata": {},
   "outputs": [
    {
     "data": {
      "text/html": [
       "<table class=\"dataframe\">\n",
       "<caption>A tibble: 6 × 3</caption>\n",
       "<thead>\n",
       "\t<tr><th scope=col>origin</th><th scope=col>destination</th><th scope=col>CS_foursquare</th></tr>\n",
       "\t<tr><th scope=col>&lt;chr&gt;</th><th scope=col>&lt;chr&gt;</th><th scope=col>&lt;dbl&gt;</th></tr>\n",
       "</thead>\n",
       "<tbody>\n",
       "\t<tr><td>Argentina</td><td>Argentina    </td><td>1.0000000</td></tr>\n",
       "\t<tr><td>Argentina</td><td>Australia    </td><td>0.1005334</td></tr>\n",
       "\t<tr><td>Argentina</td><td>Brazil       </td><td>0.8402622</td></tr>\n",
       "\t<tr><td>Argentina</td><td>Chile        </td><td>0.9548769</td></tr>\n",
       "\t<tr><td>Argentina</td><td>France       </td><td>0.8741573</td></tr>\n",
       "\t<tr><td>Argentina</td><td>Great Britain</td><td>0.6263188</td></tr>\n",
       "</tbody>\n",
       "</table>\n"
      ],
      "text/latex": [
       "A tibble: 6 × 3\n",
       "\\begin{tabular}{lll}\n",
       " origin & destination & CS\\_foursquare\\\\\n",
       " <chr> & <chr> & <dbl>\\\\\n",
       "\\hline\n",
       "\t Argentina & Argentina     & 1.0000000\\\\\n",
       "\t Argentina & Australia     & 0.1005334\\\\\n",
       "\t Argentina & Brazil        & 0.8402622\\\\\n",
       "\t Argentina & Chile         & 0.9548769\\\\\n",
       "\t Argentina & France        & 0.8741573\\\\\n",
       "\t Argentina & Great Britain & 0.6263188\\\\\n",
       "\\end{tabular}\n"
      ],
      "text/markdown": [
       "\n",
       "A tibble: 6 × 3\n",
       "\n",
       "| origin &lt;chr&gt; | destination &lt;chr&gt; | CS_foursquare &lt;dbl&gt; |\n",
       "|---|---|---|\n",
       "| Argentina | Argentina     | 1.0000000 |\n",
       "| Argentina | Australia     | 0.1005334 |\n",
       "| Argentina | Brazil        | 0.8402622 |\n",
       "| Argentina | Chile         | 0.9548769 |\n",
       "| Argentina | France        | 0.8741573 |\n",
       "| Argentina | Great Britain | 0.6263188 |\n",
       "\n"
      ],
      "text/plain": [
       "  origin    destination   CS_foursquare\n",
       "1 Argentina Argentina     1.0000000    \n",
       "2 Argentina Australia     0.1005334    \n",
       "3 Argentina Brazil        0.8402622    \n",
       "4 Argentina Chile         0.9548769    \n",
       "5 Argentina France        0.8741573    \n",
       "6 Argentina Great Britain 0.6263188    "
      ]
     },
     "metadata": {},
     "output_type": "display_data"
    }
   ],
   "source": [
    "foursquare <- read.csv(\"data/foursquare.csv\")\n",
    "\n",
    "foursquare_cosine <- as.data.frame(cosine(t(as.matrix(foursquare[,2:3]))))\n",
    "colnames(foursquare_cosine) <- foursquare$country\n",
    "foursquare_cosine[\"origin\"] <- foursquare$country\n",
    "\n",
    "\n",
    "foursquare_cosine_longer <- pivot_longer(foursquare_cosine, -c(\"origin\"), values_to = \"CS_foursquare\", names_to = \"destination\")\n",
    "head(foursquare_cosine_longer)"
   ]
  },
  {
   "cell_type": "code",
   "execution_count": 29,
   "metadata": {},
   "outputs": [
    {
     "data": {
      "text/html": [
       "<table class=\"dataframe\">\n",
       "<caption>A data.frame: 6 × 36</caption>\n",
       "<thead>\n",
       "\t<tr><th></th><th scope=col>destination</th><th scope=col>origin</th><th scope=col>iso_d</th><th scope=col>iso_o</th><th scope=col>col</th><th scope=col>csl</th><th scope=col>cnl</th><th scope=col>prox1</th><th scope=col>lp1</th><th scope=col>prox2</th><th scope=col>...</th><th scope=col>GDP_d</th><th scope=col>m_stock</th><th scope=col>m_flow_sd_drop_neg</th><th scope=col>m_flow_sd_rev_neg</th><th scope=col>m_flow_mig_rate</th><th scope=col>m_flow_da_min_open</th><th scope=col>m_flow_da_min_closed</th><th scope=col>m_flow_da_pb_closed</th><th scope=col>CS_wvs</th><th scope=col>CS_foursquare</th></tr>\n",
       "\t<tr><th></th><th scope=col>&lt;chr&gt;</th><th scope=col>&lt;chr&gt;</th><th scope=col>&lt;chr&gt;</th><th scope=col>&lt;chr&gt;</th><th scope=col>&lt;int&gt;</th><th scope=col>&lt;dbl&gt;</th><th scope=col>&lt;dbl&gt;</th><th scope=col>&lt;dbl&gt;</th><th scope=col>&lt;dbl&gt;</th><th scope=col>&lt;dbl&gt;</th><th scope=col>...</th><th scope=col>&lt;dbl&gt;</th><th scope=col>&lt;int&gt;</th><th scope=col>&lt;int&gt;</th><th scope=col>&lt;int&gt;</th><th scope=col>&lt;int&gt;</th><th scope=col>&lt;int&gt;</th><th scope=col>&lt;int&gt;</th><th scope=col>&lt;int&gt;</th><th scope=col>&lt;dbl&gt;</th><th scope=col>&lt;dbl&gt;</th></tr>\n",
       "</thead>\n",
       "<tbody>\n",
       "\t<tr><th scope=row>1</th><td>Argentina</td><td>Australia    </td><td>ARG</td><td>AUS</td><td>0</td><td>0.02058416</td><td>0.00080000</td><td>0.25</td><td>1.945866</td><td>0.13052547</td><td>...</td><td>437813398163</td><td>   279</td><td>   1</td><td>   1</td><td>   56</td><td>   16</td><td>  105</td><td> 2224</td><td> 0.2579213</td><td> 0.1005334</td></tr>\n",
       "\t<tr><th scope=row>2</th><td>Argentina</td><td>Brazil       </td><td>ARG</td><td>BRA</td><td>0</td><td>0.06052872</td><td>0.00080000</td><td>0.75</td><td>5.837599</td><td>0.42439765</td><td>...</td><td>437813398163</td><td> 49647</td><td> 475</td><td> 475</td><td> 9997</td><td> 2332</td><td>    0</td><td>10767</td><td> 0.7688173</td><td> 0.8402622</td></tr>\n",
       "\t<tr><th scope=row>3</th><td>Argentina</td><td>Chile        </td><td>ARG</td><td>CHL</td><td>1</td><td>0.98010004</td><td>0.85439998</td><td>0.00</td><td>0.000000</td><td>0.00000000</td><td>...</td><td>437813398163</td><td>216855</td><td>2079</td><td>2079</td><td>43666</td><td>13875</td><td>53604</td><td>84213</td><td>-0.9899189</td><td> 0.9548769</td></tr>\n",
       "\t<tr><th scope=row>4</th><td>Argentina</td><td>France       </td><td>ARG</td><td>FRA</td><td>0</td><td>0.13392781</td><td>0.01039232</td><td>0.50</td><td>3.891733</td><td>0.25450581</td><td>...</td><td>437813398163</td><td>  8303</td><td>  79</td><td>  79</td><td> 1672</td><td>  467</td><td>  156</td><td> 3048</td><td> 0.1697698</td><td> 0.8741573</td></tr>\n",
       "\t<tr><th scope=row>5</th><td>Argentina</td><td>Great Britain</td><td>ARG</td><td>GBR</td><td>0</td><td>0.08325152</td><td>0.00000000</td><td>0.25</td><td>1.945866</td><td>0.13052547</td><td>...</td><td>437813398163</td><td>   959</td><td>   8</td><td>   8</td><td>  193</td><td>   45</td><td>  126</td><td> 1559</td><td> 0.3229716</td><td> 0.6263188</td></tr>\n",
       "\t<tr><th scope=row>6</th><td>Argentina</td><td>Indonesia    </td><td>ARG</td><td>IDN</td><td>0</td><td>0.00000000</td><td>0.00000000</td><td>0.00</td><td>0.000000</td><td>0.07436915</td><td>...</td><td>437813398163</td><td>    21</td><td>   0</td><td>   0</td><td>    4</td><td>    1</td><td>    4</td><td>    7</td><td> 0.4656905</td><td>-0.8793284</td></tr>\n",
       "</tbody>\n",
       "</table>\n"
      ],
      "text/latex": [
       "A data.frame: 6 × 36\n",
       "\\begin{tabular}{r|lllllllllllllllllllll}\n",
       "  & destination & origin & iso\\_d & iso\\_o & col & csl & cnl & prox1 & lp1 & prox2 & ... & GDP\\_d & m\\_stock & m\\_flow\\_sd\\_drop\\_neg & m\\_flow\\_sd\\_rev\\_neg & m\\_flow\\_mig\\_rate & m\\_flow\\_da\\_min\\_open & m\\_flow\\_da\\_min\\_closed & m\\_flow\\_da\\_pb\\_closed & CS\\_wvs & CS\\_foursquare\\\\\n",
       "  & <chr> & <chr> & <chr> & <chr> & <int> & <dbl> & <dbl> & <dbl> & <dbl> & <dbl> & ... & <dbl> & <int> & <int> & <int> & <int> & <int> & <int> & <int> & <dbl> & <dbl>\\\\\n",
       "\\hline\n",
       "\t1 & Argentina & Australia     & ARG & AUS & 0 & 0.02058416 & 0.00080000 & 0.25 & 1.945866 & 0.13052547 & ... & 437813398163 &    279 &    1 &    1 &    56 &    16 &   105 &  2224 &  0.2579213 &  0.1005334\\\\\n",
       "\t2 & Argentina & Brazil        & ARG & BRA & 0 & 0.06052872 & 0.00080000 & 0.75 & 5.837599 & 0.42439765 & ... & 437813398163 &  49647 &  475 &  475 &  9997 &  2332 &     0 & 10767 &  0.7688173 &  0.8402622\\\\\n",
       "\t3 & Argentina & Chile         & ARG & CHL & 1 & 0.98010004 & 0.85439998 & 0.00 & 0.000000 & 0.00000000 & ... & 437813398163 & 216855 & 2079 & 2079 & 43666 & 13875 & 53604 & 84213 & -0.9899189 &  0.9548769\\\\\n",
       "\t4 & Argentina & France        & ARG & FRA & 0 & 0.13392781 & 0.01039232 & 0.50 & 3.891733 & 0.25450581 & ... & 437813398163 &   8303 &   79 &   79 &  1672 &   467 &   156 &  3048 &  0.1697698 &  0.8741573\\\\\n",
       "\t5 & Argentina & Great Britain & ARG & GBR & 0 & 0.08325152 & 0.00000000 & 0.25 & 1.945866 & 0.13052547 & ... & 437813398163 &    959 &    8 &    8 &   193 &    45 &   126 &  1559 &  0.3229716 &  0.6263188\\\\\n",
       "\t6 & Argentina & Indonesia     & ARG & IDN & 0 & 0.00000000 & 0.00000000 & 0.00 & 0.000000 & 0.07436915 & ... & 437813398163 &     21 &    0 &    0 &     4 &     1 &     4 &     7 &  0.4656905 & -0.8793284\\\\\n",
       "\\end{tabular}\n"
      ],
      "text/markdown": [
       "\n",
       "A data.frame: 6 × 36\n",
       "\n",
       "| <!--/--> | destination &lt;chr&gt; | origin &lt;chr&gt; | iso_d &lt;chr&gt; | iso_o &lt;chr&gt; | col &lt;int&gt; | csl &lt;dbl&gt; | cnl &lt;dbl&gt; | prox1 &lt;dbl&gt; | lp1 &lt;dbl&gt; | prox2 &lt;dbl&gt; | ... ... | GDP_d &lt;dbl&gt; | m_stock &lt;int&gt; | m_flow_sd_drop_neg &lt;int&gt; | m_flow_sd_rev_neg &lt;int&gt; | m_flow_mig_rate &lt;int&gt; | m_flow_da_min_open &lt;int&gt; | m_flow_da_min_closed &lt;int&gt; | m_flow_da_pb_closed &lt;int&gt; | CS_wvs &lt;dbl&gt; | CS_foursquare &lt;dbl&gt; |\n",
       "|---|---|---|---|---|---|---|---|---|---|---|---|---|---|---|---|---|---|---|---|---|---|\n",
       "| 1 | Argentina | Australia     | ARG | AUS | 0 | 0.02058416 | 0.00080000 | 0.25 | 1.945866 | 0.13052547 | ... | 437813398163 |    279 |    1 |    1 |    56 |    16 |   105 |  2224 |  0.2579213 |  0.1005334 |\n",
       "| 2 | Argentina | Brazil        | ARG | BRA | 0 | 0.06052872 | 0.00080000 | 0.75 | 5.837599 | 0.42439765 | ... | 437813398163 |  49647 |  475 |  475 |  9997 |  2332 |     0 | 10767 |  0.7688173 |  0.8402622 |\n",
       "| 3 | Argentina | Chile         | ARG | CHL | 1 | 0.98010004 | 0.85439998 | 0.00 | 0.000000 | 0.00000000 | ... | 437813398163 | 216855 | 2079 | 2079 | 43666 | 13875 | 53604 | 84213 | -0.9899189 |  0.9548769 |\n",
       "| 4 | Argentina | France        | ARG | FRA | 0 | 0.13392781 | 0.01039232 | 0.50 | 3.891733 | 0.25450581 | ... | 437813398163 |   8303 |   79 |   79 |  1672 |   467 |   156 |  3048 |  0.1697698 |  0.8741573 |\n",
       "| 5 | Argentina | Great Britain | ARG | GBR | 0 | 0.08325152 | 0.00000000 | 0.25 | 1.945866 | 0.13052547 | ... | 437813398163 |    959 |    8 |    8 |   193 |    45 |   126 |  1559 |  0.3229716 |  0.6263188 |\n",
       "| 6 | Argentina | Indonesia     | ARG | IDN | 0 | 0.00000000 | 0.00000000 | 0.00 | 0.000000 | 0.07436915 | ... | 437813398163 |     21 |    0 |    0 |     4 |     1 |     4 |     7 |  0.4656905 | -0.8793284 |\n",
       "\n"
      ],
      "text/plain": [
       "  destination origin        iso_d iso_o col csl        cnl        prox1\n",
       "1 Argentina   Australia     ARG   AUS   0   0.02058416 0.00080000 0.25 \n",
       "2 Argentina   Brazil        ARG   BRA   0   0.06052872 0.00080000 0.75 \n",
       "3 Argentina   Chile         ARG   CHL   1   0.98010004 0.85439998 0.00 \n",
       "4 Argentina   France        ARG   FRA   0   0.13392781 0.01039232 0.50 \n",
       "5 Argentina   Great Britain ARG   GBR   0   0.08325152 0.00000000 0.25 \n",
       "6 Argentina   Indonesia     ARG   IDN   0   0.00000000 0.00000000 0.00 \n",
       "  lp1      prox2      ... GDP_d        m_stock m_flow_sd_drop_neg\n",
       "1 1.945866 0.13052547 ... 437813398163    279     1              \n",
       "2 5.837599 0.42439765 ... 437813398163  49647   475              \n",
       "3 0.000000 0.00000000 ... 437813398163 216855  2079              \n",
       "4 3.891733 0.25450581 ... 437813398163   8303    79              \n",
       "5 1.945866 0.13052547 ... 437813398163    959     8              \n",
       "6 0.000000 0.07436915 ... 437813398163     21     0              \n",
       "  m_flow_sd_rev_neg m_flow_mig_rate m_flow_da_min_open m_flow_da_min_closed\n",
       "1    1                 56              16                105               \n",
       "2  475               9997            2332                  0               \n",
       "3 2079              43666           13875              53604               \n",
       "4   79               1672             467                156               \n",
       "5    8                193              45                126               \n",
       "6    0                  4               1                  4               \n",
       "  m_flow_da_pb_closed CS_wvs     CS_foursquare\n",
       "1  2224                0.2579213  0.1005334   \n",
       "2 10767                0.7688173  0.8402622   \n",
       "3 84213               -0.9899189  0.9548769   \n",
       "4  3048                0.1697698  0.8741573   \n",
       "5  1559                0.3229716  0.6263188   \n",
       "6     7                0.4656905 -0.8793284   "
      ]
     },
     "metadata": {},
     "output_type": "display_data"
    }
   ],
   "source": [
    "official_dataset <- merge(official_dataset, wvs_cosine_longer)\n",
    "official_dataset <- merge(official_dataset, foursquare_cosine_longer)\n",
    "\n",
    "head(official_dataset)"
   ]
  },
  {
   "cell_type": "code",
   "execution_count": 30,
   "metadata": {},
   "outputs": [
    {
     "data": {
      "text/html": [
       "<style>\n",
       ".list-inline {list-style: none; margin:0; padding: 0}\n",
       ".list-inline>li {display: inline-block}\n",
       ".list-inline>li:not(:last-child)::after {content: \"\\00b7\"; padding: 0 .5ex}\n",
       "</style>\n",
       "<ol class=list-inline><li>240</li><li>36</li></ol>\n"
      ],
      "text/latex": [
       "\\begin{enumerate*}\n",
       "\\item 240\n",
       "\\item 36\n",
       "\\end{enumerate*}\n"
      ],
      "text/markdown": [
       "1. 240\n",
       "2. 36\n",
       "\n",
       "\n"
      ],
      "text/plain": [
       "[1] 240  36"
      ]
     },
     "metadata": {},
     "output_type": "display_data"
    }
   ],
   "source": [
    "dim(official_dataset)"
   ]
  },
  {
   "cell_type": "code",
   "execution_count": 31,
   "metadata": {},
   "outputs": [],
   "source": [
    "write_csv(official_dataset, \"data/subset-official-dataset.csv\")"
   ]
  },
  {
   "cell_type": "markdown",
   "metadata": {},
   "source": [
    "## Cultural Similarity "
   ]
  },
  {
   "cell_type": "markdown",
   "metadata": {},
   "source": [
    "#### symmetric:   \n",
    "\n",
    "each country is represented by a vector corresponding to the top (almost) <b>400 dishes</b> (top 50 dishes in all the countries)"
   ]
  },
  {
   "cell_type": "markdown",
   "metadata": {},
   "source": [
    "![CD](figs/heatmap-similarity-symmetric-tops-topK-cosine-reds.png)"
   ]
  },
  {
   "cell_type": "code",
   "execution_count": 32,
   "metadata": {},
   "outputs": [
    {
     "name": "stderr",
     "output_type": "stream",
     "text": [
      "\u001b[1m\u001b[22mNew names:\n",
      "\u001b[36m*\u001b[39m `` -> `...1`\n"
     ]
    }
   ],
   "source": [
    "cd_sym <- read_csv(\"data/FB-food-cultural_similarity-symmetric.csv\", col_types = cols())\n",
    "colnames(cd_sym)[1] <- \"interests_from\""
   ]
  },
  {
   "cell_type": "code",
   "execution_count": 33,
   "metadata": {},
   "outputs": [
    {
     "data": {
      "text/html": [
       "<table class=\"dataframe\">\n",
       "<caption>A spec_tbl_df: 16 × 17</caption>\n",
       "<thead>\n",
       "\t<tr><th scope=col>interests_from</th><th scope=col>Argentina</th><th scope=col>Australia</th><th scope=col>Brazil</th><th scope=col>Chile</th><th scope=col>France</th><th scope=col>Great Britain</th><th scope=col>Indonesia</th><th scope=col>Japan</th><th scope=col>Malaysia</th><th scope=col>Mexico</th><th scope=col>Russia</th><th scope=col>Singapore</th><th scope=col>South Korea</th><th scope=col>Spain</th><th scope=col>Turkey</th><th scope=col>United States</th></tr>\n",
       "\t<tr><th scope=col>&lt;chr&gt;</th><th scope=col>&lt;dbl&gt;</th><th scope=col>&lt;dbl&gt;</th><th scope=col>&lt;dbl&gt;</th><th scope=col>&lt;dbl&gt;</th><th scope=col>&lt;dbl&gt;</th><th scope=col>&lt;dbl&gt;</th><th scope=col>&lt;dbl&gt;</th><th scope=col>&lt;dbl&gt;</th><th scope=col>&lt;dbl&gt;</th><th scope=col>&lt;dbl&gt;</th><th scope=col>&lt;dbl&gt;</th><th scope=col>&lt;dbl&gt;</th><th scope=col>&lt;dbl&gt;</th><th scope=col>&lt;dbl&gt;</th><th scope=col>&lt;dbl&gt;</th><th scope=col>&lt;dbl&gt;</th></tr>\n",
       "</thead>\n",
       "<tbody>\n",
       "\t<tr><td>Argentina    </td><td> 1.00000000</td><td>-0.1143361</td><td> 0.176917369</td><td> 0.39391861</td><td>-0.061345090</td><td>-0.1691530891</td><td>-0.19920772</td><td>-0.224371502</td><td>-0.28997372</td><td> 0.27235146</td><td>-0.08055443</td><td>-0.2096671516</td><td>-0.20142284</td><td> 0.163591513</td><td>-0.09868350</td><td>-0.12580614</td></tr>\n",
       "\t<tr><td>Australia    </td><td>-0.11433611</td><td> 1.0000000</td><td>-0.183166299</td><td>-0.21693946</td><td>-0.181528839</td><td> 0.3272786581</td><td>-0.42124163</td><td>-0.369408331</td><td> 0.18000864</td><td>-0.19258554</td><td>-0.48793018</td><td> 0.2374988871</td><td>-0.24214879</td><td>-0.213543938</td><td>-0.27776537</td><td> 0.45026896</td></tr>\n",
       "\t<tr><td>Brazil       </td><td> 0.17691737</td><td>-0.1831663</td><td> 1.000000000</td><td> 0.12196555</td><td>-0.009614683</td><td>-0.0914496937</td><td> 0.01228442</td><td> 0.040389545</td><td>-0.27893278</td><td>-0.02383473</td><td> 0.10240044</td><td>-0.2598915766</td><td>-0.08731596</td><td> 0.072308406</td><td>-0.03172250</td><td>-0.19253817</td></tr>\n",
       "\t<tr><td>Chile        </td><td> 0.39391861</td><td>-0.2169395</td><td> 0.121965552</td><td> 1.00000000</td><td>-0.036574753</td><td>-0.1427083922</td><td>-0.12930396</td><td>-0.085777299</td><td>-0.32750818</td><td> 0.34784223</td><td>-0.01501271</td><td>-0.2553625404</td><td>-0.20503456</td><td> 0.194458741</td><td>-0.07814615</td><td>-0.14241346</td></tr>\n",
       "\t<tr><td>France       </td><td>-0.06134509</td><td>-0.1815288</td><td>-0.009614683</td><td>-0.03657475</td><td> 1.000000000</td><td>-0.0164551200</td><td> 0.02915838</td><td> 0.097488102</td><td>-0.29143959</td><td>-0.10030008</td><td> 0.24466473</td><td>-0.2547247320</td><td>-0.12086619</td><td> 0.232377125</td><td> 0.13634094</td><td>-0.14248141</td></tr>\n",
       "\t<tr><td>Great Britain</td><td>-0.16915309</td><td> 0.3272787</td><td>-0.091449694</td><td>-0.14270839</td><td>-0.016455120</td><td> 1.0000000000</td><td>-0.23383791</td><td>-0.197735569</td><td>-0.06866661</td><td>-0.20550659</td><td>-0.16012196</td><td> 0.0005845629</td><td>-0.15262230</td><td>-0.037024527</td><td>-0.16732636</td><td> 0.23801647</td></tr>\n",
       "\t<tr><td>Indonesia    </td><td>-0.19920772</td><td>-0.4212416</td><td> 0.012284416</td><td>-0.12930396</td><td> 0.029158377</td><td>-0.2338379149</td><td> 1.00000000</td><td> 0.364092614</td><td>-0.02878002</td><td>-0.15926308</td><td> 0.53888907</td><td>-0.2344010923</td><td> 0.16082520</td><td>-0.051447082</td><td> 0.20489202</td><td>-0.31442787</td></tr>\n",
       "\t<tr><td>Japan        </td><td>-0.22437150</td><td>-0.3694083</td><td> 0.040389545</td><td>-0.08577730</td><td> 0.097488102</td><td>-0.1977355688</td><td> 0.36409261</td><td> 1.000000000</td><td>-0.26822899</td><td>-0.17332967</td><td> 0.47569199</td><td>-0.1261969938</td><td> 0.21536567</td><td>-0.006820021</td><td> 0.20586957</td><td>-0.29936526</td></tr>\n",
       "\t<tr><td>Malaysia     </td><td>-0.28997372</td><td> 0.1800086</td><td>-0.278932779</td><td>-0.32750818</td><td>-0.291439588</td><td>-0.0686666064</td><td>-0.02878002</td><td>-0.268228986</td><td> 1.00000000</td><td>-0.20696652</td><td>-0.44061942</td><td> 0.5102216287</td><td> 0.01868495</td><td>-0.348760866</td><td>-0.21755477</td><td> 0.03649500</td></tr>\n",
       "\t<tr><td>Mexico       </td><td> 0.27235146</td><td>-0.1925855</td><td>-0.023834733</td><td> 0.34784223</td><td>-0.100300082</td><td>-0.2055065851</td><td>-0.15926308</td><td>-0.173329675</td><td>-0.20696652</td><td> 1.00000000</td><td>-0.11925075</td><td>-0.2090205572</td><td>-0.10892951</td><td> 0.060798588</td><td>-0.12028220</td><td>-0.01181777</td></tr>\n",
       "\t<tr><td>Russia       </td><td>-0.08055443</td><td>-0.4879302</td><td> 0.102400443</td><td>-0.01501271</td><td> 0.244664725</td><td>-0.1601219565</td><td> 0.53888907</td><td> 0.475691991</td><td>-0.44061942</td><td>-0.11925075</td><td> 1.00000000</td><td>-0.4023793330</td><td> 0.11356467</td><td> 0.122625416</td><td> 0.37231640</td><td>-0.33429288</td></tr>\n",
       "\t<tr><td>Singapore    </td><td>-0.20966715</td><td> 0.2374989</td><td>-0.259891577</td><td>-0.25536254</td><td>-0.254724732</td><td> 0.0005845629</td><td>-0.23440109</td><td>-0.126196994</td><td> 0.51022163</td><td>-0.20902056</td><td>-0.40237933</td><td> 1.0000000000</td><td>-0.03057545</td><td>-0.307915602</td><td>-0.29004801</td><td> 0.05968710</td></tr>\n",
       "\t<tr><td>South Korea  </td><td>-0.20142284</td><td>-0.2421488</td><td>-0.087315962</td><td>-0.20503456</td><td>-0.120866190</td><td>-0.1526223047</td><td> 0.16082520</td><td> 0.215365669</td><td> 0.01868495</td><td>-0.10892951</td><td> 0.11356467</td><td>-0.0305754518</td><td> 1.00000000</td><td>-0.157734352</td><td>-0.02530489</td><td>-0.17952300</td></tr>\n",
       "\t<tr><td>Spain        </td><td> 0.16359151</td><td>-0.2135439</td><td> 0.072308406</td><td> 0.19445874</td><td> 0.232377125</td><td>-0.0370245268</td><td>-0.05144708</td><td>-0.006820021</td><td>-0.34876087</td><td> 0.06079859</td><td> 0.12262542</td><td>-0.3079156019</td><td>-0.15773435</td><td> 1.000000000</td><td> 0.06365414</td><td>-0.22424408</td></tr>\n",
       "\t<tr><td>Turkey       </td><td>-0.09868350</td><td>-0.2777654</td><td>-0.031722502</td><td>-0.07814615</td><td> 0.136340940</td><td>-0.1673263566</td><td> 0.20489202</td><td> 0.205869569</td><td>-0.21755477</td><td>-0.12028220</td><td> 0.37231640</td><td>-0.2900480057</td><td>-0.02530489</td><td> 0.063654138</td><td> 1.00000000</td><td>-0.28983602</td></tr>\n",
       "\t<tr><td>United States</td><td>-0.12580614</td><td> 0.4502690</td><td>-0.192538169</td><td>-0.14241346</td><td>-0.142481415</td><td> 0.2380164696</td><td>-0.31442787</td><td>-0.299365264</td><td> 0.03649500</td><td>-0.01181777</td><td>-0.33429288</td><td> 0.0596871000</td><td>-0.17952300</td><td>-0.224244082</td><td>-0.28983602</td><td> 1.00000000</td></tr>\n",
       "</tbody>\n",
       "</table>\n"
      ],
      "text/latex": [
       "A spec\\_tbl\\_df: 16 × 17\n",
       "\\begin{tabular}{lllllllllllllllll}\n",
       " interests\\_from & Argentina & Australia & Brazil & Chile & France & Great Britain & Indonesia & Japan & Malaysia & Mexico & Russia & Singapore & South Korea & Spain & Turkey & United States\\\\\n",
       " <chr> & <dbl> & <dbl> & <dbl> & <dbl> & <dbl> & <dbl> & <dbl> & <dbl> & <dbl> & <dbl> & <dbl> & <dbl> & <dbl> & <dbl> & <dbl> & <dbl>\\\\\n",
       "\\hline\n",
       "\t Argentina     &  1.00000000 & -0.1143361 &  0.176917369 &  0.39391861 & -0.061345090 & -0.1691530891 & -0.19920772 & -0.224371502 & -0.28997372 &  0.27235146 & -0.08055443 & -0.2096671516 & -0.20142284 &  0.163591513 & -0.09868350 & -0.12580614\\\\\n",
       "\t Australia     & -0.11433611 &  1.0000000 & -0.183166299 & -0.21693946 & -0.181528839 &  0.3272786581 & -0.42124163 & -0.369408331 &  0.18000864 & -0.19258554 & -0.48793018 &  0.2374988871 & -0.24214879 & -0.213543938 & -0.27776537 &  0.45026896\\\\\n",
       "\t Brazil        &  0.17691737 & -0.1831663 &  1.000000000 &  0.12196555 & -0.009614683 & -0.0914496937 &  0.01228442 &  0.040389545 & -0.27893278 & -0.02383473 &  0.10240044 & -0.2598915766 & -0.08731596 &  0.072308406 & -0.03172250 & -0.19253817\\\\\n",
       "\t Chile         &  0.39391861 & -0.2169395 &  0.121965552 &  1.00000000 & -0.036574753 & -0.1427083922 & -0.12930396 & -0.085777299 & -0.32750818 &  0.34784223 & -0.01501271 & -0.2553625404 & -0.20503456 &  0.194458741 & -0.07814615 & -0.14241346\\\\\n",
       "\t France        & -0.06134509 & -0.1815288 & -0.009614683 & -0.03657475 &  1.000000000 & -0.0164551200 &  0.02915838 &  0.097488102 & -0.29143959 & -0.10030008 &  0.24466473 & -0.2547247320 & -0.12086619 &  0.232377125 &  0.13634094 & -0.14248141\\\\\n",
       "\t Great Britain & -0.16915309 &  0.3272787 & -0.091449694 & -0.14270839 & -0.016455120 &  1.0000000000 & -0.23383791 & -0.197735569 & -0.06866661 & -0.20550659 & -0.16012196 &  0.0005845629 & -0.15262230 & -0.037024527 & -0.16732636 &  0.23801647\\\\\n",
       "\t Indonesia     & -0.19920772 & -0.4212416 &  0.012284416 & -0.12930396 &  0.029158377 & -0.2338379149 &  1.00000000 &  0.364092614 & -0.02878002 & -0.15926308 &  0.53888907 & -0.2344010923 &  0.16082520 & -0.051447082 &  0.20489202 & -0.31442787\\\\\n",
       "\t Japan         & -0.22437150 & -0.3694083 &  0.040389545 & -0.08577730 &  0.097488102 & -0.1977355688 &  0.36409261 &  1.000000000 & -0.26822899 & -0.17332967 &  0.47569199 & -0.1261969938 &  0.21536567 & -0.006820021 &  0.20586957 & -0.29936526\\\\\n",
       "\t Malaysia      & -0.28997372 &  0.1800086 & -0.278932779 & -0.32750818 & -0.291439588 & -0.0686666064 & -0.02878002 & -0.268228986 &  1.00000000 & -0.20696652 & -0.44061942 &  0.5102216287 &  0.01868495 & -0.348760866 & -0.21755477 &  0.03649500\\\\\n",
       "\t Mexico        &  0.27235146 & -0.1925855 & -0.023834733 &  0.34784223 & -0.100300082 & -0.2055065851 & -0.15926308 & -0.173329675 & -0.20696652 &  1.00000000 & -0.11925075 & -0.2090205572 & -0.10892951 &  0.060798588 & -0.12028220 & -0.01181777\\\\\n",
       "\t Russia        & -0.08055443 & -0.4879302 &  0.102400443 & -0.01501271 &  0.244664725 & -0.1601219565 &  0.53888907 &  0.475691991 & -0.44061942 & -0.11925075 &  1.00000000 & -0.4023793330 &  0.11356467 &  0.122625416 &  0.37231640 & -0.33429288\\\\\n",
       "\t Singapore     & -0.20966715 &  0.2374989 & -0.259891577 & -0.25536254 & -0.254724732 &  0.0005845629 & -0.23440109 & -0.126196994 &  0.51022163 & -0.20902056 & -0.40237933 &  1.0000000000 & -0.03057545 & -0.307915602 & -0.29004801 &  0.05968710\\\\\n",
       "\t South Korea   & -0.20142284 & -0.2421488 & -0.087315962 & -0.20503456 & -0.120866190 & -0.1526223047 &  0.16082520 &  0.215365669 &  0.01868495 & -0.10892951 &  0.11356467 & -0.0305754518 &  1.00000000 & -0.157734352 & -0.02530489 & -0.17952300\\\\\n",
       "\t Spain         &  0.16359151 & -0.2135439 &  0.072308406 &  0.19445874 &  0.232377125 & -0.0370245268 & -0.05144708 & -0.006820021 & -0.34876087 &  0.06079859 &  0.12262542 & -0.3079156019 & -0.15773435 &  1.000000000 &  0.06365414 & -0.22424408\\\\\n",
       "\t Turkey        & -0.09868350 & -0.2777654 & -0.031722502 & -0.07814615 &  0.136340940 & -0.1673263566 &  0.20489202 &  0.205869569 & -0.21755477 & -0.12028220 &  0.37231640 & -0.2900480057 & -0.02530489 &  0.063654138 &  1.00000000 & -0.28983602\\\\\n",
       "\t United States & -0.12580614 &  0.4502690 & -0.192538169 & -0.14241346 & -0.142481415 &  0.2380164696 & -0.31442787 & -0.299365264 &  0.03649500 & -0.01181777 & -0.33429288 &  0.0596871000 & -0.17952300 & -0.224244082 & -0.28983602 &  1.00000000\\\\\n",
       "\\end{tabular}\n"
      ],
      "text/markdown": [
       "\n",
       "A spec_tbl_df: 16 × 17\n",
       "\n",
       "| interests_from &lt;chr&gt; | Argentina &lt;dbl&gt; | Australia &lt;dbl&gt; | Brazil &lt;dbl&gt; | Chile &lt;dbl&gt; | France &lt;dbl&gt; | Great Britain &lt;dbl&gt; | Indonesia &lt;dbl&gt; | Japan &lt;dbl&gt; | Malaysia &lt;dbl&gt; | Mexico &lt;dbl&gt; | Russia &lt;dbl&gt; | Singapore &lt;dbl&gt; | South Korea &lt;dbl&gt; | Spain &lt;dbl&gt; | Turkey &lt;dbl&gt; | United States &lt;dbl&gt; |\n",
       "|---|---|---|---|---|---|---|---|---|---|---|---|---|---|---|---|---|\n",
       "| Argentina     |  1.00000000 | -0.1143361 |  0.176917369 |  0.39391861 | -0.061345090 | -0.1691530891 | -0.19920772 | -0.224371502 | -0.28997372 |  0.27235146 | -0.08055443 | -0.2096671516 | -0.20142284 |  0.163591513 | -0.09868350 | -0.12580614 |\n",
       "| Australia     | -0.11433611 |  1.0000000 | -0.183166299 | -0.21693946 | -0.181528839 |  0.3272786581 | -0.42124163 | -0.369408331 |  0.18000864 | -0.19258554 | -0.48793018 |  0.2374988871 | -0.24214879 | -0.213543938 | -0.27776537 |  0.45026896 |\n",
       "| Brazil        |  0.17691737 | -0.1831663 |  1.000000000 |  0.12196555 | -0.009614683 | -0.0914496937 |  0.01228442 |  0.040389545 | -0.27893278 | -0.02383473 |  0.10240044 | -0.2598915766 | -0.08731596 |  0.072308406 | -0.03172250 | -0.19253817 |\n",
       "| Chile         |  0.39391861 | -0.2169395 |  0.121965552 |  1.00000000 | -0.036574753 | -0.1427083922 | -0.12930396 | -0.085777299 | -0.32750818 |  0.34784223 | -0.01501271 | -0.2553625404 | -0.20503456 |  0.194458741 | -0.07814615 | -0.14241346 |\n",
       "| France        | -0.06134509 | -0.1815288 | -0.009614683 | -0.03657475 |  1.000000000 | -0.0164551200 |  0.02915838 |  0.097488102 | -0.29143959 | -0.10030008 |  0.24466473 | -0.2547247320 | -0.12086619 |  0.232377125 |  0.13634094 | -0.14248141 |\n",
       "| Great Britain | -0.16915309 |  0.3272787 | -0.091449694 | -0.14270839 | -0.016455120 |  1.0000000000 | -0.23383791 | -0.197735569 | -0.06866661 | -0.20550659 | -0.16012196 |  0.0005845629 | -0.15262230 | -0.037024527 | -0.16732636 |  0.23801647 |\n",
       "| Indonesia     | -0.19920772 | -0.4212416 |  0.012284416 | -0.12930396 |  0.029158377 | -0.2338379149 |  1.00000000 |  0.364092614 | -0.02878002 | -0.15926308 |  0.53888907 | -0.2344010923 |  0.16082520 | -0.051447082 |  0.20489202 | -0.31442787 |\n",
       "| Japan         | -0.22437150 | -0.3694083 |  0.040389545 | -0.08577730 |  0.097488102 | -0.1977355688 |  0.36409261 |  1.000000000 | -0.26822899 | -0.17332967 |  0.47569199 | -0.1261969938 |  0.21536567 | -0.006820021 |  0.20586957 | -0.29936526 |\n",
       "| Malaysia      | -0.28997372 |  0.1800086 | -0.278932779 | -0.32750818 | -0.291439588 | -0.0686666064 | -0.02878002 | -0.268228986 |  1.00000000 | -0.20696652 | -0.44061942 |  0.5102216287 |  0.01868495 | -0.348760866 | -0.21755477 |  0.03649500 |\n",
       "| Mexico        |  0.27235146 | -0.1925855 | -0.023834733 |  0.34784223 | -0.100300082 | -0.2055065851 | -0.15926308 | -0.173329675 | -0.20696652 |  1.00000000 | -0.11925075 | -0.2090205572 | -0.10892951 |  0.060798588 | -0.12028220 | -0.01181777 |\n",
       "| Russia        | -0.08055443 | -0.4879302 |  0.102400443 | -0.01501271 |  0.244664725 | -0.1601219565 |  0.53888907 |  0.475691991 | -0.44061942 | -0.11925075 |  1.00000000 | -0.4023793330 |  0.11356467 |  0.122625416 |  0.37231640 | -0.33429288 |\n",
       "| Singapore     | -0.20966715 |  0.2374989 | -0.259891577 | -0.25536254 | -0.254724732 |  0.0005845629 | -0.23440109 | -0.126196994 |  0.51022163 | -0.20902056 | -0.40237933 |  1.0000000000 | -0.03057545 | -0.307915602 | -0.29004801 |  0.05968710 |\n",
       "| South Korea   | -0.20142284 | -0.2421488 | -0.087315962 | -0.20503456 | -0.120866190 | -0.1526223047 |  0.16082520 |  0.215365669 |  0.01868495 | -0.10892951 |  0.11356467 | -0.0305754518 |  1.00000000 | -0.157734352 | -0.02530489 | -0.17952300 |\n",
       "| Spain         |  0.16359151 | -0.2135439 |  0.072308406 |  0.19445874 |  0.232377125 | -0.0370245268 | -0.05144708 | -0.006820021 | -0.34876087 |  0.06079859 |  0.12262542 | -0.3079156019 | -0.15773435 |  1.000000000 |  0.06365414 | -0.22424408 |\n",
       "| Turkey        | -0.09868350 | -0.2777654 | -0.031722502 | -0.07814615 |  0.136340940 | -0.1673263566 |  0.20489202 |  0.205869569 | -0.21755477 | -0.12028220 |  0.37231640 | -0.2900480057 | -0.02530489 |  0.063654138 |  1.00000000 | -0.28983602 |\n",
       "| United States | -0.12580614 |  0.4502690 | -0.192538169 | -0.14241346 | -0.142481415 |  0.2380164696 | -0.31442787 | -0.299365264 |  0.03649500 | -0.01181777 | -0.33429288 |  0.0596871000 | -0.17952300 | -0.224244082 | -0.28983602 |  1.00000000 |\n",
       "\n"
      ],
      "text/plain": [
       "   interests_from Argentina   Australia  Brazil       Chile       France      \n",
       "1  Argentina       1.00000000 -0.1143361  0.176917369  0.39391861 -0.061345090\n",
       "2  Australia      -0.11433611  1.0000000 -0.183166299 -0.21693946 -0.181528839\n",
       "3  Brazil          0.17691737 -0.1831663  1.000000000  0.12196555 -0.009614683\n",
       "4  Chile           0.39391861 -0.2169395  0.121965552  1.00000000 -0.036574753\n",
       "5  France         -0.06134509 -0.1815288 -0.009614683 -0.03657475  1.000000000\n",
       "6  Great Britain  -0.16915309  0.3272787 -0.091449694 -0.14270839 -0.016455120\n",
       "7  Indonesia      -0.19920772 -0.4212416  0.012284416 -0.12930396  0.029158377\n",
       "8  Japan          -0.22437150 -0.3694083  0.040389545 -0.08577730  0.097488102\n",
       "9  Malaysia       -0.28997372  0.1800086 -0.278932779 -0.32750818 -0.291439588\n",
       "10 Mexico          0.27235146 -0.1925855 -0.023834733  0.34784223 -0.100300082\n",
       "11 Russia         -0.08055443 -0.4879302  0.102400443 -0.01501271  0.244664725\n",
       "12 Singapore      -0.20966715  0.2374989 -0.259891577 -0.25536254 -0.254724732\n",
       "13 South Korea    -0.20142284 -0.2421488 -0.087315962 -0.20503456 -0.120866190\n",
       "14 Spain           0.16359151 -0.2135439  0.072308406  0.19445874  0.232377125\n",
       "15 Turkey         -0.09868350 -0.2777654 -0.031722502 -0.07814615  0.136340940\n",
       "16 United States  -0.12580614  0.4502690 -0.192538169 -0.14241346 -0.142481415\n",
       "   Great Britain Indonesia   Japan        Malaysia    Mexico      Russia     \n",
       "1  -0.1691530891 -0.19920772 -0.224371502 -0.28997372  0.27235146 -0.08055443\n",
       "2   0.3272786581 -0.42124163 -0.369408331  0.18000864 -0.19258554 -0.48793018\n",
       "3  -0.0914496937  0.01228442  0.040389545 -0.27893278 -0.02383473  0.10240044\n",
       "4  -0.1427083922 -0.12930396 -0.085777299 -0.32750818  0.34784223 -0.01501271\n",
       "5  -0.0164551200  0.02915838  0.097488102 -0.29143959 -0.10030008  0.24466473\n",
       "6   1.0000000000 -0.23383791 -0.197735569 -0.06866661 -0.20550659 -0.16012196\n",
       "7  -0.2338379149  1.00000000  0.364092614 -0.02878002 -0.15926308  0.53888907\n",
       "8  -0.1977355688  0.36409261  1.000000000 -0.26822899 -0.17332967  0.47569199\n",
       "9  -0.0686666064 -0.02878002 -0.268228986  1.00000000 -0.20696652 -0.44061942\n",
       "10 -0.2055065851 -0.15926308 -0.173329675 -0.20696652  1.00000000 -0.11925075\n",
       "11 -0.1601219565  0.53888907  0.475691991 -0.44061942 -0.11925075  1.00000000\n",
       "12  0.0005845629 -0.23440109 -0.126196994  0.51022163 -0.20902056 -0.40237933\n",
       "13 -0.1526223047  0.16082520  0.215365669  0.01868495 -0.10892951  0.11356467\n",
       "14 -0.0370245268 -0.05144708 -0.006820021 -0.34876087  0.06079859  0.12262542\n",
       "15 -0.1673263566  0.20489202  0.205869569 -0.21755477 -0.12028220  0.37231640\n",
       "16  0.2380164696 -0.31442787 -0.299365264  0.03649500 -0.01181777 -0.33429288\n",
       "   Singapore     South Korea Spain        Turkey      United States\n",
       "1  -0.2096671516 -0.20142284  0.163591513 -0.09868350 -0.12580614  \n",
       "2   0.2374988871 -0.24214879 -0.213543938 -0.27776537  0.45026896  \n",
       "3  -0.2598915766 -0.08731596  0.072308406 -0.03172250 -0.19253817  \n",
       "4  -0.2553625404 -0.20503456  0.194458741 -0.07814615 -0.14241346  \n",
       "5  -0.2547247320 -0.12086619  0.232377125  0.13634094 -0.14248141  \n",
       "6   0.0005845629 -0.15262230 -0.037024527 -0.16732636  0.23801647  \n",
       "7  -0.2344010923  0.16082520 -0.051447082  0.20489202 -0.31442787  \n",
       "8  -0.1261969938  0.21536567 -0.006820021  0.20586957 -0.29936526  \n",
       "9   0.5102216287  0.01868495 -0.348760866 -0.21755477  0.03649500  \n",
       "10 -0.2090205572 -0.10892951  0.060798588 -0.12028220 -0.01181777  \n",
       "11 -0.4023793330  0.11356467  0.122625416  0.37231640 -0.33429288  \n",
       "12  1.0000000000 -0.03057545 -0.307915602 -0.29004801  0.05968710  \n",
       "13 -0.0305754518  1.00000000 -0.157734352 -0.02530489 -0.17952300  \n",
       "14 -0.3079156019 -0.15773435  1.000000000  0.06365414 -0.22424408  \n",
       "15 -0.2900480057 -0.02530489  0.063654138  1.00000000 -0.28983602  \n",
       "16  0.0596871000 -0.17952300 -0.224244082 -0.28983602  1.00000000  "
      ]
     },
     "metadata": {},
     "output_type": "display_data"
    }
   ],
   "source": [
    "cd_sym"
   ]
  },
  {
   "cell_type": "code",
   "execution_count": 34,
   "metadata": {},
   "outputs": [
    {
     "data": {
      "text/html": [
       "<table class=\"dataframe\">\n",
       "<caption>A tibble: 6 × 3</caption>\n",
       "<thead>\n",
       "\t<tr><th scope=col>destination</th><th scope=col>origin</th><th scope=col>CS_symm</th></tr>\n",
       "\t<tr><th scope=col>&lt;chr&gt;</th><th scope=col>&lt;chr&gt;</th><th scope=col>&lt;dbl&gt;</th></tr>\n",
       "</thead>\n",
       "<tbody>\n",
       "\t<tr><td>Argentina</td><td>Argentina    </td><td> 1.00000000</td></tr>\n",
       "\t<tr><td>Argentina</td><td>Australia    </td><td>-0.11433611</td></tr>\n",
       "\t<tr><td>Argentina</td><td>Brazil       </td><td> 0.17691737</td></tr>\n",
       "\t<tr><td>Argentina</td><td>Chile        </td><td> 0.39391861</td></tr>\n",
       "\t<tr><td>Argentina</td><td>France       </td><td>-0.06134509</td></tr>\n",
       "\t<tr><td>Argentina</td><td>Great Britain</td><td>-0.16915309</td></tr>\n",
       "</tbody>\n",
       "</table>\n"
      ],
      "text/latex": [
       "A tibble: 6 × 3\n",
       "\\begin{tabular}{lll}\n",
       " destination & origin & CS\\_symm\\\\\n",
       " <chr> & <chr> & <dbl>\\\\\n",
       "\\hline\n",
       "\t Argentina & Argentina     &  1.00000000\\\\\n",
       "\t Argentina & Australia     & -0.11433611\\\\\n",
       "\t Argentina & Brazil        &  0.17691737\\\\\n",
       "\t Argentina & Chile         &  0.39391861\\\\\n",
       "\t Argentina & France        & -0.06134509\\\\\n",
       "\t Argentina & Great Britain & -0.16915309\\\\\n",
       "\\end{tabular}\n"
      ],
      "text/markdown": [
       "\n",
       "A tibble: 6 × 3\n",
       "\n",
       "| destination &lt;chr&gt; | origin &lt;chr&gt; | CS_symm &lt;dbl&gt; |\n",
       "|---|---|---|\n",
       "| Argentina | Argentina     |  1.00000000 |\n",
       "| Argentina | Australia     | -0.11433611 |\n",
       "| Argentina | Brazil        |  0.17691737 |\n",
       "| Argentina | Chile         |  0.39391861 |\n",
       "| Argentina | France        | -0.06134509 |\n",
       "| Argentina | Great Britain | -0.16915309 |\n",
       "\n"
      ],
      "text/plain": [
       "  destination origin        CS_symm    \n",
       "1 Argentina   Argentina      1.00000000\n",
       "2 Argentina   Australia     -0.11433611\n",
       "3 Argentina   Brazil         0.17691737\n",
       "4 Argentina   Chile          0.39391861\n",
       "5 Argentina   France        -0.06134509\n",
       "6 Argentina   Great Britain -0.16915309"
      ]
     },
     "metadata": {},
     "output_type": "display_data"
    }
   ],
   "source": [
    "cd_sym <- cd_sym %>% pivot_longer(!interests_from, names_to = \"origin\", values_to = \"CS_symm\") %>%\n",
    "                        rename(destination = interests_from)\n",
    "\n",
    "head(cd_sym)"
   ]
  },
  {
   "cell_type": "markdown",
   "metadata": {},
   "source": [
    "#### nonsymmetric:   \n",
    "each country is represented by a vector corresponding to the <b>top 50 dishes from origin country</b>"
   ]
  },
  {
   "cell_type": "markdown",
   "metadata": {},
   "source": [
    "![CDiv](figs/heatmap-similarity-topK-cosine-reds.png)"
   ]
  },
  {
   "cell_type": "markdown",
   "metadata": {},
   "source": [
    "The **(non-symmetric)** Cultural Similarity between **origin (rows) and destination (columns)** represent how similar origin and destination are in terms of popular dishes from the country of **origin**.   \n",
    "\n",
    "**Hypothesis:** Immigrants prefer to move to (host) countries culturally similar to their (home/previous) country."
   ]
  },
  {
   "cell_type": "code",
   "execution_count": 35,
   "metadata": {},
   "outputs": [
    {
     "name": "stderr",
     "output_type": "stream",
     "text": [
      "\u001b[1m\u001b[22mNew names:\n",
      "\u001b[36m*\u001b[39m `` -> `...1`\n"
     ]
    }
   ],
   "source": [
    "cd_nonsym <- read_csv(\"data/FB-food-cultural_similarity-nonsymmetric.csv\", col_types = cols())\n",
    "colnames(cd_nonsym)[1] <- \"interests_from\""
   ]
  },
  {
   "cell_type": "code",
   "execution_count": 36,
   "metadata": {},
   "outputs": [
    {
     "data": {
      "text/html": [
       "<table class=\"dataframe\">\n",
       "<caption>A data.frame: 6 × 4</caption>\n",
       "<thead>\n",
       "\t<tr><th></th><th scope=col>origin</th><th scope=col>destination</th><th scope=col>CS_nonsymm_food_o</th><th scope=col>CS_symm</th></tr>\n",
       "\t<tr><th></th><th scope=col>&lt;chr&gt;</th><th scope=col>&lt;chr&gt;</th><th scope=col>&lt;dbl&gt;</th><th scope=col>&lt;dbl&gt;</th></tr>\n",
       "</thead>\n",
       "<tbody>\n",
       "\t<tr><th scope=row>1</th><td>Argentina</td><td>Argentina    </td><td> 1.0000000</td><td> 1.00000000</td></tr>\n",
       "\t<tr><th scope=row>2</th><td>Argentina</td><td>Australia    </td><td> 0.3185665</td><td>-0.11433611</td></tr>\n",
       "\t<tr><th scope=row>3</th><td>Argentina</td><td>Brazil       </td><td> 0.1077964</td><td> 0.17691737</td></tr>\n",
       "\t<tr><th scope=row>4</th><td>Argentina</td><td>Chile        </td><td> 0.4667300</td><td> 0.39391861</td></tr>\n",
       "\t<tr><th scope=row>5</th><td>Argentina</td><td>France       </td><td>-0.4108677</td><td>-0.06134509</td></tr>\n",
       "\t<tr><th scope=row>6</th><td>Argentina</td><td>Great Britain</td><td>-0.2072795</td><td>-0.16915309</td></tr>\n",
       "</tbody>\n",
       "</table>\n"
      ],
      "text/latex": [
       "A data.frame: 6 × 4\n",
       "\\begin{tabular}{r|llll}\n",
       "  & origin & destination & CS\\_nonsymm\\_food\\_o & CS\\_symm\\\\\n",
       "  & <chr> & <chr> & <dbl> & <dbl>\\\\\n",
       "\\hline\n",
       "\t1 & Argentina & Argentina     &  1.0000000 &  1.00000000\\\\\n",
       "\t2 & Argentina & Australia     &  0.3185665 & -0.11433611\\\\\n",
       "\t3 & Argentina & Brazil        &  0.1077964 &  0.17691737\\\\\n",
       "\t4 & Argentina & Chile         &  0.4667300 &  0.39391861\\\\\n",
       "\t5 & Argentina & France        & -0.4108677 & -0.06134509\\\\\n",
       "\t6 & Argentina & Great Britain & -0.2072795 & -0.16915309\\\\\n",
       "\\end{tabular}\n"
      ],
      "text/markdown": [
       "\n",
       "A data.frame: 6 × 4\n",
       "\n",
       "| <!--/--> | origin &lt;chr&gt; | destination &lt;chr&gt; | CS_nonsymm_food_o &lt;dbl&gt; | CS_symm &lt;dbl&gt; |\n",
       "|---|---|---|---|---|\n",
       "| 1 | Argentina | Argentina     |  1.0000000 |  1.00000000 |\n",
       "| 2 | Argentina | Australia     |  0.3185665 | -0.11433611 |\n",
       "| 3 | Argentina | Brazil        |  0.1077964 |  0.17691737 |\n",
       "| 4 | Argentina | Chile         |  0.4667300 |  0.39391861 |\n",
       "| 5 | Argentina | France        | -0.4108677 | -0.06134509 |\n",
       "| 6 | Argentina | Great Britain | -0.2072795 | -0.16915309 |\n",
       "\n"
      ],
      "text/plain": [
       "  origin    destination   CS_nonsymm_food_o CS_symm    \n",
       "1 Argentina Argentina      1.0000000         1.00000000\n",
       "2 Argentina Australia      0.3185665        -0.11433611\n",
       "3 Argentina Brazil         0.1077964         0.17691737\n",
       "4 Argentina Chile          0.4667300         0.39391861\n",
       "5 Argentina France        -0.4108677        -0.06134509\n",
       "6 Argentina Great Britain -0.2072795        -0.16915309"
      ]
     },
     "metadata": {},
     "output_type": "display_data"
    }
   ],
   "source": [
    "cd_food_o <- cd_nonsym %>% pivot_longer(!interests_from, names_to = \"destination\", values_to = \"CS_nonsymm_food_o\") %>%\n",
    "                           rename(origin = interests_from) %>%\n",
    "                            merge(cd_sym)\n",
    "\n",
    "head(cd_food_o)"
   ]
  },
  {
   "cell_type": "markdown",
   "metadata": {},
   "source": [
    "The **(non-symmetric)** Cultural Similarity between **origin (rows) and destination (columns)** representing how similar origin and destination are in terms of popular dishes from the country of **destination**. "
   ]
  },
  {
   "cell_type": "code",
   "execution_count": 37,
   "metadata": {},
   "outputs": [
    {
     "data": {
      "text/html": [
       "<table class=\"dataframe\">\n",
       "<caption>A data.frame: 6 × 4</caption>\n",
       "<thead>\n",
       "\t<tr><th></th><th scope=col>destination</th><th scope=col>origin</th><th scope=col>CS_nonsymm_food_d</th><th scope=col>CS_symm</th></tr>\n",
       "\t<tr><th></th><th scope=col>&lt;chr&gt;</th><th scope=col>&lt;chr&gt;</th><th scope=col>&lt;dbl&gt;</th><th scope=col>&lt;dbl&gt;</th></tr>\n",
       "</thead>\n",
       "<tbody>\n",
       "\t<tr><th scope=row>1</th><td>Argentina</td><td>Argentina    </td><td> 1.0000000</td><td> 1.00000000</td></tr>\n",
       "\t<tr><th scope=row>2</th><td>Argentina</td><td>Australia    </td><td> 0.3185665</td><td>-0.11433611</td></tr>\n",
       "\t<tr><th scope=row>3</th><td>Argentina</td><td>Brazil       </td><td> 0.1077964</td><td> 0.17691737</td></tr>\n",
       "\t<tr><th scope=row>4</th><td>Argentina</td><td>Chile        </td><td> 0.4667300</td><td> 0.39391861</td></tr>\n",
       "\t<tr><th scope=row>5</th><td>Argentina</td><td>France       </td><td>-0.4108677</td><td>-0.06134509</td></tr>\n",
       "\t<tr><th scope=row>6</th><td>Argentina</td><td>Great Britain</td><td>-0.2072795</td><td>-0.16915309</td></tr>\n",
       "</tbody>\n",
       "</table>\n"
      ],
      "text/latex": [
       "A data.frame: 6 × 4\n",
       "\\begin{tabular}{r|llll}\n",
       "  & destination & origin & CS\\_nonsymm\\_food\\_d & CS\\_symm\\\\\n",
       "  & <chr> & <chr> & <dbl> & <dbl>\\\\\n",
       "\\hline\n",
       "\t1 & Argentina & Argentina     &  1.0000000 &  1.00000000\\\\\n",
       "\t2 & Argentina & Australia     &  0.3185665 & -0.11433611\\\\\n",
       "\t3 & Argentina & Brazil        &  0.1077964 &  0.17691737\\\\\n",
       "\t4 & Argentina & Chile         &  0.4667300 &  0.39391861\\\\\n",
       "\t5 & Argentina & France        & -0.4108677 & -0.06134509\\\\\n",
       "\t6 & Argentina & Great Britain & -0.2072795 & -0.16915309\\\\\n",
       "\\end{tabular}\n"
      ],
      "text/markdown": [
       "\n",
       "A data.frame: 6 × 4\n",
       "\n",
       "| <!--/--> | destination &lt;chr&gt; | origin &lt;chr&gt; | CS_nonsymm_food_d &lt;dbl&gt; | CS_symm &lt;dbl&gt; |\n",
       "|---|---|---|---|---|\n",
       "| 1 | Argentina | Argentina     |  1.0000000 |  1.00000000 |\n",
       "| 2 | Argentina | Australia     |  0.3185665 | -0.11433611 |\n",
       "| 3 | Argentina | Brazil        |  0.1077964 |  0.17691737 |\n",
       "| 4 | Argentina | Chile         |  0.4667300 |  0.39391861 |\n",
       "| 5 | Argentina | France        | -0.4108677 | -0.06134509 |\n",
       "| 6 | Argentina | Great Britain | -0.2072795 | -0.16915309 |\n",
       "\n"
      ],
      "text/plain": [
       "  destination origin        CS_nonsymm_food_d CS_symm    \n",
       "1 Argentina   Argentina      1.0000000         1.00000000\n",
       "2 Argentina   Australia      0.3185665        -0.11433611\n",
       "3 Argentina   Brazil         0.1077964         0.17691737\n",
       "4 Argentina   Chile          0.4667300         0.39391861\n",
       "5 Argentina   France        -0.4108677        -0.06134509\n",
       "6 Argentina   Great Britain -0.2072795        -0.16915309"
      ]
     },
     "metadata": {},
     "output_type": "display_data"
    }
   ],
   "source": [
    "cd_food_d <- cd_nonsym %>% pivot_longer(!interests_from, names_to = \"origin\", values_to = \"CS_nonsymm_food_d\") %>%\n",
    "                            rename(destination = interests_from) %>%\n",
    "                            merge(cd_sym)\n",
    "\n",
    "head(cd_food_d)"
   ]
  },
  {
   "cell_type": "code",
   "execution_count": 38,
   "metadata": {},
   "outputs": [
    {
     "data": {
      "text/html": [
       "<table class=\"dataframe\">\n",
       "<caption>A data.frame: 6 × 5</caption>\n",
       "<thead>\n",
       "\t<tr><th></th><th scope=col>origin</th><th scope=col>destination</th><th scope=col>CS_symm</th><th scope=col>CS_nonsymm_food_o</th><th scope=col>CS_nonsymm_food_d</th></tr>\n",
       "\t<tr><th></th><th scope=col>&lt;chr&gt;</th><th scope=col>&lt;chr&gt;</th><th scope=col>&lt;dbl&gt;</th><th scope=col>&lt;dbl&gt;</th><th scope=col>&lt;dbl&gt;</th></tr>\n",
       "</thead>\n",
       "<tbody>\n",
       "\t<tr><th scope=row>1</th><td>Argentina</td><td>Argentina    </td><td> 1.00000000</td><td> 1.0000000</td><td> 1.0000000</td></tr>\n",
       "\t<tr><th scope=row>2</th><td>Argentina</td><td>Australia    </td><td>-0.11433611</td><td> 0.3185665</td><td>-0.2553475</td></tr>\n",
       "\t<tr><th scope=row>3</th><td>Argentina</td><td>Brazil       </td><td> 0.17691737</td><td> 0.1077964</td><td> 0.2172456</td></tr>\n",
       "\t<tr><th scope=row>4</th><td>Argentina</td><td>Chile        </td><td> 0.39391861</td><td> 0.4667300</td><td> 0.4090194</td></tr>\n",
       "\t<tr><th scope=row>5</th><td>Argentina</td><td>France       </td><td>-0.06134509</td><td>-0.4108677</td><td>-0.2192713</td></tr>\n",
       "\t<tr><th scope=row>6</th><td>Argentina</td><td>Great Britain</td><td>-0.16915309</td><td>-0.2072795</td><td>-0.3668815</td></tr>\n",
       "</tbody>\n",
       "</table>\n"
      ],
      "text/latex": [
       "A data.frame: 6 × 5\n",
       "\\begin{tabular}{r|lllll}\n",
       "  & origin & destination & CS\\_symm & CS\\_nonsymm\\_food\\_o & CS\\_nonsymm\\_food\\_d\\\\\n",
       "  & <chr> & <chr> & <dbl> & <dbl> & <dbl>\\\\\n",
       "\\hline\n",
       "\t1 & Argentina & Argentina     &  1.00000000 &  1.0000000 &  1.0000000\\\\\n",
       "\t2 & Argentina & Australia     & -0.11433611 &  0.3185665 & -0.2553475\\\\\n",
       "\t3 & Argentina & Brazil        &  0.17691737 &  0.1077964 &  0.2172456\\\\\n",
       "\t4 & Argentina & Chile         &  0.39391861 &  0.4667300 &  0.4090194\\\\\n",
       "\t5 & Argentina & France        & -0.06134509 & -0.4108677 & -0.2192713\\\\\n",
       "\t6 & Argentina & Great Britain & -0.16915309 & -0.2072795 & -0.3668815\\\\\n",
       "\\end{tabular}\n"
      ],
      "text/markdown": [
       "\n",
       "A data.frame: 6 × 5\n",
       "\n",
       "| <!--/--> | origin &lt;chr&gt; | destination &lt;chr&gt; | CS_symm &lt;dbl&gt; | CS_nonsymm_food_o &lt;dbl&gt; | CS_nonsymm_food_d &lt;dbl&gt; |\n",
       "|---|---|---|---|---|---|\n",
       "| 1 | Argentina | Argentina     |  1.00000000 |  1.0000000 |  1.0000000 |\n",
       "| 2 | Argentina | Australia     | -0.11433611 |  0.3185665 | -0.2553475 |\n",
       "| 3 | Argentina | Brazil        |  0.17691737 |  0.1077964 |  0.2172456 |\n",
       "| 4 | Argentina | Chile         |  0.39391861 |  0.4667300 |  0.4090194 |\n",
       "| 5 | Argentina | France        | -0.06134509 | -0.4108677 | -0.2192713 |\n",
       "| 6 | Argentina | Great Britain | -0.16915309 | -0.2072795 | -0.3668815 |\n",
       "\n"
      ],
      "text/plain": [
       "  origin    destination   CS_symm     CS_nonsymm_food_o CS_nonsymm_food_d\n",
       "1 Argentina Argentina      1.00000000  1.0000000         1.0000000       \n",
       "2 Argentina Australia     -0.11433611  0.3185665        -0.2553475       \n",
       "3 Argentina Brazil         0.17691737  0.1077964         0.2172456       \n",
       "4 Argentina Chile          0.39391861  0.4667300         0.4090194       \n",
       "5 Argentina France        -0.06134509 -0.4108677        -0.2192713       \n",
       "6 Argentina Great Britain -0.16915309 -0.2072795        -0.3668815       "
      ]
     },
     "metadata": {},
     "output_type": "display_data"
    }
   ],
   "source": [
    "cd <- merge(cd_food_o, cd_food_d)\n",
    "\n",
    "head(cd)"
   ]
  },
  {
   "cell_type": "code",
   "execution_count": 39,
   "metadata": {},
   "outputs": [
    {
     "data": {
      "text/html": [
       "<table class=\"dataframe\">\n",
       "<caption>A tibble: 6 × 3</caption>\n",
       "<thead>\n",
       "\t<tr><th scope=col>origin</th><th scope=col>destination</th><th scope=col>CS_FB_top50_pca</th></tr>\n",
       "\t<tr><th scope=col>&lt;chr&gt;</th><th scope=col>&lt;chr&gt;</th><th scope=col>&lt;dbl&gt;</th></tr>\n",
       "</thead>\n",
       "<tbody>\n",
       "\t<tr><td>Argentina</td><td>Argentina    </td><td>1.00000000</td></tr>\n",
       "\t<tr><td>Argentina</td><td>Australia    </td><td>0.05466153</td></tr>\n",
       "\t<tr><td>Argentina</td><td>Brazil       </td><td>0.79585871</td></tr>\n",
       "\t<tr><td>Argentina</td><td>Chile        </td><td>0.98090107</td></tr>\n",
       "\t<tr><td>Argentina</td><td>France       </td><td>0.60105840</td></tr>\n",
       "\t<tr><td>Argentina</td><td>Great Britain</td><td>0.37417246</td></tr>\n",
       "</tbody>\n",
       "</table>\n"
      ],
      "text/latex": [
       "A tibble: 6 × 3\n",
       "\\begin{tabular}{lll}\n",
       " origin & destination & CS\\_FB\\_top50\\_pca\\\\\n",
       " <chr> & <chr> & <dbl>\\\\\n",
       "\\hline\n",
       "\t Argentina & Argentina     & 1.00000000\\\\\n",
       "\t Argentina & Australia     & 0.05466153\\\\\n",
       "\t Argentina & Brazil        & 0.79585871\\\\\n",
       "\t Argentina & Chile         & 0.98090107\\\\\n",
       "\t Argentina & France        & 0.60105840\\\\\n",
       "\t Argentina & Great Britain & 0.37417246\\\\\n",
       "\\end{tabular}\n"
      ],
      "text/markdown": [
       "\n",
       "A tibble: 6 × 3\n",
       "\n",
       "| origin &lt;chr&gt; | destination &lt;chr&gt; | CS_FB_top50_pca &lt;dbl&gt; |\n",
       "|---|---|---|\n",
       "| Argentina | Argentina     | 1.00000000 |\n",
       "| Argentina | Australia     | 0.05466153 |\n",
       "| Argentina | Brazil        | 0.79585871 |\n",
       "| Argentina | Chile         | 0.98090107 |\n",
       "| Argentina | France        | 0.60105840 |\n",
       "| Argentina | Great Britain | 0.37417246 |\n",
       "\n"
      ],
      "text/plain": [
       "  origin    destination   CS_FB_top50_pca\n",
       "1 Argentina Argentina     1.00000000     \n",
       "2 Argentina Australia     0.05466153     \n",
       "3 Argentina Brazil        0.79585871     \n",
       "4 Argentina Chile         0.98090107     \n",
       "5 Argentina France        0.60105840     \n",
       "6 Argentina Great Britain 0.37417246     "
      ]
     },
     "metadata": {},
     "output_type": "display_data"
    }
   ],
   "source": [
    "pca <- read.csv(\"data/fb-cultural-similarity-pca.csv\")\n",
    "\n",
    "pca_cosine <- as.data.frame(cosine(t(as.matrix(pca[,2:3]))))\n",
    "colnames(pca_cosine) <- pca$country\n",
    "pca_cosine[\"origin\"] <- pca$country\n",
    "\n",
    "\n",
    "pca_cosine_longer <- pivot_longer(pca_cosine, -c(\"origin\"), values_to = \"CS_FB_top50_pca\", names_to = \"destination\")\n",
    "head(pca_cosine_longer)"
   ]
  },
  {
   "cell_type": "markdown",
   "metadata": {},
   "source": [
    "#### Dataset: official statistics + FB cultural distance"
   ]
  },
  {
   "cell_type": "code",
   "execution_count": 40,
   "metadata": {},
   "outputs": [
    {
     "data": {
      "text/html": [
       "<table class=\"dataframe\">\n",
       "<caption>A data.frame: 6 × 40</caption>\n",
       "<thead>\n",
       "\t<tr><th></th><th scope=col>destination</th><th scope=col>origin</th><th scope=col>iso_d</th><th scope=col>iso_o</th><th scope=col>col</th><th scope=col>csl</th><th scope=col>cnl</th><th scope=col>prox1</th><th scope=col>lp1</th><th scope=col>prox2</th><th scope=col>...</th><th scope=col>m_flow_mig_rate</th><th scope=col>m_flow_da_min_open</th><th scope=col>m_flow_da_min_closed</th><th scope=col>m_flow_da_pb_closed</th><th scope=col>CS_wvs</th><th scope=col>CS_foursquare</th><th scope=col>CS_symm</th><th scope=col>CS_nonsymm_food_o</th><th scope=col>CS_nonsymm_food_d</th><th scope=col>CS_FB_top50_pca</th></tr>\n",
       "\t<tr><th></th><th scope=col>&lt;chr&gt;</th><th scope=col>&lt;chr&gt;</th><th scope=col>&lt;chr&gt;</th><th scope=col>&lt;chr&gt;</th><th scope=col>&lt;int&gt;</th><th scope=col>&lt;dbl&gt;</th><th scope=col>&lt;dbl&gt;</th><th scope=col>&lt;dbl&gt;</th><th scope=col>&lt;dbl&gt;</th><th scope=col>&lt;dbl&gt;</th><th scope=col>...</th><th scope=col>&lt;int&gt;</th><th scope=col>&lt;int&gt;</th><th scope=col>&lt;int&gt;</th><th scope=col>&lt;int&gt;</th><th scope=col>&lt;dbl&gt;</th><th scope=col>&lt;dbl&gt;</th><th scope=col>&lt;dbl&gt;</th><th scope=col>&lt;dbl&gt;</th><th scope=col>&lt;dbl&gt;</th><th scope=col>&lt;dbl&gt;</th></tr>\n",
       "</thead>\n",
       "<tbody>\n",
       "\t<tr><th scope=row>1</th><td>Argentina</td><td>Australia    </td><td>ARG</td><td>AUS</td><td>0</td><td>0.02058416</td><td>0.00080000</td><td>0.25</td><td>1.945866</td><td>0.13052547</td><td>...</td><td>   56</td><td>   16</td><td>  105</td><td> 2224</td><td> 0.2579213</td><td> 0.1005334</td><td>-0.11433611</td><td>-0.2553475</td><td> 0.3185665</td><td> 0.05466153</td></tr>\n",
       "\t<tr><th scope=row>2</th><td>Argentina</td><td>Brazil       </td><td>ARG</td><td>BRA</td><td>0</td><td>0.06052872</td><td>0.00080000</td><td>0.75</td><td>5.837599</td><td>0.42439765</td><td>...</td><td> 9997</td><td> 2332</td><td>    0</td><td>10767</td><td> 0.7688173</td><td> 0.8402622</td><td> 0.17691737</td><td> 0.2172456</td><td> 0.1077964</td><td> 0.79585871</td></tr>\n",
       "\t<tr><th scope=row>3</th><td>Argentina</td><td>Chile        </td><td>ARG</td><td>CHL</td><td>1</td><td>0.98010004</td><td>0.85439998</td><td>0.00</td><td>0.000000</td><td>0.00000000</td><td>...</td><td>43666</td><td>13875</td><td>53604</td><td>84213</td><td>-0.9899189</td><td> 0.9548769</td><td> 0.39391861</td><td> 0.4090194</td><td> 0.4667300</td><td> 0.98090107</td></tr>\n",
       "\t<tr><th scope=row>4</th><td>Argentina</td><td>France       </td><td>ARG</td><td>FRA</td><td>0</td><td>0.13392781</td><td>0.01039232</td><td>0.50</td><td>3.891733</td><td>0.25450581</td><td>...</td><td> 1672</td><td>  467</td><td>  156</td><td> 3048</td><td> 0.1697698</td><td> 0.8741573</td><td>-0.06134509</td><td>-0.2192713</td><td>-0.4108677</td><td> 0.60105840</td></tr>\n",
       "\t<tr><th scope=row>5</th><td>Argentina</td><td>Great Britain</td><td>ARG</td><td>GBR</td><td>0</td><td>0.08325152</td><td>0.00000000</td><td>0.25</td><td>1.945866</td><td>0.13052547</td><td>...</td><td>  193</td><td>   45</td><td>  126</td><td> 1559</td><td> 0.3229716</td><td> 0.6263188</td><td>-0.16915309</td><td>-0.3668815</td><td>-0.2072795</td><td> 0.37417246</td></tr>\n",
       "\t<tr><th scope=row>6</th><td>Argentina</td><td>Indonesia    </td><td>ARG</td><td>IDN</td><td>0</td><td>0.00000000</td><td>0.00000000</td><td>0.00</td><td>0.000000</td><td>0.07436915</td><td>...</td><td>    4</td><td>    1</td><td>    4</td><td>    7</td><td> 0.4656905</td><td>-0.8793284</td><td>-0.19920772</td><td>-0.3175994</td><td>-0.6779621</td><td>-0.39869160</td></tr>\n",
       "</tbody>\n",
       "</table>\n"
      ],
      "text/latex": [
       "A data.frame: 6 × 40\n",
       "\\begin{tabular}{r|lllllllllllllllllllll}\n",
       "  & destination & origin & iso\\_d & iso\\_o & col & csl & cnl & prox1 & lp1 & prox2 & ... & m\\_flow\\_mig\\_rate & m\\_flow\\_da\\_min\\_open & m\\_flow\\_da\\_min\\_closed & m\\_flow\\_da\\_pb\\_closed & CS\\_wvs & CS\\_foursquare & CS\\_symm & CS\\_nonsymm\\_food\\_o & CS\\_nonsymm\\_food\\_d & CS\\_FB\\_top50\\_pca\\\\\n",
       "  & <chr> & <chr> & <chr> & <chr> & <int> & <dbl> & <dbl> & <dbl> & <dbl> & <dbl> & ... & <int> & <int> & <int> & <int> & <dbl> & <dbl> & <dbl> & <dbl> & <dbl> & <dbl>\\\\\n",
       "\\hline\n",
       "\t1 & Argentina & Australia     & ARG & AUS & 0 & 0.02058416 & 0.00080000 & 0.25 & 1.945866 & 0.13052547 & ... &    56 &    16 &   105 &  2224 &  0.2579213 &  0.1005334 & -0.11433611 & -0.2553475 &  0.3185665 &  0.05466153\\\\\n",
       "\t2 & Argentina & Brazil        & ARG & BRA & 0 & 0.06052872 & 0.00080000 & 0.75 & 5.837599 & 0.42439765 & ... &  9997 &  2332 &     0 & 10767 &  0.7688173 &  0.8402622 &  0.17691737 &  0.2172456 &  0.1077964 &  0.79585871\\\\\n",
       "\t3 & Argentina & Chile         & ARG & CHL & 1 & 0.98010004 & 0.85439998 & 0.00 & 0.000000 & 0.00000000 & ... & 43666 & 13875 & 53604 & 84213 & -0.9899189 &  0.9548769 &  0.39391861 &  0.4090194 &  0.4667300 &  0.98090107\\\\\n",
       "\t4 & Argentina & France        & ARG & FRA & 0 & 0.13392781 & 0.01039232 & 0.50 & 3.891733 & 0.25450581 & ... &  1672 &   467 &   156 &  3048 &  0.1697698 &  0.8741573 & -0.06134509 & -0.2192713 & -0.4108677 &  0.60105840\\\\\n",
       "\t5 & Argentina & Great Britain & ARG & GBR & 0 & 0.08325152 & 0.00000000 & 0.25 & 1.945866 & 0.13052547 & ... &   193 &    45 &   126 &  1559 &  0.3229716 &  0.6263188 & -0.16915309 & -0.3668815 & -0.2072795 &  0.37417246\\\\\n",
       "\t6 & Argentina & Indonesia     & ARG & IDN & 0 & 0.00000000 & 0.00000000 & 0.00 & 0.000000 & 0.07436915 & ... &     4 &     1 &     4 &     7 &  0.4656905 & -0.8793284 & -0.19920772 & -0.3175994 & -0.6779621 & -0.39869160\\\\\n",
       "\\end{tabular}\n"
      ],
      "text/markdown": [
       "\n",
       "A data.frame: 6 × 40\n",
       "\n",
       "| <!--/--> | destination &lt;chr&gt; | origin &lt;chr&gt; | iso_d &lt;chr&gt; | iso_o &lt;chr&gt; | col &lt;int&gt; | csl &lt;dbl&gt; | cnl &lt;dbl&gt; | prox1 &lt;dbl&gt; | lp1 &lt;dbl&gt; | prox2 &lt;dbl&gt; | ... ... | m_flow_mig_rate &lt;int&gt; | m_flow_da_min_open &lt;int&gt; | m_flow_da_min_closed &lt;int&gt; | m_flow_da_pb_closed &lt;int&gt; | CS_wvs &lt;dbl&gt; | CS_foursquare &lt;dbl&gt; | CS_symm &lt;dbl&gt; | CS_nonsymm_food_o &lt;dbl&gt; | CS_nonsymm_food_d &lt;dbl&gt; | CS_FB_top50_pca &lt;dbl&gt; |\n",
       "|---|---|---|---|---|---|---|---|---|---|---|---|---|---|---|---|---|---|---|---|---|---|\n",
       "| 1 | Argentina | Australia     | ARG | AUS | 0 | 0.02058416 | 0.00080000 | 0.25 | 1.945866 | 0.13052547 | ... |    56 |    16 |   105 |  2224 |  0.2579213 |  0.1005334 | -0.11433611 | -0.2553475 |  0.3185665 |  0.05466153 |\n",
       "| 2 | Argentina | Brazil        | ARG | BRA | 0 | 0.06052872 | 0.00080000 | 0.75 | 5.837599 | 0.42439765 | ... |  9997 |  2332 |     0 | 10767 |  0.7688173 |  0.8402622 |  0.17691737 |  0.2172456 |  0.1077964 |  0.79585871 |\n",
       "| 3 | Argentina | Chile         | ARG | CHL | 1 | 0.98010004 | 0.85439998 | 0.00 | 0.000000 | 0.00000000 | ... | 43666 | 13875 | 53604 | 84213 | -0.9899189 |  0.9548769 |  0.39391861 |  0.4090194 |  0.4667300 |  0.98090107 |\n",
       "| 4 | Argentina | France        | ARG | FRA | 0 | 0.13392781 | 0.01039232 | 0.50 | 3.891733 | 0.25450581 | ... |  1672 |   467 |   156 |  3048 |  0.1697698 |  0.8741573 | -0.06134509 | -0.2192713 | -0.4108677 |  0.60105840 |\n",
       "| 5 | Argentina | Great Britain | ARG | GBR | 0 | 0.08325152 | 0.00000000 | 0.25 | 1.945866 | 0.13052547 | ... |   193 |    45 |   126 |  1559 |  0.3229716 |  0.6263188 | -0.16915309 | -0.3668815 | -0.2072795 |  0.37417246 |\n",
       "| 6 | Argentina | Indonesia     | ARG | IDN | 0 | 0.00000000 | 0.00000000 | 0.00 | 0.000000 | 0.07436915 | ... |     4 |     1 |     4 |     7 |  0.4656905 | -0.8793284 | -0.19920772 | -0.3175994 | -0.6779621 | -0.39869160 |\n",
       "\n"
      ],
      "text/plain": [
       "  destination origin        iso_d iso_o col csl        cnl        prox1\n",
       "1 Argentina   Australia     ARG   AUS   0   0.02058416 0.00080000 0.25 \n",
       "2 Argentina   Brazil        ARG   BRA   0   0.06052872 0.00080000 0.75 \n",
       "3 Argentina   Chile         ARG   CHL   1   0.98010004 0.85439998 0.00 \n",
       "4 Argentina   France        ARG   FRA   0   0.13392781 0.01039232 0.50 \n",
       "5 Argentina   Great Britain ARG   GBR   0   0.08325152 0.00000000 0.25 \n",
       "6 Argentina   Indonesia     ARG   IDN   0   0.00000000 0.00000000 0.00 \n",
       "  lp1      prox2      ... m_flow_mig_rate m_flow_da_min_open\n",
       "1 1.945866 0.13052547 ...    56              16             \n",
       "2 5.837599 0.42439765 ...  9997            2332             \n",
       "3 0.000000 0.00000000 ... 43666           13875             \n",
       "4 3.891733 0.25450581 ...  1672             467             \n",
       "5 1.945866 0.13052547 ...   193              45             \n",
       "6 0.000000 0.07436915 ...     4               1             \n",
       "  m_flow_da_min_closed m_flow_da_pb_closed CS_wvs     CS_foursquare CS_symm    \n",
       "1   105                 2224                0.2579213  0.1005334    -0.11433611\n",
       "2     0                10767                0.7688173  0.8402622     0.17691737\n",
       "3 53604                84213               -0.9899189  0.9548769     0.39391861\n",
       "4   156                 3048                0.1697698  0.8741573    -0.06134509\n",
       "5   126                 1559                0.3229716  0.6263188    -0.16915309\n",
       "6     4                    7                0.4656905 -0.8793284    -0.19920772\n",
       "  CS_nonsymm_food_o CS_nonsymm_food_d CS_FB_top50_pca\n",
       "1 -0.2553475         0.3185665         0.05466153    \n",
       "2  0.2172456         0.1077964         0.79585871    \n",
       "3  0.4090194         0.4667300         0.98090107    \n",
       "4 -0.2192713        -0.4108677         0.60105840    \n",
       "5 -0.3668815        -0.2072795         0.37417246    \n",
       "6 -0.3175994        -0.6779621        -0.39869160    "
      ]
     },
     "metadata": {},
     "output_type": "display_data"
    }
   ],
   "source": [
    "official_dataset <- merge(official_dataset, cd)#, mutate(official_dataset, destination = tolower(destination), origin = tolower(origin)))\n",
    "dataset <- merge(official_dataset, pca_cosine_longer)\n",
    "\n",
    "head(dataset)"
   ]
  },
  {
   "cell_type": "code",
   "execution_count": 41,
   "metadata": {},
   "outputs": [
    {
     "data": {
      "text/html": [
       "<style>\n",
       ".list-inline {list-style: none; margin:0; padding: 0}\n",
       ".list-inline>li {display: inline-block}\n",
       ".list-inline>li:not(:last-child)::after {content: \"\\00b7\"; padding: 0 .5ex}\n",
       "</style>\n",
       "<ol class=list-inline><li>240</li><li>40</li></ol>\n"
      ],
      "text/latex": [
       "\\begin{enumerate*}\n",
       "\\item 240\n",
       "\\item 40\n",
       "\\end{enumerate*}\n"
      ],
      "text/markdown": [
       "1. 240\n",
       "2. 40\n",
       "\n",
       "\n"
      ],
      "text/plain": [
       "[1] 240  40"
      ]
     },
     "metadata": {},
     "output_type": "display_data"
    }
   ],
   "source": [
    "dim(dataset)"
   ]
  },
  {
   "cell_type": "code",
   "execution_count": 42,
   "metadata": {},
   "outputs": [],
   "source": [
    "write_csv(dataset, \"data/subset-final-dataset.csv\")"
   ]
  }
 ],
 "metadata": {
  "kernelspec": {
   "display_name": "R",
   "language": "R",
   "name": "ir"
  },
  "language_info": {
   "codemirror_mode": "r",
   "file_extension": ".r",
   "mimetype": "text/x-r-source",
   "name": "R",
   "pygments_lexer": "r",
   "version": "4.1.0"
  }
 },
 "nbformat": 4,
 "nbformat_minor": 2
}
