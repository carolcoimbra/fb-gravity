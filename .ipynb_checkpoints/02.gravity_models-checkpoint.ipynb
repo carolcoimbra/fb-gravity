{
 "cells": [
  {
   "cell_type": "markdown",
   "metadata": {},
   "source": [
    "# The Value of Cultural Similarity for Predicting Migration\n",
    "\n",
    "\n",
    "## Carolina Coimbra Vieira, Sophie Lohmann, Emilio Zagheni"
   ]
  },
  {
   "cell_type": "markdown",
   "metadata": {},
   "source": [
    "**Variables**  \n",
    "    *`iso_o, iso_d`*: ISO codes in three characters, refering to the country of origin and destination, respectively. \n",
    "    \n",
    "+ **CEPII Language**  \n",
    "    *`col`*: common official language (0 or 1); 19 languages considered.    \n",
    "    *`csl`*: p(two random people understand a common language) >= *`cnl`*.  \n",
    "    *`cnl`*: p(two random people share a native language).  \n",
    "    *`lp`*: lexical closeness of native langauges; set to 0 when *`cnl`* is 1 or 0 also set to 0 if there is no dominant native language (e.g. India).  \n",
    "    *`lp1`*: tree based. 4 possibilities, 2 languages belonging to:  \n",
    "        0: separate family trees  \n",
    "        0.25: different branches of same tree (English and French),  \n",
    "        0.50: the same branch (English and German),  \n",
    "        0.75: the same sub-branch (German and Dutch)  \n",
    "    *`lp2`*: lexical similarity of 200 words, continuous scale 0-100 normalized *`lp1`*, *`lp2`* so coefficients are comparable to each other and *`col, prox1, prox2`* are unadjusted versions of *`lp1`* and *`lp2`*?  \n",
    "    \n",
    "  \n",
    "+ **CEPII Distance**  \n",
    "    *`contig`*: dummy variable indicating whether the two countries are contiguous (share a land border).  \n",
    "    *`comlang_off, comlang_ethno`*: dummy variable indicating whether the two countries share a common language. There are two common languages dummies, the first one based on the fact that two countries share a common official language, and the other one set to one if a language is spoken by at least 9% of the population in both countries.\n",
    "    *`dist`*: Geodesic distances from lat/long of most populous cities (simple distance).   \n",
    "    *`distcap`*: geodesic distance between capital cities (simple distance).    \n",
    "    *`distw`*: population weighted distance, theta = 1 (weighted distance).   \n",
    "    *`distwces`*: population weighted distance, theta = -1, which corresponds to the usual coefficient estimated from gravity models of bilateral trade flows (weighted distance).  \n",
    "    *`shared_hist`*: dummy variable indicating whether the two countries have: *`colony, comcol, curcol, col45, smctry`*     \n",
    "    \n",
    "    \n",
    "+ **CEPII Geographic**   \n",
    "    `area_o, area_d`: Country’s area in $km^2$.   \n",
    "     \n",
    "    \n",
    "+ **UN Population 2019**   \n",
    "    `pop_o, pop_d`: Country’s population.    \n",
    "    \n",
    "            \n",
    "+ **World Bank GDP and GDP per capita constant 2010 US dollar 2019**   \n",
    "    `GDP_o, GDP_d`: Country’s GDP in US dollar.  \n",
    "    `GDP_percapita_o, GDP_percapita_d`: GDP per capita (constant 2010) in 2019 in US$\n",
    "    \n",
    "    \n",
    "+ **Abel, Guy; E. Cohen, Joel (2019) Migrant Flow 2015-2020**   \n",
    "    `m_flow_` (sd_drop_neg, sd_rev_neg, mig_rate, da_min_open, da_min_closed, da_pb_closed): migrant flow between two countries (o and d). \n",
    "    \n",
    "    \n",
    "+ **UN Migrant Stock 2019**   \n",
    "    `m_stock`: migrant stock between two countries (o and d).   \n",
    "    \n",
    "    \n",
    "+ **Facebook Food Cultural Similarity**  \n",
    "    *`CD_nonsymm, CD_symm`*: cosine similarity between the vectors representing each country by the **top 50 dishes from origin country** and the **top (almost) 400 dishes** (top 50 dishes in all the countries), respectively.  "
   ]
  },
  {
   "cell_type": "code",
   "execution_count": 1,
   "metadata": {
    "scrolled": true
   },
   "outputs": [
    {
     "name": "stderr",
     "output_type": "stream",
     "text": [
      "Warning message:\n",
      "\"package 'tidyr' was built under R version 4.1.3\"\n",
      "Warning message:\n",
      "\"package 'dplyr' was built under R version 4.1.3\"\n",
      "Warning message:\n",
      "\"package 'readr' was built under R version 4.1.3\"\n",
      "Warning message:\n",
      "\"package 'MASS' was built under R version 4.1.3\"\n",
      "Warning message:\n",
      "\"package 'ggeffects' was built under R version 4.1.3\"\n",
      "Warning message:\n",
      "\"package 'ggplot2' was built under R version 4.1.3\"\n",
      "Warning message:\n",
      "\"package 'ggforce' was built under R version 4.1.3\"\n",
      "Warning message:\n",
      "\"package 'repr' was built under R version 4.1.3\"\n",
      "Warning message:\n",
      "\"package 'modelr' was built under R version 4.1.3\"\n",
      "Warning message:\n",
      "\"package 'broom' was built under R version 4.1.3\"\n",
      "Warning message:\n",
      "\"package 'scatterPlotMatrix' was built under R version 4.1.3\"\n",
      "Warning message:\n",
      "\"package 'tidyverse' was built under R version 4.1.3\"\n",
      "Warning message:\n",
      "\"package 'tibble' was built under R version 4.1.3\"\n",
      "Warning message:\n",
      "\"package 'purrr' was built under R version 4.1.3\"\n",
      "Warning message:\n",
      "\"package 'stringr' was built under R version 4.1.3\"\n",
      "Warning message:\n",
      "\"package 'forcats' was built under R version 4.1.3\"\n",
      "Warning message:\n",
      "\"package 'GGally' was built under R version 4.1.3\"\n",
      "Warning message:\n",
      "\"package 'htmlwidgets' was built under R version 4.1.3\"\n",
      "Warning message:\n",
      "\"package 'IRdisplay' was built under R version 4.1.3\"\n",
      "Warning message:\n",
      "\"package 'dotwhisker' was built under R version 4.1.3\"\n",
      "Warning message:\n",
      "\"package 'loo' was built under R version 4.1.3\"\n",
      "Warning message:\n",
      "\"package 'blmeco' was built under R version 4.1.3\"\n",
      "Warning message:\n",
      "\"package 'ggrepel' was built under R version 4.1.3\"\n",
      "Warning message:\n",
      "\"package 'corrplot' was built under R version 4.1.3\"\n",
      "Warning message:\n",
      "\"package 'RColorBrewer' was built under R version 4.1.3\"\n",
      "Warning message:\n",
      "\"package 'texreg' was built under R version 4.1.3\"\n",
      "Warning message:\n",
      "\"package 'caret' was built under R version 4.1.3\"\n",
      "Warning message:\n",
      "\"package 'lattice' was built under R version 4.1.3\"\n"
     ]
    }
   ],
   "source": [
    "shhh <- suppressPackageStartupMessages # It's a library, so shhh!\n",
    "\n",
    "shhh(library(tidyr))\n",
    "shhh(library(dplyr))\n",
    "shhh(library(readr))\n",
    "shhh(library(MASS))\n",
    "shhh(library(ggeffects))\n",
    "shhh(library(ggplot2))\n",
    "shhh(library(ggforce))\n",
    "shhh(library(splines))\n",
    "shhh(library(repr))\n",
    "shhh(library(modelr))\n",
    "shhh(library(broom))\n",
    "shhh(library(scatterPlotMatrix))\n",
    "shhh(library(tidyverse))\n",
    "shhh(library(GGally))\n",
    "shhh(library(htmlwidgets))\n",
    "shhh(library(IRdisplay))\n",
    "shhh(library(dotwhisker))\n",
    "shhh(library(loo))\n",
    "shhh(library(blmeco))\n",
    "shhh(library(ggrepel))\n",
    "shhh(library(corrplot))\n",
    "shhh(library(RColorBrewer))\n",
    "\n",
    "shhh(library(\"texreg\"))\n",
    "shhh(library(caret))"
   ]
  },
  {
   "cell_type": "code",
   "execution_count": 2,
   "metadata": {},
   "outputs": [],
   "source": [
    "set.seed(10)\n",
    "windowsFonts(A = windowsFont(\"Times New Roman\"))"
   ]
  },
  {
   "cell_type": "markdown",
   "metadata": {},
   "source": [
    "# Data"
   ]
  },
  {
   "cell_type": "code",
   "execution_count": 3,
   "metadata": {},
   "outputs": [
    {
     "data": {
      "text/html": [
       "<table class=\"dataframe\">\n",
       "<caption>A data.frame: 6 × 87</caption>\n",
       "<thead>\n",
       "\t<tr><th></th><th scope=col>destination</th><th scope=col>origin</th><th scope=col>iso_d</th><th scope=col>iso_o</th><th scope=col>col</th><th scope=col>csl</th><th scope=col>cnl</th><th scope=col>prox1</th><th scope=col>lp1</th><th scope=col>prox2</th><th scope=col>...</th><th scope=col>log10_pop_o</th><th scope=col>log10_pop_d</th><th scope=col>log10_area_o</th><th scope=col>log10_area_d</th><th scope=col>log10_GDP_o</th><th scope=col>log10_GDP_d</th><th scope=col>log10_GDP_percapita_o</th><th scope=col>log10_GDP_percapita_d</th><th scope=col>log10_distwces</th><th scope=col>log10_distcap</th></tr>\n",
       "\t<tr><th></th><th scope=col>&lt;chr&gt;</th><th scope=col>&lt;chr&gt;</th><th scope=col>&lt;chr&gt;</th><th scope=col>&lt;chr&gt;</th><th scope=col>&lt;int&gt;</th><th scope=col>&lt;dbl&gt;</th><th scope=col>&lt;dbl&gt;</th><th scope=col>&lt;dbl&gt;</th><th scope=col>&lt;dbl&gt;</th><th scope=col>&lt;dbl&gt;</th><th scope=col>...</th><th scope=col>&lt;dbl&gt;</th><th scope=col>&lt;dbl&gt;</th><th scope=col>&lt;dbl&gt;</th><th scope=col>&lt;dbl&gt;</th><th scope=col>&lt;dbl&gt;</th><th scope=col>&lt;dbl&gt;</th><th scope=col>&lt;dbl&gt;</th><th scope=col>&lt;dbl&gt;</th><th scope=col>&lt;dbl&gt;</th><th scope=col>&lt;dbl&gt;</th></tr>\n",
       "</thead>\n",
       "<tbody>\n",
       "\t<tr><th scope=row>1</th><td>Argentina</td><td>Australia    </td><td>ARG</td><td>AUS</td><td>0</td><td>0.02058416</td><td>0.00080000</td><td>0.25</td><td>1.945866</td><td>0.13052547</td><td>...</td><td>7.401456</td><td>7.651091</td><td>6.885748</td><td>6.441992</td><td>12.16152</td><td>11.64129</td><td>4.769883</td><td>4.104358</td><td>4.079842</td><td>4.069442</td></tr>\n",
       "\t<tr><th scope=row>2</th><td>Argentina</td><td>Brazil       </td><td>ARG</td><td>BRA</td><td>0</td><td>0.06052872</td><td>0.00080000</td><td>0.75</td><td>5.837599</td><td>0.42439765</td><td>...</td><td>8.324384</td><td>7.651091</td><td>6.930028</td><td>6.441992</td><td>12.37373</td><td>11.64129</td><td>3.934105</td><td>4.104358</td><td>3.319997</td><td>3.371669</td></tr>\n",
       "\t<tr><th scope=row>3</th><td>Argentina</td><td>Chile        </td><td>ARG</td><td>CHL</td><td>1</td><td>0.98010004</td><td>0.85439998</td><td>0.00</td><td>0.000000</td><td>0.00000000</td><td>...</td><td>7.277656</td><td>7.651091</td><td>5.879064</td><td>6.441992</td><td>11.45490</td><td>11.64129</td><td>4.138662</td><td>4.104358</td><td>2.973884</td><td>3.052431</td></tr>\n",
       "\t<tr><th scope=row>4</th><td>Argentina</td><td>France       </td><td>ARG</td><td>FRA</td><td>0</td><td>0.13392781</td><td>0.01039232</td><td>0.50</td><td>3.891733</td><td>0.25450581</td><td>...</td><td>7.813779</td><td>7.651091</td><td>5.738008</td><td>6.441992</td><td>12.47304</td><td>11.64129</td><td>4.589190</td><td>4.104358</td><td>4.038297</td><td>4.044236</td></tr>\n",
       "\t<tr><th scope=row>5</th><td>Argentina</td><td>Great Britain</td><td>ARG</td><td>GBR</td><td>0</td><td>0.08325152</td><td>0.00000000</td><td>0.25</td><td>1.945866</td><td>0.13052547</td><td>...</td><td>7.829498</td><td>7.651091</td><td>5.387586</td><td>6.441992</td><td>12.46442</td><td>11.64129</td><td>4.676617</td><td>4.104358</td><td>4.046426</td><td>4.047177</td></tr>\n",
       "\t<tr><th scope=row>6</th><td>Argentina</td><td>Indonesia    </td><td>ARG</td><td>IDN</td><td>0</td><td>0.00000000</td><td>0.00000000</td><td>0.00</td><td>0.000000</td><td>0.07436915</td><td>...</td><td>8.432369</td><td>7.651091</td><td>6.286380</td><td>6.441992</td><td>12.08079</td><td>11.64129</td><td>3.590220</td><td>4.104358</td><td>4.192234</td><td>4.182865</td></tr>\n",
       "</tbody>\n",
       "</table>\n"
      ],
      "text/latex": [
       "A data.frame: 6 × 87\n",
       "\\begin{tabular}{r|lllllllllllllllllllll}\n",
       "  & destination & origin & iso\\_d & iso\\_o & col & csl & cnl & prox1 & lp1 & prox2 & ... & log10\\_pop\\_o & log10\\_pop\\_d & log10\\_area\\_o & log10\\_area\\_d & log10\\_GDP\\_o & log10\\_GDP\\_d & log10\\_GDP\\_percapita\\_o & log10\\_GDP\\_percapita\\_d & log10\\_distwces & log10\\_distcap\\\\\n",
       "  & <chr> & <chr> & <chr> & <chr> & <int> & <dbl> & <dbl> & <dbl> & <dbl> & <dbl> & ... & <dbl> & <dbl> & <dbl> & <dbl> & <dbl> & <dbl> & <dbl> & <dbl> & <dbl> & <dbl>\\\\\n",
       "\\hline\n",
       "\t1 & Argentina & Australia     & ARG & AUS & 0 & 0.02058416 & 0.00080000 & 0.25 & 1.945866 & 0.13052547 & ... & 7.401456 & 7.651091 & 6.885748 & 6.441992 & 12.16152 & 11.64129 & 4.769883 & 4.104358 & 4.079842 & 4.069442\\\\\n",
       "\t2 & Argentina & Brazil        & ARG & BRA & 0 & 0.06052872 & 0.00080000 & 0.75 & 5.837599 & 0.42439765 & ... & 8.324384 & 7.651091 & 6.930028 & 6.441992 & 12.37373 & 11.64129 & 3.934105 & 4.104358 & 3.319997 & 3.371669\\\\\n",
       "\t3 & Argentina & Chile         & ARG & CHL & 1 & 0.98010004 & 0.85439998 & 0.00 & 0.000000 & 0.00000000 & ... & 7.277656 & 7.651091 & 5.879064 & 6.441992 & 11.45490 & 11.64129 & 4.138662 & 4.104358 & 2.973884 & 3.052431\\\\\n",
       "\t4 & Argentina & France        & ARG & FRA & 0 & 0.13392781 & 0.01039232 & 0.50 & 3.891733 & 0.25450581 & ... & 7.813779 & 7.651091 & 5.738008 & 6.441992 & 12.47304 & 11.64129 & 4.589190 & 4.104358 & 4.038297 & 4.044236\\\\\n",
       "\t5 & Argentina & Great Britain & ARG & GBR & 0 & 0.08325152 & 0.00000000 & 0.25 & 1.945866 & 0.13052547 & ... & 7.829498 & 7.651091 & 5.387586 & 6.441992 & 12.46442 & 11.64129 & 4.676617 & 4.104358 & 4.046426 & 4.047177\\\\\n",
       "\t6 & Argentina & Indonesia     & ARG & IDN & 0 & 0.00000000 & 0.00000000 & 0.00 & 0.000000 & 0.07436915 & ... & 8.432369 & 7.651091 & 6.286380 & 6.441992 & 12.08079 & 11.64129 & 3.590220 & 4.104358 & 4.192234 & 4.182865\\\\\n",
       "\\end{tabular}\n"
      ],
      "text/markdown": [
       "\n",
       "A data.frame: 6 × 87\n",
       "\n",
       "| <!--/--> | destination &lt;chr&gt; | origin &lt;chr&gt; | iso_d &lt;chr&gt; | iso_o &lt;chr&gt; | col &lt;int&gt; | csl &lt;dbl&gt; | cnl &lt;dbl&gt; | prox1 &lt;dbl&gt; | lp1 &lt;dbl&gt; | prox2 &lt;dbl&gt; | ... ... | log10_pop_o &lt;dbl&gt; | log10_pop_d &lt;dbl&gt; | log10_area_o &lt;dbl&gt; | log10_area_d &lt;dbl&gt; | log10_GDP_o &lt;dbl&gt; | log10_GDP_d &lt;dbl&gt; | log10_GDP_percapita_o &lt;dbl&gt; | log10_GDP_percapita_d &lt;dbl&gt; | log10_distwces &lt;dbl&gt; | log10_distcap &lt;dbl&gt; |\n",
       "|---|---|---|---|---|---|---|---|---|---|---|---|---|---|---|---|---|---|---|---|---|---|\n",
       "| 1 | Argentina | Australia     | ARG | AUS | 0 | 0.02058416 | 0.00080000 | 0.25 | 1.945866 | 0.13052547 | ... | 7.401456 | 7.651091 | 6.885748 | 6.441992 | 12.16152 | 11.64129 | 4.769883 | 4.104358 | 4.079842 | 4.069442 |\n",
       "| 2 | Argentina | Brazil        | ARG | BRA | 0 | 0.06052872 | 0.00080000 | 0.75 | 5.837599 | 0.42439765 | ... | 8.324384 | 7.651091 | 6.930028 | 6.441992 | 12.37373 | 11.64129 | 3.934105 | 4.104358 | 3.319997 | 3.371669 |\n",
       "| 3 | Argentina | Chile         | ARG | CHL | 1 | 0.98010004 | 0.85439998 | 0.00 | 0.000000 | 0.00000000 | ... | 7.277656 | 7.651091 | 5.879064 | 6.441992 | 11.45490 | 11.64129 | 4.138662 | 4.104358 | 2.973884 | 3.052431 |\n",
       "| 4 | Argentina | France        | ARG | FRA | 0 | 0.13392781 | 0.01039232 | 0.50 | 3.891733 | 0.25450581 | ... | 7.813779 | 7.651091 | 5.738008 | 6.441992 | 12.47304 | 11.64129 | 4.589190 | 4.104358 | 4.038297 | 4.044236 |\n",
       "| 5 | Argentina | Great Britain | ARG | GBR | 0 | 0.08325152 | 0.00000000 | 0.25 | 1.945866 | 0.13052547 | ... | 7.829498 | 7.651091 | 5.387586 | 6.441992 | 12.46442 | 11.64129 | 4.676617 | 4.104358 | 4.046426 | 4.047177 |\n",
       "| 6 | Argentina | Indonesia     | ARG | IDN | 0 | 0.00000000 | 0.00000000 | 0.00 | 0.000000 | 0.07436915 | ... | 8.432369 | 7.651091 | 6.286380 | 6.441992 | 12.08079 | 11.64129 | 3.590220 | 4.104358 | 4.192234 | 4.182865 |\n",
       "\n"
      ],
      "text/plain": [
       "  destination origin        iso_d iso_o col csl        cnl        prox1\n",
       "1 Argentina   Australia     ARG   AUS   0   0.02058416 0.00080000 0.25 \n",
       "2 Argentina   Brazil        ARG   BRA   0   0.06052872 0.00080000 0.75 \n",
       "3 Argentina   Chile         ARG   CHL   1   0.98010004 0.85439998 0.00 \n",
       "4 Argentina   France        ARG   FRA   0   0.13392781 0.01039232 0.50 \n",
       "5 Argentina   Great Britain ARG   GBR   0   0.08325152 0.00000000 0.25 \n",
       "6 Argentina   Indonesia     ARG   IDN   0   0.00000000 0.00000000 0.00 \n",
       "  lp1      prox2      ... log10_pop_o log10_pop_d log10_area_o log10_area_d\n",
       "1 1.945866 0.13052547 ... 7.401456    7.651091    6.885748     6.441992    \n",
       "2 5.837599 0.42439765 ... 8.324384    7.651091    6.930028     6.441992    \n",
       "3 0.000000 0.00000000 ... 7.277656    7.651091    5.879064     6.441992    \n",
       "4 3.891733 0.25450581 ... 7.813779    7.651091    5.738008     6.441992    \n",
       "5 1.945866 0.13052547 ... 7.829498    7.651091    5.387586     6.441992    \n",
       "6 0.000000 0.07436915 ... 8.432369    7.651091    6.286380     6.441992    \n",
       "  log10_GDP_o log10_GDP_d log10_GDP_percapita_o log10_GDP_percapita_d\n",
       "1 12.16152    11.64129    4.769883              4.104358             \n",
       "2 12.37373    11.64129    3.934105              4.104358             \n",
       "3 11.45490    11.64129    4.138662              4.104358             \n",
       "4 12.47304    11.64129    4.589190              4.104358             \n",
       "5 12.46442    11.64129    4.676617              4.104358             \n",
       "6 12.08079    11.64129    3.590220              4.104358             \n",
       "  log10_distwces log10_distcap\n",
       "1 4.079842       4.069442     \n",
       "2 3.319997       3.371669     \n",
       "3 2.973884       3.052431     \n",
       "4 4.038297       4.044236     \n",
       "5 4.046426       4.047177     \n",
       "6 4.192234       4.182865     "
      ]
     },
     "metadata": {},
     "output_type": "display_data"
    }
   ],
   "source": [
    "gmodel_data <- read.csv(\"data/subset-final-dataset.csv\")\n",
    "\n",
    "head(gmodel_data)"
   ]
  },
  {
   "cell_type": "code",
   "execution_count": 4,
   "metadata": {
    "scrolled": true
   },
   "outputs": [
    {
     "data": {
      "text/html": [
       "<style>\n",
       ".list-inline {list-style: none; margin:0; padding: 0}\n",
       ".list-inline>li {display: inline-block}\n",
       ".list-inline>li:not(:last-child)::after {content: \"\\00b7\"; padding: 0 .5ex}\n",
       "</style>\n",
       "<ol class=list-inline><li>240</li><li>87</li></ol>\n"
      ],
      "text/latex": [
       "\\begin{enumerate*}\n",
       "\\item 240\n",
       "\\item 87\n",
       "\\end{enumerate*}\n"
      ],
      "text/markdown": [
       "1. 240\n",
       "2. 87\n",
       "\n",
       "\n"
      ],
      "text/plain": [
       "[1] 240  87"
      ]
     },
     "metadata": {},
     "output_type": "display_data"
    }
   ],
   "source": [
    "dim(gmodel_data)"
   ]
  },
  {
   "cell_type": "markdown",
   "metadata": {
    "deletable": false,
    "editable": false,
    "run_control": {
     "frozen": true
    }
   },
   "source": [
    "# Correlations"
   ]
  },
  {
   "cell_type": "markdown",
   "metadata": {
    "deletable": false,
    "editable": false,
    "run_control": {
     "frozen": true
    }
   },
   "source": [
    "### Correlation between migration flows and geographic distances"
   ]
  },
  {
   "cell_type": "code",
   "execution_count": 5,
   "metadata": {},
   "outputs": [
    {
     "name": "stderr",
     "output_type": "stream",
     "text": [
      "Warning message:\n",
      "\"ggrepel: 230 unlabeled data points (too many overlaps). Consider increasing max.overlaps\"\n"
     ]
    },
    {
     "data": {
      "image/png": "[encoded data removed]",
      "text/plain": [
       "plot without title"
      ]
     },
     "metadata": {
      "image/png": {
       "height": 420,
       "width": 420
      }
     },
     "output_type": "display_data"
    }
   ],
   "source": [
    "ggplot(gmodel_data, aes(x=log10_distcap, y=log10_distwces)) +\n",
    "  geom_point() +\n",
    "  geom_text_repel(label = paste0(gmodel_data$iso_o, \"-\", gmodel_data$iso_d), max.overlaps = 8) +\n",
    "  labs(title= paste0(\"Correlation between Distances: distcap vs. distwces: \", round(cor(gmodel_data$log10_distwces, gmodel_data$log10_distcap), 4)),\n",
    "       x=\"log10(distance capitals)\", y = \"log10(weighted distance)\") +\n",
    "  theme_classic() +\n",
    "  theme(text = element_text(size=12))"
   ]
  },
  {
   "cell_type": "code",
   "execution_count": 6,
   "metadata": {},
   "outputs": [
    {
     "name": "stderr",
     "output_type": "stream",
     "text": [
      "Warning message:\n",
      "\"ggrepel: 202 unlabeled data points (too many overlaps). Consider increasing max.overlaps\"\n"
     ]
    },
    {
     "data": {
      "image/png": "[encoded data removed]",
      "text/plain": [
       "plot without title"
      ]
     },
     "metadata": {
      "image/png": {
       "height": 420,
       "width": 420
      }
     },
     "output_type": "display_data"
    }
   ],
   "source": [
    "ggplot(gmodel_data, aes(x=log10_distwces, y=log10_m_flow_da_pb_closed)) +\n",
    "  geom_point() +\n",
    "  geom_text_repel(label = paste0(gmodel_data$iso_o, \"-\", gmodel_data$iso_d), max.overlaps = 8) +\n",
    "  labs(title= paste0(\"Correlation between Distance and Migration flows: \", round(cor(gmodel_data$log10_m_flow_da_pb_closed, gmodel_data$log10_distwces), 2)),\n",
    "       x=\"log10(distance)\", y = \"log10(migration flow)\") +\n",
    "  theme_classic() +\n",
    "  theme(text = element_text(size=12))"
   ]
  },
  {
   "cell_type": "code",
   "execution_count": 7,
   "metadata": {},
   "outputs": [
    {
     "name": "stderr",
     "output_type": "stream",
     "text": [
      "Warning message:\n",
      "\"ggrepel: 161 unlabeled data points (too many overlaps). Consider increasing max.overlaps\"\n"
     ]
    },
    {
     "data": {
      "image/png": "[encoded data removed]",
      "text/plain": [
       "plot without title"
      ]
     },
     "metadata": {
      "image/png": {
       "height": 420,
       "width": 420
      }
     },
     "output_type": "display_data"
    }
   ],
   "source": [
    "ggplot(gmodel_data, aes(x=log10_pop_o, y=log10_m_flow_da_pb_closed)) +\n",
    "  geom_point() +\n",
    "  geom_text_repel(label = paste0(gmodel_data$iso_o, \"-\", gmodel_data$iso_d), max.overlaps = 8) +\n",
    "  labs(title= paste0(\"Correlation between Population (origin) and Migration flows: \", round(cor(gmodel_data$log10_m_flow_da_pb_closed, gmodel_data$log10_pop_o), 2)),\n",
    "       x=\"log10(population origin)\", y = \"log10(migration flow)\") +\n",
    "  theme_classic() +\n",
    "  theme(text = element_text(size=12))"
   ]
  },
  {
   "cell_type": "code",
   "execution_count": 8,
   "metadata": {},
   "outputs": [
    {
     "name": "stderr",
     "output_type": "stream",
     "text": [
      "Warning message:\n",
      "\"ggrepel: 171 unlabeled data points (too many overlaps). Consider increasing max.overlaps\"\n"
     ]
    },
    {
     "data": {
      "image/png": "[encoded data removed]",
      "text/plain": [
       "plot without title"
      ]
     },
     "metadata": {
      "image/png": {
       "height": 420,
       "width": 420
      }
     },
     "output_type": "display_data"
    }
   ],
   "source": [
    "ggplot(gmodel_data, aes(x=log10_pop_d, y=log10_m_flow_da_pb_closed)) +\n",
    "  geom_point() +\n",
    "  geom_text_repel(label = paste0(gmodel_data$iso_o, \"-\", gmodel_data$iso_d), max.overlaps = 8) +\n",
    "  labs(title= paste0(\"Correlation between Population (destination) and Migration flows: \", round(cor(gmodel_data$log10_m_flow_da_pb_closed, gmodel_data$log10_pop_d), 2)),\n",
    "       x=\"log10(population destination)\", y = \"log10(migration flow)\") +\n",
    "  theme_classic() +\n",
    "  theme(text = element_text(size=12))"
   ]
  },
  {
   "cell_type": "code",
   "execution_count": 9,
   "metadata": {},
   "outputs": [
    {
     "name": "stderr",
     "output_type": "stream",
     "text": [
      "Warning message:\n",
      "\"ggrepel: 185 unlabeled data points (too many overlaps). Consider increasing max.overlaps\"\n"
     ]
    },
    {
     "data": {
      "image/png": "[encoded data removed]",
      "text/plain": [
       "plot without title"
      ]
     },
     "metadata": {
      "image/png": {
       "height": 420,
       "width": 420
      }
     },
     "output_type": "display_data"
    }
   ],
   "source": [
    "ggplot(gmodel_data, aes(x=CS_wvs, y=log10_m_flow_da_pb_closed)) +\n",
    "  geom_point() +\n",
    "  geom_text_repel(label = paste0(gmodel_data$iso_o, \"-\", gmodel_data$iso_d), max.overlaps = 5) +\n",
    "  labs(title= paste0(\"Correlation between WVS Cultural Similarity and Migration flows: \", round(cor(gmodel_data$log10_m_flow_da_pb_closed, gmodel_data$CS_wvs), 2)),\n",
    "       x=\"WVS cultural similarity\", y = \"log10(migration flow)\") +\n",
    "  theme_classic() +\n",
    "  theme(text = element_text(size=12))"
   ]
  },
  {
   "cell_type": "markdown",
   "metadata": {
    "deletable": false,
    "editable": false,
    "run_control": {
     "frozen": true
    }
   },
   "source": [
    "### Correlations between CS cosine and CS Euclidean"
   ]
  },
  {
   "cell_type": "code",
   "execution_count": 10,
   "metadata": {},
   "outputs": [
    {
     "name": "stderr",
     "output_type": "stream",
     "text": [
      "Warning message:\n",
      "\"ggrepel: 202 unlabeled data points (too many overlaps). Consider increasing max.overlaps\"\n",
      "\u001b[1m\u001b[22mSaving 6.67 x 6.67 in image\n",
      "Warning message:\n",
      "\"ggrepel: 203 unlabeled data points (too many overlaps). Consider increasing max.overlaps\"\n",
      "\u001b[1m\u001b[22mSaving 6.67 x 6.67 in image\n",
      "Warning message:\n",
      "\"ggrepel: 203 unlabeled data points (too many overlaps). Consider increasing max.overlaps\"\n",
      "\u001b[1m\u001b[22mSaving 6.67 x 6.67 in image\n",
      "Warning message:\n",
      "\"ggrepel: 203 unlabeled data points (too many overlaps). Consider increasing max.overlaps\"\n",
      "Warning message in grid.Call.graphics(C_polygon, x$x, x$y, index):\n",
      "\"semi-transparency is not supported on this device: reported only once per page\"\n"
     ]
    },
    {
     "data": {
      "image/png": "[encoded data removed]",
      "text/plain": [
       "plot without title"
      ]
     },
     "metadata": {
      "image/png": {
       "height": 420,
       "width": 420
      }
     },
     "output_type": "display_data"
    }
   ],
   "source": [
    "ggplot(gmodel_data, aes(x=CS_wvs, y=CS_euc_wvs)) +\n",
    "  geom_point() +\n",
    "  #geom_text(label=paste0(gmodel_data$iso_o, \"-\", gmodel_data$iso_d)) +\n",
    "  xlim(-1.5, 1.5) +\n",
    "  geom_text_repel(label = paste0(gmodel_data$iso_o, \"-\", gmodel_data$iso_d), max.overlaps = 8) +\n",
    "  labs(title= paste0(\"Correlation between CS WVS cosine and Euclidean: \", round(cor(gmodel_data$CS_wvs, gmodel_data$CS_euc_wvs), 2)),\n",
    "       x=\"CS WVS cosine similarity\", y = \"CS WVS Euclidean similarity\") +\n",
    "  theme_classic() +\n",
    "  stat_smooth(method = \"lm\",\n",
    "              formula = y ~ x,\n",
    "              geom = \"smooth\")\n",
    "\n",
    "ggsave(\"figs/corr_CS_wvs.pdf\")\n",
    "ggsave(\"figs/corr_CS_wvs.png\")\n",
    "ggsave(\"figs/Vieira_Figure_A2.eps\")"
   ]
  },
  {
   "cell_type": "code",
   "execution_count": 11,
   "metadata": {},
   "outputs": [
    {
     "name": "stderr",
     "output_type": "stream",
     "text": [
      "Warning message:\n",
      "\"ggrepel: 230 unlabeled data points (too many overlaps). Consider increasing max.overlaps\"\n",
      "\u001b[1m\u001b[22mSaving 6.67 x 6.67 in image\n",
      "Warning message:\n",
      "\"ggrepel: 230 unlabeled data points (too many overlaps). Consider increasing max.overlaps\"\n",
      "\u001b[1m\u001b[22mSaving 6.67 x 6.67 in image\n",
      "Warning message:\n",
      "\"ggrepel: 230 unlabeled data points (too many overlaps). Consider increasing max.overlaps\"\n",
      "\u001b[1m\u001b[22mSaving 6.67 x 6.67 in image\n",
      "Warning message:\n",
      "\"ggrepel: 230 unlabeled data points (too many overlaps). Consider increasing max.overlaps\"\n",
      "Warning message in grid.Call.graphics(C_polygon, x$x, x$y, index):\n",
      "\"semi-transparency is not supported on this device: reported only once per page\"\n"
     ]
    },
    {
     "data": {
      "image/png": "[encoded data removed]",
      "text/plain": [
       "plot without title"
      ]
     },
     "metadata": {
      "image/png": {
       "height": 420,
       "width": 420
      }
     },
     "output_type": "display_data"
    }
   ],
   "source": [
    "ggplot(gmodel_data, aes(x=CS_foursquare, y=CS_euc_foursquare)) +\n",
    "  geom_point() +\n",
    "  #geom_text(label=paste0(gmodel_data$iso_o, \"-\", gmodel_data$iso_d)) +\n",
    "  xlim(-1.5, 1.5) +\n",
    "  geom_text_repel(label = paste0(gmodel_data$iso_o, \"-\", gmodel_data$iso_d), max.overlaps = 5) +\n",
    "  labs(title= paste0(\"Correlation between CS Foursquare cosine and Euclidean: \", round(cor(gmodel_data$CS_foursquare, gmodel_data$CS_euc_foursquare), 2)),\n",
    "       x=\"CS Foursquare cosine similarity\", y = \"CS Foursquare Euclidean similarity\") +\n",
    "  theme_classic() +\n",
    "  stat_smooth(method = \"lm\",\n",
    "              formula = y ~ x,\n",
    "              geom = \"smooth\")\n",
    "\n",
    "ggsave(\"figs/corr_CS_foursquare.pdf\")\n",
    "ggsave(\"figs/corr_CS_foursquare.png\")\n",
    "ggsave(\"figs/Vieira_Figure_A3.eps\")"
   ]
  },
  {
   "cell_type": "code",
   "execution_count": 12,
   "metadata": {
    "scrolled": true
   },
   "outputs": [
    {
     "data": {
      "image/png": "[encoded data removed]",
      "text/plain": [
       "plot without title"
      ]
     },
     "metadata": {
      "image/png": {
       "height": 420,
       "width": 420
      }
     },
     "output_type": "display_data"
    }
   ],
   "source": [
    "colnames <- c(\"log10(migration flow)\", \"CS WVS cosine\", \"CS WVS Euclidean\")\n",
    "\n",
    "# Scatter plot matrix with GGally\n",
    "ggpairs(gmodel_data, \n",
    "        columns = c(\"log10_m_flow_da_pb_closed\", \"CS_wvs\", \"CS_euc_wvs\"),\n",
    "        columnLabels = colnames,\n",
    "        upper = list(continuous = wrap('cor', size = 4, col=\"black\")),\n",
    "        lower = list(continuous = wrap(\"points\", size=0.8, alpha=0.4, pch=16)),\n",
    "        diag = list(continuous = wrap(\"densityDiag\", alpha = 0.1))) + \n",
    "\n",
    "theme(axis.text = element_text(size = 8)) + theme_bw()"
   ]
  },
  {
   "cell_type": "code",
   "execution_count": 13,
   "metadata": {
    "scrolled": true
   },
   "outputs": [
    {
     "data": {
      "image/png": "[encoded data removed]",
      "text/plain": [
       "plot without title"
      ]
     },
     "metadata": {
      "image/png": {
       "height": 420,
       "width": 420
      }
     },
     "output_type": "display_data"
    }
   ],
   "source": [
    "colnames <- c(\"log10(migration flow)\", \"CS Foursquare cosine\", \"CS Foursquare Euclidean\")\n",
    "\n",
    "# Scatter plot matrix with GGally\n",
    "ggpairs(gmodel_data, \n",
    "        columns = c(\"log10_m_flow_da_pb_closed\", \"CS_foursquare\", \"CS_euc_foursquare\"),\n",
    "        columnLabels = colnames,\n",
    "        upper = list(continuous = wrap('cor', size = 4, col=\"black\")),\n",
    "        lower = list(continuous = wrap(\"points\", size=0.8, alpha=0.4, pch=16)),\n",
    "        diag = list(continuous = wrap(\"densityDiag\", alpha = 0.1))) + \n",
    "\n",
    "theme(axis.text = element_text(size = 8)) + theme_bw()"
   ]
  },
  {
   "cell_type": "markdown",
   "metadata": {
    "deletable": false,
    "editable": false,
    "run_control": {
     "frozen": true
    }
   },
   "source": [
    "### Correlation between Facebook CS measures and other variables..."
   ]
  },
  {
   "cell_type": "code",
   "execution_count": null,
   "metadata": {},
   "outputs": [],
   "source": [
    "colnames <- c(\"log10(m flow)\", \"log10(m stock)\", \"log10(pop o)\", \"log10(pop d)\",\n",
    "              \"log10(area o)\", \"log10(area d)\", \"log10(dist)\", \n",
    "              \"log10(GDP percapita o)\", \"log10(GDP percapita d)\", \n",
    "              \"col\", \"lp1\", \"history\",\n",
    "              \"CS WVS\", \"CS Foursquare\",\n",
    "              \"CS asym food o\", \"CS asym food d\",\n",
    "              \"CS symm\")\n",
    "\n",
    "\n",
    "# Scatter plot matrix with GGally\n",
    "ggpairs(gmodel_data, \n",
    "        columns = c(\"log10_m_flow_da_pb_closed\", \"log10_m_stock\", \n",
    "                    \"log10_pop_o\", \"log10_pop_d\", \n",
    "                    \"log10_area_o\", \"log10_area_d\", \n",
    "                    \"log10_distwces\",\n",
    "                    \"log10_GDP_percapita_o\", \"log10_GDP_percapita_d\",\n",
    "                    \"col\", \"lp1\", \"shared_hist\", \n",
    "                    \"CS_wvs\", \"CS_foursquare\",\n",
    "                    \"CS_nonsymm_food_o\", \"CS_nonsymm_food_d\", \n",
    "                    \"CS_symm\"),\n",
    "        columnLabels = colnames,\n",
    "        upper = list(continuous = wrap('cor', size = 5, col=\"black\")),\n",
    "        lower = list(continuous = wrap(\"points\", size=4, alpha=1, pch=20)),\n",
    "        diag = list(continuous = wrap(\"densityDiag\", alpha=1))) + \n",
    "theme(axis.text = element_text(size = 2), \n",
    "      strip.text.x = element_text(size = 2), \n",
    "      strip.text.y = element_text(size = 2), \n",
    "      axis.title.x = element_text(angle = 45)) + theme_bw()\n",
    "\n",
    "\n",
    "\n",
    "ggsave(\"figs/corr_allvar.pdf\", height = 26, width = 26)\n",
    "ggsave(\"figs/corr_allvar.png\", height = 26, width = 26)\n",
    "ggsave(\"figs/Vieira_Figure_A1.eps\", height = 26, width = 26)"
   ]
  },
  {
   "cell_type": "code",
   "execution_count": null,
   "metadata": {},
   "outputs": [],
   "source": [
    "gdata_heatmap <- gmodel_data[,c(\"log10_m_flow_da_pb_closed\", \"log10_m_stock\", \n",
    "                    \"log10_pop_o\", \"log10_pop_d\", \n",
    "                    \"log10_area_o\", \"log10_area_d\", \n",
    "                    \"log10_distwces\",\n",
    "                    \"log10_GDP_percapita_o\", \"log10_GDP_percapita_d\",\n",
    "                    \"col\", \"lp1\", \"shared_hist\", \n",
    "                    \"CS_wvs\", \"CS_foursquare\",\n",
    "                    \"CS_nonsymm_food_o\", \"CS_nonsymm_food_d\", \n",
    "                    \"CS_symm\")]\n",
    "\n",
    "cormat <- round(cor(gdata_heatmap),2)\n",
    "\n",
    "col<- colorRampPalette(c(\"blue\", \"white\", \"red\"))(20)\n",
    "heatmap(x = cormat, col = col, symm = TRUE)"
   ]
  },
  {
   "cell_type": "code",
   "execution_count": null,
   "metadata": {},
   "outputs": [],
   "source": [
    "options(repr.plot.width = 8, repr.plot.height = 8, repr.plot.res = 200)\n",
    "\n",
    "corrplot(cormat, type = \"lower\", col=brewer.pal(n=8, name=\"RdBu\"), tl.col = \"black\", tl.srt = 45)\n"
   ]
  },
  {
   "cell_type": "markdown",
   "metadata": {},
   "source": [
    "# Model + Cross validation"
   ]
  },
  {
   "cell_type": "code",
   "execution_count": null,
   "metadata": {},
   "outputs": [],
   "source": [
    "countries <- c(unique(gmodel_data$destination))"
   ]
  },
  {
   "cell_type": "code",
   "execution_count": null,
   "metadata": {},
   "outputs": [],
   "source": [
    "crossval <- function(gmodel_data, cols, indicators){\n",
    "    \n",
    "    sel_col <- c(\"log10_m_flow_da_pb_closed\", \"log10_pop_o\", \"log10_area_o\", \n",
    "                 \"log10_pop_d\", \"log10_area_d\", \"log10_distwces\")\n",
    "    sel_col <- append(sel_col, cols)\n",
    "        \n",
    "    if (indicators){\n",
    "        for (c in countries) {\n",
    "            c <- str_replace(c, \" \", \".\")\n",
    "            sel_col <- append(sel_col, paste0(\"destination_\", c)) \n",
    "            sel_col <- append(sel_col, paste0(\"origin_\", c)) \n",
    "        }\n",
    "    }\n",
    "\n",
    "    print(sel_col)\n",
    "    \n",
    "    gmodel_data_subset <- subset(gmodel_data, select = sel_col)\n",
    "    \n",
    "    # R program to implement\n",
    "    # Leave one out cross validation\n",
    "\n",
    "    # defining training control\n",
    "    # as Leave One Out Cross Validation\n",
    "    train_control <- trainControl(method = \"LOOCV\")\n",
    "\n",
    "    # training the model by assigning m_flow_da_pb_closed column\n",
    "    # as target variable and rest other column\n",
    "    # as independent variable  \n",
    "\n",
    "    m <- train(log10_m_flow_da_pb_closed ~ .,\n",
    "                   data = gmodel_data_subset,\n",
    "                   method = \"lm\",\n",
    "                   trControl = train_control)\n",
    "\n",
    "    # printing model performance metrics\n",
    "    # along with other details\n",
    "    print(m)\n",
    "    \n",
    "    return (m)\n",
    "}"
   ]
  },
  {
   "cell_type": "markdown",
   "metadata": {},
   "source": [
    "### Baseline: \n",
    "\n",
    "https://www.pnas.org/doi/10.1073/pnas.0808185105#supplementary-materials\n",
    "\n",
    "The starting linear model was fitted [supporting information (SI) Table S1] with the dependent variable log(migrants) and with the six independent variables that we call “basic” [year minus 1985, log(ppnorig), log(areaorig), log(ppndest), log(areadest), log(distance)] and all indicator variables (orig.indicator, dest.indicator, orig.is.datasource, dest.is.datasource). The Multiple R2 was 0.5693 and the Adjusted R2 was 0.5689 (see Methods)."
   ]
  },
  {
   "cell_type": "code",
   "execution_count": null,
   "metadata": {},
   "outputs": [],
   "source": [
    "m_baseline <- crossval(gmodel_data, cols=NULL, indicators=FALSE)"
   ]
  },
  {
   "cell_type": "code",
   "execution_count": null,
   "metadata": {},
   "outputs": [],
   "source": [
    "summary(m_baseline$finalModel)"
   ]
  },
  {
   "cell_type": "markdown",
   "metadata": {},
   "source": [
    "### Migrant stock"
   ]
  },
  {
   "cell_type": "code",
   "execution_count": null,
   "metadata": {},
   "outputs": [],
   "source": [
    "m_baseline_stocks <- crossval(gmodel_data, cols=c(\"log10_m_stock\"), indicators=FALSE)"
   ]
  },
  {
   "cell_type": "code",
   "execution_count": null,
   "metadata": {},
   "outputs": [],
   "source": [
    "summary(m_baseline_stocks$finalModel)"
   ]
  },
  {
   "cell_type": "markdown",
   "metadata": {},
   "source": [
    "### GDP"
   ]
  },
  {
   "cell_type": "code",
   "execution_count": null,
   "metadata": {},
   "outputs": [],
   "source": [
    "m_GDP_percapita <- crossval(gmodel_data, cols=c(\"log10_GDP_percapita_o\", \"log10_GDP_percapita_d\"), indicators=FALSE)"
   ]
  },
  {
   "cell_type": "code",
   "execution_count": null,
   "metadata": {},
   "outputs": [],
   "source": [
    "summary(m_GDP_percapita$finalModel)"
   ]
  },
  {
   "cell_type": "markdown",
   "metadata": {},
   "source": [
    "### GDP and migrant stocks"
   ]
  },
  {
   "cell_type": "code",
   "execution_count": null,
   "metadata": {},
   "outputs": [],
   "source": [
    "m_GDP_stocks <- crossval(gmodel_data, cols=c(\"log10_m_stock\", \"log10_GDP_percapita_o\", \"log10_GDP_percapita_d\"), indicators=FALSE)"
   ]
  },
  {
   "cell_type": "code",
   "execution_count": null,
   "metadata": {},
   "outputs": [],
   "source": [
    "summary(m_GDP_stocks$finalModel)"
   ]
  },
  {
   "cell_type": "markdown",
   "metadata": {},
   "source": [
    "#### GDP + Facebook"
   ]
  },
  {
   "cell_type": "code",
   "execution_count": null,
   "metadata": {},
   "outputs": [],
   "source": [
    "m_fb_asym_GDP_stocks <- crossval(gmodel_data, cols=c(\"log10_m_stock\", \"log10_GDP_percapita_o\", \"log10_GDP_percapita_d\", \n",
    "                                                     \"CS_nonsymm_food_o\", \"CS_nonsymm_food_d\"), indicators=FALSE)"
   ]
  },
  {
   "cell_type": "code",
   "execution_count": null,
   "metadata": {},
   "outputs": [],
   "source": [
    "summary(m_fb_asym_GDP_stocks$finalModel)"
   ]
  },
  {
   "cell_type": "code",
   "execution_count": null,
   "metadata": {},
   "outputs": [],
   "source": [
    "m_fb_sym_GDP_stocks <- crossval(gmodel_data, cols=c(\"log10_m_stock\", \"log10_GDP_percapita_o\", \"log10_GDP_percapita_d\", \n",
    "                                                     \"CS_symm\"), indicators=FALSE)"
   ]
  },
  {
   "cell_type": "code",
   "execution_count": null,
   "metadata": {},
   "outputs": [],
   "source": [
    "summary(m_fb_sym_GDP_stocks$finalModel)"
   ]
  },
  {
   "cell_type": "markdown",
   "metadata": {},
   "source": [
    "### Language and History"
   ]
  },
  {
   "cell_type": "code",
   "execution_count": null,
   "metadata": {},
   "outputs": [],
   "source": [
    "m_history_stocks <- crossval(gmodel_data, cols=c(\"log10_m_stock\", \"log10_GDP_percapita_o\", \"log10_GDP_percapita_d\", \n",
    "                                                  \"col\", \"lp1\", \"shared_hist\"), indicators=FALSE)"
   ]
  },
  {
   "cell_type": "code",
   "execution_count": null,
   "metadata": {
    "scrolled": true
   },
   "outputs": [],
   "source": [
    "summary(m_history_stocks$finalModel)"
   ]
  },
  {
   "cell_type": "markdown",
   "metadata": {},
   "source": [
    "#### Langage and History + Facebook"
   ]
  },
  {
   "cell_type": "code",
   "execution_count": null,
   "metadata": {},
   "outputs": [],
   "source": [
    "m_fb_asym_history_stocks <- crossval(gmodel_data, cols=c(\"log10_m_stock\", \"log10_GDP_percapita_o\", \"log10_GDP_percapita_d\", \n",
    "                                                       \"col\", \"lp1\", \"shared_hist\", \"CS_nonsymm_food_o\", \"CS_nonsymm_food_d\"), indicators=FALSE)"
   ]
  },
  {
   "cell_type": "code",
   "execution_count": null,
   "metadata": {},
   "outputs": [],
   "source": [
    "summary(m_fb_asym_history_stocks$finalModel)"
   ]
  },
  {
   "cell_type": "code",
   "execution_count": null,
   "metadata": {},
   "outputs": [],
   "source": [
    "m_fb_sym_history_stocks <- crossval(gmodel_data, cols=c(\"log10_m_stock\", \"log10_GDP_percapita_o\", \"log10_GDP_percapita_d\", \n",
    "                                                       \"col\", \"lp1\", \"shared_hist\", \"CS_symm\"), indicators=FALSE)"
   ]
  },
  {
   "cell_type": "code",
   "execution_count": null,
   "metadata": {},
   "outputs": [],
   "source": [
    "summary(m_fb_sym_history_stocks$finalModel)"
   ]
  },
  {
   "cell_type": "markdown",
   "metadata": {},
   "source": [
    "### WVS CS"
   ]
  },
  {
   "cell_type": "code",
   "execution_count": null,
   "metadata": {},
   "outputs": [],
   "source": [
    "m_wvs_history_stocks <- crossval(gmodel_data, cols=c(\"log10_m_stock\", \"log10_GDP_percapita_o\", \"log10_GDP_percapita_d\", \n",
    "                                                       \"col\", \"lp1\", \"shared_hist\", \"CS_wvs\"), indicators=FALSE)"
   ]
  },
  {
   "cell_type": "code",
   "execution_count": null,
   "metadata": {},
   "outputs": [],
   "source": [
    "summary(m_wvs_history_stocks$finalModel)"
   ]
  },
  {
   "cell_type": "markdown",
   "metadata": {},
   "source": [
    "### Foursquare CS"
   ]
  },
  {
   "cell_type": "code",
   "execution_count": null,
   "metadata": {},
   "outputs": [],
   "source": [
    "m_foursquare_GDP_stocks <- crossval(gmodel_data, cols=c(\"log10_m_stock\", \"log10_GDP_percapita_o\", \"log10_GDP_percapita_d\", \n",
    "                                                       \"CS_foursquare\"), indicators=FALSE)"
   ]
  },
  {
   "cell_type": "code",
   "execution_count": null,
   "metadata": {},
   "outputs": [],
   "source": [
    "summary(m_foursquare_GDP_stocks$finalModel)"
   ]
  },
  {
   "cell_type": "code",
   "execution_count": null,
   "metadata": {},
   "outputs": [],
   "source": [
    "m_foursquare_history_stocks <- crossval(gmodel_data, cols=c(\"log10_m_stock\", \"log10_GDP_percapita_o\", \"log10_GDP_percapita_d\", \n",
    "                                                       \"col\", \"lp1\", \"shared_hist\", \"CS_foursquare\"), indicators=FALSE)"
   ]
  },
  {
   "cell_type": "code",
   "execution_count": null,
   "metadata": {},
   "outputs": [],
   "source": [
    "summary(m_foursquare_history_stocks$finalModel)"
   ]
  },
  {
   "cell_type": "markdown",
   "metadata": {},
   "source": [
    "### Multiple CS measures on the same model:"
   ]
  },
  {
   "cell_type": "code",
   "execution_count": null,
   "metadata": {},
   "outputs": [],
   "source": [
    "m_foursquare_wvs_history_stocks <- crossval(gmodel_data, cols=c(\"log10_m_stock\", \"log10_GDP_percapita_o\", \"log10_GDP_percapita_d\", \n",
    "                                                       \"col\", \"lp1\", \"shared_hist\", \"CS_wvs\", \"CS_foursquare\"), indicators=FALSE)"
   ]
  },
  {
   "cell_type": "code",
   "execution_count": null,
   "metadata": {},
   "outputs": [],
   "source": [
    "summary(m_foursquare_wvs_history_stocks$finalModel)"
   ]
  },
  {
   "cell_type": "markdown",
   "metadata": {},
   "source": [
    "#### Extra models"
   ]
  },
  {
   "cell_type": "code",
   "execution_count": null,
   "metadata": {},
   "outputs": [],
   "source": [
    "m_fb_asym_stocks_no_foursquare <- crossval(gmodel_data, cols=c(\"log10_m_stock\", \"log10_GDP_percapita_o\", \"log10_GDP_percapita_d\", \n",
    "                                                 \"col\", \"lp1\", \"shared_hist\", \"CS_wvs\",\n",
    "                                                 \"CS_nonsymm_food_o\", \"CS_nonsymm_food_d\"), indicators=FALSE)"
   ]
  },
  {
   "cell_type": "code",
   "execution_count": null,
   "metadata": {},
   "outputs": [],
   "source": [
    "summary(m_fb_asym_stocks_no_foursquare$finalModel)"
   ]
  },
  {
   "cell_type": "code",
   "execution_count": null,
   "metadata": {},
   "outputs": [],
   "source": [
    "m_fb_sym_stocks_no_foursquare <- crossval(gmodel_data, cols=c(\"log10_m_stock\", \"log10_GDP_percapita_o\", \"log10_GDP_percapita_d\", \n",
    "                                                 \"col\", \"lp1\", \"shared_hist\", \"CS_wvs\",\n",
    "                                                 \"CS_symm\"), indicators=FALSE)"
   ]
  },
  {
   "cell_type": "code",
   "execution_count": null,
   "metadata": {},
   "outputs": [],
   "source": [
    "summary(m_fb_sym_stocks_no_foursquare$finalModel)"
   ]
  },
  {
   "cell_type": "markdown",
   "metadata": {},
   "source": [
    "## LATEX table\n",
    "#### The final model from the Cross-validation using the FULL input dataset "
   ]
  },
  {
   "cell_type": "code",
   "execution_count": null,
   "metadata": {},
   "outputs": [],
   "source": [
    "print(texreg(list(m_GDP_stocks$finalModel,\n",
    "                  m_fb_asym_GDP_stocks$finalModel,\n",
    "                  m_fb_sym_GDP_stocks$finalModel,\n",
    "                  m_foursquare_GDP_stocks$finalModel,\n",
    "                  m_history_stocks$finalModel, \n",
    "                  m_fb_asym_history_stocks$finalModel,\n",
    "                  m_fb_sym_history_stocks$finalModel,\n",
    "                  m_foursquare_history_stocks$finalModel,\n",
    "                  m_wvs_history_stocks$finalModel, \n",
    "                  m_fb_asym_stocks_no_foursquare$finalModel, \n",
    "                  m_fb_sym_stocks_no_foursquare$finalModel, \n",
    "                  m_foursquare_wvs_history_stocks$finalModel), dcolumn = TRUE, booktabs = TRUE, \n",
    "       use.packages = FALSE, label = \"tab:models_flow\", caption = \"Linear models\", \n",
    "       float.pos = \"h\"))"
   ]
  },
  {
   "cell_type": "markdown",
   "metadata": {},
   "source": [
    "## AIC, BIC, and WAIC"
   ]
  },
  {
   "cell_type": "code",
   "execution_count": null,
   "metadata": {},
   "outputs": [],
   "source": [
    "print(\"Model 1: Baseline\")\n",
    "print(m_GDP_stocks$finalModel)\n",
    "print(summary(m_GDP_stocks)$adj.r.squared)\n",
    "print(AIC(m_GDP_stocks$finalModel))\n",
    "print(BIC(m_GDP_stocks$finalModel))\n",
    "print(blmeco::WAIC(m_GDP_stocks$finalModel))\n",
    "\n",
    "print(\"Model 1 + Asymmetric CS\")\n",
    "print(m_fb_asym_GDP_stocks$finalModel)\n",
    "print(summary(m_fb_asym_GDP_stocks)$adj.r.squared)\n",
    "print(AIC(m_fb_asym_GDP_stocks$finalModel))\n",
    "print(BIC(m_fb_asym_GDP_stocks$finalModel))\n",
    "print(blmeco::WAIC(m_fb_asym_GDP_stocks$finalModel))\n",
    "\n",
    "print(\"Model 1 + Symmetric CS\")\n",
    "print(m_fb_sym_GDP_stocks$finalModel)\n",
    "print(summary(m_fb_sym_GDP_stocks)$adj.r.squared)\n",
    "print(AIC(m_fb_sym_GDP_stocks$finalModel))\n",
    "print(BIC(m_fb_sym_GDP_stocks$finalModel))\n",
    "print(blmeco::WAIC(m_fb_sym_GDP_stocks$finalModel))\n",
    "\n",
    "\n",
    "print(\"Model 1 + Foursquare\")\n",
    "print(m_foursquare_GDP_stocks$finalModel)\n",
    "print(summary(m_foursquare_GDP_stocks)$adj.r.squared)\n",
    "print(AIC(m_foursquare_GDP_stocks$finalModel))\n",
    "print(BIC(m_foursquare_GDP_stocks$finalModel))\n",
    "print(blmeco::WAIC(m_foursquare_GDP_stocks$finalModel))\n"
   ]
  },
  {
   "cell_type": "code",
   "execution_count": null,
   "metadata": {},
   "outputs": [],
   "source": [
    "print(\"Model 2: Model 1 + Shared language and history\")\n",
    "print(m_history_stocks$finalModel)\n",
    "print(summary(m_history_stocks)$adj.r.squared)\n",
    "print(AIC(m_history_stocks$finalModel))\n",
    "print(BIC(m_history_stocks$finalModel))\n",
    "print(blmeco::WAIC(m_history_stocks$finalModel))\n",
    "\n",
    "print(\"Model 2 + Asymmetric CS\")\n",
    "print(m_fb_asym_history_stocks$finalModel)\n",
    "print(summary(m_fb_asym_history_stocks)$adj.r.squared)\n",
    "print(AIC(m_fb_asym_history_stocks$finalModel))\n",
    "print(BIC(m_fb_asym_history_stocks$finalModel))\n",
    "print(blmeco::WAIC(m_fb_asym_history_stocks$finalModel))\n",
    "\n",
    "print(\"Model 2 + Symmetric CS\")\n",
    "print(m_fb_sym_history_stocks$finalModel)\n",
    "print(summary(m_fb_sym_history_stocks)$adj.r.squared)\n",
    "print(AIC(m_fb_sym_history_stocks$finalModel))\n",
    "print(BIC(m_fb_sym_history_stocks$finalModel))\n",
    "print(blmeco::WAIC(m_fb_sym_history_stocks$finalModel))\n",
    "\n",
    "print(\"Model 2 + Foursquare\")\n",
    "print(m_foursquare_history_stocks$finalModel)\n",
    "print(summary(m_foursquare_history_stocks)$adj.r.squared)\n",
    "print(AIC(m_foursquare_history_stocks$finalModel))\n",
    "print(BIC(m_foursquare_history_stocks$finalModel))\n",
    "print(blmeco::WAIC(m_foursquare_history_stocks$finalModel))"
   ]
  },
  {
   "cell_type": "code",
   "execution_count": null,
   "metadata": {
    "scrolled": true
   },
   "outputs": [],
   "source": [
    "print(\"Model 3: Model 2 + WVS\")\n",
    "print(m_wvs_history_stocks$finalModel)\n",
    "print(summary(m_wvs_history_stocks)$adj.r.squared)\n",
    "print(AIC(m_wvs_history_stocks$finalModel))\n",
    "print(BIC(m_wvs_history_stocks$finalModel))\n",
    "print(blmeco::WAIC(m_wvs_history_stocks$finalModel))\n",
    "\n",
    "print(\"Model 3 + Asymmetric CS\")\n",
    "print(m_fb_asym_stocks_no_foursquare$finalModel)\n",
    "print(summary(m_fb_asym_stocks_no_foursquare)$adj.r.squared)\n",
    "print(AIC(m_fb_asym_stocks_no_foursquare$finalModel))\n",
    "print(BIC(m_fb_asym_stocks_no_foursquare$finalModel))\n",
    "print(blmeco::WAIC(m_fb_asym_stocks_no_foursquare$finalModel))\n",
    "\n",
    "print(\"Model 3 + Symmetric CS\")\n",
    "print(m_fb_sym_stocks_no_foursquare$finalModel)\n",
    "print(summary(m_fb_sym_stocks_no_foursquare)$adj.r.squared)\n",
    "print(AIC(m_fb_sym_stocks_no_foursquare$finalModel))\n",
    "print(BIC(m_fb_sym_stocks_no_foursquare$finalModel))\n",
    "print(blmeco::WAIC(m_fb_sym_stocks_no_foursquare$finalModel))\n",
    "\n",
    "print(\"Model 3 + Foursquare\")\n",
    "print(m_foursquare_wvs_history_stocks$finalModel)\n",
    "print(summary(m_foursquare_wvs_history_stocks)$adj.r.squared)\n",
    "print(AIC(m_foursquare_wvs_history_stocks$finalModel))\n",
    "print(BIC(m_foursquare_wvs_history_stocks$finalModel))\n",
    "print(blmeco::WAIC(m_foursquare_wvs_history_stocks$finalModel))"
   ]
  },
  {
   "cell_type": "markdown",
   "metadata": {},
   "source": [
    "## PLOT correlations"
   ]
  },
  {
   "cell_type": "code",
   "execution_count": null,
   "metadata": {},
   "outputs": [],
   "source": [
    "gmodel_data_plot_corr <- gmodel_data %>% dplyr::select(c(\"log10_m_stock\", \"log10_m_flow_da_pb_closed\", \"CS_wvs\", \"CS_foursquare\", \"CS_nonsymm_food_o\", \"CS_nonsymm_food_d\", \"CS_symm\"))"
   ]
  },
  {
   "cell_type": "code",
   "execution_count": null,
   "metadata": {},
   "outputs": [],
   "source": [
    "colnames <- c(\"Mig. stocks (log)\", \"Mig. flow (log)\", \"WVS\", \"Foursquare\", \"FB asym. (orig.)\", \"FB asym. (dest.)\", \"FB symm.\")\n",
    "\n",
    "# Scatter plot matrix with GGally\n",
    "ggpairs(gmodel_data_plot_corr, \n",
    "        columns = c(\"log10_m_stock\", \"log10_m_flow_da_pb_closed\", \"CS_wvs\", \"CS_foursquare\", \"CS_nonsymm_food_o\", \"CS_nonsymm_food_d\", \"CS_symm\"),\n",
    "        columnLabels = colnames,\n",
    "        upper = list(continuous = wrap('cor', size = 4, col=\"black\")),\n",
    "        lower = list(continuous = wrap(\"points\", size=0.8, alpha=0.4, pch=16)),\n",
    "        diag = list(continuous = wrap(\"densityDiag\", alpha = 0.1))) + \n",
    "\n",
    "theme(axis.text = element_text(size = 8)) + theme_bw()\n",
    "\n",
    "ggsave(\"figs/corr.png\", width = 8, height = 8)\n",
    "ggsave(\"figs/Vieira_Figure_1.eps\", width = 8, height = 8)"
   ]
  },
  {
   "cell_type": "code",
   "execution_count": null,
   "metadata": {},
   "outputs": [],
   "source": [
    "jpeg(\"figs/corr-top50.jpeg\", width = 900, height = 850, res=150, quality=100)\n",
    "\n",
    "options(repr.plot.width=10, repr.plot.height=5)\n",
    "\n",
    "# Correlation panel\n",
    "panel.cor <- function(x, y){\n",
    "    usr <- par(\"usr\"); on.exit(par(usr))\n",
    "    par(usr = c(0, 1, 0, 1))\n",
    "    r <- round(cor(x, y), digits=2)\n",
    "    txt <- paste0(\"R = \", r)\n",
    "    cex.cor <- 0.8/strwidth(txt)\n",
    "    text(0.5, 0.5, txt, 0.5)\n",
    "}\n",
    "# Customize upper panel\n",
    "upper.panel<-function(x, y){\n",
    "  points(x, y, lw=1)\n",
    "}\n",
    "# Create the plots\n",
    "pairs(~log10_m_flow_da_pb_closed + CS_wvs + CS_foursquare + CS_nonsymm_food_o + CS_nonsymm_food_d + CS_symm,\n",
    "      data=gmodel_data,\n",
    "      lower.panel = panel.cor,\n",
    "      upper.panel = upper.panel, \n",
    "     cex.labels=0.5)\n",
    "\n",
    "dev.off()"
   ]
  },
  {
   "cell_type": "markdown",
   "metadata": {},
   "source": [
    "## PLOT coefficients"
   ]
  },
  {
   "cell_type": "code",
   "execution_count": null,
   "metadata": {},
   "outputs": [],
   "source": [
    "options(repr.plot.width=7, repr.plot.height=5)\n",
    "\n",
    "dwplot((list(m_GDP_stocks$finalModel, m_history_stocks$finalModel, \n",
    "             m_fb_asym_history_stocks$finalModel, m_fb_sym_history_stocks$finalModel)),\n",
    "       vline = geom_vline(\n",
    "           xintercept = 0,\n",
    "           colour = \"grey60\",\n",
    "           linetype = 2\n",
    "        )) +\n",
    "# Setting `base_size` for fit the theme\n",
    "# No need to set `base_size` in most usage\n",
    "xlab(\"Coefficient Estimate\") + ylab(\"Independent Variables\") +\n",
    "geom_vline(xintercept = 0,\n",
    "           colour = \"grey60\",\n",
    "           linetype = 2) +\n",
    "ggtitle(\"Predicting Migration Flows\") +\n",
    "theme(\n",
    "        text = element_text(),\n",
    "        plot.title = element_text(face = \"bold\"),\n",
    "        legend.position = c(0.9, 0.2),\n",
    "        legend.background = element_rect(colour = \"grey80\"),\n",
    "        legend.title = element_blank()\n",
    "    ) + theme_bw()\n"
   ]
  },
  {
   "cell_type": "markdown",
   "metadata": {},
   "source": [
    "## PLOT expected vs. predicted"
   ]
  },
  {
   "cell_type": "code",
   "execution_count": null,
   "metadata": {},
   "outputs": [],
   "source": [
    "pm_expected <- gmodel_data$log10_m_flow_da_pb_closed\n",
    "#pm_baseline_stocks <- predict(m_baseline_stocks$finalModel)\n",
    "pm_GDP_stocks <- predict(m_GDP_stocks$finalModel)\n",
    "pm_fb_asym_GDP_stocks <- predict(m_fb_asym_GDP_stocks$finalModel)\n",
    "pm_fb_sym_GDP_stocks <- predict(m_fb_sym_GDP_stocks$finalModel)\n",
    "\n",
    "pm_history_stocks <- predict(m_history_stocks$finalModel)\n",
    "pm_fb_asym_history_stocks <- predict(m_fb_asym_history_stocks$finalModel)\n",
    "pm_fb_sym_history_stocks <- predict(m_fb_sym_history_stocks$finalModel)\n",
    "\n",
    "pm_wvs_history_stocks <- predict(m_wvs_history_stocks$finalModel)\n",
    "pm_fb_asym_stocks_no_foursquare <- predict(m_fb_asym_stocks_no_foursquare$finalModel)\n",
    "pm_fb_sym_stocks_no_foursquare <- predict(m_fb_sym_stocks_no_foursquare$finalModel)\n"
   ]
  },
  {
   "cell_type": "code",
   "execution_count": null,
   "metadata": {},
   "outputs": [],
   "source": [
    "gmodel_data <- gmodel_data %>% mutate (label = paste(iso_o, iso_d, sep=\"-\"))"
   ]
  },
  {
   "cell_type": "code",
   "execution_count": null,
   "metadata": {},
   "outputs": [],
   "source": [
    "png(\"figs/models.png\", width=3, height=2.5, units=\"in\", res=1000, pointsize=4)\n",
    "\n",
    "options(repr.plot.width=10, repr.plot.height=5)\n",
    "\n",
    "par(mfrow=c(3,3))\n",
    "\n",
    "color_mpidr = \"#ef7d00\"\n",
    "\n",
    "par(mar = c(4,4,4,4))\n",
    "plot(pm_expected, pm_GDP_stocks, main=\"Model 1:\\narea, population, distance, GDP,\\nand migrant stocks\", \n",
    "     xlim=c(-.5,7), ylim=c(-.5,7), xlab=\"\", ylab=\"log predicted migration flow\", cex.main=1, \n",
    "     col=rgb(red=0, green=0, blue=0, alpha=0.4), pch=19, cex=0.8)\n",
    "legend(1,1, bty=\"n\", legend=paste(\"adj-R² =\", format(summary(m_GDP_stocks)$adj.r.squared, digits=2)))\n",
    "segments(x0=-.5,y0=-.5,x1=7,y1=7, col = color_mpidr)\n",
    "\n",
    "plot(pm_expected, pm_fb_asym_GDP_stocks, main=\"Model 1 + Facebook asymmetric\", \n",
    "     xlim=c(-.5,7), ylim=c(-.5,7), xlab=\"\", ylab=\"\", cex.main=1, col=rgb(red=0, green=0, blue=0, alpha=0.4), pch=19, cex=0.8)\n",
    "legend(1.5,1, bty=\"n\", legend=paste(\"adj-R² =\", format(summary(m_fb_asym_GDP_stocks)$adj.r.squared, digits=2)))\n",
    "segments(x0=-.5,y0=-.5,x1=7,y1=7, col = color_mpidr)\n",
    "\n",
    "par(mar = c(4,4,4,4))\n",
    "plot(pm_expected, pm_fb_sym_GDP_stocks, main=\"Model 1 + Facebook symmetric\", \n",
    "     xlim=c(-.5,7), ylim=c(-.5,7), xlab=\"\", ylab=\"\", cex.main=1, col=rgb(red=0, green=0, blue=0, alpha=0.4), pch=19, cex=0.8)\n",
    "legend(1,1, bty=\"n\", legend=paste(\"adj-R² =\", format(summary(m_fb_sym_GDP_stocks)$adj.r.squared, digits=2)))\n",
    "segments(x0=-.5,y0=-.5,x1=7,y1=7, col = color_mpidr)\n",
    "\n",
    "#plot.new()\n",
    "par(mar = c(4,4,4,4))\n",
    "plot(pm_expected, pm_history_stocks, main=\"Model 2: Model 1\\n+shared language and history\", \n",
    "     xlim=c(-.5,7), ylim=c(-.5,7), xlab=\"\", ylab=\"log predicted migration flow\", cex.main=1, col=rgb(red=0, green=0, blue=0, alpha=0.4), pch=19, cex=0.8)\n",
    "legend(1,1, bty=\"n\", legend=paste(\"adj-R² =\", format(summary(m_history_stocks)$adj.r.squared, digits=2)))\n",
    "segments(x0=-.5,y0=-.5,x1=7,y1=7, col = color_mpidr)\n",
    "\n",
    "par(mar = c(4,4,4,4))\n",
    "plot(pm_expected, pm_fb_asym_history_stocks, main=\"Model 2 + Facebook asymmetric\", \n",
    "     xlim=c(-.5,7), ylim=c(-.5,7), xlab=\"\", ylab=\"\", cex.main=1, col=rgb(red=0, green=0, blue=0, alpha=0.4), pch=19, cex=0.8)\n",
    "legend(1,1, bty=\"n\", legend=paste(\"adj-R² =\", format(summary(m_fb_asym_history_stocks)$adj.r.squared, digits=2)))\n",
    "segments(x0=-.5,y0=-.5,x1=7,y1=7, col = color_mpidr)\n",
    "\n",
    "par(mar = c(4,4,4,4))\n",
    "plot(pm_expected, pm_fb_sym_history_stocks, main=\"Model 2 + Facebook symmetric\", \n",
    "     xlim=c(-.5,7), ylim=c(-.5,7), xlab=\"\", ylab=\"\", cex.main=1, col=rgb(red=0, green=0, blue=0, alpha=0.4), pch=19, cex=0.8)\n",
    "legend(1,1, bty=\"n\", legend=paste(\"adj-R² =\", format(summary(m_fb_sym_history_stocks)$adj.r.squared, digits=2)))\n",
    "segments(x0=-.5,y0=-.5,x1=7,y1=7, col = color_mpidr)\n",
    "\n",
    "par(mar = c(4,4,4,4))\n",
    "plot(pm_expected, pm_wvs_history_stocks, main=\"Model 3: Model 2\\n+WVS cultural similarity\", \n",
    "     xlim=c(-.5,7), ylim=c(-.5,7), xlab=\"log expected migration flow\", ylab=\"log predicted migration flow\", cex.main=1, col=rgb(red=0, green=0, blue=0, alpha=0.4), pch=19, cex=0.8)\n",
    "legend(1,1, bty=\"n\", legend=paste(\"adj-R² =\", format(summary(m_wvs_history_stocks)$adj.r.squared, digits=2)))\n",
    "segments(x0=-.5,y0=-.5,x1=7,y1=7, col = color_mpidr)\n",
    "\n",
    "par(mar = c(4,4,4,4))\n",
    "plot(pm_expected, pm_fb_asym_stocks_no_foursquare, main=\"Model 3 + Facebook asymmetric\", \n",
    "     xlim=c(-.5,7), ylim=c(-.5,7), xlab=\"log expected migration flow\", ylab=\"\", cex.main=1, col=rgb(red=0, green=0, blue=0, alpha=0.4), pch=19, cex=0.8)\n",
    "legend(1,1, bty=\"n\", legend=paste(\"adj-R² =\", format(summary(m_fb_asym_stocks_no_foursquare)$adj.r.squared, digits=2)))\n",
    "segments(x0=-.5,y0=-.5,x1=7,y1=7, col = color_mpidr)\n",
    "\n",
    "par(mar = c(4,4,4,4))\n",
    "plot(pm_expected, pm_fb_sym_stocks_no_foursquare, main=\"Model 3 + Facebook symmetric\", \n",
    "     xlim=c(-.5,7), ylim=c(-.5,7), xlab=\"log expected migration flow\", ylab=\"\", cex.main=1, col=rgb(red=0, green=0, blue=0, alpha=0.4), pch=19, cex=0.8)\n",
    "legend(1,1, bty=\"n\", legend=paste(\"adj-R² =\", format(summary(m_fb_sym_stocks_no_foursquare)$adj.r.squared, digits=2)))\n",
    "segments(x0=-.5,y0=-.5,x1=7,y1=7, col = color_mpidr)\n",
    "\n",
    "dev.off()\n"
   ]
  },
  {
   "cell_type": "code",
   "execution_count": null,
   "metadata": {},
   "outputs": [],
   "source": [
    "setEPS()\n",
    "postscript(\"figs/Vieira_Figure_2.eps\")\n",
    "\n",
    "options(repr.plot.width=10, repr.plot.height=8.5)\n",
    "\n",
    "par(mfrow=c(3,3))\n",
    "\n",
    "color_mpidr = \"#ef7d00\"\n",
    "\n",
    "par(mar = c(4,4,4,4))\n",
    "plot(pm_expected, pm_GDP_stocks, main=\"Model 1:\\narea, population, distance, GDP,\\nand migrant stocks\", \n",
    "     xlim=c(-.5,7), ylim=c(-.5,7), xlab=\"\", ylab=\"log predicted migration flow\", cex.main=1, \n",
    "     col=rgb(red=0, green=0, blue=0, alpha=1), pch=19, cex=0.8)\n",
    "legend(1,1, bty=\"n\", legend=paste(\"adj-R² =\", format(summary(m_GDP_stocks)$adj.r.squared, digits=2)))\n",
    "segments(x0=-.5,y0=-.5,x1=7,y1=7, col = color_mpidr)\n",
    "\n",
    "plot(pm_expected, pm_fb_asym_GDP_stocks, main=\"Model 1 + Facebook asymmetric\", \n",
    "     xlim=c(-.5,7), ylim=c(-.5,7), xlab=\"\", ylab=\"\", cex.main=1, col=rgb(red=0, green=0, blue=0, alpha=1), pch=19, cex=0.8)\n",
    "legend(1.5,1, bty=\"n\", legend=paste(\"adj-R² =\", format(summary(m_fb_asym_GDP_stocks)$adj.r.squared, digits=2)))\n",
    "segments(x0=-.5,y0=-.5,x1=7,y1=7, col = color_mpidr)\n",
    "\n",
    "par(mar = c(4,4,4,4))\n",
    "plot(pm_expected, pm_fb_sym_GDP_stocks, main=\"Model 1 + Facebook symmetric\", \n",
    "     xlim=c(-.5,7), ylim=c(-.5,7), xlab=\"\", ylab=\"\", cex.main=1, col=rgb(red=0, green=0, blue=0, alpha=1), pch=19, cex=0.8)\n",
    "legend(1,1, bty=\"n\", legend=paste(\"adj-R² =\", format(summary(m_fb_sym_GDP_stocks)$adj.r.squared, digits=2)))\n",
    "segments(x0=-.5,y0=-.5,x1=7,y1=7, col = color_mpidr)\n",
    "\n",
    "#plot.new()\n",
    "par(mar = c(4,4,4,4))\n",
    "plot(pm_expected, pm_history_stocks, main=\"Model 2: Model 1\\n+shared language and history\", \n",
    "     xlim=c(-.5,7), ylim=c(-.5,7), xlab=\"\", ylab=\"log predicted migration flow\", cex.main=1, col=rgb(red=0, green=0, blue=0, alpha=1), pch=19, cex=0.8)\n",
    "legend(1,1, bty=\"n\", legend=paste(\"adj-R² =\", format(summary(m_history_stocks)$adj.r.squared, digits=2)))\n",
    "segments(x0=-.5,y0=-.5,x1=7,y1=7, col = color_mpidr)\n",
    "\n",
    "par(mar = c(4,4,4,4))\n",
    "plot(pm_expected, pm_fb_asym_history_stocks, main=\"Model 2 + Facebook asymmetric\", \n",
    "     xlim=c(-.5,7), ylim=c(-.5,7), xlab=\"\", ylab=\"\", cex.main=1, col=rgb(red=0, green=0, blue=0, alpha=1), pch=19, cex=0.8)\n",
    "legend(1,1, bty=\"n\", legend=paste(\"adj-R² =\", format(summary(m_fb_asym_history_stocks)$adj.r.squared, digits=2)))\n",
    "segments(x0=-.5,y0=-.5,x1=7,y1=7, col = color_mpidr)\n",
    "\n",
    "par(mar = c(4,4,4,4))\n",
    "plot(pm_expected, pm_fb_sym_history_stocks, main=\"Model 2 + Facebook symmetric\", \n",
    "     xlim=c(-.5,7), ylim=c(-.5,7), xlab=\"\", ylab=\"\", cex.main=1, col=rgb(red=0, green=0, blue=0, alpha=1), pch=19, cex=0.8)\n",
    "legend(1,1, bty=\"n\", legend=paste(\"adj-R² =\", format(summary(m_fb_sym_history_stocks)$adj.r.squared, digits=2)))\n",
    "segments(x0=-.5,y0=-.5,x1=7,y1=7, col = color_mpidr)\n",
    "\n",
    "par(mar = c(4,4,4,4))\n",
    "plot(pm_expected, pm_wvs_history_stocks, main=\"Model 3: Model 2\\n+WVS cultural similarity\", \n",
    "     xlim=c(-.5,7), ylim=c(-.5,7), xlab=\"log expected migration flow\", ylab=\"log predicted migration flow\", cex.main=1, col=rgb(red=0, green=0, blue=0, alpha=1), pch=19, cex=0.8)\n",
    "legend(1,1, bty=\"n\", legend=paste(\"adj-R² =\", format(summary(m_wvs_history_stocks)$adj.r.squared, digits=2)))\n",
    "segments(x0=-.5,y0=-.5,x1=7,y1=7, col = color_mpidr)\n",
    "\n",
    "par(mar = c(4,4,4,4))\n",
    "plot(pm_expected, pm_fb_asym_stocks_no_foursquare, main=\"Model 3 + Facebook asymmetric\", \n",
    "     xlim=c(-.5,7), ylim=c(-.5,7), xlab=\"log expected migration flow\", ylab=\"\", cex.main=1, col=rgb(red=0, green=0, blue=0, alpha=1), pch=19, cex=0.8)\n",
    "legend(1,1, bty=\"n\", legend=paste(\"adj-R² =\", format(summary(m_fb_asym_stocks_no_foursquare)$adj.r.squared, digits=2)))\n",
    "segments(x0=-.5,y0=-.5,x1=7,y1=7, col = color_mpidr)\n",
    "\n",
    "par(mar = c(4,4,4,4))\n",
    "plot(pm_expected, pm_fb_sym_stocks_no_foursquare, main=\"Model 3 + Facebook symmetric\", \n",
    "     xlim=c(-.5,7), ylim=c(-.5,7), xlab=\"log expected migration flow\", ylab=\"\", cex.main=1, col=rgb(red=0, green=0, blue=0, alpha=1), pch=19, cex=0.8)\n",
    "legend(1,1, bty=\"n\", legend=paste(\"adj-R² =\", format(summary(m_fb_sym_stocks_no_foursquare)$adj.r.squared, digits=2)))\n",
    "segments(x0=-.5,y0=-.5,x1=7,y1=7, col = color_mpidr)\n",
    "\n",
    "dev.off()\n"
   ]
  },
  {
   "cell_type": "code",
   "execution_count": null,
   "metadata": {},
   "outputs": [],
   "source": []
  }
 ],
 "metadata": {
  "kernelspec": {
   "display_name": "R",
   "language": "R",
   "name": "ir"
  },
  "language_info": {
   "codemirror_mode": "r",
   "file_extension": ".r",
   "mimetype": "text/x-r-source",
   "name": "R",
   "pygments_lexer": "r",
   "version": "4.1.0"
  }
 },
 "nbformat": 4,
 "nbformat_minor": 4
}
